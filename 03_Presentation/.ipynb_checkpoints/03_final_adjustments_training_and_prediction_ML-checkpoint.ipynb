{
 "cells": [
  {
   "cell_type": "code",
   "execution_count": 1,
   "metadata": {},
   "outputs": [
    {
     "name": "stdout",
     "output_type": "stream",
     "text": [
      "dom dic  1 22:39:27 CET 2019\r\n"
     ]
    }
   ],
   "source": [
    "!date"
   ]
  },
  {
   "cell_type": "code",
   "execution_count": 2,
   "metadata": {},
   "outputs": [
    {
     "name": "stdout",
     "output_type": "stream",
     "text": [
      "\n",
      "Automagic is ON, % prefix IS NOT needed for line magics.\n"
     ]
    }
   ],
   "source": [
    "# Active system's automagic\n",
    "%automagic on"
   ]
  },
  {
   "cell_type": "code",
   "execution_count": 3,
   "metadata": {},
   "outputs": [],
   "source": [
    "# Load work environment"
   ]
  },
  {
   "cell_type": "code",
   "execution_count": 4,
   "metadata": {},
   "outputs": [
    {
     "data": {
      "text/plain": [
       "'/home/dsc/Repos/TFM_Accident_reduction_plan_in_the_city_of_Madrid/03_Presentation'"
      ]
     },
     "execution_count": 4,
     "metadata": {},
     "output_type": "execute_result"
    }
   ],
   "source": [
    "import os\n",
    "os.getcwd()"
   ]
  },
  {
   "cell_type": "code",
   "execution_count": 5,
   "metadata": {},
   "outputs": [
    {
     "name": "stdout",
     "output_type": "stream",
     "text": [
      "01_loading_and_preprocessing_original_data_sample.ipynb\r\n",
      "01_OUT_csv_filesexport_df_series_tiempo.csv\r\n",
      "02_loading_and_preprocessing_original_data_complete.ipynb\r\n",
      "02_OUT_csv_filesexport_datos_accs_madrid.csv\r\n",
      "02_OUT_csv_filesexport_time_series_complete.csv\r\n",
      "03_final_adjustments_training_and_prediction_ML.ipynb\r\n"
     ]
    }
   ],
   "source": [
    "folder = '/home/dsc/Repos/TFM_Accident_reduction_plan_in_the_city_of_Madrid/03_Presentation'\n",
    "!ls {folder}"
   ]
  },
  {
   "cell_type": "code",
   "execution_count": 6,
   "metadata": {},
   "outputs": [
    {
     "data": {
      "text/plain": [
       "'/home/dsc/Repos/TFM_Accident_reduction_plan_in_the_city_of_Madrid/03_Presentation'"
      ]
     },
     "execution_count": 6,
     "metadata": {},
     "output_type": "execute_result"
    }
   ],
   "source": [
    "os.chdir(folder)\n",
    "os.getcwd()"
   ]
  },
  {
   "cell_type": "code",
   "execution_count": 7,
   "metadata": {},
   "outputs": [
    {
     "name": "stdout",
     "output_type": "stream",
     "text": [
      "-rw-rw-r-- 1 dsc dsc 24017454 dic  1 20:36 02_OUT_csv_filesexport_datos_accs_madrid.csv\r\n"
     ]
    }
   ],
   "source": [
    "!ls -ltr 02_OUT_csv_filesexport_datos_accs_madrid.csv"
   ]
  },
  {
   "cell_type": "code",
   "execution_count": 8,
   "metadata": {},
   "outputs": [],
   "source": [
    "# Load library for work and analitics data in ML\n",
    "import pandas as pd\n",
    "import numpy as np\n",
    "from sklearn import linear_model\n",
    "from sklearn import model_selection\n",
    "from sklearn.metrics import classification_report\n",
    "from sklearn.metrics import confusion_matrix\n",
    "from sklearn.metrics import accuracy_score\n",
    "import matplotlib.pyplot as plt\n",
    "import seaborn as sb\n",
    "%matplotlib inline"
   ]
  },
  {
   "cell_type": "code",
   "execution_count": 9,
   "metadata": {},
   "outputs": [],
   "source": [
    "df_accs = pd.read_csv(\"02_OUT_csv_filesexport_datos_accs_madrid.csv\")"
   ]
  },
  {
   "cell_type": "code",
   "execution_count": 10,
   "metadata": {},
   "outputs": [
    {
     "data": {
      "text/plain": [
       "(252998, 11)"
      ]
     },
     "execution_count": 10,
     "metadata": {},
     "output_type": "execute_result"
    }
   ],
   "source": [
    "# Initial Exploratory Analysis\n",
    "# Now let's see how many columns and records we have:\n",
    "df_accs.shape"
   ]
  },
  {
   "cell_type": "code",
   "execution_count": 11,
   "metadata": {},
   "outputs": [
    {
     "data": {
      "text/html": [
       "<div>\n",
       "<style scoped>\n",
       "    .dataframe tbody tr th:only-of-type {\n",
       "        vertical-align: middle;\n",
       "    }\n",
       "\n",
       "    .dataframe tbody tr th {\n",
       "        vertical-align: top;\n",
       "    }\n",
       "\n",
       "    .dataframe thead th {\n",
       "        text-align: right;\n",
       "    }\n",
       "</style>\n",
       "<table border=\"1\" class=\"dataframe\">\n",
       "  <thead>\n",
       "    <tr style=\"text-align: right;\">\n",
       "      <th></th>\n",
       "      <th>FECHA</th>\n",
       "      <th>HORA</th>\n",
       "      <th>DIA_SEMANA</th>\n",
       "      <th>DISTRITO</th>\n",
       "      <th>NUM_PERSONAS</th>\n",
       "      <th>TIPO_ACCIDENTE</th>\n",
       "      <th>TIPO_VEHICULO</th>\n",
       "      <th>TIPO_PERSONA</th>\n",
       "      <th>SEXO</th>\n",
       "      <th>LESIVIDAD</th>\n",
       "      <th>EDAD_APROX</th>\n",
       "    </tr>\n",
       "  </thead>\n",
       "  <tbody>\n",
       "    <tr>\n",
       "      <th>0</th>\n",
       "      <td>01/01/2010</td>\n",
       "      <td>00:00</td>\n",
       "      <td>VIERNES</td>\n",
       "      <td>CHAMARTIN</td>\n",
       "      <td>1</td>\n",
       "      <td>COLISION_DOBLE</td>\n",
       "      <td>TURISMO</td>\n",
       "      <td>CONDUCTOR</td>\n",
       "      <td>HOMBRE</td>\n",
       "      <td>INGRESO_LEVE</td>\n",
       "      <td>20</td>\n",
       "    </tr>\n",
       "    <tr>\n",
       "      <th>1</th>\n",
       "      <td>01/01/2010</td>\n",
       "      <td>00:00</td>\n",
       "      <td>VIERNES</td>\n",
       "      <td>CHAMARTIN</td>\n",
       "      <td>1</td>\n",
       "      <td>COLISION_DOBLE</td>\n",
       "      <td>TURISMO</td>\n",
       "      <td>CONDUCTOR</td>\n",
       "      <td>HOMBRE</td>\n",
       "      <td>INGRESO_LEVE</td>\n",
       "      <td>50</td>\n",
       "    </tr>\n",
       "    <tr>\n",
       "      <th>2</th>\n",
       "      <td>01/01/2010</td>\n",
       "      <td>00:00</td>\n",
       "      <td>VIERNES</td>\n",
       "      <td>CHAMARTIN</td>\n",
       "      <td>1</td>\n",
       "      <td>COLISION_DOBLE</td>\n",
       "      <td>TURISMO</td>\n",
       "      <td>VIAJERO</td>\n",
       "      <td>MUJER</td>\n",
       "      <td>HERIDO_LEVE</td>\n",
       "      <td>40</td>\n",
       "    </tr>\n",
       "  </tbody>\n",
       "</table>\n",
       "</div>"
      ],
      "text/plain": [
       "        FECHA   HORA DIA_SEMANA   DISTRITO  NUM_PERSONAS  TIPO_ACCIDENTE  \\\n",
       "0  01/01/2010  00:00    VIERNES  CHAMARTIN             1  COLISION_DOBLE   \n",
       "1  01/01/2010  00:00    VIERNES  CHAMARTIN             1  COLISION_DOBLE   \n",
       "2  01/01/2010  00:00    VIERNES  CHAMARTIN             1  COLISION_DOBLE   \n",
       "\n",
       "  TIPO_VEHICULO TIPO_PERSONA    SEXO     LESIVIDAD EDAD_APROX  \n",
       "0       TURISMO    CONDUCTOR  HOMBRE  INGRESO_LEVE         20  \n",
       "1       TURISMO    CONDUCTOR  HOMBRE  INGRESO_LEVE         50  \n",
       "2       TURISMO      VIAJERO   MUJER   HERIDO_LEVE         40  "
      ]
     },
     "execution_count": 11,
     "metadata": {},
     "output_type": "execute_result"
    }
   ],
   "source": [
    "df_accs.head(3)"
   ]
  },
  {
   "cell_type": "code",
   "execution_count": 12,
   "metadata": {},
   "outputs": [
    {
     "data": {
      "text/plain": [
       "FECHA             object\n",
       "HORA              object\n",
       "DIA_SEMANA        object\n",
       "DISTRITO          object\n",
       "NUM_PERSONAS       int64\n",
       "TIPO_ACCIDENTE    object\n",
       "TIPO_VEHICULO     object\n",
       "TIPO_PERSONA      object\n",
       "SEXO              object\n",
       "LESIVIDAD         object\n",
       "EDAD_APROX        object\n",
       "dtype: object"
      ]
     },
     "execution_count": 12,
     "metadata": {},
     "output_type": "execute_result"
    }
   ],
   "source": [
    "df_accs.dtypes"
   ]
  },
  {
   "cell_type": "code",
   "execution_count": 13,
   "metadata": {},
   "outputs": [],
   "source": [
    "# Delete surplus columns\n",
    "drop_elements = ['FECHA', 'NUM_PERSONAS', 'TIPO_ACCIDENTE', 'TIPO_VEHICULO', 'TIPO_PERSONA', 'LESIVIDAD']\n",
    "df_accs = df_accs.drop(drop_elements, axis = 1)"
   ]
  },
  {
   "cell_type": "code",
   "execution_count": 14,
   "metadata": {},
   "outputs": [],
   "source": [
    "# Some visualizations to better understand the data.\n",
    "# Look at label balancing"
   ]
  },
  {
   "cell_type": "code",
   "execution_count": 15,
   "metadata": {},
   "outputs": [
    {
     "data": {
      "text/plain": [
       "HORA          0\n",
       "DIA_SEMANA    0\n",
       "DISTRITO      0\n",
       "SEXO          0\n",
       "EDAD_APROX    0\n",
       "dtype: int64"
      ]
     },
     "execution_count": 15,
     "metadata": {},
     "output_type": "execute_result"
    }
   ],
   "source": [
    "# Check NULL values\n",
    "df_accs.isnull().sum()"
   ]
  },
  {
   "cell_type": "code",
   "execution_count": 16,
   "metadata": {},
   "outputs": [],
   "source": [
    "# Group data columns individually per size"
   ]
  },
  {
   "cell_type": "code",
   "execution_count": 17,
   "metadata": {},
   "outputs": [
    {
     "data": {
      "text/plain": [
       "HORA\n",
       "00:00     4729\n",
       "01:00     3602\n",
       "02:00     2776\n",
       "03:00     2431\n",
       "04:00     2131\n",
       "05:00     2225\n",
       "06:00     3992\n",
       "07:00     6428\n",
       "08:00    11759\n",
       "09:00    14348\n",
       "10:00    11561\n",
       "11:00    12492\n",
       "12:00    14473\n",
       "13:00    15921\n",
       "14:00    18232\n",
       "15:00    14557\n",
       "16:00    13590\n",
       "17:00    14137\n",
       "18:00    16259\n",
       "19:00    18049\n",
       "20:00    17244\n",
       "21:00    14113\n",
       "22:00    10758\n",
       "23:00     7191\n",
       "dtype: int64"
      ]
     },
     "execution_count": 17,
     "metadata": {},
     "output_type": "execute_result"
    }
   ],
   "source": [
    "df_accs.groupby('HORA').size()"
   ]
  },
  {
   "cell_type": "code",
   "execution_count": 18,
   "metadata": {},
   "outputs": [
    {
     "data": {
      "text/plain": [
       "DIA_SEMANA\n",
       "DOMINGO      27249\n",
       "JUEVES       38794\n",
       "LUNES        36301\n",
       "MARTES       37707\n",
       "MIERCOLES    38697\n",
       "SABADO       30798\n",
       "VIERNES      43452\n",
       "dtype: int64"
      ]
     },
     "execution_count": 18,
     "metadata": {},
     "output_type": "execute_result"
    }
   ],
   "source": [
    "df_accs.groupby('DIA_SEMANA').size()"
   ]
  },
  {
   "cell_type": "code",
   "execution_count": 19,
   "metadata": {},
   "outputs": [
    {
     "data": {
      "text/plain": [
       "DISTRITO\n",
       "ARGANZUELA             13050\n",
       "BARAJAS                 3402\n",
       "CARABANCHEL            15593\n",
       "CENTRO                 17717\n",
       "CHAMARTIN              18857\n",
       "CHAMBERI               14466\n",
       "CIUDAD LINEAL          16580\n",
       "FUENCARRAL-EL PARDO    13750\n",
       "HORTALEZA               8546\n",
       "LATINA                 12218\n",
       "MONCLOA-ARAVACA        13587\n",
       "MORATALAZ               6246\n",
       "PUENTE DE VALLECAS     16180\n",
       "RETIRO                 13665\n",
       "SALAMANCA              19269\n",
       "SAN BLAS               11987\n",
       "TETUAN                 13626\n",
       "USERA                   8808\n",
       "VICALVARO               3142\n",
       "VILLA DE VALLECAS       5601\n",
       "VILLAVERDE              6708\n",
       "dtype: int64"
      ]
     },
     "execution_count": 19,
     "metadata": {},
     "output_type": "execute_result"
    }
   ],
   "source": [
    "df_accs.groupby('DISTRITO').size()"
   ]
  },
  {
   "cell_type": "code",
   "execution_count": 20,
   "metadata": {},
   "outputs": [
    {
     "data": {
      "text/plain": [
       "SEXO\n",
       "HOMBRE         160165\n",
       "MUJER           80717\n",
       "NO_ASIGNADO     12116\n",
       "dtype: int64"
      ]
     },
     "execution_count": 20,
     "metadata": {},
     "output_type": "execute_result"
    }
   ],
   "source": [
    "df_accs.groupby('SEXO').size()"
   ]
  },
  {
   "cell_type": "code",
   "execution_count": 21,
   "metadata": {},
   "outputs": [
    {
     "data": {
      "text/plain": [
       "EDAD_APROX\n",
       "0               3128\n",
       "10              5124\n",
       "15              2593\n",
       "20              9304\n",
       "25             49329\n",
       "30             31110\n",
       "35             30169\n",
       "40             26421\n",
       "45             22167\n",
       "50             17999\n",
       "55             12454\n",
       "65             13459\n",
       "70              3656\n",
       "75              6361\n",
       "NO_ASIGNADO    19724\n",
       "dtype: int64"
      ]
     },
     "execution_count": 21,
     "metadata": {},
     "output_type": "execute_result"
    }
   ],
   "source": [
    "df_accs.groupby('EDAD_APROX').size()"
   ]
  },
  {
   "cell_type": "code",
   "execution_count": 22,
   "metadata": {},
   "outputs": [],
   "source": [
    "# Review how many rows are there according to \"DIA_SEMANA\", how central variable."
   ]
  },
  {
   "cell_type": "code",
   "execution_count": 23,
   "metadata": {},
   "outputs": [
    {
     "data": {
      "text/plain": [
       "Index(['HORA', 'DIA_SEMANA', 'DISTRITO', 'SEXO', 'EDAD_APROX'], dtype='object')"
      ]
     },
     "execution_count": 23,
     "metadata": {},
     "output_type": "execute_result"
    }
   ],
   "source": [
    "df_accs.columns"
   ]
  },
  {
   "cell_type": "code",
   "execution_count": 24,
   "metadata": {},
   "outputs": [],
   "source": [
    "# Draw the columns individually by grouped size counter and per pairs"
   ]
  },
  {
   "cell_type": "code",
   "execution_count": 25,
   "metadata": {},
   "outputs": [
    {
     "data": {
      "text/plain": [
       "<seaborn.axisgrid.FacetGrid at 0x7f88382e5be0>"
      ]
     },
     "execution_count": 25,
     "metadata": {},
     "output_type": "execute_result"
    },
    {
     "data": {
      "image/png": "[encoded data removed]",
      "text/plain": [
       "<Figure size 360x360 with 1 Axes>"
      ]
     },
     "metadata": {
      "needs_background": "light"
     },
     "output_type": "display_data"
    }
   ],
   "source": [
    "sb.catplot('HORA',data=df_accs,kind=\"count\", \\\n",
    "           order=['00:00', '01:00', '02:00', '03:00', '04:00', '05:00', \\\n",
    "                  '06:00', '07:00', '08:00', '09:00', '10:00', '11:00', \\\n",
    "                  '12:00', '13:00', '14:00', '15:00', '16:00', '17:00', \\\n",
    "                  '18:00', '19:00', '20:00', '21:00', '22:00', '23:00']\n",
    "          )"
   ]
  },
  {
   "cell_type": "code",
   "execution_count": 26,
   "metadata": {},
   "outputs": [
    {
     "data": {
      "text/plain": [
       "<seaborn.axisgrid.FacetGrid at 0x7f88063aae80>"
      ]
     },
     "execution_count": 26,
     "metadata": {},
     "output_type": "execute_result"
    },
    {
     "data": {
      "image/png": "[encoded data removed]",
      "text/plain": [
       "<Figure size 360x360 with 1 Axes>"
      ]
     },
     "metadata": {
      "needs_background": "light"
     },
     "output_type": "display_data"
    }
   ],
   "source": [
    "sb.catplot('DIA_SEMANA',data=df_accs,kind=\"count\", \\\n",
    "           order=['LUNES', 'MARTES', 'MIERCOLES', 'JUEVES', 'VIERNES', 'SABADO', 'DOMINGO']\n",
    "          )"
   ]
  },
  {
   "cell_type": "code",
   "execution_count": 27,
   "metadata": {},
   "outputs": [
    {
     "data": {
      "text/plain": [
       "<seaborn.axisgrid.FacetGrid at 0x7f88074dddd8>"
      ]
     },
     "execution_count": 27,
     "metadata": {},
     "output_type": "execute_result"
    },
    {
     "data": {
      "image/png": "[encoded data removed]",
      "text/plain": [
       "<Figure size 360x360 with 1 Axes>"
      ]
     },
     "metadata": {
      "needs_background": "light"
     },
     "output_type": "display_data"
    }
   ],
   "source": [
    "sb.catplot('DISTRITO',data=df_accs,kind=\"count\", \\\n",
    "           order = ['ARGANZUELA', 'BARAJAS', 'CARABANCHEL', 'CENTRO', 'CHAMARTIN', \\\n",
    "                    'CHAMBERI', 'CIUDAD LINEAL', 'FUENCARRAL-EL PARDO', 'HORTALEZA', \\\n",
    "                    'LATINA', 'MONCLOA-ARAVACA', 'MORATALAZ', 'PUENTE DE VALLECAS', \\\n",
    "                    'RETIRO', 'SAN BLAS', 'SALAMANCA', 'TETUAN', 'USERA', 'VICALVARO', \\\n",
    "                    'VILLA DE VALLECAS', 'VILLAVERDE']\n",
    "          )"
   ]
  },
  {
   "cell_type": "code",
   "execution_count": 28,
   "metadata": {},
   "outputs": [
    {
     "data": {
      "text/plain": [
       "<seaborn.axisgrid.FacetGrid at 0x7f880741cda0>"
      ]
     },
     "execution_count": 28,
     "metadata": {},
     "output_type": "execute_result"
    },
    {
     "data": {
      "image/png": "[encoded data removed]",
      "text/plain": [
       "<Figure size 360x360 with 1 Axes>"
      ]
     },
     "metadata": {
      "needs_background": "light"
     },
     "output_type": "display_data"
    }
   ],
   "source": [
    "sb.catplot('SEXO',data=df_accs,kind=\"count\", \\\n",
    "           order = ['HOMBRE', 'MUJER', 'NO_ASIGNADO']\n",
    "          )"
   ]
  },
  {
   "cell_type": "code",
   "execution_count": 29,
   "metadata": {},
   "outputs": [
    {
     "data": {
      "text/plain": [
       "<seaborn.axisgrid.FacetGrid at 0x7f88073ed630>"
      ]
     },
     "execution_count": 29,
     "metadata": {},
     "output_type": "execute_result"
    },
    {
     "data": {
      "image/png": "[encoded data removed]",
      "text/plain": [
       "<Figure size 360x360 with 1 Axes>"
      ]
     },
     "metadata": {
      "needs_background": "light"
     },
     "output_type": "display_data"
    }
   ],
   "source": [
    "sb.catplot('EDAD_APROX',data=df_accs,kind=\"count\", \\\n",
    "           order = ['0', '5', '10', '15', '20', '25', '30', '35', '40', '45', '50', \\\n",
    "                    '55', '60', '65', '70', '75', '80', '85', '90', '95', '100', \\\n",
    "                    '105', '110', '115', '120', '125', 'NO_ASIGNADO']\n",
    "          )"
   ]
  },
  {
   "cell_type": "code",
   "execution_count": 30,
   "metadata": {},
   "outputs": [
    {
     "data": {
      "text/plain": [
       "Index(['HORA', 'DIA_SEMANA', 'DISTRITO', 'SEXO', 'EDAD_APROX'], dtype='object')"
      ]
     },
     "execution_count": 30,
     "metadata": {},
     "output_type": "execute_result"
    }
   ],
   "source": [
    "df_accs.columns"
   ]
  },
  {
   "cell_type": "code",
   "execution_count": 31,
   "metadata": {},
   "outputs": [
    {
     "data": {
      "text/plain": [
       "<seaborn.axisgrid.FacetGrid at 0x7f88072e1d68>"
      ]
     },
     "execution_count": 31,
     "metadata": {},
     "output_type": "execute_result"
    },
    {
     "data": {
      "image/png": "[encoded data removed]",
      "text/plain": [
       "<Figure size 516.5x360 with 1 Axes>"
      ]
     },
     "metadata": {
      "needs_background": "light"
     },
     "output_type": "display_data"
    }
   ],
   "source": [
    "sb.catplot('HORA',data=df_accs,hue='DISTRITO',kind=\"count\")"
   ]
  },
  {
   "cell_type": "code",
   "execution_count": 32,
   "metadata": {},
   "outputs": [
    {
     "data": {
      "text/plain": [
       "<seaborn.axisgrid.FacetGrid at 0x7f8806de61d0>"
      ]
     },
     "execution_count": 32,
     "metadata": {},
     "output_type": "execute_result"
    },
    {
     "data": {
      "image/png": "[encoded data removed]",
      "text/plain": [
       "<Figure size 453.25x360 with 1 Axes>"
      ]
     },
     "metadata": {
      "needs_background": "light"
     },
     "output_type": "display_data"
    }
   ],
   "source": [
    "sb.catplot('HORA',data=df_accs,hue='DIA_SEMANA',kind=\"count\")"
   ]
  },
  {
   "cell_type": "code",
   "execution_count": 33,
   "metadata": {},
   "outputs": [
    {
     "data": {
      "text/plain": [
       "<seaborn.axisgrid.FacetGrid at 0x7f8806b8ec88>"
      ]
     },
     "execution_count": 33,
     "metadata": {},
     "output_type": "execute_result"
    },
    {
     "data": {
      "image/png": "[encoded data removed]",
      "text/plain": [
       "<Figure size 516.5x360 with 1 Axes>"
      ]
     },
     "metadata": {
      "needs_background": "light"
     },
     "output_type": "display_data"
    }
   ],
   "source": [
    "sb.catplot('DIA_SEMANA',data=df_accs,hue='DISTRITO',kind=\"count\")"
   ]
  },
  {
   "cell_type": "code",
   "execution_count": 34,
   "metadata": {},
   "outputs": [
    {
     "data": {
      "text/plain": [
       "<seaborn.axisgrid.FacetGrid at 0x7f8806988400>"
      ]
     },
     "execution_count": 34,
     "metadata": {},
     "output_type": "execute_result"
    },
    {
     "data": {
      "image/png": "[encoded data removed]",
      "text/plain": [
       "<Figure size 453.25x360 with 1 Axes>"
      ]
     },
     "metadata": {
      "needs_background": "light"
     },
     "output_type": "display_data"
    }
   ],
   "source": [
    "sb.catplot('DISTRITO',data=df_accs,hue='DIA_SEMANA',kind=\"count\")"
   ]
  },
  {
   "cell_type": "code",
   "execution_count": 35,
   "metadata": {},
   "outputs": [
    {
     "data": {
      "text/plain": [
       "<seaborn.axisgrid.FacetGrid at 0x7f880676c898>"
      ]
     },
     "execution_count": 35,
     "metadata": {},
     "output_type": "execute_result"
    },
    {
     "data": {
      "image/png": "[encoded data removed]",
      "text/plain": [
       "<Figure size 516.5x360 with 1 Axes>"
      ]
     },
     "metadata": {
      "needs_background": "light"
     },
     "output_type": "display_data"
    }
   ],
   "source": [
    "sb.catplot('SEXO',data=df_accs,hue='DISTRITO',kind=\"count\")"
   ]
  },
  {
   "cell_type": "code",
   "execution_count": 36,
   "metadata": {},
   "outputs": [
    {
     "data": {
      "text/plain": [
       "<seaborn.axisgrid.FacetGrid at 0x7f88067804e0>"
      ]
     },
     "execution_count": 36,
     "metadata": {},
     "output_type": "execute_result"
    },
    {
     "data": {
      "image/png": "[encoded data removed]",
      "text/plain": [
       "<Figure size 453.25x360 with 1 Axes>"
      ]
     },
     "metadata": {
      "needs_background": "light"
     },
     "output_type": "display_data"
    }
   ],
   "source": [
    "sb.catplot('SEXO',data=df_accs,hue='DIA_SEMANA',kind=\"count\")"
   ]
  },
  {
   "cell_type": "code",
   "execution_count": 37,
   "metadata": {},
   "outputs": [
    {
     "data": {
      "text/plain": [
       "<seaborn.axisgrid.FacetGrid at 0x7f88067b4438>"
      ]
     },
     "execution_count": 37,
     "metadata": {},
     "output_type": "execute_result"
    },
    {
     "data": {
      "image/png": "[encoded data removed]",
      "text/plain": [
       "<Figure size 516.5x360 with 1 Axes>"
      ]
     },
     "metadata": {
      "needs_background": "light"
     },
     "output_type": "display_data"
    }
   ],
   "source": [
    "sb.catplot('EDAD_APROX',data=df_accs,hue='DISTRITO',kind=\"count\")"
   ]
  },
  {
   "cell_type": "code",
   "execution_count": 38,
   "metadata": {},
   "outputs": [
    {
     "data": {
      "text/plain": [
       "<seaborn.axisgrid.FacetGrid at 0x7f880618d240>"
      ]
     },
     "execution_count": 38,
     "metadata": {},
     "output_type": "execute_result"
    },
    {
     "data": {
      "image/png": "[encoded data removed]",
      "text/plain": [
       "<Figure size 453.25x360 with 1 Axes>"
      ]
     },
     "metadata": {
      "needs_background": "light"
     },
     "output_type": "display_data"
    }
   ],
   "source": [
    "sb.catplot('EDAD_APROX',data=df_accs,hue='DIA_SEMANA',kind=\"count\")"
   ]
  },
  {
   "cell_type": "code",
   "execution_count": 39,
   "metadata": {},
   "outputs": [],
   "source": [
    "# Draw some dispersion graph for columns pairs to visualize the lack of information"
   ]
  },
  {
   "cell_type": "code",
   "execution_count": 40,
   "metadata": {},
   "outputs": [
    {
     "data": {
      "image/png": "[encoded data removed]",
      "text/plain": [
       "<Figure size 432x288 with 1 Axes>"
      ]
     },
     "metadata": {
      "needs_background": "light"
     },
     "output_type": "display_data"
    }
   ],
   "source": [
    "plt.scatter(df_accs['DIA_SEMANA'].values, df_accs['DISTRITO'].values)\n",
    "plt.show()"
   ]
  },
  {
   "cell_type": "code",
   "execution_count": 41,
   "metadata": {},
   "outputs": [
    {
     "data": {
      "image/png": "[encoded data removed]",
      "text/plain": [
       "<Figure size 432x288 with 1 Axes>"
      ]
     },
     "metadata": {
      "needs_background": "light"
     },
     "output_type": "display_data"
    }
   ],
   "source": [
    "plt.scatter(df_accs['DISTRITO'].values, df_accs['SEXO'].values)\n",
    "plt.show()"
   ]
  },
  {
   "cell_type": "code",
   "execution_count": 42,
   "metadata": {},
   "outputs": [
    {
     "data": {
      "image/png": "[encoded data removed]",
      "text/plain": [
       "<Figure size 432x288 with 1 Axes>"
      ]
     },
     "metadata": {
      "needs_background": "light"
     },
     "output_type": "display_data"
    }
   ],
   "source": [
    "plt.scatter(df_accs['DIA_SEMANA'].values, df_accs['SEXO'].values)\n",
    "plt.show()"
   ]
  },
  {
   "cell_type": "code",
   "execution_count": 43,
   "metadata": {},
   "outputs": [
    {
     "data": {
      "image/png": "[encoded data removed]",
      "text/plain": [
       "<Figure size 432x288 with 1 Axes>"
      ]
     },
     "metadata": {
      "needs_background": "light"
     },
     "output_type": "display_data"
    }
   ],
   "source": [
    "plt.scatter(df_accs['DISTRITO'].values, df_accs['EDAD_APROX'].values)\n",
    "plt.show()"
   ]
  },
  {
   "cell_type": "code",
   "execution_count": 44,
   "metadata": {},
   "outputs": [
    {
     "data": {
      "image/png": "[encoded data removed]",
      "text/plain": [
       "<Figure size 432x288 with 1 Axes>"
      ]
     },
     "metadata": {
      "needs_background": "light"
     },
     "output_type": "display_data"
    }
   ],
   "source": [
    "plt.scatter(df_accs['DIA_SEMANA'].values, df_accs['EDAD_APROX'].values)\n",
    "plt.show()"
   ]
  },
  {
   "cell_type": "code",
   "execution_count": 45,
   "metadata": {},
   "outputs": [],
   "source": [
    "# Data mapping"
   ]
  },
  {
   "cell_type": "code",
   "execution_count": 46,
   "metadata": {},
   "outputs": [],
   "source": [
    "df_accs_lab_ohe = df_accs.reset_index(drop=True).copy()"
   ]
  },
  {
   "cell_type": "code",
   "execution_count": 47,
   "metadata": {},
   "outputs": [
    {
     "data": {
      "text/html": [
       "<div>\n",
       "<style scoped>\n",
       "    .dataframe tbody tr th:only-of-type {\n",
       "        vertical-align: middle;\n",
       "    }\n",
       "\n",
       "    .dataframe tbody tr th {\n",
       "        vertical-align: top;\n",
       "    }\n",
       "\n",
       "    .dataframe thead th {\n",
       "        text-align: right;\n",
       "    }\n",
       "</style>\n",
       "<table border=\"1\" class=\"dataframe\">\n",
       "  <thead>\n",
       "    <tr style=\"text-align: right;\">\n",
       "      <th></th>\n",
       "      <th>HORA</th>\n",
       "      <th>DIA_SEMANA</th>\n",
       "      <th>DISTRITO</th>\n",
       "      <th>SEXO</th>\n",
       "      <th>EDAD_APROX</th>\n",
       "    </tr>\n",
       "  </thead>\n",
       "  <tbody>\n",
       "    <tr>\n",
       "      <th>0</th>\n",
       "      <td>00:00</td>\n",
       "      <td>VIERNES</td>\n",
       "      <td>CHAMARTIN</td>\n",
       "      <td>HOMBRE</td>\n",
       "      <td>20</td>\n",
       "    </tr>\n",
       "  </tbody>\n",
       "</table>\n",
       "</div>"
      ],
      "text/plain": [
       "    HORA DIA_SEMANA   DISTRITO    SEXO EDAD_APROX\n",
       "0  00:00    VIERNES  CHAMARTIN  HOMBRE         20"
      ]
     },
     "execution_count": 47,
     "metadata": {},
     "output_type": "execute_result"
    }
   ],
   "source": [
    "df_accs.head(1)"
   ]
  },
  {
   "cell_type": "code",
   "execution_count": 48,
   "metadata": {},
   "outputs": [
    {
     "data": {
      "text/html": [
       "<div>\n",
       "<style scoped>\n",
       "    .dataframe tbody tr th:only-of-type {\n",
       "        vertical-align: middle;\n",
       "    }\n",
       "\n",
       "    .dataframe tbody tr th {\n",
       "        vertical-align: top;\n",
       "    }\n",
       "\n",
       "    .dataframe thead th {\n",
       "        text-align: right;\n",
       "    }\n",
       "</style>\n",
       "<table border=\"1\" class=\"dataframe\">\n",
       "  <thead>\n",
       "    <tr style=\"text-align: right;\">\n",
       "      <th></th>\n",
       "      <th>HORA</th>\n",
       "      <th>DIA_SEMANA</th>\n",
       "      <th>DISTRITO</th>\n",
       "      <th>SEXO</th>\n",
       "      <th>EDAD_APROX</th>\n",
       "    </tr>\n",
       "  </thead>\n",
       "  <tbody>\n",
       "    <tr>\n",
       "      <th>0</th>\n",
       "      <td>00:00</td>\n",
       "      <td>VIERNES</td>\n",
       "      <td>CHAMARTIN</td>\n",
       "      <td>HOMBRE</td>\n",
       "      <td>20</td>\n",
       "    </tr>\n",
       "  </tbody>\n",
       "</table>\n",
       "</div>"
      ],
      "text/plain": [
       "    HORA DIA_SEMANA   DISTRITO    SEXO EDAD_APROX\n",
       "0  00:00    VIERNES  CHAMARTIN  HOMBRE         20"
      ]
     },
     "execution_count": 48,
     "metadata": {},
     "output_type": "execute_result"
    }
   ],
   "source": [
    "df_accs_lab_ohe.head(1)"
   ]
  },
  {
   "cell_type": "code",
   "execution_count": 49,
   "metadata": {},
   "outputs": [
    {
     "data": {
      "text/plain": [
       "Index(['HORA', 'DIA_SEMANA', 'DISTRITO', 'SEXO', 'EDAD_APROX'], dtype='object')"
      ]
     },
     "execution_count": 49,
     "metadata": {},
     "output_type": "execute_result"
    }
   ],
   "source": [
    "df_accs.columns"
   ]
  },
  {
   "cell_type": "code",
   "execution_count": 50,
   "metadata": {},
   "outputs": [
    {
     "data": {
      "text/plain": [
       "Index(['HORA', 'DIA_SEMANA', 'DISTRITO', 'SEXO', 'EDAD_APROX'], dtype='object')"
      ]
     },
     "execution_count": 50,
     "metadata": {},
     "output_type": "execute_result"
    }
   ],
   "source": [
    "df_accs_lab_ohe.columns"
   ]
  },
  {
   "cell_type": "code",
   "execution_count": 51,
   "metadata": {},
   "outputs": [
    {
     "data": {
      "text/plain": [
       "HORA          object\n",
       "DIA_SEMANA    object\n",
       "DISTRITO      object\n",
       "SEXO          object\n",
       "EDAD_APROX    object\n",
       "dtype: object"
      ]
     },
     "execution_count": 51,
     "metadata": {},
     "output_type": "execute_result"
    }
   ],
   "source": [
    "df_accs.dtypes"
   ]
  },
  {
   "cell_type": "code",
   "execution_count": 52,
   "metadata": {},
   "outputs": [
    {
     "data": {
      "text/plain": [
       "HORA          object\n",
       "DIA_SEMANA    object\n",
       "DISTRITO      object\n",
       "SEXO          object\n",
       "EDAD_APROX    object\n",
       "dtype: object"
      ]
     },
     "execution_count": 52,
     "metadata": {},
     "output_type": "execute_result"
    }
   ],
   "source": [
    "df_accs_lab_ohe.dtypes"
   ]
  },
  {
   "cell_type": "code",
   "execution_count": 53,
   "metadata": {},
   "outputs": [
    {
     "data": {
      "text/html": [
       "<div>\n",
       "<style scoped>\n",
       "    .dataframe tbody tr th:only-of-type {\n",
       "        vertical-align: middle;\n",
       "    }\n",
       "\n",
       "    .dataframe tbody tr th {\n",
       "        vertical-align: top;\n",
       "    }\n",
       "\n",
       "    .dataframe thead th {\n",
       "        text-align: right;\n",
       "    }\n",
       "</style>\n",
       "<table border=\"1\" class=\"dataframe\">\n",
       "  <thead>\n",
       "    <tr style=\"text-align: right;\">\n",
       "      <th></th>\n",
       "      <th>HORA</th>\n",
       "      <th>DIA_SEMANA</th>\n",
       "      <th>DISTRITO</th>\n",
       "      <th>SEXO</th>\n",
       "      <th>EDAD_APROX</th>\n",
       "    </tr>\n",
       "  </thead>\n",
       "  <tbody>\n",
       "    <tr>\n",
       "      <th>0</th>\n",
       "      <td>00:00</td>\n",
       "      <td>VIERNES</td>\n",
       "      <td>CHAMARTIN</td>\n",
       "      <td>HOMBRE</td>\n",
       "      <td>20</td>\n",
       "    </tr>\n",
       "    <tr>\n",
       "      <th>1</th>\n",
       "      <td>00:00</td>\n",
       "      <td>VIERNES</td>\n",
       "      <td>CHAMARTIN</td>\n",
       "      <td>HOMBRE</td>\n",
       "      <td>50</td>\n",
       "    </tr>\n",
       "    <tr>\n",
       "      <th>2</th>\n",
       "      <td>00:00</td>\n",
       "      <td>VIERNES</td>\n",
       "      <td>CHAMARTIN</td>\n",
       "      <td>MUJER</td>\n",
       "      <td>40</td>\n",
       "    </tr>\n",
       "  </tbody>\n",
       "</table>\n",
       "</div>"
      ],
      "text/plain": [
       "    HORA DIA_SEMANA   DISTRITO    SEXO EDAD_APROX\n",
       "0  00:00    VIERNES  CHAMARTIN  HOMBRE         20\n",
       "1  00:00    VIERNES  CHAMARTIN  HOMBRE         50\n",
       "2  00:00    VIERNES  CHAMARTIN   MUJER         40"
      ]
     },
     "execution_count": 53,
     "metadata": {},
     "output_type": "execute_result"
    }
   ],
   "source": [
    "df_accs_lab_ohe.head(3)"
   ]
  },
  {
   "cell_type": "code",
   "execution_count": 54,
   "metadata": {},
   "outputs": [
    {
     "data": {
      "text/plain": [
       "array(['CHAMARTIN', 'PUENTE DE VALLECAS', 'CHAMBERI', 'RETIRO',\n",
       "       'SALAMANCA', 'CARABANCHEL', 'CIUDAD LINEAL', 'MONCLOA-ARAVACA',\n",
       "       'TETUAN', 'VILLA DE VALLECAS', 'MORATALAZ', 'ARGANZUELA',\n",
       "       'SAN BLAS', 'VILLAVERDE', 'HORTALEZA', 'FUENCARRAL-EL PARDO',\n",
       "       'VICALVARO', 'USERA', 'LATINA', 'BARAJAS', 'CENTRO'], dtype=object)"
      ]
     },
     "execution_count": 54,
     "metadata": {},
     "output_type": "execute_result"
    }
   ],
   "source": [
    "# Check UNIQUE values\n",
    "df_accs_lab_ohe['DISTRITO'].unique()"
   ]
  },
  {
   "cell_type": "code",
   "execution_count": 55,
   "metadata": {},
   "outputs": [
    {
     "data": {
      "text/plain": [
       "HORA          0\n",
       "DIA_SEMANA    0\n",
       "DISTRITO      0\n",
       "SEXO          0\n",
       "EDAD_APROX    0\n",
       "dtype: int64"
      ]
     },
     "execution_count": 55,
     "metadata": {},
     "output_type": "execute_result"
    }
   ],
   "source": [
    "# Check NULL values\n",
    "df_accs_lab_ohe.isnull().sum()"
   ]
  },
  {
   "cell_type": "code",
   "execution_count": 56,
   "metadata": {},
   "outputs": [],
   "source": [
    "# Create sample for new dataframe with labeler and OneHotEncoder"
   ]
  },
  {
   "cell_type": "code",
   "execution_count": 57,
   "metadata": {},
   "outputs": [],
   "source": [
    "df_accs_lab_ohe_sample = df_accs_lab_ohe.sample(n=10000).reset_index(drop=True)"
   ]
  },
  {
   "cell_type": "code",
   "execution_count": 58,
   "metadata": {},
   "outputs": [
    {
     "data": {
      "text/plain": [
       "Index(['HORA', 'DIA_SEMANA', 'DISTRITO', 'SEXO', 'EDAD_APROX'], dtype='object')"
      ]
     },
     "execution_count": 58,
     "metadata": {},
     "output_type": "execute_result"
    }
   ],
   "source": [
    "df_accs_lab_ohe_sample.columns"
   ]
  },
  {
   "cell_type": "code",
   "execution_count": 59,
   "metadata": {},
   "outputs": [
    {
     "data": {
      "text/html": [
       "<div>\n",
       "<style scoped>\n",
       "    .dataframe tbody tr th:only-of-type {\n",
       "        vertical-align: middle;\n",
       "    }\n",
       "\n",
       "    .dataframe tbody tr th {\n",
       "        vertical-align: top;\n",
       "    }\n",
       "\n",
       "    .dataframe thead th {\n",
       "        text-align: right;\n",
       "    }\n",
       "</style>\n",
       "<table border=\"1\" class=\"dataframe\">\n",
       "  <thead>\n",
       "    <tr style=\"text-align: right;\">\n",
       "      <th></th>\n",
       "      <th>HORA</th>\n",
       "      <th>DIA_SEMANA</th>\n",
       "      <th>DISTRITO</th>\n",
       "      <th>SEXO</th>\n",
       "      <th>EDAD_APROX</th>\n",
       "    </tr>\n",
       "  </thead>\n",
       "  <tbody>\n",
       "    <tr>\n",
       "      <th>0</th>\n",
       "      <td>19:00</td>\n",
       "      <td>JUEVES</td>\n",
       "      <td>HORTALEZA</td>\n",
       "      <td>MUJER</td>\n",
       "      <td>50</td>\n",
       "    </tr>\n",
       "  </tbody>\n",
       "</table>\n",
       "</div>"
      ],
      "text/plain": [
       "    HORA DIA_SEMANA   DISTRITO   SEXO EDAD_APROX\n",
       "0  19:00     JUEVES  HORTALEZA  MUJER         50"
      ]
     },
     "execution_count": 59,
     "metadata": {},
     "output_type": "execute_result"
    }
   ],
   "source": [
    "df_accs_lab_ohe_sample.head(1)"
   ]
  },
  {
   "cell_type": "code",
   "execution_count": 60,
   "metadata": {},
   "outputs": [
    {
     "data": {
      "text/plain": [
       "HORA          object\n",
       "DIA_SEMANA    object\n",
       "DISTRITO      object\n",
       "SEXO          object\n",
       "EDAD_APROX    object\n",
       "dtype: object"
      ]
     },
     "execution_count": 60,
     "metadata": {},
     "output_type": "execute_result"
    }
   ],
   "source": [
    "df_accs_lab_ohe_sample.dtypes"
   ]
  },
  {
   "cell_type": "code",
   "execution_count": 61,
   "metadata": {},
   "outputs": [],
   "source": [
    "# Create sample dummy dataframe for get_dummies function"
   ]
  },
  {
   "cell_type": "code",
   "execution_count": 62,
   "metadata": {},
   "outputs": [],
   "source": [
    "df_accs_dumm_sample = pd.get_dummies(df_accs_lab_ohe_sample, drop_first=True)"
   ]
  },
  {
   "cell_type": "code",
   "execution_count": 63,
   "metadata": {},
   "outputs": [
    {
     "data": {
      "text/plain": [
       "(10000, 65)"
      ]
     },
     "execution_count": 63,
     "metadata": {},
     "output_type": "execute_result"
    }
   ],
   "source": [
    "df_accs_dumm_sample.shape"
   ]
  },
  {
   "cell_type": "code",
   "execution_count": 64,
   "metadata": {},
   "outputs": [
    {
     "data": {
      "text/html": [
       "<div>\n",
       "<style scoped>\n",
       "    .dataframe tbody tr th:only-of-type {\n",
       "        vertical-align: middle;\n",
       "    }\n",
       "\n",
       "    .dataframe tbody tr th {\n",
       "        vertical-align: top;\n",
       "    }\n",
       "\n",
       "    .dataframe thead th {\n",
       "        text-align: right;\n",
       "    }\n",
       "</style>\n",
       "<table border=\"1\" class=\"dataframe\">\n",
       "  <thead>\n",
       "    <tr style=\"text-align: right;\">\n",
       "      <th></th>\n",
       "      <th>HORA_01:00</th>\n",
       "      <th>HORA_02:00</th>\n",
       "      <th>HORA_03:00</th>\n",
       "      <th>HORA_04:00</th>\n",
       "      <th>HORA_05:00</th>\n",
       "      <th>HORA_06:00</th>\n",
       "      <th>HORA_07:00</th>\n",
       "      <th>HORA_08:00</th>\n",
       "      <th>HORA_09:00</th>\n",
       "      <th>HORA_10:00</th>\n",
       "      <th>...</th>\n",
       "      <th>EDAD_APROX_30</th>\n",
       "      <th>EDAD_APROX_35</th>\n",
       "      <th>EDAD_APROX_40</th>\n",
       "      <th>EDAD_APROX_45</th>\n",
       "      <th>EDAD_APROX_50</th>\n",
       "      <th>EDAD_APROX_55</th>\n",
       "      <th>EDAD_APROX_65</th>\n",
       "      <th>EDAD_APROX_70</th>\n",
       "      <th>EDAD_APROX_75</th>\n",
       "      <th>EDAD_APROX_NO_ASIGNADO</th>\n",
       "    </tr>\n",
       "  </thead>\n",
       "  <tbody>\n",
       "    <tr>\n",
       "      <th>0</th>\n",
       "      <td>0</td>\n",
       "      <td>0</td>\n",
       "      <td>0</td>\n",
       "      <td>0</td>\n",
       "      <td>0</td>\n",
       "      <td>0</td>\n",
       "      <td>0</td>\n",
       "      <td>0</td>\n",
       "      <td>0</td>\n",
       "      <td>0</td>\n",
       "      <td>...</td>\n",
       "      <td>0</td>\n",
       "      <td>0</td>\n",
       "      <td>0</td>\n",
       "      <td>0</td>\n",
       "      <td>1</td>\n",
       "      <td>0</td>\n",
       "      <td>0</td>\n",
       "      <td>0</td>\n",
       "      <td>0</td>\n",
       "      <td>0</td>\n",
       "    </tr>\n",
       "  </tbody>\n",
       "</table>\n",
       "<p>1 rows × 65 columns</p>\n",
       "</div>"
      ],
      "text/plain": [
       "   HORA_01:00  HORA_02:00  HORA_03:00  HORA_04:00  HORA_05:00  HORA_06:00  \\\n",
       "0           0           0           0           0           0           0   \n",
       "\n",
       "   HORA_07:00  HORA_08:00  HORA_09:00  HORA_10:00  ...  EDAD_APROX_30  \\\n",
       "0           0           0           0           0  ...              0   \n",
       "\n",
       "   EDAD_APROX_35  EDAD_APROX_40  EDAD_APROX_45  EDAD_APROX_50  EDAD_APROX_55  \\\n",
       "0              0              0              0              1              0   \n",
       "\n",
       "   EDAD_APROX_65  EDAD_APROX_70  EDAD_APROX_75  EDAD_APROX_NO_ASIGNADO  \n",
       "0              0              0              0                       0  \n",
       "\n",
       "[1 rows x 65 columns]"
      ]
     },
     "execution_count": 64,
     "metadata": {},
     "output_type": "execute_result"
    }
   ],
   "source": [
    "df_accs_dumm_sample.head(1)"
   ]
  },
  {
   "cell_type": "code",
   "execution_count": 65,
   "metadata": {},
   "outputs": [
    {
     "data": {
      "text/plain": [
       "HORA          0\n",
       "DIA_SEMANA    0\n",
       "DISTRITO      0\n",
       "SEXO          0\n",
       "EDAD_APROX    0\n",
       "dtype: int64"
      ]
     },
     "execution_count": 65,
     "metadata": {},
     "output_type": "execute_result"
    }
   ],
   "source": [
    "# Check NULL values\n",
    "df_accs_lab_ohe_sample.isnull().sum()"
   ]
  },
  {
   "cell_type": "code",
   "execution_count": 66,
   "metadata": {},
   "outputs": [
    {
     "data": {
      "text/plain": [
       "HORA_01:00                0\n",
       "HORA_02:00                0\n",
       "HORA_03:00                0\n",
       "HORA_04:00                0\n",
       "HORA_05:00                0\n",
       "                         ..\n",
       "EDAD_APROX_55             0\n",
       "EDAD_APROX_65             0\n",
       "EDAD_APROX_70             0\n",
       "EDAD_APROX_75             0\n",
       "EDAD_APROX_NO_ASIGNADO    0\n",
       "Length: 65, dtype: int64"
      ]
     },
     "execution_count": 66,
     "metadata": {},
     "output_type": "execute_result"
    }
   ],
   "source": [
    "# Check NULL values\n",
    "df_accs_dumm_sample.isnull().sum()"
   ]
  },
  {
   "cell_type": "code",
   "execution_count": 67,
   "metadata": {},
   "outputs": [
    {
     "data": {
      "text/html": [
       "<div>\n",
       "<style scoped>\n",
       "    .dataframe tbody tr th:only-of-type {\n",
       "        vertical-align: middle;\n",
       "    }\n",
       "\n",
       "    .dataframe tbody tr th {\n",
       "        vertical-align: top;\n",
       "    }\n",
       "\n",
       "    .dataframe thead th {\n",
       "        text-align: right;\n",
       "    }\n",
       "</style>\n",
       "<table border=\"1\" class=\"dataframe\">\n",
       "  <thead>\n",
       "    <tr style=\"text-align: right;\">\n",
       "      <th></th>\n",
       "      <th>HORA_01:00</th>\n",
       "      <th>HORA_02:00</th>\n",
       "      <th>HORA_03:00</th>\n",
       "      <th>HORA_04:00</th>\n",
       "      <th>HORA_05:00</th>\n",
       "      <th>HORA_06:00</th>\n",
       "      <th>HORA_07:00</th>\n",
       "      <th>HORA_08:00</th>\n",
       "      <th>HORA_09:00</th>\n",
       "      <th>HORA_10:00</th>\n",
       "      <th>HORA_11:00</th>\n",
       "      <th>HORA_12:00</th>\n",
       "      <th>HORA_13:00</th>\n",
       "      <th>HORA_14:00</th>\n",
       "      <th>HORA_15:00</th>\n",
       "      <th>HORA_16:00</th>\n",
       "      <th>HORA_17:00</th>\n",
       "      <th>HORA_18:00</th>\n",
       "      <th>HORA_19:00</th>\n",
       "      <th>HORA_20:00</th>\n",
       "      <th>HORA_21:00</th>\n",
       "      <th>HORA_22:00</th>\n",
       "      <th>HORA_23:00</th>\n",
       "      <th>DIA_SEMANA_JUEVES</th>\n",
       "      <th>DIA_SEMANA_LUNES</th>\n",
       "      <th>DIA_SEMANA_MARTES</th>\n",
       "      <th>DIA_SEMANA_MIERCOLES</th>\n",
       "      <th>DIA_SEMANA_SABADO</th>\n",
       "      <th>DIA_SEMANA_VIERNES</th>\n",
       "      <th>DISTRITO_BARAJAS</th>\n",
       "      <th>DISTRITO_CARABANCHEL</th>\n",
       "      <th>DISTRITO_CENTRO</th>\n",
       "      <th>DISTRITO_CHAMARTIN</th>\n",
       "      <th>DISTRITO_CHAMBERI</th>\n",
       "      <th>DISTRITO_CIUDAD LINEAL</th>\n",
       "      <th>DISTRITO_FUENCARRAL-EL PARDO</th>\n",
       "      <th>DISTRITO_HORTALEZA</th>\n",
       "      <th>DISTRITO_LATINA</th>\n",
       "      <th>DISTRITO_MONCLOA-ARAVACA</th>\n",
       "      <th>DISTRITO_MORATALAZ</th>\n",
       "      <th>DISTRITO_PUENTE DE VALLECAS</th>\n",
       "      <th>DISTRITO_RETIRO</th>\n",
       "      <th>DISTRITO_SALAMANCA</th>\n",
       "      <th>DISTRITO_SAN BLAS</th>\n",
       "      <th>DISTRITO_TETUAN</th>\n",
       "      <th>DISTRITO_USERA</th>\n",
       "      <th>DISTRITO_VICALVARO</th>\n",
       "      <th>DISTRITO_VILLA DE VALLECAS</th>\n",
       "      <th>DISTRITO_VILLAVERDE</th>\n",
       "      <th>SEXO_MUJER</th>\n",
       "      <th>SEXO_NO_ASIGNADO</th>\n",
       "      <th>EDAD_APROX_10</th>\n",
       "      <th>EDAD_APROX_15</th>\n",
       "      <th>EDAD_APROX_20</th>\n",
       "      <th>EDAD_APROX_25</th>\n",
       "      <th>EDAD_APROX_30</th>\n",
       "      <th>EDAD_APROX_35</th>\n",
       "      <th>EDAD_APROX_40</th>\n",
       "      <th>EDAD_APROX_45</th>\n",
       "      <th>EDAD_APROX_50</th>\n",
       "      <th>EDAD_APROX_55</th>\n",
       "      <th>EDAD_APROX_65</th>\n",
       "      <th>EDAD_APROX_70</th>\n",
       "      <th>EDAD_APROX_75</th>\n",
       "      <th>EDAD_APROX_NO_ASIGNADO</th>\n",
       "    </tr>\n",
       "  </thead>\n",
       "  <tbody>\n",
       "    <tr>\n",
       "      <th>0</th>\n",
       "      <td>0</td>\n",
       "      <td>0</td>\n",
       "      <td>0</td>\n",
       "      <td>0</td>\n",
       "      <td>0</td>\n",
       "      <td>0</td>\n",
       "      <td>0</td>\n",
       "      <td>0</td>\n",
       "      <td>0</td>\n",
       "      <td>0</td>\n",
       "      <td>0</td>\n",
       "      <td>0</td>\n",
       "      <td>0</td>\n",
       "      <td>0</td>\n",
       "      <td>0</td>\n",
       "      <td>0</td>\n",
       "      <td>0</td>\n",
       "      <td>0</td>\n",
       "      <td>1</td>\n",
       "      <td>0</td>\n",
       "      <td>0</td>\n",
       "      <td>0</td>\n",
       "      <td>0</td>\n",
       "      <td>1</td>\n",
       "      <td>0</td>\n",
       "      <td>0</td>\n",
       "      <td>0</td>\n",
       "      <td>0</td>\n",
       "      <td>0</td>\n",
       "      <td>0</td>\n",
       "      <td>0</td>\n",
       "      <td>0</td>\n",
       "      <td>0</td>\n",
       "      <td>0</td>\n",
       "      <td>0</td>\n",
       "      <td>0</td>\n",
       "      <td>1</td>\n",
       "      <td>0</td>\n",
       "      <td>0</td>\n",
       "      <td>0</td>\n",
       "      <td>0</td>\n",
       "      <td>0</td>\n",
       "      <td>0</td>\n",
       "      <td>0</td>\n",
       "      <td>0</td>\n",
       "      <td>0</td>\n",
       "      <td>0</td>\n",
       "      <td>0</td>\n",
       "      <td>0</td>\n",
       "      <td>1</td>\n",
       "      <td>0</td>\n",
       "      <td>0</td>\n",
       "      <td>0</td>\n",
       "      <td>0</td>\n",
       "      <td>0</td>\n",
       "      <td>0</td>\n",
       "      <td>0</td>\n",
       "      <td>0</td>\n",
       "      <td>0</td>\n",
       "      <td>1</td>\n",
       "      <td>0</td>\n",
       "      <td>0</td>\n",
       "      <td>0</td>\n",
       "      <td>0</td>\n",
       "      <td>0</td>\n",
       "    </tr>\n",
       "  </tbody>\n",
       "</table>\n",
       "</div>"
      ],
      "text/plain": [
       "   HORA_01:00  HORA_02:00  HORA_03:00  HORA_04:00  HORA_05:00  HORA_06:00  \\\n",
       "0           0           0           0           0           0           0   \n",
       "\n",
       "   HORA_07:00  HORA_08:00  HORA_09:00  HORA_10:00  HORA_11:00  HORA_12:00  \\\n",
       "0           0           0           0           0           0           0   \n",
       "\n",
       "   HORA_13:00  HORA_14:00  HORA_15:00  HORA_16:00  HORA_17:00  HORA_18:00  \\\n",
       "0           0           0           0           0           0           0   \n",
       "\n",
       "   HORA_19:00  HORA_20:00  HORA_21:00  HORA_22:00  HORA_23:00  \\\n",
       "0           1           0           0           0           0   \n",
       "\n",
       "   DIA_SEMANA_JUEVES  DIA_SEMANA_LUNES  DIA_SEMANA_MARTES  \\\n",
       "0                  1                 0                  0   \n",
       "\n",
       "   DIA_SEMANA_MIERCOLES  DIA_SEMANA_SABADO  DIA_SEMANA_VIERNES  \\\n",
       "0                     0                  0                   0   \n",
       "\n",
       "   DISTRITO_BARAJAS  DISTRITO_CARABANCHEL  DISTRITO_CENTRO  \\\n",
       "0                 0                     0                0   \n",
       "\n",
       "   DISTRITO_CHAMARTIN  DISTRITO_CHAMBERI  DISTRITO_CIUDAD LINEAL  \\\n",
       "0                   0                  0                       0   \n",
       "\n",
       "   DISTRITO_FUENCARRAL-EL PARDO  DISTRITO_HORTALEZA  DISTRITO_LATINA  \\\n",
       "0                             0                   1                0   \n",
       "\n",
       "   DISTRITO_MONCLOA-ARAVACA  DISTRITO_MORATALAZ  DISTRITO_PUENTE DE VALLECAS  \\\n",
       "0                         0                   0                            0   \n",
       "\n",
       "   DISTRITO_RETIRO  DISTRITO_SALAMANCA  DISTRITO_SAN BLAS  DISTRITO_TETUAN  \\\n",
       "0                0                   0                  0                0   \n",
       "\n",
       "   DISTRITO_USERA  DISTRITO_VICALVARO  DISTRITO_VILLA DE VALLECAS  \\\n",
       "0               0                   0                           0   \n",
       "\n",
       "   DISTRITO_VILLAVERDE  SEXO_MUJER  SEXO_NO_ASIGNADO  EDAD_APROX_10  \\\n",
       "0                    0           1                 0              0   \n",
       "\n",
       "   EDAD_APROX_15  EDAD_APROX_20  EDAD_APROX_25  EDAD_APROX_30  EDAD_APROX_35  \\\n",
       "0              0              0              0              0              0   \n",
       "\n",
       "   EDAD_APROX_40  EDAD_APROX_45  EDAD_APROX_50  EDAD_APROX_55  EDAD_APROX_65  \\\n",
       "0              0              0              1              0              0   \n",
       "\n",
       "   EDAD_APROX_70  EDAD_APROX_75  EDAD_APROX_NO_ASIGNADO  \n",
       "0              0              0                       0  "
      ]
     },
     "metadata": {},
     "output_type": "display_data"
    }
   ],
   "source": [
    "# Dont limit column display\n",
    "import pandas as pd\n",
    "from IPython.display import display\n",
    "\n",
    "pd.options.display.max_columns = None\n",
    "display(df_accs_dumm_sample.head(1))"
   ]
  },
  {
   "cell_type": "code",
   "execution_count": 68,
   "metadata": {},
   "outputs": [
    {
     "data": {
      "text/plain": [
       "Index(['HORA_01:00', 'HORA_02:00', 'HORA_03:00', 'HORA_04:00', 'HORA_05:00',\n",
       "       'HORA_06:00', 'HORA_07:00', 'HORA_08:00', 'HORA_09:00', 'HORA_10:00',\n",
       "       'HORA_11:00', 'HORA_12:00', 'HORA_13:00', 'HORA_14:00', 'HORA_15:00',\n",
       "       'HORA_16:00', 'HORA_17:00', 'HORA_18:00', 'HORA_19:00', 'HORA_20:00',\n",
       "       'HORA_21:00', 'HORA_22:00', 'HORA_23:00', 'DIA_SEMANA_JUEVES',\n",
       "       'DIA_SEMANA_LUNES', 'DIA_SEMANA_MARTES', 'DIA_SEMANA_MIERCOLES',\n",
       "       'DIA_SEMANA_SABADO', 'DIA_SEMANA_VIERNES', 'DISTRITO_BARAJAS',\n",
       "       'DISTRITO_CARABANCHEL', 'DISTRITO_CENTRO', 'DISTRITO_CHAMARTIN',\n",
       "       'DISTRITO_CHAMBERI', 'DISTRITO_CIUDAD LINEAL',\n",
       "       'DISTRITO_FUENCARRAL-EL PARDO', 'DISTRITO_HORTALEZA', 'DISTRITO_LATINA',\n",
       "       'DISTRITO_MONCLOA-ARAVACA', 'DISTRITO_MORATALAZ',\n",
       "       'DISTRITO_PUENTE DE VALLECAS', 'DISTRITO_RETIRO', 'DISTRITO_SALAMANCA',\n",
       "       'DISTRITO_SAN BLAS', 'DISTRITO_TETUAN', 'DISTRITO_USERA',\n",
       "       'DISTRITO_VICALVARO', 'DISTRITO_VILLA DE VALLECAS',\n",
       "       'DISTRITO_VILLAVERDE', 'SEXO_MUJER', 'SEXO_NO_ASIGNADO',\n",
       "       'EDAD_APROX_10', 'EDAD_APROX_15', 'EDAD_APROX_20', 'EDAD_APROX_25',\n",
       "       'EDAD_APROX_30', 'EDAD_APROX_35', 'EDAD_APROX_40', 'EDAD_APROX_45',\n",
       "       'EDAD_APROX_50', 'EDAD_APROX_55', 'EDAD_APROX_65', 'EDAD_APROX_70',\n",
       "       'EDAD_APROX_75', 'EDAD_APROX_NO_ASIGNADO'],\n",
       "      dtype='object')"
      ]
     },
     "metadata": {},
     "output_type": "display_data"
    }
   ],
   "source": [
    "display(df_accs_dumm_sample.columns)"
   ]
  },
  {
   "cell_type": "code",
   "execution_count": 69,
   "metadata": {},
   "outputs": [
    {
     "name": "stdout",
     "output_type": "stream",
     "text": [
      "None\n"
     ]
    }
   ],
   "source": [
    "print(pd.options.display.max_columns)"
   ]
  },
  {
   "cell_type": "code",
   "execution_count": 70,
   "metadata": {},
   "outputs": [
    {
     "name": "stdout",
     "output_type": "stream",
     "text": [
      "60\n"
     ]
    }
   ],
   "source": [
    "print(pd.options.display.max_rows)"
   ]
  },
  {
   "cell_type": "code",
   "execution_count": 71,
   "metadata": {},
   "outputs": [
    {
     "data": {
      "text/plain": [
       "Index(['HORA', 'DIA_SEMANA', 'DISTRITO', 'SEXO', 'EDAD_APROX'], dtype='object')"
      ]
     },
     "execution_count": 71,
     "metadata": {},
     "output_type": "execute_result"
    }
   ],
   "source": [
    "df_accs_lab_ohe_sample.columns"
   ]
  },
  {
   "cell_type": "code",
   "execution_count": 72,
   "metadata": {},
   "outputs": [
    {
     "data": {
      "text/html": [
       "<div>\n",
       "<style scoped>\n",
       "    .dataframe tbody tr th:only-of-type {\n",
       "        vertical-align: middle;\n",
       "    }\n",
       "\n",
       "    .dataframe tbody tr th {\n",
       "        vertical-align: top;\n",
       "    }\n",
       "\n",
       "    .dataframe thead th {\n",
       "        text-align: right;\n",
       "    }\n",
       "</style>\n",
       "<table border=\"1\" class=\"dataframe\">\n",
       "  <thead>\n",
       "    <tr style=\"text-align: right;\">\n",
       "      <th></th>\n",
       "      <th>HORA</th>\n",
       "      <th>DIA_SEMANA</th>\n",
       "      <th>DISTRITO</th>\n",
       "      <th>SEXO</th>\n",
       "      <th>EDAD_APROX</th>\n",
       "    </tr>\n",
       "  </thead>\n",
       "  <tbody>\n",
       "    <tr>\n",
       "      <th>0</th>\n",
       "      <td>19:00</td>\n",
       "      <td>JUEVES</td>\n",
       "      <td>HORTALEZA</td>\n",
       "      <td>MUJER</td>\n",
       "      <td>50</td>\n",
       "    </tr>\n",
       "  </tbody>\n",
       "</table>\n",
       "</div>"
      ],
      "text/plain": [
       "    HORA DIA_SEMANA   DISTRITO   SEXO EDAD_APROX\n",
       "0  19:00     JUEVES  HORTALEZA  MUJER         50"
      ]
     },
     "execution_count": 72,
     "metadata": {},
     "output_type": "execute_result"
    }
   ],
   "source": [
    "df_accs_lab_ohe_sample[0:1]"
   ]
  },
  {
   "cell_type": "markdown",
   "metadata": {},
   "source": [
    "# Data Preparation"
   ]
  },
  {
   "cell_type": "code",
   "execution_count": 73,
   "metadata": {},
   "outputs": [
    {
     "data": {
      "text/plain": [
       "(10000, 4)"
      ]
     },
     "execution_count": 73,
     "metadata": {},
     "output_type": "execute_result"
    }
   ],
   "source": [
    "# Load variables with sample data\n",
    "X = np.array(df_accs_lab_ohe_sample.drop('DISTRITO', 1))\n",
    "y = np.array(df_accs_lab_ohe_sample[\"DISTRITO\"])\n",
    "X.shape"
   ]
  },
  {
   "cell_type": "code",
   "execution_count": 74,
   "metadata": {},
   "outputs": [
    {
     "data": {
      "text/plain": [
       "HORA          object\n",
       "DIA_SEMANA    object\n",
       "DISTRITO      object\n",
       "SEXO          object\n",
       "EDAD_APROX    object\n",
       "dtype: object"
      ]
     },
     "execution_count": 74,
     "metadata": {},
     "output_type": "execute_result"
    }
   ],
   "source": [
    "df_accs_lab_ohe_sample.dtypes"
   ]
  },
  {
   "cell_type": "code",
   "execution_count": 75,
   "metadata": {},
   "outputs": [],
   "source": [
    "# Train-test split and load the library\n",
    "from sklearn.model_selection import train_test_split\n",
    "# Create 2 groups each with input and labels\n",
    "X_train, X_test, y_train, y_test = train_test_split(X, y, test_size=0.20)"
   ]
  },
  {
   "cell_type": "code",
   "execution_count": 76,
   "metadata": {},
   "outputs": [],
   "source": [
    "from sklearn.preprocessing import OneHotEncoder"
   ]
  },
  {
   "cell_type": "code",
   "execution_count": 77,
   "metadata": {},
   "outputs": [
    {
     "data": {
      "text/plain": [
       "OneHotEncoder(categorical_features=None, categories=None, drop=None,\n",
       "              dtype=<class 'numpy.float64'>, handle_unknown='ignore',\n",
       "              n_values=None, sparse=True)"
      ]
     },
     "execution_count": 77,
     "metadata": {},
     "output_type": "execute_result"
    }
   ],
   "source": [
    "# Create the encoder.\n",
    "encoder = OneHotEncoder(handle_unknown=\"ignore\")\n",
    "encoder.fit(X_train)    # Assume for simplicity all features are categorical."
   ]
  },
  {
   "cell_type": "code",
   "execution_count": 78,
   "metadata": {},
   "outputs": [],
   "source": [
    "# Apply the encoder.\n",
    "X_train = encoder.transform(X_train)\n",
    "X_test = encoder.transform(X_test)"
   ]
  },
  {
   "cell_type": "code",
   "execution_count": 79,
   "metadata": {},
   "outputs": [
    {
     "data": {
      "text/plain": [
       "(10000, 4)"
      ]
     },
     "execution_count": 79,
     "metadata": {},
     "output_type": "execute_result"
    }
   ],
   "source": [
    "X.shape"
   ]
  },
  {
   "cell_type": "code",
   "execution_count": 80,
   "metadata": {},
   "outputs": [
    {
     "data": {
      "text/plain": [
       "(8000, 49)"
      ]
     },
     "execution_count": 80,
     "metadata": {},
     "output_type": "execute_result"
    }
   ],
   "source": [
    "X_train.shape"
   ]
  },
  {
   "cell_type": "code",
   "execution_count": 81,
   "metadata": {},
   "outputs": [
    {
     "data": {
      "text/plain": [
       "(2000, 49)"
      ]
     },
     "execution_count": 81,
     "metadata": {},
     "output_type": "execute_result"
    }
   ],
   "source": [
    "X_test.shape"
   ]
  },
  {
   "cell_type": "code",
   "execution_count": 82,
   "metadata": {},
   "outputs": [
    {
     "data": {
      "text/plain": [
       "array(['19:00', 'JUEVES', 'MUJER', '50'], dtype=object)"
      ]
     },
     "execution_count": 82,
     "metadata": {},
     "output_type": "execute_result"
    }
   ],
   "source": [
    "X[0]"
   ]
  },
  {
   "cell_type": "code",
   "execution_count": 83,
   "metadata": {},
   "outputs": [
    {
     "data": {
      "text/plain": [
       "<1x49 sparse matrix of type '<class 'numpy.float64'>'\n",
       "\twith 4 stored elements in Compressed Sparse Row format>"
      ]
     },
     "execution_count": 83,
     "metadata": {},
     "output_type": "execute_result"
    }
   ],
   "source": [
    "X_train[0]"
   ]
  },
  {
   "cell_type": "code",
   "execution_count": 84,
   "metadata": {},
   "outputs": [
    {
     "data": {
      "text/plain": [
       "<1x49 sparse matrix of type '<class 'numpy.float64'>'\n",
       "\twith 4 stored elements in Compressed Sparse Row format>"
      ]
     },
     "execution_count": 84,
     "metadata": {},
     "output_type": "execute_result"
    }
   ],
   "source": [
    "X_test[0]"
   ]
  },
  {
   "cell_type": "code",
   "execution_count": 85,
   "metadata": {},
   "outputs": [
    {
     "data": {
      "text/html": [
       "<div>\n",
       "<style scoped>\n",
       "    .dataframe tbody tr th:only-of-type {\n",
       "        vertical-align: middle;\n",
       "    }\n",
       "\n",
       "    .dataframe tbody tr th {\n",
       "        vertical-align: top;\n",
       "    }\n",
       "\n",
       "    .dataframe thead th {\n",
       "        text-align: right;\n",
       "    }\n",
       "</style>\n",
       "<table border=\"1\" class=\"dataframe\">\n",
       "  <thead>\n",
       "    <tr style=\"text-align: right;\">\n",
       "      <th></th>\n",
       "      <th>HORA</th>\n",
       "      <th>DIA_SEMANA</th>\n",
       "      <th>DISTRITO</th>\n",
       "      <th>SEXO</th>\n",
       "      <th>EDAD_APROX</th>\n",
       "    </tr>\n",
       "  </thead>\n",
       "  <tbody>\n",
       "    <tr>\n",
       "      <th>0</th>\n",
       "      <td>19:00</td>\n",
       "      <td>JUEVES</td>\n",
       "      <td>HORTALEZA</td>\n",
       "      <td>MUJER</td>\n",
       "      <td>50</td>\n",
       "    </tr>\n",
       "    <tr>\n",
       "      <th>1</th>\n",
       "      <td>08:00</td>\n",
       "      <td>MIERCOLES</td>\n",
       "      <td>FUENCARRAL-EL PARDO</td>\n",
       "      <td>HOMBRE</td>\n",
       "      <td>40</td>\n",
       "    </tr>\n",
       "    <tr>\n",
       "      <th>2</th>\n",
       "      <td>18:00</td>\n",
       "      <td>MIERCOLES</td>\n",
       "      <td>PUENTE DE VALLECAS</td>\n",
       "      <td>MUJER</td>\n",
       "      <td>25</td>\n",
       "    </tr>\n",
       "  </tbody>\n",
       "</table>\n",
       "</div>"
      ],
      "text/plain": [
       "    HORA DIA_SEMANA             DISTRITO    SEXO EDAD_APROX\n",
       "0  19:00     JUEVES            HORTALEZA   MUJER         50\n",
       "1  08:00  MIERCOLES  FUENCARRAL-EL PARDO  HOMBRE         40\n",
       "2  18:00  MIERCOLES   PUENTE DE VALLECAS   MUJER         25"
      ]
     },
     "execution_count": 85,
     "metadata": {},
     "output_type": "execute_result"
    }
   ],
   "source": [
    "df_accs_lab_ohe_sample.head(3)"
   ]
  },
  {
   "cell_type": "code",
   "execution_count": 86,
   "metadata": {},
   "outputs": [],
   "source": [
    "# Create a new dataframe for labeler data only"
   ]
  },
  {
   "cell_type": "code",
   "execution_count": 87,
   "metadata": {},
   "outputs": [],
   "source": [
    "df_accs_lab_sample = df_accs_lab_ohe_sample.reset_index(drop=True)"
   ]
  },
  {
   "cell_type": "code",
   "execution_count": 88,
   "metadata": {},
   "outputs": [
    {
     "data": {
      "text/html": [
       "<div>\n",
       "<style scoped>\n",
       "    .dataframe tbody tr th:only-of-type {\n",
       "        vertical-align: middle;\n",
       "    }\n",
       "\n",
       "    .dataframe tbody tr th {\n",
       "        vertical-align: top;\n",
       "    }\n",
       "\n",
       "    .dataframe thead th {\n",
       "        text-align: right;\n",
       "    }\n",
       "</style>\n",
       "<table border=\"1\" class=\"dataframe\">\n",
       "  <thead>\n",
       "    <tr style=\"text-align: right;\">\n",
       "      <th></th>\n",
       "      <th>HORA</th>\n",
       "      <th>DIA_SEMANA</th>\n",
       "      <th>DISTRITO</th>\n",
       "      <th>SEXO</th>\n",
       "      <th>EDAD_APROX</th>\n",
       "    </tr>\n",
       "  </thead>\n",
       "  <tbody>\n",
       "    <tr>\n",
       "      <th>0</th>\n",
       "      <td>19:00</td>\n",
       "      <td>JUEVES</td>\n",
       "      <td>HORTALEZA</td>\n",
       "      <td>MUJER</td>\n",
       "      <td>50</td>\n",
       "    </tr>\n",
       "    <tr>\n",
       "      <th>1</th>\n",
       "      <td>08:00</td>\n",
       "      <td>MIERCOLES</td>\n",
       "      <td>FUENCARRAL-EL PARDO</td>\n",
       "      <td>HOMBRE</td>\n",
       "      <td>40</td>\n",
       "    </tr>\n",
       "    <tr>\n",
       "      <th>2</th>\n",
       "      <td>18:00</td>\n",
       "      <td>MIERCOLES</td>\n",
       "      <td>PUENTE DE VALLECAS</td>\n",
       "      <td>MUJER</td>\n",
       "      <td>25</td>\n",
       "    </tr>\n",
       "  </tbody>\n",
       "</table>\n",
       "</div>"
      ],
      "text/plain": [
       "    HORA DIA_SEMANA             DISTRITO    SEXO EDAD_APROX\n",
       "0  19:00     JUEVES            HORTALEZA   MUJER         50\n",
       "1  08:00  MIERCOLES  FUENCARRAL-EL PARDO  HOMBRE         40\n",
       "2  18:00  MIERCOLES   PUENTE DE VALLECAS   MUJER         25"
      ]
     },
     "execution_count": 88,
     "metadata": {},
     "output_type": "execute_result"
    }
   ],
   "source": [
    "df_accs_lab_sample.head(3)"
   ]
  },
  {
   "cell_type": "code",
   "execution_count": 89,
   "metadata": {},
   "outputs": [],
   "source": [
    "# Labeling through Label Encoding\n",
    "from sklearn.preprocessing import LabelEncoder\n",
    "lab = LabelEncoder() "
   ]
  },
  {
   "cell_type": "code",
   "execution_count": 90,
   "metadata": {},
   "outputs": [],
   "source": [
    "# Transforming sample data columns\n",
    "df_accs_lab_sample['HORA']= lab.fit_transform(df_accs_lab_sample['HORA'])\n",
    "df_accs_lab_sample['DIA_SEMANA']= lab.fit_transform(df_accs_lab_sample['DIA_SEMANA'])\n",
    "df_accs_lab_sample['DISTRITO']= lab.fit_transform(df_accs_lab_sample['DISTRITO'])\n",
    "df_accs_lab_sample['SEXO']= lab.fit_transform(df_accs_lab_sample['SEXO'])\n",
    "df_accs_lab_sample['EDAD_APROX']= lab.fit_transform(df_accs_lab_sample['EDAD_APROX'])"
   ]
  },
  {
   "cell_type": "code",
   "execution_count": 91,
   "metadata": {},
   "outputs": [
    {
     "data": {
      "text/html": [
       "<div>\n",
       "<style scoped>\n",
       "    .dataframe tbody tr th:only-of-type {\n",
       "        vertical-align: middle;\n",
       "    }\n",
       "\n",
       "    .dataframe tbody tr th {\n",
       "        vertical-align: top;\n",
       "    }\n",
       "\n",
       "    .dataframe thead th {\n",
       "        text-align: right;\n",
       "    }\n",
       "</style>\n",
       "<table border=\"1\" class=\"dataframe\">\n",
       "  <thead>\n",
       "    <tr style=\"text-align: right;\">\n",
       "      <th></th>\n",
       "      <th>HORA</th>\n",
       "      <th>DIA_SEMANA</th>\n",
       "      <th>DISTRITO</th>\n",
       "      <th>SEXO</th>\n",
       "      <th>EDAD_APROX</th>\n",
       "    </tr>\n",
       "  </thead>\n",
       "  <tbody>\n",
       "    <tr>\n",
       "      <th>0</th>\n",
       "      <td>19</td>\n",
       "      <td>1</td>\n",
       "      <td>8</td>\n",
       "      <td>1</td>\n",
       "      <td>9</td>\n",
       "    </tr>\n",
       "    <tr>\n",
       "      <th>1</th>\n",
       "      <td>8</td>\n",
       "      <td>4</td>\n",
       "      <td>7</td>\n",
       "      <td>0</td>\n",
       "      <td>7</td>\n",
       "    </tr>\n",
       "    <tr>\n",
       "      <th>2</th>\n",
       "      <td>18</td>\n",
       "      <td>4</td>\n",
       "      <td>12</td>\n",
       "      <td>1</td>\n",
       "      <td>4</td>\n",
       "    </tr>\n",
       "  </tbody>\n",
       "</table>\n",
       "</div>"
      ],
      "text/plain": [
       "   HORA  DIA_SEMANA  DISTRITO  SEXO  EDAD_APROX\n",
       "0    19           1         8     1           9\n",
       "1     8           4         7     0           7\n",
       "2    18           4        12     1           4"
      ]
     },
     "execution_count": 91,
     "metadata": {},
     "output_type": "execute_result"
    }
   ],
   "source": [
    "df_accs_lab_sample.head(3)"
   ]
  },
  {
   "cell_type": "code",
   "execution_count": 92,
   "metadata": {},
   "outputs": [],
   "source": [
    "# OUR target class be \"DISTRITO\" column."
   ]
  },
  {
   "cell_type": "code",
   "execution_count": 93,
   "metadata": {},
   "outputs": [
    {
     "data": {
      "text/plain": [
       "HORA          int64\n",
       "DIA_SEMANA    int64\n",
       "DISTRITO      int64\n",
       "SEXO          int64\n",
       "EDAD_APROX    int64\n",
       "dtype: object"
      ]
     },
     "execution_count": 93,
     "metadata": {},
     "output_type": "execute_result"
    }
   ],
   "source": [
    "df_accs_lab_sample.dtypes"
   ]
  },
  {
   "cell_type": "code",
   "execution_count": 94,
   "metadata": {},
   "outputs": [],
   "source": [
    "df_accs_lab_ohe_sample['DISTRITO']= lab.fit_transform(df_accs_lab_ohe_sample['DISTRITO'])"
   ]
  },
  {
   "cell_type": "code",
   "execution_count": 95,
   "metadata": {},
   "outputs": [
    {
     "data": {
      "text/html": [
       "<div>\n",
       "<style scoped>\n",
       "    .dataframe tbody tr th:only-of-type {\n",
       "        vertical-align: middle;\n",
       "    }\n",
       "\n",
       "    .dataframe tbody tr th {\n",
       "        vertical-align: top;\n",
       "    }\n",
       "\n",
       "    .dataframe thead th {\n",
       "        text-align: right;\n",
       "    }\n",
       "</style>\n",
       "<table border=\"1\" class=\"dataframe\">\n",
       "  <thead>\n",
       "    <tr style=\"text-align: right;\">\n",
       "      <th></th>\n",
       "      <th>HORA</th>\n",
       "      <th>DIA_SEMANA</th>\n",
       "      <th>DISTRITO</th>\n",
       "      <th>SEXO</th>\n",
       "      <th>EDAD_APROX</th>\n",
       "    </tr>\n",
       "  </thead>\n",
       "  <tbody>\n",
       "    <tr>\n",
       "      <th>0</th>\n",
       "      <td>00:00</td>\n",
       "      <td>VIERNES</td>\n",
       "      <td>CHAMARTIN</td>\n",
       "      <td>HOMBRE</td>\n",
       "      <td>20</td>\n",
       "    </tr>\n",
       "  </tbody>\n",
       "</table>\n",
       "</div>"
      ],
      "text/plain": [
       "    HORA DIA_SEMANA   DISTRITO    SEXO EDAD_APROX\n",
       "0  00:00    VIERNES  CHAMARTIN  HOMBRE         20"
      ]
     },
     "execution_count": 95,
     "metadata": {},
     "output_type": "execute_result"
    }
   ],
   "source": [
    "df_accs.head(1)"
   ]
  },
  {
   "cell_type": "code",
   "execution_count": 96,
   "metadata": {},
   "outputs": [
    {
     "data": {
      "text/html": [
       "<div>\n",
       "<style scoped>\n",
       "    .dataframe tbody tr th:only-of-type {\n",
       "        vertical-align: middle;\n",
       "    }\n",
       "\n",
       "    .dataframe tbody tr th {\n",
       "        vertical-align: top;\n",
       "    }\n",
       "\n",
       "    .dataframe thead th {\n",
       "        text-align: right;\n",
       "    }\n",
       "</style>\n",
       "<table border=\"1\" class=\"dataframe\">\n",
       "  <thead>\n",
       "    <tr style=\"text-align: right;\">\n",
       "      <th></th>\n",
       "      <th>HORA</th>\n",
       "      <th>DIA_SEMANA</th>\n",
       "      <th>DISTRITO</th>\n",
       "      <th>SEXO</th>\n",
       "      <th>EDAD_APROX</th>\n",
       "    </tr>\n",
       "  </thead>\n",
       "  <tbody>\n",
       "    <tr>\n",
       "      <th>0</th>\n",
       "      <td>00:00</td>\n",
       "      <td>VIERNES</td>\n",
       "      <td>CHAMARTIN</td>\n",
       "      <td>HOMBRE</td>\n",
       "      <td>20</td>\n",
       "    </tr>\n",
       "  </tbody>\n",
       "</table>\n",
       "</div>"
      ],
      "text/plain": [
       "    HORA DIA_SEMANA   DISTRITO    SEXO EDAD_APROX\n",
       "0  00:00    VIERNES  CHAMARTIN  HOMBRE         20"
      ]
     },
     "execution_count": 96,
     "metadata": {},
     "output_type": "execute_result"
    }
   ],
   "source": [
    "df_accs_lab_ohe.head(1)"
   ]
  },
  {
   "cell_type": "code",
   "execution_count": 97,
   "metadata": {},
   "outputs": [
    {
     "data": {
      "text/html": [
       "<div>\n",
       "<style scoped>\n",
       "    .dataframe tbody tr th:only-of-type {\n",
       "        vertical-align: middle;\n",
       "    }\n",
       "\n",
       "    .dataframe tbody tr th {\n",
       "        vertical-align: top;\n",
       "    }\n",
       "\n",
       "    .dataframe thead th {\n",
       "        text-align: right;\n",
       "    }\n",
       "</style>\n",
       "<table border=\"1\" class=\"dataframe\">\n",
       "  <thead>\n",
       "    <tr style=\"text-align: right;\">\n",
       "      <th></th>\n",
       "      <th>HORA_01:00</th>\n",
       "      <th>HORA_02:00</th>\n",
       "      <th>HORA_03:00</th>\n",
       "      <th>HORA_04:00</th>\n",
       "      <th>HORA_05:00</th>\n",
       "      <th>HORA_06:00</th>\n",
       "      <th>HORA_07:00</th>\n",
       "      <th>HORA_08:00</th>\n",
       "      <th>HORA_09:00</th>\n",
       "      <th>HORA_10:00</th>\n",
       "      <th>HORA_11:00</th>\n",
       "      <th>HORA_12:00</th>\n",
       "      <th>HORA_13:00</th>\n",
       "      <th>HORA_14:00</th>\n",
       "      <th>HORA_15:00</th>\n",
       "      <th>HORA_16:00</th>\n",
       "      <th>HORA_17:00</th>\n",
       "      <th>HORA_18:00</th>\n",
       "      <th>HORA_19:00</th>\n",
       "      <th>HORA_20:00</th>\n",
       "      <th>HORA_21:00</th>\n",
       "      <th>HORA_22:00</th>\n",
       "      <th>HORA_23:00</th>\n",
       "      <th>DIA_SEMANA_JUEVES</th>\n",
       "      <th>DIA_SEMANA_LUNES</th>\n",
       "      <th>DIA_SEMANA_MARTES</th>\n",
       "      <th>DIA_SEMANA_MIERCOLES</th>\n",
       "      <th>DIA_SEMANA_SABADO</th>\n",
       "      <th>DIA_SEMANA_VIERNES</th>\n",
       "      <th>DISTRITO_BARAJAS</th>\n",
       "      <th>DISTRITO_CARABANCHEL</th>\n",
       "      <th>DISTRITO_CENTRO</th>\n",
       "      <th>DISTRITO_CHAMARTIN</th>\n",
       "      <th>DISTRITO_CHAMBERI</th>\n",
       "      <th>DISTRITO_CIUDAD LINEAL</th>\n",
       "      <th>DISTRITO_FUENCARRAL-EL PARDO</th>\n",
       "      <th>DISTRITO_HORTALEZA</th>\n",
       "      <th>DISTRITO_LATINA</th>\n",
       "      <th>DISTRITO_MONCLOA-ARAVACA</th>\n",
       "      <th>DISTRITO_MORATALAZ</th>\n",
       "      <th>DISTRITO_PUENTE DE VALLECAS</th>\n",
       "      <th>DISTRITO_RETIRO</th>\n",
       "      <th>DISTRITO_SALAMANCA</th>\n",
       "      <th>DISTRITO_SAN BLAS</th>\n",
       "      <th>DISTRITO_TETUAN</th>\n",
       "      <th>DISTRITO_USERA</th>\n",
       "      <th>DISTRITO_VICALVARO</th>\n",
       "      <th>DISTRITO_VILLA DE VALLECAS</th>\n",
       "      <th>DISTRITO_VILLAVERDE</th>\n",
       "      <th>SEXO_MUJER</th>\n",
       "      <th>SEXO_NO_ASIGNADO</th>\n",
       "      <th>EDAD_APROX_10</th>\n",
       "      <th>EDAD_APROX_15</th>\n",
       "      <th>EDAD_APROX_20</th>\n",
       "      <th>EDAD_APROX_25</th>\n",
       "      <th>EDAD_APROX_30</th>\n",
       "      <th>EDAD_APROX_35</th>\n",
       "      <th>EDAD_APROX_40</th>\n",
       "      <th>EDAD_APROX_45</th>\n",
       "      <th>EDAD_APROX_50</th>\n",
       "      <th>EDAD_APROX_55</th>\n",
       "      <th>EDAD_APROX_65</th>\n",
       "      <th>EDAD_APROX_70</th>\n",
       "      <th>EDAD_APROX_75</th>\n",
       "      <th>EDAD_APROX_NO_ASIGNADO</th>\n",
       "    </tr>\n",
       "  </thead>\n",
       "  <tbody>\n",
       "    <tr>\n",
       "      <th>0</th>\n",
       "      <td>0</td>\n",
       "      <td>0</td>\n",
       "      <td>0</td>\n",
       "      <td>0</td>\n",
       "      <td>0</td>\n",
       "      <td>0</td>\n",
       "      <td>0</td>\n",
       "      <td>0</td>\n",
       "      <td>0</td>\n",
       "      <td>0</td>\n",
       "      <td>0</td>\n",
       "      <td>0</td>\n",
       "      <td>0</td>\n",
       "      <td>0</td>\n",
       "      <td>0</td>\n",
       "      <td>0</td>\n",
       "      <td>0</td>\n",
       "      <td>0</td>\n",
       "      <td>1</td>\n",
       "      <td>0</td>\n",
       "      <td>0</td>\n",
       "      <td>0</td>\n",
       "      <td>0</td>\n",
       "      <td>1</td>\n",
       "      <td>0</td>\n",
       "      <td>0</td>\n",
       "      <td>0</td>\n",
       "      <td>0</td>\n",
       "      <td>0</td>\n",
       "      <td>0</td>\n",
       "      <td>0</td>\n",
       "      <td>0</td>\n",
       "      <td>0</td>\n",
       "      <td>0</td>\n",
       "      <td>0</td>\n",
       "      <td>0</td>\n",
       "      <td>1</td>\n",
       "      <td>0</td>\n",
       "      <td>0</td>\n",
       "      <td>0</td>\n",
       "      <td>0</td>\n",
       "      <td>0</td>\n",
       "      <td>0</td>\n",
       "      <td>0</td>\n",
       "      <td>0</td>\n",
       "      <td>0</td>\n",
       "      <td>0</td>\n",
       "      <td>0</td>\n",
       "      <td>0</td>\n",
       "      <td>1</td>\n",
       "      <td>0</td>\n",
       "      <td>0</td>\n",
       "      <td>0</td>\n",
       "      <td>0</td>\n",
       "      <td>0</td>\n",
       "      <td>0</td>\n",
       "      <td>0</td>\n",
       "      <td>0</td>\n",
       "      <td>0</td>\n",
       "      <td>1</td>\n",
       "      <td>0</td>\n",
       "      <td>0</td>\n",
       "      <td>0</td>\n",
       "      <td>0</td>\n",
       "      <td>0</td>\n",
       "    </tr>\n",
       "  </tbody>\n",
       "</table>\n",
       "</div>"
      ],
      "text/plain": [
       "   HORA_01:00  HORA_02:00  HORA_03:00  HORA_04:00  HORA_05:00  HORA_06:00  \\\n",
       "0           0           0           0           0           0           0   \n",
       "\n",
       "   HORA_07:00  HORA_08:00  HORA_09:00  HORA_10:00  HORA_11:00  HORA_12:00  \\\n",
       "0           0           0           0           0           0           0   \n",
       "\n",
       "   HORA_13:00  HORA_14:00  HORA_15:00  HORA_16:00  HORA_17:00  HORA_18:00  \\\n",
       "0           0           0           0           0           0           0   \n",
       "\n",
       "   HORA_19:00  HORA_20:00  HORA_21:00  HORA_22:00  HORA_23:00  \\\n",
       "0           1           0           0           0           0   \n",
       "\n",
       "   DIA_SEMANA_JUEVES  DIA_SEMANA_LUNES  DIA_SEMANA_MARTES  \\\n",
       "0                  1                 0                  0   \n",
       "\n",
       "   DIA_SEMANA_MIERCOLES  DIA_SEMANA_SABADO  DIA_SEMANA_VIERNES  \\\n",
       "0                     0                  0                   0   \n",
       "\n",
       "   DISTRITO_BARAJAS  DISTRITO_CARABANCHEL  DISTRITO_CENTRO  \\\n",
       "0                 0                     0                0   \n",
       "\n",
       "   DISTRITO_CHAMARTIN  DISTRITO_CHAMBERI  DISTRITO_CIUDAD LINEAL  \\\n",
       "0                   0                  0                       0   \n",
       "\n",
       "   DISTRITO_FUENCARRAL-EL PARDO  DISTRITO_HORTALEZA  DISTRITO_LATINA  \\\n",
       "0                             0                   1                0   \n",
       "\n",
       "   DISTRITO_MONCLOA-ARAVACA  DISTRITO_MORATALAZ  DISTRITO_PUENTE DE VALLECAS  \\\n",
       "0                         0                   0                            0   \n",
       "\n",
       "   DISTRITO_RETIRO  DISTRITO_SALAMANCA  DISTRITO_SAN BLAS  DISTRITO_TETUAN  \\\n",
       "0                0                   0                  0                0   \n",
       "\n",
       "   DISTRITO_USERA  DISTRITO_VICALVARO  DISTRITO_VILLA DE VALLECAS  \\\n",
       "0               0                   0                           0   \n",
       "\n",
       "   DISTRITO_VILLAVERDE  SEXO_MUJER  SEXO_NO_ASIGNADO  EDAD_APROX_10  \\\n",
       "0                    0           1                 0              0   \n",
       "\n",
       "   EDAD_APROX_15  EDAD_APROX_20  EDAD_APROX_25  EDAD_APROX_30  EDAD_APROX_35  \\\n",
       "0              0              0              0              0              0   \n",
       "\n",
       "   EDAD_APROX_40  EDAD_APROX_45  EDAD_APROX_50  EDAD_APROX_55  EDAD_APROX_65  \\\n",
       "0              0              0              1              0              0   \n",
       "\n",
       "   EDAD_APROX_70  EDAD_APROX_75  EDAD_APROX_NO_ASIGNADO  \n",
       "0              0              0                       0  "
      ]
     },
     "execution_count": 97,
     "metadata": {},
     "output_type": "execute_result"
    }
   ],
   "source": [
    "df_accs_dumm_sample.head(1)"
   ]
  },
  {
   "cell_type": "code",
   "execution_count": 98,
   "metadata": {},
   "outputs": [
    {
     "data": {
      "text/html": [
       "<div>\n",
       "<style scoped>\n",
       "    .dataframe tbody tr th:only-of-type {\n",
       "        vertical-align: middle;\n",
       "    }\n",
       "\n",
       "    .dataframe tbody tr th {\n",
       "        vertical-align: top;\n",
       "    }\n",
       "\n",
       "    .dataframe thead th {\n",
       "        text-align: right;\n",
       "    }\n",
       "</style>\n",
       "<table border=\"1\" class=\"dataframe\">\n",
       "  <thead>\n",
       "    <tr style=\"text-align: right;\">\n",
       "      <th></th>\n",
       "      <th>HORA</th>\n",
       "      <th>DIA_SEMANA</th>\n",
       "      <th>DISTRITO</th>\n",
       "      <th>SEXO</th>\n",
       "      <th>EDAD_APROX</th>\n",
       "    </tr>\n",
       "  </thead>\n",
       "  <tbody>\n",
       "    <tr>\n",
       "      <th>0</th>\n",
       "      <td>19</td>\n",
       "      <td>1</td>\n",
       "      <td>8</td>\n",
       "      <td>1</td>\n",
       "      <td>9</td>\n",
       "    </tr>\n",
       "  </tbody>\n",
       "</table>\n",
       "</div>"
      ],
      "text/plain": [
       "   HORA  DIA_SEMANA  DISTRITO  SEXO  EDAD_APROX\n",
       "0    19           1         8     1           9"
      ]
     },
     "execution_count": 98,
     "metadata": {},
     "output_type": "execute_result"
    }
   ],
   "source": [
    "df_accs_lab_sample.head(1)"
   ]
  },
  {
   "cell_type": "code",
   "execution_count": 99,
   "metadata": {},
   "outputs": [
    {
     "data": {
      "text/html": [
       "<div>\n",
       "<style scoped>\n",
       "    .dataframe tbody tr th:only-of-type {\n",
       "        vertical-align: middle;\n",
       "    }\n",
       "\n",
       "    .dataframe tbody tr th {\n",
       "        vertical-align: top;\n",
       "    }\n",
       "\n",
       "    .dataframe thead th {\n",
       "        text-align: right;\n",
       "    }\n",
       "</style>\n",
       "<table border=\"1\" class=\"dataframe\">\n",
       "  <thead>\n",
       "    <tr style=\"text-align: right;\">\n",
       "      <th></th>\n",
       "      <th>HORA</th>\n",
       "      <th>DIA_SEMANA</th>\n",
       "      <th>DISTRITO</th>\n",
       "      <th>SEXO</th>\n",
       "      <th>EDAD_APROX</th>\n",
       "    </tr>\n",
       "  </thead>\n",
       "  <tbody>\n",
       "    <tr>\n",
       "      <th>0</th>\n",
       "      <td>19:00</td>\n",
       "      <td>JUEVES</td>\n",
       "      <td>8</td>\n",
       "      <td>MUJER</td>\n",
       "      <td>50</td>\n",
       "    </tr>\n",
       "  </tbody>\n",
       "</table>\n",
       "</div>"
      ],
      "text/plain": [
       "    HORA DIA_SEMANA  DISTRITO   SEXO EDAD_APROX\n",
       "0  19:00     JUEVES         8  MUJER         50"
      ]
     },
     "execution_count": 99,
     "metadata": {},
     "output_type": "execute_result"
    }
   ],
   "source": [
    "df_accs_lab_ohe_sample.head(1)"
   ]
  },
  {
   "cell_type": "code",
   "execution_count": 100,
   "metadata": {},
   "outputs": [
    {
     "data": {
      "image/png": "[encoded data removed]",
      "text/plain": [
       "<Figure size 432x288 with 4 Axes>"
      ]
     },
     "metadata": {
      "needs_background": "light"
     },
     "output_type": "display_data"
    }
   ],
   "source": [
    "# Draw some the histogram plots\n",
    "df_accs_lab_sample.drop(['DISTRITO'],1).hist()\n",
    "\n",
    "plt.show()"
   ]
  },
  {
   "cell_type": "code",
   "execution_count": 101,
   "metadata": {},
   "outputs": [
    {
     "data": {
      "text/plain": [
       "Index(['HORA', 'DIA_SEMANA', 'DISTRITO', 'SEXO', 'EDAD_APROX'], dtype='object')"
      ]
     },
     "execution_count": 101,
     "metadata": {},
     "output_type": "execute_result"
    }
   ],
   "source": [
    "df_accs_lab_sample.columns"
   ]
  },
  {
   "cell_type": "code",
   "execution_count": 102,
   "metadata": {},
   "outputs": [
    {
     "name": "stderr",
     "output_type": "stream",
     "text": [
      "/home/dsc/anaconda3/lib/python3.7/site-packages/scipy/stats/stats.py:1713: FutureWarning: Using a non-tuple sequence for multidimensional indexing is deprecated; use `arr[tuple(seq)]` instead of `arr[seq]`. In the future this will be interpreted as an array index, `arr[np.array(seq)]`, which will result either in an error or a different result.\n",
      "  return np.add.reduce(sorted[indexer] * weights, axis=axis) / sumval\n"
     ]
    },
    {
     "data": {
      "text/plain": [
       "<seaborn.axisgrid.PairGrid at 0x7f8805c23dd8>"
      ]
     },
     "execution_count": 102,
     "metadata": {},
     "output_type": "execute_result"
    },
    {
     "data": {
      "image/png": "[encoded data removed]",
      "text/plain": [
       "<Figure size 1206.38x1152 with 20 Axes>"
      ]
     },
     "metadata": {
      "needs_background": "light"
     },
     "output_type": "display_data"
    }
   ],
   "source": [
    "# And we can also see the interrelation using the pairs chart (scatter plot matrix) -> matriz de diagrama de dispersión\n",
    "# It allows us to see both the distribution of individual variables and the relationships between two variables.\n",
    "sb.pairplot(df_accs_lab_sample.dropna(), hue='DISTRITO',height=4,vars=['HORA', 'DIA_SEMANA', \\\n",
    "       'SEXO', 'EDAD_APROX'],kind='reg')"
   ]
  },
  {
   "cell_type": "code",
   "execution_count": 103,
   "metadata": {},
   "outputs": [
    {
     "data": {
      "text/plain": [
       "Index(['HORA', 'DIA_SEMANA', 'DISTRITO', 'SEXO', 'EDAD_APROX'], dtype='object')"
      ]
     },
     "execution_count": 103,
     "metadata": {},
     "output_type": "execute_result"
    }
   ],
   "source": [
    "df_accs_lab_sample.columns"
   ]
  },
  {
   "cell_type": "code",
   "execution_count": 104,
   "metadata": {},
   "outputs": [
    {
     "data": {
      "text/plain": [
       "<seaborn.axisgrid.PairGrid at 0x7f8804cc87b8>"
      ]
     },
     "execution_count": 104,
     "metadata": {},
     "output_type": "execute_result"
    },
    {
     "data": {
      "image/png": "[encoded data removed]",
      "text/plain": [
       "<Figure size 342.375x288 with 6 Axes>"
      ]
     },
     "metadata": {
      "needs_background": "light"
     },
     "output_type": "display_data"
    }
   ],
   "source": [
    "# Others combinations plots\n",
    "sb.pairplot(df_accs_lab_sample.dropna(), hue='DISTRITO',height=2,vars=['HORA', 'DIA_SEMANA'],kind='reg')"
   ]
  },
  {
   "cell_type": "code",
   "execution_count": 105,
   "metadata": {},
   "outputs": [],
   "source": [
    "# View data mapping with numbers"
   ]
  },
  {
   "cell_type": "code",
   "execution_count": 106,
   "metadata": {},
   "outputs": [
    {
     "data": {
      "text/html": [
       "<div>\n",
       "<style scoped>\n",
       "    .dataframe tbody tr th:only-of-type {\n",
       "        vertical-align: middle;\n",
       "    }\n",
       "\n",
       "    .dataframe tbody tr th {\n",
       "        vertical-align: top;\n",
       "    }\n",
       "\n",
       "    .dataframe thead tr th {\n",
       "        text-align: left;\n",
       "    }\n",
       "\n",
       "    .dataframe thead tr:last-of-type th {\n",
       "        text-align: right;\n",
       "    }\n",
       "</style>\n",
       "<table border=\"1\" class=\"dataframe\">\n",
       "  <thead>\n",
       "    <tr>\n",
       "      <th></th>\n",
       "      <th>HORA</th>\n",
       "      <th>DIA_SEMANA</th>\n",
       "      <th>SEXO</th>\n",
       "      <th>EDAD_APROX</th>\n",
       "    </tr>\n",
       "    <tr>\n",
       "      <th></th>\n",
       "      <th>count</th>\n",
       "      <th>count</th>\n",
       "      <th>count</th>\n",
       "      <th>count</th>\n",
       "    </tr>\n",
       "    <tr>\n",
       "      <th>DISTRITO</th>\n",
       "      <th></th>\n",
       "      <th></th>\n",
       "      <th></th>\n",
       "      <th></th>\n",
       "    </tr>\n",
       "  </thead>\n",
       "  <tbody>\n",
       "    <tr>\n",
       "      <th>0</th>\n",
       "      <td>523</td>\n",
       "      <td>523</td>\n",
       "      <td>523</td>\n",
       "      <td>523</td>\n",
       "    </tr>\n",
       "    <tr>\n",
       "      <th>1</th>\n",
       "      <td>128</td>\n",
       "      <td>128</td>\n",
       "      <td>128</td>\n",
       "      <td>128</td>\n",
       "    </tr>\n",
       "    <tr>\n",
       "      <th>2</th>\n",
       "      <td>595</td>\n",
       "      <td>595</td>\n",
       "      <td>595</td>\n",
       "      <td>595</td>\n",
       "    </tr>\n",
       "    <tr>\n",
       "      <th>3</th>\n",
       "      <td>698</td>\n",
       "      <td>698</td>\n",
       "      <td>698</td>\n",
       "      <td>698</td>\n",
       "    </tr>\n",
       "    <tr>\n",
       "      <th>4</th>\n",
       "      <td>763</td>\n",
       "      <td>763</td>\n",
       "      <td>763</td>\n",
       "      <td>763</td>\n",
       "    </tr>\n",
       "    <tr>\n",
       "      <th>5</th>\n",
       "      <td>597</td>\n",
       "      <td>597</td>\n",
       "      <td>597</td>\n",
       "      <td>597</td>\n",
       "    </tr>\n",
       "    <tr>\n",
       "      <th>6</th>\n",
       "      <td>657</td>\n",
       "      <td>657</td>\n",
       "      <td>657</td>\n",
       "      <td>657</td>\n",
       "    </tr>\n",
       "    <tr>\n",
       "      <th>7</th>\n",
       "      <td>574</td>\n",
       "      <td>574</td>\n",
       "      <td>574</td>\n",
       "      <td>574</td>\n",
       "    </tr>\n",
       "    <tr>\n",
       "      <th>8</th>\n",
       "      <td>363</td>\n",
       "      <td>363</td>\n",
       "      <td>363</td>\n",
       "      <td>363</td>\n",
       "    </tr>\n",
       "    <tr>\n",
       "      <th>9</th>\n",
       "      <td>477</td>\n",
       "      <td>477</td>\n",
       "      <td>477</td>\n",
       "      <td>477</td>\n",
       "    </tr>\n",
       "    <tr>\n",
       "      <th>10</th>\n",
       "      <td>500</td>\n",
       "      <td>500</td>\n",
       "      <td>500</td>\n",
       "      <td>500</td>\n",
       "    </tr>\n",
       "    <tr>\n",
       "      <th>11</th>\n",
       "      <td>246</td>\n",
       "      <td>246</td>\n",
       "      <td>246</td>\n",
       "      <td>246</td>\n",
       "    </tr>\n",
       "    <tr>\n",
       "      <th>12</th>\n",
       "      <td>639</td>\n",
       "      <td>639</td>\n",
       "      <td>639</td>\n",
       "      <td>639</td>\n",
       "    </tr>\n",
       "    <tr>\n",
       "      <th>13</th>\n",
       "      <td>528</td>\n",
       "      <td>528</td>\n",
       "      <td>528</td>\n",
       "      <td>528</td>\n",
       "    </tr>\n",
       "    <tr>\n",
       "      <th>14</th>\n",
       "      <td>785</td>\n",
       "      <td>785</td>\n",
       "      <td>785</td>\n",
       "      <td>785</td>\n",
       "    </tr>\n",
       "    <tr>\n",
       "      <th>15</th>\n",
       "      <td>420</td>\n",
       "      <td>420</td>\n",
       "      <td>420</td>\n",
       "      <td>420</td>\n",
       "    </tr>\n",
       "    <tr>\n",
       "      <th>16</th>\n",
       "      <td>525</td>\n",
       "      <td>525</td>\n",
       "      <td>525</td>\n",
       "      <td>525</td>\n",
       "    </tr>\n",
       "    <tr>\n",
       "      <th>17</th>\n",
       "      <td>364</td>\n",
       "      <td>364</td>\n",
       "      <td>364</td>\n",
       "      <td>364</td>\n",
       "    </tr>\n",
       "    <tr>\n",
       "      <th>18</th>\n",
       "      <td>107</td>\n",
       "      <td>107</td>\n",
       "      <td>107</td>\n",
       "      <td>107</td>\n",
       "    </tr>\n",
       "    <tr>\n",
       "      <th>19</th>\n",
       "      <td>215</td>\n",
       "      <td>215</td>\n",
       "      <td>215</td>\n",
       "      <td>215</td>\n",
       "    </tr>\n",
       "    <tr>\n",
       "      <th>20</th>\n",
       "      <td>296</td>\n",
       "      <td>296</td>\n",
       "      <td>296</td>\n",
       "      <td>296</td>\n",
       "    </tr>\n",
       "  </tbody>\n",
       "</table>\n",
       "</div>"
      ],
      "text/plain": [
       "          HORA DIA_SEMANA  SEXO EDAD_APROX\n",
       "         count      count count      count\n",
       "DISTRITO                                  \n",
       "0          523        523   523        523\n",
       "1          128        128   128        128\n",
       "2          595        595   595        595\n",
       "3          698        698   698        698\n",
       "4          763        763   763        763\n",
       "5          597        597   597        597\n",
       "6          657        657   657        657\n",
       "7          574        574   574        574\n",
       "8          363        363   363        363\n",
       "9          477        477   477        477\n",
       "10         500        500   500        500\n",
       "11         246        246   246        246\n",
       "12         639        639   639        639\n",
       "13         528        528   528        528\n",
       "14         785        785   785        785\n",
       "15         420        420   420        420\n",
       "16         525        525   525        525\n",
       "17         364        364   364        364\n",
       "18         107        107   107        107\n",
       "19         215        215   215        215\n",
       "20         296        296   296        296"
      ]
     },
     "execution_count": 106,
     "metadata": {},
     "output_type": "execute_result"
    }
   ],
   "source": [
    "df_accs_lab_ohe_sample.groupby(['DISTRITO'], as_index=False).agg(['count'])"
   ]
  },
  {
   "cell_type": "code",
   "execution_count": 107,
   "metadata": {},
   "outputs": [
    {
     "data": {
      "text/html": [
       "<div>\n",
       "<style scoped>\n",
       "    .dataframe tbody tr th:only-of-type {\n",
       "        vertical-align: middle;\n",
       "    }\n",
       "\n",
       "    .dataframe tbody tr th {\n",
       "        vertical-align: top;\n",
       "    }\n",
       "\n",
       "    .dataframe thead th {\n",
       "        text-align: right;\n",
       "    }\n",
       "</style>\n",
       "<table border=\"1\" class=\"dataframe\">\n",
       "  <thead>\n",
       "    <tr style=\"text-align: right;\">\n",
       "      <th></th>\n",
       "      <th>HORA</th>\n",
       "      <th>DIA_SEMANA</th>\n",
       "      <th>DISTRITO</th>\n",
       "      <th>SEXO</th>\n",
       "      <th>EDAD_APROX</th>\n",
       "    </tr>\n",
       "  </thead>\n",
       "  <tbody>\n",
       "    <tr>\n",
       "      <th>0</th>\n",
       "      <td>19:00</td>\n",
       "      <td>JUEVES</td>\n",
       "      <td>8</td>\n",
       "      <td>MUJER</td>\n",
       "      <td>50</td>\n",
       "    </tr>\n",
       "  </tbody>\n",
       "</table>\n",
       "</div>"
      ],
      "text/plain": [
       "    HORA DIA_SEMANA  DISTRITO   SEXO EDAD_APROX\n",
       "0  19:00     JUEVES         8  MUJER         50"
      ]
     },
     "execution_count": 107,
     "metadata": {},
     "output_type": "execute_result"
    }
   ],
   "source": [
    "df_accs_lab_ohe_sample.head(1)"
   ]
  },
  {
   "cell_type": "code",
   "execution_count": 108,
   "metadata": {},
   "outputs": [
    {
     "data": {
      "text/html": [
       "<div>\n",
       "<style scoped>\n",
       "    .dataframe tbody tr th:only-of-type {\n",
       "        vertical-align: middle;\n",
       "    }\n",
       "\n",
       "    .dataframe tbody tr th {\n",
       "        vertical-align: top;\n",
       "    }\n",
       "\n",
       "    .dataframe thead th {\n",
       "        text-align: right;\n",
       "    }\n",
       "</style>\n",
       "<table border=\"1\" class=\"dataframe\">\n",
       "  <thead>\n",
       "    <tr style=\"text-align: right;\">\n",
       "      <th></th>\n",
       "      <th>HORA</th>\n",
       "      <th>DIA_SEMANA</th>\n",
       "      <th>DISTRITO</th>\n",
       "      <th>SEXO</th>\n",
       "      <th>EDAD_APROX</th>\n",
       "    </tr>\n",
       "  </thead>\n",
       "  <tbody>\n",
       "    <tr>\n",
       "      <th>0</th>\n",
       "      <td>00:00</td>\n",
       "      <td>VIERNES</td>\n",
       "      <td>CHAMARTIN</td>\n",
       "      <td>HOMBRE</td>\n",
       "      <td>20</td>\n",
       "    </tr>\n",
       "  </tbody>\n",
       "</table>\n",
       "</div>"
      ],
      "text/plain": [
       "    HORA DIA_SEMANA   DISTRITO    SEXO EDAD_APROX\n",
       "0  00:00    VIERNES  CHAMARTIN  HOMBRE         20"
      ]
     },
     "execution_count": 108,
     "metadata": {},
     "output_type": "execute_result"
    }
   ],
   "source": [
    "df_accs_lab_ohe.head(1)"
   ]
  },
  {
   "cell_type": "code",
   "execution_count": 109,
   "metadata": {},
   "outputs": [],
   "source": [
    "df_accs_lab_ohe['HORA']= lab.fit_transform(df_accs_lab_ohe['HORA'])\n",
    "df_accs_lab_ohe['DIA_SEMANA']= lab.fit_transform(df_accs_lab_ohe['DIA_SEMANA'])\n",
    "#df_accs_lab_ohe['DISTRITO']= lab.fit_transform(df_accs_lab_ohe['DISTRITO'])\n",
    "df_accs_lab_ohe['SEXO']= lab.fit_transform(df_accs_lab_ohe['SEXO'])\n",
    "df_accs_lab_ohe['EDAD_APROX']= lab.fit_transform(df_accs_lab_ohe['EDAD_APROX'])"
   ]
  },
  {
   "cell_type": "code",
   "execution_count": 110,
   "metadata": {},
   "outputs": [
    {
     "data": {
      "text/html": [
       "<div>\n",
       "<style scoped>\n",
       "    .dataframe tbody tr th:only-of-type {\n",
       "        vertical-align: middle;\n",
       "    }\n",
       "\n",
       "    .dataframe tbody tr th {\n",
       "        vertical-align: top;\n",
       "    }\n",
       "\n",
       "    .dataframe thead th {\n",
       "        text-align: right;\n",
       "    }\n",
       "</style>\n",
       "<table border=\"1\" class=\"dataframe\">\n",
       "  <thead>\n",
       "    <tr style=\"text-align: right;\">\n",
       "      <th></th>\n",
       "      <th>HORA</th>\n",
       "      <th>DIA_SEMANA</th>\n",
       "      <th>DISTRITO</th>\n",
       "      <th>SEXO</th>\n",
       "      <th>EDAD_APROX</th>\n",
       "    </tr>\n",
       "  </thead>\n",
       "  <tbody>\n",
       "    <tr>\n",
       "      <th>0</th>\n",
       "      <td>0</td>\n",
       "      <td>6</td>\n",
       "      <td>CHAMARTIN</td>\n",
       "      <td>0</td>\n",
       "      <td>3</td>\n",
       "    </tr>\n",
       "  </tbody>\n",
       "</table>\n",
       "</div>"
      ],
      "text/plain": [
       "   HORA  DIA_SEMANA   DISTRITO  SEXO  EDAD_APROX\n",
       "0     0           6  CHAMARTIN     0           3"
      ]
     },
     "execution_count": 110,
     "metadata": {},
     "output_type": "execute_result"
    }
   ],
   "source": [
    "df_accs_lab_ohe.head(1)"
   ]
  },
  {
   "cell_type": "code",
   "execution_count": 111,
   "metadata": {},
   "outputs": [
    {
     "data": {
      "text/plain": [
       "(252998, 4)"
      ]
     },
     "execution_count": 111,
     "metadata": {},
     "output_type": "execute_result"
    }
   ],
   "source": [
    "# Load variables with sample data.\n",
    "X = np.array(df_accs_lab_ohe.drop('DISTRITO', 1))\n",
    "y = np.array(df_accs_lab_ohe[\"DISTRITO\"])\n",
    "X.shape"
   ]
  },
  {
   "cell_type": "code",
   "execution_count": 112,
   "metadata": {},
   "outputs": [],
   "source": [
    "# Train-test split and load the library\n",
    "from sklearn.model_selection import train_test_split\n",
    "# Create 2 groups each with input and labels\n",
    "X_train, X_test, y_train, y_test = train_test_split(X, y, test_size=0.20)"
   ]
  },
  {
   "cell_type": "code",
   "execution_count": 113,
   "metadata": {},
   "outputs": [],
   "source": [
    "# Feature Scaling\n",
    "from sklearn.preprocessing import StandardScaler \n",
    "sc = StandardScaler() \n",
    "X_train = sc.fit_transform(X_train) \n",
    "X_test = sc.transform(X_test)"
   ]
  },
  {
   "cell_type": "code",
   "execution_count": 114,
   "metadata": {},
   "outputs": [],
   "source": [
    "from sklearn.preprocessing import OneHotEncoder\n",
    "from sklearn.preprocessing import LabelEncoder"
   ]
  },
  {
   "cell_type": "code",
   "execution_count": 115,
   "metadata": {},
   "outputs": [
    {
     "data": {
      "text/plain": [
       "Index(['HORA', 'DIA_SEMANA', 'DISTRITO', 'SEXO', 'EDAD_APROX'], dtype='object')"
      ]
     },
     "execution_count": 115,
     "metadata": {},
     "output_type": "execute_result"
    }
   ],
   "source": [
    "df_accs_lab_ohe.columns"
   ]
  },
  {
   "cell_type": "code",
   "execution_count": 116,
   "metadata": {},
   "outputs": [
    {
     "data": {
      "text/html": [
       "<div>\n",
       "<style scoped>\n",
       "    .dataframe tbody tr th:only-of-type {\n",
       "        vertical-align: middle;\n",
       "    }\n",
       "\n",
       "    .dataframe tbody tr th {\n",
       "        vertical-align: top;\n",
       "    }\n",
       "\n",
       "    .dataframe thead th {\n",
       "        text-align: right;\n",
       "    }\n",
       "</style>\n",
       "<table border=\"1\" class=\"dataframe\">\n",
       "  <thead>\n",
       "    <tr style=\"text-align: right;\">\n",
       "      <th></th>\n",
       "      <th>HORA</th>\n",
       "      <th>DIA_SEMANA</th>\n",
       "      <th>DISTRITO</th>\n",
       "      <th>SEXO</th>\n",
       "      <th>EDAD_APROX</th>\n",
       "    </tr>\n",
       "  </thead>\n",
       "  <tbody>\n",
       "    <tr>\n",
       "      <th>0</th>\n",
       "      <td>0</td>\n",
       "      <td>6</td>\n",
       "      <td>CHAMARTIN</td>\n",
       "      <td>0</td>\n",
       "      <td>3</td>\n",
       "    </tr>\n",
       "  </tbody>\n",
       "</table>\n",
       "</div>"
      ],
      "text/plain": [
       "   HORA  DIA_SEMANA   DISTRITO  SEXO  EDAD_APROX\n",
       "0     0           6  CHAMARTIN     0           3"
      ]
     },
     "execution_count": 116,
     "metadata": {},
     "output_type": "execute_result"
    }
   ],
   "source": [
    "df_accs_lab_ohe.head(1)"
   ]
  },
  {
   "cell_type": "code",
   "execution_count": 117,
   "metadata": {},
   "outputs": [
    {
     "data": {
      "text/plain": [
       "(252998, 5)"
      ]
     },
     "execution_count": 117,
     "metadata": {},
     "output_type": "execute_result"
    }
   ],
   "source": [
    "df_accs_lab_ohe.shape"
   ]
  },
  {
   "cell_type": "code",
   "execution_count": 118,
   "metadata": {},
   "outputs": [
    {
     "data": {
      "text/plain": [
       "HORA          0\n",
       "DIA_SEMANA    0\n",
       "DISTRITO      0\n",
       "SEXO          0\n",
       "EDAD_APROX    0\n",
       "dtype: int64"
      ]
     },
     "execution_count": 118,
     "metadata": {},
     "output_type": "execute_result"
    }
   ],
   "source": [
    "df_accs_lab_ohe.isnull().sum()"
   ]
  },
  {
   "cell_type": "code",
   "execution_count": 119,
   "metadata": {},
   "outputs": [
    {
     "data": {
      "text/plain": [
       "OneHotEncoder(categorical_features=None, categories=None, drop=None,\n",
       "              dtype=<class 'numpy.float64'>, handle_unknown='ignore',\n",
       "              n_values=None, sparse=True)"
      ]
     },
     "execution_count": 119,
     "metadata": {},
     "output_type": "execute_result"
    }
   ],
   "source": [
    "# Create the encoder (by OneotEncoder)\n",
    "encoder = OneHotEncoder(handle_unknown='ignore')\n",
    "# Assume for simplicity all features are categorical.\n",
    "encoder.fit(X_train)"
   ]
  },
  {
   "cell_type": "code",
   "execution_count": 120,
   "metadata": {},
   "outputs": [],
   "source": [
    "# Apply the encoder.\n",
    "X_train = encoder.transform(X_train)\n",
    "X_test = encoder.transform(X_test)"
   ]
  },
  {
   "cell_type": "code",
   "execution_count": 121,
   "metadata": {},
   "outputs": [
    {
     "data": {
      "text/plain": [
       "(252998, 4)"
      ]
     },
     "execution_count": 121,
     "metadata": {},
     "output_type": "execute_result"
    }
   ],
   "source": [
    "X.shape"
   ]
  },
  {
   "cell_type": "code",
   "execution_count": 122,
   "metadata": {},
   "outputs": [
    {
     "data": {
      "text/plain": [
       "<202398x49 sparse matrix of type '<class 'numpy.float64'>'\n",
       "\twith 809592 stored elements in Compressed Sparse Row format>"
      ]
     },
     "execution_count": 122,
     "metadata": {},
     "output_type": "execute_result"
    }
   ],
   "source": [
    "X_train"
   ]
  },
  {
   "cell_type": "code",
   "execution_count": 123,
   "metadata": {},
   "outputs": [
    {
     "data": {
      "text/plain": [
       "<50600x49 sparse matrix of type '<class 'numpy.float64'>'\n",
       "\twith 202400 stored elements in Compressed Sparse Row format>"
      ]
     },
     "execution_count": 123,
     "metadata": {},
     "output_type": "execute_result"
    }
   ],
   "source": [
    "X_test"
   ]
  },
  {
   "cell_type": "markdown",
   "metadata": {},
   "source": [
    "### Logistic Regression with SKLearn"
   ]
  },
  {
   "cell_type": "code",
   "execution_count": 124,
   "metadata": {},
   "outputs": [
    {
     "data": {
      "text/plain": [
       "LogisticRegression(C=1.0, class_weight=None, dual=False, fit_intercept=True,\n",
       "                   intercept_scaling=1, l1_ratio=None, max_iter=10000,\n",
       "                   multi_class='auto', n_jobs=None, penalty='l2',\n",
       "                   random_state=None, solver='sag', tol=0.0001, verbose=0,\n",
       "                   warm_start=False)"
      ]
     },
     "execution_count": 124,
     "metadata": {},
     "output_type": "execute_result"
    }
   ],
   "source": [
    "# Create teh Regression Logistic model and we make it fit (ajuste) to our set of inputs X and outputs \"y\".\n",
    "from sklearn.linear_model.sag import sag_solver\n",
    "model_LOGREG = linear_model.LogisticRegression(multi_class='auto', solver='sag', verbose=0, max_iter=10000)\n",
    "model_LOGREG.fit(X_train,y_train)"
   ]
  },
  {
   "cell_type": "code",
   "execution_count": 125,
   "metadata": {},
   "outputs": [],
   "source": [
    "# We classify our entire set of X inputs using the \"predict (X)\" method for the model\n",
    "# and we review some of its outputs to see if it matches the actual outputs of our origin\n",
    "predictions_LOGREG = model_LOGREG.predict(X_test)"
   ]
  },
  {
   "cell_type": "code",
   "execution_count": 126,
   "metadata": {},
   "outputs": [],
   "source": [
    "# Check prediction classifier"
   ]
  },
  {
   "cell_type": "code",
   "execution_count": 127,
   "metadata": {},
   "outputs": [
    {
     "name": "stdout",
     "output_type": "stream",
     "text": [
      "CENTRO\n"
     ]
    }
   ],
   "source": [
    "print(predictions_LOGREG[22])"
   ]
  },
  {
   "cell_type": "code",
   "execution_count": 128,
   "metadata": {},
   "outputs": [
    {
     "data": {
      "text/plain": [
       "numpy.ndarray"
      ]
     },
     "execution_count": 128,
     "metadata": {},
     "output_type": "execute_result"
    }
   ],
   "source": [
    "type(predictions_LOGREG)"
   ]
  },
  {
   "cell_type": "code",
   "execution_count": 129,
   "metadata": {},
   "outputs": [
    {
     "data": {
      "text/plain": [
       "dtype('O')"
      ]
     },
     "execution_count": 129,
     "metadata": {},
     "output_type": "execute_result"
    }
   ],
   "source": [
    "predictions_LOGREG.dtype"
   ]
  },
  {
   "cell_type": "code",
   "execution_count": 130,
   "metadata": {},
   "outputs": [
    {
     "data": {
      "text/plain": [
       "(50600,)"
      ]
     },
     "execution_count": 130,
     "metadata": {},
     "output_type": "execute_result"
    }
   ],
   "source": [
    "predictions_LOGREG.shape"
   ]
  },
  {
   "cell_type": "code",
   "execution_count": 131,
   "metadata": {},
   "outputs": [],
   "source": [
    "# Check model efficiency "
   ]
  },
  {
   "cell_type": "code",
   "execution_count": 132,
   "metadata": {},
   "outputs": [
    {
     "name": "stdout",
     "output_type": "stream",
     "text": [
      "0.08855731225296443\n"
     ]
    }
   ],
   "source": [
    "print(accuracy_score(y_test, predictions_LOGREG))"
   ]
  },
  {
   "cell_type": "code",
   "execution_count": 133,
   "metadata": {},
   "outputs": [
    {
     "data": {
      "text/plain": [
       "0.08855731225296443"
      ]
     },
     "execution_count": 133,
     "metadata": {},
     "output_type": "execute_result"
    }
   ],
   "source": [
    "# The Quality of our model, gives us the average accuracy of the predictions\n",
    "model_LOGREG.score(X_test,y_test)"
   ]
  },
  {
   "cell_type": "markdown",
   "metadata": {},
   "source": [
    "### WE ADD NEW VARIABLES TO TRY TO IMPROVE THE MODEL"
   ]
  },
  {
   "cell_type": "code",
   "execution_count": 134,
   "metadata": {},
   "outputs": [],
   "source": [
    "# We incorporate a new csv file, downloaded from the same website"
   ]
  },
  {
   "cell_type": "code",
   "execution_count": 135,
   "metadata": {},
   "outputs": [
    {
     "name": "stdout",
     "output_type": "stream",
     "text": [
      "-rw-rw-r-- 1 dsc dsc 1164 nov 22 17:41 ../02_Development/distritos_municipio_madrid.csv\r\n"
     ]
    }
   ],
   "source": [
    "!ls -ltr '../02_Development/distritos_municipio_madrid.csv'"
   ]
  },
  {
   "cell_type": "code",
   "execution_count": 136,
   "metadata": {},
   "outputs": [
    {
     "data": {
      "text/plain": [
       "'/home/dsc/Repos/TFM_Accident_reduction_plan_in_the_city_of_Madrid/03_Presentation'"
      ]
     },
     "execution_count": 136,
     "metadata": {},
     "output_type": "execute_result"
    }
   ],
   "source": [
    "import os\n",
    "os.getcwd()"
   ]
  },
  {
   "cell_type": "code",
   "execution_count": 137,
   "metadata": {},
   "outputs": [],
   "source": [
    "df_distritos = pd.read_csv(\"../02_Development/distritos_municipio_madrid.csv\", sep=';', encoding='latin-1')"
   ]
  },
  {
   "cell_type": "code",
   "execution_count": 138,
   "metadata": {},
   "outputs": [],
   "source": [
    "# Data Preparation"
   ]
  },
  {
   "cell_type": "code",
   "execution_count": 139,
   "metadata": {},
   "outputs": [
    {
     "data": {
      "text/plain": [
       "Index(['distrito_codigo', 'distrito_nombre', 'municipio_codigo',\n",
       "       'municipio_nombre', 'superficie_km2', 'densidad_por_km2'],\n",
       "      dtype='object')"
      ]
     },
     "execution_count": 139,
     "metadata": {},
     "output_type": "execute_result"
    }
   ],
   "source": [
    "df_distritos.columns"
   ]
  },
  {
   "cell_type": "code",
   "execution_count": 140,
   "metadata": {},
   "outputs": [
    {
     "data": {
      "text/html": [
       "<div>\n",
       "<style scoped>\n",
       "    .dataframe tbody tr th:only-of-type {\n",
       "        vertical-align: middle;\n",
       "    }\n",
       "\n",
       "    .dataframe tbody tr th {\n",
       "        vertical-align: top;\n",
       "    }\n",
       "\n",
       "    .dataframe thead th {\n",
       "        text-align: right;\n",
       "    }\n",
       "</style>\n",
       "<table border=\"1\" class=\"dataframe\">\n",
       "  <thead>\n",
       "    <tr style=\"text-align: right;\">\n",
       "      <th></th>\n",
       "      <th>distrito_codigo</th>\n",
       "      <th>distrito_nombre</th>\n",
       "      <th>municipio_codigo</th>\n",
       "      <th>municipio_nombre</th>\n",
       "      <th>superficie_km2</th>\n",
       "      <th>densidad_por_km2</th>\n",
       "    </tr>\n",
       "  </thead>\n",
       "  <tbody>\n",
       "    <tr>\n",
       "      <th>0</th>\n",
       "      <td>79601</td>\n",
       "      <td>Centro</td>\n",
       "      <td>796</td>\n",
       "      <td>Madrid</td>\n",
       "      <td>5.21</td>\n",
       "      <td>25340.69</td>\n",
       "    </tr>\n",
       "    <tr>\n",
       "      <th>1</th>\n",
       "      <td>79602</td>\n",
       "      <td>Arganzuela</td>\n",
       "      <td>796</td>\n",
       "      <td>Madrid</td>\n",
       "      <td>6.52</td>\n",
       "      <td>23306.44</td>\n",
       "    </tr>\n",
       "    <tr>\n",
       "      <th>2</th>\n",
       "      <td>79603</td>\n",
       "      <td>Retiro</td>\n",
       "      <td>796</td>\n",
       "      <td>Madrid</td>\n",
       "      <td>5.42</td>\n",
       "      <td>21867.53</td>\n",
       "    </tr>\n",
       "  </tbody>\n",
       "</table>\n",
       "</div>"
      ],
      "text/plain": [
       "   distrito_codigo  distrito_nombre  municipio_codigo municipio_nombre  \\\n",
       "0            79601          Centro                796           Madrid   \n",
       "1            79602      Arganzuela                796           Madrid   \n",
       "2            79603          Retiro                796           Madrid   \n",
       "\n",
       "   superficie_km2  densidad_por_km2  \n",
       "0            5.21          25340.69  \n",
       "1            6.52          23306.44  \n",
       "2            5.42          21867.53  "
      ]
     },
     "execution_count": 140,
     "metadata": {},
     "output_type": "execute_result"
    }
   ],
   "source": [
    "df_distritos.head(3)"
   ]
  },
  {
   "cell_type": "code",
   "execution_count": 141,
   "metadata": {},
   "outputs": [],
   "source": [
    "drop_elements = ['municipio_codigo', 'municipio_nombre']\n",
    "df_distritos_lab = df_distritos.drop(drop_elements, axis = 1)"
   ]
  },
  {
   "cell_type": "code",
   "execution_count": 142,
   "metadata": {},
   "outputs": [
    {
     "data": {
      "text/plain": [
       "Index(['distrito_codigo', 'distrito_nombre', 'superficie_km2',\n",
       "       'densidad_por_km2'],\n",
       "      dtype='object')"
      ]
     },
     "execution_count": 142,
     "metadata": {},
     "output_type": "execute_result"
    }
   ],
   "source": [
    "df_distritos_lab.columns"
   ]
  },
  {
   "cell_type": "code",
   "execution_count": 143,
   "metadata": {},
   "outputs": [
    {
     "data": {
      "text/html": [
       "<div>\n",
       "<style scoped>\n",
       "    .dataframe tbody tr th:only-of-type {\n",
       "        vertical-align: middle;\n",
       "    }\n",
       "\n",
       "    .dataframe tbody tr th {\n",
       "        vertical-align: top;\n",
       "    }\n",
       "\n",
       "    .dataframe thead th {\n",
       "        text-align: right;\n",
       "    }\n",
       "</style>\n",
       "<table border=\"1\" class=\"dataframe\">\n",
       "  <thead>\n",
       "    <tr style=\"text-align: right;\">\n",
       "      <th></th>\n",
       "      <th>distrito_codigo</th>\n",
       "      <th>distrito_nombre</th>\n",
       "      <th>superficie_km2</th>\n",
       "      <th>densidad_por_km2</th>\n",
       "    </tr>\n",
       "  </thead>\n",
       "  <tbody>\n",
       "    <tr>\n",
       "      <th>0</th>\n",
       "      <td>79601</td>\n",
       "      <td>Centro</td>\n",
       "      <td>5.21</td>\n",
       "      <td>25340.69</td>\n",
       "    </tr>\n",
       "    <tr>\n",
       "      <th>1</th>\n",
       "      <td>79602</td>\n",
       "      <td>Arganzuela</td>\n",
       "      <td>6.52</td>\n",
       "      <td>23306.44</td>\n",
       "    </tr>\n",
       "    <tr>\n",
       "      <th>2</th>\n",
       "      <td>79603</td>\n",
       "      <td>Retiro</td>\n",
       "      <td>5.42</td>\n",
       "      <td>21867.53</td>\n",
       "    </tr>\n",
       "  </tbody>\n",
       "</table>\n",
       "</div>"
      ],
      "text/plain": [
       "   distrito_codigo  distrito_nombre  superficie_km2  densidad_por_km2\n",
       "0            79601          Centro             5.21          25340.69\n",
       "1            79602      Arganzuela             6.52          23306.44\n",
       "2            79603          Retiro             5.42          21867.53"
      ]
     },
     "execution_count": 143,
     "metadata": {},
     "output_type": "execute_result"
    }
   ],
   "source": [
    "df_distritos_lab.head(3)"
   ]
  },
  {
   "cell_type": "code",
   "execution_count": 144,
   "metadata": {},
   "outputs": [
    {
     "data": {
      "text/plain": [
       "distrito_codigo       int64\n",
       "distrito_nombre      object\n",
       "superficie_km2      float64\n",
       "densidad_por_km2    float64\n",
       "dtype: object"
      ]
     },
     "execution_count": 144,
     "metadata": {},
     "output_type": "execute_result"
    }
   ],
   "source": [
    "df_distritos_lab.dtypes"
   ]
  },
  {
   "cell_type": "code",
   "execution_count": 145,
   "metadata": {},
   "outputs": [
    {
     "data": {
      "text/plain": [
       "(21, 4)"
      ]
     },
     "execution_count": 145,
     "metadata": {},
     "output_type": "execute_result"
    }
   ],
   "source": [
    "df_distritos_lab.shape"
   ]
  },
  {
   "cell_type": "code",
   "execution_count": 146,
   "metadata": {},
   "outputs": [
    {
     "data": {
      "text/plain": [
       "Index(['HORA', 'DIA_SEMANA', 'DISTRITO', 'SEXO', 'EDAD_APROX'], dtype='object')"
      ]
     },
     "execution_count": 146,
     "metadata": {},
     "output_type": "execute_result"
    }
   ],
   "source": [
    "df_accs.columns"
   ]
  },
  {
   "cell_type": "code",
   "execution_count": 147,
   "metadata": {},
   "outputs": [],
   "source": [
    "df_distritos_lab = df_distritos_lab.rename(columns = {'distrito_nombre':'DISTRITO'})"
   ]
  },
  {
   "cell_type": "code",
   "execution_count": 148,
   "metadata": {},
   "outputs": [
    {
     "data": {
      "text/html": [
       "<div>\n",
       "<style scoped>\n",
       "    .dataframe tbody tr th:only-of-type {\n",
       "        vertical-align: middle;\n",
       "    }\n",
       "\n",
       "    .dataframe tbody tr th {\n",
       "        vertical-align: top;\n",
       "    }\n",
       "\n",
       "    .dataframe thead th {\n",
       "        text-align: right;\n",
       "    }\n",
       "</style>\n",
       "<table border=\"1\" class=\"dataframe\">\n",
       "  <thead>\n",
       "    <tr style=\"text-align: right;\">\n",
       "      <th></th>\n",
       "      <th>distrito_codigo</th>\n",
       "      <th>DISTRITO</th>\n",
       "      <th>superficie_km2</th>\n",
       "      <th>densidad_por_km2</th>\n",
       "    </tr>\n",
       "  </thead>\n",
       "  <tbody>\n",
       "    <tr>\n",
       "      <th>0</th>\n",
       "      <td>79601</td>\n",
       "      <td>Centro</td>\n",
       "      <td>5.21</td>\n",
       "      <td>25340.69</td>\n",
       "    </tr>\n",
       "    <tr>\n",
       "      <th>1</th>\n",
       "      <td>79602</td>\n",
       "      <td>Arganzuela</td>\n",
       "      <td>6.52</td>\n",
       "      <td>23306.44</td>\n",
       "    </tr>\n",
       "    <tr>\n",
       "      <th>2</th>\n",
       "      <td>79603</td>\n",
       "      <td>Retiro</td>\n",
       "      <td>5.42</td>\n",
       "      <td>21867.53</td>\n",
       "    </tr>\n",
       "    <tr>\n",
       "      <th>3</th>\n",
       "      <td>79604</td>\n",
       "      <td>Salamanca</td>\n",
       "      <td>5.36</td>\n",
       "      <td>26830.78</td>\n",
       "    </tr>\n",
       "    <tr>\n",
       "      <th>4</th>\n",
       "      <td>79605</td>\n",
       "      <td>Chamartín</td>\n",
       "      <td>9.12</td>\n",
       "      <td>15723.25</td>\n",
       "    </tr>\n",
       "  </tbody>\n",
       "</table>\n",
       "</div>"
      ],
      "text/plain": [
       "   distrito_codigo         DISTRITO  superficie_km2  densidad_por_km2\n",
       "0            79601          Centro             5.21          25340.69\n",
       "1            79602      Arganzuela             6.52          23306.44\n",
       "2            79603          Retiro             5.42          21867.53\n",
       "3            79604       Salamanca             5.36          26830.78\n",
       "4            79605       Chamartín             9.12          15723.25"
      ]
     },
     "execution_count": 148,
     "metadata": {},
     "output_type": "execute_result"
    }
   ],
   "source": [
    "df_distritos_lab.head()"
   ]
  },
  {
   "cell_type": "code",
   "execution_count": 149,
   "metadata": {},
   "outputs": [
    {
     "data": {
      "text/html": [
       "<div>\n",
       "<style scoped>\n",
       "    .dataframe tbody tr th:only-of-type {\n",
       "        vertical-align: middle;\n",
       "    }\n",
       "\n",
       "    .dataframe tbody tr th {\n",
       "        vertical-align: top;\n",
       "    }\n",
       "\n",
       "    .dataframe thead th {\n",
       "        text-align: right;\n",
       "    }\n",
       "</style>\n",
       "<table border=\"1\" class=\"dataframe\">\n",
       "  <thead>\n",
       "    <tr style=\"text-align: right;\">\n",
       "      <th></th>\n",
       "      <th>HORA</th>\n",
       "      <th>DIA_SEMANA</th>\n",
       "      <th>DISTRITO</th>\n",
       "      <th>SEXO</th>\n",
       "      <th>EDAD_APROX</th>\n",
       "    </tr>\n",
       "  </thead>\n",
       "  <tbody>\n",
       "    <tr>\n",
       "      <th>0</th>\n",
       "      <td>00:00</td>\n",
       "      <td>VIERNES</td>\n",
       "      <td>CHAMARTIN</td>\n",
       "      <td>HOMBRE</td>\n",
       "      <td>20</td>\n",
       "    </tr>\n",
       "    <tr>\n",
       "      <th>1</th>\n",
       "      <td>00:00</td>\n",
       "      <td>VIERNES</td>\n",
       "      <td>CHAMARTIN</td>\n",
       "      <td>HOMBRE</td>\n",
       "      <td>50</td>\n",
       "    </tr>\n",
       "    <tr>\n",
       "      <th>2</th>\n",
       "      <td>00:00</td>\n",
       "      <td>VIERNES</td>\n",
       "      <td>CHAMARTIN</td>\n",
       "      <td>MUJER</td>\n",
       "      <td>40</td>\n",
       "    </tr>\n",
       "  </tbody>\n",
       "</table>\n",
       "</div>"
      ],
      "text/plain": [
       "    HORA DIA_SEMANA   DISTRITO    SEXO EDAD_APROX\n",
       "0  00:00    VIERNES  CHAMARTIN  HOMBRE         20\n",
       "1  00:00    VIERNES  CHAMARTIN  HOMBRE         50\n",
       "2  00:00    VIERNES  CHAMARTIN   MUJER         40"
      ]
     },
     "execution_count": 149,
     "metadata": {},
     "output_type": "execute_result"
    }
   ],
   "source": [
    "df_accs.head(3)"
   ]
  },
  {
   "cell_type": "code",
   "execution_count": 150,
   "metadata": {},
   "outputs": [
    {
     "data": {
      "text/plain": [
       "array(['CHAMARTIN', 'PUENTE DE VALLECAS', 'CHAMBERI', 'RETIRO',\n",
       "       'SALAMANCA', 'CARABANCHEL', 'CIUDAD LINEAL', 'MONCLOA-ARAVACA',\n",
       "       'TETUAN', 'VILLA DE VALLECAS', 'MORATALAZ', 'ARGANZUELA',\n",
       "       'SAN BLAS', 'VILLAVERDE', 'HORTALEZA', 'FUENCARRAL-EL PARDO',\n",
       "       'VICALVARO', 'USERA', 'LATINA', 'BARAJAS', 'CENTRO'], dtype=object)"
      ]
     },
     "execution_count": 150,
     "metadata": {},
     "output_type": "execute_result"
    }
   ],
   "source": [
    "df_accs['DISTRITO'].unique()"
   ]
  },
  {
   "cell_type": "code",
   "execution_count": 151,
   "metadata": {},
   "outputs": [
    {
     "data": {
      "text/plain": [
       "array(['    Centro ', '    Arganzuela ', '    Retiro ', '    Salamanca ',\n",
       "       '    Chamartín ', '    Tetuan ', '    Chamberí ',\n",
       "       '    Fuencarral-El Pardo ', '    Moncloa-Aravaca ', '    Latina ',\n",
       "       '    Carabanchel ', '    Usera ', '    Puente de Vallecas ',\n",
       "       '    Moratalaz ', '    Ciudad Lineal ', '    Hortaleza ',\n",
       "       '    Villaverde ', '    Villa de Vallecas ', '    Vicálvaro ',\n",
       "       '    San Blas-Canillejas ', '    Barajas '], dtype=object)"
      ]
     },
     "execution_count": 151,
     "metadata": {},
     "output_type": "execute_result"
    }
   ],
   "source": [
    "df_distritos_lab['DISTRITO'].unique()"
   ]
  },
  {
   "cell_type": "code",
   "execution_count": 152,
   "metadata": {},
   "outputs": [],
   "source": [
    "# Strip leading and trailing space only strings\n",
    "df_distritos_lab['DISTRITO'] = df_distritos_lab['DISTRITO'].str.strip()\n"
   ]
  },
  {
   "cell_type": "code",
   "execution_count": 153,
   "metadata": {},
   "outputs": [
    {
     "data": {
      "text/plain": [
       "array(['Centro', 'Arganzuela', 'Retiro', 'Salamanca', 'Chamartín',\n",
       "       'Tetuan', 'Chamberí', 'Fuencarral-El Pardo', 'Moncloa-Aravaca',\n",
       "       'Latina', 'Carabanchel', 'Usera', 'Puente de Vallecas',\n",
       "       'Moratalaz', 'Ciudad Lineal', 'Hortaleza', 'Villaverde',\n",
       "       'Villa de Vallecas', 'Vicálvaro', 'San Blas-Canillejas', 'Barajas'],\n",
       "      dtype=object)"
      ]
     },
     "execution_count": 153,
     "metadata": {},
     "output_type": "execute_result"
    }
   ],
   "source": [
    "df_distritos_lab['DISTRITO'].unique()"
   ]
  },
  {
   "cell_type": "code",
   "execution_count": 154,
   "metadata": {},
   "outputs": [
    {
     "data": {
      "text/plain": [
       "array(['CHAMARTIN', 'PUENTE DE VALLECAS', 'CHAMBERI', 'RETIRO',\n",
       "       'SALAMANCA', 'CARABANCHEL', 'CIUDAD LINEAL', 'MONCLOA-ARAVACA',\n",
       "       'TETUAN', 'VILLA DE VALLECAS', 'MORATALAZ', 'ARGANZUELA',\n",
       "       'SAN BLAS', 'VILLAVERDE', 'HORTALEZA', 'FUENCARRAL-EL PARDO',\n",
       "       'VICALVARO', 'USERA', 'LATINA', 'BARAJAS', 'CENTRO'], dtype=object)"
      ]
     },
     "execution_count": 154,
     "metadata": {},
     "output_type": "execute_result"
    }
   ],
   "source": [
    "df_accs['DISTRITO'].unique()"
   ]
  },
  {
   "cell_type": "code",
   "execution_count": 155,
   "metadata": {},
   "outputs": [],
   "source": [
    "df_distritos_lab['DISTRITO'] = df_distritos_lab['DISTRITO'].str.upper()"
   ]
  },
  {
   "cell_type": "code",
   "execution_count": 156,
   "metadata": {},
   "outputs": [
    {
     "data": {
      "text/plain": [
       "array(['CENTRO', 'ARGANZUELA', 'RETIRO', 'SALAMANCA', 'CHAMARTÍN',\n",
       "       'TETUAN', 'CHAMBERÍ', 'FUENCARRAL-EL PARDO', 'MONCLOA-ARAVACA',\n",
       "       'LATINA', 'CARABANCHEL', 'USERA', 'PUENTE DE VALLECAS',\n",
       "       'MORATALAZ', 'CIUDAD LINEAL', 'HORTALEZA', 'VILLAVERDE',\n",
       "       'VILLA DE VALLECAS', 'VICÁLVARO', 'SAN BLAS-CANILLEJAS', 'BARAJAS'],\n",
       "      dtype=object)"
      ]
     },
     "execution_count": 156,
     "metadata": {},
     "output_type": "execute_result"
    }
   ],
   "source": [
    "df_distritos_lab['DISTRITO'].unique()"
   ]
  },
  {
   "cell_type": "code",
   "execution_count": 157,
   "metadata": {},
   "outputs": [
    {
     "data": {
      "text/plain": [
       "array(['CHAMARTIN', 'PUENTE DE VALLECAS', 'CHAMBERI', 'RETIRO',\n",
       "       'SALAMANCA', 'CARABANCHEL', 'CIUDAD LINEAL', 'MONCLOA-ARAVACA',\n",
       "       'TETUAN', 'VILLA DE VALLECAS', 'MORATALAZ', 'ARGANZUELA',\n",
       "       'SAN BLAS', 'VILLAVERDE', 'HORTALEZA', 'FUENCARRAL-EL PARDO',\n",
       "       'VICALVARO', 'USERA', 'LATINA', 'BARAJAS', 'CENTRO'], dtype=object)"
      ]
     },
     "execution_count": 157,
     "metadata": {},
     "output_type": "execute_result"
    }
   ],
   "source": [
    "df_accs['DISTRITO'].unique()"
   ]
  },
  {
   "cell_type": "code",
   "execution_count": 158,
   "metadata": {},
   "outputs": [],
   "source": [
    "df_distritos_lab[\"DISTRITO\"] = df_distritos_lab[\"DISTRITO\"].replace({\"CHAMARTÍN\":\"CHAMARTIN\"}, regex=True)\n",
    "df_distritos_lab[\"DISTRITO\"] = df_distritos_lab[\"DISTRITO\"].replace({\"CHAMBERÍ\":\"CHAMBERI\"}, regex=True)\n",
    "df_distritos_lab[\"DISTRITO\"] = df_distritos_lab[\"DISTRITO\"].replace({\"VICÁLVARO\":\"VICALVARO\"}, regex=True)\n",
    "df_distritos_lab[\"DISTRITO\"] = df_distritos_lab[\"DISTRITO\"].replace({\"SAN BLAS-CANILLEJAS\":\"SAN BLAS\"}, regex=True)"
   ]
  },
  {
   "cell_type": "code",
   "execution_count": 159,
   "metadata": {},
   "outputs": [
    {
     "data": {
      "text/plain": [
       "array(['CENTRO', 'ARGANZUELA', 'RETIRO', 'SALAMANCA', 'CHAMARTIN',\n",
       "       'TETUAN', 'CHAMBERI', 'FUENCARRAL-EL PARDO', 'MONCLOA-ARAVACA',\n",
       "       'LATINA', 'CARABANCHEL', 'USERA', 'PUENTE DE VALLECAS',\n",
       "       'MORATALAZ', 'CIUDAD LINEAL', 'HORTALEZA', 'VILLAVERDE',\n",
       "       'VILLA DE VALLECAS', 'VICALVARO', 'SAN BLAS', 'BARAJAS'],\n",
       "      dtype=object)"
      ]
     },
     "execution_count": 159,
     "metadata": {},
     "output_type": "execute_result"
    }
   ],
   "source": [
    "df_distritos_lab['DISTRITO'].unique()"
   ]
  },
  {
   "cell_type": "code",
   "execution_count": 160,
   "metadata": {},
   "outputs": [
    {
     "data": {
      "text/plain": [
       "Index(['distrito_codigo', 'DISTRITO', 'superficie_km2', 'densidad_por_km2'], dtype='object')"
      ]
     },
     "execution_count": 160,
     "metadata": {},
     "output_type": "execute_result"
    }
   ],
   "source": [
    "df_distritos_lab.columns"
   ]
  },
  {
   "cell_type": "code",
   "execution_count": 161,
   "metadata": {},
   "outputs": [
    {
     "data": {
      "text/plain": [
       "array([79601, 79602, 79603, 79604, 79605, 79606, 79607, 79608, 79609,\n",
       "       79610, 79611, 79612, 79613, 79614, 79615, 79616, 79617, 79618,\n",
       "       79619, 79620, 79621])"
      ]
     },
     "execution_count": 161,
     "metadata": {},
     "output_type": "execute_result"
    }
   ],
   "source": [
    "df_distritos_lab['distrito_codigo'].unique()"
   ]
  },
  {
   "cell_type": "code",
   "execution_count": 162,
   "metadata": {},
   "outputs": [
    {
     "data": {
      "text/plain": [
       "array([  5.21,   6.52,   5.42,   5.36,   9.12,   5.37,   4.73, 238.  ,\n",
       "        46.47,  25.47,  14.1 ,   7.7 ,  14.84,   6.08,  11.52,  25.87,\n",
       "        20.21,  51.49,  35.36,  22.26,  43.56])"
      ]
     },
     "execution_count": 162,
     "metadata": {},
     "output_type": "execute_result"
    }
   ],
   "source": [
    "df_distritos_lab['superficie_km2'].unique()"
   ]
  },
  {
   "cell_type": "code",
   "execution_count": 163,
   "metadata": {},
   "outputs": [
    {
     "data": {
      "text/plain": [
       "array([25340.69, 23306.44, 21867.53, 26830.78, 15723.25, 28664.25,\n",
       "       29049.26,  1003.  ,  2515.26,  9183.75, 17316.88, 17535.32,\n",
       "       15345.01, 15493.59, 18455.56,  6973.33,  7059.13,  2026.82,\n",
       "        1981.11,  6934.37,  1076.06])"
      ]
     },
     "execution_count": 163,
     "metadata": {},
     "output_type": "execute_result"
    }
   ],
   "source": [
    "df_distritos_lab['densidad_por_km2'].unique()"
   ]
  },
  {
   "cell_type": "code",
   "execution_count": 164,
   "metadata": {},
   "outputs": [
    {
     "data": {
      "text/plain": [
       "distrito_codigo     0\n",
       "DISTRITO            0\n",
       "superficie_km2      0\n",
       "densidad_por_km2    0\n",
       "dtype: int64"
      ]
     },
     "execution_count": 164,
     "metadata": {},
     "output_type": "execute_result"
    }
   ],
   "source": [
    "# Check NULL values\n",
    "df_distritos_lab.isnull().sum()"
   ]
  },
  {
   "cell_type": "code",
   "execution_count": 165,
   "metadata": {},
   "outputs": [],
   "source": [
    "# We add to our original dataframe the columns that serve us of the new file to identify our dependent variable"
   ]
  },
  {
   "cell_type": "code",
   "execution_count": 166,
   "metadata": {},
   "outputs": [
    {
     "data": {
      "text/html": [
       "<div>\n",
       "<style scoped>\n",
       "    .dataframe tbody tr th:only-of-type {\n",
       "        vertical-align: middle;\n",
       "    }\n",
       "\n",
       "    .dataframe tbody tr th {\n",
       "        vertical-align: top;\n",
       "    }\n",
       "\n",
       "    .dataframe thead th {\n",
       "        text-align: right;\n",
       "    }\n",
       "</style>\n",
       "<table border=\"1\" class=\"dataframe\">\n",
       "  <thead>\n",
       "    <tr style=\"text-align: right;\">\n",
       "      <th></th>\n",
       "      <th>HORA</th>\n",
       "      <th>DIA_SEMANA</th>\n",
       "      <th>DISTRITO</th>\n",
       "      <th>SEXO</th>\n",
       "      <th>EDAD_APROX</th>\n",
       "      <th>distrito_codigo</th>\n",
       "      <th>superficie_km2</th>\n",
       "      <th>densidad_por_km2</th>\n",
       "    </tr>\n",
       "  </thead>\n",
       "  <tbody>\n",
       "    <tr>\n",
       "      <th>0</th>\n",
       "      <td>0</td>\n",
       "      <td>6</td>\n",
       "      <td>CHAMARTIN</td>\n",
       "      <td>0</td>\n",
       "      <td>3</td>\n",
       "      <td>79605</td>\n",
       "      <td>9.12</td>\n",
       "      <td>15723.25</td>\n",
       "    </tr>\n",
       "    <tr>\n",
       "      <th>1</th>\n",
       "      <td>0</td>\n",
       "      <td>6</td>\n",
       "      <td>CHAMARTIN</td>\n",
       "      <td>0</td>\n",
       "      <td>9</td>\n",
       "      <td>79605</td>\n",
       "      <td>9.12</td>\n",
       "      <td>15723.25</td>\n",
       "    </tr>\n",
       "    <tr>\n",
       "      <th>2</th>\n",
       "      <td>0</td>\n",
       "      <td>6</td>\n",
       "      <td>CHAMARTIN</td>\n",
       "      <td>1</td>\n",
       "      <td>7</td>\n",
       "      <td>79605</td>\n",
       "      <td>9.12</td>\n",
       "      <td>15723.25</td>\n",
       "    </tr>\n",
       "    <tr>\n",
       "      <th>3</th>\n",
       "      <td>20</td>\n",
       "      <td>0</td>\n",
       "      <td>CHAMARTIN</td>\n",
       "      <td>2</td>\n",
       "      <td>14</td>\n",
       "      <td>79605</td>\n",
       "      <td>9.12</td>\n",
       "      <td>15723.25</td>\n",
       "    </tr>\n",
       "    <tr>\n",
       "      <th>4</th>\n",
       "      <td>20</td>\n",
       "      <td>0</td>\n",
       "      <td>CHAMARTIN</td>\n",
       "      <td>0</td>\n",
       "      <td>8</td>\n",
       "      <td>79605</td>\n",
       "      <td>9.12</td>\n",
       "      <td>15723.25</td>\n",
       "    </tr>\n",
       "    <tr>\n",
       "      <th>...</th>\n",
       "      <td>...</td>\n",
       "      <td>...</td>\n",
       "      <td>...</td>\n",
       "      <td>...</td>\n",
       "      <td>...</td>\n",
       "      <td>...</td>\n",
       "      <td>...</td>\n",
       "      <td>...</td>\n",
       "    </tr>\n",
       "    <tr>\n",
       "      <th>252993</th>\n",
       "      <td>16</td>\n",
       "      <td>0</td>\n",
       "      <td>CENTRO</td>\n",
       "      <td>0</td>\n",
       "      <td>9</td>\n",
       "      <td>79601</td>\n",
       "      <td>5.21</td>\n",
       "      <td>25340.69</td>\n",
       "    </tr>\n",
       "    <tr>\n",
       "      <th>252994</th>\n",
       "      <td>21</td>\n",
       "      <td>2</td>\n",
       "      <td>CENTRO</td>\n",
       "      <td>0</td>\n",
       "      <td>9</td>\n",
       "      <td>79601</td>\n",
       "      <td>5.21</td>\n",
       "      <td>25340.69</td>\n",
       "    </tr>\n",
       "    <tr>\n",
       "      <th>252995</th>\n",
       "      <td>21</td>\n",
       "      <td>2</td>\n",
       "      <td>CENTRO</td>\n",
       "      <td>0</td>\n",
       "      <td>5</td>\n",
       "      <td>79601</td>\n",
       "      <td>5.21</td>\n",
       "      <td>25340.69</td>\n",
       "    </tr>\n",
       "    <tr>\n",
       "      <th>252996</th>\n",
       "      <td>21</td>\n",
       "      <td>2</td>\n",
       "      <td>CENTRO</td>\n",
       "      <td>1</td>\n",
       "      <td>4</td>\n",
       "      <td>79601</td>\n",
       "      <td>5.21</td>\n",
       "      <td>25340.69</td>\n",
       "    </tr>\n",
       "    <tr>\n",
       "      <th>252997</th>\n",
       "      <td>21</td>\n",
       "      <td>2</td>\n",
       "      <td>CENTRO</td>\n",
       "      <td>1</td>\n",
       "      <td>4</td>\n",
       "      <td>79601</td>\n",
       "      <td>5.21</td>\n",
       "      <td>25340.69</td>\n",
       "    </tr>\n",
       "  </tbody>\n",
       "</table>\n",
       "<p>252998 rows × 8 columns</p>\n",
       "</div>"
      ],
      "text/plain": [
       "        HORA  DIA_SEMANA   DISTRITO  SEXO  EDAD_APROX  distrito_codigo  \\\n",
       "0          0           6  CHAMARTIN     0           3            79605   \n",
       "1          0           6  CHAMARTIN     0           9            79605   \n",
       "2          0           6  CHAMARTIN     1           7            79605   \n",
       "3         20           0  CHAMARTIN     2          14            79605   \n",
       "4         20           0  CHAMARTIN     0           8            79605   \n",
       "...      ...         ...        ...   ...         ...              ...   \n",
       "252993    16           0     CENTRO     0           9            79601   \n",
       "252994    21           2     CENTRO     0           9            79601   \n",
       "252995    21           2     CENTRO     0           5            79601   \n",
       "252996    21           2     CENTRO     1           4            79601   \n",
       "252997    21           2     CENTRO     1           4            79601   \n",
       "\n",
       "        superficie_km2  densidad_por_km2  \n",
       "0                 9.12          15723.25  \n",
       "1                 9.12          15723.25  \n",
       "2                 9.12          15723.25  \n",
       "3                 9.12          15723.25  \n",
       "4                 9.12          15723.25  \n",
       "...                ...               ...  \n",
       "252993            5.21          25340.69  \n",
       "252994            5.21          25340.69  \n",
       "252995            5.21          25340.69  \n",
       "252996            5.21          25340.69  \n",
       "252997            5.21          25340.69  \n",
       "\n",
       "[252998 rows x 8 columns]"
      ]
     },
     "execution_count": 166,
     "metadata": {},
     "output_type": "execute_result"
    }
   ],
   "source": [
    "from functools import reduce\n",
    "df_accs_join_dist = [df_accs_lab_ohe, df_distritos_lab]\n",
    "df_accs_join_dist = reduce(lambda left,right: pd.merge(left,right, on=['DISTRITO']), df_accs_join_dist)\n",
    "df_accs_join_dist"
   ]
  },
  {
   "cell_type": "code",
   "execution_count": 167,
   "metadata": {},
   "outputs": [
    {
     "data": {
      "text/plain": [
       "(252998, 8)"
      ]
     },
     "execution_count": 167,
     "metadata": {},
     "output_type": "execute_result"
    }
   ],
   "source": [
    "df_accs_join_dist.shape"
   ]
  },
  {
   "cell_type": "code",
   "execution_count": 168,
   "metadata": {},
   "outputs": [
    {
     "data": {
      "text/plain": [
       "Index(['HORA', 'DIA_SEMANA', 'DISTRITO', 'SEXO', 'EDAD_APROX',\n",
       "       'distrito_codigo', 'superficie_km2', 'densidad_por_km2'],\n",
       "      dtype='object')"
      ]
     },
     "execution_count": 168,
     "metadata": {},
     "output_type": "execute_result"
    }
   ],
   "source": [
    "df_accs_join_dist.columns"
   ]
  },
  {
   "cell_type": "code",
   "execution_count": 169,
   "metadata": {},
   "outputs": [],
   "source": [
    "df_accs_join_dist = df_accs_join_dist.rename(columns = {'distrito_codigo':'COD_DISTRITO'})\n",
    "df_accs_join_dist = df_accs_join_dist.rename(columns = {'superficie_km2':'SUP_KM2'})\n",
    "df_accs_join_dist = df_accs_join_dist.rename(columns = {'densidad_por_km2':'DENSIDAD_KM2'})"
   ]
  },
  {
   "cell_type": "code",
   "execution_count": 170,
   "metadata": {},
   "outputs": [
    {
     "data": {
      "text/plain": [
       "Index(['HORA', 'DIA_SEMANA', 'DISTRITO', 'SEXO', 'EDAD_APROX', 'COD_DISTRITO',\n",
       "       'SUP_KM2', 'DENSIDAD_KM2'],\n",
       "      dtype='object')"
      ]
     },
     "execution_count": 170,
     "metadata": {},
     "output_type": "execute_result"
    }
   ],
   "source": [
    "df_accs_join_dist.columns"
   ]
  },
  {
   "cell_type": "code",
   "execution_count": 171,
   "metadata": {},
   "outputs": [
    {
     "data": {
      "text/plain": [
       "array([79605, 79613, 79607, 79603, 79604, 79611, 79615, 79609, 79606,\n",
       "       79618, 79614, 79602, 79620, 79617, 79616, 79608, 79619, 79612,\n",
       "       79610, 79621, 79601])"
      ]
     },
     "execution_count": 171,
     "metadata": {},
     "output_type": "execute_result"
    }
   ],
   "source": [
    "df_accs_join_dist[\"COD_DISTRITO\"].unique()"
   ]
  },
  {
   "cell_type": "code",
   "execution_count": 172,
   "metadata": {},
   "outputs": [
    {
     "data": {
      "text/plain": [
       "array([  9.12,  14.84,   4.73,   5.42,   5.36,  14.1 ,  11.52,  46.47,\n",
       "         5.37,  51.49,   6.08,   6.52,  22.26,  20.21,  25.87, 238.  ,\n",
       "        35.36,   7.7 ,  25.47,  43.56,   5.21])"
      ]
     },
     "execution_count": 172,
     "metadata": {},
     "output_type": "execute_result"
    }
   ],
   "source": [
    "df_accs_join_dist[\"SUP_KM2\"].unique()"
   ]
  },
  {
   "cell_type": "code",
   "execution_count": 173,
   "metadata": {},
   "outputs": [
    {
     "data": {
      "text/plain": [
       "array([15723.25, 15345.01, 29049.26, 21867.53, 26830.78, 17316.88,\n",
       "       18455.56,  2515.26, 28664.25,  2026.82, 15493.59, 23306.44,\n",
       "        6934.37,  7059.13,  6973.33,  1003.  ,  1981.11, 17535.32,\n",
       "        9183.75,  1076.06, 25340.69])"
      ]
     },
     "execution_count": 173,
     "metadata": {},
     "output_type": "execute_result"
    }
   ],
   "source": [
    "df_accs_join_dist[\"DENSIDAD_KM2\"].unique()"
   ]
  },
  {
   "cell_type": "code",
   "execution_count": 174,
   "metadata": {},
   "outputs": [
    {
     "data": {
      "text/plain": [
       "Index(['HORA', 'DIA_SEMANA', 'DISTRITO', 'SEXO', 'EDAD_APROX', 'COD_DISTRITO',\n",
       "       'SUP_KM2', 'DENSIDAD_KM2'],\n",
       "      dtype='object')"
      ]
     },
     "execution_count": 174,
     "metadata": {},
     "output_type": "execute_result"
    }
   ],
   "source": [
    "df_accs_join_dist.columns"
   ]
  },
  {
   "cell_type": "code",
   "execution_count": 175,
   "metadata": {},
   "outputs": [],
   "source": [
    "df_inf_xa_dis = df_accs_join_dist.reset_index(drop=True).copy()"
   ]
  },
  {
   "cell_type": "code",
   "execution_count": 176,
   "metadata": {},
   "outputs": [
    {
     "data": {
      "text/plain": [
       "HORA              int64\n",
       "DIA_SEMANA        int64\n",
       "DISTRITO         object\n",
       "SEXO              int64\n",
       "EDAD_APROX        int64\n",
       "COD_DISTRITO      int64\n",
       "SUP_KM2         float64\n",
       "DENSIDAD_KM2    float64\n",
       "dtype: object"
      ]
     },
     "execution_count": 176,
     "metadata": {},
     "output_type": "execute_result"
    }
   ],
   "source": [
    "df_inf_xa_dis.dtypes"
   ]
  },
  {
   "cell_type": "code",
   "execution_count": 177,
   "metadata": {},
   "outputs": [],
   "source": [
    "# Convert to object columns (the numeric columns)\n",
    "df_inf_xa_dis[\"COD_DISTRITO\"]=df_inf_xa_dis['COD_DISTRITO'].astype(np.str)\n",
    "df_inf_xa_dis[\"SUP_KM2\"]=df_inf_xa_dis['SUP_KM2'].astype(np.str)\n",
    "df_inf_xa_dis[\"DENSIDAD_KM2\"]=df_inf_xa_dis['DENSIDAD_KM2'].astype(np.str)"
   ]
  },
  {
   "cell_type": "code",
   "execution_count": 178,
   "metadata": {},
   "outputs": [
    {
     "data": {
      "text/plain": [
       "HORA             int64\n",
       "DIA_SEMANA       int64\n",
       "DISTRITO        object\n",
       "SEXO             int64\n",
       "EDAD_APROX       int64\n",
       "COD_DISTRITO    object\n",
       "SUP_KM2         object\n",
       "DENSIDAD_KM2    object\n",
       "dtype: object"
      ]
     },
     "execution_count": 178,
     "metadata": {},
     "output_type": "execute_result"
    }
   ],
   "source": [
    "df_inf_xa_dis.dtypes"
   ]
  },
  {
   "cell_type": "code",
   "execution_count": 179,
   "metadata": {},
   "outputs": [
    {
     "data": {
      "text/plain": [
       "Index(['HORA', 'DIA_SEMANA', 'DISTRITO', 'SEXO', 'EDAD_APROX', 'COD_DISTRITO',\n",
       "       'SUP_KM2', 'DENSIDAD_KM2'],\n",
       "      dtype='object')"
      ]
     },
     "execution_count": 179,
     "metadata": {},
     "output_type": "execute_result"
    }
   ],
   "source": [
    "df_inf_xa_dis.columns"
   ]
  },
  {
   "cell_type": "code",
   "execution_count": 180,
   "metadata": {},
   "outputs": [],
   "source": [
    "# Load variables\n",
    "X = np.array(df_inf_xa_dis.drop(['DISTRITO'],1))\n",
    "y = np.array(df_inf_xa_dis['DISTRITO'])\n",
    "X.shape\n",
    "\n",
    "# Train-test split and load the library\n",
    "from sklearn.model_selection import train_test_split\n",
    "# Create 2 groups each with input and labels\n",
    "X_train, X_test, y_train, y_test = train_test_split(X, y, test_size=0.20)"
   ]
  },
  {
   "cell_type": "code",
   "execution_count": 181,
   "metadata": {},
   "outputs": [],
   "source": [
    "from sklearn.preprocessing import OneHotEncoder\n",
    "\n",
    "# Create the encoder.\n",
    "encoder = OneHotEncoder(handle_unknown=\"ignore\")\n",
    "# Assume for simplicity all features are categorical.\n",
    "encoder.fit(X_train)    \n",
    "\n",
    "# Apply the encoder.\n",
    "X_train = encoder.transform(X_train)\n",
    "X_test = encoder.transform(X_test)"
   ]
  },
  {
   "cell_type": "code",
   "execution_count": 182,
   "metadata": {},
   "outputs": [
    {
     "data": {
      "text/plain": [
       "(252998, 7)"
      ]
     },
     "execution_count": 182,
     "metadata": {},
     "output_type": "execute_result"
    }
   ],
   "source": [
    "X.shape"
   ]
  },
  {
   "cell_type": "code",
   "execution_count": 183,
   "metadata": {},
   "outputs": [
    {
     "data": {
      "text/plain": [
       "array([0, 6, 0, 3, '79605', '9.12', '15723.25'], dtype=object)"
      ]
     },
     "execution_count": 183,
     "metadata": {},
     "output_type": "execute_result"
    }
   ],
   "source": [
    "X[0]"
   ]
  },
  {
   "cell_type": "code",
   "execution_count": 184,
   "metadata": {},
   "outputs": [
    {
     "data": {
      "text/plain": [
       "<202398x112 sparse matrix of type '<class 'numpy.float64'>'\n",
       "\twith 1416786 stored elements in Compressed Sparse Row format>"
      ]
     },
     "execution_count": 184,
     "metadata": {},
     "output_type": "execute_result"
    }
   ],
   "source": [
    "X_train"
   ]
  },
  {
   "cell_type": "code",
   "execution_count": 185,
   "metadata": {},
   "outputs": [
    {
     "data": {
      "text/plain": [
       "<50600x112 sparse matrix of type '<class 'numpy.float64'>'\n",
       "\twith 354200 stored elements in Compressed Sparse Row format>"
      ]
     },
     "execution_count": 185,
     "metadata": {},
     "output_type": "execute_result"
    }
   ],
   "source": [
    "X_test"
   ]
  },
  {
   "cell_type": "markdown",
   "metadata": {},
   "source": [
    "### Logistic Regression with SKLearn (2)"
   ]
  },
  {
   "cell_type": "code",
   "execution_count": 186,
   "metadata": {},
   "outputs": [
    {
     "data": {
      "text/plain": [
       "LogisticRegression(C=1.0, class_weight=None, dual=False, fit_intercept=True,\n",
       "                   intercept_scaling=1, l1_ratio=None, max_iter=100,\n",
       "                   multi_class='auto', n_jobs=None, penalty='l2',\n",
       "                   random_state=None, solver='sag', tol=0.0001, verbose=0,\n",
       "                   warm_start=False)"
      ]
     },
     "execution_count": 186,
     "metadata": {},
     "output_type": "execute_result"
    }
   ],
   "source": [
    "# Create teh Regression Logistic model and we make it fit (ajuste) to our set of inputs X and outputs \"y\".\n",
    "from sklearn.linear_model.sag import sag_solver\n",
    "model_LOGREG = linear_model.LogisticRegression(multi_class='auto', solver='sag')\n",
    "model_LOGREG.fit(X_train,y_train)"
   ]
  },
  {
   "cell_type": "code",
   "execution_count": 187,
   "metadata": {},
   "outputs": [],
   "source": [
    "# We classify our entire set of X inputs using the \"predict (X)\" method for the model\n",
    "#   and we review some of its outputs to see if it matches the actual outputs of our origin\n",
    "predictions_LOGREG = model_LOGREG.predict(X_test)"
   ]
  },
  {
   "cell_type": "code",
   "execution_count": 188,
   "metadata": {},
   "outputs": [
    {
     "name": "stdout",
     "output_type": "stream",
     "text": [
      "LATINA\n"
     ]
    }
   ],
   "source": [
    "# Check model efficiency \n",
    "print(predictions_LOGREG[22])"
   ]
  },
  {
   "cell_type": "code",
   "execution_count": 189,
   "metadata": {},
   "outputs": [
    {
     "data": {
      "text/plain": [
       "numpy.ndarray"
      ]
     },
     "execution_count": 189,
     "metadata": {},
     "output_type": "execute_result"
    }
   ],
   "source": [
    "type(predictions_LOGREG)"
   ]
  },
  {
   "cell_type": "code",
   "execution_count": 190,
   "metadata": {},
   "outputs": [
    {
     "data": {
      "text/plain": [
       "dtype('O')"
      ]
     },
     "execution_count": 190,
     "metadata": {},
     "output_type": "execute_result"
    }
   ],
   "source": [
    "predictions_LOGREG.dtype"
   ]
  },
  {
   "cell_type": "code",
   "execution_count": 191,
   "metadata": {},
   "outputs": [
    {
     "data": {
      "text/plain": [
       "(50600,)"
      ]
     },
     "execution_count": 191,
     "metadata": {},
     "output_type": "execute_result"
    }
   ],
   "source": [
    "predictions_LOGREG.shape"
   ]
  },
  {
   "cell_type": "code",
   "execution_count": 192,
   "metadata": {},
   "outputs": [
    {
     "name": "stdout",
     "output_type": "stream",
     "text": [
      "1.0\n"
     ]
    }
   ],
   "source": [
    "print(accuracy_score(y_test, predictions_LOGREG))"
   ]
  },
  {
   "cell_type": "code",
   "execution_count": 193,
   "metadata": {},
   "outputs": [
    {
     "data": {
      "text/plain": [
       "1.0"
      ]
     },
     "execution_count": 193,
     "metadata": {},
     "output_type": "execute_result"
    }
   ],
   "source": [
    "# The Quality of our model, gives us the average accuracy of the predictions:\n",
    "model_LOGREG.score(X_test,y_test)"
   ]
  },
  {
   "cell_type": "code",
   "execution_count": 194,
   "metadata": {},
   "outputs": [
    {
     "data": {
      "text/plain": [
       "dtype('O')"
      ]
     },
     "execution_count": 194,
     "metadata": {},
     "output_type": "execute_result"
    }
   ],
   "source": [
    "y_test.dtype"
   ]
  },
  {
   "cell_type": "code",
   "execution_count": 195,
   "metadata": {},
   "outputs": [
    {
     "data": {
      "text/plain": [
       "50600"
      ]
     },
     "execution_count": 195,
     "metadata": {},
     "output_type": "execute_result"
    }
   ],
   "source": [
    "len(y_test)"
   ]
  },
  {
   "cell_type": "code",
   "execution_count": 196,
   "metadata": {},
   "outputs": [
    {
     "data": {
      "text/plain": [
       "(50600,)"
      ]
     },
     "execution_count": 196,
     "metadata": {},
     "output_type": "execute_result"
    }
   ],
   "source": [
    "y_test.shape"
   ]
  },
  {
   "cell_type": "code",
   "execution_count": 197,
   "metadata": {},
   "outputs": [
    {
     "data": {
      "text/plain": [
       "'LATINA'"
      ]
     },
     "execution_count": 197,
     "metadata": {},
     "output_type": "execute_result"
    }
   ],
   "source": [
    "y_test[22,]"
   ]
  },
  {
   "cell_type": "markdown",
   "metadata": {},
   "source": [
    "########################################################"
   ]
  },
  {
   "cell_type": "markdown",
   "metadata": {},
   "source": [
    "##########################################"
   ]
  },
  {
   "cell_type": "markdown",
   "metadata": {},
   "source": [
    "############################"
   ]
  },
  {
   "cell_type": "markdown",
   "metadata": {},
   "source": [
    "## VALIDATE MODEL"
   ]
  },
  {
   "cell_type": "code",
   "execution_count": 198,
   "metadata": {},
   "outputs": [
    {
     "data": {
      "text/plain": [
       "Index(['HORA', 'DIA_SEMANA', 'DISTRITO', 'SEXO', 'EDAD_APROX', 'COD_DISTRITO',\n",
       "       'SUP_KM2', 'DENSIDAD_KM2'],\n",
       "      dtype='object')"
      ]
     },
     "execution_count": 198,
     "metadata": {},
     "output_type": "execute_result"
    }
   ],
   "source": [
    "df_inf_xa_dis.columns"
   ]
  },
  {
   "cell_type": "code",
   "execution_count": 199,
   "metadata": {},
   "outputs": [
    {
     "data": {
      "text/plain": [
       "HORA             int64\n",
       "DIA_SEMANA       int64\n",
       "DISTRITO        object\n",
       "SEXO             int64\n",
       "EDAD_APROX       int64\n",
       "COD_DISTRITO    object\n",
       "SUP_KM2         object\n",
       "DENSIDAD_KM2    object\n",
       "dtype: object"
      ]
     },
     "execution_count": 199,
     "metadata": {},
     "output_type": "execute_result"
    }
   ],
   "source": [
    "df_inf_xa_dis.dtypes"
   ]
  },
  {
   "cell_type": "code",
   "execution_count": 200,
   "metadata": {},
   "outputs": [
    {
     "data": {
      "text/html": [
       "<div>\n",
       "<style scoped>\n",
       "    .dataframe tbody tr th:only-of-type {\n",
       "        vertical-align: middle;\n",
       "    }\n",
       "\n",
       "    .dataframe tbody tr th {\n",
       "        vertical-align: top;\n",
       "    }\n",
       "\n",
       "    .dataframe thead th {\n",
       "        text-align: right;\n",
       "    }\n",
       "</style>\n",
       "<table border=\"1\" class=\"dataframe\">\n",
       "  <thead>\n",
       "    <tr style=\"text-align: right;\">\n",
       "      <th></th>\n",
       "      <th>HORA</th>\n",
       "      <th>DIA_SEMANA</th>\n",
       "      <th>DISTRITO</th>\n",
       "      <th>SEXO</th>\n",
       "      <th>EDAD_APROX</th>\n",
       "      <th>COD_DISTRITO</th>\n",
       "      <th>SUP_KM2</th>\n",
       "      <th>DENSIDAD_KM2</th>\n",
       "    </tr>\n",
       "  </thead>\n",
       "  <tbody>\n",
       "    <tr>\n",
       "      <th>0</th>\n",
       "      <td>0</td>\n",
       "      <td>6</td>\n",
       "      <td>CHAMARTIN</td>\n",
       "      <td>0</td>\n",
       "      <td>3</td>\n",
       "      <td>79605</td>\n",
       "      <td>9.12</td>\n",
       "      <td>15723.25</td>\n",
       "    </tr>\n",
       "  </tbody>\n",
       "</table>\n",
       "</div>"
      ],
      "text/plain": [
       "   HORA  DIA_SEMANA   DISTRITO  SEXO  EDAD_APROX COD_DISTRITO SUP_KM2  \\\n",
       "0     0           6  CHAMARTIN     0           3        79605    9.12   \n",
       "\n",
       "  DENSIDAD_KM2  \n",
       "0     15723.25  "
      ]
     },
     "execution_count": 200,
     "metadata": {},
     "output_type": "execute_result"
    }
   ],
   "source": [
    "df_inf_xa_dis.head(1)"
   ]
  },
  {
   "cell_type": "code",
   "execution_count": 201,
   "metadata": {},
   "outputs": [
    {
     "name": "stdout",
     "output_type": "stream",
     "text": [
      "Logistic Regression: 1.000000 (0.000000)\n"
     ]
    }
   ],
   "source": [
    "# We recompile our Logistic Regression model, at 80% of the input data in 10 partitions \n",
    "# and we calculate the new scoring by cross validation\n",
    "name='Logistic Regression'\n",
    "kfold = model_selection.KFold(n_splits=10)\n",
    "cv_results = model_selection.cross_val_score(model_LOGREG, X_train, y_train, cv=kfold, \\\n",
    "                                             scoring='accuracy', error_score=np.nan, verbose=0)\n",
    "msg = \"%s: %f (%f)\" % (name, cv_results.mean(), cv_results.std())\n",
    "print(msg)"
   ]
  },
  {
   "cell_type": "code",
   "execution_count": 202,
   "metadata": {},
   "outputs": [
    {
     "name": "stdout",
     "output_type": "stream",
     "text": [
      "1.0\n"
     ]
    }
   ],
   "source": [
    "# And now we make the predictions (really classification) using our \"cross validation set\"\n",
    "# that is to say of the subset that we had separated.\n",
    "# Successes: xxx%\n",
    "predictions_LOGREG = model_LOGREG.predict(X_test)\n",
    "print(accuracy_score(y_test, predictions_LOGREG))"
   ]
  },
  {
   "cell_type": "markdown",
   "metadata": {},
   "source": [
    "# Model results"
   ]
  },
  {
   "cell_type": "code",
   "execution_count": 203,
   "metadata": {},
   "outputs": [
    {
     "name": "stdout",
     "output_type": "stream",
     "text": [
      "[[2584    0    0    0    0    0    0    0    0    0    0    0    0    0\n",
      "     0    0    0    0    0    0    0]\n",
      " [   0  662    0    0    0    0    0    0    0    0    0    0    0    0\n",
      "     0    0    0    0    0    0    0]\n",
      " [   0    0 3138    0    0    0    0    0    0    0    0    0    0    0\n",
      "     0    0    0    0    0    0    0]\n",
      " [   0    0    0 3396    0    0    0    0    0    0    0    0    0    0\n",
      "     0    0    0    0    0    0    0]\n",
      " [   0    0    0    0 3833    0    0    0    0    0    0    0    0    0\n",
      "     0    0    0    0    0    0    0]\n",
      " [   0    0    0    0    0 2886    0    0    0    0    0    0    0    0\n",
      "     0    0    0    0    0    0    0]\n",
      " [   0    0    0    0    0    0 3348    0    0    0    0    0    0    0\n",
      "     0    0    0    0    0    0    0]\n",
      " [   0    0    0    0    0    0    0 2750    0    0    0    0    0    0\n",
      "     0    0    0    0    0    0    0]\n",
      " [   0    0    0    0    0    0    0    0 1723    0    0    0    0    0\n",
      "     0    0    0    0    0    0    0]\n",
      " [   0    0    0    0    0    0    0    0    0 2458    0    0    0    0\n",
      "     0    0    0    0    0    0    0]\n",
      " [   0    0    0    0    0    0    0    0    0    0 2776    0    0    0\n",
      "     0    0    0    0    0    0    0]\n",
      " [   0    0    0    0    0    0    0    0    0    0    0 1230    0    0\n",
      "     0    0    0    0    0    0    0]\n",
      " [   0    0    0    0    0    0    0    0    0    0    0    0 3252    0\n",
      "     0    0    0    0    0    0    0]\n",
      " [   0    0    0    0    0    0    0    0    0    0    0    0    0 2783\n",
      "     0    0    0    0    0    0    0]\n",
      " [   0    0    0    0    0    0    0    0    0    0    0    0    0    0\n",
      "  3804    0    0    0    0    0    0]\n",
      " [   0    0    0    0    0    0    0    0    0    0    0    0    0    0\n",
      "     0 2365    0    0    0    0    0]\n",
      " [   0    0    0    0    0    0    0    0    0    0    0    0    0    0\n",
      "     0    0 2782    0    0    0    0]\n",
      " [   0    0    0    0    0    0    0    0    0    0    0    0    0    0\n",
      "     0    0    0 1806    0    0    0]\n",
      " [   0    0    0    0    0    0    0    0    0    0    0    0    0    0\n",
      "     0    0    0    0  628    0    0]\n",
      " [   0    0    0    0    0    0    0    0    0    0    0    0    0    0\n",
      "     0    0    0    0    0 1094    0]\n",
      " [   0    0    0    0    0    0    0    0    0    0    0    0    0    0\n",
      "     0    0    0    0    0    0 1302]]\n"
     ]
    }
   ],
   "source": [
    "## Matrix of confusion for errors\n",
    "print(confusion_matrix(y_test, predictions_LOGREG))"
   ]
  },
  {
   "cell_type": "code",
   "execution_count": 204,
   "metadata": {},
   "outputs": [
    {
     "name": "stdout",
     "output_type": "stream",
     "text": [
      "                     precision    recall  f1-score   support\n",
      "\n",
      "         ARGANZUELA       1.00      1.00      1.00      2584\n",
      "            BARAJAS       1.00      1.00      1.00       662\n",
      "        CARABANCHEL       1.00      1.00      1.00      3138\n",
      "             CENTRO       1.00      1.00      1.00      3396\n",
      "          CHAMARTIN       1.00      1.00      1.00      3833\n",
      "           CHAMBERI       1.00      1.00      1.00      2886\n",
      "      CIUDAD LINEAL       1.00      1.00      1.00      3348\n",
      "FUENCARRAL-EL PARDO       1.00      1.00      1.00      2750\n",
      "          HORTALEZA       1.00      1.00      1.00      1723\n",
      "             LATINA       1.00      1.00      1.00      2458\n",
      "    MONCLOA-ARAVACA       1.00      1.00      1.00      2776\n",
      "          MORATALAZ       1.00      1.00      1.00      1230\n",
      " PUENTE DE VALLECAS       1.00      1.00      1.00      3252\n",
      "             RETIRO       1.00      1.00      1.00      2783\n",
      "          SALAMANCA       1.00      1.00      1.00      3804\n",
      "           SAN BLAS       1.00      1.00      1.00      2365\n",
      "             TETUAN       1.00      1.00      1.00      2782\n",
      "              USERA       1.00      1.00      1.00      1806\n",
      "          VICALVARO       1.00      1.00      1.00       628\n",
      "  VILLA DE VALLECAS       1.00      1.00      1.00      1094\n",
      "         VILLAVERDE       1.00      1.00      1.00      1302\n",
      "\n",
      "           accuracy                           1.00     50600\n",
      "          macro avg       1.00      1.00      1.00     50600\n",
      "       weighted avg       1.00      1.00      1.00     50600\n",
      "\n"
     ]
    }
   ],
   "source": [
    "## Classification report with our TEST set\n",
    "# We observe the average F1-score\n",
    "print(classification_report(y_test, predictions_LOGREG))"
   ]
  },
  {
   "cell_type": "markdown",
   "metadata": {},
   "source": [
    "# Classification (or prediction) of new values"
   ]
  },
  {
   "cell_type": "code",
   "execution_count": 205,
   "metadata": {},
   "outputs": [
    {
     "data": {
      "text/plain": [
       "Index(['HORA', 'DIA_SEMANA', 'DISTRITO', 'SEXO', 'EDAD_APROX', 'COD_DISTRITO',\n",
       "       'SUP_KM2', 'DENSIDAD_KM2'],\n",
       "      dtype='object')"
      ]
     },
     "execution_count": 205,
     "metadata": {},
     "output_type": "execute_result"
    }
   ],
   "source": [
    "df_inf_xa_dis.columns"
   ]
  },
  {
   "cell_type": "code",
   "execution_count": 206,
   "metadata": {},
   "outputs": [
    {
     "data": {
      "text/html": [
       "<div>\n",
       "<style scoped>\n",
       "    .dataframe tbody tr th:only-of-type {\n",
       "        vertical-align: middle;\n",
       "    }\n",
       "\n",
       "    .dataframe tbody tr th {\n",
       "        vertical-align: top;\n",
       "    }\n",
       "\n",
       "    .dataframe thead th {\n",
       "        text-align: right;\n",
       "    }\n",
       "</style>\n",
       "<table border=\"1\" class=\"dataframe\">\n",
       "  <thead>\n",
       "    <tr style=\"text-align: right;\">\n",
       "      <th></th>\n",
       "      <th>HORA</th>\n",
       "      <th>DIA_SEMANA</th>\n",
       "      <th>DISTRITO</th>\n",
       "      <th>SEXO</th>\n",
       "      <th>EDAD_APROX</th>\n",
       "      <th>COD_DISTRITO</th>\n",
       "      <th>SUP_KM2</th>\n",
       "      <th>DENSIDAD_KM2</th>\n",
       "    </tr>\n",
       "  </thead>\n",
       "  <tbody>\n",
       "    <tr>\n",
       "      <th>0</th>\n",
       "      <td>0</td>\n",
       "      <td>6</td>\n",
       "      <td>CHAMARTIN</td>\n",
       "      <td>0</td>\n",
       "      <td>3</td>\n",
       "      <td>79605</td>\n",
       "      <td>9.12</td>\n",
       "      <td>15723.25</td>\n",
       "    </tr>\n",
       "  </tbody>\n",
       "</table>\n",
       "</div>"
      ],
      "text/plain": [
       "   HORA  DIA_SEMANA   DISTRITO  SEXO  EDAD_APROX COD_DISTRITO SUP_KM2  \\\n",
       "0     0           6  CHAMARTIN     0           3        79605    9.12   \n",
       "\n",
       "  DENSIDAD_KM2  \n",
       "0     15723.25  "
      ]
     },
     "execution_count": 206,
     "metadata": {},
     "output_type": "execute_result"
    }
   ],
   "source": [
    "df_inf_xa_dis.head(1)"
   ]
  },
  {
   "cell_type": "code",
   "execution_count": 207,
   "metadata": {},
   "outputs": [
    {
     "data": {
      "text/html": [
       "<div>\n",
       "<style scoped>\n",
       "    .dataframe tbody tr th:only-of-type {\n",
       "        vertical-align: middle;\n",
       "    }\n",
       "\n",
       "    .dataframe tbody tr th {\n",
       "        vertical-align: top;\n",
       "    }\n",
       "\n",
       "    .dataframe thead th {\n",
       "        text-align: right;\n",
       "    }\n",
       "</style>\n",
       "<table border=\"1\" class=\"dataframe\">\n",
       "  <thead>\n",
       "    <tr style=\"text-align: right;\">\n",
       "      <th></th>\n",
       "      <th>HORA</th>\n",
       "      <th>DIA_SEMANA</th>\n",
       "      <th>DISTRITO</th>\n",
       "      <th>SEXO</th>\n",
       "      <th>EDAD_APROX</th>\n",
       "    </tr>\n",
       "  </thead>\n",
       "  <tbody>\n",
       "    <tr>\n",
       "      <th>0</th>\n",
       "      <td>00:00</td>\n",
       "      <td>VIERNES</td>\n",
       "      <td>CHAMARTIN</td>\n",
       "      <td>HOMBRE</td>\n",
       "      <td>20</td>\n",
       "    </tr>\n",
       "  </tbody>\n",
       "</table>\n",
       "</div>"
      ],
      "text/plain": [
       "    HORA DIA_SEMANA   DISTRITO    SEXO EDAD_APROX\n",
       "0  00:00    VIERNES  CHAMARTIN  HOMBRE         20"
      ]
     },
     "execution_count": 207,
     "metadata": {},
     "output_type": "execute_result"
    }
   ],
   "source": [
    "df_accs.head(1)"
   ]
  },
  {
   "cell_type": "code",
   "execution_count": 208,
   "metadata": {},
   "outputs": [],
   "source": [
    "# Test and others parameters:\n",
    "# a.- predict: just gives you the class for every example\n",
    "# b.- predict_proba: gives you the probability for every class, and predict is just taking the class \n",
    "#     which maximal probability\n",
    "# c.- predict_log_proba: gives you the logarithm of the probabilities, this is often handier as probabilities \n",
    "#     can become very, very small shareimprove this answer\n",
    "# d.- coef_\n",
    "# e.- score\n",
    "# f.- decision function"
   ]
  },
  {
   "cell_type": "code",
   "execution_count": 209,
   "metadata": {},
   "outputs": [
    {
     "data": {
      "text/plain": [
       "array(['CIUDAD LINEAL', 'MORATALAZ', 'FUENCARRAL-EL PARDO', ...,\n",
       "       'FUENCARRAL-EL PARDO', 'VILLAVERDE', 'ARGANZUELA'], dtype=object)"
      ]
     },
     "execution_count": 209,
     "metadata": {},
     "output_type": "execute_result"
    }
   ],
   "source": [
    "model_LOGREG.predict(X_test)"
   ]
  },
  {
   "cell_type": "code",
   "execution_count": 210,
   "metadata": {},
   "outputs": [
    {
     "data": {
      "text/plain": [
       "array([[1.37008573e-05, 1.27918599e-05, 1.31019272e-05, ...,\n",
       "        1.21610115e-05, 1.30014587e-05, 1.29355622e-05],\n",
       "       [3.43024826e-05, 3.32815976e-05, 3.34283774e-05, ...,\n",
       "        3.02076770e-05, 3.07976116e-05, 3.21010765e-05],\n",
       "       [1.75940103e-05, 1.51480310e-05, 1.75150710e-05, ...,\n",
       "        1.57524778e-05, 1.64833299e-05, 1.70275268e-05],\n",
       "       ...,\n",
       "       [1.70802314e-05, 1.48037208e-05, 1.60843263e-05, ...,\n",
       "        1.59384810e-05, 1.55810431e-05, 1.54739484e-05],\n",
       "       [3.19958490e-05, 2.71550405e-05, 3.11206997e-05, ...,\n",
       "        2.88966349e-05, 2.99836324e-05, 9.99388734e-01],\n",
       "       [9.99668759e-01, 1.51501000e-05, 1.73680545e-05, ...,\n",
       "        1.67328826e-05, 1.57924638e-05, 1.64211445e-05]])"
      ]
     },
     "execution_count": 210,
     "metadata": {},
     "output_type": "execute_result"
    }
   ],
   "source": [
    "model_LOGREG.predict_proba(X_test)"
   ]
  },
  {
   "cell_type": "code",
   "execution_count": 211,
   "metadata": {},
   "outputs": [
    {
     "data": {
      "text/plain": [
       "array([[-1.11980522e+01, -1.12667015e+01, -1.12427512e+01, ...,\n",
       "        -1.13172755e+01, -1.12504490e+01, -1.12555303e+01],\n",
       "       [-1.02802928e+01, -1.03105059e+01, -1.03061054e+01, ...,\n",
       "        -1.04074145e+01, -1.03880734e+01, -1.03466210e+01],\n",
       "       [-1.09479520e+01, -1.10976400e+01, -1.09524488e+01, ...,\n",
       "        -1.10585129e+01, -1.10131610e+01, -1.09806793e+01],\n",
       "       ...,\n",
       "       [-1.09775888e+01, -1.11206320e+01, -1.10376653e+01, ...,\n",
       "        -1.10467742e+01, -1.10694556e+01, -1.10763527e+01],\n",
       "       [-1.03499044e+01, -1.05139479e+01, -1.03776374e+01, ...,\n",
       "        -1.04517854e+01, -1.04148589e+01, -6.11452986e-04],\n",
       "       [-3.31295534e-04, -1.10975034e+01, -1.09608780e+01, ...,\n",
       "        -1.09981348e+01, -1.10559777e+01, -1.10169408e+01]])"
      ]
     },
     "execution_count": 211,
     "metadata": {},
     "output_type": "execute_result"
    }
   ],
   "source": [
    "model_LOGREG.predict_log_proba(X_test)"
   ]
  },
  {
   "cell_type": "code",
   "execution_count": 212,
   "metadata": {},
   "outputs": [
    {
     "data": {
      "text/plain": [
       "array([[ 2.14418109e-03, -1.26637868e-03, -5.72047569e-03, ...,\n",
       "        -1.73239807e-01, -1.70044270e-01, -1.78368725e-01],\n",
       "       [-2.48233748e-02, -3.82366787e-02, -8.89693549e-03, ...,\n",
       "        -1.58359891e-01, -1.54681280e-01, -1.62620145e-01],\n",
       "       [ 2.50575322e-02,  2.16171470e-02,  7.46608462e-03, ...,\n",
       "        -1.69590311e-01, -1.66899901e-01, -1.74984147e-01],\n",
       "       ...,\n",
       "       [-3.21321547e-02, -3.03392935e-04,  7.27704256e-03, ...,\n",
       "        -1.59451225e-01, -1.56255661e-01, -1.64118498e-01],\n",
       "       [ 3.90308265e-03, -9.96244982e-03, -6.92010283e-03, ...,\n",
       "        -1.63082054e-01, -1.60027963e-01, -1.67831923e-01],\n",
       "       [-7.21404419e-03, -7.75390987e-03, -1.10681874e-02, ...,\n",
       "        -1.64640968e-01,  3.30946844e+00, -1.69678859e-01]])"
      ]
     },
     "execution_count": 212,
     "metadata": {},
     "output_type": "execute_result"
    }
   ],
   "source": [
    "model_LOGREG.coef_"
   ]
  },
  {
   "cell_type": "code",
   "execution_count": 213,
   "metadata": {},
   "outputs": [
    {
     "data": {
      "text/plain": [
       "<bound method ClassifierMixin.score of LogisticRegression(C=1.0, class_weight=None, dual=False, fit_intercept=True,\n",
       "                   intercept_scaling=1, l1_ratio=None, max_iter=100,\n",
       "                   multi_class='auto', n_jobs=None, penalty='l2',\n",
       "                   random_state=None, solver='sag', tol=0.0001, verbose=0,\n",
       "                   warm_start=False)>"
      ]
     },
     "execution_count": 213,
     "metadata": {},
     "output_type": "execute_result"
    }
   ],
   "source": [
    "model_LOGREG.score"
   ]
  },
  {
   "cell_type": "code",
   "execution_count": 214,
   "metadata": {},
   "outputs": [
    {
     "data": {
      "text/plain": [
       "HORA             int64\n",
       "DIA_SEMANA       int64\n",
       "DISTRITO        object\n",
       "SEXO             int64\n",
       "EDAD_APROX       int64\n",
       "COD_DISTRITO    object\n",
       "SUP_KM2         object\n",
       "DENSIDAD_KM2    object\n",
       "dtype: object"
      ]
     },
     "execution_count": 214,
     "metadata": {},
     "output_type": "execute_result"
    }
   ],
   "source": [
    "df_inf_xa_dis.dtypes"
   ]
  },
  {
   "cell_type": "code",
   "execution_count": 215,
   "metadata": {},
   "outputs": [
    {
     "data": {
      "text/plain": [
       "'LATINA'"
      ]
     },
     "execution_count": 215,
     "metadata": {},
     "output_type": "execute_result"
    }
   ],
   "source": [
    "predictions_LOGREG[22]"
   ]
  },
  {
   "cell_type": "code",
   "execution_count": 216,
   "metadata": {},
   "outputs": [
    {
     "data": {
      "text/plain": [
       "'LATINA'"
      ]
     },
     "execution_count": 216,
     "metadata": {},
     "output_type": "execute_result"
    }
   ],
   "source": [
    "y_test[22]"
   ]
  },
  {
   "cell_type": "code",
   "execution_count": 217,
   "metadata": {},
   "outputs": [
    {
     "data": {
      "text/plain": [
       "array([[1.81027177e-05, 1.79440127e-05, 1.81051665e-05, 1.73460183e-05,\n",
       "        1.98351893e-05, 1.77757001e-05, 1.87190662e-05, 1.87386624e-05,\n",
       "        1.83323794e-05, 9.99633072e-01, 1.90853745e-05, 1.81478602e-05,\n",
       "        1.89513771e-05, 1.91600520e-05, 1.91678961e-05, 1.89107454e-05,\n",
       "        1.85423476e-05, 1.74742347e-05, 1.79890309e-05, 1.73374297e-05,\n",
       "        1.72631379e-05]])"
      ]
     },
     "execution_count": 217,
     "metadata": {},
     "output_type": "execute_result"
    }
   ],
   "source": [
    "model_LOGREG.predict_proba(X_test)[22:23,]"
   ]
  },
  {
   "cell_type": "code",
   "execution_count": 218,
   "metadata": {},
   "outputs": [
    {
     "data": {
      "text/plain": [
       "array([[-0.52007287, -0.58872225, -0.56477194, ..., -0.63929622,\n",
       "        -0.57246972, -0.57755099],\n",
       "       [-0.44436998, -0.47458309, -0.47018254, ..., -0.57149161,\n",
       "        -0.55215056, -0.51069814],\n",
       "       [-0.48078885, -0.63047681, -0.48528566, ..., -0.59134969,\n",
       "        -0.54599781, -0.51351611],\n",
       "       ...,\n",
       "       [-0.46967634, -0.61271952, -0.5297528 , ..., -0.5388617 ,\n",
       "        -0.56154308, -0.56844021],\n",
       "       [-0.44811428, -0.61215777, -0.47584727, ..., -0.5499953 ,\n",
       "        -0.51306881,  9.90117865],\n",
       "       [10.48456077, -0.61261136, -0.47598592, ..., -0.51324269,\n",
       "        -0.57108565, -0.53204869]])"
      ]
     },
     "execution_count": 218,
     "metadata": {},
     "output_type": "execute_result"
    }
   ],
   "source": [
    "model_LOGREG.decision_function(X_test)"
   ]
  },
  {
   "cell_type": "code",
   "execution_count": 219,
   "metadata": {},
   "outputs": [
    {
     "data": {
      "text/plain": [
       "array(['ARGANZUELA', 'BARAJAS', 'CARABANCHEL', 'CENTRO', 'CHAMARTIN',\n",
       "       'CHAMBERI', 'CIUDAD LINEAL', 'FUENCARRAL-EL PARDO', 'HORTALEZA',\n",
       "       'LATINA', 'MONCLOA-ARAVACA', 'MORATALAZ', 'PUENTE DE VALLECAS',\n",
       "       'RETIRO', 'SALAMANCA', 'SAN BLAS', 'TETUAN', 'USERA', 'VICALVARO',\n",
       "       'VILLA DE VALLECAS', 'VILLAVERDE'], dtype=object)"
      ]
     },
     "execution_count": 219,
     "metadata": {},
     "output_type": "execute_result"
    }
   ],
   "source": [
    "model_LOGREG.classes_"
   ]
  },
  {
   "cell_type": "code",
   "execution_count": 220,
   "metadata": {},
   "outputs": [
    {
     "data": {
      "text/html": [
       "<div>\n",
       "<style scoped>\n",
       "    .dataframe tbody tr th:only-of-type {\n",
       "        vertical-align: middle;\n",
       "    }\n",
       "\n",
       "    .dataframe tbody tr th {\n",
       "        vertical-align: top;\n",
       "    }\n",
       "\n",
       "    .dataframe thead th {\n",
       "        text-align: right;\n",
       "    }\n",
       "</style>\n",
       "<table border=\"1\" class=\"dataframe\">\n",
       "  <thead>\n",
       "    <tr style=\"text-align: right;\">\n",
       "      <th></th>\n",
       "      <th>ARGANZUELA</th>\n",
       "      <th>BARAJAS</th>\n",
       "      <th>CARABANCHEL</th>\n",
       "      <th>CENTRO</th>\n",
       "      <th>CHAMARTIN</th>\n",
       "      <th>CHAMBERI</th>\n",
       "      <th>CIUDAD LINEAL</th>\n",
       "      <th>FUENCARRAL-EL PARDO</th>\n",
       "      <th>HORTALEZA</th>\n",
       "      <th>LATINA</th>\n",
       "      <th>MONCLOA-ARAVACA</th>\n",
       "      <th>MORATALAZ</th>\n",
       "      <th>PUENTE DE VALLECAS</th>\n",
       "      <th>RETIRO</th>\n",
       "      <th>SALAMANCA</th>\n",
       "      <th>SAN BLAS</th>\n",
       "      <th>TETUAN</th>\n",
       "      <th>USERA</th>\n",
       "      <th>VICALVARO</th>\n",
       "      <th>VILLA DE VALLECAS</th>\n",
       "      <th>VILLAVERDE</th>\n",
       "    </tr>\n",
       "  </thead>\n",
       "  <tbody>\n",
       "    <tr>\n",
       "      <th>0</th>\n",
       "      <td>0.000014</td>\n",
       "      <td>0.000013</td>\n",
       "      <td>0.000013</td>\n",
       "      <td>0.000014</td>\n",
       "      <td>0.000014</td>\n",
       "      <td>0.000014</td>\n",
       "      <td>0.999729</td>\n",
       "      <td>0.000014</td>\n",
       "      <td>0.000013</td>\n",
       "      <td>0.000013</td>\n",
       "      <td>0.000014</td>\n",
       "      <td>0.000013</td>\n",
       "      <td>0.000014</td>\n",
       "      <td>0.000014</td>\n",
       "      <td>0.000014</td>\n",
       "      <td>0.000013</td>\n",
       "      <td>0.000014</td>\n",
       "      <td>0.000013</td>\n",
       "      <td>0.000012</td>\n",
       "      <td>0.000013</td>\n",
       "      <td>0.000013</td>\n",
       "    </tr>\n",
       "    <tr>\n",
       "      <th>1</th>\n",
       "      <td>0.000034</td>\n",
       "      <td>0.000033</td>\n",
       "      <td>0.000033</td>\n",
       "      <td>0.000034</td>\n",
       "      <td>0.000033</td>\n",
       "      <td>0.000033</td>\n",
       "      <td>0.000034</td>\n",
       "      <td>0.000032</td>\n",
       "      <td>0.000033</td>\n",
       "      <td>0.000033</td>\n",
       "      <td>0.000032</td>\n",
       "      <td>0.999345</td>\n",
       "      <td>0.000034</td>\n",
       "      <td>0.000033</td>\n",
       "      <td>0.000034</td>\n",
       "      <td>0.000034</td>\n",
       "      <td>0.000032</td>\n",
       "      <td>0.000030</td>\n",
       "      <td>0.000030</td>\n",
       "      <td>0.000031</td>\n",
       "      <td>0.000032</td>\n",
       "    </tr>\n",
       "    <tr>\n",
       "      <th>2</th>\n",
       "      <td>0.000018</td>\n",
       "      <td>0.000015</td>\n",
       "      <td>0.000018</td>\n",
       "      <td>0.000018</td>\n",
       "      <td>0.000017</td>\n",
       "      <td>0.000018</td>\n",
       "      <td>0.000017</td>\n",
       "      <td>0.999662</td>\n",
       "      <td>0.000016</td>\n",
       "      <td>0.000016</td>\n",
       "      <td>0.000017</td>\n",
       "      <td>0.000016</td>\n",
       "      <td>0.000017</td>\n",
       "      <td>0.000017</td>\n",
       "      <td>0.000018</td>\n",
       "      <td>0.000017</td>\n",
       "      <td>0.000018</td>\n",
       "      <td>0.000016</td>\n",
       "      <td>0.000016</td>\n",
       "      <td>0.000016</td>\n",
       "      <td>0.000017</td>\n",
       "    </tr>\n",
       "    <tr>\n",
       "      <th>3</th>\n",
       "      <td>0.000011</td>\n",
       "      <td>0.000011</td>\n",
       "      <td>0.000011</td>\n",
       "      <td>0.000011</td>\n",
       "      <td>0.000012</td>\n",
       "      <td>0.000011</td>\n",
       "      <td>0.000011</td>\n",
       "      <td>0.000011</td>\n",
       "      <td>0.000011</td>\n",
       "      <td>0.000011</td>\n",
       "      <td>0.000011</td>\n",
       "      <td>0.000010</td>\n",
       "      <td>0.000011</td>\n",
       "      <td>0.000012</td>\n",
       "      <td>0.999779</td>\n",
       "      <td>0.000011</td>\n",
       "      <td>0.000012</td>\n",
       "      <td>0.000011</td>\n",
       "      <td>0.000010</td>\n",
       "      <td>0.000010</td>\n",
       "      <td>0.000011</td>\n",
       "    </tr>\n",
       "    <tr>\n",
       "      <th>4</th>\n",
       "      <td>0.000017</td>\n",
       "      <td>0.000015</td>\n",
       "      <td>0.000017</td>\n",
       "      <td>0.000017</td>\n",
       "      <td>0.000016</td>\n",
       "      <td>0.000017</td>\n",
       "      <td>0.000016</td>\n",
       "      <td>0.999674</td>\n",
       "      <td>0.000016</td>\n",
       "      <td>0.000017</td>\n",
       "      <td>0.000017</td>\n",
       "      <td>0.000015</td>\n",
       "      <td>0.000016</td>\n",
       "      <td>0.000017</td>\n",
       "      <td>0.000017</td>\n",
       "      <td>0.000017</td>\n",
       "      <td>0.000017</td>\n",
       "      <td>0.000016</td>\n",
       "      <td>0.000015</td>\n",
       "      <td>0.000016</td>\n",
       "      <td>0.000016</td>\n",
       "    </tr>\n",
       "    <tr>\n",
       "      <th>...</th>\n",
       "      <td>...</td>\n",
       "      <td>...</td>\n",
       "      <td>...</td>\n",
       "      <td>...</td>\n",
       "      <td>...</td>\n",
       "      <td>...</td>\n",
       "      <td>...</td>\n",
       "      <td>...</td>\n",
       "      <td>...</td>\n",
       "      <td>...</td>\n",
       "      <td>...</td>\n",
       "      <td>...</td>\n",
       "      <td>...</td>\n",
       "      <td>...</td>\n",
       "      <td>...</td>\n",
       "      <td>...</td>\n",
       "      <td>...</td>\n",
       "      <td>...</td>\n",
       "      <td>...</td>\n",
       "      <td>...</td>\n",
       "      <td>...</td>\n",
       "    </tr>\n",
       "    <tr>\n",
       "      <th>50595</th>\n",
       "      <td>0.999656</td>\n",
       "      <td>0.000017</td>\n",
       "      <td>0.000017</td>\n",
       "      <td>0.000018</td>\n",
       "      <td>0.000017</td>\n",
       "      <td>0.000018</td>\n",
       "      <td>0.000017</td>\n",
       "      <td>0.000017</td>\n",
       "      <td>0.000017</td>\n",
       "      <td>0.000017</td>\n",
       "      <td>0.000018</td>\n",
       "      <td>0.000017</td>\n",
       "      <td>0.000018</td>\n",
       "      <td>0.000017</td>\n",
       "      <td>0.000018</td>\n",
       "      <td>0.000017</td>\n",
       "      <td>0.000017</td>\n",
       "      <td>0.000016</td>\n",
       "      <td>0.000016</td>\n",
       "      <td>0.000016</td>\n",
       "      <td>0.000018</td>\n",
       "    </tr>\n",
       "    <tr>\n",
       "      <th>50596</th>\n",
       "      <td>0.000017</td>\n",
       "      <td>0.000015</td>\n",
       "      <td>0.000016</td>\n",
       "      <td>0.000016</td>\n",
       "      <td>0.000016</td>\n",
       "      <td>0.000016</td>\n",
       "      <td>0.000017</td>\n",
       "      <td>0.000015</td>\n",
       "      <td>0.000015</td>\n",
       "      <td>0.000016</td>\n",
       "      <td>0.000016</td>\n",
       "      <td>0.000015</td>\n",
       "      <td>0.000016</td>\n",
       "      <td>0.999685</td>\n",
       "      <td>0.000017</td>\n",
       "      <td>0.000016</td>\n",
       "      <td>0.000016</td>\n",
       "      <td>0.000015</td>\n",
       "      <td>0.000015</td>\n",
       "      <td>0.000015</td>\n",
       "      <td>0.000015</td>\n",
       "    </tr>\n",
       "    <tr>\n",
       "      <th>50597</th>\n",
       "      <td>0.000017</td>\n",
       "      <td>0.000015</td>\n",
       "      <td>0.000016</td>\n",
       "      <td>0.000017</td>\n",
       "      <td>0.000017</td>\n",
       "      <td>0.000016</td>\n",
       "      <td>0.000016</td>\n",
       "      <td>0.999677</td>\n",
       "      <td>0.000016</td>\n",
       "      <td>0.000016</td>\n",
       "      <td>0.000016</td>\n",
       "      <td>0.000015</td>\n",
       "      <td>0.000016</td>\n",
       "      <td>0.000017</td>\n",
       "      <td>0.000017</td>\n",
       "      <td>0.000016</td>\n",
       "      <td>0.000017</td>\n",
       "      <td>0.000015</td>\n",
       "      <td>0.000016</td>\n",
       "      <td>0.000016</td>\n",
       "      <td>0.000015</td>\n",
       "    </tr>\n",
       "    <tr>\n",
       "      <th>50598</th>\n",
       "      <td>0.000032</td>\n",
       "      <td>0.000027</td>\n",
       "      <td>0.000031</td>\n",
       "      <td>0.000032</td>\n",
       "      <td>0.000032</td>\n",
       "      <td>0.000032</td>\n",
       "      <td>0.000030</td>\n",
       "      <td>0.000030</td>\n",
       "      <td>0.000029</td>\n",
       "      <td>0.000030</td>\n",
       "      <td>0.000032</td>\n",
       "      <td>0.000030</td>\n",
       "      <td>0.000031</td>\n",
       "      <td>0.000033</td>\n",
       "      <td>0.000032</td>\n",
       "      <td>0.000030</td>\n",
       "      <td>0.000032</td>\n",
       "      <td>0.000029</td>\n",
       "      <td>0.000029</td>\n",
       "      <td>0.000030</td>\n",
       "      <td>0.999389</td>\n",
       "    </tr>\n",
       "    <tr>\n",
       "      <th>50599</th>\n",
       "      <td>0.999669</td>\n",
       "      <td>0.000015</td>\n",
       "      <td>0.000017</td>\n",
       "      <td>0.000017</td>\n",
       "      <td>0.000017</td>\n",
       "      <td>0.000015</td>\n",
       "      <td>0.000017</td>\n",
       "      <td>0.000017</td>\n",
       "      <td>0.000016</td>\n",
       "      <td>0.000017</td>\n",
       "      <td>0.000017</td>\n",
       "      <td>0.000017</td>\n",
       "      <td>0.000018</td>\n",
       "      <td>0.000017</td>\n",
       "      <td>0.000017</td>\n",
       "      <td>0.000016</td>\n",
       "      <td>0.000016</td>\n",
       "      <td>0.000017</td>\n",
       "      <td>0.000017</td>\n",
       "      <td>0.000016</td>\n",
       "      <td>0.000016</td>\n",
       "    </tr>\n",
       "  </tbody>\n",
       "</table>\n",
       "<p>50600 rows × 21 columns</p>\n",
       "</div>"
      ],
      "text/plain": [
       "       ARGANZUELA   BARAJAS  CARABANCHEL    CENTRO  CHAMARTIN  CHAMBERI  \\\n",
       "0        0.000014  0.000013     0.000013  0.000014   0.000014  0.000014   \n",
       "1        0.000034  0.000033     0.000033  0.000034   0.000033  0.000033   \n",
       "2        0.000018  0.000015     0.000018  0.000018   0.000017  0.000018   \n",
       "3        0.000011  0.000011     0.000011  0.000011   0.000012  0.000011   \n",
       "4        0.000017  0.000015     0.000017  0.000017   0.000016  0.000017   \n",
       "...           ...       ...          ...       ...        ...       ...   \n",
       "50595    0.999656  0.000017     0.000017  0.000018   0.000017  0.000018   \n",
       "50596    0.000017  0.000015     0.000016  0.000016   0.000016  0.000016   \n",
       "50597    0.000017  0.000015     0.000016  0.000017   0.000017  0.000016   \n",
       "50598    0.000032  0.000027     0.000031  0.000032   0.000032  0.000032   \n",
       "50599    0.999669  0.000015     0.000017  0.000017   0.000017  0.000015   \n",
       "\n",
       "       CIUDAD LINEAL  FUENCARRAL-EL PARDO  HORTALEZA    LATINA  \\\n",
       "0           0.999729             0.000014   0.000013  0.000013   \n",
       "1           0.000034             0.000032   0.000033  0.000033   \n",
       "2           0.000017             0.999662   0.000016  0.000016   \n",
       "3           0.000011             0.000011   0.000011  0.000011   \n",
       "4           0.000016             0.999674   0.000016  0.000017   \n",
       "...              ...                  ...        ...       ...   \n",
       "50595       0.000017             0.000017   0.000017  0.000017   \n",
       "50596       0.000017             0.000015   0.000015  0.000016   \n",
       "50597       0.000016             0.999677   0.000016  0.000016   \n",
       "50598       0.000030             0.000030   0.000029  0.000030   \n",
       "50599       0.000017             0.000017   0.000016  0.000017   \n",
       "\n",
       "       MONCLOA-ARAVACA  MORATALAZ  PUENTE DE VALLECAS    RETIRO  SALAMANCA  \\\n",
       "0             0.000014   0.000013            0.000014  0.000014   0.000014   \n",
       "1             0.000032   0.999345            0.000034  0.000033   0.000034   \n",
       "2             0.000017   0.000016            0.000017  0.000017   0.000018   \n",
       "3             0.000011   0.000010            0.000011  0.000012   0.999779   \n",
       "4             0.000017   0.000015            0.000016  0.000017   0.000017   \n",
       "...                ...        ...                 ...       ...        ...   \n",
       "50595         0.000018   0.000017            0.000018  0.000017   0.000018   \n",
       "50596         0.000016   0.000015            0.000016  0.999685   0.000017   \n",
       "50597         0.000016   0.000015            0.000016  0.000017   0.000017   \n",
       "50598         0.000032   0.000030            0.000031  0.000033   0.000032   \n",
       "50599         0.000017   0.000017            0.000018  0.000017   0.000017   \n",
       "\n",
       "       SAN BLAS    TETUAN     USERA  VICALVARO  VILLA DE VALLECAS  VILLAVERDE  \n",
       "0      0.000013  0.000014  0.000013   0.000012           0.000013    0.000013  \n",
       "1      0.000034  0.000032  0.000030   0.000030           0.000031    0.000032  \n",
       "2      0.000017  0.000018  0.000016   0.000016           0.000016    0.000017  \n",
       "3      0.000011  0.000012  0.000011   0.000010           0.000010    0.000011  \n",
       "4      0.000017  0.000017  0.000016   0.000015           0.000016    0.000016  \n",
       "...         ...       ...       ...        ...                ...         ...  \n",
       "50595  0.000017  0.000017  0.000016   0.000016           0.000016    0.000018  \n",
       "50596  0.000016  0.000016  0.000015   0.000015           0.000015    0.000015  \n",
       "50597  0.000016  0.000017  0.000015   0.000016           0.000016    0.000015  \n",
       "50598  0.000030  0.000032  0.000029   0.000029           0.000030    0.999389  \n",
       "50599  0.000016  0.000016  0.000017   0.000017           0.000016    0.000016  \n",
       "\n",
       "[50600 rows x 21 columns]"
      ]
     },
     "execution_count": 220,
     "metadata": {},
     "output_type": "execute_result"
    }
   ],
   "source": [
    "pd.DataFrame(model_LOGREG.predict_proba(X_test), columns=model_LOGREG.classes_)"
   ]
  },
  {
   "cell_type": "code",
   "execution_count": 221,
   "metadata": {},
   "outputs": [
    {
     "data": {
      "text/html": [
       "<div>\n",
       "<style scoped>\n",
       "    .dataframe tbody tr th:only-of-type {\n",
       "        vertical-align: middle;\n",
       "    }\n",
       "\n",
       "    .dataframe tbody tr th {\n",
       "        vertical-align: top;\n",
       "    }\n",
       "\n",
       "    .dataframe thead th {\n",
       "        text-align: right;\n",
       "    }\n",
       "</style>\n",
       "<table border=\"1\" class=\"dataframe\">\n",
       "  <thead>\n",
       "    <tr style=\"text-align: right;\">\n",
       "      <th></th>\n",
       "      <th>ARGANZUELA</th>\n",
       "      <th>BARAJAS</th>\n",
       "      <th>CARABANCHEL</th>\n",
       "      <th>CENTRO</th>\n",
       "      <th>CHAMARTIN</th>\n",
       "      <th>CHAMBERI</th>\n",
       "      <th>CIUDAD LINEAL</th>\n",
       "      <th>FUENCARRAL-EL PARDO</th>\n",
       "      <th>HORTALEZA</th>\n",
       "      <th>LATINA</th>\n",
       "      <th>MONCLOA-ARAVACA</th>\n",
       "      <th>MORATALAZ</th>\n",
       "      <th>PUENTE DE VALLECAS</th>\n",
       "      <th>RETIRO</th>\n",
       "      <th>SALAMANCA</th>\n",
       "      <th>SAN BLAS</th>\n",
       "      <th>TETUAN</th>\n",
       "      <th>USERA</th>\n",
       "      <th>VICALVARO</th>\n",
       "      <th>VILLA DE VALLECAS</th>\n",
       "      <th>VILLAVERDE</th>\n",
       "    </tr>\n",
       "  </thead>\n",
       "  <tbody>\n",
       "    <tr>\n",
       "      <th>0</th>\n",
       "      <td>0.000014</td>\n",
       "      <td>0.000013</td>\n",
       "      <td>0.000013</td>\n",
       "      <td>0.000014</td>\n",
       "      <td>0.000014</td>\n",
       "      <td>0.000014</td>\n",
       "      <td>0.999729</td>\n",
       "      <td>0.000014</td>\n",
       "      <td>0.000013</td>\n",
       "      <td>0.000013</td>\n",
       "      <td>0.000014</td>\n",
       "      <td>0.000013</td>\n",
       "      <td>0.000014</td>\n",
       "      <td>0.000014</td>\n",
       "      <td>0.000014</td>\n",
       "      <td>0.000013</td>\n",
       "      <td>0.000014</td>\n",
       "      <td>0.000013</td>\n",
       "      <td>0.000012</td>\n",
       "      <td>0.000013</td>\n",
       "      <td>0.000013</td>\n",
       "    </tr>\n",
       "    <tr>\n",
       "      <th>1</th>\n",
       "      <td>0.000034</td>\n",
       "      <td>0.000033</td>\n",
       "      <td>0.000033</td>\n",
       "      <td>0.000034</td>\n",
       "      <td>0.000033</td>\n",
       "      <td>0.000033</td>\n",
       "      <td>0.000034</td>\n",
       "      <td>0.000032</td>\n",
       "      <td>0.000033</td>\n",
       "      <td>0.000033</td>\n",
       "      <td>0.000032</td>\n",
       "      <td>0.999345</td>\n",
       "      <td>0.000034</td>\n",
       "      <td>0.000033</td>\n",
       "      <td>0.000034</td>\n",
       "      <td>0.000034</td>\n",
       "      <td>0.000032</td>\n",
       "      <td>0.000030</td>\n",
       "      <td>0.000030</td>\n",
       "      <td>0.000031</td>\n",
       "      <td>0.000032</td>\n",
       "    </tr>\n",
       "    <tr>\n",
       "      <th>2</th>\n",
       "      <td>0.000018</td>\n",
       "      <td>0.000015</td>\n",
       "      <td>0.000018</td>\n",
       "      <td>0.000018</td>\n",
       "      <td>0.000017</td>\n",
       "      <td>0.000018</td>\n",
       "      <td>0.000017</td>\n",
       "      <td>0.999662</td>\n",
       "      <td>0.000016</td>\n",
       "      <td>0.000016</td>\n",
       "      <td>0.000017</td>\n",
       "      <td>0.000016</td>\n",
       "      <td>0.000017</td>\n",
       "      <td>0.000017</td>\n",
       "      <td>0.000018</td>\n",
       "      <td>0.000017</td>\n",
       "      <td>0.000018</td>\n",
       "      <td>0.000016</td>\n",
       "      <td>0.000016</td>\n",
       "      <td>0.000016</td>\n",
       "      <td>0.000017</td>\n",
       "    </tr>\n",
       "    <tr>\n",
       "      <th>3</th>\n",
       "      <td>0.000011</td>\n",
       "      <td>0.000011</td>\n",
       "      <td>0.000011</td>\n",
       "      <td>0.000011</td>\n",
       "      <td>0.000012</td>\n",
       "      <td>0.000011</td>\n",
       "      <td>0.000011</td>\n",
       "      <td>0.000011</td>\n",
       "      <td>0.000011</td>\n",
       "      <td>0.000011</td>\n",
       "      <td>0.000011</td>\n",
       "      <td>0.000010</td>\n",
       "      <td>0.000011</td>\n",
       "      <td>0.000012</td>\n",
       "      <td>0.999779</td>\n",
       "      <td>0.000011</td>\n",
       "      <td>0.000012</td>\n",
       "      <td>0.000011</td>\n",
       "      <td>0.000010</td>\n",
       "      <td>0.000010</td>\n",
       "      <td>0.000011</td>\n",
       "    </tr>\n",
       "    <tr>\n",
       "      <th>4</th>\n",
       "      <td>0.000017</td>\n",
       "      <td>0.000015</td>\n",
       "      <td>0.000017</td>\n",
       "      <td>0.000017</td>\n",
       "      <td>0.000016</td>\n",
       "      <td>0.000017</td>\n",
       "      <td>0.000016</td>\n",
       "      <td>0.999674</td>\n",
       "      <td>0.000016</td>\n",
       "      <td>0.000017</td>\n",
       "      <td>0.000017</td>\n",
       "      <td>0.000015</td>\n",
       "      <td>0.000016</td>\n",
       "      <td>0.000017</td>\n",
       "      <td>0.000017</td>\n",
       "      <td>0.000017</td>\n",
       "      <td>0.000017</td>\n",
       "      <td>0.000016</td>\n",
       "      <td>0.000015</td>\n",
       "      <td>0.000016</td>\n",
       "      <td>0.000016</td>\n",
       "    </tr>\n",
       "  </tbody>\n",
       "</table>\n",
       "</div>"
      ],
      "text/plain": [
       "   ARGANZUELA   BARAJAS  CARABANCHEL    CENTRO  CHAMARTIN  CHAMBERI  \\\n",
       "0    0.000014  0.000013     0.000013  0.000014   0.000014  0.000014   \n",
       "1    0.000034  0.000033     0.000033  0.000034   0.000033  0.000033   \n",
       "2    0.000018  0.000015     0.000018  0.000018   0.000017  0.000018   \n",
       "3    0.000011  0.000011     0.000011  0.000011   0.000012  0.000011   \n",
       "4    0.000017  0.000015     0.000017  0.000017   0.000016  0.000017   \n",
       "\n",
       "   CIUDAD LINEAL  FUENCARRAL-EL PARDO  HORTALEZA    LATINA  MONCLOA-ARAVACA  \\\n",
       "0       0.999729             0.000014   0.000013  0.000013         0.000014   \n",
       "1       0.000034             0.000032   0.000033  0.000033         0.000032   \n",
       "2       0.000017             0.999662   0.000016  0.000016         0.000017   \n",
       "3       0.000011             0.000011   0.000011  0.000011         0.000011   \n",
       "4       0.000016             0.999674   0.000016  0.000017         0.000017   \n",
       "\n",
       "   MORATALAZ  PUENTE DE VALLECAS    RETIRO  SALAMANCA  SAN BLAS    TETUAN  \\\n",
       "0   0.000013            0.000014  0.000014   0.000014  0.000013  0.000014   \n",
       "1   0.999345            0.000034  0.000033   0.000034  0.000034  0.000032   \n",
       "2   0.000016            0.000017  0.000017   0.000018  0.000017  0.000018   \n",
       "3   0.000010            0.000011  0.000012   0.999779  0.000011  0.000012   \n",
       "4   0.000015            0.000016  0.000017   0.000017  0.000017  0.000017   \n",
       "\n",
       "      USERA  VICALVARO  VILLA DE VALLECAS  VILLAVERDE  \n",
       "0  0.000013   0.000012           0.000013    0.000013  \n",
       "1  0.000030   0.000030           0.000031    0.000032  \n",
       "2  0.000016   0.000016           0.000016    0.000017  \n",
       "3  0.000011   0.000010           0.000010    0.000011  \n",
       "4  0.000016   0.000015           0.000016    0.000016  "
      ]
     },
     "execution_count": 221,
     "metadata": {},
     "output_type": "execute_result"
    }
   ],
   "source": [
    "pd.DataFrame(model_LOGREG.predict_proba(X_test), columns=model_LOGREG.classes_).head(5)"
   ]
  },
  {
   "cell_type": "code",
   "execution_count": 222,
   "metadata": {},
   "outputs": [
    {
     "data": {
      "text/html": [
       "<div>\n",
       "<style scoped>\n",
       "    .dataframe tbody tr th:only-of-type {\n",
       "        vertical-align: middle;\n",
       "    }\n",
       "\n",
       "    .dataframe tbody tr th {\n",
       "        vertical-align: top;\n",
       "    }\n",
       "\n",
       "    .dataframe thead th {\n",
       "        text-align: right;\n",
       "    }\n",
       "</style>\n",
       "<table border=\"1\" class=\"dataframe\">\n",
       "  <thead>\n",
       "    <tr style=\"text-align: right;\">\n",
       "      <th></th>\n",
       "      <th>0</th>\n",
       "      <th>1</th>\n",
       "      <th>2</th>\n",
       "      <th>3</th>\n",
       "      <th>4</th>\n",
       "      <th>5</th>\n",
       "      <th>6</th>\n",
       "      <th>7</th>\n",
       "      <th>8</th>\n",
       "      <th>9</th>\n",
       "      <th>10</th>\n",
       "      <th>11</th>\n",
       "      <th>12</th>\n",
       "      <th>13</th>\n",
       "      <th>14</th>\n",
       "      <th>15</th>\n",
       "      <th>16</th>\n",
       "      <th>17</th>\n",
       "      <th>18</th>\n",
       "      <th>19</th>\n",
       "      <th>20</th>\n",
       "    </tr>\n",
       "  </thead>\n",
       "  <tbody>\n",
       "    <tr>\n",
       "      <th>0</th>\n",
       "      <td>0.000014</td>\n",
       "      <td>0.000013</td>\n",
       "      <td>0.000013</td>\n",
       "      <td>0.000014</td>\n",
       "      <td>0.000014</td>\n",
       "      <td>0.000014</td>\n",
       "      <td>0.999729</td>\n",
       "      <td>0.000014</td>\n",
       "      <td>0.000013</td>\n",
       "      <td>0.000013</td>\n",
       "      <td>0.000014</td>\n",
       "      <td>0.000013</td>\n",
       "      <td>0.000014</td>\n",
       "      <td>0.000014</td>\n",
       "      <td>0.000014</td>\n",
       "      <td>0.000013</td>\n",
       "      <td>0.000014</td>\n",
       "      <td>0.000013</td>\n",
       "      <td>0.000012</td>\n",
       "      <td>0.000013</td>\n",
       "      <td>0.000013</td>\n",
       "    </tr>\n",
       "    <tr>\n",
       "      <th>1</th>\n",
       "      <td>0.000034</td>\n",
       "      <td>0.000033</td>\n",
       "      <td>0.000033</td>\n",
       "      <td>0.000034</td>\n",
       "      <td>0.000033</td>\n",
       "      <td>0.000033</td>\n",
       "      <td>0.000034</td>\n",
       "      <td>0.000032</td>\n",
       "      <td>0.000033</td>\n",
       "      <td>0.000033</td>\n",
       "      <td>0.000032</td>\n",
       "      <td>0.999345</td>\n",
       "      <td>0.000034</td>\n",
       "      <td>0.000033</td>\n",
       "      <td>0.000034</td>\n",
       "      <td>0.000034</td>\n",
       "      <td>0.000032</td>\n",
       "      <td>0.000030</td>\n",
       "      <td>0.000030</td>\n",
       "      <td>0.000031</td>\n",
       "      <td>0.000032</td>\n",
       "    </tr>\n",
       "    <tr>\n",
       "      <th>2</th>\n",
       "      <td>0.000018</td>\n",
       "      <td>0.000015</td>\n",
       "      <td>0.000018</td>\n",
       "      <td>0.000018</td>\n",
       "      <td>0.000017</td>\n",
       "      <td>0.000018</td>\n",
       "      <td>0.000017</td>\n",
       "      <td>0.999662</td>\n",
       "      <td>0.000016</td>\n",
       "      <td>0.000016</td>\n",
       "      <td>0.000017</td>\n",
       "      <td>0.000016</td>\n",
       "      <td>0.000017</td>\n",
       "      <td>0.000017</td>\n",
       "      <td>0.000018</td>\n",
       "      <td>0.000017</td>\n",
       "      <td>0.000018</td>\n",
       "      <td>0.000016</td>\n",
       "      <td>0.000016</td>\n",
       "      <td>0.000016</td>\n",
       "      <td>0.000017</td>\n",
       "    </tr>\n",
       "    <tr>\n",
       "      <th>3</th>\n",
       "      <td>0.000011</td>\n",
       "      <td>0.000011</td>\n",
       "      <td>0.000011</td>\n",
       "      <td>0.000011</td>\n",
       "      <td>0.000012</td>\n",
       "      <td>0.000011</td>\n",
       "      <td>0.000011</td>\n",
       "      <td>0.000011</td>\n",
       "      <td>0.000011</td>\n",
       "      <td>0.000011</td>\n",
       "      <td>0.000011</td>\n",
       "      <td>0.000010</td>\n",
       "      <td>0.000011</td>\n",
       "      <td>0.000012</td>\n",
       "      <td>0.999779</td>\n",
       "      <td>0.000011</td>\n",
       "      <td>0.000012</td>\n",
       "      <td>0.000011</td>\n",
       "      <td>0.000010</td>\n",
       "      <td>0.000010</td>\n",
       "      <td>0.000011</td>\n",
       "    </tr>\n",
       "    <tr>\n",
       "      <th>4</th>\n",
       "      <td>0.000017</td>\n",
       "      <td>0.000015</td>\n",
       "      <td>0.000017</td>\n",
       "      <td>0.000017</td>\n",
       "      <td>0.000016</td>\n",
       "      <td>0.000017</td>\n",
       "      <td>0.000016</td>\n",
       "      <td>0.999674</td>\n",
       "      <td>0.000016</td>\n",
       "      <td>0.000017</td>\n",
       "      <td>0.000017</td>\n",
       "      <td>0.000015</td>\n",
       "      <td>0.000016</td>\n",
       "      <td>0.000017</td>\n",
       "      <td>0.000017</td>\n",
       "      <td>0.000017</td>\n",
       "      <td>0.000017</td>\n",
       "      <td>0.000016</td>\n",
       "      <td>0.000015</td>\n",
       "      <td>0.000016</td>\n",
       "      <td>0.000016</td>\n",
       "    </tr>\n",
       "    <tr>\n",
       "      <th>...</th>\n",
       "      <td>...</td>\n",
       "      <td>...</td>\n",
       "      <td>...</td>\n",
       "      <td>...</td>\n",
       "      <td>...</td>\n",
       "      <td>...</td>\n",
       "      <td>...</td>\n",
       "      <td>...</td>\n",
       "      <td>...</td>\n",
       "      <td>...</td>\n",
       "      <td>...</td>\n",
       "      <td>...</td>\n",
       "      <td>...</td>\n",
       "      <td>...</td>\n",
       "      <td>...</td>\n",
       "      <td>...</td>\n",
       "      <td>...</td>\n",
       "      <td>...</td>\n",
       "      <td>...</td>\n",
       "      <td>...</td>\n",
       "      <td>...</td>\n",
       "    </tr>\n",
       "    <tr>\n",
       "      <th>50595</th>\n",
       "      <td>0.999656</td>\n",
       "      <td>0.000017</td>\n",
       "      <td>0.000017</td>\n",
       "      <td>0.000018</td>\n",
       "      <td>0.000017</td>\n",
       "      <td>0.000018</td>\n",
       "      <td>0.000017</td>\n",
       "      <td>0.000017</td>\n",
       "      <td>0.000017</td>\n",
       "      <td>0.000017</td>\n",
       "      <td>0.000018</td>\n",
       "      <td>0.000017</td>\n",
       "      <td>0.000018</td>\n",
       "      <td>0.000017</td>\n",
       "      <td>0.000018</td>\n",
       "      <td>0.000017</td>\n",
       "      <td>0.000017</td>\n",
       "      <td>0.000016</td>\n",
       "      <td>0.000016</td>\n",
       "      <td>0.000016</td>\n",
       "      <td>0.000018</td>\n",
       "    </tr>\n",
       "    <tr>\n",
       "      <th>50596</th>\n",
       "      <td>0.000017</td>\n",
       "      <td>0.000015</td>\n",
       "      <td>0.000016</td>\n",
       "      <td>0.000016</td>\n",
       "      <td>0.000016</td>\n",
       "      <td>0.000016</td>\n",
       "      <td>0.000017</td>\n",
       "      <td>0.000015</td>\n",
       "      <td>0.000015</td>\n",
       "      <td>0.000016</td>\n",
       "      <td>0.000016</td>\n",
       "      <td>0.000015</td>\n",
       "      <td>0.000016</td>\n",
       "      <td>0.999685</td>\n",
       "      <td>0.000017</td>\n",
       "      <td>0.000016</td>\n",
       "      <td>0.000016</td>\n",
       "      <td>0.000015</td>\n",
       "      <td>0.000015</td>\n",
       "      <td>0.000015</td>\n",
       "      <td>0.000015</td>\n",
       "    </tr>\n",
       "    <tr>\n",
       "      <th>50597</th>\n",
       "      <td>0.000017</td>\n",
       "      <td>0.000015</td>\n",
       "      <td>0.000016</td>\n",
       "      <td>0.000017</td>\n",
       "      <td>0.000017</td>\n",
       "      <td>0.000016</td>\n",
       "      <td>0.000016</td>\n",
       "      <td>0.999677</td>\n",
       "      <td>0.000016</td>\n",
       "      <td>0.000016</td>\n",
       "      <td>0.000016</td>\n",
       "      <td>0.000015</td>\n",
       "      <td>0.000016</td>\n",
       "      <td>0.000017</td>\n",
       "      <td>0.000017</td>\n",
       "      <td>0.000016</td>\n",
       "      <td>0.000017</td>\n",
       "      <td>0.000015</td>\n",
       "      <td>0.000016</td>\n",
       "      <td>0.000016</td>\n",
       "      <td>0.000015</td>\n",
       "    </tr>\n",
       "    <tr>\n",
       "      <th>50598</th>\n",
       "      <td>0.000032</td>\n",
       "      <td>0.000027</td>\n",
       "      <td>0.000031</td>\n",
       "      <td>0.000032</td>\n",
       "      <td>0.000032</td>\n",
       "      <td>0.000032</td>\n",
       "      <td>0.000030</td>\n",
       "      <td>0.000030</td>\n",
       "      <td>0.000029</td>\n",
       "      <td>0.000030</td>\n",
       "      <td>0.000032</td>\n",
       "      <td>0.000030</td>\n",
       "      <td>0.000031</td>\n",
       "      <td>0.000033</td>\n",
       "      <td>0.000032</td>\n",
       "      <td>0.000030</td>\n",
       "      <td>0.000032</td>\n",
       "      <td>0.000029</td>\n",
       "      <td>0.000029</td>\n",
       "      <td>0.000030</td>\n",
       "      <td>0.999389</td>\n",
       "    </tr>\n",
       "    <tr>\n",
       "      <th>50599</th>\n",
       "      <td>0.999669</td>\n",
       "      <td>0.000015</td>\n",
       "      <td>0.000017</td>\n",
       "      <td>0.000017</td>\n",
       "      <td>0.000017</td>\n",
       "      <td>0.000015</td>\n",
       "      <td>0.000017</td>\n",
       "      <td>0.000017</td>\n",
       "      <td>0.000016</td>\n",
       "      <td>0.000017</td>\n",
       "      <td>0.000017</td>\n",
       "      <td>0.000017</td>\n",
       "      <td>0.000018</td>\n",
       "      <td>0.000017</td>\n",
       "      <td>0.000017</td>\n",
       "      <td>0.000016</td>\n",
       "      <td>0.000016</td>\n",
       "      <td>0.000017</td>\n",
       "      <td>0.000017</td>\n",
       "      <td>0.000016</td>\n",
       "      <td>0.000016</td>\n",
       "    </tr>\n",
       "  </tbody>\n",
       "</table>\n",
       "<p>50600 rows × 21 columns</p>\n",
       "</div>"
      ],
      "text/plain": [
       "              0         1         2         3         4         5         6  \\\n",
       "0      0.000014  0.000013  0.000013  0.000014  0.000014  0.000014  0.999729   \n",
       "1      0.000034  0.000033  0.000033  0.000034  0.000033  0.000033  0.000034   \n",
       "2      0.000018  0.000015  0.000018  0.000018  0.000017  0.000018  0.000017   \n",
       "3      0.000011  0.000011  0.000011  0.000011  0.000012  0.000011  0.000011   \n",
       "4      0.000017  0.000015  0.000017  0.000017  0.000016  0.000017  0.000016   \n",
       "...         ...       ...       ...       ...       ...       ...       ...   \n",
       "50595  0.999656  0.000017  0.000017  0.000018  0.000017  0.000018  0.000017   \n",
       "50596  0.000017  0.000015  0.000016  0.000016  0.000016  0.000016  0.000017   \n",
       "50597  0.000017  0.000015  0.000016  0.000017  0.000017  0.000016  0.000016   \n",
       "50598  0.000032  0.000027  0.000031  0.000032  0.000032  0.000032  0.000030   \n",
       "50599  0.999669  0.000015  0.000017  0.000017  0.000017  0.000015  0.000017   \n",
       "\n",
       "              7         8         9        10        11        12        13  \\\n",
       "0      0.000014  0.000013  0.000013  0.000014  0.000013  0.000014  0.000014   \n",
       "1      0.000032  0.000033  0.000033  0.000032  0.999345  0.000034  0.000033   \n",
       "2      0.999662  0.000016  0.000016  0.000017  0.000016  0.000017  0.000017   \n",
       "3      0.000011  0.000011  0.000011  0.000011  0.000010  0.000011  0.000012   \n",
       "4      0.999674  0.000016  0.000017  0.000017  0.000015  0.000016  0.000017   \n",
       "...         ...       ...       ...       ...       ...       ...       ...   \n",
       "50595  0.000017  0.000017  0.000017  0.000018  0.000017  0.000018  0.000017   \n",
       "50596  0.000015  0.000015  0.000016  0.000016  0.000015  0.000016  0.999685   \n",
       "50597  0.999677  0.000016  0.000016  0.000016  0.000015  0.000016  0.000017   \n",
       "50598  0.000030  0.000029  0.000030  0.000032  0.000030  0.000031  0.000033   \n",
       "50599  0.000017  0.000016  0.000017  0.000017  0.000017  0.000018  0.000017   \n",
       "\n",
       "             14        15        16        17        18        19        20  \n",
       "0      0.000014  0.000013  0.000014  0.000013  0.000012  0.000013  0.000013  \n",
       "1      0.000034  0.000034  0.000032  0.000030  0.000030  0.000031  0.000032  \n",
       "2      0.000018  0.000017  0.000018  0.000016  0.000016  0.000016  0.000017  \n",
       "3      0.999779  0.000011  0.000012  0.000011  0.000010  0.000010  0.000011  \n",
       "4      0.000017  0.000017  0.000017  0.000016  0.000015  0.000016  0.000016  \n",
       "...         ...       ...       ...       ...       ...       ...       ...  \n",
       "50595  0.000018  0.000017  0.000017  0.000016  0.000016  0.000016  0.000018  \n",
       "50596  0.000017  0.000016  0.000016  0.000015  0.000015  0.000015  0.000015  \n",
       "50597  0.000017  0.000016  0.000017  0.000015  0.000016  0.000016  0.000015  \n",
       "50598  0.000032  0.000030  0.000032  0.000029  0.000029  0.000030  0.999389  \n",
       "50599  0.000017  0.000016  0.000016  0.000017  0.000017  0.000016  0.000016  \n",
       "\n",
       "[50600 rows x 21 columns]"
      ]
     },
     "execution_count": 222,
     "metadata": {},
     "output_type": "execute_result"
    }
   ],
   "source": [
    "pd.DataFrame(model_LOGREG.predict_proba(X_test))"
   ]
  },
  {
   "cell_type": "code",
   "execution_count": 223,
   "metadata": {},
   "outputs": [
    {
     "data": {
      "text/plain": [
       "'CIUDAD LINEAL'"
      ]
     },
     "execution_count": 223,
     "metadata": {},
     "output_type": "execute_result"
    }
   ],
   "source": [
    "predictions_LOGREG[0]"
   ]
  },
  {
   "cell_type": "code",
   "execution_count": 224,
   "metadata": {},
   "outputs": [
    {
     "data": {
      "text/plain": [
       "'MORATALAZ'"
      ]
     },
     "execution_count": 224,
     "metadata": {},
     "output_type": "execute_result"
    }
   ],
   "source": [
    "predictions_LOGREG[1]"
   ]
  },
  {
   "cell_type": "code",
   "execution_count": 225,
   "metadata": {},
   "outputs": [],
   "source": [
    "# For decode test patterns (just create a copy before transformation)\n",
    "# add probability by index\n",
    "# eliminate surface and density (although they would be worth us for other calculations)"
   ]
  },
  {
   "cell_type": "code",
   "execution_count": 226,
   "metadata": {},
   "outputs": [
    {
     "data": {
      "text/html": [
       "<div>\n",
       "<style scoped>\n",
       "    .dataframe tbody tr th:only-of-type {\n",
       "        vertical-align: middle;\n",
       "    }\n",
       "\n",
       "    .dataframe tbody tr th {\n",
       "        vertical-align: top;\n",
       "    }\n",
       "\n",
       "    .dataframe thead th {\n",
       "        text-align: right;\n",
       "    }\n",
       "</style>\n",
       "<table border=\"1\" class=\"dataframe\">\n",
       "  <thead>\n",
       "    <tr style=\"text-align: right;\">\n",
       "      <th></th>\n",
       "      <th>HORA</th>\n",
       "      <th>DIA_SEMANA</th>\n",
       "      <th>DISTRITO</th>\n",
       "      <th>SEXO</th>\n",
       "      <th>EDAD_APROX</th>\n",
       "    </tr>\n",
       "  </thead>\n",
       "  <tbody>\n",
       "    <tr>\n",
       "      <th>0</th>\n",
       "      <td>00:00</td>\n",
       "      <td>VIERNES</td>\n",
       "      <td>CHAMARTIN</td>\n",
       "      <td>HOMBRE</td>\n",
       "      <td>20</td>\n",
       "    </tr>\n",
       "  </tbody>\n",
       "</table>\n",
       "</div>"
      ],
      "text/plain": [
       "    HORA DIA_SEMANA   DISTRITO    SEXO EDAD_APROX\n",
       "0  00:00    VIERNES  CHAMARTIN  HOMBRE         20"
      ]
     },
     "execution_count": 226,
     "metadata": {},
     "output_type": "execute_result"
    }
   ],
   "source": [
    "df_accs.head(1)"
   ]
  },
  {
   "cell_type": "code",
   "execution_count": 227,
   "metadata": {},
   "outputs": [
    {
     "data": {
      "text/html": [
       "<div>\n",
       "<style scoped>\n",
       "    .dataframe tbody tr th:only-of-type {\n",
       "        vertical-align: middle;\n",
       "    }\n",
       "\n",
       "    .dataframe tbody tr th {\n",
       "        vertical-align: top;\n",
       "    }\n",
       "\n",
       "    .dataframe thead th {\n",
       "        text-align: right;\n",
       "    }\n",
       "</style>\n",
       "<table border=\"1\" class=\"dataframe\">\n",
       "  <thead>\n",
       "    <tr style=\"text-align: right;\">\n",
       "      <th></th>\n",
       "      <th>HORA</th>\n",
       "      <th>DIA_SEMANA</th>\n",
       "      <th>DISTRITO</th>\n",
       "      <th>SEXO</th>\n",
       "      <th>EDAD_APROX</th>\n",
       "    </tr>\n",
       "  </thead>\n",
       "  <tbody>\n",
       "    <tr>\n",
       "      <th>0</th>\n",
       "      <td>0</td>\n",
       "      <td>6</td>\n",
       "      <td>CHAMARTIN</td>\n",
       "      <td>0</td>\n",
       "      <td>3</td>\n",
       "    </tr>\n",
       "  </tbody>\n",
       "</table>\n",
       "</div>"
      ],
      "text/plain": [
       "   HORA  DIA_SEMANA   DISTRITO  SEXO  EDAD_APROX\n",
       "0     0           6  CHAMARTIN     0           3"
      ]
     },
     "execution_count": 227,
     "metadata": {},
     "output_type": "execute_result"
    }
   ],
   "source": [
    "df_accs_lab_ohe.head(1)"
   ]
  },
  {
   "cell_type": "code",
   "execution_count": 228,
   "metadata": {},
   "outputs": [],
   "source": [
    "######### Visual tests"
   ]
  },
  {
   "cell_type": "code",
   "execution_count": 229,
   "metadata": {},
   "outputs": [],
   "source": [
    "#del visual\n",
    "#del visual_sample"
   ]
  },
  {
   "cell_type": "code",
   "execution_count": 230,
   "metadata": {},
   "outputs": [],
   "source": [
    "visual = pd.DataFrame(model_LOGREG.predict_proba(X_test), columns=model_LOGREG.classes_)\n",
    "visual_sample = visual.sample(n=5000).reset_index(drop=True)"
   ]
  },
  {
   "cell_type": "code",
   "execution_count": 231,
   "metadata": {},
   "outputs": [
    {
     "data": {
      "text/plain": [
       "array(['VIERNES', 'SABADO', 'DOMINGO', 'LUNES', 'MARTES', 'MIERCOLES',\n",
       "       'JUEVES'], dtype=object)"
      ]
     },
     "execution_count": 231,
     "metadata": {},
     "output_type": "execute_result"
    }
   ],
   "source": [
    "df_accs[\"DIA_SEMANA\"].unique()"
   ]
  },
  {
   "cell_type": "code",
   "execution_count": 232,
   "metadata": {},
   "outputs": [],
   "source": [
    "# Categorical scatterplots:"
   ]
  },
  {
   "cell_type": "code",
   "execution_count": 233,
   "metadata": {},
   "outputs": [
    {
     "data": {
      "text/plain": [
       "<seaborn.axisgrid.FacetGrid at 0x7f8804cd47b8>"
      ]
     },
     "execution_count": 233,
     "metadata": {},
     "output_type": "execute_result"
    },
    {
     "data": {
      "image/png": "[encoded data removed]",
      "text/plain": [
       "<Figure size 360x360 with 1 Axes>"
      ]
     },
     "metadata": {
      "needs_background": "light"
     },
     "output_type": "display_data"
    }
   ],
   "source": [
    "sb.catplot(data=visual_sample,kind=\"strip\", orient=\"h\"\n",
    "          )"
   ]
  },
  {
   "cell_type": "code",
   "execution_count": 234,
   "metadata": {},
   "outputs": [],
   "source": [
    "# Categorical distribution plots:"
   ]
  },
  {
   "cell_type": "code",
   "execution_count": 235,
   "metadata": {},
   "outputs": [
    {
     "data": {
      "text/plain": [
       "<seaborn.axisgrid.FacetGrid at 0x7f8804ae5710>"
      ]
     },
     "execution_count": 235,
     "metadata": {},
     "output_type": "execute_result"
    },
    {
     "data": {
      "image/png": "[encoded data removed]",
      "text/plain": [
       "<Figure size 360x360 with 1 Axes>"
      ]
     },
     "metadata": {
      "needs_background": "light"
     },
     "output_type": "display_data"
    }
   ],
   "source": [
    "sb.catplot(data=visual_sample,kind=\"box\", orient=\"h\"\n",
    "          )"
   ]
  },
  {
   "cell_type": "code",
   "execution_count": 236,
   "metadata": {},
   "outputs": [
    {
     "name": "stderr",
     "output_type": "stream",
     "text": [
      "/home/dsc/anaconda3/lib/python3.7/site-packages/scipy/stats/stats.py:1713: FutureWarning: Using a non-tuple sequence for multidimensional indexing is deprecated; use `arr[tuple(seq)]` instead of `arr[seq]`. In the future this will be interpreted as an array index, `arr[np.array(seq)]`, which will result either in an error or a different result.\n",
      "  return np.add.reduce(sorted[indexer] * weights, axis=axis) / sumval\n"
     ]
    },
    {
     "data": {
      "text/plain": [
       "<seaborn.axisgrid.FacetGrid at 0x7f87fb1790f0>"
      ]
     },
     "execution_count": 236,
     "metadata": {},
     "output_type": "execute_result"
    },
    {
     "data": {
      "image/png": "[encoded data removed]",
      "text/plain": [
       "<Figure size 360x360 with 1 Axes>"
      ]
     },
     "metadata": {
      "needs_background": "light"
     },
     "output_type": "display_data"
    }
   ],
   "source": [
    "sb.catplot(data=visual_sample,kind=\"violin\", orient=\"h\"\n",
    "          )"
   ]
  },
  {
   "cell_type": "code",
   "execution_count": 237,
   "metadata": {},
   "outputs": [
    {
     "name": "stderr",
     "output_type": "stream",
     "text": [
      "'c' argument looks like a single numeric RGB or RGBA sequence, which should be avoided as value-mapping will have precedence in case its length matches with 'x' & 'y'.  Please use a 2-D array with a single row if you really want to specify the same RGB or RGBA value for all points.\n",
      "'c' argument looks like a single numeric RGB or RGBA sequence, which should be avoided as value-mapping will have precedence in case its length matches with 'x' & 'y'.  Please use a 2-D array with a single row if you really want to specify the same RGB or RGBA value for all points.\n",
      "'c' argument looks like a single numeric RGB or RGBA sequence, which should be avoided as value-mapping will have precedence in case its length matches with 'x' & 'y'.  Please use a 2-D array with a single row if you really want to specify the same RGB or RGBA value for all points.\n",
      "'c' argument looks like a single numeric RGB or RGBA sequence, which should be avoided as value-mapping will have precedence in case its length matches with 'x' & 'y'.  Please use a 2-D array with a single row if you really want to specify the same RGB or RGBA value for all points.\n",
      "'c' argument looks like a single numeric RGB or RGBA sequence, which should be avoided as value-mapping will have precedence in case its length matches with 'x' & 'y'.  Please use a 2-D array with a single row if you really want to specify the same RGB or RGBA value for all points.\n",
      "'c' argument looks like a single numeric RGB or RGBA sequence, which should be avoided as value-mapping will have precedence in case its length matches with 'x' & 'y'.  Please use a 2-D array with a single row if you really want to specify the same RGB or RGBA value for all points.\n",
      "'c' argument looks like a single numeric RGB or RGBA sequence, which should be avoided as value-mapping will have precedence in case its length matches with 'x' & 'y'.  Please use a 2-D array with a single row if you really want to specify the same RGB or RGBA value for all points.\n",
      "'c' argument looks like a single numeric RGB or RGBA sequence, which should be avoided as value-mapping will have precedence in case its length matches with 'x' & 'y'.  Please use a 2-D array with a single row if you really want to specify the same RGB or RGBA value for all points.\n",
      "'c' argument looks like a single numeric RGB or RGBA sequence, which should be avoided as value-mapping will have precedence in case its length matches with 'x' & 'y'.  Please use a 2-D array with a single row if you really want to specify the same RGB or RGBA value for all points.\n",
      "'c' argument looks like a single numeric RGB or RGBA sequence, which should be avoided as value-mapping will have precedence in case its length matches with 'x' & 'y'.  Please use a 2-D array with a single row if you really want to specify the same RGB or RGBA value for all points.\n",
      "'c' argument looks like a single numeric RGB or RGBA sequence, which should be avoided as value-mapping will have precedence in case its length matches with 'x' & 'y'.  Please use a 2-D array with a single row if you really want to specify the same RGB or RGBA value for all points.\n",
      "'c' argument looks like a single numeric RGB or RGBA sequence, which should be avoided as value-mapping will have precedence in case its length matches with 'x' & 'y'.  Please use a 2-D array with a single row if you really want to specify the same RGB or RGBA value for all points.\n",
      "'c' argument looks like a single numeric RGB or RGBA sequence, which should be avoided as value-mapping will have precedence in case its length matches with 'x' & 'y'.  Please use a 2-D array with a single row if you really want to specify the same RGB or RGBA value for all points.\n",
      "'c' argument looks like a single numeric RGB or RGBA sequence, which should be avoided as value-mapping will have precedence in case its length matches with 'x' & 'y'.  Please use a 2-D array with a single row if you really want to specify the same RGB or RGBA value for all points.\n",
      "'c' argument looks like a single numeric RGB or RGBA sequence, which should be avoided as value-mapping will have precedence in case its length matches with 'x' & 'y'.  Please use a 2-D array with a single row if you really want to specify the same RGB or RGBA value for all points.\n",
      "'c' argument looks like a single numeric RGB or RGBA sequence, which should be avoided as value-mapping will have precedence in case its length matches with 'x' & 'y'.  Please use a 2-D array with a single row if you really want to specify the same RGB or RGBA value for all points.\n",
      "'c' argument looks like a single numeric RGB or RGBA sequence, which should be avoided as value-mapping will have precedence in case its length matches with 'x' & 'y'.  Please use a 2-D array with a single row if you really want to specify the same RGB or RGBA value for all points.\n",
      "'c' argument looks like a single numeric RGB or RGBA sequence, which should be avoided as value-mapping will have precedence in case its length matches with 'x' & 'y'.  Please use a 2-D array with a single row if you really want to specify the same RGB or RGBA value for all points.\n",
      "'c' argument looks like a single numeric RGB or RGBA sequence, which should be avoided as value-mapping will have precedence in case its length matches with 'x' & 'y'.  Please use a 2-D array with a single row if you really want to specify the same RGB or RGBA value for all points.\n",
      "'c' argument looks like a single numeric RGB or RGBA sequence, which should be avoided as value-mapping will have precedence in case its length matches with 'x' & 'y'.  Please use a 2-D array with a single row if you really want to specify the same RGB or RGBA value for all points.\n",
      "'c' argument looks like a single numeric RGB or RGBA sequence, which should be avoided as value-mapping will have precedence in case its length matches with 'x' & 'y'.  Please use a 2-D array with a single row if you really want to specify the same RGB or RGBA value for all points.\n"
     ]
    },
    {
     "data": {
      "text/plain": [
       "<seaborn.axisgrid.FacetGrid at 0x7f87fadd0630>"
      ]
     },
     "execution_count": 237,
     "metadata": {},
     "output_type": "execute_result"
    },
    {
     "data": {
      "image/png": "[encoded data removed]",
      "text/plain": [
       "<Figure size 360x360 with 1 Axes>"
      ]
     },
     "metadata": {
      "needs_background": "light"
     },
     "output_type": "display_data"
    }
   ],
   "source": [
    "sb.catplot(data=visual_sample,kind=\"boxen\", orient=\"h\"\n",
    "          )"
   ]
  },
  {
   "cell_type": "code",
   "execution_count": 238,
   "metadata": {},
   "outputs": [],
   "source": [
    "# Categorical estimate plots:"
   ]
  },
  {
   "cell_type": "code",
   "execution_count": 239,
   "metadata": {},
   "outputs": [
    {
     "data": {
      "text/plain": [
       "<seaborn.axisgrid.FacetGrid at 0x7f87faecf908>"
      ]
     },
     "execution_count": 239,
     "metadata": {},
     "output_type": "execute_result"
    },
    {
     "data": {
      "image/png": "[encoded data removed]",
      "text/plain": [
       "<Figure size 360x360 with 1 Axes>"
      ]
     },
     "metadata": {
      "needs_background": "light"
     },
     "output_type": "display_data"
    }
   ],
   "source": [
    "sb.catplot(data=visual_sample,kind=\"point\", orient=\"h\"\n",
    "          )"
   ]
  },
  {
   "cell_type": "code",
   "execution_count": 240,
   "metadata": {},
   "outputs": [
    {
     "data": {
      "text/plain": [
       "<seaborn.axisgrid.FacetGrid at 0x7f87fac2f390>"
      ]
     },
     "execution_count": 240,
     "metadata": {},
     "output_type": "execute_result"
    },
    {
     "data": {
      "image/png": "[encoded data removed]",
      "text/plain": [
       "<Figure size 360x360 with 1 Axes>"
      ]
     },
     "metadata": {
      "needs_background": "light"
     },
     "output_type": "display_data"
    }
   ],
   "source": [
    "sb.catplot(data=visual_sample,kind=\"bar\", orient=\"h\"\n",
    "          )"
   ]
  },
  {
   "cell_type": "code",
   "execution_count": 241,
   "metadata": {},
   "outputs": [
    {
     "data": {
      "text/plain": [
       "(50600, 112)"
      ]
     },
     "execution_count": 241,
     "metadata": {},
     "output_type": "execute_result"
    }
   ],
   "source": [
    "X_test.shape"
   ]
  },
  {
   "cell_type": "code",
   "execution_count": 242,
   "metadata": {},
   "outputs": [
    {
     "data": {
      "text/plain": [
       "Index(['ARGANZUELA', 'BARAJAS', 'CARABANCHEL', 'CENTRO', 'CHAMARTIN',\n",
       "       'CHAMBERI', 'CIUDAD LINEAL', 'FUENCARRAL-EL PARDO', 'HORTALEZA',\n",
       "       'LATINA', 'MONCLOA-ARAVACA', 'MORATALAZ', 'PUENTE DE VALLECAS',\n",
       "       'RETIRO', 'SALAMANCA', 'SAN BLAS', 'TETUAN', 'USERA', 'VICALVARO',\n",
       "       'VILLA DE VALLECAS', 'VILLAVERDE'],\n",
       "      dtype='object')"
      ]
     },
     "execution_count": 242,
     "metadata": {},
     "output_type": "execute_result"
    }
   ],
   "source": [
    "visual_sample.columns"
   ]
  },
  {
   "cell_type": "code",
   "execution_count": 243,
   "metadata": {},
   "outputs": [],
   "source": [
    "### CHIMPUM FINAL"
   ]
  },
  {
   "cell_type": "code",
   "execution_count": 244,
   "metadata": {},
   "outputs": [
    {
     "name": "stdout",
     "output_type": "stream",
     "text": [
      "dom dic  1 22:45:59 CET 2019\r\n"
     ]
    }
   ],
   "source": [
    "!date"
   ]
  }
 ],
 "metadata": {
  "kernelspec": {
   "display_name": "Python 3",
   "language": "python",
   "name": "python3"
  },
  "language_info": {
   "codemirror_mode": {
    "name": "ipython",
    "version": 3
   },
   "file_extension": ".py",
   "mimetype": "text/x-python",
   "name": "python",
   "nbconvert_exporter": "python",
   "pygments_lexer": "ipython3",
   "version": "3.7.3"
  }
 },
 "nbformat": 4,
 "nbformat_minor": 2
}
