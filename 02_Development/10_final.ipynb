{
 "cells": [
  {
   "cell_type": "code",
   "execution_count": 1,
   "metadata": {},
   "outputs": [
    {
     "name": "stdout",
     "output_type": "stream",
     "text": [
      "\n",
      "Automagic is ON, % prefix IS NOT needed for line magics.\n"
     ]
    }
   ],
   "source": [
    "%automagic on"
   ]
  },
  {
   "cell_type": "code",
   "execution_count": 2,
   "metadata": {},
   "outputs": [
    {
     "name": "stdout",
     "output_type": "stream",
     "text": [
      "total 49520\r\n",
      "-rw-rw-r-- 1 dsc dsc     1695 oct 19 16:58 00_work_line_notes.txt\r\n",
      "-rw-rw-r-- 1 dsc dsc   309961 oct 20 11:55 01_ciclo_prueba_muestra.ipynb\r\n",
      "-rw-rw-r-- 1 dsc dsc   337332 oct 23 16:39 02_ciclo_prueba_muestra_ordenado.ipynb\r\n",
      "drwxrwxr-x 2 dsc dsc     4096 oct 23 16:56 csv_files\r\n",
      "-rw-rw-r-- 1 dsc dsc    26352 oct 29 18:05 residuo.png\r\n",
      "-rw-rw-r-- 1 dsc dsc    28090 oct 29 18:05 estacionalidad.png\r\n",
      "-rw-rw-r-- 1 dsc dsc    16061 oct 29 18:05 tendencia.png\r\n",
      "-rw-rw-r-- 1 dsc dsc    36481 oct 29 18:06 todo.png\r\n",
      "-rw-rw-r-- 1 dsc dsc    28121 oct 29 18:37 residuo_nube.png\r\n",
      "-rw-rw-r-- 1 dsc dsc    16512 oct 29 18:38 estacionalidad_nube.png\r\n",
      "-rw-rw-r-- 1 dsc dsc    28910 oct 29 18:38 tendencia_nube.png\r\n",
      "-rw-rw-r-- 1 dsc dsc    48129 oct 29 18:38 todo_nube.png\r\n",
      "-rw-rw-r-- 1 dsc dsc  2403149 nov  3 18:08 04_ciclo_prueba_muestra_serie_temporal_lio.ipynb\r\n",
      "-rw-rw-r-- 1 dsc dsc  1919420 nov  9 12:25 04_ciclo_prueba_muestra_serie_temporal.ipynb\r\n",
      "-rw-rw-r-- 1 dsc dsc  1741628 nov 16 17:12 serie_completa.csv\r\n",
      "-rw-rw-r-- 1 dsc dsc 24017454 nov 16 18:37 datos_accs_madrid.csv\r\n",
      "-rw-rw-r-- 1 dsc dsc  6301680 nov 16 18:38 05_ciclo_datos_completos_xa_serie_temporal.ipynb\r\n",
      "-rw-rw-r-- 1 dsc dsc   189272 nov 18 23:25 06_accs_completos_xa_clasificacion.ipynb\r\n",
      "-rw-rw-r-- 1 dsc dsc      555 nov 20 16:18 Untitled.ipynb\r\n",
      "-rw-rw-r-- 1 dsc dsc     2365 nov 22 16:43 tree1.dot\r\n",
      "-rw-rw-r-- 1 dsc dsc     2365 nov 22 16:45 tree1.png\r\n",
      "-rw-rw-r-- 1 dsc dsc     2365 nov 22 16:45 tree1.jpg\r\n",
      "-rw-rw-r-- 1 dsc dsc     1164 nov 22 17:41 distritos_municipio_madrid.csv\r\n",
      "-rw-rw-r-- 1 dsc dsc    13206 nov 23 11:21 modelo.pkl\r\n",
      "-rw-rw-r-- 1 dsc dsc   697544 nov 23 14:44 07_prueba.ipynb\r\n",
      "-rw-rw-r-- 1 dsc dsc  1122051 nov 24 10:21 08_snippets.ipynb\r\n",
      "-rw-rw-r-- 1 dsc dsc   667159 nov 24 16:00 09_best_scores.ipynb\r\n",
      "-rw-rw-r-- 1 dsc dsc   262016 nov 24 18:51 06b_accs_completos_xa_clasif_viernes.ipynb\r\n",
      "-rw-rw-r-- 1 dsc dsc  1031302 nov 25 16:08 10_prueba-Copy2.ipynb\r\n",
      "-rw-rw-r-- 1 dsc dsc  2377018 nov 25 18:14 10_prueba-Copy3.ipynb\r\n",
      "-rw-rw-r-- 1 dsc dsc  1031222 nov 26 00:27 10_prueba-Copy1.ipynb\r\n",
      "-rw-rw-r-- 1 dsc dsc  2110069 nov 26 15:25 10_prueba-Copy4.ipynb\r\n",
      "-rw-rw-r-- 1 dsc dsc   391631 nov 29 16:23 11_reduccion_pipelines.ipynb\r\n",
      "-rw-rw-r-- 1 dsc dsc    11924 nov 29 16:48 Untitled1.ipynb\r\n",
      "-rw-rw-r-- 1 dsc dsc   388322 nov 29 19:17 11_reduccion_multinomial.ipynb\r\n",
      "-rw-rw-r-- 1 dsc dsc   419159 nov 29 22:17 index.png\r\n",
      "-rw-rw-r-- 1 dsc dsc   337424 nov 30 08:51 03_ciclo_prueba_muestra_final.ipynb\r\n",
      "-rw-rw-r-- 1 dsc dsc   843280 nov 30 09:29 10_final_pruebas_nok.ipynb\r\n",
      "-rw-rw-r-- 1 dsc dsc   713122 nov 30 09:31 10_final_bkp.ipynb\r\n",
      "-rw-rw-r-- 1 dsc dsc        0 nov 30 12:36 None0000000.png\r\n",
      "-rw-rw-r-- 1 dsc dsc   755250 nov 30 15:21 10_final.ipynb\r\n"
     ]
    }
   ],
   "source": [
    "folder = '/home/dsc/Repos/TFM_Accident_reduction_plan_in_the_city_of_Madrid/02_Desarrollo'\n",
    "!ls -ltr {folder}"
   ]
  },
  {
   "cell_type": "code",
   "execution_count": 3,
   "metadata": {},
   "outputs": [
    {
     "data": {
      "text/plain": [
       "'/home/dsc/Repos/TFM_Accident_reduction_plan_in_the_city_of_Madrid/02_Desarrollo'"
      ]
     },
     "execution_count": 3,
     "metadata": {},
     "output_type": "execute_result"
    }
   ],
   "source": [
    "import os\n",
    "os.getcwd()"
   ]
  },
  {
   "cell_type": "code",
   "execution_count": 4,
   "metadata": {},
   "outputs": [
    {
     "data": {
      "text/plain": [
       "'/home/dsc/Repos/TFM_Accident_reduction_plan_in_the_city_of_Madrid/02_Desarrollo'"
      ]
     },
     "execution_count": 4,
     "metadata": {},
     "output_type": "execute_result"
    }
   ],
   "source": [
    "os.chdir(folder)\n",
    "os.getcwd()"
   ]
  },
  {
   "cell_type": "code",
   "execution_count": 5,
   "metadata": {},
   "outputs": [
    {
     "name": "stdout",
     "output_type": "stream",
     "text": [
      "-rw-rw-r-- 1 dsc dsc 24017454 nov 16 18:37 datos_accs_madrid.csv\r\n"
     ]
    }
   ],
   "source": [
    "!ls -ltr datos_accs_madrid.csv"
   ]
  },
  {
   "cell_type": "code",
   "execution_count": 6,
   "metadata": {},
   "outputs": [],
   "source": [
    "import pandas as pd\n",
    "df_accs = pd.read_csv(\"datos_accs_madrid.csv\")"
   ]
  },
  {
   "cell_type": "code",
   "execution_count": 7,
   "metadata": {},
   "outputs": [],
   "source": [
    "# Cargara librerias y paquetes\n",
    "\n",
    "import pandas as pd\n",
    "import numpy as np\n",
    "from sklearn import linear_model\n",
    "from sklearn import model_selection\n",
    "from sklearn.metrics import classification_report\n",
    "from sklearn.metrics import confusion_matrix\n",
    "from sklearn.metrics import accuracy_score\n",
    "import matplotlib.pyplot as plt\n",
    "import seaborn as sb\n",
    "%matplotlib inline"
   ]
  },
  {
   "cell_type": "code",
   "execution_count": 8,
   "metadata": {},
   "outputs": [
    {
     "data": {
      "text/plain": [
       "(252998, 11)"
      ]
     },
     "execution_count": 8,
     "metadata": {},
     "output_type": "execute_result"
    }
   ],
   "source": [
    "# Análisis Exploratorio Inicial\n",
    "# Ahora veamos cuantas columnas y registros tenemos:\n",
    "df_accs.shape"
   ]
  },
  {
   "cell_type": "code",
   "execution_count": 9,
   "metadata": {},
   "outputs": [
    {
     "data": {
      "text/html": [
       "<div>\n",
       "<style scoped>\n",
       "    .dataframe tbody tr th:only-of-type {\n",
       "        vertical-align: middle;\n",
       "    }\n",
       "\n",
       "    .dataframe tbody tr th {\n",
       "        vertical-align: top;\n",
       "    }\n",
       "\n",
       "    .dataframe thead th {\n",
       "        text-align: right;\n",
       "    }\n",
       "</style>\n",
       "<table border=\"1\" class=\"dataframe\">\n",
       "  <thead>\n",
       "    <tr style=\"text-align: right;\">\n",
       "      <th></th>\n",
       "      <th>FECHA</th>\n",
       "      <th>HORA</th>\n",
       "      <th>DIA_SEMANA</th>\n",
       "      <th>DISTRITO</th>\n",
       "      <th>NUM_PERSONAS</th>\n",
       "      <th>TIPO_ACCIDENTE</th>\n",
       "      <th>TIPO_VEHICULO</th>\n",
       "      <th>TIPO_PERSONA</th>\n",
       "      <th>SEXO</th>\n",
       "      <th>LESIVIDAD</th>\n",
       "      <th>EDAD_APROX</th>\n",
       "    </tr>\n",
       "  </thead>\n",
       "  <tbody>\n",
       "    <tr>\n",
       "      <th>0</th>\n",
       "      <td>01/01/2010</td>\n",
       "      <td>00:00</td>\n",
       "      <td>VIERNES</td>\n",
       "      <td>CHAMARTIN</td>\n",
       "      <td>1</td>\n",
       "      <td>COLISION_DOBLE</td>\n",
       "      <td>TURISMO</td>\n",
       "      <td>CONDUCTOR</td>\n",
       "      <td>HOMBRE</td>\n",
       "      <td>INGRESO_LEVE</td>\n",
       "      <td>20</td>\n",
       "    </tr>\n",
       "    <tr>\n",
       "      <th>1</th>\n",
       "      <td>01/01/2010</td>\n",
       "      <td>00:00</td>\n",
       "      <td>VIERNES</td>\n",
       "      <td>CHAMARTIN</td>\n",
       "      <td>1</td>\n",
       "      <td>COLISION_DOBLE</td>\n",
       "      <td>TURISMO</td>\n",
       "      <td>CONDUCTOR</td>\n",
       "      <td>HOMBRE</td>\n",
       "      <td>INGRESO_LEVE</td>\n",
       "      <td>50</td>\n",
       "    </tr>\n",
       "    <tr>\n",
       "      <th>2</th>\n",
       "      <td>01/01/2010</td>\n",
       "      <td>00:00</td>\n",
       "      <td>VIERNES</td>\n",
       "      <td>CHAMARTIN</td>\n",
       "      <td>1</td>\n",
       "      <td>COLISION_DOBLE</td>\n",
       "      <td>TURISMO</td>\n",
       "      <td>VIAJERO</td>\n",
       "      <td>MUJER</td>\n",
       "      <td>HERIDO_LEVE</td>\n",
       "      <td>40</td>\n",
       "    </tr>\n",
       "  </tbody>\n",
       "</table>\n",
       "</div>"
      ],
      "text/plain": [
       "        FECHA   HORA DIA_SEMANA   DISTRITO  NUM_PERSONAS  TIPO_ACCIDENTE  \\\n",
       "0  01/01/2010  00:00    VIERNES  CHAMARTIN             1  COLISION_DOBLE   \n",
       "1  01/01/2010  00:00    VIERNES  CHAMARTIN             1  COLISION_DOBLE   \n",
       "2  01/01/2010  00:00    VIERNES  CHAMARTIN             1  COLISION_DOBLE   \n",
       "\n",
       "  TIPO_VEHICULO TIPO_PERSONA    SEXO     LESIVIDAD EDAD_APROX  \n",
       "0       TURISMO    CONDUCTOR  HOMBRE  INGRESO_LEVE         20  \n",
       "1       TURISMO    CONDUCTOR  HOMBRE  INGRESO_LEVE         50  \n",
       "2       TURISMO      VIAJERO   MUJER   HERIDO_LEVE         40  "
      ]
     },
     "execution_count": 9,
     "metadata": {},
     "output_type": "execute_result"
    }
   ],
   "source": [
    "df_accs.head(3)"
   ]
  },
  {
   "cell_type": "code",
   "execution_count": 10,
   "metadata": {},
   "outputs": [
    {
     "data": {
      "text/plain": [
       "FECHA             object\n",
       "HORA              object\n",
       "DIA_SEMANA        object\n",
       "DISTRITO          object\n",
       "NUM_PERSONAS       int64\n",
       "TIPO_ACCIDENTE    object\n",
       "TIPO_VEHICULO     object\n",
       "TIPO_PERSONA      object\n",
       "SEXO              object\n",
       "LESIVIDAD         object\n",
       "EDAD_APROX        object\n",
       "dtype: object"
      ]
     },
     "execution_count": 10,
     "metadata": {},
     "output_type": "execute_result"
    }
   ],
   "source": [
    "df_accs.dtypes"
   ]
  },
  {
   "cell_type": "code",
   "execution_count": 11,
   "metadata": {},
   "outputs": [],
   "source": [
    "# Borramos variables innecesarias\n",
    "drop_elements = ['FECHA', 'NUM_PERSONAS', 'TIPO_ACCIDENTE', 'TIPO_VEHICULO', 'TIPO_PERSONA', 'LESIVIDAD']\n",
    "df_accs = df_accs.drop(drop_elements, axis = 1)"
   ]
  },
  {
   "cell_type": "code",
   "execution_count": 12,
   "metadata": {},
   "outputs": [],
   "source": [
    "# algunas visualizaciones para comprender mejor los datos.\n",
    "# Mirar balanceo de etiquetas"
   ]
  },
  {
   "cell_type": "code",
   "execution_count": 13,
   "metadata": {},
   "outputs": [
    {
     "data": {
      "text/plain": [
       "HORA          0\n",
       "DIA_SEMANA    0\n",
       "DISTRITO      0\n",
       "SEXO          0\n",
       "EDAD_APROX    0\n",
       "dtype: int64"
      ]
     },
     "execution_count": 13,
     "metadata": {},
     "output_type": "execute_result"
    }
   ],
   "source": [
    "# Comprobar valores nulos\n",
    "df_accs.isnull().sum()"
   ]
  },
  {
   "cell_type": "code",
   "execution_count": 14,
   "metadata": {},
   "outputs": [
    {
     "data": {
      "text/plain": [
       "HORA\n",
       "00:00     4729\n",
       "01:00     3602\n",
       "02:00     2776\n",
       "03:00     2431\n",
       "04:00     2131\n",
       "05:00     2225\n",
       "06:00     3992\n",
       "07:00     6428\n",
       "08:00    11759\n",
       "09:00    14348\n",
       "10:00    11561\n",
       "11:00    12492\n",
       "12:00    14473\n",
       "13:00    15921\n",
       "14:00    18232\n",
       "15:00    14557\n",
       "16:00    13590\n",
       "17:00    14137\n",
       "18:00    16259\n",
       "19:00    18049\n",
       "20:00    17244\n",
       "21:00    14113\n",
       "22:00    10758\n",
       "23:00     7191\n",
       "dtype: int64"
      ]
     },
     "execution_count": 14,
     "metadata": {},
     "output_type": "execute_result"
    }
   ],
   "source": [
    "df_accs.groupby('HORA').size()"
   ]
  },
  {
   "cell_type": "code",
   "execution_count": 15,
   "metadata": {},
   "outputs": [
    {
     "data": {
      "text/plain": [
       "DIA_SEMANA\n",
       "DOMINGO      27249\n",
       "JUEVES       38794\n",
       "LUNES        36301\n",
       "MARTES       37707\n",
       "MIERCOLES    38697\n",
       "SABADO       30798\n",
       "VIERNES      43452\n",
       "dtype: int64"
      ]
     },
     "execution_count": 15,
     "metadata": {},
     "output_type": "execute_result"
    }
   ],
   "source": [
    "df_accs.groupby('DIA_SEMANA').size()"
   ]
  },
  {
   "cell_type": "code",
   "execution_count": 16,
   "metadata": {},
   "outputs": [
    {
     "data": {
      "text/plain": [
       "DISTRITO\n",
       "ARGANZUELA             13050\n",
       "BARAJAS                 3402\n",
       "CARABANCHEL            15593\n",
       "CENTRO                 17717\n",
       "CHAMARTIN              18857\n",
       "CHAMBERI               14466\n",
       "CIUDAD LINEAL          16580\n",
       "FUENCARRAL-EL PARDO    13750\n",
       "HORTALEZA               8546\n",
       "LATINA                 12218\n",
       "MONCLOA-ARAVACA        13587\n",
       "MORATALAZ               6246\n",
       "PUENTE DE VALLECAS     16180\n",
       "RETIRO                 13665\n",
       "SALAMANCA              19269\n",
       "SAN BLAS               11987\n",
       "TETUAN                 13626\n",
       "USERA                   8808\n",
       "VICALVARO               3142\n",
       "VILLA DE VALLECAS       5601\n",
       "VILLAVERDE              6708\n",
       "dtype: int64"
      ]
     },
     "execution_count": 16,
     "metadata": {},
     "output_type": "execute_result"
    }
   ],
   "source": [
    "df_accs.groupby('DISTRITO').size()"
   ]
  },
  {
   "cell_type": "code",
   "execution_count": 17,
   "metadata": {},
   "outputs": [
    {
     "data": {
      "text/plain": [
       "SEXO\n",
       "HOMBRE         160165\n",
       "MUJER           80717\n",
       "NO_ASIGNADO     12116\n",
       "dtype: int64"
      ]
     },
     "execution_count": 17,
     "metadata": {},
     "output_type": "execute_result"
    }
   ],
   "source": [
    "df_accs.groupby('SEXO').size()"
   ]
  },
  {
   "cell_type": "code",
   "execution_count": 18,
   "metadata": {},
   "outputs": [
    {
     "data": {
      "text/plain": [
       "EDAD_APROX\n",
       "0               3128\n",
       "10              5124\n",
       "15              2593\n",
       "20              9304\n",
       "25             49329\n",
       "30             31110\n",
       "35             30169\n",
       "40             26421\n",
       "45             22167\n",
       "50             17999\n",
       "55             12454\n",
       "65             13459\n",
       "70              3656\n",
       "75              6361\n",
       "NO_ASIGNADO    19724\n",
       "dtype: int64"
      ]
     },
     "execution_count": 18,
     "metadata": {},
     "output_type": "execute_result"
    }
   ],
   "source": [
    "df_accs.groupby('EDAD_APROX').size()"
   ]
  },
  {
   "cell_type": "code",
   "execution_count": 19,
   "metadata": {},
   "outputs": [],
   "source": [
    "# Veamos cuántos registros hay según DIA_SEMANA, como variable central:"
   ]
  },
  {
   "cell_type": "code",
   "execution_count": 20,
   "metadata": {},
   "outputs": [
    {
     "data": {
      "text/plain": [
       "Index(['HORA', 'DIA_SEMANA', 'DISTRITO', 'SEXO', 'EDAD_APROX'], dtype='object')"
      ]
     },
     "execution_count": 20,
     "metadata": {},
     "output_type": "execute_result"
    }
   ],
   "source": [
    "df_accs.columns"
   ]
  },
  {
   "cell_type": "code",
   "execution_count": 21,
   "metadata": {},
   "outputs": [
    {
     "data": {
      "text/plain": [
       "<seaborn.axisgrid.FacetGrid at 0x7f97debe4fd0>"
      ]
     },
     "execution_count": 21,
     "metadata": {},
     "output_type": "execute_result"
    },
    {
     "data": {
      "image/png": "[encoded data removed]",
      "text/plain": [
       "<Figure size 360x360 with 1 Axes>"
      ]
     },
     "metadata": {
      "needs_background": "light"
     },
     "output_type": "display_data"
    }
   ],
   "source": [
    "sb.catplot('HORA',data=df_accs,kind=\"count\", \\\n",
    "           order=['00:00', '01:00', '02:00', '03:00', '04:00', '05:00', \\\n",
    "                  '06:00', '07:00', '08:00', '09:00', '10:00', '11:00', \\\n",
    "                  '12:00', '13:00', '14:00', '15:00', '16:00', '17:00', \\\n",
    "                  '18:00', '19:00', '20:00', '21:00', '22:00', '23:00']\n",
    "          )"
   ]
  },
  {
   "cell_type": "code",
   "execution_count": 22,
   "metadata": {},
   "outputs": [
    {
     "data": {
      "text/plain": [
       "<seaborn.axisgrid.FacetGrid at 0x7f97deac6b38>"
      ]
     },
     "execution_count": 22,
     "metadata": {},
     "output_type": "execute_result"
    },
    {
     "data": {
      "image/png": "[encoded data removed]",
      "text/plain": [
       "<Figure size 360x360 with 1 Axes>"
      ]
     },
     "metadata": {
      "needs_background": "light"
     },
     "output_type": "display_data"
    }
   ],
   "source": [
    "sb.catplot('DIA_SEMANA',data=df_accs,kind=\"count\", \\\n",
    "           order=['LUNES', 'MARTES', 'MIERCOLES', 'JUEVES', 'VIERNES', 'SABADO', 'DOMINGO']\n",
    "          )"
   ]
  },
  {
   "cell_type": "code",
   "execution_count": 23,
   "metadata": {},
   "outputs": [
    {
     "data": {
      "text/plain": [
       "<seaborn.axisgrid.FacetGrid at 0x7f97dd6632e8>"
      ]
     },
     "execution_count": 23,
     "metadata": {},
     "output_type": "execute_result"
    },
    {
     "data": {
      "image/png": "[encoded data removed]",
      "text/plain": [
       "<Figure size 360x360 with 1 Axes>"
      ]
     },
     "metadata": {
      "needs_background": "light"
     },
     "output_type": "display_data"
    }
   ],
   "source": [
    "sb.catplot('DISTRITO',data=df_accs,kind=\"count\", \\\n",
    "           order = ['ARGANZUELA', 'BARAJAS', 'CARABANCHEL', 'CENTRO', 'CHAMARTIN', \\\n",
    "                    'CHAMBERI', 'CIUDAD LINEAL', 'FUENCARRAL-EL PARDO', 'HORTALEZA', \\\n",
    "                    'LATINA', 'MONCLOA-ARAVACA', 'MORATALAZ', 'PUENTE DE VALLECAS', \\\n",
    "                    'RETIRO', 'SAN BLAS', 'SALAMANCA', 'TETUAN', 'USERA', 'VICALVARO', \\\n",
    "                    'VILLA DE VALLECAS', 'VILLAVERDE']\n",
    "          )"
   ]
  },
  {
   "cell_type": "code",
   "execution_count": 24,
   "metadata": {},
   "outputs": [
    {
     "data": {
      "text/plain": [
       "<seaborn.axisgrid.FacetGrid at 0x7f97df0b15c0>"
      ]
     },
     "execution_count": 24,
     "metadata": {},
     "output_type": "execute_result"
    },
    {
     "data": {
      "image/png": "[encoded data removed]",
      "text/plain": [
       "<Figure size 360x360 with 1 Axes>"
      ]
     },
     "metadata": {
      "needs_background": "light"
     },
     "output_type": "display_data"
    }
   ],
   "source": [
    "sb.catplot('SEXO',data=df_accs,kind=\"count\", \\\n",
    "           order = ['HOMBRE', 'MUJER', 'NO_ASIGNADO']\n",
    "          )"
   ]
  },
  {
   "cell_type": "code",
   "execution_count": 25,
   "metadata": {},
   "outputs": [
    {
     "data": {
      "text/plain": [
       "<seaborn.axisgrid.FacetGrid at 0x7f97dd5b30f0>"
      ]
     },
     "execution_count": 25,
     "metadata": {},
     "output_type": "execute_result"
    },
    {
     "data": {
      "image/png": "[encoded data removed]",
      "text/plain": [
       "<Figure size 360x360 with 1 Axes>"
      ]
     },
     "metadata": {
      "needs_background": "light"
     },
     "output_type": "display_data"
    }
   ],
   "source": [
    "sb.catplot('EDAD_APROX',data=df_accs,kind=\"count\", \\\n",
    "           order = ['0', '5', '10', '15', '20', '25', '30', '35', '40', '45', '50', \\\n",
    "                    '55', '60', '65', '70', '75', '80', '85', '90', '95', '100', \\\n",
    "                    '105', '110', '115', '120', '125', 'NO_ASIGNADO']\n",
    "          )"
   ]
  },
  {
   "cell_type": "code",
   "execution_count": 26,
   "metadata": {},
   "outputs": [
    {
     "data": {
      "text/plain": [
       "Index(['HORA', 'DIA_SEMANA', 'DISTRITO', 'SEXO', 'EDAD_APROX'], dtype='object')"
      ]
     },
     "execution_count": 26,
     "metadata": {},
     "output_type": "execute_result"
    }
   ],
   "source": [
    "df_accs.columns"
   ]
  },
  {
   "cell_type": "code",
   "execution_count": 27,
   "metadata": {},
   "outputs": [
    {
     "data": {
      "text/plain": [
       "<seaborn.axisgrid.FacetGrid at 0x7f97dd4d2dd8>"
      ]
     },
     "execution_count": 27,
     "metadata": {},
     "output_type": "execute_result"
    },
    {
     "data": {
      "image/png": "[encoded data removed]",
      "text/plain": [
       "<Figure size 516.5x360 with 1 Axes>"
      ]
     },
     "metadata": {
      "needs_background": "light"
     },
     "output_type": "display_data"
    }
   ],
   "source": [
    "sb.catplot('HORA',data=df_accs,hue='DISTRITO',kind=\"count\")"
   ]
  },
  {
   "cell_type": "code",
   "execution_count": 28,
   "metadata": {},
   "outputs": [
    {
     "data": {
      "text/plain": [
       "<seaborn.axisgrid.FacetGrid at 0x7f97dcfb37b8>"
      ]
     },
     "execution_count": 28,
     "metadata": {},
     "output_type": "execute_result"
    },
    {
     "data": {
      "image/png": "[encoded data removed]",
      "text/plain": [
       "<Figure size 453.25x360 with 1 Axes>"
      ]
     },
     "metadata": {
      "needs_background": "light"
     },
     "output_type": "display_data"
    }
   ],
   "source": [
    "sb.catplot('HORA',data=df_accs,hue='DIA_SEMANA',kind=\"count\")"
   ]
  },
  {
   "cell_type": "code",
   "execution_count": 29,
   "metadata": {},
   "outputs": [
    {
     "data": {
      "text/plain": [
       "<seaborn.axisgrid.FacetGrid at 0x7f97dd434ac8>"
      ]
     },
     "execution_count": 29,
     "metadata": {},
     "output_type": "execute_result"
    },
    {
     "data": {
      "image/png": "[encoded data removed]",
      "text/plain": [
       "<Figure size 516.5x360 with 1 Axes>"
      ]
     },
     "metadata": {
      "needs_background": "light"
     },
     "output_type": "display_data"
    }
   ],
   "source": [
    "sb.catplot('DIA_SEMANA',data=df_accs,hue='DISTRITO',kind=\"count\")"
   ]
  },
  {
   "cell_type": "code",
   "execution_count": 30,
   "metadata": {},
   "outputs": [
    {
     "data": {
      "text/plain": [
       "<seaborn.axisgrid.FacetGrid at 0x7f97dd434940>"
      ]
     },
     "execution_count": 30,
     "metadata": {},
     "output_type": "execute_result"
    },
    {
     "data": {
      "image/png": "[encoded data removed]",
      "text/plain": [
       "<Figure size 453.25x360 with 1 Axes>"
      ]
     },
     "metadata": {
      "needs_background": "light"
     },
     "output_type": "display_data"
    }
   ],
   "source": [
    "sb.catplot('DISTRITO',data=df_accs,hue='DIA_SEMANA',kind=\"count\")"
   ]
  },
  {
   "cell_type": "code",
   "execution_count": 31,
   "metadata": {},
   "outputs": [
    {
     "data": {
      "text/plain": [
       "<seaborn.axisgrid.FacetGrid at 0x7f97dc7ddba8>"
      ]
     },
     "execution_count": 31,
     "metadata": {},
     "output_type": "execute_result"
    },
    {
     "data": {
      "image/png": "[encoded data removed]",
      "text/plain": [
       "<Figure size 516.5x360 with 1 Axes>"
      ]
     },
     "metadata": {
      "needs_background": "light"
     },
     "output_type": "display_data"
    }
   ],
   "source": [
    "sb.catplot('SEXO',data=df_accs,hue='DISTRITO',kind=\"count\")"
   ]
  },
  {
   "cell_type": "code",
   "execution_count": 32,
   "metadata": {},
   "outputs": [
    {
     "data": {
      "text/plain": [
       "<seaborn.axisgrid.FacetGrid at 0x7f97dc6f45f8>"
      ]
     },
     "execution_count": 32,
     "metadata": {},
     "output_type": "execute_result"
    },
    {
     "data": {
      "image/png": "[encoded data removed]",
      "text/plain": [
       "<Figure size 453.25x360 with 1 Axes>"
      ]
     },
     "metadata": {
      "needs_background": "light"
     },
     "output_type": "display_data"
    }
   ],
   "source": [
    "sb.catplot('SEXO',data=df_accs,hue='DIA_SEMANA',kind=\"count\")"
   ]
  },
  {
   "cell_type": "code",
   "execution_count": 33,
   "metadata": {},
   "outputs": [
    {
     "data": {
      "text/plain": [
       "<seaborn.axisgrid.FacetGrid at 0x7f97dc6f4d68>"
      ]
     },
     "execution_count": 33,
     "metadata": {},
     "output_type": "execute_result"
    },
    {
     "data": {
      "image/png": "[encoded data removed]",
      "text/plain": [
       "<Figure size 516.5x360 with 1 Axes>"
      ]
     },
     "metadata": {
      "needs_background": "light"
     },
     "output_type": "display_data"
    }
   ],
   "source": [
    "sb.catplot('EDAD_APROX',data=df_accs,hue='DISTRITO',kind=\"count\")"
   ]
  },
  {
   "cell_type": "code",
   "execution_count": 34,
   "metadata": {},
   "outputs": [
    {
     "data": {
      "text/plain": [
       "<seaborn.axisgrid.FacetGrid at 0x7f97dc6dfb38>"
      ]
     },
     "execution_count": 34,
     "metadata": {},
     "output_type": "execute_result"
    },
    {
     "data": {
      "image/png": "[encoded data removed]",
      "text/plain": [
       "<Figure size 453.25x360 with 1 Axes>"
      ]
     },
     "metadata": {
      "needs_background": "light"
     },
     "output_type": "display_data"
    }
   ],
   "source": [
    "sb.catplot('EDAD_APROX',data=df_accs,hue='DIA_SEMANA',kind=\"count\")"
   ]
  },
  {
   "cell_type": "code",
   "execution_count": 35,
   "metadata": {},
   "outputs": [
    {
     "data": {
      "image/png": "[encoded data removed]",
      "text/plain": [
       "<Figure size 432x288 with 1 Axes>"
      ]
     },
     "metadata": {
      "needs_background": "light"
     },
     "output_type": "display_data"
    }
   ],
   "source": [
    "plt.scatter(df_accs['DIA_SEMANA'].values, df_accs['DISTRITO'].values)\n",
    "plt.show()"
   ]
  },
  {
   "cell_type": "code",
   "execution_count": 36,
   "metadata": {},
   "outputs": [
    {
     "data": {
      "image/png": "[encoded data removed]",
      "text/plain": [
       "<Figure size 432x288 with 1 Axes>"
      ]
     },
     "metadata": {
      "needs_background": "light"
     },
     "output_type": "display_data"
    }
   ],
   "source": [
    "plt.scatter(df_accs['DISTRITO'].values, df_accs['SEXO'].values)\n",
    "plt.show()"
   ]
  },
  {
   "cell_type": "code",
   "execution_count": 37,
   "metadata": {},
   "outputs": [
    {
     "data": {
      "image/png": "[encoded data removed]",
      "text/plain": [
       "<Figure size 432x288 with 1 Axes>"
      ]
     },
     "metadata": {
      "needs_background": "light"
     },
     "output_type": "display_data"
    }
   ],
   "source": [
    "plt.scatter(df_accs['DIA_SEMANA'].values, df_accs['SEXO'].values)\n",
    "plt.show()"
   ]
  },
  {
   "cell_type": "code",
   "execution_count": 38,
   "metadata": {},
   "outputs": [
    {
     "data": {
      "image/png": "[encoded data removed]",
      "text/plain": [
       "<Figure size 432x288 with 1 Axes>"
      ]
     },
     "metadata": {
      "needs_background": "light"
     },
     "output_type": "display_data"
    }
   ],
   "source": [
    "plt.scatter(df_accs['DISTRITO'].values, df_accs['EDAD_APROX'].values)\n",
    "plt.show()"
   ]
  },
  {
   "cell_type": "code",
   "execution_count": 39,
   "metadata": {},
   "outputs": [
    {
     "data": {
      "image/png": "[encoded data removed]",
      "text/plain": [
       "<Figure size 432x288 with 1 Axes>"
      ]
     },
     "metadata": {
      "needs_background": "light"
     },
     "output_type": "display_data"
    }
   ],
   "source": [
    "plt.scatter(df_accs['DIA_SEMANA'].values, df_accs['EDAD_APROX'].values)\n",
    "plt.show()"
   ]
  },
  {
   "cell_type": "code",
   "execution_count": 40,
   "metadata": {},
   "outputs": [],
   "source": [
    "# Mapeo de datos"
   ]
  },
  {
   "cell_type": "code",
   "execution_count": 41,
   "metadata": {},
   "outputs": [],
   "source": [
    "#Filtro: Columnas que empiezan por xxx\n",
    "#filtro_borrar = [col for col in df_accs if col.startswith('NUM_PERS')]\n",
    "# borrar columnas sobrantes:\n",
    "#df_accs = df_accs.drop(columns=filtro_borrar)"
   ]
  },
  {
   "cell_type": "code",
   "execution_count": 42,
   "metadata": {},
   "outputs": [],
   "source": [
    "df_accs_lab_ohe = df_accs.reset_index(drop=True).copy()"
   ]
  },
  {
   "cell_type": "code",
   "execution_count": 43,
   "metadata": {},
   "outputs": [
    {
     "data": {
      "text/html": [
       "<div>\n",
       "<style scoped>\n",
       "    .dataframe tbody tr th:only-of-type {\n",
       "        vertical-align: middle;\n",
       "    }\n",
       "\n",
       "    .dataframe tbody tr th {\n",
       "        vertical-align: top;\n",
       "    }\n",
       "\n",
       "    .dataframe thead th {\n",
       "        text-align: right;\n",
       "    }\n",
       "</style>\n",
       "<table border=\"1\" class=\"dataframe\">\n",
       "  <thead>\n",
       "    <tr style=\"text-align: right;\">\n",
       "      <th></th>\n",
       "      <th>HORA</th>\n",
       "      <th>DIA_SEMANA</th>\n",
       "      <th>DISTRITO</th>\n",
       "      <th>SEXO</th>\n",
       "      <th>EDAD_APROX</th>\n",
       "    </tr>\n",
       "  </thead>\n",
       "  <tbody>\n",
       "    <tr>\n",
       "      <th>0</th>\n",
       "      <td>00:00</td>\n",
       "      <td>VIERNES</td>\n",
       "      <td>CHAMARTIN</td>\n",
       "      <td>HOMBRE</td>\n",
       "      <td>20</td>\n",
       "    </tr>\n",
       "  </tbody>\n",
       "</table>\n",
       "</div>"
      ],
      "text/plain": [
       "    HORA DIA_SEMANA   DISTRITO    SEXO EDAD_APROX\n",
       "0  00:00    VIERNES  CHAMARTIN  HOMBRE         20"
      ]
     },
     "execution_count": 43,
     "metadata": {},
     "output_type": "execute_result"
    }
   ],
   "source": [
    "df_accs.head(1)"
   ]
  },
  {
   "cell_type": "code",
   "execution_count": 44,
   "metadata": {},
   "outputs": [
    {
     "data": {
      "text/html": [
       "<div>\n",
       "<style scoped>\n",
       "    .dataframe tbody tr th:only-of-type {\n",
       "        vertical-align: middle;\n",
       "    }\n",
       "\n",
       "    .dataframe tbody tr th {\n",
       "        vertical-align: top;\n",
       "    }\n",
       "\n",
       "    .dataframe thead th {\n",
       "        text-align: right;\n",
       "    }\n",
       "</style>\n",
       "<table border=\"1\" class=\"dataframe\">\n",
       "  <thead>\n",
       "    <tr style=\"text-align: right;\">\n",
       "      <th></th>\n",
       "      <th>HORA</th>\n",
       "      <th>DIA_SEMANA</th>\n",
       "      <th>DISTRITO</th>\n",
       "      <th>SEXO</th>\n",
       "      <th>EDAD_APROX</th>\n",
       "    </tr>\n",
       "  </thead>\n",
       "  <tbody>\n",
       "    <tr>\n",
       "      <th>0</th>\n",
       "      <td>00:00</td>\n",
       "      <td>VIERNES</td>\n",
       "      <td>CHAMARTIN</td>\n",
       "      <td>HOMBRE</td>\n",
       "      <td>20</td>\n",
       "    </tr>\n",
       "  </tbody>\n",
       "</table>\n",
       "</div>"
      ],
      "text/plain": [
       "    HORA DIA_SEMANA   DISTRITO    SEXO EDAD_APROX\n",
       "0  00:00    VIERNES  CHAMARTIN  HOMBRE         20"
      ]
     },
     "execution_count": 44,
     "metadata": {},
     "output_type": "execute_result"
    }
   ],
   "source": [
    "df_accs_lab_ohe.head(1)"
   ]
  },
  {
   "cell_type": "code",
   "execution_count": 45,
   "metadata": {},
   "outputs": [
    {
     "data": {
      "text/plain": [
       "Index(['HORA', 'DIA_SEMANA', 'DISTRITO', 'SEXO', 'EDAD_APROX'], dtype='object')"
      ]
     },
     "execution_count": 45,
     "metadata": {},
     "output_type": "execute_result"
    }
   ],
   "source": [
    "df_accs.columns"
   ]
  },
  {
   "cell_type": "code",
   "execution_count": 46,
   "metadata": {},
   "outputs": [
    {
     "data": {
      "text/plain": [
       "Index(['HORA', 'DIA_SEMANA', 'DISTRITO', 'SEXO', 'EDAD_APROX'], dtype='object')"
      ]
     },
     "execution_count": 46,
     "metadata": {},
     "output_type": "execute_result"
    }
   ],
   "source": [
    "df_accs_lab_ohe.columns"
   ]
  },
  {
   "cell_type": "code",
   "execution_count": 47,
   "metadata": {},
   "outputs": [
    {
     "data": {
      "text/plain": [
       "HORA          object\n",
       "DIA_SEMANA    object\n",
       "DISTRITO      object\n",
       "SEXO          object\n",
       "EDAD_APROX    object\n",
       "dtype: object"
      ]
     },
     "execution_count": 47,
     "metadata": {},
     "output_type": "execute_result"
    }
   ],
   "source": [
    "df_accs.dtypes"
   ]
  },
  {
   "cell_type": "code",
   "execution_count": 48,
   "metadata": {},
   "outputs": [
    {
     "data": {
      "text/plain": [
       "HORA          object\n",
       "DIA_SEMANA    object\n",
       "DISTRITO      object\n",
       "SEXO          object\n",
       "EDAD_APROX    object\n",
       "dtype: object"
      ]
     },
     "execution_count": 48,
     "metadata": {},
     "output_type": "execute_result"
    }
   ],
   "source": [
    "df_accs_lab_ohe.dtypes"
   ]
  },
  {
   "cell_type": "code",
   "execution_count": 49,
   "metadata": {},
   "outputs": [
    {
     "data": {
      "text/html": [
       "<div>\n",
       "<style scoped>\n",
       "    .dataframe tbody tr th:only-of-type {\n",
       "        vertical-align: middle;\n",
       "    }\n",
       "\n",
       "    .dataframe tbody tr th {\n",
       "        vertical-align: top;\n",
       "    }\n",
       "\n",
       "    .dataframe thead th {\n",
       "        text-align: right;\n",
       "    }\n",
       "</style>\n",
       "<table border=\"1\" class=\"dataframe\">\n",
       "  <thead>\n",
       "    <tr style=\"text-align: right;\">\n",
       "      <th></th>\n",
       "      <th>HORA</th>\n",
       "      <th>DIA_SEMANA</th>\n",
       "      <th>DISTRITO</th>\n",
       "      <th>SEXO</th>\n",
       "      <th>EDAD_APROX</th>\n",
       "    </tr>\n",
       "  </thead>\n",
       "  <tbody>\n",
       "    <tr>\n",
       "      <th>0</th>\n",
       "      <td>00:00</td>\n",
       "      <td>VIERNES</td>\n",
       "      <td>CHAMARTIN</td>\n",
       "      <td>HOMBRE</td>\n",
       "      <td>20</td>\n",
       "    </tr>\n",
       "    <tr>\n",
       "      <th>1</th>\n",
       "      <td>00:00</td>\n",
       "      <td>VIERNES</td>\n",
       "      <td>CHAMARTIN</td>\n",
       "      <td>HOMBRE</td>\n",
       "      <td>50</td>\n",
       "    </tr>\n",
       "    <tr>\n",
       "      <th>2</th>\n",
       "      <td>00:00</td>\n",
       "      <td>VIERNES</td>\n",
       "      <td>CHAMARTIN</td>\n",
       "      <td>MUJER</td>\n",
       "      <td>40</td>\n",
       "    </tr>\n",
       "  </tbody>\n",
       "</table>\n",
       "</div>"
      ],
      "text/plain": [
       "    HORA DIA_SEMANA   DISTRITO    SEXO EDAD_APROX\n",
       "0  00:00    VIERNES  CHAMARTIN  HOMBRE         20\n",
       "1  00:00    VIERNES  CHAMARTIN  HOMBRE         50\n",
       "2  00:00    VIERNES  CHAMARTIN   MUJER         40"
      ]
     },
     "execution_count": 49,
     "metadata": {},
     "output_type": "execute_result"
    }
   ],
   "source": [
    "df_accs_lab_ohe.head(3)"
   ]
  },
  {
   "cell_type": "code",
   "execution_count": 50,
   "metadata": {},
   "outputs": [
    {
     "data": {
      "text/plain": [
       "array(['CHAMARTIN', 'PUENTE DE VALLECAS', 'CHAMBERI', 'RETIRO',\n",
       "       'SALAMANCA', 'CARABANCHEL', 'CIUDAD LINEAL', 'MONCLOA-ARAVACA',\n",
       "       'TETUAN', 'VILLA DE VALLECAS', 'MORATALAZ', 'ARGANZUELA',\n",
       "       'SAN BLAS', 'VILLAVERDE', 'HORTALEZA', 'FUENCARRAL-EL PARDO',\n",
       "       'VICALVARO', 'USERA', 'LATINA', 'BARAJAS', 'CENTRO'], dtype=object)"
      ]
     },
     "execution_count": 50,
     "metadata": {},
     "output_type": "execute_result"
    }
   ],
   "source": [
    "df_accs_lab_ohe['DISTRITO'].unique()"
   ]
  },
  {
   "cell_type": "code",
   "execution_count": 51,
   "metadata": {},
   "outputs": [
    {
     "data": {
      "text/plain": [
       "HORA          0\n",
       "DIA_SEMANA    0\n",
       "DISTRITO      0\n",
       "SEXO          0\n",
       "EDAD_APROX    0\n",
       "dtype: int64"
      ]
     },
     "execution_count": 51,
     "metadata": {},
     "output_type": "execute_result"
    }
   ],
   "source": [
    "# Comprobar valores nulos\n",
    "df_accs_lab_ohe.isnull().sum()"
   ]
  },
  {
   "cell_type": "code",
   "execution_count": 52,
   "metadata": {},
   "outputs": [],
   "source": [
    "df_accs_lab_ohe_sample = df_accs_lab_ohe.sample(n=10000).reset_index(drop=True)"
   ]
  },
  {
   "cell_type": "code",
   "execution_count": 53,
   "metadata": {},
   "outputs": [
    {
     "data": {
      "text/plain": [
       "Index(['HORA', 'DIA_SEMANA', 'DISTRITO', 'SEXO', 'EDAD_APROX'], dtype='object')"
      ]
     },
     "execution_count": 53,
     "metadata": {},
     "output_type": "execute_result"
    }
   ],
   "source": [
    "df_accs_lab_ohe_sample.columns"
   ]
  },
  {
   "cell_type": "code",
   "execution_count": 54,
   "metadata": {},
   "outputs": [
    {
     "data": {
      "text/html": [
       "<div>\n",
       "<style scoped>\n",
       "    .dataframe tbody tr th:only-of-type {\n",
       "        vertical-align: middle;\n",
       "    }\n",
       "\n",
       "    .dataframe tbody tr th {\n",
       "        vertical-align: top;\n",
       "    }\n",
       "\n",
       "    .dataframe thead th {\n",
       "        text-align: right;\n",
       "    }\n",
       "</style>\n",
       "<table border=\"1\" class=\"dataframe\">\n",
       "  <thead>\n",
       "    <tr style=\"text-align: right;\">\n",
       "      <th></th>\n",
       "      <th>HORA</th>\n",
       "      <th>DIA_SEMANA</th>\n",
       "      <th>DISTRITO</th>\n",
       "      <th>SEXO</th>\n",
       "      <th>EDAD_APROX</th>\n",
       "    </tr>\n",
       "  </thead>\n",
       "  <tbody>\n",
       "    <tr>\n",
       "      <th>0</th>\n",
       "      <td>18:00</td>\n",
       "      <td>JUEVES</td>\n",
       "      <td>FUENCARRAL-EL PARDO</td>\n",
       "      <td>HOMBRE</td>\n",
       "      <td>30</td>\n",
       "    </tr>\n",
       "  </tbody>\n",
       "</table>\n",
       "</div>"
      ],
      "text/plain": [
       "    HORA DIA_SEMANA             DISTRITO    SEXO EDAD_APROX\n",
       "0  18:00     JUEVES  FUENCARRAL-EL PARDO  HOMBRE         30"
      ]
     },
     "execution_count": 54,
     "metadata": {},
     "output_type": "execute_result"
    }
   ],
   "source": [
    "df_accs_lab_ohe_sample.head(1)"
   ]
  },
  {
   "cell_type": "code",
   "execution_count": 55,
   "metadata": {},
   "outputs": [
    {
     "data": {
      "text/plain": [
       "HORA          object\n",
       "DIA_SEMANA    object\n",
       "DISTRITO      object\n",
       "SEXO          object\n",
       "EDAD_APROX    object\n",
       "dtype: object"
      ]
     },
     "execution_count": 55,
     "metadata": {},
     "output_type": "execute_result"
    }
   ],
   "source": [
    "df_accs_lab_ohe_sample.dtypes"
   ]
  },
  {
   "cell_type": "code",
   "execution_count": 56,
   "metadata": {},
   "outputs": [],
   "source": [
    "df_accs_dumm_sample = pd.get_dummies(df_accs_lab_ohe_sample, drop_first=True)"
   ]
  },
  {
   "cell_type": "code",
   "execution_count": 57,
   "metadata": {},
   "outputs": [
    {
     "data": {
      "text/plain": [
       "(10000, 65)"
      ]
     },
     "execution_count": 57,
     "metadata": {},
     "output_type": "execute_result"
    }
   ],
   "source": [
    "df_accs_dumm_sample.shape"
   ]
  },
  {
   "cell_type": "code",
   "execution_count": 58,
   "metadata": {},
   "outputs": [
    {
     "data": {
      "text/html": [
       "<div>\n",
       "<style scoped>\n",
       "    .dataframe tbody tr th:only-of-type {\n",
       "        vertical-align: middle;\n",
       "    }\n",
       "\n",
       "    .dataframe tbody tr th {\n",
       "        vertical-align: top;\n",
       "    }\n",
       "\n",
       "    .dataframe thead th {\n",
       "        text-align: right;\n",
       "    }\n",
       "</style>\n",
       "<table border=\"1\" class=\"dataframe\">\n",
       "  <thead>\n",
       "    <tr style=\"text-align: right;\">\n",
       "      <th></th>\n",
       "      <th>HORA_01:00</th>\n",
       "      <th>HORA_02:00</th>\n",
       "      <th>HORA_03:00</th>\n",
       "      <th>HORA_04:00</th>\n",
       "      <th>HORA_05:00</th>\n",
       "      <th>HORA_06:00</th>\n",
       "      <th>HORA_07:00</th>\n",
       "      <th>HORA_08:00</th>\n",
       "      <th>HORA_09:00</th>\n",
       "      <th>HORA_10:00</th>\n",
       "      <th>...</th>\n",
       "      <th>EDAD_APROX_30</th>\n",
       "      <th>EDAD_APROX_35</th>\n",
       "      <th>EDAD_APROX_40</th>\n",
       "      <th>EDAD_APROX_45</th>\n",
       "      <th>EDAD_APROX_50</th>\n",
       "      <th>EDAD_APROX_55</th>\n",
       "      <th>EDAD_APROX_65</th>\n",
       "      <th>EDAD_APROX_70</th>\n",
       "      <th>EDAD_APROX_75</th>\n",
       "      <th>EDAD_APROX_NO_ASIGNADO</th>\n",
       "    </tr>\n",
       "  </thead>\n",
       "  <tbody>\n",
       "    <tr>\n",
       "      <th>0</th>\n",
       "      <td>0</td>\n",
       "      <td>0</td>\n",
       "      <td>0</td>\n",
       "      <td>0</td>\n",
       "      <td>0</td>\n",
       "      <td>0</td>\n",
       "      <td>0</td>\n",
       "      <td>0</td>\n",
       "      <td>0</td>\n",
       "      <td>0</td>\n",
       "      <td>...</td>\n",
       "      <td>1</td>\n",
       "      <td>0</td>\n",
       "      <td>0</td>\n",
       "      <td>0</td>\n",
       "      <td>0</td>\n",
       "      <td>0</td>\n",
       "      <td>0</td>\n",
       "      <td>0</td>\n",
       "      <td>0</td>\n",
       "      <td>0</td>\n",
       "    </tr>\n",
       "  </tbody>\n",
       "</table>\n",
       "<p>1 rows × 65 columns</p>\n",
       "</div>"
      ],
      "text/plain": [
       "   HORA_01:00  HORA_02:00  HORA_03:00  HORA_04:00  HORA_05:00  HORA_06:00  \\\n",
       "0           0           0           0           0           0           0   \n",
       "\n",
       "   HORA_07:00  HORA_08:00  HORA_09:00  HORA_10:00  ...  EDAD_APROX_30  \\\n",
       "0           0           0           0           0  ...              1   \n",
       "\n",
       "   EDAD_APROX_35  EDAD_APROX_40  EDAD_APROX_45  EDAD_APROX_50  EDAD_APROX_55  \\\n",
       "0              0              0              0              0              0   \n",
       "\n",
       "   EDAD_APROX_65  EDAD_APROX_70  EDAD_APROX_75  EDAD_APROX_NO_ASIGNADO  \n",
       "0              0              0              0                       0  \n",
       "\n",
       "[1 rows x 65 columns]"
      ]
     },
     "execution_count": 58,
     "metadata": {},
     "output_type": "execute_result"
    }
   ],
   "source": [
    "df_accs_dumm_sample.head(1)"
   ]
  },
  {
   "cell_type": "code",
   "execution_count": 59,
   "metadata": {},
   "outputs": [
    {
     "data": {
      "text/plain": [
       "HORA          0\n",
       "DIA_SEMANA    0\n",
       "DISTRITO      0\n",
       "SEXO          0\n",
       "EDAD_APROX    0\n",
       "dtype: int64"
      ]
     },
     "execution_count": 59,
     "metadata": {},
     "output_type": "execute_result"
    }
   ],
   "source": [
    "# Comprobar valores nulos\n",
    "df_accs_lab_ohe_sample.isnull().sum()"
   ]
  },
  {
   "cell_type": "code",
   "execution_count": 60,
   "metadata": {},
   "outputs": [
    {
     "data": {
      "text/plain": [
       "HORA_01:00                0\n",
       "HORA_02:00                0\n",
       "HORA_03:00                0\n",
       "HORA_04:00                0\n",
       "HORA_05:00                0\n",
       "                         ..\n",
       "EDAD_APROX_55             0\n",
       "EDAD_APROX_65             0\n",
       "EDAD_APROX_70             0\n",
       "EDAD_APROX_75             0\n",
       "EDAD_APROX_NO_ASIGNADO    0\n",
       "Length: 65, dtype: int64"
      ]
     },
     "execution_count": 60,
     "metadata": {},
     "output_type": "execute_result"
    }
   ],
   "source": [
    "# Comprobar valores nulos\n",
    "df_accs_dumm_sample.isnull().sum()"
   ]
  },
  {
   "cell_type": "code",
   "execution_count": 61,
   "metadata": {},
   "outputs": [
    {
     "data": {
      "text/html": [
       "<div>\n",
       "<style scoped>\n",
       "    .dataframe tbody tr th:only-of-type {\n",
       "        vertical-align: middle;\n",
       "    }\n",
       "\n",
       "    .dataframe tbody tr th {\n",
       "        vertical-align: top;\n",
       "    }\n",
       "\n",
       "    .dataframe thead th {\n",
       "        text-align: right;\n",
       "    }\n",
       "</style>\n",
       "<table border=\"1\" class=\"dataframe\">\n",
       "  <thead>\n",
       "    <tr style=\"text-align: right;\">\n",
       "      <th></th>\n",
       "      <th>HORA_01:00</th>\n",
       "      <th>HORA_02:00</th>\n",
       "      <th>HORA_03:00</th>\n",
       "      <th>HORA_04:00</th>\n",
       "      <th>HORA_05:00</th>\n",
       "      <th>HORA_06:00</th>\n",
       "      <th>HORA_07:00</th>\n",
       "      <th>HORA_08:00</th>\n",
       "      <th>HORA_09:00</th>\n",
       "      <th>HORA_10:00</th>\n",
       "      <th>HORA_11:00</th>\n",
       "      <th>HORA_12:00</th>\n",
       "      <th>HORA_13:00</th>\n",
       "      <th>HORA_14:00</th>\n",
       "      <th>HORA_15:00</th>\n",
       "      <th>HORA_16:00</th>\n",
       "      <th>HORA_17:00</th>\n",
       "      <th>HORA_18:00</th>\n",
       "      <th>HORA_19:00</th>\n",
       "      <th>HORA_20:00</th>\n",
       "      <th>HORA_21:00</th>\n",
       "      <th>HORA_22:00</th>\n",
       "      <th>HORA_23:00</th>\n",
       "      <th>DIA_SEMANA_JUEVES</th>\n",
       "      <th>DIA_SEMANA_LUNES</th>\n",
       "      <th>DIA_SEMANA_MARTES</th>\n",
       "      <th>DIA_SEMANA_MIERCOLES</th>\n",
       "      <th>DIA_SEMANA_SABADO</th>\n",
       "      <th>DIA_SEMANA_VIERNES</th>\n",
       "      <th>DISTRITO_BARAJAS</th>\n",
       "      <th>DISTRITO_CARABANCHEL</th>\n",
       "      <th>DISTRITO_CENTRO</th>\n",
       "      <th>DISTRITO_CHAMARTIN</th>\n",
       "      <th>DISTRITO_CHAMBERI</th>\n",
       "      <th>DISTRITO_CIUDAD LINEAL</th>\n",
       "      <th>DISTRITO_FUENCARRAL-EL PARDO</th>\n",
       "      <th>DISTRITO_HORTALEZA</th>\n",
       "      <th>DISTRITO_LATINA</th>\n",
       "      <th>DISTRITO_MONCLOA-ARAVACA</th>\n",
       "      <th>DISTRITO_MORATALAZ</th>\n",
       "      <th>DISTRITO_PUENTE DE VALLECAS</th>\n",
       "      <th>DISTRITO_RETIRO</th>\n",
       "      <th>DISTRITO_SALAMANCA</th>\n",
       "      <th>DISTRITO_SAN BLAS</th>\n",
       "      <th>DISTRITO_TETUAN</th>\n",
       "      <th>DISTRITO_USERA</th>\n",
       "      <th>DISTRITO_VICALVARO</th>\n",
       "      <th>DISTRITO_VILLA DE VALLECAS</th>\n",
       "      <th>DISTRITO_VILLAVERDE</th>\n",
       "      <th>SEXO_MUJER</th>\n",
       "      <th>SEXO_NO_ASIGNADO</th>\n",
       "      <th>EDAD_APROX_10</th>\n",
       "      <th>EDAD_APROX_15</th>\n",
       "      <th>EDAD_APROX_20</th>\n",
       "      <th>EDAD_APROX_25</th>\n",
       "      <th>EDAD_APROX_30</th>\n",
       "      <th>EDAD_APROX_35</th>\n",
       "      <th>EDAD_APROX_40</th>\n",
       "      <th>EDAD_APROX_45</th>\n",
       "      <th>EDAD_APROX_50</th>\n",
       "      <th>EDAD_APROX_55</th>\n",
       "      <th>EDAD_APROX_65</th>\n",
       "      <th>EDAD_APROX_70</th>\n",
       "      <th>EDAD_APROX_75</th>\n",
       "      <th>EDAD_APROX_NO_ASIGNADO</th>\n",
       "    </tr>\n",
       "  </thead>\n",
       "  <tbody>\n",
       "    <tr>\n",
       "      <th>0</th>\n",
       "      <td>0</td>\n",
       "      <td>0</td>\n",
       "      <td>0</td>\n",
       "      <td>0</td>\n",
       "      <td>0</td>\n",
       "      <td>0</td>\n",
       "      <td>0</td>\n",
       "      <td>0</td>\n",
       "      <td>0</td>\n",
       "      <td>0</td>\n",
       "      <td>0</td>\n",
       "      <td>0</td>\n",
       "      <td>0</td>\n",
       "      <td>0</td>\n",
       "      <td>0</td>\n",
       "      <td>0</td>\n",
       "      <td>0</td>\n",
       "      <td>1</td>\n",
       "      <td>0</td>\n",
       "      <td>0</td>\n",
       "      <td>0</td>\n",
       "      <td>0</td>\n",
       "      <td>0</td>\n",
       "      <td>1</td>\n",
       "      <td>0</td>\n",
       "      <td>0</td>\n",
       "      <td>0</td>\n",
       "      <td>0</td>\n",
       "      <td>0</td>\n",
       "      <td>0</td>\n",
       "      <td>0</td>\n",
       "      <td>0</td>\n",
       "      <td>0</td>\n",
       "      <td>0</td>\n",
       "      <td>0</td>\n",
       "      <td>1</td>\n",
       "      <td>0</td>\n",
       "      <td>0</td>\n",
       "      <td>0</td>\n",
       "      <td>0</td>\n",
       "      <td>0</td>\n",
       "      <td>0</td>\n",
       "      <td>0</td>\n",
       "      <td>0</td>\n",
       "      <td>0</td>\n",
       "      <td>0</td>\n",
       "      <td>0</td>\n",
       "      <td>0</td>\n",
       "      <td>0</td>\n",
       "      <td>0</td>\n",
       "      <td>0</td>\n",
       "      <td>0</td>\n",
       "      <td>0</td>\n",
       "      <td>0</td>\n",
       "      <td>0</td>\n",
       "      <td>1</td>\n",
       "      <td>0</td>\n",
       "      <td>0</td>\n",
       "      <td>0</td>\n",
       "      <td>0</td>\n",
       "      <td>0</td>\n",
       "      <td>0</td>\n",
       "      <td>0</td>\n",
       "      <td>0</td>\n",
       "      <td>0</td>\n",
       "    </tr>\n",
       "  </tbody>\n",
       "</table>\n",
       "</div>"
      ],
      "text/plain": [
       "   HORA_01:00  HORA_02:00  HORA_03:00  HORA_04:00  HORA_05:00  HORA_06:00  \\\n",
       "0           0           0           0           0           0           0   \n",
       "\n",
       "   HORA_07:00  HORA_08:00  HORA_09:00  HORA_10:00  HORA_11:00  HORA_12:00  \\\n",
       "0           0           0           0           0           0           0   \n",
       "\n",
       "   HORA_13:00  HORA_14:00  HORA_15:00  HORA_16:00  HORA_17:00  HORA_18:00  \\\n",
       "0           0           0           0           0           0           1   \n",
       "\n",
       "   HORA_19:00  HORA_20:00  HORA_21:00  HORA_22:00  HORA_23:00  \\\n",
       "0           0           0           0           0           0   \n",
       "\n",
       "   DIA_SEMANA_JUEVES  DIA_SEMANA_LUNES  DIA_SEMANA_MARTES  \\\n",
       "0                  1                 0                  0   \n",
       "\n",
       "   DIA_SEMANA_MIERCOLES  DIA_SEMANA_SABADO  DIA_SEMANA_VIERNES  \\\n",
       "0                     0                  0                   0   \n",
       "\n",
       "   DISTRITO_BARAJAS  DISTRITO_CARABANCHEL  DISTRITO_CENTRO  \\\n",
       "0                 0                     0                0   \n",
       "\n",
       "   DISTRITO_CHAMARTIN  DISTRITO_CHAMBERI  DISTRITO_CIUDAD LINEAL  \\\n",
       "0                   0                  0                       0   \n",
       "\n",
       "   DISTRITO_FUENCARRAL-EL PARDO  DISTRITO_HORTALEZA  DISTRITO_LATINA  \\\n",
       "0                             1                   0                0   \n",
       "\n",
       "   DISTRITO_MONCLOA-ARAVACA  DISTRITO_MORATALAZ  DISTRITO_PUENTE DE VALLECAS  \\\n",
       "0                         0                   0                            0   \n",
       "\n",
       "   DISTRITO_RETIRO  DISTRITO_SALAMANCA  DISTRITO_SAN BLAS  DISTRITO_TETUAN  \\\n",
       "0                0                   0                  0                0   \n",
       "\n",
       "   DISTRITO_USERA  DISTRITO_VICALVARO  DISTRITO_VILLA DE VALLECAS  \\\n",
       "0               0                   0                           0   \n",
       "\n",
       "   DISTRITO_VILLAVERDE  SEXO_MUJER  SEXO_NO_ASIGNADO  EDAD_APROX_10  \\\n",
       "0                    0           0                 0              0   \n",
       "\n",
       "   EDAD_APROX_15  EDAD_APROX_20  EDAD_APROX_25  EDAD_APROX_30  EDAD_APROX_35  \\\n",
       "0              0              0              0              1              0   \n",
       "\n",
       "   EDAD_APROX_40  EDAD_APROX_45  EDAD_APROX_50  EDAD_APROX_55  EDAD_APROX_65  \\\n",
       "0              0              0              0              0              0   \n",
       "\n",
       "   EDAD_APROX_70  EDAD_APROX_75  EDAD_APROX_NO_ASIGNADO  \n",
       "0              0              0                       0  "
      ]
     },
     "metadata": {},
     "output_type": "display_data"
    }
   ],
   "source": [
    "# No limitar display de columnas\n",
    "import pandas as pd\n",
    "from IPython.display import display\n",
    "\n",
    "pd.options.display.max_columns = None\n",
    "display(df_accs_dumm_sample.head(1))"
   ]
  },
  {
   "cell_type": "code",
   "execution_count": 62,
   "metadata": {},
   "outputs": [
    {
     "data": {
      "text/plain": [
       "Index(['HORA_01:00', 'HORA_02:00', 'HORA_03:00', 'HORA_04:00', 'HORA_05:00',\n",
       "       'HORA_06:00', 'HORA_07:00', 'HORA_08:00', 'HORA_09:00', 'HORA_10:00',\n",
       "       'HORA_11:00', 'HORA_12:00', 'HORA_13:00', 'HORA_14:00', 'HORA_15:00',\n",
       "       'HORA_16:00', 'HORA_17:00', 'HORA_18:00', 'HORA_19:00', 'HORA_20:00',\n",
       "       'HORA_21:00', 'HORA_22:00', 'HORA_23:00', 'DIA_SEMANA_JUEVES',\n",
       "       'DIA_SEMANA_LUNES', 'DIA_SEMANA_MARTES', 'DIA_SEMANA_MIERCOLES',\n",
       "       'DIA_SEMANA_SABADO', 'DIA_SEMANA_VIERNES', 'DISTRITO_BARAJAS',\n",
       "       'DISTRITO_CARABANCHEL', 'DISTRITO_CENTRO', 'DISTRITO_CHAMARTIN',\n",
       "       'DISTRITO_CHAMBERI', 'DISTRITO_CIUDAD LINEAL',\n",
       "       'DISTRITO_FUENCARRAL-EL PARDO', 'DISTRITO_HORTALEZA', 'DISTRITO_LATINA',\n",
       "       'DISTRITO_MONCLOA-ARAVACA', 'DISTRITO_MORATALAZ',\n",
       "       'DISTRITO_PUENTE DE VALLECAS', 'DISTRITO_RETIRO', 'DISTRITO_SALAMANCA',\n",
       "       'DISTRITO_SAN BLAS', 'DISTRITO_TETUAN', 'DISTRITO_USERA',\n",
       "       'DISTRITO_VICALVARO', 'DISTRITO_VILLA DE VALLECAS',\n",
       "       'DISTRITO_VILLAVERDE', 'SEXO_MUJER', 'SEXO_NO_ASIGNADO',\n",
       "       'EDAD_APROX_10', 'EDAD_APROX_15', 'EDAD_APROX_20', 'EDAD_APROX_25',\n",
       "       'EDAD_APROX_30', 'EDAD_APROX_35', 'EDAD_APROX_40', 'EDAD_APROX_45',\n",
       "       'EDAD_APROX_50', 'EDAD_APROX_55', 'EDAD_APROX_65', 'EDAD_APROX_70',\n",
       "       'EDAD_APROX_75', 'EDAD_APROX_NO_ASIGNADO'],\n",
       "      dtype='object')"
      ]
     },
     "metadata": {},
     "output_type": "display_data"
    }
   ],
   "source": [
    "display(df_accs_dumm_sample.columns)"
   ]
  },
  {
   "cell_type": "code",
   "execution_count": 63,
   "metadata": {},
   "outputs": [
    {
     "name": "stdout",
     "output_type": "stream",
     "text": [
      "None\n"
     ]
    }
   ],
   "source": [
    "print(pd.options.display.max_columns)"
   ]
  },
  {
   "cell_type": "code",
   "execution_count": 64,
   "metadata": {},
   "outputs": [
    {
     "name": "stdout",
     "output_type": "stream",
     "text": [
      "60\n"
     ]
    }
   ],
   "source": [
    "print(pd.options.display.max_rows)"
   ]
  },
  {
   "cell_type": "code",
   "execution_count": 65,
   "metadata": {},
   "outputs": [
    {
     "data": {
      "text/plain": [
       "Index(['HORA', 'DIA_SEMANA', 'DISTRITO', 'SEXO', 'EDAD_APROX'], dtype='object')"
      ]
     },
     "execution_count": 65,
     "metadata": {},
     "output_type": "execute_result"
    }
   ],
   "source": [
    "df_accs_lab_ohe_sample.columns"
   ]
  },
  {
   "cell_type": "code",
   "execution_count": 66,
   "metadata": {},
   "outputs": [
    {
     "data": {
      "text/html": [
       "<div>\n",
       "<style scoped>\n",
       "    .dataframe tbody tr th:only-of-type {\n",
       "        vertical-align: middle;\n",
       "    }\n",
       "\n",
       "    .dataframe tbody tr th {\n",
       "        vertical-align: top;\n",
       "    }\n",
       "\n",
       "    .dataframe thead th {\n",
       "        text-align: right;\n",
       "    }\n",
       "</style>\n",
       "<table border=\"1\" class=\"dataframe\">\n",
       "  <thead>\n",
       "    <tr style=\"text-align: right;\">\n",
       "      <th></th>\n",
       "      <th>HORA</th>\n",
       "      <th>DIA_SEMANA</th>\n",
       "      <th>DISTRITO</th>\n",
       "      <th>SEXO</th>\n",
       "      <th>EDAD_APROX</th>\n",
       "    </tr>\n",
       "  </thead>\n",
       "  <tbody>\n",
       "    <tr>\n",
       "      <th>0</th>\n",
       "      <td>18:00</td>\n",
       "      <td>JUEVES</td>\n",
       "      <td>FUENCARRAL-EL PARDO</td>\n",
       "      <td>HOMBRE</td>\n",
       "      <td>30</td>\n",
       "    </tr>\n",
       "  </tbody>\n",
       "</table>\n",
       "</div>"
      ],
      "text/plain": [
       "    HORA DIA_SEMANA             DISTRITO    SEXO EDAD_APROX\n",
       "0  18:00     JUEVES  FUENCARRAL-EL PARDO  HOMBRE         30"
      ]
     },
     "execution_count": 66,
     "metadata": {},
     "output_type": "execute_result"
    }
   ],
   "source": [
    "df_accs_lab_ohe_sample[0:1]"
   ]
  },
  {
   "cell_type": "markdown",
   "metadata": {},
   "source": [
    "# Data Preparation"
   ]
  },
  {
   "cell_type": "code",
   "execution_count": 67,
   "metadata": {},
   "outputs": [
    {
     "data": {
      "text/plain": [
       "(10000, 4)"
      ]
     },
     "execution_count": 67,
     "metadata": {},
     "output_type": "execute_result"
    }
   ],
   "source": [
    "# Cargamos variables con datos de muestra\n",
    "X = np.array(df_accs_lab_ohe_sample.drop('DISTRITO', 1))\n",
    "y = np.array(df_accs_lab_ohe_sample[\"DISTRITO\"])\n",
    "X.shape"
   ]
  },
  {
   "cell_type": "code",
   "execution_count": 68,
   "metadata": {},
   "outputs": [
    {
     "data": {
      "text/plain": [
       "HORA          object\n",
       "DIA_SEMANA    object\n",
       "DISTRITO      object\n",
       "SEXO          object\n",
       "EDAD_APROX    object\n",
       "dtype: object"
      ]
     },
     "execution_count": 68,
     "metadata": {},
     "output_type": "execute_result"
    }
   ],
   "source": [
    "df_accs_lab_ohe_sample.dtypes"
   ]
  },
  {
   "cell_type": "code",
   "execution_count": 69,
   "metadata": {},
   "outputs": [],
   "source": [
    "# Train-test split\n",
    "# Load the library\n",
    "from sklearn.model_selection import train_test_split\n",
    "# Create 2 groups each with input and labels\n",
    "X_train, X_test, y_train, y_test = train_test_split(X, y, test_size=0.20)"
   ]
  },
  {
   "cell_type": "code",
   "execution_count": 70,
   "metadata": {},
   "outputs": [],
   "source": [
    "from sklearn.preprocessing import OneHotEncoder"
   ]
  },
  {
   "cell_type": "code",
   "execution_count": 71,
   "metadata": {},
   "outputs": [
    {
     "data": {
      "text/plain": [
       "OneHotEncoder(categorical_features=None, categories=None, drop=None,\n",
       "              dtype=<class 'numpy.float64'>, handle_unknown='ignore',\n",
       "              n_values=None, sparse=True)"
      ]
     },
     "execution_count": 71,
     "metadata": {},
     "output_type": "execute_result"
    }
   ],
   "source": [
    "# Create the encoder.\n",
    "encoder = OneHotEncoder(handle_unknown=\"ignore\")\n",
    "encoder.fit(X_train)    # Assume for simplicity all features are categorical."
   ]
  },
  {
   "cell_type": "code",
   "execution_count": 72,
   "metadata": {},
   "outputs": [],
   "source": [
    "# Apply the encoder.\n",
    "X_train = encoder.transform(X_train)\n",
    "X_test = encoder.transform(X_test)"
   ]
  },
  {
   "cell_type": "code",
   "execution_count": 73,
   "metadata": {},
   "outputs": [
    {
     "data": {
      "text/plain": [
       "(10000, 4)"
      ]
     },
     "execution_count": 73,
     "metadata": {},
     "output_type": "execute_result"
    }
   ],
   "source": [
    "X.shape"
   ]
  },
  {
   "cell_type": "code",
   "execution_count": 74,
   "metadata": {},
   "outputs": [
    {
     "data": {
      "text/plain": [
       "(8000, 49)"
      ]
     },
     "execution_count": 74,
     "metadata": {},
     "output_type": "execute_result"
    }
   ],
   "source": [
    "X_train.shape"
   ]
  },
  {
   "cell_type": "code",
   "execution_count": 75,
   "metadata": {},
   "outputs": [
    {
     "data": {
      "text/plain": [
       "(2000, 49)"
      ]
     },
     "execution_count": 75,
     "metadata": {},
     "output_type": "execute_result"
    }
   ],
   "source": [
    "X_test.shape"
   ]
  },
  {
   "cell_type": "code",
   "execution_count": 76,
   "metadata": {},
   "outputs": [
    {
     "data": {
      "text/plain": [
       "array(['18:00', 'JUEVES', 'HOMBRE', '30'], dtype=object)"
      ]
     },
     "execution_count": 76,
     "metadata": {},
     "output_type": "execute_result"
    }
   ],
   "source": [
    "X[0]"
   ]
  },
  {
   "cell_type": "code",
   "execution_count": 77,
   "metadata": {},
   "outputs": [
    {
     "data": {
      "text/plain": [
       "<1x49 sparse matrix of type '<class 'numpy.float64'>'\n",
       "\twith 4 stored elements in Compressed Sparse Row format>"
      ]
     },
     "execution_count": 77,
     "metadata": {},
     "output_type": "execute_result"
    }
   ],
   "source": [
    "X_train[0]"
   ]
  },
  {
   "cell_type": "code",
   "execution_count": 78,
   "metadata": {},
   "outputs": [
    {
     "data": {
      "text/plain": [
       "<1x49 sparse matrix of type '<class 'numpy.float64'>'\n",
       "\twith 4 stored elements in Compressed Sparse Row format>"
      ]
     },
     "execution_count": 78,
     "metadata": {},
     "output_type": "execute_result"
    }
   ],
   "source": [
    "X_test[0]"
   ]
  },
  {
   "cell_type": "code",
   "execution_count": 79,
   "metadata": {},
   "outputs": [
    {
     "data": {
      "text/html": [
       "<div>\n",
       "<style scoped>\n",
       "    .dataframe tbody tr th:only-of-type {\n",
       "        vertical-align: middle;\n",
       "    }\n",
       "\n",
       "    .dataframe tbody tr th {\n",
       "        vertical-align: top;\n",
       "    }\n",
       "\n",
       "    .dataframe thead th {\n",
       "        text-align: right;\n",
       "    }\n",
       "</style>\n",
       "<table border=\"1\" class=\"dataframe\">\n",
       "  <thead>\n",
       "    <tr style=\"text-align: right;\">\n",
       "      <th></th>\n",
       "      <th>HORA</th>\n",
       "      <th>DIA_SEMANA</th>\n",
       "      <th>DISTRITO</th>\n",
       "      <th>SEXO</th>\n",
       "      <th>EDAD_APROX</th>\n",
       "    </tr>\n",
       "  </thead>\n",
       "  <tbody>\n",
       "    <tr>\n",
       "      <th>0</th>\n",
       "      <td>18:00</td>\n",
       "      <td>JUEVES</td>\n",
       "      <td>FUENCARRAL-EL PARDO</td>\n",
       "      <td>HOMBRE</td>\n",
       "      <td>30</td>\n",
       "    </tr>\n",
       "    <tr>\n",
       "      <th>1</th>\n",
       "      <td>01:00</td>\n",
       "      <td>DOMINGO</td>\n",
       "      <td>SALAMANCA</td>\n",
       "      <td>MUJER</td>\n",
       "      <td>25</td>\n",
       "    </tr>\n",
       "    <tr>\n",
       "      <th>2</th>\n",
       "      <td>12:00</td>\n",
       "      <td>JUEVES</td>\n",
       "      <td>SALAMANCA</td>\n",
       "      <td>HOMBRE</td>\n",
       "      <td>50</td>\n",
       "    </tr>\n",
       "  </tbody>\n",
       "</table>\n",
       "</div>"
      ],
      "text/plain": [
       "    HORA DIA_SEMANA             DISTRITO    SEXO EDAD_APROX\n",
       "0  18:00     JUEVES  FUENCARRAL-EL PARDO  HOMBRE         30\n",
       "1  01:00    DOMINGO            SALAMANCA   MUJER         25\n",
       "2  12:00     JUEVES            SALAMANCA  HOMBRE         50"
      ]
     },
     "execution_count": 79,
     "metadata": {},
     "output_type": "execute_result"
    }
   ],
   "source": [
    "df_accs_lab_ohe_sample.head(3)"
   ]
  },
  {
   "cell_type": "code",
   "execution_count": 80,
   "metadata": {},
   "outputs": [],
   "source": [
    "df_accs_lab_sample = df_accs_lab_ohe_sample.reset_index(drop=True)"
   ]
  },
  {
   "cell_type": "code",
   "execution_count": 81,
   "metadata": {},
   "outputs": [
    {
     "data": {
      "text/html": [
       "<div>\n",
       "<style scoped>\n",
       "    .dataframe tbody tr th:only-of-type {\n",
       "        vertical-align: middle;\n",
       "    }\n",
       "\n",
       "    .dataframe tbody tr th {\n",
       "        vertical-align: top;\n",
       "    }\n",
       "\n",
       "    .dataframe thead th {\n",
       "        text-align: right;\n",
       "    }\n",
       "</style>\n",
       "<table border=\"1\" class=\"dataframe\">\n",
       "  <thead>\n",
       "    <tr style=\"text-align: right;\">\n",
       "      <th></th>\n",
       "      <th>HORA</th>\n",
       "      <th>DIA_SEMANA</th>\n",
       "      <th>DISTRITO</th>\n",
       "      <th>SEXO</th>\n",
       "      <th>EDAD_APROX</th>\n",
       "    </tr>\n",
       "  </thead>\n",
       "  <tbody>\n",
       "    <tr>\n",
       "      <th>0</th>\n",
       "      <td>18:00</td>\n",
       "      <td>JUEVES</td>\n",
       "      <td>FUENCARRAL-EL PARDO</td>\n",
       "      <td>HOMBRE</td>\n",
       "      <td>30</td>\n",
       "    </tr>\n",
       "    <tr>\n",
       "      <th>1</th>\n",
       "      <td>01:00</td>\n",
       "      <td>DOMINGO</td>\n",
       "      <td>SALAMANCA</td>\n",
       "      <td>MUJER</td>\n",
       "      <td>25</td>\n",
       "    </tr>\n",
       "    <tr>\n",
       "      <th>2</th>\n",
       "      <td>12:00</td>\n",
       "      <td>JUEVES</td>\n",
       "      <td>SALAMANCA</td>\n",
       "      <td>HOMBRE</td>\n",
       "      <td>50</td>\n",
       "    </tr>\n",
       "  </tbody>\n",
       "</table>\n",
       "</div>"
      ],
      "text/plain": [
       "    HORA DIA_SEMANA             DISTRITO    SEXO EDAD_APROX\n",
       "0  18:00     JUEVES  FUENCARRAL-EL PARDO  HOMBRE         30\n",
       "1  01:00    DOMINGO            SALAMANCA   MUJER         25\n",
       "2  12:00     JUEVES            SALAMANCA  HOMBRE         50"
      ]
     },
     "execution_count": 81,
     "metadata": {},
     "output_type": "execute_result"
    }
   ],
   "source": [
    "df_accs_lab_sample.head(3)"
   ]
  },
  {
   "cell_type": "code",
   "execution_count": 82,
   "metadata": {},
   "outputs": [],
   "source": [
    "# Etiquetamos mediante Label Encoding\n",
    "from sklearn.preprocessing import LabelEncoder\n",
    "lab = LabelEncoder() "
   ]
  },
  {
   "cell_type": "code",
   "execution_count": 83,
   "metadata": {},
   "outputs": [],
   "source": [
    "df_accs_lab_sample['HORA']= lab.fit_transform(df_accs_lab_sample['HORA'])\n",
    "df_accs_lab_sample['DIA_SEMANA']= lab.fit_transform(df_accs_lab_sample['DIA_SEMANA'])\n",
    "df_accs_lab_sample['DISTRITO']= lab.fit_transform(df_accs_lab_sample['DISTRITO'])\n",
    "df_accs_lab_sample['SEXO']= lab.fit_transform(df_accs_lab_sample['SEXO'])\n",
    "df_accs_lab_sample['EDAD_APROX']= lab.fit_transform(df_accs_lab_sample['EDAD_APROX'])"
   ]
  },
  {
   "cell_type": "code",
   "execution_count": 84,
   "metadata": {},
   "outputs": [
    {
     "data": {
      "text/html": [
       "<div>\n",
       "<style scoped>\n",
       "    .dataframe tbody tr th:only-of-type {\n",
       "        vertical-align: middle;\n",
       "    }\n",
       "\n",
       "    .dataframe tbody tr th {\n",
       "        vertical-align: top;\n",
       "    }\n",
       "\n",
       "    .dataframe thead th {\n",
       "        text-align: right;\n",
       "    }\n",
       "</style>\n",
       "<table border=\"1\" class=\"dataframe\">\n",
       "  <thead>\n",
       "    <tr style=\"text-align: right;\">\n",
       "      <th></th>\n",
       "      <th>HORA</th>\n",
       "      <th>DIA_SEMANA</th>\n",
       "      <th>DISTRITO</th>\n",
       "      <th>SEXO</th>\n",
       "      <th>EDAD_APROX</th>\n",
       "    </tr>\n",
       "  </thead>\n",
       "  <tbody>\n",
       "    <tr>\n",
       "      <th>0</th>\n",
       "      <td>18</td>\n",
       "      <td>1</td>\n",
       "      <td>7</td>\n",
       "      <td>0</td>\n",
       "      <td>5</td>\n",
       "    </tr>\n",
       "    <tr>\n",
       "      <th>1</th>\n",
       "      <td>1</td>\n",
       "      <td>0</td>\n",
       "      <td>14</td>\n",
       "      <td>1</td>\n",
       "      <td>4</td>\n",
       "    </tr>\n",
       "    <tr>\n",
       "      <th>2</th>\n",
       "      <td>12</td>\n",
       "      <td>1</td>\n",
       "      <td>14</td>\n",
       "      <td>0</td>\n",
       "      <td>9</td>\n",
       "    </tr>\n",
       "  </tbody>\n",
       "</table>\n",
       "</div>"
      ],
      "text/plain": [
       "   HORA  DIA_SEMANA  DISTRITO  SEXO  EDAD_APROX\n",
       "0    18           1         7     0           5\n",
       "1     1           0        14     1           4\n",
       "2    12           1        14     0           9"
      ]
     },
     "execution_count": 84,
     "metadata": {},
     "output_type": "execute_result"
    }
   ],
   "source": [
    "df_accs_lab_sample.head(3)"
   ]
  },
  {
   "cell_type": "code",
   "execution_count": 85,
   "metadata": {},
   "outputs": [],
   "source": [
    "# Nuestra clase target será DISTRITO"
   ]
  },
  {
   "cell_type": "code",
   "execution_count": 86,
   "metadata": {},
   "outputs": [
    {
     "data": {
      "text/plain": [
       "HORA          int64\n",
       "DIA_SEMANA    int64\n",
       "DISTRITO      int64\n",
       "SEXO          int64\n",
       "EDAD_APROX    int64\n",
       "dtype: object"
      ]
     },
     "execution_count": 86,
     "metadata": {},
     "output_type": "execute_result"
    }
   ],
   "source": [
    "df_accs_lab_sample.dtypes"
   ]
  },
  {
   "cell_type": "code",
   "execution_count": 87,
   "metadata": {},
   "outputs": [],
   "source": [
    "df_accs_lab_ohe_sample['DISTRITO']= lab.fit_transform(df_accs_lab_ohe_sample['DISTRITO'])"
   ]
  },
  {
   "cell_type": "code",
   "execution_count": 88,
   "metadata": {},
   "outputs": [
    {
     "data": {
      "text/html": [
       "<div>\n",
       "<style scoped>\n",
       "    .dataframe tbody tr th:only-of-type {\n",
       "        vertical-align: middle;\n",
       "    }\n",
       "\n",
       "    .dataframe tbody tr th {\n",
       "        vertical-align: top;\n",
       "    }\n",
       "\n",
       "    .dataframe thead th {\n",
       "        text-align: right;\n",
       "    }\n",
       "</style>\n",
       "<table border=\"1\" class=\"dataframe\">\n",
       "  <thead>\n",
       "    <tr style=\"text-align: right;\">\n",
       "      <th></th>\n",
       "      <th>HORA</th>\n",
       "      <th>DIA_SEMANA</th>\n",
       "      <th>DISTRITO</th>\n",
       "      <th>SEXO</th>\n",
       "      <th>EDAD_APROX</th>\n",
       "    </tr>\n",
       "  </thead>\n",
       "  <tbody>\n",
       "    <tr>\n",
       "      <th>0</th>\n",
       "      <td>00:00</td>\n",
       "      <td>VIERNES</td>\n",
       "      <td>CHAMARTIN</td>\n",
       "      <td>HOMBRE</td>\n",
       "      <td>20</td>\n",
       "    </tr>\n",
       "  </tbody>\n",
       "</table>\n",
       "</div>"
      ],
      "text/plain": [
       "    HORA DIA_SEMANA   DISTRITO    SEXO EDAD_APROX\n",
       "0  00:00    VIERNES  CHAMARTIN  HOMBRE         20"
      ]
     },
     "execution_count": 88,
     "metadata": {},
     "output_type": "execute_result"
    }
   ],
   "source": [
    "df_accs.head(1)"
   ]
  },
  {
   "cell_type": "code",
   "execution_count": 89,
   "metadata": {},
   "outputs": [
    {
     "data": {
      "text/html": [
       "<div>\n",
       "<style scoped>\n",
       "    .dataframe tbody tr th:only-of-type {\n",
       "        vertical-align: middle;\n",
       "    }\n",
       "\n",
       "    .dataframe tbody tr th {\n",
       "        vertical-align: top;\n",
       "    }\n",
       "\n",
       "    .dataframe thead th {\n",
       "        text-align: right;\n",
       "    }\n",
       "</style>\n",
       "<table border=\"1\" class=\"dataframe\">\n",
       "  <thead>\n",
       "    <tr style=\"text-align: right;\">\n",
       "      <th></th>\n",
       "      <th>HORA</th>\n",
       "      <th>DIA_SEMANA</th>\n",
       "      <th>DISTRITO</th>\n",
       "      <th>SEXO</th>\n",
       "      <th>EDAD_APROX</th>\n",
       "    </tr>\n",
       "  </thead>\n",
       "  <tbody>\n",
       "    <tr>\n",
       "      <th>0</th>\n",
       "      <td>00:00</td>\n",
       "      <td>VIERNES</td>\n",
       "      <td>CHAMARTIN</td>\n",
       "      <td>HOMBRE</td>\n",
       "      <td>20</td>\n",
       "    </tr>\n",
       "  </tbody>\n",
       "</table>\n",
       "</div>"
      ],
      "text/plain": [
       "    HORA DIA_SEMANA   DISTRITO    SEXO EDAD_APROX\n",
       "0  00:00    VIERNES  CHAMARTIN  HOMBRE         20"
      ]
     },
     "execution_count": 89,
     "metadata": {},
     "output_type": "execute_result"
    }
   ],
   "source": [
    "df_accs_lab_ohe.head(1)"
   ]
  },
  {
   "cell_type": "code",
   "execution_count": 90,
   "metadata": {},
   "outputs": [
    {
     "data": {
      "text/html": [
       "<div>\n",
       "<style scoped>\n",
       "    .dataframe tbody tr th:only-of-type {\n",
       "        vertical-align: middle;\n",
       "    }\n",
       "\n",
       "    .dataframe tbody tr th {\n",
       "        vertical-align: top;\n",
       "    }\n",
       "\n",
       "    .dataframe thead th {\n",
       "        text-align: right;\n",
       "    }\n",
       "</style>\n",
       "<table border=\"1\" class=\"dataframe\">\n",
       "  <thead>\n",
       "    <tr style=\"text-align: right;\">\n",
       "      <th></th>\n",
       "      <th>HORA_01:00</th>\n",
       "      <th>HORA_02:00</th>\n",
       "      <th>HORA_03:00</th>\n",
       "      <th>HORA_04:00</th>\n",
       "      <th>HORA_05:00</th>\n",
       "      <th>HORA_06:00</th>\n",
       "      <th>HORA_07:00</th>\n",
       "      <th>HORA_08:00</th>\n",
       "      <th>HORA_09:00</th>\n",
       "      <th>HORA_10:00</th>\n",
       "      <th>HORA_11:00</th>\n",
       "      <th>HORA_12:00</th>\n",
       "      <th>HORA_13:00</th>\n",
       "      <th>HORA_14:00</th>\n",
       "      <th>HORA_15:00</th>\n",
       "      <th>HORA_16:00</th>\n",
       "      <th>HORA_17:00</th>\n",
       "      <th>HORA_18:00</th>\n",
       "      <th>HORA_19:00</th>\n",
       "      <th>HORA_20:00</th>\n",
       "      <th>HORA_21:00</th>\n",
       "      <th>HORA_22:00</th>\n",
       "      <th>HORA_23:00</th>\n",
       "      <th>DIA_SEMANA_JUEVES</th>\n",
       "      <th>DIA_SEMANA_LUNES</th>\n",
       "      <th>DIA_SEMANA_MARTES</th>\n",
       "      <th>DIA_SEMANA_MIERCOLES</th>\n",
       "      <th>DIA_SEMANA_SABADO</th>\n",
       "      <th>DIA_SEMANA_VIERNES</th>\n",
       "      <th>DISTRITO_BARAJAS</th>\n",
       "      <th>DISTRITO_CARABANCHEL</th>\n",
       "      <th>DISTRITO_CENTRO</th>\n",
       "      <th>DISTRITO_CHAMARTIN</th>\n",
       "      <th>DISTRITO_CHAMBERI</th>\n",
       "      <th>DISTRITO_CIUDAD LINEAL</th>\n",
       "      <th>DISTRITO_FUENCARRAL-EL PARDO</th>\n",
       "      <th>DISTRITO_HORTALEZA</th>\n",
       "      <th>DISTRITO_LATINA</th>\n",
       "      <th>DISTRITO_MONCLOA-ARAVACA</th>\n",
       "      <th>DISTRITO_MORATALAZ</th>\n",
       "      <th>DISTRITO_PUENTE DE VALLECAS</th>\n",
       "      <th>DISTRITO_RETIRO</th>\n",
       "      <th>DISTRITO_SALAMANCA</th>\n",
       "      <th>DISTRITO_SAN BLAS</th>\n",
       "      <th>DISTRITO_TETUAN</th>\n",
       "      <th>DISTRITO_USERA</th>\n",
       "      <th>DISTRITO_VICALVARO</th>\n",
       "      <th>DISTRITO_VILLA DE VALLECAS</th>\n",
       "      <th>DISTRITO_VILLAVERDE</th>\n",
       "      <th>SEXO_MUJER</th>\n",
       "      <th>SEXO_NO_ASIGNADO</th>\n",
       "      <th>EDAD_APROX_10</th>\n",
       "      <th>EDAD_APROX_15</th>\n",
       "      <th>EDAD_APROX_20</th>\n",
       "      <th>EDAD_APROX_25</th>\n",
       "      <th>EDAD_APROX_30</th>\n",
       "      <th>EDAD_APROX_35</th>\n",
       "      <th>EDAD_APROX_40</th>\n",
       "      <th>EDAD_APROX_45</th>\n",
       "      <th>EDAD_APROX_50</th>\n",
       "      <th>EDAD_APROX_55</th>\n",
       "      <th>EDAD_APROX_65</th>\n",
       "      <th>EDAD_APROX_70</th>\n",
       "      <th>EDAD_APROX_75</th>\n",
       "      <th>EDAD_APROX_NO_ASIGNADO</th>\n",
       "    </tr>\n",
       "  </thead>\n",
       "  <tbody>\n",
       "    <tr>\n",
       "      <th>0</th>\n",
       "      <td>0</td>\n",
       "      <td>0</td>\n",
       "      <td>0</td>\n",
       "      <td>0</td>\n",
       "      <td>0</td>\n",
       "      <td>0</td>\n",
       "      <td>0</td>\n",
       "      <td>0</td>\n",
       "      <td>0</td>\n",
       "      <td>0</td>\n",
       "      <td>0</td>\n",
       "      <td>0</td>\n",
       "      <td>0</td>\n",
       "      <td>0</td>\n",
       "      <td>0</td>\n",
       "      <td>0</td>\n",
       "      <td>0</td>\n",
       "      <td>1</td>\n",
       "      <td>0</td>\n",
       "      <td>0</td>\n",
       "      <td>0</td>\n",
       "      <td>0</td>\n",
       "      <td>0</td>\n",
       "      <td>1</td>\n",
       "      <td>0</td>\n",
       "      <td>0</td>\n",
       "      <td>0</td>\n",
       "      <td>0</td>\n",
       "      <td>0</td>\n",
       "      <td>0</td>\n",
       "      <td>0</td>\n",
       "      <td>0</td>\n",
       "      <td>0</td>\n",
       "      <td>0</td>\n",
       "      <td>0</td>\n",
       "      <td>1</td>\n",
       "      <td>0</td>\n",
       "      <td>0</td>\n",
       "      <td>0</td>\n",
       "      <td>0</td>\n",
       "      <td>0</td>\n",
       "      <td>0</td>\n",
       "      <td>0</td>\n",
       "      <td>0</td>\n",
       "      <td>0</td>\n",
       "      <td>0</td>\n",
       "      <td>0</td>\n",
       "      <td>0</td>\n",
       "      <td>0</td>\n",
       "      <td>0</td>\n",
       "      <td>0</td>\n",
       "      <td>0</td>\n",
       "      <td>0</td>\n",
       "      <td>0</td>\n",
       "      <td>0</td>\n",
       "      <td>1</td>\n",
       "      <td>0</td>\n",
       "      <td>0</td>\n",
       "      <td>0</td>\n",
       "      <td>0</td>\n",
       "      <td>0</td>\n",
       "      <td>0</td>\n",
       "      <td>0</td>\n",
       "      <td>0</td>\n",
       "      <td>0</td>\n",
       "    </tr>\n",
       "  </tbody>\n",
       "</table>\n",
       "</div>"
      ],
      "text/plain": [
       "   HORA_01:00  HORA_02:00  HORA_03:00  HORA_04:00  HORA_05:00  HORA_06:00  \\\n",
       "0           0           0           0           0           0           0   \n",
       "\n",
       "   HORA_07:00  HORA_08:00  HORA_09:00  HORA_10:00  HORA_11:00  HORA_12:00  \\\n",
       "0           0           0           0           0           0           0   \n",
       "\n",
       "   HORA_13:00  HORA_14:00  HORA_15:00  HORA_16:00  HORA_17:00  HORA_18:00  \\\n",
       "0           0           0           0           0           0           1   \n",
       "\n",
       "   HORA_19:00  HORA_20:00  HORA_21:00  HORA_22:00  HORA_23:00  \\\n",
       "0           0           0           0           0           0   \n",
       "\n",
       "   DIA_SEMANA_JUEVES  DIA_SEMANA_LUNES  DIA_SEMANA_MARTES  \\\n",
       "0                  1                 0                  0   \n",
       "\n",
       "   DIA_SEMANA_MIERCOLES  DIA_SEMANA_SABADO  DIA_SEMANA_VIERNES  \\\n",
       "0                     0                  0                   0   \n",
       "\n",
       "   DISTRITO_BARAJAS  DISTRITO_CARABANCHEL  DISTRITO_CENTRO  \\\n",
       "0                 0                     0                0   \n",
       "\n",
       "   DISTRITO_CHAMARTIN  DISTRITO_CHAMBERI  DISTRITO_CIUDAD LINEAL  \\\n",
       "0                   0                  0                       0   \n",
       "\n",
       "   DISTRITO_FUENCARRAL-EL PARDO  DISTRITO_HORTALEZA  DISTRITO_LATINA  \\\n",
       "0                             1                   0                0   \n",
       "\n",
       "   DISTRITO_MONCLOA-ARAVACA  DISTRITO_MORATALAZ  DISTRITO_PUENTE DE VALLECAS  \\\n",
       "0                         0                   0                            0   \n",
       "\n",
       "   DISTRITO_RETIRO  DISTRITO_SALAMANCA  DISTRITO_SAN BLAS  DISTRITO_TETUAN  \\\n",
       "0                0                   0                  0                0   \n",
       "\n",
       "   DISTRITO_USERA  DISTRITO_VICALVARO  DISTRITO_VILLA DE VALLECAS  \\\n",
       "0               0                   0                           0   \n",
       "\n",
       "   DISTRITO_VILLAVERDE  SEXO_MUJER  SEXO_NO_ASIGNADO  EDAD_APROX_10  \\\n",
       "0                    0           0                 0              0   \n",
       "\n",
       "   EDAD_APROX_15  EDAD_APROX_20  EDAD_APROX_25  EDAD_APROX_30  EDAD_APROX_35  \\\n",
       "0              0              0              0              1              0   \n",
       "\n",
       "   EDAD_APROX_40  EDAD_APROX_45  EDAD_APROX_50  EDAD_APROX_55  EDAD_APROX_65  \\\n",
       "0              0              0              0              0              0   \n",
       "\n",
       "   EDAD_APROX_70  EDAD_APROX_75  EDAD_APROX_NO_ASIGNADO  \n",
       "0              0              0                       0  "
      ]
     },
     "execution_count": 90,
     "metadata": {},
     "output_type": "execute_result"
    }
   ],
   "source": [
    "df_accs_dumm_sample.head(1)"
   ]
  },
  {
   "cell_type": "code",
   "execution_count": 91,
   "metadata": {},
   "outputs": [
    {
     "data": {
      "text/html": [
       "<div>\n",
       "<style scoped>\n",
       "    .dataframe tbody tr th:only-of-type {\n",
       "        vertical-align: middle;\n",
       "    }\n",
       "\n",
       "    .dataframe tbody tr th {\n",
       "        vertical-align: top;\n",
       "    }\n",
       "\n",
       "    .dataframe thead th {\n",
       "        text-align: right;\n",
       "    }\n",
       "</style>\n",
       "<table border=\"1\" class=\"dataframe\">\n",
       "  <thead>\n",
       "    <tr style=\"text-align: right;\">\n",
       "      <th></th>\n",
       "      <th>HORA</th>\n",
       "      <th>DIA_SEMANA</th>\n",
       "      <th>DISTRITO</th>\n",
       "      <th>SEXO</th>\n",
       "      <th>EDAD_APROX</th>\n",
       "    </tr>\n",
       "  </thead>\n",
       "  <tbody>\n",
       "    <tr>\n",
       "      <th>0</th>\n",
       "      <td>18</td>\n",
       "      <td>1</td>\n",
       "      <td>7</td>\n",
       "      <td>0</td>\n",
       "      <td>5</td>\n",
       "    </tr>\n",
       "  </tbody>\n",
       "</table>\n",
       "</div>"
      ],
      "text/plain": [
       "   HORA  DIA_SEMANA  DISTRITO  SEXO  EDAD_APROX\n",
       "0    18           1         7     0           5"
      ]
     },
     "execution_count": 91,
     "metadata": {},
     "output_type": "execute_result"
    }
   ],
   "source": [
    "df_accs_lab_sample.head(1)"
   ]
  },
  {
   "cell_type": "code",
   "execution_count": 92,
   "metadata": {},
   "outputs": [
    {
     "data": {
      "text/html": [
       "<div>\n",
       "<style scoped>\n",
       "    .dataframe tbody tr th:only-of-type {\n",
       "        vertical-align: middle;\n",
       "    }\n",
       "\n",
       "    .dataframe tbody tr th {\n",
       "        vertical-align: top;\n",
       "    }\n",
       "\n",
       "    .dataframe thead th {\n",
       "        text-align: right;\n",
       "    }\n",
       "</style>\n",
       "<table border=\"1\" class=\"dataframe\">\n",
       "  <thead>\n",
       "    <tr style=\"text-align: right;\">\n",
       "      <th></th>\n",
       "      <th>HORA</th>\n",
       "      <th>DIA_SEMANA</th>\n",
       "      <th>DISTRITO</th>\n",
       "      <th>SEXO</th>\n",
       "      <th>EDAD_APROX</th>\n",
       "    </tr>\n",
       "  </thead>\n",
       "  <tbody>\n",
       "    <tr>\n",
       "      <th>0</th>\n",
       "      <td>18:00</td>\n",
       "      <td>JUEVES</td>\n",
       "      <td>7</td>\n",
       "      <td>HOMBRE</td>\n",
       "      <td>30</td>\n",
       "    </tr>\n",
       "  </tbody>\n",
       "</table>\n",
       "</div>"
      ],
      "text/plain": [
       "    HORA DIA_SEMANA  DISTRITO    SEXO EDAD_APROX\n",
       "0  18:00     JUEVES         7  HOMBRE         30"
      ]
     },
     "execution_count": 92,
     "metadata": {},
     "output_type": "execute_result"
    }
   ],
   "source": [
    "df_accs_lab_ohe_sample.head(1)"
   ]
  },
  {
   "cell_type": "code",
   "execution_count": 93,
   "metadata": {},
   "outputs": [
    {
     "data": {
      "image/png": "[encoded data removed]",
      "text/plain": [
       "<Figure size 432x288 with 4 Axes>"
      ]
     },
     "metadata": {
      "needs_background": "light"
     },
     "output_type": "display_data"
    }
   ],
   "source": [
    "df_accs_lab_sample.drop(['DISTRITO'],1).hist()\n",
    "\n",
    "plt.show()"
   ]
  },
  {
   "cell_type": "code",
   "execution_count": 94,
   "metadata": {},
   "outputs": [
    {
     "data": {
      "text/plain": [
       "Index(['HORA', 'DIA_SEMANA', 'DISTRITO', 'SEXO', 'EDAD_APROX'], dtype='object')"
      ]
     },
     "execution_count": 94,
     "metadata": {},
     "output_type": "execute_result"
    }
   ],
   "source": [
    "df_accs_lab_sample.columns"
   ]
  },
  {
   "cell_type": "code",
   "execution_count": 95,
   "metadata": {},
   "outputs": [
    {
     "name": "stderr",
     "output_type": "stream",
     "text": [
      "/home/dsc/anaconda3/lib/python3.7/site-packages/scipy/stats/stats.py:1713: FutureWarning: Using a non-tuple sequence for multidimensional indexing is deprecated; use `arr[tuple(seq)]` instead of `arr[seq]`. In the future this will be interpreted as an array index, `arr[np.array(seq)]`, which will result either in an error or a different result.\n",
      "  return np.add.reduce(sorted[indexer] * weights, axis=axis) / sumval\n"
     ]
    },
    {
     "data": {
      "text/plain": [
       "<seaborn.axisgrid.PairGrid at 0x7f97dbc2c1d0>"
      ]
     },
     "execution_count": 95,
     "metadata": {},
     "output_type": "execute_result"
    },
    {
     "data": {
      "image/png": "[encoded data removed]",
      "text/plain": [
       "<Figure size 1206.38x1152 with 20 Axes>"
      ]
     },
     "metadata": {
      "needs_background": "light"
     },
     "output_type": "display_data"
    }
   ],
   "source": [
    "# Y también podemos ver la interrelación mediante el gráfico de pares (matriz de diagrama de dispersión)\n",
    "# Nos permite ver tanto la distribución de variables individuales como las relaciones entre dos variables.\n",
    "sb.pairplot(df_accs_lab_sample.dropna(), hue='DISTRITO',height=4,vars=['HORA', 'DIA_SEMANA', \\\n",
    "       'SEXO', 'EDAD_APROX'],kind='reg')"
   ]
  },
  {
   "cell_type": "code",
   "execution_count": 96,
   "metadata": {},
   "outputs": [
    {
     "data": {
      "text/plain": [
       "Index(['HORA', 'DIA_SEMANA', 'DISTRITO', 'SEXO', 'EDAD_APROX'], dtype='object')"
      ]
     },
     "execution_count": 96,
     "metadata": {},
     "output_type": "execute_result"
    }
   ],
   "source": [
    "df_accs_lab_sample.columns"
   ]
  },
  {
   "cell_type": "code",
   "execution_count": 97,
   "metadata": {},
   "outputs": [
    {
     "data": {
      "text/plain": [
       "<seaborn.axisgrid.PairGrid at 0x7f97daf3f710>"
      ]
     },
     "execution_count": 97,
     "metadata": {},
     "output_type": "execute_result"
    },
    {
     "data": {
      "image/png": "[encoded data removed]",
      "text/plain": [
       "<Figure size 342.375x288 with 6 Axes>"
      ]
     },
     "metadata": {
      "needs_background": "light"
     },
     "output_type": "display_data"
    }
   ],
   "source": [
    "# Y también podemos ver la interrelación mediante el gráfico de pares (matriz de diagrama de dispersión)\n",
    "# Nos permite ver tanto la distribución de variables individuales como las relaciones entre dos variables.\n",
    "sb.pairplot(df_accs_lab_sample.dropna(), hue='DISTRITO',height=2,vars=['HORA', 'DIA_SEMANA'],kind='reg')"
   ]
  },
  {
   "cell_type": "code",
   "execution_count": 98,
   "metadata": {},
   "outputs": [],
   "source": [
    "# Tenemos cargado:\n",
    "# Cargamos variables con datos de muestra\n",
    "#X = np.array(df_accs_lab_ohe_sample.drop('DISTRITO', 1))\n",
    "#y = np.array(df_accs_lab_ohe_sample[\"DISTRITO\"])\n",
    "#X.shape"
   ]
  },
  {
   "cell_type": "code",
   "execution_count": 99,
   "metadata": {},
   "outputs": [],
   "source": [
    "# Mirar datos mapeados"
   ]
  },
  {
   "cell_type": "code",
   "execution_count": 100,
   "metadata": {},
   "outputs": [
    {
     "data": {
      "text/html": [
       "<div>\n",
       "<style scoped>\n",
       "    .dataframe tbody tr th:only-of-type {\n",
       "        vertical-align: middle;\n",
       "    }\n",
       "\n",
       "    .dataframe tbody tr th {\n",
       "        vertical-align: top;\n",
       "    }\n",
       "\n",
       "    .dataframe thead tr th {\n",
       "        text-align: left;\n",
       "    }\n",
       "\n",
       "    .dataframe thead tr:last-of-type th {\n",
       "        text-align: right;\n",
       "    }\n",
       "</style>\n",
       "<table border=\"1\" class=\"dataframe\">\n",
       "  <thead>\n",
       "    <tr>\n",
       "      <th></th>\n",
       "      <th>HORA</th>\n",
       "      <th>DIA_SEMANA</th>\n",
       "      <th>SEXO</th>\n",
       "      <th>EDAD_APROX</th>\n",
       "    </tr>\n",
       "    <tr>\n",
       "      <th></th>\n",
       "      <th>count</th>\n",
       "      <th>count</th>\n",
       "      <th>count</th>\n",
       "      <th>count</th>\n",
       "    </tr>\n",
       "    <tr>\n",
       "      <th>DISTRITO</th>\n",
       "      <th></th>\n",
       "      <th></th>\n",
       "      <th></th>\n",
       "      <th></th>\n",
       "    </tr>\n",
       "  </thead>\n",
       "  <tbody>\n",
       "    <tr>\n",
       "      <th>0</th>\n",
       "      <td>500</td>\n",
       "      <td>500</td>\n",
       "      <td>500</td>\n",
       "      <td>500</td>\n",
       "    </tr>\n",
       "    <tr>\n",
       "      <th>1</th>\n",
       "      <td>148</td>\n",
       "      <td>148</td>\n",
       "      <td>148</td>\n",
       "      <td>148</td>\n",
       "    </tr>\n",
       "    <tr>\n",
       "      <th>2</th>\n",
       "      <td>629</td>\n",
       "      <td>629</td>\n",
       "      <td>629</td>\n",
       "      <td>629</td>\n",
       "    </tr>\n",
       "    <tr>\n",
       "      <th>3</th>\n",
       "      <td>717</td>\n",
       "      <td>717</td>\n",
       "      <td>717</td>\n",
       "      <td>717</td>\n",
       "    </tr>\n",
       "    <tr>\n",
       "      <th>4</th>\n",
       "      <td>765</td>\n",
       "      <td>765</td>\n",
       "      <td>765</td>\n",
       "      <td>765</td>\n",
       "    </tr>\n",
       "    <tr>\n",
       "      <th>5</th>\n",
       "      <td>594</td>\n",
       "      <td>594</td>\n",
       "      <td>594</td>\n",
       "      <td>594</td>\n",
       "    </tr>\n",
       "    <tr>\n",
       "      <th>6</th>\n",
       "      <td>659</td>\n",
       "      <td>659</td>\n",
       "      <td>659</td>\n",
       "      <td>659</td>\n",
       "    </tr>\n",
       "    <tr>\n",
       "      <th>7</th>\n",
       "      <td>551</td>\n",
       "      <td>551</td>\n",
       "      <td>551</td>\n",
       "      <td>551</td>\n",
       "    </tr>\n",
       "    <tr>\n",
       "      <th>8</th>\n",
       "      <td>321</td>\n",
       "      <td>321</td>\n",
       "      <td>321</td>\n",
       "      <td>321</td>\n",
       "    </tr>\n",
       "    <tr>\n",
       "      <th>9</th>\n",
       "      <td>466</td>\n",
       "      <td>466</td>\n",
       "      <td>466</td>\n",
       "      <td>466</td>\n",
       "    </tr>\n",
       "    <tr>\n",
       "      <th>10</th>\n",
       "      <td>528</td>\n",
       "      <td>528</td>\n",
       "      <td>528</td>\n",
       "      <td>528</td>\n",
       "    </tr>\n",
       "    <tr>\n",
       "      <th>11</th>\n",
       "      <td>261</td>\n",
       "      <td>261</td>\n",
       "      <td>261</td>\n",
       "      <td>261</td>\n",
       "    </tr>\n",
       "    <tr>\n",
       "      <th>12</th>\n",
       "      <td>590</td>\n",
       "      <td>590</td>\n",
       "      <td>590</td>\n",
       "      <td>590</td>\n",
       "    </tr>\n",
       "    <tr>\n",
       "      <th>13</th>\n",
       "      <td>564</td>\n",
       "      <td>564</td>\n",
       "      <td>564</td>\n",
       "      <td>564</td>\n",
       "    </tr>\n",
       "    <tr>\n",
       "      <th>14</th>\n",
       "      <td>751</td>\n",
       "      <td>751</td>\n",
       "      <td>751</td>\n",
       "      <td>751</td>\n",
       "    </tr>\n",
       "    <tr>\n",
       "      <th>15</th>\n",
       "      <td>463</td>\n",
       "      <td>463</td>\n",
       "      <td>463</td>\n",
       "      <td>463</td>\n",
       "    </tr>\n",
       "    <tr>\n",
       "      <th>16</th>\n",
       "      <td>523</td>\n",
       "      <td>523</td>\n",
       "      <td>523</td>\n",
       "      <td>523</td>\n",
       "    </tr>\n",
       "    <tr>\n",
       "      <th>17</th>\n",
       "      <td>357</td>\n",
       "      <td>357</td>\n",
       "      <td>357</td>\n",
       "      <td>357</td>\n",
       "    </tr>\n",
       "    <tr>\n",
       "      <th>18</th>\n",
       "      <td>117</td>\n",
       "      <td>117</td>\n",
       "      <td>117</td>\n",
       "      <td>117</td>\n",
       "    </tr>\n",
       "    <tr>\n",
       "      <th>19</th>\n",
       "      <td>212</td>\n",
       "      <td>212</td>\n",
       "      <td>212</td>\n",
       "      <td>212</td>\n",
       "    </tr>\n",
       "    <tr>\n",
       "      <th>20</th>\n",
       "      <td>284</td>\n",
       "      <td>284</td>\n",
       "      <td>284</td>\n",
       "      <td>284</td>\n",
       "    </tr>\n",
       "  </tbody>\n",
       "</table>\n",
       "</div>"
      ],
      "text/plain": [
       "          HORA DIA_SEMANA  SEXO EDAD_APROX\n",
       "         count      count count      count\n",
       "DISTRITO                                  \n",
       "0          500        500   500        500\n",
       "1          148        148   148        148\n",
       "2          629        629   629        629\n",
       "3          717        717   717        717\n",
       "4          765        765   765        765\n",
       "5          594        594   594        594\n",
       "6          659        659   659        659\n",
       "7          551        551   551        551\n",
       "8          321        321   321        321\n",
       "9          466        466   466        466\n",
       "10         528        528   528        528\n",
       "11         261        261   261        261\n",
       "12         590        590   590        590\n",
       "13         564        564   564        564\n",
       "14         751        751   751        751\n",
       "15         463        463   463        463\n",
       "16         523        523   523        523\n",
       "17         357        357   357        357\n",
       "18         117        117   117        117\n",
       "19         212        212   212        212\n",
       "20         284        284   284        284"
      ]
     },
     "execution_count": 100,
     "metadata": {},
     "output_type": "execute_result"
    }
   ],
   "source": [
    "df_accs_lab_ohe_sample.groupby(['DISTRITO'], as_index=False).agg(['count'])"
   ]
  },
  {
   "cell_type": "code",
   "execution_count": 101,
   "metadata": {},
   "outputs": [
    {
     "data": {
      "text/html": [
       "<div>\n",
       "<style scoped>\n",
       "    .dataframe tbody tr th:only-of-type {\n",
       "        vertical-align: middle;\n",
       "    }\n",
       "\n",
       "    .dataframe tbody tr th {\n",
       "        vertical-align: top;\n",
       "    }\n",
       "\n",
       "    .dataframe thead th {\n",
       "        text-align: right;\n",
       "    }\n",
       "</style>\n",
       "<table border=\"1\" class=\"dataframe\">\n",
       "  <thead>\n",
       "    <tr style=\"text-align: right;\">\n",
       "      <th></th>\n",
       "      <th>HORA</th>\n",
       "      <th>DIA_SEMANA</th>\n",
       "      <th>DISTRITO</th>\n",
       "      <th>SEXO</th>\n",
       "      <th>EDAD_APROX</th>\n",
       "    </tr>\n",
       "  </thead>\n",
       "  <tbody>\n",
       "    <tr>\n",
       "      <th>0</th>\n",
       "      <td>18:00</td>\n",
       "      <td>JUEVES</td>\n",
       "      <td>7</td>\n",
       "      <td>HOMBRE</td>\n",
       "      <td>30</td>\n",
       "    </tr>\n",
       "  </tbody>\n",
       "</table>\n",
       "</div>"
      ],
      "text/plain": [
       "    HORA DIA_SEMANA  DISTRITO    SEXO EDAD_APROX\n",
       "0  18:00     JUEVES         7  HOMBRE         30"
      ]
     },
     "execution_count": 101,
     "metadata": {},
     "output_type": "execute_result"
    }
   ],
   "source": [
    "df_accs_lab_ohe_sample.head(1)"
   ]
  },
  {
   "cell_type": "code",
   "execution_count": 102,
   "metadata": {},
   "outputs": [
    {
     "data": {
      "text/html": [
       "<div>\n",
       "<style scoped>\n",
       "    .dataframe tbody tr th:only-of-type {\n",
       "        vertical-align: middle;\n",
       "    }\n",
       "\n",
       "    .dataframe tbody tr th {\n",
       "        vertical-align: top;\n",
       "    }\n",
       "\n",
       "    .dataframe thead th {\n",
       "        text-align: right;\n",
       "    }\n",
       "</style>\n",
       "<table border=\"1\" class=\"dataframe\">\n",
       "  <thead>\n",
       "    <tr style=\"text-align: right;\">\n",
       "      <th></th>\n",
       "      <th>HORA</th>\n",
       "      <th>DIA_SEMANA</th>\n",
       "      <th>DISTRITO</th>\n",
       "      <th>SEXO</th>\n",
       "      <th>EDAD_APROX</th>\n",
       "    </tr>\n",
       "  </thead>\n",
       "  <tbody>\n",
       "    <tr>\n",
       "      <th>0</th>\n",
       "      <td>00:00</td>\n",
       "      <td>VIERNES</td>\n",
       "      <td>CHAMARTIN</td>\n",
       "      <td>HOMBRE</td>\n",
       "      <td>20</td>\n",
       "    </tr>\n",
       "  </tbody>\n",
       "</table>\n",
       "</div>"
      ],
      "text/plain": [
       "    HORA DIA_SEMANA   DISTRITO    SEXO EDAD_APROX\n",
       "0  00:00    VIERNES  CHAMARTIN  HOMBRE         20"
      ]
     },
     "execution_count": 102,
     "metadata": {},
     "output_type": "execute_result"
    }
   ],
   "source": [
    "df_accs_lab_ohe.head(1)"
   ]
  },
  {
   "cell_type": "code",
   "execution_count": 103,
   "metadata": {},
   "outputs": [],
   "source": [
    "df_accs_lab_ohe['HORA']= lab.fit_transform(df_accs_lab_ohe['HORA'])\n",
    "df_accs_lab_ohe['DIA_SEMANA']= lab.fit_transform(df_accs_lab_ohe['DIA_SEMANA'])\n",
    "#df_accs_lab_ohe['DISTRITO']= lab.fit_transform(df_accs_lab_ohe['DISTRITO'])\n",
    "df_accs_lab_ohe['SEXO']= lab.fit_transform(df_accs_lab_ohe['SEXO'])\n",
    "df_accs_lab_ohe['EDAD_APROX']= lab.fit_transform(df_accs_lab_ohe['EDAD_APROX'])"
   ]
  },
  {
   "cell_type": "code",
   "execution_count": 104,
   "metadata": {},
   "outputs": [
    {
     "data": {
      "text/html": [
       "<div>\n",
       "<style scoped>\n",
       "    .dataframe tbody tr th:only-of-type {\n",
       "        vertical-align: middle;\n",
       "    }\n",
       "\n",
       "    .dataframe tbody tr th {\n",
       "        vertical-align: top;\n",
       "    }\n",
       "\n",
       "    .dataframe thead th {\n",
       "        text-align: right;\n",
       "    }\n",
       "</style>\n",
       "<table border=\"1\" class=\"dataframe\">\n",
       "  <thead>\n",
       "    <tr style=\"text-align: right;\">\n",
       "      <th></th>\n",
       "      <th>HORA</th>\n",
       "      <th>DIA_SEMANA</th>\n",
       "      <th>DISTRITO</th>\n",
       "      <th>SEXO</th>\n",
       "      <th>EDAD_APROX</th>\n",
       "    </tr>\n",
       "  </thead>\n",
       "  <tbody>\n",
       "    <tr>\n",
       "      <th>0</th>\n",
       "      <td>0</td>\n",
       "      <td>6</td>\n",
       "      <td>CHAMARTIN</td>\n",
       "      <td>0</td>\n",
       "      <td>3</td>\n",
       "    </tr>\n",
       "  </tbody>\n",
       "</table>\n",
       "</div>"
      ],
      "text/plain": [
       "   HORA  DIA_SEMANA   DISTRITO  SEXO  EDAD_APROX\n",
       "0     0           6  CHAMARTIN     0           3"
      ]
     },
     "execution_count": 104,
     "metadata": {},
     "output_type": "execute_result"
    }
   ],
   "source": [
    "df_accs_lab_ohe.head(1)"
   ]
  },
  {
   "cell_type": "code",
   "execution_count": 105,
   "metadata": {},
   "outputs": [
    {
     "data": {
      "text/plain": [
       "(252998, 4)"
      ]
     },
     "execution_count": 105,
     "metadata": {},
     "output_type": "execute_result"
    }
   ],
   "source": [
    "# Cargamos variables con datos de muestra\n",
    "X = np.array(df_accs_lab_ohe.drop('DISTRITO', 1))\n",
    "y = np.array(df_accs_lab_ohe[\"DISTRITO\"])\n",
    "X.shape"
   ]
  },
  {
   "cell_type": "code",
   "execution_count": 106,
   "metadata": {},
   "outputs": [],
   "source": [
    "# Train-test split\n",
    "# Load the library\n",
    "from sklearn.model_selection import train_test_split\n",
    "# Create 2 groups each with input and labels\n",
    "X_train, X_test, y_train, y_test = train_test_split(X, y, test_size=0.20)"
   ]
  },
  {
   "cell_type": "code",
   "execution_count": 107,
   "metadata": {},
   "outputs": [],
   "source": [
    "# Feature Scaling\n",
    "from sklearn.preprocessing import StandardScaler \n",
    "sc = StandardScaler() \n",
    "X_train = sc.fit_transform(X_train) \n",
    "X_test = sc.transform(X_test)"
   ]
  },
  {
   "cell_type": "code",
   "execution_count": 108,
   "metadata": {},
   "outputs": [],
   "source": [
    "from sklearn.preprocessing import OneHotEncoder\n",
    "from sklearn.preprocessing import LabelEncoder"
   ]
  },
  {
   "cell_type": "code",
   "execution_count": 109,
   "metadata": {},
   "outputs": [
    {
     "data": {
      "text/plain": [
       "Index(['HORA', 'DIA_SEMANA', 'DISTRITO', 'SEXO', 'EDAD_APROX'], dtype='object')"
      ]
     },
     "execution_count": 109,
     "metadata": {},
     "output_type": "execute_result"
    }
   ],
   "source": [
    "df_accs_lab_ohe.columns"
   ]
  },
  {
   "cell_type": "code",
   "execution_count": 110,
   "metadata": {},
   "outputs": [
    {
     "data": {
      "text/html": [
       "<div>\n",
       "<style scoped>\n",
       "    .dataframe tbody tr th:only-of-type {\n",
       "        vertical-align: middle;\n",
       "    }\n",
       "\n",
       "    .dataframe tbody tr th {\n",
       "        vertical-align: top;\n",
       "    }\n",
       "\n",
       "    .dataframe thead th {\n",
       "        text-align: right;\n",
       "    }\n",
       "</style>\n",
       "<table border=\"1\" class=\"dataframe\">\n",
       "  <thead>\n",
       "    <tr style=\"text-align: right;\">\n",
       "      <th></th>\n",
       "      <th>HORA</th>\n",
       "      <th>DIA_SEMANA</th>\n",
       "      <th>DISTRITO</th>\n",
       "      <th>SEXO</th>\n",
       "      <th>EDAD_APROX</th>\n",
       "    </tr>\n",
       "  </thead>\n",
       "  <tbody>\n",
       "    <tr>\n",
       "      <th>0</th>\n",
       "      <td>0</td>\n",
       "      <td>6</td>\n",
       "      <td>CHAMARTIN</td>\n",
       "      <td>0</td>\n",
       "      <td>3</td>\n",
       "    </tr>\n",
       "  </tbody>\n",
       "</table>\n",
       "</div>"
      ],
      "text/plain": [
       "   HORA  DIA_SEMANA   DISTRITO  SEXO  EDAD_APROX\n",
       "0     0           6  CHAMARTIN     0           3"
      ]
     },
     "execution_count": 110,
     "metadata": {},
     "output_type": "execute_result"
    }
   ],
   "source": [
    "df_accs_lab_ohe.head(1)"
   ]
  },
  {
   "cell_type": "code",
   "execution_count": 111,
   "metadata": {},
   "outputs": [
    {
     "data": {
      "text/plain": [
       "(252998, 5)"
      ]
     },
     "execution_count": 111,
     "metadata": {},
     "output_type": "execute_result"
    }
   ],
   "source": [
    "df_accs_lab_ohe.shape"
   ]
  },
  {
   "cell_type": "code",
   "execution_count": 112,
   "metadata": {},
   "outputs": [
    {
     "data": {
      "text/plain": [
       "HORA          0\n",
       "DIA_SEMANA    0\n",
       "DISTRITO      0\n",
       "SEXO          0\n",
       "EDAD_APROX    0\n",
       "dtype: int64"
      ]
     },
     "execution_count": 112,
     "metadata": {},
     "output_type": "execute_result"
    }
   ],
   "source": [
    "df_accs_lab_ohe.isnull().sum()"
   ]
  },
  {
   "cell_type": "code",
   "execution_count": 113,
   "metadata": {},
   "outputs": [
    {
     "data": {
      "text/plain": [
       "OneHotEncoder(categorical_features=None, categories=None, drop=None,\n",
       "              dtype=<class 'numpy.float64'>, handle_unknown='ignore',\n",
       "              n_values=None, sparse=True)"
      ]
     },
     "execution_count": 113,
     "metadata": {},
     "output_type": "execute_result"
    }
   ],
   "source": [
    "# Create the encoder.\n",
    "encoder = OneHotEncoder(handle_unknown='ignore')\n",
    "\n",
    "# Assume for simplicity all features are categorical.\n",
    "encoder.fit(X_train)"
   ]
  },
  {
   "cell_type": "code",
   "execution_count": 114,
   "metadata": {},
   "outputs": [],
   "source": [
    "# Apply the encoder.\n",
    "X_train = encoder.transform(X_train)\n",
    "X_test = encoder.transform(X_test)"
   ]
  },
  {
   "cell_type": "code",
   "execution_count": 115,
   "metadata": {},
   "outputs": [
    {
     "data": {
      "text/plain": [
       "(252998, 4)"
      ]
     },
     "execution_count": 115,
     "metadata": {},
     "output_type": "execute_result"
    }
   ],
   "source": [
    "X.shape"
   ]
  },
  {
   "cell_type": "code",
   "execution_count": 116,
   "metadata": {},
   "outputs": [
    {
     "data": {
      "text/plain": [
       "<202398x49 sparse matrix of type '<class 'numpy.float64'>'\n",
       "\twith 809592 stored elements in Compressed Sparse Row format>"
      ]
     },
     "execution_count": 116,
     "metadata": {},
     "output_type": "execute_result"
    }
   ],
   "source": [
    "X_train"
   ]
  },
  {
   "cell_type": "code",
   "execution_count": 117,
   "metadata": {},
   "outputs": [
    {
     "data": {
      "text/plain": [
       "<50600x49 sparse matrix of type '<class 'numpy.float64'>'\n",
       "\twith 202400 stored elements in Compressed Sparse Row format>"
      ]
     },
     "execution_count": 117,
     "metadata": {},
     "output_type": "execute_result"
    }
   ],
   "source": [
    "X_test"
   ]
  },
  {
   "cell_type": "markdown",
   "metadata": {},
   "source": [
    "### Regresión Logística con SKLearn"
   ]
  },
  {
   "cell_type": "code",
   "execution_count": 118,
   "metadata": {},
   "outputs": [
    {
     "name": "stderr",
     "output_type": "stream",
     "text": [
      "/home/dsc/anaconda3/lib/python3.7/site-packages/sklearn/linear_model/sag.py:337: ConvergenceWarning: The max_iter was reached which means the coef_ did not converge\n",
      "  \"the coef_ did not converge\", ConvergenceWarning)\n"
     ]
    },
    {
     "data": {
      "text/plain": [
       "LogisticRegression(C=1.0, class_weight=None, dual=False, fit_intercept=True,\n",
       "                   intercept_scaling=1, l1_ratio=None, max_iter=100,\n",
       "                   multi_class='auto', n_jobs=None, penalty='l2',\n",
       "                   random_state=None, solver='sag', tol=0.0001, verbose=0,\n",
       "                   warm_start=False)"
      ]
     },
     "execution_count": 118,
     "metadata": {},
     "output_type": "execute_result"
    }
   ],
   "source": [
    "# Creamos el Modelo de Regresión Logística y \n",
    "# hacemos que se ajuste (fit) a nuestro conjunto de entradas X y salidas ‘y’.\n",
    "from sklearn.linear_model.sag import sag_solver\n",
    "model_LOGREG = linear_model.LogisticRegression(multi_class='auto', solver='sag', verbose=0)\n",
    "model_LOGREG.fit(X_train,y_train)"
   ]
  },
  {
   "cell_type": "code",
   "execution_count": 119,
   "metadata": {},
   "outputs": [],
   "source": [
    "# Clasificamos todo nuestro conjunto de entradas X utilizando el método «predict(X)» para el modelo\n",
    "# y revisamos algunas de sus salidas para comprobar si coincide con las salidas reales de nuestro origen\n",
    "predictions_LOGREG = model_LOGREG.predict(X_test)"
   ]
  },
  {
   "cell_type": "code",
   "execution_count": 120,
   "metadata": {},
   "outputs": [
    {
     "name": "stdout",
     "output_type": "stream",
     "text": [
      "CHAMARTIN\n"
     ]
    }
   ],
   "source": [
    "print(predictions_LOGREG[22])"
   ]
  },
  {
   "cell_type": "code",
   "execution_count": 121,
   "metadata": {},
   "outputs": [
    {
     "data": {
      "text/plain": [
       "numpy.ndarray"
      ]
     },
     "execution_count": 121,
     "metadata": {},
     "output_type": "execute_result"
    }
   ],
   "source": [
    "type(predictions_LOGREG)"
   ]
  },
  {
   "cell_type": "code",
   "execution_count": 122,
   "metadata": {},
   "outputs": [
    {
     "data": {
      "text/plain": [
       "dtype('O')"
      ]
     },
     "execution_count": 122,
     "metadata": {},
     "output_type": "execute_result"
    }
   ],
   "source": [
    "predictions_LOGREG.dtype"
   ]
  },
  {
   "cell_type": "code",
   "execution_count": 123,
   "metadata": {},
   "outputs": [
    {
     "data": {
      "text/plain": [
       "(50600,)"
      ]
     },
     "execution_count": 123,
     "metadata": {},
     "output_type": "execute_result"
    }
   ],
   "source": [
    "predictions_LOGREG.shape"
   ]
  },
  {
   "cell_type": "code",
   "execution_count": 124,
   "metadata": {},
   "outputs": [
    {
     "name": "stdout",
     "output_type": "stream",
     "text": [
      "0.08820158102766798\n"
     ]
    }
   ],
   "source": [
    "print(accuracy_score(y_test, predictions_LOGREG))"
   ]
  },
  {
   "cell_type": "code",
   "execution_count": 125,
   "metadata": {},
   "outputs": [
    {
     "data": {
      "text/plain": [
       "0.08820158102766798"
      ]
     },
     "execution_count": 125,
     "metadata": {},
     "output_type": "execute_result"
    }
   ],
   "source": [
    "# Calidad de nuestro modelo, nos devuelve la precisión media de las predicciones\n",
    "model_LOGREG.score(X_test,y_test)"
   ]
  },
  {
   "cell_type": "markdown",
   "metadata": {},
   "source": [
    "### AÑADIMOS NUEVAS VARIABLES PARA INTENTAR MEJORAR EL MODELO"
   ]
  },
  {
   "cell_type": "code",
   "execution_count": 126,
   "metadata": {},
   "outputs": [
    {
     "name": "stdout",
     "output_type": "stream",
     "text": [
      "-rw-rw-r-- 1 dsc dsc 1164 nov 22 17:41 /home/dsc/Repos/TFM_Accident_reduction_plan_in_the_city_of_Madrid/02_Desarrollo/distritos_municipio_madrid.csv\r\n"
     ]
    }
   ],
   "source": [
    "!ls -ltr {folder}/distri*"
   ]
  },
  {
   "cell_type": "code",
   "execution_count": 127,
   "metadata": {},
   "outputs": [
    {
     "data": {
      "text/plain": [
       "'/home/dsc/Repos/TFM_Accident_reduction_plan_in_the_city_of_Madrid/02_Desarrollo'"
      ]
     },
     "execution_count": 127,
     "metadata": {},
     "output_type": "execute_result"
    }
   ],
   "source": [
    "import os\n",
    "os.getcwd()"
   ]
  },
  {
   "cell_type": "code",
   "execution_count": 128,
   "metadata": {},
   "outputs": [
    {
     "name": "stdout",
     "output_type": "stream",
     "text": [
      "-rw-rw-r-- 1 dsc dsc 1164 nov 22 17:41 distritos_municipio_madrid.csv\r\n"
     ]
    }
   ],
   "source": [
    "!ls -ltr distritos_municipio_madrid.csv"
   ]
  },
  {
   "cell_type": "code",
   "execution_count": 129,
   "metadata": {},
   "outputs": [],
   "source": [
    "df_distritos = pd.read_csv(\"distritos_municipio_madrid.csv\", sep=';', encoding='latin-1')"
   ]
  },
  {
   "cell_type": "code",
   "execution_count": 130,
   "metadata": {},
   "outputs": [
    {
     "data": {
      "text/plain": [
       "Index(['distrito_codigo', 'distrito_nombre', 'municipio_codigo',\n",
       "       'municipio_nombre', 'superficie_km2', 'densidad_por_km2'],\n",
       "      dtype='object')"
      ]
     },
     "execution_count": 130,
     "metadata": {},
     "output_type": "execute_result"
    }
   ],
   "source": [
    "df_distritos.columns"
   ]
  },
  {
   "cell_type": "code",
   "execution_count": 131,
   "metadata": {},
   "outputs": [
    {
     "data": {
      "text/html": [
       "<div>\n",
       "<style scoped>\n",
       "    .dataframe tbody tr th:only-of-type {\n",
       "        vertical-align: middle;\n",
       "    }\n",
       "\n",
       "    .dataframe tbody tr th {\n",
       "        vertical-align: top;\n",
       "    }\n",
       "\n",
       "    .dataframe thead th {\n",
       "        text-align: right;\n",
       "    }\n",
       "</style>\n",
       "<table border=\"1\" class=\"dataframe\">\n",
       "  <thead>\n",
       "    <tr style=\"text-align: right;\">\n",
       "      <th></th>\n",
       "      <th>distrito_codigo</th>\n",
       "      <th>distrito_nombre</th>\n",
       "      <th>municipio_codigo</th>\n",
       "      <th>municipio_nombre</th>\n",
       "      <th>superficie_km2</th>\n",
       "      <th>densidad_por_km2</th>\n",
       "    </tr>\n",
       "  </thead>\n",
       "  <tbody>\n",
       "    <tr>\n",
       "      <th>0</th>\n",
       "      <td>79601</td>\n",
       "      <td>Centro</td>\n",
       "      <td>796</td>\n",
       "      <td>Madrid</td>\n",
       "      <td>5.21</td>\n",
       "      <td>25340.69</td>\n",
       "    </tr>\n",
       "    <tr>\n",
       "      <th>1</th>\n",
       "      <td>79602</td>\n",
       "      <td>Arganzuela</td>\n",
       "      <td>796</td>\n",
       "      <td>Madrid</td>\n",
       "      <td>6.52</td>\n",
       "      <td>23306.44</td>\n",
       "    </tr>\n",
       "    <tr>\n",
       "      <th>2</th>\n",
       "      <td>79603</td>\n",
       "      <td>Retiro</td>\n",
       "      <td>796</td>\n",
       "      <td>Madrid</td>\n",
       "      <td>5.42</td>\n",
       "      <td>21867.53</td>\n",
       "    </tr>\n",
       "  </tbody>\n",
       "</table>\n",
       "</div>"
      ],
      "text/plain": [
       "   distrito_codigo  distrito_nombre  municipio_codigo municipio_nombre  \\\n",
       "0            79601          Centro                796           Madrid   \n",
       "1            79602      Arganzuela                796           Madrid   \n",
       "2            79603          Retiro                796           Madrid   \n",
       "\n",
       "   superficie_km2  densidad_por_km2  \n",
       "0            5.21          25340.69  \n",
       "1            6.52          23306.44  \n",
       "2            5.42          21867.53  "
      ]
     },
     "execution_count": 131,
     "metadata": {},
     "output_type": "execute_result"
    }
   ],
   "source": [
    "df_distritos.head(3)"
   ]
  },
  {
   "cell_type": "code",
   "execution_count": 132,
   "metadata": {},
   "outputs": [],
   "source": [
    "drop_elements = ['municipio_codigo', 'municipio_nombre']\n",
    "df_distritos_lab = df_distritos.drop(drop_elements, axis = 1)"
   ]
  },
  {
   "cell_type": "code",
   "execution_count": 133,
   "metadata": {},
   "outputs": [
    {
     "data": {
      "text/plain": [
       "Index(['distrito_codigo', 'distrito_nombre', 'superficie_km2',\n",
       "       'densidad_por_km2'],\n",
       "      dtype='object')"
      ]
     },
     "execution_count": 133,
     "metadata": {},
     "output_type": "execute_result"
    }
   ],
   "source": [
    "df_distritos_lab.columns"
   ]
  },
  {
   "cell_type": "code",
   "execution_count": 134,
   "metadata": {},
   "outputs": [
    {
     "data": {
      "text/html": [
       "<div>\n",
       "<style scoped>\n",
       "    .dataframe tbody tr th:only-of-type {\n",
       "        vertical-align: middle;\n",
       "    }\n",
       "\n",
       "    .dataframe tbody tr th {\n",
       "        vertical-align: top;\n",
       "    }\n",
       "\n",
       "    .dataframe thead th {\n",
       "        text-align: right;\n",
       "    }\n",
       "</style>\n",
       "<table border=\"1\" class=\"dataframe\">\n",
       "  <thead>\n",
       "    <tr style=\"text-align: right;\">\n",
       "      <th></th>\n",
       "      <th>distrito_codigo</th>\n",
       "      <th>distrito_nombre</th>\n",
       "      <th>superficie_km2</th>\n",
       "      <th>densidad_por_km2</th>\n",
       "    </tr>\n",
       "  </thead>\n",
       "  <tbody>\n",
       "    <tr>\n",
       "      <th>0</th>\n",
       "      <td>79601</td>\n",
       "      <td>Centro</td>\n",
       "      <td>5.21</td>\n",
       "      <td>25340.69</td>\n",
       "    </tr>\n",
       "    <tr>\n",
       "      <th>1</th>\n",
       "      <td>79602</td>\n",
       "      <td>Arganzuela</td>\n",
       "      <td>6.52</td>\n",
       "      <td>23306.44</td>\n",
       "    </tr>\n",
       "    <tr>\n",
       "      <th>2</th>\n",
       "      <td>79603</td>\n",
       "      <td>Retiro</td>\n",
       "      <td>5.42</td>\n",
       "      <td>21867.53</td>\n",
       "    </tr>\n",
       "  </tbody>\n",
       "</table>\n",
       "</div>"
      ],
      "text/plain": [
       "   distrito_codigo  distrito_nombre  superficie_km2  densidad_por_km2\n",
       "0            79601          Centro             5.21          25340.69\n",
       "1            79602      Arganzuela             6.52          23306.44\n",
       "2            79603          Retiro             5.42          21867.53"
      ]
     },
     "execution_count": 134,
     "metadata": {},
     "output_type": "execute_result"
    }
   ],
   "source": [
    "df_distritos_lab.head(3)"
   ]
  },
  {
   "cell_type": "code",
   "execution_count": 135,
   "metadata": {},
   "outputs": [
    {
     "data": {
      "text/plain": [
       "distrito_codigo       int64\n",
       "distrito_nombre      object\n",
       "superficie_km2      float64\n",
       "densidad_por_km2    float64\n",
       "dtype: object"
      ]
     },
     "execution_count": 135,
     "metadata": {},
     "output_type": "execute_result"
    }
   ],
   "source": [
    "df_distritos_lab.dtypes"
   ]
  },
  {
   "cell_type": "code",
   "execution_count": 136,
   "metadata": {},
   "outputs": [
    {
     "data": {
      "text/plain": [
       "(21, 4)"
      ]
     },
     "execution_count": 136,
     "metadata": {},
     "output_type": "execute_result"
    }
   ],
   "source": [
    "df_distritos_lab.shape"
   ]
  },
  {
   "cell_type": "code",
   "execution_count": 137,
   "metadata": {},
   "outputs": [
    {
     "data": {
      "text/plain": [
       "Index(['HORA', 'DIA_SEMANA', 'DISTRITO', 'SEXO', 'EDAD_APROX'], dtype='object')"
      ]
     },
     "execution_count": 137,
     "metadata": {},
     "output_type": "execute_result"
    }
   ],
   "source": [
    "df_accs.columns"
   ]
  },
  {
   "cell_type": "code",
   "execution_count": 138,
   "metadata": {},
   "outputs": [],
   "source": [
    "df_distritos_lab = df_distritos_lab.rename(columns = {'distrito_nombre':'DISTRITO'})"
   ]
  },
  {
   "cell_type": "code",
   "execution_count": 139,
   "metadata": {},
   "outputs": [
    {
     "data": {
      "text/html": [
       "<div>\n",
       "<style scoped>\n",
       "    .dataframe tbody tr th:only-of-type {\n",
       "        vertical-align: middle;\n",
       "    }\n",
       "\n",
       "    .dataframe tbody tr th {\n",
       "        vertical-align: top;\n",
       "    }\n",
       "\n",
       "    .dataframe thead th {\n",
       "        text-align: right;\n",
       "    }\n",
       "</style>\n",
       "<table border=\"1\" class=\"dataframe\">\n",
       "  <thead>\n",
       "    <tr style=\"text-align: right;\">\n",
       "      <th></th>\n",
       "      <th>distrito_codigo</th>\n",
       "      <th>DISTRITO</th>\n",
       "      <th>superficie_km2</th>\n",
       "      <th>densidad_por_km2</th>\n",
       "    </tr>\n",
       "  </thead>\n",
       "  <tbody>\n",
       "    <tr>\n",
       "      <th>0</th>\n",
       "      <td>79601</td>\n",
       "      <td>Centro</td>\n",
       "      <td>5.21</td>\n",
       "      <td>25340.69</td>\n",
       "    </tr>\n",
       "    <tr>\n",
       "      <th>1</th>\n",
       "      <td>79602</td>\n",
       "      <td>Arganzuela</td>\n",
       "      <td>6.52</td>\n",
       "      <td>23306.44</td>\n",
       "    </tr>\n",
       "    <tr>\n",
       "      <th>2</th>\n",
       "      <td>79603</td>\n",
       "      <td>Retiro</td>\n",
       "      <td>5.42</td>\n",
       "      <td>21867.53</td>\n",
       "    </tr>\n",
       "    <tr>\n",
       "      <th>3</th>\n",
       "      <td>79604</td>\n",
       "      <td>Salamanca</td>\n",
       "      <td>5.36</td>\n",
       "      <td>26830.78</td>\n",
       "    </tr>\n",
       "    <tr>\n",
       "      <th>4</th>\n",
       "      <td>79605</td>\n",
       "      <td>Chamartín</td>\n",
       "      <td>9.12</td>\n",
       "      <td>15723.25</td>\n",
       "    </tr>\n",
       "  </tbody>\n",
       "</table>\n",
       "</div>"
      ],
      "text/plain": [
       "   distrito_codigo         DISTRITO  superficie_km2  densidad_por_km2\n",
       "0            79601          Centro             5.21          25340.69\n",
       "1            79602      Arganzuela             6.52          23306.44\n",
       "2            79603          Retiro             5.42          21867.53\n",
       "3            79604       Salamanca             5.36          26830.78\n",
       "4            79605       Chamartín             9.12          15723.25"
      ]
     },
     "execution_count": 139,
     "metadata": {},
     "output_type": "execute_result"
    }
   ],
   "source": [
    "df_distritos_lab.head()"
   ]
  },
  {
   "cell_type": "code",
   "execution_count": 140,
   "metadata": {},
   "outputs": [
    {
     "data": {
      "text/html": [
       "<div>\n",
       "<style scoped>\n",
       "    .dataframe tbody tr th:only-of-type {\n",
       "        vertical-align: middle;\n",
       "    }\n",
       "\n",
       "    .dataframe tbody tr th {\n",
       "        vertical-align: top;\n",
       "    }\n",
       "\n",
       "    .dataframe thead th {\n",
       "        text-align: right;\n",
       "    }\n",
       "</style>\n",
       "<table border=\"1\" class=\"dataframe\">\n",
       "  <thead>\n",
       "    <tr style=\"text-align: right;\">\n",
       "      <th></th>\n",
       "      <th>HORA</th>\n",
       "      <th>DIA_SEMANA</th>\n",
       "      <th>DISTRITO</th>\n",
       "      <th>SEXO</th>\n",
       "      <th>EDAD_APROX</th>\n",
       "    </tr>\n",
       "  </thead>\n",
       "  <tbody>\n",
       "    <tr>\n",
       "      <th>0</th>\n",
       "      <td>00:00</td>\n",
       "      <td>VIERNES</td>\n",
       "      <td>CHAMARTIN</td>\n",
       "      <td>HOMBRE</td>\n",
       "      <td>20</td>\n",
       "    </tr>\n",
       "    <tr>\n",
       "      <th>1</th>\n",
       "      <td>00:00</td>\n",
       "      <td>VIERNES</td>\n",
       "      <td>CHAMARTIN</td>\n",
       "      <td>HOMBRE</td>\n",
       "      <td>50</td>\n",
       "    </tr>\n",
       "    <tr>\n",
       "      <th>2</th>\n",
       "      <td>00:00</td>\n",
       "      <td>VIERNES</td>\n",
       "      <td>CHAMARTIN</td>\n",
       "      <td>MUJER</td>\n",
       "      <td>40</td>\n",
       "    </tr>\n",
       "  </tbody>\n",
       "</table>\n",
       "</div>"
      ],
      "text/plain": [
       "    HORA DIA_SEMANA   DISTRITO    SEXO EDAD_APROX\n",
       "0  00:00    VIERNES  CHAMARTIN  HOMBRE         20\n",
       "1  00:00    VIERNES  CHAMARTIN  HOMBRE         50\n",
       "2  00:00    VIERNES  CHAMARTIN   MUJER         40"
      ]
     },
     "execution_count": 140,
     "metadata": {},
     "output_type": "execute_result"
    }
   ],
   "source": [
    "df_accs.head(3)"
   ]
  },
  {
   "cell_type": "code",
   "execution_count": 141,
   "metadata": {},
   "outputs": [
    {
     "data": {
      "text/plain": [
       "array(['CHAMARTIN', 'PUENTE DE VALLECAS', 'CHAMBERI', 'RETIRO',\n",
       "       'SALAMANCA', 'CARABANCHEL', 'CIUDAD LINEAL', 'MONCLOA-ARAVACA',\n",
       "       'TETUAN', 'VILLA DE VALLECAS', 'MORATALAZ', 'ARGANZUELA',\n",
       "       'SAN BLAS', 'VILLAVERDE', 'HORTALEZA', 'FUENCARRAL-EL PARDO',\n",
       "       'VICALVARO', 'USERA', 'LATINA', 'BARAJAS', 'CENTRO'], dtype=object)"
      ]
     },
     "execution_count": 141,
     "metadata": {},
     "output_type": "execute_result"
    }
   ],
   "source": [
    "df_accs['DISTRITO'].unique()"
   ]
  },
  {
   "cell_type": "code",
   "execution_count": 142,
   "metadata": {},
   "outputs": [
    {
     "data": {
      "text/plain": [
       "array(['    Centro ', '    Arganzuela ', '    Retiro ', '    Salamanca ',\n",
       "       '    Chamartín ', '    Tetuan ', '    Chamberí ',\n",
       "       '    Fuencarral-El Pardo ', '    Moncloa-Aravaca ', '    Latina ',\n",
       "       '    Carabanchel ', '    Usera ', '    Puente de Vallecas ',\n",
       "       '    Moratalaz ', '    Ciudad Lineal ', '    Hortaleza ',\n",
       "       '    Villaverde ', '    Villa de Vallecas ', '    Vicálvaro ',\n",
       "       '    San Blas-Canillejas ', '    Barajas '], dtype=object)"
      ]
     },
     "execution_count": 142,
     "metadata": {},
     "output_type": "execute_result"
    }
   ],
   "source": [
    "df_distritos_lab['DISTRITO'].unique()"
   ]
  },
  {
   "cell_type": "code",
   "execution_count": 143,
   "metadata": {},
   "outputs": [],
   "source": [
    "# strip leading and trailing space only strings\n",
    "df_distritos_lab['DISTRITO'] = df_distritos_lab['DISTRITO'].str.strip()\n"
   ]
  },
  {
   "cell_type": "code",
   "execution_count": 144,
   "metadata": {},
   "outputs": [
    {
     "data": {
      "text/plain": [
       "array(['Centro', 'Arganzuela', 'Retiro', 'Salamanca', 'Chamartín',\n",
       "       'Tetuan', 'Chamberí', 'Fuencarral-El Pardo', 'Moncloa-Aravaca',\n",
       "       'Latina', 'Carabanchel', 'Usera', 'Puente de Vallecas',\n",
       "       'Moratalaz', 'Ciudad Lineal', 'Hortaleza', 'Villaverde',\n",
       "       'Villa de Vallecas', 'Vicálvaro', 'San Blas-Canillejas', 'Barajas'],\n",
       "      dtype=object)"
      ]
     },
     "execution_count": 144,
     "metadata": {},
     "output_type": "execute_result"
    }
   ],
   "source": [
    "df_distritos_lab['DISTRITO'].unique()"
   ]
  },
  {
   "cell_type": "code",
   "execution_count": 145,
   "metadata": {},
   "outputs": [
    {
     "data": {
      "text/plain": [
       "array(['CHAMARTIN', 'PUENTE DE VALLECAS', 'CHAMBERI', 'RETIRO',\n",
       "       'SALAMANCA', 'CARABANCHEL', 'CIUDAD LINEAL', 'MONCLOA-ARAVACA',\n",
       "       'TETUAN', 'VILLA DE VALLECAS', 'MORATALAZ', 'ARGANZUELA',\n",
       "       'SAN BLAS', 'VILLAVERDE', 'HORTALEZA', 'FUENCARRAL-EL PARDO',\n",
       "       'VICALVARO', 'USERA', 'LATINA', 'BARAJAS', 'CENTRO'], dtype=object)"
      ]
     },
     "execution_count": 145,
     "metadata": {},
     "output_type": "execute_result"
    }
   ],
   "source": [
    "df_accs['DISTRITO'].unique()"
   ]
  },
  {
   "cell_type": "code",
   "execution_count": 146,
   "metadata": {},
   "outputs": [],
   "source": [
    "df_distritos_lab['DISTRITO'] = df_distritos_lab['DISTRITO'].str.upper()"
   ]
  },
  {
   "cell_type": "code",
   "execution_count": 147,
   "metadata": {},
   "outputs": [
    {
     "data": {
      "text/plain": [
       "array(['CENTRO', 'ARGANZUELA', 'RETIRO', 'SALAMANCA', 'CHAMARTÍN',\n",
       "       'TETUAN', 'CHAMBERÍ', 'FUENCARRAL-EL PARDO', 'MONCLOA-ARAVACA',\n",
       "       'LATINA', 'CARABANCHEL', 'USERA', 'PUENTE DE VALLECAS',\n",
       "       'MORATALAZ', 'CIUDAD LINEAL', 'HORTALEZA', 'VILLAVERDE',\n",
       "       'VILLA DE VALLECAS', 'VICÁLVARO', 'SAN BLAS-CANILLEJAS', 'BARAJAS'],\n",
       "      dtype=object)"
      ]
     },
     "execution_count": 147,
     "metadata": {},
     "output_type": "execute_result"
    }
   ],
   "source": [
    "df_distritos_lab['DISTRITO'].unique()"
   ]
  },
  {
   "cell_type": "code",
   "execution_count": 148,
   "metadata": {},
   "outputs": [
    {
     "data": {
      "text/plain": [
       "array(['CHAMARTIN', 'PUENTE DE VALLECAS', 'CHAMBERI', 'RETIRO',\n",
       "       'SALAMANCA', 'CARABANCHEL', 'CIUDAD LINEAL', 'MONCLOA-ARAVACA',\n",
       "       'TETUAN', 'VILLA DE VALLECAS', 'MORATALAZ', 'ARGANZUELA',\n",
       "       'SAN BLAS', 'VILLAVERDE', 'HORTALEZA', 'FUENCARRAL-EL PARDO',\n",
       "       'VICALVARO', 'USERA', 'LATINA', 'BARAJAS', 'CENTRO'], dtype=object)"
      ]
     },
     "execution_count": 148,
     "metadata": {},
     "output_type": "execute_result"
    }
   ],
   "source": [
    "df_accs['DISTRITO'].unique()"
   ]
  },
  {
   "cell_type": "code",
   "execution_count": 149,
   "metadata": {},
   "outputs": [],
   "source": [
    "df_distritos_lab[\"DISTRITO\"] = df_distritos_lab[\"DISTRITO\"].replace({\"CHAMARTÍN\":\"CHAMARTIN\"}, regex=True)\n",
    "df_distritos_lab[\"DISTRITO\"] = df_distritos_lab[\"DISTRITO\"].replace({\"CHAMBERÍ\":\"CHAMBERI\"}, regex=True)\n",
    "df_distritos_lab[\"DISTRITO\"] = df_distritos_lab[\"DISTRITO\"].replace({\"VICÁLVARO\":\"VICALVARO\"}, regex=True)\n",
    "df_distritos_lab[\"DISTRITO\"] = df_distritos_lab[\"DISTRITO\"].replace({\"SAN BLAS-CANILLEJAS\":\"SAN BLAS\"}, regex=True)"
   ]
  },
  {
   "cell_type": "code",
   "execution_count": 150,
   "metadata": {},
   "outputs": [
    {
     "data": {
      "text/plain": [
       "array(['CENTRO', 'ARGANZUELA', 'RETIRO', 'SALAMANCA', 'CHAMARTIN',\n",
       "       'TETUAN', 'CHAMBERI', 'FUENCARRAL-EL PARDO', 'MONCLOA-ARAVACA',\n",
       "       'LATINA', 'CARABANCHEL', 'USERA', 'PUENTE DE VALLECAS',\n",
       "       'MORATALAZ', 'CIUDAD LINEAL', 'HORTALEZA', 'VILLAVERDE',\n",
       "       'VILLA DE VALLECAS', 'VICALVARO', 'SAN BLAS', 'BARAJAS'],\n",
       "      dtype=object)"
      ]
     },
     "execution_count": 150,
     "metadata": {},
     "output_type": "execute_result"
    }
   ],
   "source": [
    "df_distritos_lab['DISTRITO'].unique()"
   ]
  },
  {
   "cell_type": "code",
   "execution_count": 151,
   "metadata": {},
   "outputs": [
    {
     "data": {
      "text/plain": [
       "Index(['distrito_codigo', 'DISTRITO', 'superficie_km2', 'densidad_por_km2'], dtype='object')"
      ]
     },
     "execution_count": 151,
     "metadata": {},
     "output_type": "execute_result"
    }
   ],
   "source": [
    "df_distritos_lab.columns"
   ]
  },
  {
   "cell_type": "code",
   "execution_count": 152,
   "metadata": {},
   "outputs": [
    {
     "data": {
      "text/plain": [
       "array([79601, 79602, 79603, 79604, 79605, 79606, 79607, 79608, 79609,\n",
       "       79610, 79611, 79612, 79613, 79614, 79615, 79616, 79617, 79618,\n",
       "       79619, 79620, 79621])"
      ]
     },
     "execution_count": 152,
     "metadata": {},
     "output_type": "execute_result"
    }
   ],
   "source": [
    "df_distritos_lab['distrito_codigo'].unique()"
   ]
  },
  {
   "cell_type": "code",
   "execution_count": 153,
   "metadata": {},
   "outputs": [
    {
     "data": {
      "text/plain": [
       "array([  5.21,   6.52,   5.42,   5.36,   9.12,   5.37,   4.73, 238.  ,\n",
       "        46.47,  25.47,  14.1 ,   7.7 ,  14.84,   6.08,  11.52,  25.87,\n",
       "        20.21,  51.49,  35.36,  22.26,  43.56])"
      ]
     },
     "execution_count": 153,
     "metadata": {},
     "output_type": "execute_result"
    }
   ],
   "source": [
    "df_distritos_lab['superficie_km2'].unique()"
   ]
  },
  {
   "cell_type": "code",
   "execution_count": 154,
   "metadata": {},
   "outputs": [
    {
     "data": {
      "text/plain": [
       "array([25340.69, 23306.44, 21867.53, 26830.78, 15723.25, 28664.25,\n",
       "       29049.26,  1003.  ,  2515.26,  9183.75, 17316.88, 17535.32,\n",
       "       15345.01, 15493.59, 18455.56,  6973.33,  7059.13,  2026.82,\n",
       "        1981.11,  6934.37,  1076.06])"
      ]
     },
     "execution_count": 154,
     "metadata": {},
     "output_type": "execute_result"
    }
   ],
   "source": [
    "df_distritos_lab['densidad_por_km2'].unique()"
   ]
  },
  {
   "cell_type": "code",
   "execution_count": 155,
   "metadata": {},
   "outputs": [
    {
     "data": {
      "text/plain": [
       "distrito_codigo     0\n",
       "DISTRITO            0\n",
       "superficie_km2      0\n",
       "densidad_por_km2    0\n",
       "dtype: int64"
      ]
     },
     "execution_count": 155,
     "metadata": {},
     "output_type": "execute_result"
    }
   ],
   "source": [
    "# Comprobar valores nulos\n",
    "df_distritos_lab.isnull().sum()"
   ]
  },
  {
   "cell_type": "code",
   "execution_count": 156,
   "metadata": {},
   "outputs": [
    {
     "data": {
      "text/html": [
       "<div>\n",
       "<style scoped>\n",
       "    .dataframe tbody tr th:only-of-type {\n",
       "        vertical-align: middle;\n",
       "    }\n",
       "\n",
       "    .dataframe tbody tr th {\n",
       "        vertical-align: top;\n",
       "    }\n",
       "\n",
       "    .dataframe thead th {\n",
       "        text-align: right;\n",
       "    }\n",
       "</style>\n",
       "<table border=\"1\" class=\"dataframe\">\n",
       "  <thead>\n",
       "    <tr style=\"text-align: right;\">\n",
       "      <th></th>\n",
       "      <th>HORA</th>\n",
       "      <th>DIA_SEMANA</th>\n",
       "      <th>DISTRITO</th>\n",
       "      <th>SEXO</th>\n",
       "      <th>EDAD_APROX</th>\n",
       "      <th>distrito_codigo</th>\n",
       "      <th>superficie_km2</th>\n",
       "      <th>densidad_por_km2</th>\n",
       "    </tr>\n",
       "  </thead>\n",
       "  <tbody>\n",
       "    <tr>\n",
       "      <th>0</th>\n",
       "      <td>0</td>\n",
       "      <td>6</td>\n",
       "      <td>CHAMARTIN</td>\n",
       "      <td>0</td>\n",
       "      <td>3</td>\n",
       "      <td>79605</td>\n",
       "      <td>9.12</td>\n",
       "      <td>15723.25</td>\n",
       "    </tr>\n",
       "    <tr>\n",
       "      <th>1</th>\n",
       "      <td>0</td>\n",
       "      <td>6</td>\n",
       "      <td>CHAMARTIN</td>\n",
       "      <td>0</td>\n",
       "      <td>9</td>\n",
       "      <td>79605</td>\n",
       "      <td>9.12</td>\n",
       "      <td>15723.25</td>\n",
       "    </tr>\n",
       "    <tr>\n",
       "      <th>2</th>\n",
       "      <td>0</td>\n",
       "      <td>6</td>\n",
       "      <td>CHAMARTIN</td>\n",
       "      <td>1</td>\n",
       "      <td>7</td>\n",
       "      <td>79605</td>\n",
       "      <td>9.12</td>\n",
       "      <td>15723.25</td>\n",
       "    </tr>\n",
       "    <tr>\n",
       "      <th>3</th>\n",
       "      <td>20</td>\n",
       "      <td>0</td>\n",
       "      <td>CHAMARTIN</td>\n",
       "      <td>2</td>\n",
       "      <td>14</td>\n",
       "      <td>79605</td>\n",
       "      <td>9.12</td>\n",
       "      <td>15723.25</td>\n",
       "    </tr>\n",
       "    <tr>\n",
       "      <th>4</th>\n",
       "      <td>20</td>\n",
       "      <td>0</td>\n",
       "      <td>CHAMARTIN</td>\n",
       "      <td>0</td>\n",
       "      <td>8</td>\n",
       "      <td>79605</td>\n",
       "      <td>9.12</td>\n",
       "      <td>15723.25</td>\n",
       "    </tr>\n",
       "    <tr>\n",
       "      <th>...</th>\n",
       "      <td>...</td>\n",
       "      <td>...</td>\n",
       "      <td>...</td>\n",
       "      <td>...</td>\n",
       "      <td>...</td>\n",
       "      <td>...</td>\n",
       "      <td>...</td>\n",
       "      <td>...</td>\n",
       "    </tr>\n",
       "    <tr>\n",
       "      <th>252993</th>\n",
       "      <td>16</td>\n",
       "      <td>0</td>\n",
       "      <td>CENTRO</td>\n",
       "      <td>0</td>\n",
       "      <td>9</td>\n",
       "      <td>79601</td>\n",
       "      <td>5.21</td>\n",
       "      <td>25340.69</td>\n",
       "    </tr>\n",
       "    <tr>\n",
       "      <th>252994</th>\n",
       "      <td>21</td>\n",
       "      <td>2</td>\n",
       "      <td>CENTRO</td>\n",
       "      <td>0</td>\n",
       "      <td>9</td>\n",
       "      <td>79601</td>\n",
       "      <td>5.21</td>\n",
       "      <td>25340.69</td>\n",
       "    </tr>\n",
       "    <tr>\n",
       "      <th>252995</th>\n",
       "      <td>21</td>\n",
       "      <td>2</td>\n",
       "      <td>CENTRO</td>\n",
       "      <td>0</td>\n",
       "      <td>5</td>\n",
       "      <td>79601</td>\n",
       "      <td>5.21</td>\n",
       "      <td>25340.69</td>\n",
       "    </tr>\n",
       "    <tr>\n",
       "      <th>252996</th>\n",
       "      <td>21</td>\n",
       "      <td>2</td>\n",
       "      <td>CENTRO</td>\n",
       "      <td>1</td>\n",
       "      <td>4</td>\n",
       "      <td>79601</td>\n",
       "      <td>5.21</td>\n",
       "      <td>25340.69</td>\n",
       "    </tr>\n",
       "    <tr>\n",
       "      <th>252997</th>\n",
       "      <td>21</td>\n",
       "      <td>2</td>\n",
       "      <td>CENTRO</td>\n",
       "      <td>1</td>\n",
       "      <td>4</td>\n",
       "      <td>79601</td>\n",
       "      <td>5.21</td>\n",
       "      <td>25340.69</td>\n",
       "    </tr>\n",
       "  </tbody>\n",
       "</table>\n",
       "<p>252998 rows × 8 columns</p>\n",
       "</div>"
      ],
      "text/plain": [
       "        HORA  DIA_SEMANA   DISTRITO  SEXO  EDAD_APROX  distrito_codigo  \\\n",
       "0          0           6  CHAMARTIN     0           3            79605   \n",
       "1          0           6  CHAMARTIN     0           9            79605   \n",
       "2          0           6  CHAMARTIN     1           7            79605   \n",
       "3         20           0  CHAMARTIN     2          14            79605   \n",
       "4         20           0  CHAMARTIN     0           8            79605   \n",
       "...      ...         ...        ...   ...         ...              ...   \n",
       "252993    16           0     CENTRO     0           9            79601   \n",
       "252994    21           2     CENTRO     0           9            79601   \n",
       "252995    21           2     CENTRO     0           5            79601   \n",
       "252996    21           2     CENTRO     1           4            79601   \n",
       "252997    21           2     CENTRO     1           4            79601   \n",
       "\n",
       "        superficie_km2  densidad_por_km2  \n",
       "0                 9.12          15723.25  \n",
       "1                 9.12          15723.25  \n",
       "2                 9.12          15723.25  \n",
       "3                 9.12          15723.25  \n",
       "4                 9.12          15723.25  \n",
       "...                ...               ...  \n",
       "252993            5.21          25340.69  \n",
       "252994            5.21          25340.69  \n",
       "252995            5.21          25340.69  \n",
       "252996            5.21          25340.69  \n",
       "252997            5.21          25340.69  \n",
       "\n",
       "[252998 rows x 8 columns]"
      ]
     },
     "execution_count": 156,
     "metadata": {},
     "output_type": "execute_result"
    }
   ],
   "source": [
    "from functools import reduce\n",
    "df_accs_join_dist = [df_accs_lab_ohe, df_distritos_lab]\n",
    "df_accs_join_dist = reduce(lambda left,right: pd.merge(left,right, on=['DISTRITO']), df_accs_join_dist)\n",
    "df_accs_join_dist"
   ]
  },
  {
   "cell_type": "code",
   "execution_count": 157,
   "metadata": {},
   "outputs": [
    {
     "data": {
      "text/plain": [
       "(252998, 8)"
      ]
     },
     "execution_count": 157,
     "metadata": {},
     "output_type": "execute_result"
    }
   ],
   "source": [
    "df_accs_join_dist.shape"
   ]
  },
  {
   "cell_type": "code",
   "execution_count": 158,
   "metadata": {},
   "outputs": [
    {
     "data": {
      "text/plain": [
       "Index(['HORA', 'DIA_SEMANA', 'DISTRITO', 'SEXO', 'EDAD_APROX',\n",
       "       'distrito_codigo', 'superficie_km2', 'densidad_por_km2'],\n",
       "      dtype='object')"
      ]
     },
     "execution_count": 158,
     "metadata": {},
     "output_type": "execute_result"
    }
   ],
   "source": [
    "df_accs_join_dist.columns"
   ]
  },
  {
   "cell_type": "code",
   "execution_count": 159,
   "metadata": {},
   "outputs": [],
   "source": [
    "df_accs_join_dist = df_accs_join_dist.rename(columns = {'distrito_codigo':'COD_DISTRITO'})\n",
    "df_accs_join_dist = df_accs_join_dist.rename(columns = {'superficie_km2':'SUP_KM2'})\n",
    "df_accs_join_dist = df_accs_join_dist.rename(columns = {'densidad_por_km2':'DENSIDAD_KM2'})"
   ]
  },
  {
   "cell_type": "code",
   "execution_count": 160,
   "metadata": {},
   "outputs": [
    {
     "data": {
      "text/plain": [
       "Index(['HORA', 'DIA_SEMANA', 'DISTRITO', 'SEXO', 'EDAD_APROX', 'COD_DISTRITO',\n",
       "       'SUP_KM2', 'DENSIDAD_KM2'],\n",
       "      dtype='object')"
      ]
     },
     "execution_count": 160,
     "metadata": {},
     "output_type": "execute_result"
    }
   ],
   "source": [
    "df_accs_join_dist.columns"
   ]
  },
  {
   "cell_type": "code",
   "execution_count": 161,
   "metadata": {},
   "outputs": [
    {
     "data": {
      "text/plain": [
       "array([79605, 79613, 79607, 79603, 79604, 79611, 79615, 79609, 79606,\n",
       "       79618, 79614, 79602, 79620, 79617, 79616, 79608, 79619, 79612,\n",
       "       79610, 79621, 79601])"
      ]
     },
     "execution_count": 161,
     "metadata": {},
     "output_type": "execute_result"
    }
   ],
   "source": [
    "df_accs_join_dist[\"COD_DISTRITO\"].unique()"
   ]
  },
  {
   "cell_type": "code",
   "execution_count": 162,
   "metadata": {},
   "outputs": [
    {
     "data": {
      "text/plain": [
       "array([  9.12,  14.84,   4.73,   5.42,   5.36,  14.1 ,  11.52,  46.47,\n",
       "         5.37,  51.49,   6.08,   6.52,  22.26,  20.21,  25.87, 238.  ,\n",
       "        35.36,   7.7 ,  25.47,  43.56,   5.21])"
      ]
     },
     "execution_count": 162,
     "metadata": {},
     "output_type": "execute_result"
    }
   ],
   "source": [
    "df_accs_join_dist[\"SUP_KM2\"].unique()"
   ]
  },
  {
   "cell_type": "code",
   "execution_count": 163,
   "metadata": {},
   "outputs": [
    {
     "data": {
      "text/plain": [
       "array([15723.25, 15345.01, 29049.26, 21867.53, 26830.78, 17316.88,\n",
       "       18455.56,  2515.26, 28664.25,  2026.82, 15493.59, 23306.44,\n",
       "        6934.37,  7059.13,  6973.33,  1003.  ,  1981.11, 17535.32,\n",
       "        9183.75,  1076.06, 25340.69])"
      ]
     },
     "execution_count": 163,
     "metadata": {},
     "output_type": "execute_result"
    }
   ],
   "source": [
    "df_accs_join_dist[\"DENSIDAD_KM2\"].unique()"
   ]
  },
  {
   "cell_type": "code",
   "execution_count": 164,
   "metadata": {},
   "outputs": [
    {
     "data": {
      "text/plain": [
       "Index(['HORA', 'DIA_SEMANA', 'DISTRITO', 'SEXO', 'EDAD_APROX', 'COD_DISTRITO',\n",
       "       'SUP_KM2', 'DENSIDAD_KM2'],\n",
       "      dtype='object')"
      ]
     },
     "execution_count": 164,
     "metadata": {},
     "output_type": "execute_result"
    }
   ],
   "source": [
    "df_accs_join_dist.columns"
   ]
  },
  {
   "cell_type": "code",
   "execution_count": 165,
   "metadata": {},
   "outputs": [],
   "source": [
    "df_inf_xa_dis = df_accs_join_dist.reset_index(drop=True).copy()"
   ]
  },
  {
   "cell_type": "code",
   "execution_count": 166,
   "metadata": {},
   "outputs": [
    {
     "data": {
      "text/plain": [
       "HORA              int64\n",
       "DIA_SEMANA        int64\n",
       "DISTRITO         object\n",
       "SEXO              int64\n",
       "EDAD_APROX        int64\n",
       "COD_DISTRITO      int64\n",
       "SUP_KM2         float64\n",
       "DENSIDAD_KM2    float64\n",
       "dtype: object"
      ]
     },
     "execution_count": 166,
     "metadata": {},
     "output_type": "execute_result"
    }
   ],
   "source": [
    "df_inf_xa_dis.dtypes"
   ]
  },
  {
   "cell_type": "code",
   "execution_count": 167,
   "metadata": {},
   "outputs": [],
   "source": [
    "# Convertir a object las columnas numéricas\n",
    "df_inf_xa_dis[\"COD_DISTRITO\"]=df_inf_xa_dis['COD_DISTRITO'].astype(np.str)\n",
    "df_inf_xa_dis[\"SUP_KM2\"]=df_inf_xa_dis['SUP_KM2'].astype(np.str)\n",
    "df_inf_xa_dis[\"DENSIDAD_KM2\"]=df_inf_xa_dis['DENSIDAD_KM2'].astype(np.str)"
   ]
  },
  {
   "cell_type": "code",
   "execution_count": 168,
   "metadata": {},
   "outputs": [
    {
     "data": {
      "text/plain": [
       "HORA             int64\n",
       "DIA_SEMANA       int64\n",
       "DISTRITO        object\n",
       "SEXO             int64\n",
       "EDAD_APROX       int64\n",
       "COD_DISTRITO    object\n",
       "SUP_KM2         object\n",
       "DENSIDAD_KM2    object\n",
       "dtype: object"
      ]
     },
     "execution_count": 168,
     "metadata": {},
     "output_type": "execute_result"
    }
   ],
   "source": [
    "df_inf_xa_dis.dtypes"
   ]
  },
  {
   "cell_type": "code",
   "execution_count": 169,
   "metadata": {},
   "outputs": [
    {
     "data": {
      "text/plain": [
       "Index(['HORA', 'DIA_SEMANA', 'DISTRITO', 'SEXO', 'EDAD_APROX', 'COD_DISTRITO',\n",
       "       'SUP_KM2', 'DENSIDAD_KM2'],\n",
       "      dtype='object')"
      ]
     },
     "execution_count": 169,
     "metadata": {},
     "output_type": "execute_result"
    }
   ],
   "source": [
    "df_inf_xa_dis.columns"
   ]
  },
  {
   "cell_type": "code",
   "execution_count": 170,
   "metadata": {},
   "outputs": [],
   "source": [
    "# Cargamos variables.\n",
    "X = np.array(df_inf_xa_dis.drop(['DISTRITO'],1))\n",
    "y = np.array(df_inf_xa_dis['DISTRITO'])\n",
    "X.shape\n",
    "\n",
    "\n",
    "# Train-test split\n",
    "# Load the library\n",
    "from sklearn.model_selection import train_test_split\n",
    "# Create 2 groups each with input and labels\n",
    "X_train, X_test, y_train, y_test = train_test_split(X, y, test_size=0.20)"
   ]
  },
  {
   "cell_type": "code",
   "execution_count": 171,
   "metadata": {},
   "outputs": [],
   "source": [
    "from sklearn.preprocessing import OneHotEncoder\n",
    "\n",
    "# Create the encoder.\n",
    "encoder = OneHotEncoder(handle_unknown=\"ignore\")\n",
    "# Assume for simplicity all features are categorical.\n",
    "encoder.fit(X_train)    \n",
    "\n",
    "# Apply the encoder.\n",
    "X_train = encoder.transform(X_train)\n",
    "X_test = encoder.transform(X_test)\n",
    "\n"
   ]
  },
  {
   "cell_type": "code",
   "execution_count": 172,
   "metadata": {},
   "outputs": [
    {
     "data": {
      "text/plain": [
       "(252998, 7)"
      ]
     },
     "execution_count": 172,
     "metadata": {},
     "output_type": "execute_result"
    }
   ],
   "source": [
    "X.shape"
   ]
  },
  {
   "cell_type": "code",
   "execution_count": 173,
   "metadata": {},
   "outputs": [
    {
     "data": {
      "text/plain": [
       "array([0, 6, 0, 3, '79605', '9.12', '15723.25'], dtype=object)"
      ]
     },
     "execution_count": 173,
     "metadata": {},
     "output_type": "execute_result"
    }
   ],
   "source": [
    "X[0]"
   ]
  },
  {
   "cell_type": "code",
   "execution_count": 174,
   "metadata": {},
   "outputs": [
    {
     "data": {
      "text/plain": [
       "<202398x112 sparse matrix of type '<class 'numpy.float64'>'\n",
       "\twith 1416786 stored elements in Compressed Sparse Row format>"
      ]
     },
     "execution_count": 174,
     "metadata": {},
     "output_type": "execute_result"
    }
   ],
   "source": [
    "X_train"
   ]
  },
  {
   "cell_type": "code",
   "execution_count": 175,
   "metadata": {},
   "outputs": [
    {
     "data": {
      "text/plain": [
       "<50600x112 sparse matrix of type '<class 'numpy.float64'>'\n",
       "\twith 354200 stored elements in Compressed Sparse Row format>"
      ]
     },
     "execution_count": 175,
     "metadata": {},
     "output_type": "execute_result"
    }
   ],
   "source": [
    "X_test"
   ]
  },
  {
   "cell_type": "markdown",
   "metadata": {},
   "source": [
    "### Regresión Logística con SKLearn (2)"
   ]
  },
  {
   "cell_type": "code",
   "execution_count": 176,
   "metadata": {},
   "outputs": [
    {
     "data": {
      "text/plain": [
       "LogisticRegression(C=1.0, class_weight=None, dual=False, fit_intercept=True,\n",
       "                   intercept_scaling=1, l1_ratio=None, max_iter=100,\n",
       "                   multi_class='auto', n_jobs=None, penalty='l2',\n",
       "                   random_state=None, solver='sag', tol=0.0001, verbose=0,\n",
       "                   warm_start=False)"
      ]
     },
     "execution_count": 176,
     "metadata": {},
     "output_type": "execute_result"
    }
   ],
   "source": [
    "# Creamos el Modelo de Regresión Logística y \n",
    "# hacemos que se ajuste (fit) a nuestro conjunto de entradas X y salidas ‘y’.\n",
    "from sklearn.linear_model.sag import sag_solver\n",
    "model_LOGREG = linear_model.LogisticRegression(multi_class='auto', solver='sag')\n",
    "model_LOGREG.fit(X_train,y_train)"
   ]
  },
  {
   "cell_type": "code",
   "execution_count": 177,
   "metadata": {},
   "outputs": [],
   "source": [
    "# Clasificamos todo nuestro conjunto de entradas X utilizando el método «predict(X)» para el modelo\n",
    "# y revisamos algunas de sus salidas para comprobar si coincide con las salidas reales de nuestro origen\n",
    "predictions_LOGREG = model_LOGREG.predict(X_test)"
   ]
  },
  {
   "cell_type": "code",
   "execution_count": 178,
   "metadata": {},
   "outputs": [
    {
     "name": "stdout",
     "output_type": "stream",
     "text": [
      "LATINA\n"
     ]
    }
   ],
   "source": [
    "print(predictions_LOGREG[22])"
   ]
  },
  {
   "cell_type": "code",
   "execution_count": 179,
   "metadata": {},
   "outputs": [
    {
     "data": {
      "text/plain": [
       "numpy.ndarray"
      ]
     },
     "execution_count": 179,
     "metadata": {},
     "output_type": "execute_result"
    }
   ],
   "source": [
    "type(predictions_LOGREG)"
   ]
  },
  {
   "cell_type": "code",
   "execution_count": 180,
   "metadata": {},
   "outputs": [
    {
     "data": {
      "text/plain": [
       "dtype('O')"
      ]
     },
     "execution_count": 180,
     "metadata": {},
     "output_type": "execute_result"
    }
   ],
   "source": [
    "predictions_LOGREG.dtype"
   ]
  },
  {
   "cell_type": "code",
   "execution_count": 181,
   "metadata": {},
   "outputs": [
    {
     "data": {
      "text/plain": [
       "(50600,)"
      ]
     },
     "execution_count": 181,
     "metadata": {},
     "output_type": "execute_result"
    }
   ],
   "source": [
    "predictions_LOGREG.shape"
   ]
  },
  {
   "cell_type": "code",
   "execution_count": 182,
   "metadata": {},
   "outputs": [
    {
     "name": "stdout",
     "output_type": "stream",
     "text": [
      "1.0\n"
     ]
    }
   ],
   "source": [
    "print(accuracy_score(y_test, predictions_LOGREG))"
   ]
  },
  {
   "cell_type": "code",
   "execution_count": 183,
   "metadata": {},
   "outputs": [
    {
     "data": {
      "text/plain": [
       "1.0"
      ]
     },
     "execution_count": 183,
     "metadata": {},
     "output_type": "execute_result"
    }
   ],
   "source": [
    "# Calidad de nuestro modelo, nos devuelve la precisión media de las predicciones\n",
    "model_LOGREG.score(X_test,y_test)"
   ]
  },
  {
   "cell_type": "code",
   "execution_count": 184,
   "metadata": {},
   "outputs": [
    {
     "data": {
      "text/plain": [
       "dtype('O')"
      ]
     },
     "execution_count": 184,
     "metadata": {},
     "output_type": "execute_result"
    }
   ],
   "source": [
    "y_test.dtype"
   ]
  },
  {
   "cell_type": "code",
   "execution_count": 185,
   "metadata": {},
   "outputs": [
    {
     "data": {
      "text/plain": [
       "50600"
      ]
     },
     "execution_count": 185,
     "metadata": {},
     "output_type": "execute_result"
    }
   ],
   "source": [
    "len(y_test)"
   ]
  },
  {
   "cell_type": "code",
   "execution_count": 186,
   "metadata": {},
   "outputs": [
    {
     "data": {
      "text/plain": [
       "(50600,)"
      ]
     },
     "execution_count": 186,
     "metadata": {},
     "output_type": "execute_result"
    }
   ],
   "source": [
    "y_test.shape"
   ]
  },
  {
   "cell_type": "code",
   "execution_count": 187,
   "metadata": {},
   "outputs": [
    {
     "data": {
      "text/plain": [
       "'LATINA'"
      ]
     },
     "execution_count": 187,
     "metadata": {},
     "output_type": "execute_result"
    }
   ],
   "source": [
    "y_test[22,]"
   ]
  },
  {
   "cell_type": "markdown",
   "metadata": {},
   "source": [
    "########################################################"
   ]
  },
  {
   "cell_type": "markdown",
   "metadata": {},
   "source": [
    "##########################################"
   ]
  },
  {
   "cell_type": "markdown",
   "metadata": {},
   "source": [
    "############################"
   ]
  },
  {
   "cell_type": "markdown",
   "metadata": {},
   "source": [
    "## VALIDAR MODELO"
   ]
  },
  {
   "cell_type": "code",
   "execution_count": 188,
   "metadata": {},
   "outputs": [
    {
     "data": {
      "text/plain": [
       "Index(['HORA', 'DIA_SEMANA', 'DISTRITO', 'SEXO', 'EDAD_APROX', 'COD_DISTRITO',\n",
       "       'SUP_KM2', 'DENSIDAD_KM2'],\n",
       "      dtype='object')"
      ]
     },
     "execution_count": 188,
     "metadata": {},
     "output_type": "execute_result"
    }
   ],
   "source": [
    "df_inf_xa_dis.columns"
   ]
  },
  {
   "cell_type": "code",
   "execution_count": 189,
   "metadata": {},
   "outputs": [
    {
     "data": {
      "text/plain": [
       "HORA             int64\n",
       "DIA_SEMANA       int64\n",
       "DISTRITO        object\n",
       "SEXO             int64\n",
       "EDAD_APROX       int64\n",
       "COD_DISTRITO    object\n",
       "SUP_KM2         object\n",
       "DENSIDAD_KM2    object\n",
       "dtype: object"
      ]
     },
     "execution_count": 189,
     "metadata": {},
     "output_type": "execute_result"
    }
   ],
   "source": [
    "df_inf_xa_dis.dtypes"
   ]
  },
  {
   "cell_type": "code",
   "execution_count": 190,
   "metadata": {},
   "outputs": [
    {
     "data": {
      "text/html": [
       "<div>\n",
       "<style scoped>\n",
       "    .dataframe tbody tr th:only-of-type {\n",
       "        vertical-align: middle;\n",
       "    }\n",
       "\n",
       "    .dataframe tbody tr th {\n",
       "        vertical-align: top;\n",
       "    }\n",
       "\n",
       "    .dataframe thead th {\n",
       "        text-align: right;\n",
       "    }\n",
       "</style>\n",
       "<table border=\"1\" class=\"dataframe\">\n",
       "  <thead>\n",
       "    <tr style=\"text-align: right;\">\n",
       "      <th></th>\n",
       "      <th>HORA</th>\n",
       "      <th>DIA_SEMANA</th>\n",
       "      <th>DISTRITO</th>\n",
       "      <th>SEXO</th>\n",
       "      <th>EDAD_APROX</th>\n",
       "      <th>COD_DISTRITO</th>\n",
       "      <th>SUP_KM2</th>\n",
       "      <th>DENSIDAD_KM2</th>\n",
       "    </tr>\n",
       "  </thead>\n",
       "  <tbody>\n",
       "    <tr>\n",
       "      <th>0</th>\n",
       "      <td>0</td>\n",
       "      <td>6</td>\n",
       "      <td>CHAMARTIN</td>\n",
       "      <td>0</td>\n",
       "      <td>3</td>\n",
       "      <td>79605</td>\n",
       "      <td>9.12</td>\n",
       "      <td>15723.25</td>\n",
       "    </tr>\n",
       "  </tbody>\n",
       "</table>\n",
       "</div>"
      ],
      "text/plain": [
       "   HORA  DIA_SEMANA   DISTRITO  SEXO  EDAD_APROX COD_DISTRITO SUP_KM2  \\\n",
       "0     0           6  CHAMARTIN     0           3        79605    9.12   \n",
       "\n",
       "  DENSIDAD_KM2  \n",
       "0     15723.25  "
      ]
     },
     "execution_count": 190,
     "metadata": {},
     "output_type": "execute_result"
    }
   ],
   "source": [
    "df_inf_xa_dis.head(1)"
   ]
  },
  {
   "cell_type": "code",
   "execution_count": 191,
   "metadata": {},
   "outputs": [
    {
     "name": "stdout",
     "output_type": "stream",
     "text": [
      "Logistic Regression: 1.000000 (0.000000)\n"
     ]
    }
   ],
   "source": [
    "# Volvemos a compilar nuestro modelo de Regresión Logística pero esta vez sólo con 80% \n",
    "# de los datos de entrada y calculamos el nuevo scoring\n",
    "name='Logistic Regression'\n",
    "kfold = model_selection.KFold(n_splits=10)\n",
    "cv_results = model_selection.cross_val_score(model_LOGREG, X_train, y_train, cv=kfold, \\\n",
    "                                             scoring='accuracy', error_score=np.nan, verbose=0)\n",
    "msg = \"%s: %f (%f)\" % (name, cv_results.mean(), cv_results.std())\n",
    "print(msg)"
   ]
  },
  {
   "cell_type": "code",
   "execution_count": 192,
   "metadata": {},
   "outputs": [
    {
     "name": "stdout",
     "output_type": "stream",
     "text": [
      "1.0\n"
     ]
    }
   ],
   "source": [
    "# Y ahora hacemos las predicciones (en realidad clasificación) utilizando nuestro «cross validation set»\n",
    "# es decir del subconjunto que habíamos apartado. \n",
    "# Aciertos: xxx %\n",
    "predictions_LOGREG = model_LOGREG.predict(X_test)\n",
    "print(accuracy_score(y_test, predictions_LOGREG))"
   ]
  },
  {
   "cell_type": "markdown",
   "metadata": {},
   "source": [
    "# Resultados del modelo"
   ]
  },
  {
   "cell_type": "code",
   "execution_count": 193,
   "metadata": {},
   "outputs": [
    {
     "name": "stdout",
     "output_type": "stream",
     "text": [
      "[[2693    0    0    0    0    0    0    0    0    0    0    0    0    0\n",
      "     0    0    0    0    0    0    0]\n",
      " [   0  667    0    0    0    0    0    0    0    0    0    0    0    0\n",
      "     0    0    0    0    0    0    0]\n",
      " [   0    0 3084    0    0    0    0    0    0    0    0    0    0    0\n",
      "     0    0    0    0    0    0    0]\n",
      " [   0    0    0 3582    0    0    0    0    0    0    0    0    0    0\n",
      "     0    0    0    0    0    0    0]\n",
      " [   0    0    0    0 3764    0    0    0    0    0    0    0    0    0\n",
      "     0    0    0    0    0    0    0]\n",
      " [   0    0    0    0    0 2942    0    0    0    0    0    0    0    0\n",
      "     0    0    0    0    0    0    0]\n",
      " [   0    0    0    0    0    0 3378    0    0    0    0    0    0    0\n",
      "     0    0    0    0    0    0    0]\n",
      " [   0    0    0    0    0    0    0 2801    0    0    0    0    0    0\n",
      "     0    0    0    0    0    0    0]\n",
      " [   0    0    0    0    0    0    0    0 1679    0    0    0    0    0\n",
      "     0    0    0    0    0    0    0]\n",
      " [   0    0    0    0    0    0    0    0    0 2470    0    0    0    0\n",
      "     0    0    0    0    0    0    0]\n",
      " [   0    0    0    0    0    0    0    0    0    0 2695    0    0    0\n",
      "     0    0    0    0    0    0    0]\n",
      " [   0    0    0    0    0    0    0    0    0    0    0 1265    0    0\n",
      "     0    0    0    0    0    0    0]\n",
      " [   0    0    0    0    0    0    0    0    0    0    0    0 3225    0\n",
      "     0    0    0    0    0    0    0]\n",
      " [   0    0    0    0    0    0    0    0    0    0    0    0    0 2653\n",
      "     0    0    0    0    0    0    0]\n",
      " [   0    0    0    0    0    0    0    0    0    0    0    0    0    0\n",
      "  3808    0    0    0    0    0    0]\n",
      " [   0    0    0    0    0    0    0    0    0    0    0    0    0    0\n",
      "     0 2375    0    0    0    0    0]\n",
      " [   0    0    0    0    0    0    0    0    0    0    0    0    0    0\n",
      "     0    0 2723    0    0    0    0]\n",
      " [   0    0    0    0    0    0    0    0    0    0    0    0    0    0\n",
      "     0    0    0 1699    0    0    0]\n",
      " [   0    0    0    0    0    0    0    0    0    0    0    0    0    0\n",
      "     0    0    0    0  637    0    0]\n",
      " [   0    0    0    0    0    0    0    0    0    0    0    0    0    0\n",
      "     0    0    0    0    0 1157    0]\n",
      " [   0    0    0    0    0    0    0    0    0    0    0    0    0    0\n",
      "     0    0    0    0    0    0 1303]]\n"
     ]
    }
   ],
   "source": [
    "## Matrix de confusión para los errores\n",
    "print(confusion_matrix(y_test, predictions_LOGREG))"
   ]
  },
  {
   "cell_type": "code",
   "execution_count": 194,
   "metadata": {},
   "outputs": [
    {
     "name": "stdout",
     "output_type": "stream",
     "text": [
      "                     precision    recall  f1-score   support\n",
      "\n",
      "         ARGANZUELA       1.00      1.00      1.00      2693\n",
      "            BARAJAS       1.00      1.00      1.00       667\n",
      "        CARABANCHEL       1.00      1.00      1.00      3084\n",
      "             CENTRO       1.00      1.00      1.00      3582\n",
      "          CHAMARTIN       1.00      1.00      1.00      3764\n",
      "           CHAMBERI       1.00      1.00      1.00      2942\n",
      "      CIUDAD LINEAL       1.00      1.00      1.00      3378\n",
      "FUENCARRAL-EL PARDO       1.00      1.00      1.00      2801\n",
      "          HORTALEZA       1.00      1.00      1.00      1679\n",
      "             LATINA       1.00      1.00      1.00      2470\n",
      "    MONCLOA-ARAVACA       1.00      1.00      1.00      2695\n",
      "          MORATALAZ       1.00      1.00      1.00      1265\n",
      " PUENTE DE VALLECAS       1.00      1.00      1.00      3225\n",
      "             RETIRO       1.00      1.00      1.00      2653\n",
      "          SALAMANCA       1.00      1.00      1.00      3808\n",
      "           SAN BLAS       1.00      1.00      1.00      2375\n",
      "             TETUAN       1.00      1.00      1.00      2723\n",
      "              USERA       1.00      1.00      1.00      1699\n",
      "          VICALVARO       1.00      1.00      1.00       637\n",
      "  VILLA DE VALLECAS       1.00      1.00      1.00      1157\n",
      "         VILLAVERDE       1.00      1.00      1.00      1303\n",
      "\n",
      "           accuracy                           1.00     50600\n",
      "          macro avg       1.00      1.00      1.00     50600\n",
      "       weighted avg       1.00      1.00      1.00     50600\n",
      "\n"
     ]
    }
   ],
   "source": [
    "## Informe de clasificación con nuestro conjunto de TEST\n",
    "# Observamos el promedio de F1-score\n",
    "print(classification_report(y_test, predictions_LOGREG))"
   ]
  },
  {
   "cell_type": "markdown",
   "metadata": {},
   "source": [
    "# Clasificación (o predicción) de nuevos valores"
   ]
  },
  {
   "cell_type": "code",
   "execution_count": 195,
   "metadata": {},
   "outputs": [
    {
     "data": {
      "text/plain": [
       "Index(['HORA', 'DIA_SEMANA', 'DISTRITO', 'SEXO', 'EDAD_APROX', 'COD_DISTRITO',\n",
       "       'SUP_KM2', 'DENSIDAD_KM2'],\n",
       "      dtype='object')"
      ]
     },
     "execution_count": 195,
     "metadata": {},
     "output_type": "execute_result"
    }
   ],
   "source": [
    "df_inf_xa_dis.columns"
   ]
  },
  {
   "cell_type": "code",
   "execution_count": 196,
   "metadata": {},
   "outputs": [
    {
     "data": {
      "text/html": [
       "<div>\n",
       "<style scoped>\n",
       "    .dataframe tbody tr th:only-of-type {\n",
       "        vertical-align: middle;\n",
       "    }\n",
       "\n",
       "    .dataframe tbody tr th {\n",
       "        vertical-align: top;\n",
       "    }\n",
       "\n",
       "    .dataframe thead th {\n",
       "        text-align: right;\n",
       "    }\n",
       "</style>\n",
       "<table border=\"1\" class=\"dataframe\">\n",
       "  <thead>\n",
       "    <tr style=\"text-align: right;\">\n",
       "      <th></th>\n",
       "      <th>HORA</th>\n",
       "      <th>DIA_SEMANA</th>\n",
       "      <th>DISTRITO</th>\n",
       "      <th>SEXO</th>\n",
       "      <th>EDAD_APROX</th>\n",
       "      <th>COD_DISTRITO</th>\n",
       "      <th>SUP_KM2</th>\n",
       "      <th>DENSIDAD_KM2</th>\n",
       "    </tr>\n",
       "  </thead>\n",
       "  <tbody>\n",
       "    <tr>\n",
       "      <th>0</th>\n",
       "      <td>0</td>\n",
       "      <td>6</td>\n",
       "      <td>CHAMARTIN</td>\n",
       "      <td>0</td>\n",
       "      <td>3</td>\n",
       "      <td>79605</td>\n",
       "      <td>9.12</td>\n",
       "      <td>15723.25</td>\n",
       "    </tr>\n",
       "  </tbody>\n",
       "</table>\n",
       "</div>"
      ],
      "text/plain": [
       "   HORA  DIA_SEMANA   DISTRITO  SEXO  EDAD_APROX COD_DISTRITO SUP_KM2  \\\n",
       "0     0           6  CHAMARTIN     0           3        79605    9.12   \n",
       "\n",
       "  DENSIDAD_KM2  \n",
       "0     15723.25  "
      ]
     },
     "execution_count": 196,
     "metadata": {},
     "output_type": "execute_result"
    }
   ],
   "source": [
    "df_inf_xa_dis.head(1)"
   ]
  },
  {
   "cell_type": "code",
   "execution_count": 197,
   "metadata": {},
   "outputs": [
    {
     "data": {
      "text/html": [
       "<div>\n",
       "<style scoped>\n",
       "    .dataframe tbody tr th:only-of-type {\n",
       "        vertical-align: middle;\n",
       "    }\n",
       "\n",
       "    .dataframe tbody tr th {\n",
       "        vertical-align: top;\n",
       "    }\n",
       "\n",
       "    .dataframe thead th {\n",
       "        text-align: right;\n",
       "    }\n",
       "</style>\n",
       "<table border=\"1\" class=\"dataframe\">\n",
       "  <thead>\n",
       "    <tr style=\"text-align: right;\">\n",
       "      <th></th>\n",
       "      <th>HORA</th>\n",
       "      <th>DIA_SEMANA</th>\n",
       "      <th>DISTRITO</th>\n",
       "      <th>SEXO</th>\n",
       "      <th>EDAD_APROX</th>\n",
       "    </tr>\n",
       "  </thead>\n",
       "  <tbody>\n",
       "    <tr>\n",
       "      <th>0</th>\n",
       "      <td>00:00</td>\n",
       "      <td>VIERNES</td>\n",
       "      <td>CHAMARTIN</td>\n",
       "      <td>HOMBRE</td>\n",
       "      <td>20</td>\n",
       "    </tr>\n",
       "  </tbody>\n",
       "</table>\n",
       "</div>"
      ],
      "text/plain": [
       "    HORA DIA_SEMANA   DISTRITO    SEXO EDAD_APROX\n",
       "0  00:00    VIERNES  CHAMARTIN  HOMBRE         20"
      ]
     },
     "execution_count": 197,
     "metadata": {},
     "output_type": "execute_result"
    }
   ],
   "source": [
    "df_accs.head(1)"
   ]
  },
  {
   "cell_type": "code",
   "execution_count": 198,
   "metadata": {},
   "outputs": [
    {
     "data": {
      "text/plain": [
       "array([[-10.64301169, -10.66986209, -10.64773175, ..., -10.6684907 ,\n",
       "        -10.65270041, -10.61979975],\n",
       "       [-11.33387414, -11.44059966, -11.36721187, ..., -11.41267309,\n",
       "        -11.41566054, -11.4028989 ],\n",
       "       [-11.06389777, -11.15268895, -11.14447348, ..., -11.22164778,\n",
       "        -11.20195934, -11.16119122],\n",
       "       ...,\n",
       "       [-11.33366026, -11.43696474, -11.30336588, ..., -11.28535085,\n",
       "        -11.35572894, -11.30563411],\n",
       "       [-10.27287178, -10.40498071, -10.31669916, ..., -10.36028286,\n",
       "        -10.36295916, -10.36774426],\n",
       "       [-11.34157128, -11.39666844, -11.3403273 , ..., -11.39247377,\n",
       "        -11.33011959, -11.38440605]])"
      ]
     },
     "execution_count": 198,
     "metadata": {},
     "output_type": "execute_result"
    }
   ],
   "source": [
    "model_LOGREG.predict_log_proba(X_test)"
   ]
  },
  {
   "cell_type": "code",
   "execution_count": 199,
   "metadata": {},
   "outputs": [
    {
     "data": {
      "text/plain": [
       "array([[-2.61651049e-04, -3.58300721e-03, -3.13242927e-03, ...,\n",
       "        -1.71041311e-01, -1.67786247e-01, -1.76201804e-01],\n",
       "       [-2.05709077e-02, -3.76279484e-02, -5.69193626e-03, ...,\n",
       "        -1.57726343e-01, -1.54028033e-01, -1.62057220e-01],\n",
       "       [ 2.38707639e-02,  2.38380203e-02,  6.06970841e-03, ...,\n",
       "        -1.70587013e-01, -1.67771537e-01, -1.76001390e-01],\n",
       "       ...,\n",
       "       [-2.76885816e-02,  3.61948540e-03,  5.65893525e-03, ...,\n",
       "        -1.59508306e-01, -1.56274528e-01, -1.64329441e-01],\n",
       "       [-5.31178537e-03, -7.64670639e-03, -8.26968297e-03, ...,\n",
       "        -1.63726774e-01, -1.60431729e-01, -1.68474466e-01],\n",
       "       [-8.63896846e-03, -4.44479802e-03, -9.88812328e-03, ...,\n",
       "        -1.64556413e-01,  3.31003991e+00, -1.69651720e-01]])"
      ]
     },
     "execution_count": 199,
     "metadata": {},
     "output_type": "execute_result"
    }
   ],
   "source": [
    "model_LOGREG.coef_"
   ]
  },
  {
   "cell_type": "code",
   "execution_count": 200,
   "metadata": {},
   "outputs": [
    {
     "data": {
      "text/plain": [
       "<bound method ClassifierMixin.score of LogisticRegression(C=1.0, class_weight=None, dual=False, fit_intercept=True,\n",
       "                   intercept_scaling=1, l1_ratio=None, max_iter=100,\n",
       "                   multi_class='auto', n_jobs=None, penalty='l2',\n",
       "                   random_state=None, solver='sag', tol=0.0001, verbose=0,\n",
       "                   warm_start=False)>"
      ]
     },
     "execution_count": 200,
     "metadata": {},
     "output_type": "execute_result"
    }
   ],
   "source": [
    "model_LOGREG.score"
   ]
  },
  {
   "cell_type": "code",
   "execution_count": 201,
   "metadata": {},
   "outputs": [
    {
     "data": {
      "text/plain": [
       "HORA             int64\n",
       "DIA_SEMANA       int64\n",
       "DISTRITO        object\n",
       "SEXO             int64\n",
       "EDAD_APROX       int64\n",
       "COD_DISTRITO    object\n",
       "SUP_KM2         object\n",
       "DENSIDAD_KM2    object\n",
       "dtype: object"
      ]
     },
     "execution_count": 201,
     "metadata": {},
     "output_type": "execute_result"
    }
   ],
   "source": [
    "df_inf_xa_dis.dtypes"
   ]
  },
  {
   "cell_type": "code",
   "execution_count": 202,
   "metadata": {},
   "outputs": [
    {
     "data": {
      "text/plain": [
       "'LATINA'"
      ]
     },
     "execution_count": 202,
     "metadata": {},
     "output_type": "execute_result"
    }
   ],
   "source": [
    "predictions_LOGREG[22]"
   ]
  },
  {
   "cell_type": "code",
   "execution_count": 203,
   "metadata": {},
   "outputs": [
    {
     "data": {
      "text/plain": [
       "'LATINA'"
      ]
     },
     "execution_count": 203,
     "metadata": {},
     "output_type": "execute_result"
    }
   ],
   "source": [
    "y_test[22]"
   ]
  },
  {
   "cell_type": "code",
   "execution_count": 204,
   "metadata": {},
   "outputs": [
    {
     "data": {
      "text/plain": [
       "array([[2.38670506e-05, 2.32347375e-05, 2.37546620e-05, ...,\n",
       "        2.32666234e-05, 2.36369259e-05, 2.44275309e-05],\n",
       "       [1.19608213e-05, 1.07500553e-05, 1.15686481e-05, ...,\n",
       "        1.10544987e-05, 1.10215232e-05, 1.11630772e-05],\n",
       "       [1.56678806e-05, 1.43366846e-05, 1.44549523e-05, ...,\n",
       "        1.33813612e-05, 1.36474299e-05, 1.42153070e-05],\n",
       "       ...,\n",
       "       [1.19633798e-05, 1.07892020e-05, 1.23313485e-05, ...,\n",
       "        1.25555112e-05, 1.17022557e-05, 1.23034098e-05],\n",
       "       [3.45579898e-05, 3.02812846e-05, 3.30761143e-05, ...,\n",
       "        3.16654979e-05, 3.15808651e-05, 3.14301083e-05],\n",
       "       [1.18691106e-05, 1.12328455e-05, 1.18838847e-05, ...,\n",
       "        1.12800625e-05, 1.20058132e-05, 1.13714350e-05]])"
      ]
     },
     "execution_count": 204,
     "metadata": {},
     "output_type": "execute_result"
    }
   ],
   "source": [
    "model_LOGREG.predict_proba(X_test)"
   ]
  },
  {
   "cell_type": "code",
   "execution_count": 205,
   "metadata": {},
   "outputs": [
    {
     "data": {
      "text/plain": [
       "array([2.32347375e-05, 1.07500553e-05, 1.43366846e-05, ...,\n",
       "       1.07892020e-05, 3.02812846e-05, 1.12328455e-05])"
      ]
     },
     "execution_count": 205,
     "metadata": {},
     "output_type": "execute_result"
    }
   ],
   "source": [
    "model_LOGREG.predict_proba(X_test)[:,1]"
   ]
  },
  {
   "cell_type": "code",
   "execution_count": 206,
   "metadata": {},
   "outputs": [
    {
     "data": {
      "text/plain": [
       "array([[-0.50902008, -0.53587049, -0.51374015, ..., -0.53449909,\n",
       "        -0.51870881, -0.48580814],\n",
       "       [-0.49126761, -0.59799313, -0.52460533, ..., -0.57006656,\n",
       "        -0.57305401, -0.56029237],\n",
       "       [-0.47494979, -0.56374097, -0.5555255 , ..., -0.6326998 ,\n",
       "        -0.61301136, -0.57224324],\n",
       "       ...,\n",
       "       [-0.56068384, -0.66398833, -0.53038946, ..., -0.51237444,\n",
       "        -0.58275253, -0.5326577 ],\n",
       "       [-0.44782794, -0.57993686, -0.49165531, ..., -0.53523902,\n",
       "        -0.53791531, -0.54270042],\n",
       "       [-0.53725061, -0.59234776, -0.53600663, ..., -0.58815309,\n",
       "        -0.52579892, -0.58008537]])"
      ]
     },
     "execution_count": 206,
     "metadata": {},
     "output_type": "execute_result"
    }
   ],
   "source": [
    "model_LOGREG.decision_function(X_test)"
   ]
  },
  {
   "cell_type": "code",
   "execution_count": 207,
   "metadata": {},
   "outputs": [
    {
     "data": {
      "text/plain": [
       "array(['ARGANZUELA', 'BARAJAS', 'CARABANCHEL', 'CENTRO', 'CHAMARTIN',\n",
       "       'CHAMBERI', 'CIUDAD LINEAL', 'FUENCARRAL-EL PARDO', 'HORTALEZA',\n",
       "       'LATINA', 'MONCLOA-ARAVACA', 'MORATALAZ', 'PUENTE DE VALLECAS',\n",
       "       'RETIRO', 'SALAMANCA', 'SAN BLAS', 'TETUAN', 'USERA', 'VICALVARO',\n",
       "       'VILLA DE VALLECAS', 'VILLAVERDE'], dtype=object)"
      ]
     },
     "execution_count": 207,
     "metadata": {},
     "output_type": "execute_result"
    }
   ],
   "source": [
    "model_LOGREG.classes_"
   ]
  },
  {
   "cell_type": "code",
   "execution_count": 208,
   "metadata": {},
   "outputs": [
    {
     "data": {
      "text/html": [
       "<div>\n",
       "<style scoped>\n",
       "    .dataframe tbody tr th:only-of-type {\n",
       "        vertical-align: middle;\n",
       "    }\n",
       "\n",
       "    .dataframe tbody tr th {\n",
       "        vertical-align: top;\n",
       "    }\n",
       "\n",
       "    .dataframe thead th {\n",
       "        text-align: right;\n",
       "    }\n",
       "</style>\n",
       "<table border=\"1\" class=\"dataframe\">\n",
       "  <thead>\n",
       "    <tr style=\"text-align: right;\">\n",
       "      <th></th>\n",
       "      <th>ARGANZUELA</th>\n",
       "      <th>BARAJAS</th>\n",
       "      <th>CARABANCHEL</th>\n",
       "      <th>CENTRO</th>\n",
       "      <th>CHAMARTIN</th>\n",
       "      <th>CHAMBERI</th>\n",
       "      <th>CIUDAD LINEAL</th>\n",
       "      <th>FUENCARRAL-EL PARDO</th>\n",
       "      <th>HORTALEZA</th>\n",
       "      <th>LATINA</th>\n",
       "      <th>MONCLOA-ARAVACA</th>\n",
       "      <th>MORATALAZ</th>\n",
       "      <th>PUENTE DE VALLECAS</th>\n",
       "      <th>RETIRO</th>\n",
       "      <th>SALAMANCA</th>\n",
       "      <th>SAN BLAS</th>\n",
       "      <th>TETUAN</th>\n",
       "      <th>USERA</th>\n",
       "      <th>VICALVARO</th>\n",
       "      <th>VILLA DE VALLECAS</th>\n",
       "      <th>VILLAVERDE</th>\n",
       "    </tr>\n",
       "  </thead>\n",
       "  <tbody>\n",
       "    <tr>\n",
       "      <th>0</th>\n",
       "      <td>0.000024</td>\n",
       "      <td>0.000023</td>\n",
       "      <td>0.000024</td>\n",
       "      <td>0.000024</td>\n",
       "      <td>0.000024</td>\n",
       "      <td>0.000024</td>\n",
       "      <td>0.000024</td>\n",
       "      <td>0.000024</td>\n",
       "      <td>0.999521</td>\n",
       "      <td>0.000024</td>\n",
       "      <td>0.000024</td>\n",
       "      <td>0.000024</td>\n",
       "      <td>0.000026</td>\n",
       "      <td>0.000024</td>\n",
       "      <td>0.000024</td>\n",
       "      <td>0.000024</td>\n",
       "      <td>0.000024</td>\n",
       "      <td>0.000024</td>\n",
       "      <td>0.000023</td>\n",
       "      <td>0.000024</td>\n",
       "      <td>0.000024</td>\n",
       "    </tr>\n",
       "    <tr>\n",
       "      <th>1</th>\n",
       "      <td>0.000012</td>\n",
       "      <td>0.000011</td>\n",
       "      <td>0.000012</td>\n",
       "      <td>0.000012</td>\n",
       "      <td>0.000012</td>\n",
       "      <td>0.000012</td>\n",
       "      <td>0.000012</td>\n",
       "      <td>0.000011</td>\n",
       "      <td>0.000011</td>\n",
       "      <td>0.000011</td>\n",
       "      <td>0.000011</td>\n",
       "      <td>0.000011</td>\n",
       "      <td>0.000011</td>\n",
       "      <td>0.000012</td>\n",
       "      <td>0.999772</td>\n",
       "      <td>0.000011</td>\n",
       "      <td>0.000012</td>\n",
       "      <td>0.000011</td>\n",
       "      <td>0.000011</td>\n",
       "      <td>0.000011</td>\n",
       "      <td>0.000011</td>\n",
       "    </tr>\n",
       "    <tr>\n",
       "      <th>2</th>\n",
       "      <td>0.000016</td>\n",
       "      <td>0.000014</td>\n",
       "      <td>0.000014</td>\n",
       "      <td>0.000016</td>\n",
       "      <td>0.000016</td>\n",
       "      <td>0.999703</td>\n",
       "      <td>0.000015</td>\n",
       "      <td>0.000015</td>\n",
       "      <td>0.000014</td>\n",
       "      <td>0.000014</td>\n",
       "      <td>0.000015</td>\n",
       "      <td>0.000014</td>\n",
       "      <td>0.000015</td>\n",
       "      <td>0.000016</td>\n",
       "      <td>0.000016</td>\n",
       "      <td>0.000014</td>\n",
       "      <td>0.000016</td>\n",
       "      <td>0.000014</td>\n",
       "      <td>0.000013</td>\n",
       "      <td>0.000014</td>\n",
       "      <td>0.000014</td>\n",
       "    </tr>\n",
       "    <tr>\n",
       "      <th>3</th>\n",
       "      <td>0.000014</td>\n",
       "      <td>0.000014</td>\n",
       "      <td>0.999720</td>\n",
       "      <td>0.000014</td>\n",
       "      <td>0.000014</td>\n",
       "      <td>0.000014</td>\n",
       "      <td>0.000015</td>\n",
       "      <td>0.000014</td>\n",
       "      <td>0.000015</td>\n",
       "      <td>0.000014</td>\n",
       "      <td>0.000014</td>\n",
       "      <td>0.000014</td>\n",
       "      <td>0.000015</td>\n",
       "      <td>0.000014</td>\n",
       "      <td>0.000014</td>\n",
       "      <td>0.000015</td>\n",
       "      <td>0.000014</td>\n",
       "      <td>0.000014</td>\n",
       "      <td>0.000013</td>\n",
       "      <td>0.000014</td>\n",
       "      <td>0.000014</td>\n",
       "    </tr>\n",
       "    <tr>\n",
       "      <th>4</th>\n",
       "      <td>0.000032</td>\n",
       "      <td>0.000029</td>\n",
       "      <td>0.000033</td>\n",
       "      <td>0.000032</td>\n",
       "      <td>0.000033</td>\n",
       "      <td>0.000034</td>\n",
       "      <td>0.000033</td>\n",
       "      <td>0.000032</td>\n",
       "      <td>0.000033</td>\n",
       "      <td>0.000033</td>\n",
       "      <td>0.000032</td>\n",
       "      <td>0.999355</td>\n",
       "      <td>0.000033</td>\n",
       "      <td>0.000031</td>\n",
       "      <td>0.000033</td>\n",
       "      <td>0.000032</td>\n",
       "      <td>0.000034</td>\n",
       "      <td>0.000032</td>\n",
       "      <td>0.000030</td>\n",
       "      <td>0.000031</td>\n",
       "      <td>0.000032</td>\n",
       "    </tr>\n",
       "    <tr>\n",
       "      <th>...</th>\n",
       "      <td>...</td>\n",
       "      <td>...</td>\n",
       "      <td>...</td>\n",
       "      <td>...</td>\n",
       "      <td>...</td>\n",
       "      <td>...</td>\n",
       "      <td>...</td>\n",
       "      <td>...</td>\n",
       "      <td>...</td>\n",
       "      <td>...</td>\n",
       "      <td>...</td>\n",
       "      <td>...</td>\n",
       "      <td>...</td>\n",
       "      <td>...</td>\n",
       "      <td>...</td>\n",
       "      <td>...</td>\n",
       "      <td>...</td>\n",
       "      <td>...</td>\n",
       "      <td>...</td>\n",
       "      <td>...</td>\n",
       "      <td>...</td>\n",
       "    </tr>\n",
       "    <tr>\n",
       "      <th>50595</th>\n",
       "      <td>0.000015</td>\n",
       "      <td>0.000015</td>\n",
       "      <td>0.000016</td>\n",
       "      <td>0.000017</td>\n",
       "      <td>0.000017</td>\n",
       "      <td>0.000017</td>\n",
       "      <td>0.000017</td>\n",
       "      <td>0.000017</td>\n",
       "      <td>0.000016</td>\n",
       "      <td>0.000016</td>\n",
       "      <td>0.000017</td>\n",
       "      <td>0.000016</td>\n",
       "      <td>0.000017</td>\n",
       "      <td>0.999676</td>\n",
       "      <td>0.000016</td>\n",
       "      <td>0.000017</td>\n",
       "      <td>0.000016</td>\n",
       "      <td>0.000016</td>\n",
       "      <td>0.000016</td>\n",
       "      <td>0.000016</td>\n",
       "      <td>0.000016</td>\n",
       "    </tr>\n",
       "    <tr>\n",
       "      <th>50596</th>\n",
       "      <td>0.999653</td>\n",
       "      <td>0.000015</td>\n",
       "      <td>0.000019</td>\n",
       "      <td>0.000018</td>\n",
       "      <td>0.000017</td>\n",
       "      <td>0.000018</td>\n",
       "      <td>0.000018</td>\n",
       "      <td>0.000018</td>\n",
       "      <td>0.000017</td>\n",
       "      <td>0.000018</td>\n",
       "      <td>0.000018</td>\n",
       "      <td>0.000017</td>\n",
       "      <td>0.000018</td>\n",
       "      <td>0.000017</td>\n",
       "      <td>0.000017</td>\n",
       "      <td>0.000018</td>\n",
       "      <td>0.000017</td>\n",
       "      <td>0.000018</td>\n",
       "      <td>0.000016</td>\n",
       "      <td>0.000017</td>\n",
       "      <td>0.000017</td>\n",
       "    </tr>\n",
       "    <tr>\n",
       "      <th>50597</th>\n",
       "      <td>0.000012</td>\n",
       "      <td>0.000011</td>\n",
       "      <td>0.000012</td>\n",
       "      <td>0.000012</td>\n",
       "      <td>0.000012</td>\n",
       "      <td>0.000013</td>\n",
       "      <td>0.000013</td>\n",
       "      <td>0.000013</td>\n",
       "      <td>0.000012</td>\n",
       "      <td>0.000013</td>\n",
       "      <td>0.000011</td>\n",
       "      <td>0.000012</td>\n",
       "      <td>0.000013</td>\n",
       "      <td>0.000012</td>\n",
       "      <td>0.999755</td>\n",
       "      <td>0.000012</td>\n",
       "      <td>0.000012</td>\n",
       "      <td>0.000012</td>\n",
       "      <td>0.000013</td>\n",
       "      <td>0.000012</td>\n",
       "      <td>0.000012</td>\n",
       "    </tr>\n",
       "    <tr>\n",
       "      <th>50598</th>\n",
       "      <td>0.000035</td>\n",
       "      <td>0.000030</td>\n",
       "      <td>0.000033</td>\n",
       "      <td>0.000035</td>\n",
       "      <td>0.000034</td>\n",
       "      <td>0.000034</td>\n",
       "      <td>0.000033</td>\n",
       "      <td>0.000032</td>\n",
       "      <td>0.000033</td>\n",
       "      <td>0.000032</td>\n",
       "      <td>0.000034</td>\n",
       "      <td>0.999338</td>\n",
       "      <td>0.000033</td>\n",
       "      <td>0.000034</td>\n",
       "      <td>0.000035</td>\n",
       "      <td>0.000033</td>\n",
       "      <td>0.000036</td>\n",
       "      <td>0.000032</td>\n",
       "      <td>0.000032</td>\n",
       "      <td>0.000032</td>\n",
       "      <td>0.000031</td>\n",
       "    </tr>\n",
       "    <tr>\n",
       "      <th>50599</th>\n",
       "      <td>0.000012</td>\n",
       "      <td>0.000011</td>\n",
       "      <td>0.000012</td>\n",
       "      <td>0.000012</td>\n",
       "      <td>0.000012</td>\n",
       "      <td>0.000012</td>\n",
       "      <td>0.000012</td>\n",
       "      <td>0.000012</td>\n",
       "      <td>0.000012</td>\n",
       "      <td>0.000012</td>\n",
       "      <td>0.000012</td>\n",
       "      <td>0.000011</td>\n",
       "      <td>0.000012</td>\n",
       "      <td>0.000012</td>\n",
       "      <td>0.999763</td>\n",
       "      <td>0.000012</td>\n",
       "      <td>0.000012</td>\n",
       "      <td>0.000012</td>\n",
       "      <td>0.000011</td>\n",
       "      <td>0.000012</td>\n",
       "      <td>0.000011</td>\n",
       "    </tr>\n",
       "  </tbody>\n",
       "</table>\n",
       "<p>50600 rows × 21 columns</p>\n",
       "</div>"
      ],
      "text/plain": [
       "       ARGANZUELA   BARAJAS  CARABANCHEL    CENTRO  CHAMARTIN  CHAMBERI  \\\n",
       "0        0.000024  0.000023     0.000024  0.000024   0.000024  0.000024   \n",
       "1        0.000012  0.000011     0.000012  0.000012   0.000012  0.000012   \n",
       "2        0.000016  0.000014     0.000014  0.000016   0.000016  0.999703   \n",
       "3        0.000014  0.000014     0.999720  0.000014   0.000014  0.000014   \n",
       "4        0.000032  0.000029     0.000033  0.000032   0.000033  0.000034   \n",
       "...           ...       ...          ...       ...        ...       ...   \n",
       "50595    0.000015  0.000015     0.000016  0.000017   0.000017  0.000017   \n",
       "50596    0.999653  0.000015     0.000019  0.000018   0.000017  0.000018   \n",
       "50597    0.000012  0.000011     0.000012  0.000012   0.000012  0.000013   \n",
       "50598    0.000035  0.000030     0.000033  0.000035   0.000034  0.000034   \n",
       "50599    0.000012  0.000011     0.000012  0.000012   0.000012  0.000012   \n",
       "\n",
       "       CIUDAD LINEAL  FUENCARRAL-EL PARDO  HORTALEZA    LATINA  \\\n",
       "0           0.000024             0.000024   0.999521  0.000024   \n",
       "1           0.000012             0.000011   0.000011  0.000011   \n",
       "2           0.000015             0.000015   0.000014  0.000014   \n",
       "3           0.000015             0.000014   0.000015  0.000014   \n",
       "4           0.000033             0.000032   0.000033  0.000033   \n",
       "...              ...                  ...        ...       ...   \n",
       "50595       0.000017             0.000017   0.000016  0.000016   \n",
       "50596       0.000018             0.000018   0.000017  0.000018   \n",
       "50597       0.000013             0.000013   0.000012  0.000013   \n",
       "50598       0.000033             0.000032   0.000033  0.000032   \n",
       "50599       0.000012             0.000012   0.000012  0.000012   \n",
       "\n",
       "       MONCLOA-ARAVACA  MORATALAZ  PUENTE DE VALLECAS    RETIRO  SALAMANCA  \\\n",
       "0             0.000024   0.000024            0.000026  0.000024   0.000024   \n",
       "1             0.000011   0.000011            0.000011  0.000012   0.999772   \n",
       "2             0.000015   0.000014            0.000015  0.000016   0.000016   \n",
       "3             0.000014   0.000014            0.000015  0.000014   0.000014   \n",
       "4             0.000032   0.999355            0.000033  0.000031   0.000033   \n",
       "...                ...        ...                 ...       ...        ...   \n",
       "50595         0.000017   0.000016            0.000017  0.999676   0.000016   \n",
       "50596         0.000018   0.000017            0.000018  0.000017   0.000017   \n",
       "50597         0.000011   0.000012            0.000013  0.000012   0.999755   \n",
       "50598         0.000034   0.999338            0.000033  0.000034   0.000035   \n",
       "50599         0.000012   0.000011            0.000012  0.000012   0.999763   \n",
       "\n",
       "       SAN BLAS    TETUAN     USERA  VICALVARO  VILLA DE VALLECAS  VILLAVERDE  \n",
       "0      0.000024  0.000024  0.000024   0.000023           0.000024    0.000024  \n",
       "1      0.000011  0.000012  0.000011   0.000011           0.000011    0.000011  \n",
       "2      0.000014  0.000016  0.000014   0.000013           0.000014    0.000014  \n",
       "3      0.000015  0.000014  0.000014   0.000013           0.000014    0.000014  \n",
       "4      0.000032  0.000034  0.000032   0.000030           0.000031    0.000032  \n",
       "...         ...       ...       ...        ...                ...         ...  \n",
       "50595  0.000017  0.000016  0.000016   0.000016           0.000016    0.000016  \n",
       "50596  0.000018  0.000017  0.000018   0.000016           0.000017    0.000017  \n",
       "50597  0.000012  0.000012  0.000012   0.000013           0.000012    0.000012  \n",
       "50598  0.000033  0.000036  0.000032   0.000032           0.000032    0.000031  \n",
       "50599  0.000012  0.000012  0.000012   0.000011           0.000012    0.000011  \n",
       "\n",
       "[50600 rows x 21 columns]"
      ]
     },
     "execution_count": 208,
     "metadata": {},
     "output_type": "execute_result"
    }
   ],
   "source": [
    "pd.DataFrame(model_LOGREG.predict_proba(X_test), columns=model_LOGREG.classes_)"
   ]
  },
  {
   "cell_type": "code",
   "execution_count": 209,
   "metadata": {},
   "outputs": [
    {
     "data": {
      "text/html": [
       "<div>\n",
       "<style scoped>\n",
       "    .dataframe tbody tr th:only-of-type {\n",
       "        vertical-align: middle;\n",
       "    }\n",
       "\n",
       "    .dataframe tbody tr th {\n",
       "        vertical-align: top;\n",
       "    }\n",
       "\n",
       "    .dataframe thead th {\n",
       "        text-align: right;\n",
       "    }\n",
       "</style>\n",
       "<table border=\"1\" class=\"dataframe\">\n",
       "  <thead>\n",
       "    <tr style=\"text-align: right;\">\n",
       "      <th></th>\n",
       "      <th>ARGANZUELA</th>\n",
       "      <th>BARAJAS</th>\n",
       "      <th>CARABANCHEL</th>\n",
       "      <th>CENTRO</th>\n",
       "      <th>CHAMARTIN</th>\n",
       "      <th>CHAMBERI</th>\n",
       "      <th>CIUDAD LINEAL</th>\n",
       "      <th>FUENCARRAL-EL PARDO</th>\n",
       "      <th>HORTALEZA</th>\n",
       "      <th>LATINA</th>\n",
       "      <th>MONCLOA-ARAVACA</th>\n",
       "      <th>MORATALAZ</th>\n",
       "      <th>PUENTE DE VALLECAS</th>\n",
       "      <th>RETIRO</th>\n",
       "      <th>SALAMANCA</th>\n",
       "      <th>SAN BLAS</th>\n",
       "      <th>TETUAN</th>\n",
       "      <th>USERA</th>\n",
       "      <th>VICALVARO</th>\n",
       "      <th>VILLA DE VALLECAS</th>\n",
       "      <th>VILLAVERDE</th>\n",
       "    </tr>\n",
       "  </thead>\n",
       "  <tbody>\n",
       "    <tr>\n",
       "      <th>0</th>\n",
       "      <td>0.000024</td>\n",
       "      <td>0.000023</td>\n",
       "      <td>0.000024</td>\n",
       "      <td>0.000024</td>\n",
       "      <td>0.000024</td>\n",
       "      <td>0.000024</td>\n",
       "      <td>0.000024</td>\n",
       "      <td>0.000024</td>\n",
       "      <td>0.999521</td>\n",
       "      <td>0.000024</td>\n",
       "      <td>0.000024</td>\n",
       "      <td>0.000024</td>\n",
       "      <td>0.000026</td>\n",
       "      <td>0.000024</td>\n",
       "      <td>0.000024</td>\n",
       "      <td>0.000024</td>\n",
       "      <td>0.000024</td>\n",
       "      <td>0.000024</td>\n",
       "      <td>0.000023</td>\n",
       "      <td>0.000024</td>\n",
       "      <td>0.000024</td>\n",
       "    </tr>\n",
       "    <tr>\n",
       "      <th>1</th>\n",
       "      <td>0.000012</td>\n",
       "      <td>0.000011</td>\n",
       "      <td>0.000012</td>\n",
       "      <td>0.000012</td>\n",
       "      <td>0.000012</td>\n",
       "      <td>0.000012</td>\n",
       "      <td>0.000012</td>\n",
       "      <td>0.000011</td>\n",
       "      <td>0.000011</td>\n",
       "      <td>0.000011</td>\n",
       "      <td>0.000011</td>\n",
       "      <td>0.000011</td>\n",
       "      <td>0.000011</td>\n",
       "      <td>0.000012</td>\n",
       "      <td>0.999772</td>\n",
       "      <td>0.000011</td>\n",
       "      <td>0.000012</td>\n",
       "      <td>0.000011</td>\n",
       "      <td>0.000011</td>\n",
       "      <td>0.000011</td>\n",
       "      <td>0.000011</td>\n",
       "    </tr>\n",
       "    <tr>\n",
       "      <th>2</th>\n",
       "      <td>0.000016</td>\n",
       "      <td>0.000014</td>\n",
       "      <td>0.000014</td>\n",
       "      <td>0.000016</td>\n",
       "      <td>0.000016</td>\n",
       "      <td>0.999703</td>\n",
       "      <td>0.000015</td>\n",
       "      <td>0.000015</td>\n",
       "      <td>0.000014</td>\n",
       "      <td>0.000014</td>\n",
       "      <td>0.000015</td>\n",
       "      <td>0.000014</td>\n",
       "      <td>0.000015</td>\n",
       "      <td>0.000016</td>\n",
       "      <td>0.000016</td>\n",
       "      <td>0.000014</td>\n",
       "      <td>0.000016</td>\n",
       "      <td>0.000014</td>\n",
       "      <td>0.000013</td>\n",
       "      <td>0.000014</td>\n",
       "      <td>0.000014</td>\n",
       "    </tr>\n",
       "    <tr>\n",
       "      <th>3</th>\n",
       "      <td>0.000014</td>\n",
       "      <td>0.000014</td>\n",
       "      <td>0.999720</td>\n",
       "      <td>0.000014</td>\n",
       "      <td>0.000014</td>\n",
       "      <td>0.000014</td>\n",
       "      <td>0.000015</td>\n",
       "      <td>0.000014</td>\n",
       "      <td>0.000015</td>\n",
       "      <td>0.000014</td>\n",
       "      <td>0.000014</td>\n",
       "      <td>0.000014</td>\n",
       "      <td>0.000015</td>\n",
       "      <td>0.000014</td>\n",
       "      <td>0.000014</td>\n",
       "      <td>0.000015</td>\n",
       "      <td>0.000014</td>\n",
       "      <td>0.000014</td>\n",
       "      <td>0.000013</td>\n",
       "      <td>0.000014</td>\n",
       "      <td>0.000014</td>\n",
       "    </tr>\n",
       "    <tr>\n",
       "      <th>4</th>\n",
       "      <td>0.000032</td>\n",
       "      <td>0.000029</td>\n",
       "      <td>0.000033</td>\n",
       "      <td>0.000032</td>\n",
       "      <td>0.000033</td>\n",
       "      <td>0.000034</td>\n",
       "      <td>0.000033</td>\n",
       "      <td>0.000032</td>\n",
       "      <td>0.000033</td>\n",
       "      <td>0.000033</td>\n",
       "      <td>0.000032</td>\n",
       "      <td>0.999355</td>\n",
       "      <td>0.000033</td>\n",
       "      <td>0.000031</td>\n",
       "      <td>0.000033</td>\n",
       "      <td>0.000032</td>\n",
       "      <td>0.000034</td>\n",
       "      <td>0.000032</td>\n",
       "      <td>0.000030</td>\n",
       "      <td>0.000031</td>\n",
       "      <td>0.000032</td>\n",
       "    </tr>\n",
       "  </tbody>\n",
       "</table>\n",
       "</div>"
      ],
      "text/plain": [
       "   ARGANZUELA   BARAJAS  CARABANCHEL    CENTRO  CHAMARTIN  CHAMBERI  \\\n",
       "0    0.000024  0.000023     0.000024  0.000024   0.000024  0.000024   \n",
       "1    0.000012  0.000011     0.000012  0.000012   0.000012  0.000012   \n",
       "2    0.000016  0.000014     0.000014  0.000016   0.000016  0.999703   \n",
       "3    0.000014  0.000014     0.999720  0.000014   0.000014  0.000014   \n",
       "4    0.000032  0.000029     0.000033  0.000032   0.000033  0.000034   \n",
       "\n",
       "   CIUDAD LINEAL  FUENCARRAL-EL PARDO  HORTALEZA    LATINA  MONCLOA-ARAVACA  \\\n",
       "0       0.000024             0.000024   0.999521  0.000024         0.000024   \n",
       "1       0.000012             0.000011   0.000011  0.000011         0.000011   \n",
       "2       0.000015             0.000015   0.000014  0.000014         0.000015   \n",
       "3       0.000015             0.000014   0.000015  0.000014         0.000014   \n",
       "4       0.000033             0.000032   0.000033  0.000033         0.000032   \n",
       "\n",
       "   MORATALAZ  PUENTE DE VALLECAS    RETIRO  SALAMANCA  SAN BLAS    TETUAN  \\\n",
       "0   0.000024            0.000026  0.000024   0.000024  0.000024  0.000024   \n",
       "1   0.000011            0.000011  0.000012   0.999772  0.000011  0.000012   \n",
       "2   0.000014            0.000015  0.000016   0.000016  0.000014  0.000016   \n",
       "3   0.000014            0.000015  0.000014   0.000014  0.000015  0.000014   \n",
       "4   0.999355            0.000033  0.000031   0.000033  0.000032  0.000034   \n",
       "\n",
       "      USERA  VICALVARO  VILLA DE VALLECAS  VILLAVERDE  \n",
       "0  0.000024   0.000023           0.000024    0.000024  \n",
       "1  0.000011   0.000011           0.000011    0.000011  \n",
       "2  0.000014   0.000013           0.000014    0.000014  \n",
       "3  0.000014   0.000013           0.000014    0.000014  \n",
       "4  0.000032   0.000030           0.000031    0.000032  "
      ]
     },
     "execution_count": 209,
     "metadata": {},
     "output_type": "execute_result"
    }
   ],
   "source": [
    "pd.DataFrame(model_LOGREG.predict_proba(X_test), columns=model_LOGREG.classes_).head(5)"
   ]
  },
  {
   "cell_type": "code",
   "execution_count": 210,
   "metadata": {},
   "outputs": [
    {
     "data": {
      "text/html": [
       "<div>\n",
       "<style scoped>\n",
       "    .dataframe tbody tr th:only-of-type {\n",
       "        vertical-align: middle;\n",
       "    }\n",
       "\n",
       "    .dataframe tbody tr th {\n",
       "        vertical-align: top;\n",
       "    }\n",
       "\n",
       "    .dataframe thead th {\n",
       "        text-align: right;\n",
       "    }\n",
       "</style>\n",
       "<table border=\"1\" class=\"dataframe\">\n",
       "  <thead>\n",
       "    <tr style=\"text-align: right;\">\n",
       "      <th></th>\n",
       "      <th>0</th>\n",
       "      <th>1</th>\n",
       "      <th>2</th>\n",
       "      <th>3</th>\n",
       "      <th>4</th>\n",
       "      <th>5</th>\n",
       "      <th>6</th>\n",
       "      <th>7</th>\n",
       "      <th>8</th>\n",
       "      <th>9</th>\n",
       "      <th>10</th>\n",
       "      <th>11</th>\n",
       "      <th>12</th>\n",
       "      <th>13</th>\n",
       "      <th>14</th>\n",
       "      <th>15</th>\n",
       "      <th>16</th>\n",
       "      <th>17</th>\n",
       "      <th>18</th>\n",
       "      <th>19</th>\n",
       "      <th>20</th>\n",
       "    </tr>\n",
       "  </thead>\n",
       "  <tbody>\n",
       "    <tr>\n",
       "      <th>0</th>\n",
       "      <td>0.000024</td>\n",
       "      <td>0.000023</td>\n",
       "      <td>0.000024</td>\n",
       "      <td>0.000024</td>\n",
       "      <td>0.000024</td>\n",
       "      <td>0.000024</td>\n",
       "      <td>0.000024</td>\n",
       "      <td>0.000024</td>\n",
       "      <td>0.999521</td>\n",
       "      <td>0.000024</td>\n",
       "      <td>0.000024</td>\n",
       "      <td>0.000024</td>\n",
       "      <td>0.000026</td>\n",
       "      <td>0.000024</td>\n",
       "      <td>0.000024</td>\n",
       "      <td>0.000024</td>\n",
       "      <td>0.000024</td>\n",
       "      <td>0.000024</td>\n",
       "      <td>0.000023</td>\n",
       "      <td>0.000024</td>\n",
       "      <td>0.000024</td>\n",
       "    </tr>\n",
       "    <tr>\n",
       "      <th>1</th>\n",
       "      <td>0.000012</td>\n",
       "      <td>0.000011</td>\n",
       "      <td>0.000012</td>\n",
       "      <td>0.000012</td>\n",
       "      <td>0.000012</td>\n",
       "      <td>0.000012</td>\n",
       "      <td>0.000012</td>\n",
       "      <td>0.000011</td>\n",
       "      <td>0.000011</td>\n",
       "      <td>0.000011</td>\n",
       "      <td>0.000011</td>\n",
       "      <td>0.000011</td>\n",
       "      <td>0.000011</td>\n",
       "      <td>0.000012</td>\n",
       "      <td>0.999772</td>\n",
       "      <td>0.000011</td>\n",
       "      <td>0.000012</td>\n",
       "      <td>0.000011</td>\n",
       "      <td>0.000011</td>\n",
       "      <td>0.000011</td>\n",
       "      <td>0.000011</td>\n",
       "    </tr>\n",
       "    <tr>\n",
       "      <th>2</th>\n",
       "      <td>0.000016</td>\n",
       "      <td>0.000014</td>\n",
       "      <td>0.000014</td>\n",
       "      <td>0.000016</td>\n",
       "      <td>0.000016</td>\n",
       "      <td>0.999703</td>\n",
       "      <td>0.000015</td>\n",
       "      <td>0.000015</td>\n",
       "      <td>0.000014</td>\n",
       "      <td>0.000014</td>\n",
       "      <td>0.000015</td>\n",
       "      <td>0.000014</td>\n",
       "      <td>0.000015</td>\n",
       "      <td>0.000016</td>\n",
       "      <td>0.000016</td>\n",
       "      <td>0.000014</td>\n",
       "      <td>0.000016</td>\n",
       "      <td>0.000014</td>\n",
       "      <td>0.000013</td>\n",
       "      <td>0.000014</td>\n",
       "      <td>0.000014</td>\n",
       "    </tr>\n",
       "    <tr>\n",
       "      <th>3</th>\n",
       "      <td>0.000014</td>\n",
       "      <td>0.000014</td>\n",
       "      <td>0.999720</td>\n",
       "      <td>0.000014</td>\n",
       "      <td>0.000014</td>\n",
       "      <td>0.000014</td>\n",
       "      <td>0.000015</td>\n",
       "      <td>0.000014</td>\n",
       "      <td>0.000015</td>\n",
       "      <td>0.000014</td>\n",
       "      <td>0.000014</td>\n",
       "      <td>0.000014</td>\n",
       "      <td>0.000015</td>\n",
       "      <td>0.000014</td>\n",
       "      <td>0.000014</td>\n",
       "      <td>0.000015</td>\n",
       "      <td>0.000014</td>\n",
       "      <td>0.000014</td>\n",
       "      <td>0.000013</td>\n",
       "      <td>0.000014</td>\n",
       "      <td>0.000014</td>\n",
       "    </tr>\n",
       "    <tr>\n",
       "      <th>4</th>\n",
       "      <td>0.000032</td>\n",
       "      <td>0.000029</td>\n",
       "      <td>0.000033</td>\n",
       "      <td>0.000032</td>\n",
       "      <td>0.000033</td>\n",
       "      <td>0.000034</td>\n",
       "      <td>0.000033</td>\n",
       "      <td>0.000032</td>\n",
       "      <td>0.000033</td>\n",
       "      <td>0.000033</td>\n",
       "      <td>0.000032</td>\n",
       "      <td>0.999355</td>\n",
       "      <td>0.000033</td>\n",
       "      <td>0.000031</td>\n",
       "      <td>0.000033</td>\n",
       "      <td>0.000032</td>\n",
       "      <td>0.000034</td>\n",
       "      <td>0.000032</td>\n",
       "      <td>0.000030</td>\n",
       "      <td>0.000031</td>\n",
       "      <td>0.000032</td>\n",
       "    </tr>\n",
       "    <tr>\n",
       "      <th>...</th>\n",
       "      <td>...</td>\n",
       "      <td>...</td>\n",
       "      <td>...</td>\n",
       "      <td>...</td>\n",
       "      <td>...</td>\n",
       "      <td>...</td>\n",
       "      <td>...</td>\n",
       "      <td>...</td>\n",
       "      <td>...</td>\n",
       "      <td>...</td>\n",
       "      <td>...</td>\n",
       "      <td>...</td>\n",
       "      <td>...</td>\n",
       "      <td>...</td>\n",
       "      <td>...</td>\n",
       "      <td>...</td>\n",
       "      <td>...</td>\n",
       "      <td>...</td>\n",
       "      <td>...</td>\n",
       "      <td>...</td>\n",
       "      <td>...</td>\n",
       "    </tr>\n",
       "    <tr>\n",
       "      <th>50595</th>\n",
       "      <td>0.000015</td>\n",
       "      <td>0.000015</td>\n",
       "      <td>0.000016</td>\n",
       "      <td>0.000017</td>\n",
       "      <td>0.000017</td>\n",
       "      <td>0.000017</td>\n",
       "      <td>0.000017</td>\n",
       "      <td>0.000017</td>\n",
       "      <td>0.000016</td>\n",
       "      <td>0.000016</td>\n",
       "      <td>0.000017</td>\n",
       "      <td>0.000016</td>\n",
       "      <td>0.000017</td>\n",
       "      <td>0.999676</td>\n",
       "      <td>0.000016</td>\n",
       "      <td>0.000017</td>\n",
       "      <td>0.000016</td>\n",
       "      <td>0.000016</td>\n",
       "      <td>0.000016</td>\n",
       "      <td>0.000016</td>\n",
       "      <td>0.000016</td>\n",
       "    </tr>\n",
       "    <tr>\n",
       "      <th>50596</th>\n",
       "      <td>0.999653</td>\n",
       "      <td>0.000015</td>\n",
       "      <td>0.000019</td>\n",
       "      <td>0.000018</td>\n",
       "      <td>0.000017</td>\n",
       "      <td>0.000018</td>\n",
       "      <td>0.000018</td>\n",
       "      <td>0.000018</td>\n",
       "      <td>0.000017</td>\n",
       "      <td>0.000018</td>\n",
       "      <td>0.000018</td>\n",
       "      <td>0.000017</td>\n",
       "      <td>0.000018</td>\n",
       "      <td>0.000017</td>\n",
       "      <td>0.000017</td>\n",
       "      <td>0.000018</td>\n",
       "      <td>0.000017</td>\n",
       "      <td>0.000018</td>\n",
       "      <td>0.000016</td>\n",
       "      <td>0.000017</td>\n",
       "      <td>0.000017</td>\n",
       "    </tr>\n",
       "    <tr>\n",
       "      <th>50597</th>\n",
       "      <td>0.000012</td>\n",
       "      <td>0.000011</td>\n",
       "      <td>0.000012</td>\n",
       "      <td>0.000012</td>\n",
       "      <td>0.000012</td>\n",
       "      <td>0.000013</td>\n",
       "      <td>0.000013</td>\n",
       "      <td>0.000013</td>\n",
       "      <td>0.000012</td>\n",
       "      <td>0.000013</td>\n",
       "      <td>0.000011</td>\n",
       "      <td>0.000012</td>\n",
       "      <td>0.000013</td>\n",
       "      <td>0.000012</td>\n",
       "      <td>0.999755</td>\n",
       "      <td>0.000012</td>\n",
       "      <td>0.000012</td>\n",
       "      <td>0.000012</td>\n",
       "      <td>0.000013</td>\n",
       "      <td>0.000012</td>\n",
       "      <td>0.000012</td>\n",
       "    </tr>\n",
       "    <tr>\n",
       "      <th>50598</th>\n",
       "      <td>0.000035</td>\n",
       "      <td>0.000030</td>\n",
       "      <td>0.000033</td>\n",
       "      <td>0.000035</td>\n",
       "      <td>0.000034</td>\n",
       "      <td>0.000034</td>\n",
       "      <td>0.000033</td>\n",
       "      <td>0.000032</td>\n",
       "      <td>0.000033</td>\n",
       "      <td>0.000032</td>\n",
       "      <td>0.000034</td>\n",
       "      <td>0.999338</td>\n",
       "      <td>0.000033</td>\n",
       "      <td>0.000034</td>\n",
       "      <td>0.000035</td>\n",
       "      <td>0.000033</td>\n",
       "      <td>0.000036</td>\n",
       "      <td>0.000032</td>\n",
       "      <td>0.000032</td>\n",
       "      <td>0.000032</td>\n",
       "      <td>0.000031</td>\n",
       "    </tr>\n",
       "    <tr>\n",
       "      <th>50599</th>\n",
       "      <td>0.000012</td>\n",
       "      <td>0.000011</td>\n",
       "      <td>0.000012</td>\n",
       "      <td>0.000012</td>\n",
       "      <td>0.000012</td>\n",
       "      <td>0.000012</td>\n",
       "      <td>0.000012</td>\n",
       "      <td>0.000012</td>\n",
       "      <td>0.000012</td>\n",
       "      <td>0.000012</td>\n",
       "      <td>0.000012</td>\n",
       "      <td>0.000011</td>\n",
       "      <td>0.000012</td>\n",
       "      <td>0.000012</td>\n",
       "      <td>0.999763</td>\n",
       "      <td>0.000012</td>\n",
       "      <td>0.000012</td>\n",
       "      <td>0.000012</td>\n",
       "      <td>0.000011</td>\n",
       "      <td>0.000012</td>\n",
       "      <td>0.000011</td>\n",
       "    </tr>\n",
       "  </tbody>\n",
       "</table>\n",
       "<p>50600 rows × 21 columns</p>\n",
       "</div>"
      ],
      "text/plain": [
       "              0         1         2         3         4         5         6  \\\n",
       "0      0.000024  0.000023  0.000024  0.000024  0.000024  0.000024  0.000024   \n",
       "1      0.000012  0.000011  0.000012  0.000012  0.000012  0.000012  0.000012   \n",
       "2      0.000016  0.000014  0.000014  0.000016  0.000016  0.999703  0.000015   \n",
       "3      0.000014  0.000014  0.999720  0.000014  0.000014  0.000014  0.000015   \n",
       "4      0.000032  0.000029  0.000033  0.000032  0.000033  0.000034  0.000033   \n",
       "...         ...       ...       ...       ...       ...       ...       ...   \n",
       "50595  0.000015  0.000015  0.000016  0.000017  0.000017  0.000017  0.000017   \n",
       "50596  0.999653  0.000015  0.000019  0.000018  0.000017  0.000018  0.000018   \n",
       "50597  0.000012  0.000011  0.000012  0.000012  0.000012  0.000013  0.000013   \n",
       "50598  0.000035  0.000030  0.000033  0.000035  0.000034  0.000034  0.000033   \n",
       "50599  0.000012  0.000011  0.000012  0.000012  0.000012  0.000012  0.000012   \n",
       "\n",
       "              7         8         9        10        11        12        13  \\\n",
       "0      0.000024  0.999521  0.000024  0.000024  0.000024  0.000026  0.000024   \n",
       "1      0.000011  0.000011  0.000011  0.000011  0.000011  0.000011  0.000012   \n",
       "2      0.000015  0.000014  0.000014  0.000015  0.000014  0.000015  0.000016   \n",
       "3      0.000014  0.000015  0.000014  0.000014  0.000014  0.000015  0.000014   \n",
       "4      0.000032  0.000033  0.000033  0.000032  0.999355  0.000033  0.000031   \n",
       "...         ...       ...       ...       ...       ...       ...       ...   \n",
       "50595  0.000017  0.000016  0.000016  0.000017  0.000016  0.000017  0.999676   \n",
       "50596  0.000018  0.000017  0.000018  0.000018  0.000017  0.000018  0.000017   \n",
       "50597  0.000013  0.000012  0.000013  0.000011  0.000012  0.000013  0.000012   \n",
       "50598  0.000032  0.000033  0.000032  0.000034  0.999338  0.000033  0.000034   \n",
       "50599  0.000012  0.000012  0.000012  0.000012  0.000011  0.000012  0.000012   \n",
       "\n",
       "             14        15        16        17        18        19        20  \n",
       "0      0.000024  0.000024  0.000024  0.000024  0.000023  0.000024  0.000024  \n",
       "1      0.999772  0.000011  0.000012  0.000011  0.000011  0.000011  0.000011  \n",
       "2      0.000016  0.000014  0.000016  0.000014  0.000013  0.000014  0.000014  \n",
       "3      0.000014  0.000015  0.000014  0.000014  0.000013  0.000014  0.000014  \n",
       "4      0.000033  0.000032  0.000034  0.000032  0.000030  0.000031  0.000032  \n",
       "...         ...       ...       ...       ...       ...       ...       ...  \n",
       "50595  0.000016  0.000017  0.000016  0.000016  0.000016  0.000016  0.000016  \n",
       "50596  0.000017  0.000018  0.000017  0.000018  0.000016  0.000017  0.000017  \n",
       "50597  0.999755  0.000012  0.000012  0.000012  0.000013  0.000012  0.000012  \n",
       "50598  0.000035  0.000033  0.000036  0.000032  0.000032  0.000032  0.000031  \n",
       "50599  0.999763  0.000012  0.000012  0.000012  0.000011  0.000012  0.000011  \n",
       "\n",
       "[50600 rows x 21 columns]"
      ]
     },
     "execution_count": 210,
     "metadata": {},
     "output_type": "execute_result"
    }
   ],
   "source": [
    "pd.DataFrame(model_LOGREG.predict_proba(X_test))"
   ]
  },
  {
   "cell_type": "code",
   "execution_count": 211,
   "metadata": {},
   "outputs": [
    {
     "data": {
      "text/plain": [
       "'HORTALEZA'"
      ]
     },
     "execution_count": 211,
     "metadata": {},
     "output_type": "execute_result"
    }
   ],
   "source": [
    "predictions_LOGREG[0]"
   ]
  },
  {
   "cell_type": "code",
   "execution_count": 212,
   "metadata": {},
   "outputs": [
    {
     "data": {
      "text/plain": [
       "'SALAMANCA'"
      ]
     },
     "execution_count": 212,
     "metadata": {},
     "output_type": "execute_result"
    }
   ],
   "source": [
    "predictions_LOGREG[1]"
   ]
  },
  {
   "cell_type": "code",
   "execution_count": 213,
   "metadata": {},
   "outputs": [],
   "source": [
    "# descodificar patrones de test (basta con crear copia antes de transformación)\n",
    "# añadir probabilidad por indice\n",
    "# eliminar superficie y densidad (aunque nos valdrían para otros cálculos)"
   ]
  },
  {
   "cell_type": "code",
   "execution_count": 214,
   "metadata": {},
   "outputs": [
    {
     "data": {
      "text/html": [
       "<div>\n",
       "<style scoped>\n",
       "    .dataframe tbody tr th:only-of-type {\n",
       "        vertical-align: middle;\n",
       "    }\n",
       "\n",
       "    .dataframe tbody tr th {\n",
       "        vertical-align: top;\n",
       "    }\n",
       "\n",
       "    .dataframe thead th {\n",
       "        text-align: right;\n",
       "    }\n",
       "</style>\n",
       "<table border=\"1\" class=\"dataframe\">\n",
       "  <thead>\n",
       "    <tr style=\"text-align: right;\">\n",
       "      <th></th>\n",
       "      <th>HORA</th>\n",
       "      <th>DIA_SEMANA</th>\n",
       "      <th>DISTRITO</th>\n",
       "      <th>SEXO</th>\n",
       "      <th>EDAD_APROX</th>\n",
       "    </tr>\n",
       "  </thead>\n",
       "  <tbody>\n",
       "    <tr>\n",
       "      <th>0</th>\n",
       "      <td>00:00</td>\n",
       "      <td>VIERNES</td>\n",
       "      <td>CHAMARTIN</td>\n",
       "      <td>HOMBRE</td>\n",
       "      <td>20</td>\n",
       "    </tr>\n",
       "  </tbody>\n",
       "</table>\n",
       "</div>"
      ],
      "text/plain": [
       "    HORA DIA_SEMANA   DISTRITO    SEXO EDAD_APROX\n",
       "0  00:00    VIERNES  CHAMARTIN  HOMBRE         20"
      ]
     },
     "execution_count": 214,
     "metadata": {},
     "output_type": "execute_result"
    }
   ],
   "source": [
    "df_accs.head(1)"
   ]
  },
  {
   "cell_type": "code",
   "execution_count": 215,
   "metadata": {},
   "outputs": [
    {
     "data": {
      "text/html": [
       "<div>\n",
       "<style scoped>\n",
       "    .dataframe tbody tr th:only-of-type {\n",
       "        vertical-align: middle;\n",
       "    }\n",
       "\n",
       "    .dataframe tbody tr th {\n",
       "        vertical-align: top;\n",
       "    }\n",
       "\n",
       "    .dataframe thead th {\n",
       "        text-align: right;\n",
       "    }\n",
       "</style>\n",
       "<table border=\"1\" class=\"dataframe\">\n",
       "  <thead>\n",
       "    <tr style=\"text-align: right;\">\n",
       "      <th></th>\n",
       "      <th>HORA</th>\n",
       "      <th>DIA_SEMANA</th>\n",
       "      <th>DISTRITO</th>\n",
       "      <th>SEXO</th>\n",
       "      <th>EDAD_APROX</th>\n",
       "    </tr>\n",
       "  </thead>\n",
       "  <tbody>\n",
       "    <tr>\n",
       "      <th>0</th>\n",
       "      <td>0</td>\n",
       "      <td>6</td>\n",
       "      <td>CHAMARTIN</td>\n",
       "      <td>0</td>\n",
       "      <td>3</td>\n",
       "    </tr>\n",
       "  </tbody>\n",
       "</table>\n",
       "</div>"
      ],
      "text/plain": [
       "   HORA  DIA_SEMANA   DISTRITO  SEXO  EDAD_APROX\n",
       "0     0           6  CHAMARTIN     0           3"
      ]
     },
     "execution_count": 215,
     "metadata": {},
     "output_type": "execute_result"
    }
   ],
   "source": [
    "df_accs_lab_ohe.head(1)"
   ]
  },
  {
   "cell_type": "code",
   "execution_count": 216,
   "metadata": {},
   "outputs": [],
   "source": [
    "######### pruebas visual"
   ]
  },
  {
   "cell_type": "code",
   "execution_count": 217,
   "metadata": {},
   "outputs": [],
   "source": [
    "#del visual\n",
    "#del visual_sample"
   ]
  },
  {
   "cell_type": "code",
   "execution_count": 218,
   "metadata": {},
   "outputs": [],
   "source": [
    "visual = pd.DataFrame(model_LOGREG.predict_proba(X_test), columns=model_LOGREG.classes_)\n",
    "visual_sample = visual.sample(n=5000).reset_index(drop=True)"
   ]
  },
  {
   "cell_type": "code",
   "execution_count": 219,
   "metadata": {},
   "outputs": [
    {
     "data": {
      "text/plain": [
       "array(['VIERNES', 'SABADO', 'DOMINGO', 'LUNES', 'MARTES', 'MIERCOLES',\n",
       "       'JUEVES'], dtype=object)"
      ]
     },
     "execution_count": 219,
     "metadata": {},
     "output_type": "execute_result"
    }
   ],
   "source": [
    "df_accs[\"DIA_SEMANA\"].unique()"
   ]
  },
  {
   "cell_type": "code",
   "execution_count": 220,
   "metadata": {},
   "outputs": [],
   "source": [
    "# Categorical scatterplots:"
   ]
  },
  {
   "cell_type": "code",
   "execution_count": 221,
   "metadata": {},
   "outputs": [
    {
     "data": {
      "text/plain": [
       "<seaborn.axisgrid.FacetGrid at 0x7f97d9362748>"
      ]
     },
     "execution_count": 221,
     "metadata": {},
     "output_type": "execute_result"
    },
    {
     "data": {
      "image/png": "[encoded data removed]",
      "text/plain": [
       "<Figure size 360x360 with 1 Axes>"
      ]
     },
     "metadata": {
      "needs_background": "light"
     },
     "output_type": "display_data"
    }
   ],
   "source": [
    "sb.catplot(data=visual_sample,kind=\"strip\", orient=\"h\"\n",
    "          )"
   ]
  },
  {
   "cell_type": "code",
   "execution_count": 222,
   "metadata": {},
   "outputs": [],
   "source": [
    "# Categorical distribution plots:"
   ]
  },
  {
   "cell_type": "code",
   "execution_count": 223,
   "metadata": {},
   "outputs": [
    {
     "data": {
      "text/plain": [
       "<seaborn.axisgrid.FacetGrid at 0x7f97d9147710>"
      ]
     },
     "execution_count": 223,
     "metadata": {},
     "output_type": "execute_result"
    },
    {
     "data": {
      "image/png": "[encoded data removed]",
      "text/plain": [
       "<Figure size 360x360 with 1 Axes>"
      ]
     },
     "metadata": {
      "needs_background": "light"
     },
     "output_type": "display_data"
    }
   ],
   "source": [
    "sb.catplot(data=visual_sample,kind=\"box\", orient=\"h\"\n",
    "          )"
   ]
  },
  {
   "cell_type": "code",
   "execution_count": 224,
   "metadata": {},
   "outputs": [
    {
     "name": "stderr",
     "output_type": "stream",
     "text": [
      "/home/dsc/anaconda3/lib/python3.7/site-packages/scipy/stats/stats.py:1713: FutureWarning: Using a non-tuple sequence for multidimensional indexing is deprecated; use `arr[tuple(seq)]` instead of `arr[seq]`. In the future this will be interpreted as an array index, `arr[np.array(seq)]`, which will result either in an error or a different result.\n",
      "  return np.add.reduce(sorted[indexer] * weights, axis=axis) / sumval\n"
     ]
    },
    {
     "data": {
      "text/plain": [
       "<seaborn.axisgrid.FacetGrid at 0x7f97d24f0a90>"
      ]
     },
     "execution_count": 224,
     "metadata": {},
     "output_type": "execute_result"
    },
    {
     "data": {
      "image/png": "[encoded data removed]",
      "text/plain": [
       "<Figure size 360x360 with 1 Axes>"
      ]
     },
     "metadata": {
      "needs_background": "light"
     },
     "output_type": "display_data"
    }
   ],
   "source": [
    "sb.catplot(data=visual_sample,kind=\"violin\", orient=\"h\"\n",
    "          )"
   ]
  },
  {
   "cell_type": "code",
   "execution_count": 225,
   "metadata": {},
   "outputs": [
    {
     "name": "stderr",
     "output_type": "stream",
     "text": [
      "'c' argument looks like a single numeric RGB or RGBA sequence, which should be avoided as value-mapping will have precedence in case its length matches with 'x' & 'y'.  Please use a 2-D array with a single row if you really want to specify the same RGB or RGBA value for all points.\n",
      "'c' argument looks like a single numeric RGB or RGBA sequence, which should be avoided as value-mapping will have precedence in case its length matches with 'x' & 'y'.  Please use a 2-D array with a single row if you really want to specify the same RGB or RGBA value for all points.\n",
      "'c' argument looks like a single numeric RGB or RGBA sequence, which should be avoided as value-mapping will have precedence in case its length matches with 'x' & 'y'.  Please use a 2-D array with a single row if you really want to specify the same RGB or RGBA value for all points.\n",
      "'c' argument looks like a single numeric RGB or RGBA sequence, which should be avoided as value-mapping will have precedence in case its length matches with 'x' & 'y'.  Please use a 2-D array with a single row if you really want to specify the same RGB or RGBA value for all points.\n",
      "'c' argument looks like a single numeric RGB or RGBA sequence, which should be avoided as value-mapping will have precedence in case its length matches with 'x' & 'y'.  Please use a 2-D array with a single row if you really want to specify the same RGB or RGBA value for all points.\n",
      "'c' argument looks like a single numeric RGB or RGBA sequence, which should be avoided as value-mapping will have precedence in case its length matches with 'x' & 'y'.  Please use a 2-D array with a single row if you really want to specify the same RGB or RGBA value for all points.\n",
      "'c' argument looks like a single numeric RGB or RGBA sequence, which should be avoided as value-mapping will have precedence in case its length matches with 'x' & 'y'.  Please use a 2-D array with a single row if you really want to specify the same RGB or RGBA value for all points.\n",
      "'c' argument looks like a single numeric RGB or RGBA sequence, which should be avoided as value-mapping will have precedence in case its length matches with 'x' & 'y'.  Please use a 2-D array with a single row if you really want to specify the same RGB or RGBA value for all points.\n",
      "'c' argument looks like a single numeric RGB or RGBA sequence, which should be avoided as value-mapping will have precedence in case its length matches with 'x' & 'y'.  Please use a 2-D array with a single row if you really want to specify the same RGB or RGBA value for all points.\n",
      "'c' argument looks like a single numeric RGB or RGBA sequence, which should be avoided as value-mapping will have precedence in case its length matches with 'x' & 'y'.  Please use a 2-D array with a single row if you really want to specify the same RGB or RGBA value for all points.\n",
      "'c' argument looks like a single numeric RGB or RGBA sequence, which should be avoided as value-mapping will have precedence in case its length matches with 'x' & 'y'.  Please use a 2-D array with a single row if you really want to specify the same RGB or RGBA value for all points.\n",
      "'c' argument looks like a single numeric RGB or RGBA sequence, which should be avoided as value-mapping will have precedence in case its length matches with 'x' & 'y'.  Please use a 2-D array with a single row if you really want to specify the same RGB or RGBA value for all points.\n",
      "'c' argument looks like a single numeric RGB or RGBA sequence, which should be avoided as value-mapping will have precedence in case its length matches with 'x' & 'y'.  Please use a 2-D array with a single row if you really want to specify the same RGB or RGBA value for all points.\n",
      "'c' argument looks like a single numeric RGB or RGBA sequence, which should be avoided as value-mapping will have precedence in case its length matches with 'x' & 'y'.  Please use a 2-D array with a single row if you really want to specify the same RGB or RGBA value for all points.\n",
      "'c' argument looks like a single numeric RGB or RGBA sequence, which should be avoided as value-mapping will have precedence in case its length matches with 'x' & 'y'.  Please use a 2-D array with a single row if you really want to specify the same RGB or RGBA value for all points.\n",
      "'c' argument looks like a single numeric RGB or RGBA sequence, which should be avoided as value-mapping will have precedence in case its length matches with 'x' & 'y'.  Please use a 2-D array with a single row if you really want to specify the same RGB or RGBA value for all points.\n",
      "'c' argument looks like a single numeric RGB or RGBA sequence, which should be avoided as value-mapping will have precedence in case its length matches with 'x' & 'y'.  Please use a 2-D array with a single row if you really want to specify the same RGB or RGBA value for all points.\n",
      "'c' argument looks like a single numeric RGB or RGBA sequence, which should be avoided as value-mapping will have precedence in case its length matches with 'x' & 'y'.  Please use a 2-D array with a single row if you really want to specify the same RGB or RGBA value for all points.\n",
      "'c' argument looks like a single numeric RGB or RGBA sequence, which should be avoided as value-mapping will have precedence in case its length matches with 'x' & 'y'.  Please use a 2-D array with a single row if you really want to specify the same RGB or RGBA value for all points.\n",
      "'c' argument looks like a single numeric RGB or RGBA sequence, which should be avoided as value-mapping will have precedence in case its length matches with 'x' & 'y'.  Please use a 2-D array with a single row if you really want to specify the same RGB or RGBA value for all points.\n",
      "'c' argument looks like a single numeric RGB or RGBA sequence, which should be avoided as value-mapping will have precedence in case its length matches with 'x' & 'y'.  Please use a 2-D array with a single row if you really want to specify the same RGB or RGBA value for all points.\n"
     ]
    },
    {
     "data": {
      "text/plain": [
       "<seaborn.axisgrid.FacetGrid at 0x7f97d24dfac8>"
      ]
     },
     "execution_count": 225,
     "metadata": {},
     "output_type": "execute_result"
    },
    {
     "data": {
      "image/png": "[encoded data removed]",
      "text/plain": [
       "<Figure size 360x360 with 1 Axes>"
      ]
     },
     "metadata": {
      "needs_background": "light"
     },
     "output_type": "display_data"
    }
   ],
   "source": [
    "sb.catplot(data=visual_sample,kind=\"boxen\", orient=\"h\"\n",
    "          )"
   ]
  },
  {
   "cell_type": "code",
   "execution_count": 226,
   "metadata": {},
   "outputs": [],
   "source": [
    "# Categorical estimate plots:"
   ]
  },
  {
   "cell_type": "code",
   "execution_count": 227,
   "metadata": {},
   "outputs": [
    {
     "data": {
      "text/plain": [
       "<seaborn.axisgrid.FacetGrid at 0x7f97d20c6470>"
      ]
     },
     "execution_count": 227,
     "metadata": {},
     "output_type": "execute_result"
    },
    {
     "data": {
      "image/png": "[encoded data removed]",
      "text/plain": [
       "<Figure size 360x360 with 1 Axes>"
      ]
     },
     "metadata": {
      "needs_background": "light"
     },
     "output_type": "display_data"
    }
   ],
   "source": [
    "sb.catplot(data=visual_sample,kind=\"point\", orient=\"h\"\n",
    "          )"
   ]
  },
  {
   "cell_type": "code",
   "execution_count": 228,
   "metadata": {},
   "outputs": [
    {
     "data": {
      "text/plain": [
       "<seaborn.axisgrid.FacetGrid at 0x7f97d2327f60>"
      ]
     },
     "execution_count": 228,
     "metadata": {},
     "output_type": "execute_result"
    },
    {
     "data": {
      "image/png": "[encoded data removed]",
      "text/plain": [
       "<Figure size 360x360 with 1 Axes>"
      ]
     },
     "metadata": {
      "needs_background": "light"
     },
     "output_type": "display_data"
    }
   ],
   "source": [
    "sb.catplot(data=visual_sample,kind=\"bar\", orient=\"h\"\n",
    "          )"
   ]
  },
  {
   "cell_type": "code",
   "execution_count": 229,
   "metadata": {},
   "outputs": [
    {
     "data": {
      "text/plain": [
       "(50600, 112)"
      ]
     },
     "execution_count": 229,
     "metadata": {},
     "output_type": "execute_result"
    }
   ],
   "source": [
    "X_test.shape"
   ]
  },
  {
   "cell_type": "code",
   "execution_count": 230,
   "metadata": {},
   "outputs": [
    {
     "data": {
      "text/plain": [
       "Index(['ARGANZUELA', 'BARAJAS', 'CARABANCHEL', 'CENTRO', 'CHAMARTIN',\n",
       "       'CHAMBERI', 'CIUDAD LINEAL', 'FUENCARRAL-EL PARDO', 'HORTALEZA',\n",
       "       'LATINA', 'MONCLOA-ARAVACA', 'MORATALAZ', 'PUENTE DE VALLECAS',\n",
       "       'RETIRO', 'SALAMANCA', 'SAN BLAS', 'TETUAN', 'USERA', 'VICALVARO',\n",
       "       'VILLA DE VALLECAS', 'VILLAVERDE'],\n",
       "      dtype='object')"
      ]
     },
     "execution_count": 230,
     "metadata": {},
     "output_type": "execute_result"
    }
   ],
   "source": [
    "visual_sample.columns"
   ]
  }
 ],
 "metadata": {
  "kernelspec": {
   "display_name": "Python 3",
   "language": "python",
   "name": "python3"
  },
  "language_info": {
   "codemirror_mode": {
    "name": "ipython",
    "version": 3
   },
   "file_extension": ".py",
   "mimetype": "text/x-python",
   "name": "python",
   "nbconvert_exporter": "python",
   "pygments_lexer": "ipython3",
   "version": "3.7.3"
  }
 },
 "nbformat": 4,
 "nbformat_minor": 2
}
