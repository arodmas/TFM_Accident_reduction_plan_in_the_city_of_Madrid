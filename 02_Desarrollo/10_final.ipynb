{
 "cells": [
  {
   "cell_type": "code",
   "execution_count": 1,
   "metadata": {},
   "outputs": [
    {
     "name": "stdout",
     "output_type": "stream",
     "text": [
      "\n",
      "Automagic is OFF, % prefix IS needed for line magics.\n"
     ]
    }
   ],
   "source": [
    "%automagic"
   ]
  },
  {
   "cell_type": "code",
   "execution_count": 2,
   "metadata": {},
   "outputs": [
    {
     "name": "stdout",
     "output_type": "stream",
     "text": [
      "total 49168\r\n",
      "-rw-rw-r-- 1 dsc dsc     1695 oct 19 16:58 00_work_line_notes.txt\r\n",
      "-rw-rw-r-- 1 dsc dsc   309961 oct 20 11:55 01_ciclo_prueba_muestra.ipynb\r\n",
      "-rw-rw-r-- 1 dsc dsc   337332 oct 23 16:39 02_ciclo_prueba_muestra_ordenado.ipynb\r\n",
      "drwxrwxr-x 2 dsc dsc     4096 oct 23 16:56 csv_files\r\n",
      "-rw-rw-r-- 1 dsc dsc    26352 oct 29 18:05 residuo.png\r\n",
      "-rw-rw-r-- 1 dsc dsc    28090 oct 29 18:05 estacionalidad.png\r\n",
      "-rw-rw-r-- 1 dsc dsc    16061 oct 29 18:05 tendencia.png\r\n",
      "-rw-rw-r-- 1 dsc dsc    36481 oct 29 18:06 todo.png\r\n",
      "-rw-rw-r-- 1 dsc dsc    28121 oct 29 18:37 residuo_nube.png\r\n",
      "-rw-rw-r-- 1 dsc dsc    16512 oct 29 18:38 estacionalidad_nube.png\r\n",
      "-rw-rw-r-- 1 dsc dsc    28910 oct 29 18:38 tendencia_nube.png\r\n",
      "-rw-rw-r-- 1 dsc dsc    48129 oct 29 18:38 todo_nube.png\r\n",
      "-rw-rw-r-- 1 dsc dsc  2403149 nov  3 18:08 04_ciclo_prueba_muestra_serie_temporal_lio.ipynb\r\n",
      "-rw-rw-r-- 1 dsc dsc  1919420 nov  9 12:25 04_ciclo_prueba_muestra_serie_temporal.ipynb\r\n",
      "-rw-rw-r-- 1 dsc dsc  1741628 nov 16 17:12 serie_completa.csv\r\n",
      "-rw-rw-r-- 1 dsc dsc 24017454 nov 16 18:37 datos_accs_madrid.csv\r\n",
      "-rw-rw-r-- 1 dsc dsc  6301680 nov 16 18:38 05_ciclo_datos_completos_xa_serie_temporal.ipynb\r\n",
      "-rw-rw-r-- 1 dsc dsc   189272 nov 18 23:25 06_accs_completos_xa_clasificacion.ipynb\r\n",
      "-rw-rw-r-- 1 dsc dsc      555 nov 20 16:18 Untitled.ipynb\r\n",
      "-rw-rw-r-- 1 dsc dsc     2365 nov 22 16:43 tree1.dot\r\n",
      "-rw-rw-r-- 1 dsc dsc     2365 nov 22 16:45 tree1.png\r\n",
      "-rw-rw-r-- 1 dsc dsc     2365 nov 22 16:45 tree1.jpg\r\n",
      "-rw-rw-r-- 1 dsc dsc     1164 nov 22 17:41 distritos_municipio_madrid.csv\r\n",
      "-rw-rw-r-- 1 dsc dsc    13206 nov 23 11:21 modelo.pkl\r\n",
      "-rw-rw-r-- 1 dsc dsc   697544 nov 23 14:44 07_prueba.ipynb\r\n",
      "-rw-rw-r-- 1 dsc dsc  1122051 nov 24 10:21 08_snippets.ipynb\r\n",
      "-rw-rw-r-- 1 dsc dsc   667159 nov 24 16:00 09_best_scores.ipynb\r\n",
      "-rw-rw-r-- 1 dsc dsc   262016 nov 24 18:51 06b_accs_completos_xa_clasif_viernes.ipynb\r\n",
      "-rw-rw-r-- 1 dsc dsc  1031302 nov 25 16:08 10_prueba-Copy2.ipynb\r\n",
      "-rw-rw-r-- 1 dsc dsc  2377018 nov 25 18:14 10_prueba-Copy3.ipynb\r\n",
      "-rw-rw-r-- 1 dsc dsc  1031222 nov 26 00:27 10_prueba-Copy1.ipynb\r\n",
      "-rw-rw-r-- 1 dsc dsc  2110069 nov 26 15:25 10_prueba-Copy4.ipynb\r\n",
      "-rw-rw-r-- 1 dsc dsc   391631 nov 29 16:23 11_reduccion_pipelines.ipynb\r\n",
      "-rw-rw-r-- 1 dsc dsc    11924 nov 29 16:48 Untitled1.ipynb\r\n",
      "-rw-rw-r-- 1 dsc dsc   388322 nov 29 19:17 11_reduccion_multinomial.ipynb\r\n",
      "-rw-rw-r-- 1 dsc dsc   419159 nov 29 22:17 index.png\r\n",
      "-rw-rw-r-- 1 dsc dsc   337424 nov 30 08:51 03_ciclo_prueba_muestra_final.ipynb\r\n",
      "-rw-rw-r-- 1 dsc dsc   843280 nov 30 09:29 10_final_pruebas_nok.ipynb\r\n",
      "-rw-rw-r-- 1 dsc dsc   713122 nov 30 09:31 10_final_bkp.ipynb\r\n",
      "-rw-rw-r-- 1 dsc dsc   394039 nov 30 09:34 10_final.ipynb\r\n"
     ]
    }
   ],
   "source": [
    "folder = '/home/dsc/Repos/TFM_Accident_reduction_plan_in_the_city_of_Madrid/02_Desarrollo'\n",
    "!ls -ltr {folder}"
   ]
  },
  {
   "cell_type": "code",
   "execution_count": 3,
   "metadata": {},
   "outputs": [
    {
     "data": {
      "text/plain": [
       "'/home/dsc/Repos/TFM_Accident_reduction_plan_in_the_city_of_Madrid/02_Desarrollo'"
      ]
     },
     "execution_count": 3,
     "metadata": {},
     "output_type": "execute_result"
    }
   ],
   "source": [
    "import os\n",
    "os.getcwd()"
   ]
  },
  {
   "cell_type": "code",
   "execution_count": 4,
   "metadata": {},
   "outputs": [
    {
     "data": {
      "text/plain": [
       "'/home/dsc/Repos/TFM_Accident_reduction_plan_in_the_city_of_Madrid/02_Desarrollo'"
      ]
     },
     "execution_count": 4,
     "metadata": {},
     "output_type": "execute_result"
    }
   ],
   "source": [
    "os.chdir(folder)\n",
    "os.getcwd()"
   ]
  },
  {
   "cell_type": "code",
   "execution_count": 5,
   "metadata": {},
   "outputs": [
    {
     "name": "stdout",
     "output_type": "stream",
     "text": [
      "-rw-rw-r-- 1 dsc dsc 24017454 nov 16 18:37 datos_accs_madrid.csv\r\n"
     ]
    }
   ],
   "source": [
    "!ls -ltr datos_accs_madrid.csv"
   ]
  },
  {
   "cell_type": "code",
   "execution_count": 6,
   "metadata": {},
   "outputs": [],
   "source": [
    "import pandas as pd\n",
    "df_accs = pd.read_csv(\"datos_accs_madrid.csv\")"
   ]
  },
  {
   "cell_type": "code",
   "execution_count": 7,
   "metadata": {},
   "outputs": [],
   "source": [
    "# Cargara librerias y paquetes\n",
    "\n",
    "import pandas as pd\n",
    "import numpy as np\n",
    "from sklearn import linear_model\n",
    "from sklearn import model_selection\n",
    "from sklearn.metrics import classification_report\n",
    "from sklearn.metrics import confusion_matrix\n",
    "from sklearn.metrics import accuracy_score\n",
    "import matplotlib.pyplot as plt\n",
    "import seaborn as sb\n",
    "%matplotlib inline"
   ]
  },
  {
   "cell_type": "code",
   "execution_count": 8,
   "metadata": {},
   "outputs": [
    {
     "data": {
      "text/plain": [
       "(252998, 11)"
      ]
     },
     "execution_count": 8,
     "metadata": {},
     "output_type": "execute_result"
    }
   ],
   "source": [
    "# Análisis Exploratorio Inicial\n",
    "# Ahora veamos cuantas columnas y registros tenemos:\n",
    "df_accs.shape"
   ]
  },
  {
   "cell_type": "code",
   "execution_count": 9,
   "metadata": {},
   "outputs": [
    {
     "data": {
      "text/html": [
       "<div>\n",
       "<style scoped>\n",
       "    .dataframe tbody tr th:only-of-type {\n",
       "        vertical-align: middle;\n",
       "    }\n",
       "\n",
       "    .dataframe tbody tr th {\n",
       "        vertical-align: top;\n",
       "    }\n",
       "\n",
       "    .dataframe thead th {\n",
       "        text-align: right;\n",
       "    }\n",
       "</style>\n",
       "<table border=\"1\" class=\"dataframe\">\n",
       "  <thead>\n",
       "    <tr style=\"text-align: right;\">\n",
       "      <th></th>\n",
       "      <th>FECHA</th>\n",
       "      <th>HORA</th>\n",
       "      <th>DIA_SEMANA</th>\n",
       "      <th>DISTRITO</th>\n",
       "      <th>NUM_PERSONAS</th>\n",
       "      <th>TIPO_ACCIDENTE</th>\n",
       "      <th>TIPO_VEHICULO</th>\n",
       "      <th>TIPO_PERSONA</th>\n",
       "      <th>SEXO</th>\n",
       "      <th>LESIVIDAD</th>\n",
       "      <th>EDAD_APROX</th>\n",
       "    </tr>\n",
       "  </thead>\n",
       "  <tbody>\n",
       "    <tr>\n",
       "      <th>0</th>\n",
       "      <td>01/01/2010</td>\n",
       "      <td>00:00</td>\n",
       "      <td>VIERNES</td>\n",
       "      <td>CHAMARTIN</td>\n",
       "      <td>1</td>\n",
       "      <td>COLISION_DOBLE</td>\n",
       "      <td>TURISMO</td>\n",
       "      <td>CONDUCTOR</td>\n",
       "      <td>HOMBRE</td>\n",
       "      <td>INGRESO_LEVE</td>\n",
       "      <td>20</td>\n",
       "    </tr>\n",
       "    <tr>\n",
       "      <th>1</th>\n",
       "      <td>01/01/2010</td>\n",
       "      <td>00:00</td>\n",
       "      <td>VIERNES</td>\n",
       "      <td>CHAMARTIN</td>\n",
       "      <td>1</td>\n",
       "      <td>COLISION_DOBLE</td>\n",
       "      <td>TURISMO</td>\n",
       "      <td>CONDUCTOR</td>\n",
       "      <td>HOMBRE</td>\n",
       "      <td>INGRESO_LEVE</td>\n",
       "      <td>50</td>\n",
       "    </tr>\n",
       "    <tr>\n",
       "      <th>2</th>\n",
       "      <td>01/01/2010</td>\n",
       "      <td>00:00</td>\n",
       "      <td>VIERNES</td>\n",
       "      <td>CHAMARTIN</td>\n",
       "      <td>1</td>\n",
       "      <td>COLISION_DOBLE</td>\n",
       "      <td>TURISMO</td>\n",
       "      <td>VIAJERO</td>\n",
       "      <td>MUJER</td>\n",
       "      <td>HERIDO_LEVE</td>\n",
       "      <td>40</td>\n",
       "    </tr>\n",
       "  </tbody>\n",
       "</table>\n",
       "</div>"
      ],
      "text/plain": [
       "        FECHA   HORA DIA_SEMANA   DISTRITO  NUM_PERSONAS  TIPO_ACCIDENTE  \\\n",
       "0  01/01/2010  00:00    VIERNES  CHAMARTIN             1  COLISION_DOBLE   \n",
       "1  01/01/2010  00:00    VIERNES  CHAMARTIN             1  COLISION_DOBLE   \n",
       "2  01/01/2010  00:00    VIERNES  CHAMARTIN             1  COLISION_DOBLE   \n",
       "\n",
       "  TIPO_VEHICULO TIPO_PERSONA    SEXO     LESIVIDAD EDAD_APROX  \n",
       "0       TURISMO    CONDUCTOR  HOMBRE  INGRESO_LEVE         20  \n",
       "1       TURISMO    CONDUCTOR  HOMBRE  INGRESO_LEVE         50  \n",
       "2       TURISMO      VIAJERO   MUJER   HERIDO_LEVE         40  "
      ]
     },
     "execution_count": 9,
     "metadata": {},
     "output_type": "execute_result"
    }
   ],
   "source": [
    "df_accs.head(3)"
   ]
  },
  {
   "cell_type": "code",
   "execution_count": 10,
   "metadata": {},
   "outputs": [
    {
     "data": {
      "text/plain": [
       "FECHA             object\n",
       "HORA              object\n",
       "DIA_SEMANA        object\n",
       "DISTRITO          object\n",
       "NUM_PERSONAS       int64\n",
       "TIPO_ACCIDENTE    object\n",
       "TIPO_VEHICULO     object\n",
       "TIPO_PERSONA      object\n",
       "SEXO              object\n",
       "LESIVIDAD         object\n",
       "EDAD_APROX        object\n",
       "dtype: object"
      ]
     },
     "execution_count": 10,
     "metadata": {},
     "output_type": "execute_result"
    }
   ],
   "source": [
    "df_accs.dtypes"
   ]
  },
  {
   "cell_type": "code",
   "execution_count": 11,
   "metadata": {},
   "outputs": [],
   "source": [
    "# Borramos variables innecesarias\n",
    "drop_elements = ['FECHA', 'NUM_PERSONAS', 'TIPO_ACCIDENTE', 'TIPO_VEHICULO', 'TIPO_PERSONA', 'LESIVIDAD']\n",
    "df_accs = df_accs.drop(drop_elements, axis = 1)"
   ]
  },
  {
   "cell_type": "code",
   "execution_count": 12,
   "metadata": {},
   "outputs": [],
   "source": [
    "# algunas visualizaciones para comprender mejor los datos.\n",
    "# Mirar balanceo de etiquetas"
   ]
  },
  {
   "cell_type": "code",
   "execution_count": 13,
   "metadata": {},
   "outputs": [
    {
     "data": {
      "text/plain": [
       "HORA          0\n",
       "DIA_SEMANA    0\n",
       "DISTRITO      0\n",
       "SEXO          0\n",
       "EDAD_APROX    0\n",
       "dtype: int64"
      ]
     },
     "execution_count": 13,
     "metadata": {},
     "output_type": "execute_result"
    }
   ],
   "source": [
    "# Comprobar valores nulos\n",
    "df_accs.isnull().sum()"
   ]
  },
  {
   "cell_type": "code",
   "execution_count": 14,
   "metadata": {},
   "outputs": [
    {
     "data": {
      "text/plain": [
       "HORA\n",
       "00:00     4729\n",
       "01:00     3602\n",
       "02:00     2776\n",
       "03:00     2431\n",
       "04:00     2131\n",
       "05:00     2225\n",
       "06:00     3992\n",
       "07:00     6428\n",
       "08:00    11759\n",
       "09:00    14348\n",
       "10:00    11561\n",
       "11:00    12492\n",
       "12:00    14473\n",
       "13:00    15921\n",
       "14:00    18232\n",
       "15:00    14557\n",
       "16:00    13590\n",
       "17:00    14137\n",
       "18:00    16259\n",
       "19:00    18049\n",
       "20:00    17244\n",
       "21:00    14113\n",
       "22:00    10758\n",
       "23:00     7191\n",
       "dtype: int64"
      ]
     },
     "execution_count": 14,
     "metadata": {},
     "output_type": "execute_result"
    }
   ],
   "source": [
    "df_accs.groupby('HORA').size()"
   ]
  },
  {
   "cell_type": "code",
   "execution_count": 15,
   "metadata": {},
   "outputs": [
    {
     "data": {
      "text/plain": [
       "DIA_SEMANA\n",
       "DOMINGO      27249\n",
       "JUEVES       38794\n",
       "LUNES        36301\n",
       "MARTES       37707\n",
       "MIERCOLES    38697\n",
       "SABADO       30798\n",
       "VIERNES      43452\n",
       "dtype: int64"
      ]
     },
     "execution_count": 15,
     "metadata": {},
     "output_type": "execute_result"
    }
   ],
   "source": [
    "df_accs.groupby('DIA_SEMANA').size()"
   ]
  },
  {
   "cell_type": "code",
   "execution_count": 16,
   "metadata": {},
   "outputs": [
    {
     "data": {
      "text/plain": [
       "DISTRITO\n",
       "ARGANZUELA             13050\n",
       "BARAJAS                 3402\n",
       "CARABANCHEL            15593\n",
       "CENTRO                 17717\n",
       "CHAMARTIN              18857\n",
       "CHAMBERI               14466\n",
       "CIUDAD LINEAL          16580\n",
       "FUENCARRAL-EL PARDO    13750\n",
       "HORTALEZA               8546\n",
       "LATINA                 12218\n",
       "MONCLOA-ARAVACA        13587\n",
       "MORATALAZ               6246\n",
       "PUENTE DE VALLECAS     16180\n",
       "RETIRO                 13665\n",
       "SALAMANCA              19269\n",
       "SAN BLAS               11987\n",
       "TETUAN                 13626\n",
       "USERA                   8808\n",
       "VICALVARO               3142\n",
       "VILLA DE VALLECAS       5601\n",
       "VILLAVERDE              6708\n",
       "dtype: int64"
      ]
     },
     "execution_count": 16,
     "metadata": {},
     "output_type": "execute_result"
    }
   ],
   "source": [
    "df_accs.groupby('DISTRITO').size()"
   ]
  },
  {
   "cell_type": "code",
   "execution_count": 17,
   "metadata": {},
   "outputs": [
    {
     "data": {
      "text/plain": [
       "SEXO\n",
       "HOMBRE         160165\n",
       "MUJER           80717\n",
       "NO_ASIGNADO     12116\n",
       "dtype: int64"
      ]
     },
     "execution_count": 17,
     "metadata": {},
     "output_type": "execute_result"
    }
   ],
   "source": [
    "df_accs.groupby('SEXO').size()"
   ]
  },
  {
   "cell_type": "code",
   "execution_count": 18,
   "metadata": {},
   "outputs": [
    {
     "data": {
      "text/plain": [
       "EDAD_APROX\n",
       "0               3128\n",
       "10              5124\n",
       "15              2593\n",
       "20              9304\n",
       "25             49329\n",
       "30             31110\n",
       "35             30169\n",
       "40             26421\n",
       "45             22167\n",
       "50             17999\n",
       "55             12454\n",
       "65             13459\n",
       "70              3656\n",
       "75              6361\n",
       "NO_ASIGNADO    19724\n",
       "dtype: int64"
      ]
     },
     "execution_count": 18,
     "metadata": {},
     "output_type": "execute_result"
    }
   ],
   "source": [
    "df_accs.groupby('EDAD_APROX').size()"
   ]
  },
  {
   "cell_type": "code",
   "execution_count": 19,
   "metadata": {},
   "outputs": [],
   "source": [
    "# Veamos cuántos registros hay según DIA_SEMANA, como variable central:"
   ]
  },
  {
   "cell_type": "code",
   "execution_count": 20,
   "metadata": {},
   "outputs": [
    {
     "data": {
      "text/plain": [
       "Index(['HORA', 'DIA_SEMANA', 'DISTRITO', 'SEXO', 'EDAD_APROX'], dtype='object')"
      ]
     },
     "execution_count": 20,
     "metadata": {},
     "output_type": "execute_result"
    }
   ],
   "source": [
    "df_accs.columns"
   ]
  },
  {
   "cell_type": "code",
   "execution_count": 21,
   "metadata": {},
   "outputs": [
    {
     "data": {
      "text/plain": [
       "<seaborn.axisgrid.FacetGrid at 0x7f06dc06fbe0>"
      ]
     },
     "execution_count": 21,
     "metadata": {},
     "output_type": "execute_result"
    },
    {
     "data": {
      "image/png": "[encoded data removed]",
      "text/plain": [
       "<Figure size 360x360 with 1 Axes>"
      ]
     },
     "metadata": {
      "needs_background": "light"
     },
     "output_type": "display_data"
    }
   ],
   "source": [
    "sb.catplot('HORA',data=df_accs,kind=\"count\", \\\n",
    "           order=['00:00', '01:00', '02:00', '03:00', '04:00', '05:00', \\\n",
    "                  '06:00', '07:00', '08:00', '09:00', '10:00', '11:00', \\\n",
    "                  '12:00', '13:00', '14:00', '15:00', '16:00', '17:00', \\\n",
    "                  '18:00', '19:00', '20:00', '21:00', '22:00', '23:00']\n",
    "          )"
   ]
  },
  {
   "cell_type": "code",
   "execution_count": 22,
   "metadata": {},
   "outputs": [
    {
     "data": {
      "text/plain": [
       "<seaborn.axisgrid.FacetGrid at 0x7f06a944e860>"
      ]
     },
     "execution_count": 22,
     "metadata": {},
     "output_type": "execute_result"
    },
    {
     "data": {
      "image/png": "[encoded data removed]",
      "text/plain": [
       "<Figure size 360x360 with 1 Axes>"
      ]
     },
     "metadata": {
      "needs_background": "light"
     },
     "output_type": "display_data"
    }
   ],
   "source": [
    "sb.catplot('DIA_SEMANA',data=df_accs,kind=\"count\", \\\n",
    "           order=['LUNES', 'MARTES', 'MIERCOLES', 'JUEVES', 'VIERNES', 'SABADO', 'DOMINGO']\n",
    "          )"
   ]
  },
  {
   "cell_type": "code",
   "execution_count": 23,
   "metadata": {},
   "outputs": [
    {
     "data": {
      "text/plain": [
       "<seaborn.axisgrid.FacetGrid at 0x7f06aa5a6940>"
      ]
     },
     "execution_count": 23,
     "metadata": {},
     "output_type": "execute_result"
    },
    {
     "data": {
      "image/png": "[encoded data removed]",
      "text/plain": [
       "<Figure size 360x360 with 1 Axes>"
      ]
     },
     "metadata": {
      "needs_background": "light"
     },
     "output_type": "display_data"
    }
   ],
   "source": [
    "sb.catplot('DISTRITO',data=df_accs,kind=\"count\", \\\n",
    "           order = ['ARGANZUELA', 'BARAJAS', 'CARABANCHEL', 'CENTRO', 'CHAMARTIN', \\\n",
    "                    'CHAMBERI', 'CIUDAD LINEAL', 'FUENCARRAL-EL PARDO', 'HORTALEZA', \\\n",
    "                    'LATINA', 'MONCLOA-ARAVACA', 'MORATALAZ', 'PUENTE DE VALLECAS', \\\n",
    "                    'RETIRO', 'SAN BLAS', 'SALAMANCA', 'TETUAN', 'USERA', 'VICALVARO', \\\n",
    "                    'VILLA DE VALLECAS', 'VILLAVERDE']\n",
    "          )"
   ]
  },
  {
   "cell_type": "code",
   "execution_count": 24,
   "metadata": {},
   "outputs": [
    {
     "data": {
      "text/plain": [
       "<seaborn.axisgrid.FacetGrid at 0x7f06aa560cc0>"
      ]
     },
     "execution_count": 24,
     "metadata": {},
     "output_type": "execute_result"
    },
    {
     "data": {
      "image/png": "[encoded data removed]",
      "text/plain": [
       "<Figure size 360x360 with 1 Axes>"
      ]
     },
     "metadata": {
      "needs_background": "light"
     },
     "output_type": "display_data"
    }
   ],
   "source": [
    "sb.catplot('SEXO',data=df_accs,kind=\"count\", \\\n",
    "           order = ['HOMBRE', 'MUJER', 'NO_ASIGNADO']\n",
    "          )"
   ]
  },
  {
   "cell_type": "code",
   "execution_count": 25,
   "metadata": {},
   "outputs": [
    {
     "data": {
      "text/plain": [
       "<seaborn.axisgrid.FacetGrid at 0x7f06aa560518>"
      ]
     },
     "execution_count": 25,
     "metadata": {},
     "output_type": "execute_result"
    },
    {
     "data": {
      "image/png": "[encoded data removed]",
      "text/plain": [
       "<Figure size 360x360 with 1 Axes>"
      ]
     },
     "metadata": {
      "needs_background": "light"
     },
     "output_type": "display_data"
    }
   ],
   "source": [
    "sb.catplot('EDAD_APROX',data=df_accs,kind=\"count\", \\\n",
    "           order = ['0', '5', '10', '15', '20', '25', '30', '35', '40', '45', '50', \\\n",
    "                    '55', '60', '65', '70', '75', '80', '85', '90', '95', '100', \\\n",
    "                    '105', '110', '115', '120', '125', 'NO_ASIGNADO']\n",
    "          )"
   ]
  },
  {
   "cell_type": "code",
   "execution_count": 26,
   "metadata": {},
   "outputs": [
    {
     "data": {
      "text/plain": [
       "Index(['HORA', 'DIA_SEMANA', 'DISTRITO', 'SEXO', 'EDAD_APROX'], dtype='object')"
      ]
     },
     "execution_count": 26,
     "metadata": {},
     "output_type": "execute_result"
    }
   ],
   "source": [
    "df_accs.columns"
   ]
  },
  {
   "cell_type": "code",
   "execution_count": 27,
   "metadata": {},
   "outputs": [
    {
     "data": {
      "text/plain": [
       "<seaborn.axisgrid.FacetGrid at 0x7f06aa48b6d8>"
      ]
     },
     "execution_count": 27,
     "metadata": {},
     "output_type": "execute_result"
    },
    {
     "data": {
      "image/png": "[encoded data removed]",
      "text/plain": [
       "<Figure size 516.5x360 with 1 Axes>"
      ]
     },
     "metadata": {
      "needs_background": "light"
     },
     "output_type": "display_data"
    }
   ],
   "source": [
    "sb.catplot('HORA',data=df_accs,hue='DISTRITO',kind=\"count\")"
   ]
  },
  {
   "cell_type": "code",
   "execution_count": 28,
   "metadata": {},
   "outputs": [
    {
     "data": {
      "text/plain": [
       "<seaborn.axisgrid.FacetGrid at 0x7f06dc06f518>"
      ]
     },
     "execution_count": 28,
     "metadata": {},
     "output_type": "execute_result"
    },
    {
     "data": {
      "image/png": "[encoded data removed]",
      "text/plain": [
       "<Figure size 453.25x360 with 1 Axes>"
      ]
     },
     "metadata": {
      "needs_background": "light"
     },
     "output_type": "display_data"
    }
   ],
   "source": [
    "sb.catplot('HORA',data=df_accs,hue='DIA_SEMANA',kind=\"count\")"
   ]
  },
  {
   "cell_type": "code",
   "execution_count": 29,
   "metadata": {},
   "outputs": [
    {
     "data": {
      "text/plain": [
       "<seaborn.axisgrid.FacetGrid at 0x7f06a9f6c240>"
      ]
     },
     "execution_count": 29,
     "metadata": {},
     "output_type": "execute_result"
    },
    {
     "data": {
      "image/png": "[encoded data removed]",
      "text/plain": [
       "<Figure size 516.5x360 with 1 Axes>"
      ]
     },
     "metadata": {
      "needs_background": "light"
     },
     "output_type": "display_data"
    }
   ],
   "source": [
    "sb.catplot('DIA_SEMANA',data=df_accs,hue='DISTRITO',kind=\"count\")"
   ]
  },
  {
   "cell_type": "code",
   "execution_count": 30,
   "metadata": {},
   "outputs": [
    {
     "data": {
      "text/plain": [
       "<seaborn.axisgrid.FacetGrid at 0x7f06a9c9ac88>"
      ]
     },
     "execution_count": 30,
     "metadata": {},
     "output_type": "execute_result"
    },
    {
     "data": {
      "image/png": "[encoded data removed]",
      "text/plain": [
       "<Figure size 453.25x360 with 1 Axes>"
      ]
     },
     "metadata": {
      "needs_background": "light"
     },
     "output_type": "display_data"
    }
   ],
   "source": [
    "sb.catplot('DISTRITO',data=df_accs,hue='DIA_SEMANA',kind=\"count\")"
   ]
  },
  {
   "cell_type": "code",
   "execution_count": 31,
   "metadata": {},
   "outputs": [
    {
     "data": {
      "text/plain": [
       "<seaborn.axisgrid.FacetGrid at 0x7f06a99bfc18>"
      ]
     },
     "execution_count": 31,
     "metadata": {},
     "output_type": "execute_result"
    },
    {
     "data": {
      "image/png": "[encoded data removed]",
      "text/plain": [
       "<Figure size 516.5x360 with 1 Axes>"
      ]
     },
     "metadata": {
      "needs_background": "light"
     },
     "output_type": "display_data"
    }
   ],
   "source": [
    "sb.catplot('SEXO',data=df_accs,hue='DISTRITO',kind=\"count\")"
   ]
  },
  {
   "cell_type": "code",
   "execution_count": 32,
   "metadata": {},
   "outputs": [
    {
     "data": {
      "text/plain": [
       "<seaborn.axisgrid.FacetGrid at 0x7f06a98833c8>"
      ]
     },
     "execution_count": 32,
     "metadata": {},
     "output_type": "execute_result"
    },
    {
     "data": {
      "image/png": "[encoded data removed]",
      "text/plain": [
       "<Figure size 453.25x360 with 1 Axes>"
      ]
     },
     "metadata": {
      "needs_background": "light"
     },
     "output_type": "display_data"
    }
   ],
   "source": [
    "sb.catplot('SEXO',data=df_accs,hue='DIA_SEMANA',kind=\"count\")"
   ]
  },
  {
   "cell_type": "code",
   "execution_count": 33,
   "metadata": {},
   "outputs": [
    {
     "data": {
      "text/plain": [
       "<seaborn.axisgrid.FacetGrid at 0x7f06a99d3e80>"
      ]
     },
     "execution_count": 33,
     "metadata": {},
     "output_type": "execute_result"
    },
    {
     "data": {
      "image/png": "[encoded data removed]",
      "text/plain": [
       "<Figure size 516.5x360 with 1 Axes>"
      ]
     },
     "metadata": {
      "needs_background": "light"
     },
     "output_type": "display_data"
    }
   ],
   "source": [
    "sb.catplot('EDAD_APROX',data=df_accs,hue='DISTRITO',kind=\"count\")"
   ]
  },
  {
   "cell_type": "code",
   "execution_count": 34,
   "metadata": {},
   "outputs": [
    {
     "data": {
      "text/plain": [
       "<seaborn.axisgrid.FacetGrid at 0x7f06a960e550>"
      ]
     },
     "execution_count": 34,
     "metadata": {},
     "output_type": "execute_result"
    },
    {
     "data": {
      "image/png": "[encoded data removed]",
      "text/plain": [
       "<Figure size 453.25x360 with 1 Axes>"
      ]
     },
     "metadata": {
      "needs_background": "light"
     },
     "output_type": "display_data"
    }
   ],
   "source": [
    "sb.catplot('EDAD_APROX',data=df_accs,hue='DIA_SEMANA',kind=\"count\")"
   ]
  },
  {
   "cell_type": "code",
   "execution_count": 35,
   "metadata": {},
   "outputs": [
    {
     "data": {
      "image/png": "[encoded data removed]",
      "text/plain": [
       "<Figure size 432x288 with 1 Axes>"
      ]
     },
     "metadata": {
      "needs_background": "light"
     },
     "output_type": "display_data"
    }
   ],
   "source": [
    "plt.scatter(df_accs['DIA_SEMANA'].values, df_accs['DISTRITO'].values)\n",
    "plt.show()"
   ]
  },
  {
   "cell_type": "code",
   "execution_count": 36,
   "metadata": {},
   "outputs": [
    {
     "data": {
      "image/png": "[encoded data removed]",
      "text/plain": [
       "<Figure size 432x288 with 1 Axes>"
      ]
     },
     "metadata": {
      "needs_background": "light"
     },
     "output_type": "display_data"
    }
   ],
   "source": [
    "plt.scatter(df_accs['DISTRITO'].values, df_accs['SEXO'].values)\n",
    "plt.show()"
   ]
  },
  {
   "cell_type": "code",
   "execution_count": 37,
   "metadata": {},
   "outputs": [
    {
     "data": {
      "image/png": "[encoded data removed]",
      "text/plain": [
       "<Figure size 432x288 with 1 Axes>"
      ]
     },
     "metadata": {
      "needs_background": "light"
     },
     "output_type": "display_data"
    }
   ],
   "source": [
    "plt.scatter(df_accs['DIA_SEMANA'].values, df_accs['SEXO'].values)\n",
    "plt.show()"
   ]
  },
  {
   "cell_type": "code",
   "execution_count": 38,
   "metadata": {},
   "outputs": [
    {
     "data": {
      "image/png": "[encoded data removed]",
      "text/plain": [
       "<Figure size 432x288 with 1 Axes>"
      ]
     },
     "metadata": {
      "needs_background": "light"
     },
     "output_type": "display_data"
    }
   ],
   "source": [
    "plt.scatter(df_accs['DISTRITO'].values, df_accs['EDAD_APROX'].values)\n",
    "plt.show()"
   ]
  },
  {
   "cell_type": "code",
   "execution_count": 39,
   "metadata": {},
   "outputs": [
    {
     "data": {
      "image/png": "[encoded data removed]",
      "text/plain": [
       "<Figure size 432x288 with 1 Axes>"
      ]
     },
     "metadata": {
      "needs_background": "light"
     },
     "output_type": "display_data"
    }
   ],
   "source": [
    "plt.scatter(df_accs['DIA_SEMANA'].values, df_accs['EDAD_APROX'].values)\n",
    "plt.show()"
   ]
  },
  {
   "cell_type": "code",
   "execution_count": 40,
   "metadata": {},
   "outputs": [],
   "source": [
    "# Mapeo de datos"
   ]
  },
  {
   "cell_type": "code",
   "execution_count": 41,
   "metadata": {},
   "outputs": [],
   "source": [
    "#Filtro: Columnas que empiezan por xxx\n",
    "#filtro_borrar = [col for col in df_accs if col.startswith('NUM_PERS')]\n",
    "# borrar columnas sobrantes:\n",
    "#df_accs = df_accs.drop(columns=filtro_borrar)"
   ]
  },
  {
   "cell_type": "code",
   "execution_count": 42,
   "metadata": {},
   "outputs": [],
   "source": [
    "df_accs_lab_ohe = df_accs.reset_index(drop=True).copy()"
   ]
  },
  {
   "cell_type": "code",
   "execution_count": 43,
   "metadata": {},
   "outputs": [
    {
     "data": {
      "text/html": [
       "<div>\n",
       "<style scoped>\n",
       "    .dataframe tbody tr th:only-of-type {\n",
       "        vertical-align: middle;\n",
       "    }\n",
       "\n",
       "    .dataframe tbody tr th {\n",
       "        vertical-align: top;\n",
       "    }\n",
       "\n",
       "    .dataframe thead th {\n",
       "        text-align: right;\n",
       "    }\n",
       "</style>\n",
       "<table border=\"1\" class=\"dataframe\">\n",
       "  <thead>\n",
       "    <tr style=\"text-align: right;\">\n",
       "      <th></th>\n",
       "      <th>HORA</th>\n",
       "      <th>DIA_SEMANA</th>\n",
       "      <th>DISTRITO</th>\n",
       "      <th>SEXO</th>\n",
       "      <th>EDAD_APROX</th>\n",
       "    </tr>\n",
       "  </thead>\n",
       "  <tbody>\n",
       "    <tr>\n",
       "      <th>0</th>\n",
       "      <td>00:00</td>\n",
       "      <td>VIERNES</td>\n",
       "      <td>CHAMARTIN</td>\n",
       "      <td>HOMBRE</td>\n",
       "      <td>20</td>\n",
       "    </tr>\n",
       "  </tbody>\n",
       "</table>\n",
       "</div>"
      ],
      "text/plain": [
       "    HORA DIA_SEMANA   DISTRITO    SEXO EDAD_APROX\n",
       "0  00:00    VIERNES  CHAMARTIN  HOMBRE         20"
      ]
     },
     "execution_count": 43,
     "metadata": {},
     "output_type": "execute_result"
    }
   ],
   "source": [
    "df_accs.head(1)"
   ]
  },
  {
   "cell_type": "code",
   "execution_count": 44,
   "metadata": {},
   "outputs": [
    {
     "data": {
      "text/html": [
       "<div>\n",
       "<style scoped>\n",
       "    .dataframe tbody tr th:only-of-type {\n",
       "        vertical-align: middle;\n",
       "    }\n",
       "\n",
       "    .dataframe tbody tr th {\n",
       "        vertical-align: top;\n",
       "    }\n",
       "\n",
       "    .dataframe thead th {\n",
       "        text-align: right;\n",
       "    }\n",
       "</style>\n",
       "<table border=\"1\" class=\"dataframe\">\n",
       "  <thead>\n",
       "    <tr style=\"text-align: right;\">\n",
       "      <th></th>\n",
       "      <th>HORA</th>\n",
       "      <th>DIA_SEMANA</th>\n",
       "      <th>DISTRITO</th>\n",
       "      <th>SEXO</th>\n",
       "      <th>EDAD_APROX</th>\n",
       "    </tr>\n",
       "  </thead>\n",
       "  <tbody>\n",
       "    <tr>\n",
       "      <th>0</th>\n",
       "      <td>00:00</td>\n",
       "      <td>VIERNES</td>\n",
       "      <td>CHAMARTIN</td>\n",
       "      <td>HOMBRE</td>\n",
       "      <td>20</td>\n",
       "    </tr>\n",
       "  </tbody>\n",
       "</table>\n",
       "</div>"
      ],
      "text/plain": [
       "    HORA DIA_SEMANA   DISTRITO    SEXO EDAD_APROX\n",
       "0  00:00    VIERNES  CHAMARTIN  HOMBRE         20"
      ]
     },
     "execution_count": 44,
     "metadata": {},
     "output_type": "execute_result"
    }
   ],
   "source": [
    "df_accs_lab_ohe.head(1)"
   ]
  },
  {
   "cell_type": "code",
   "execution_count": 45,
   "metadata": {},
   "outputs": [
    {
     "data": {
      "text/plain": [
       "Index(['HORA', 'DIA_SEMANA', 'DISTRITO', 'SEXO', 'EDAD_APROX'], dtype='object')"
      ]
     },
     "execution_count": 45,
     "metadata": {},
     "output_type": "execute_result"
    }
   ],
   "source": [
    "df_accs.columns"
   ]
  },
  {
   "cell_type": "code",
   "execution_count": 46,
   "metadata": {},
   "outputs": [
    {
     "data": {
      "text/plain": [
       "Index(['HORA', 'DIA_SEMANA', 'DISTRITO', 'SEXO', 'EDAD_APROX'], dtype='object')"
      ]
     },
     "execution_count": 46,
     "metadata": {},
     "output_type": "execute_result"
    }
   ],
   "source": [
    "df_accs_lab_ohe.columns"
   ]
  },
  {
   "cell_type": "code",
   "execution_count": 47,
   "metadata": {},
   "outputs": [
    {
     "data": {
      "text/plain": [
       "HORA          object\n",
       "DIA_SEMANA    object\n",
       "DISTRITO      object\n",
       "SEXO          object\n",
       "EDAD_APROX    object\n",
       "dtype: object"
      ]
     },
     "execution_count": 47,
     "metadata": {},
     "output_type": "execute_result"
    }
   ],
   "source": [
    "df_accs.dtypes"
   ]
  },
  {
   "cell_type": "code",
   "execution_count": 48,
   "metadata": {},
   "outputs": [
    {
     "data": {
      "text/plain": [
       "HORA          object\n",
       "DIA_SEMANA    object\n",
       "DISTRITO      object\n",
       "SEXO          object\n",
       "EDAD_APROX    object\n",
       "dtype: object"
      ]
     },
     "execution_count": 48,
     "metadata": {},
     "output_type": "execute_result"
    }
   ],
   "source": [
    "df_accs_lab_ohe.dtypes"
   ]
  },
  {
   "cell_type": "code",
   "execution_count": 49,
   "metadata": {},
   "outputs": [
    {
     "data": {
      "text/html": [
       "<div>\n",
       "<style scoped>\n",
       "    .dataframe tbody tr th:only-of-type {\n",
       "        vertical-align: middle;\n",
       "    }\n",
       "\n",
       "    .dataframe tbody tr th {\n",
       "        vertical-align: top;\n",
       "    }\n",
       "\n",
       "    .dataframe thead th {\n",
       "        text-align: right;\n",
       "    }\n",
       "</style>\n",
       "<table border=\"1\" class=\"dataframe\">\n",
       "  <thead>\n",
       "    <tr style=\"text-align: right;\">\n",
       "      <th></th>\n",
       "      <th>HORA</th>\n",
       "      <th>DIA_SEMANA</th>\n",
       "      <th>DISTRITO</th>\n",
       "      <th>SEXO</th>\n",
       "      <th>EDAD_APROX</th>\n",
       "    </tr>\n",
       "  </thead>\n",
       "  <tbody>\n",
       "    <tr>\n",
       "      <th>0</th>\n",
       "      <td>00:00</td>\n",
       "      <td>VIERNES</td>\n",
       "      <td>CHAMARTIN</td>\n",
       "      <td>HOMBRE</td>\n",
       "      <td>20</td>\n",
       "    </tr>\n",
       "    <tr>\n",
       "      <th>1</th>\n",
       "      <td>00:00</td>\n",
       "      <td>VIERNES</td>\n",
       "      <td>CHAMARTIN</td>\n",
       "      <td>HOMBRE</td>\n",
       "      <td>50</td>\n",
       "    </tr>\n",
       "    <tr>\n",
       "      <th>2</th>\n",
       "      <td>00:00</td>\n",
       "      <td>VIERNES</td>\n",
       "      <td>CHAMARTIN</td>\n",
       "      <td>MUJER</td>\n",
       "      <td>40</td>\n",
       "    </tr>\n",
       "  </tbody>\n",
       "</table>\n",
       "</div>"
      ],
      "text/plain": [
       "    HORA DIA_SEMANA   DISTRITO    SEXO EDAD_APROX\n",
       "0  00:00    VIERNES  CHAMARTIN  HOMBRE         20\n",
       "1  00:00    VIERNES  CHAMARTIN  HOMBRE         50\n",
       "2  00:00    VIERNES  CHAMARTIN   MUJER         40"
      ]
     },
     "execution_count": 49,
     "metadata": {},
     "output_type": "execute_result"
    }
   ],
   "source": [
    "df_accs_lab_ohe.head(3)"
   ]
  },
  {
   "cell_type": "code",
   "execution_count": 50,
   "metadata": {},
   "outputs": [
    {
     "data": {
      "text/plain": [
       "array(['CHAMARTIN', 'PUENTE DE VALLECAS', 'CHAMBERI', 'RETIRO',\n",
       "       'SALAMANCA', 'CARABANCHEL', 'CIUDAD LINEAL', 'MONCLOA-ARAVACA',\n",
       "       'TETUAN', 'VILLA DE VALLECAS', 'MORATALAZ', 'ARGANZUELA',\n",
       "       'SAN BLAS', 'VILLAVERDE', 'HORTALEZA', 'FUENCARRAL-EL PARDO',\n",
       "       'VICALVARO', 'USERA', 'LATINA', 'BARAJAS', 'CENTRO'], dtype=object)"
      ]
     },
     "execution_count": 50,
     "metadata": {},
     "output_type": "execute_result"
    }
   ],
   "source": [
    "df_accs_lab_ohe['DISTRITO'].unique()"
   ]
  },
  {
   "cell_type": "code",
   "execution_count": 51,
   "metadata": {},
   "outputs": [
    {
     "data": {
      "text/plain": [
       "HORA          0\n",
       "DIA_SEMANA    0\n",
       "DISTRITO      0\n",
       "SEXO          0\n",
       "EDAD_APROX    0\n",
       "dtype: int64"
      ]
     },
     "execution_count": 51,
     "metadata": {},
     "output_type": "execute_result"
    }
   ],
   "source": [
    "# Comprobar valores nulos\n",
    "df_accs_lab_ohe.isnull().sum()"
   ]
  },
  {
   "cell_type": "code",
   "execution_count": 52,
   "metadata": {},
   "outputs": [],
   "source": [
    "df_accs_lab_ohe_sample = df_accs_lab_ohe.sample(n=10000).reset_index(drop=True)"
   ]
  },
  {
   "cell_type": "code",
   "execution_count": 53,
   "metadata": {},
   "outputs": [
    {
     "data": {
      "text/plain": [
       "Index(['HORA', 'DIA_SEMANA', 'DISTRITO', 'SEXO', 'EDAD_APROX'], dtype='object')"
      ]
     },
     "execution_count": 53,
     "metadata": {},
     "output_type": "execute_result"
    }
   ],
   "source": [
    "df_accs_lab_ohe_sample.columns"
   ]
  },
  {
   "cell_type": "code",
   "execution_count": 54,
   "metadata": {},
   "outputs": [
    {
     "data": {
      "text/html": [
       "<div>\n",
       "<style scoped>\n",
       "    .dataframe tbody tr th:only-of-type {\n",
       "        vertical-align: middle;\n",
       "    }\n",
       "\n",
       "    .dataframe tbody tr th {\n",
       "        vertical-align: top;\n",
       "    }\n",
       "\n",
       "    .dataframe thead th {\n",
       "        text-align: right;\n",
       "    }\n",
       "</style>\n",
       "<table border=\"1\" class=\"dataframe\">\n",
       "  <thead>\n",
       "    <tr style=\"text-align: right;\">\n",
       "      <th></th>\n",
       "      <th>HORA</th>\n",
       "      <th>DIA_SEMANA</th>\n",
       "      <th>DISTRITO</th>\n",
       "      <th>SEXO</th>\n",
       "      <th>EDAD_APROX</th>\n",
       "    </tr>\n",
       "  </thead>\n",
       "  <tbody>\n",
       "    <tr>\n",
       "      <th>0</th>\n",
       "      <td>11:00</td>\n",
       "      <td>VIERNES</td>\n",
       "      <td>CHAMARTIN</td>\n",
       "      <td>HOMBRE</td>\n",
       "      <td>50</td>\n",
       "    </tr>\n",
       "  </tbody>\n",
       "</table>\n",
       "</div>"
      ],
      "text/plain": [
       "    HORA DIA_SEMANA   DISTRITO    SEXO EDAD_APROX\n",
       "0  11:00    VIERNES  CHAMARTIN  HOMBRE         50"
      ]
     },
     "execution_count": 54,
     "metadata": {},
     "output_type": "execute_result"
    }
   ],
   "source": [
    "df_accs_lab_ohe_sample.head(1)"
   ]
  },
  {
   "cell_type": "code",
   "execution_count": 55,
   "metadata": {},
   "outputs": [
    {
     "data": {
      "text/plain": [
       "HORA          object\n",
       "DIA_SEMANA    object\n",
       "DISTRITO      object\n",
       "SEXO          object\n",
       "EDAD_APROX    object\n",
       "dtype: object"
      ]
     },
     "execution_count": 55,
     "metadata": {},
     "output_type": "execute_result"
    }
   ],
   "source": [
    "df_accs_lab_ohe_sample.dtypes"
   ]
  },
  {
   "cell_type": "code",
   "execution_count": 56,
   "metadata": {},
   "outputs": [],
   "source": [
    "df_accs_dumm_sample = pd.get_dummies(df_accs_lab_ohe_sample, drop_first=True)"
   ]
  },
  {
   "cell_type": "code",
   "execution_count": 57,
   "metadata": {},
   "outputs": [
    {
     "data": {
      "text/plain": [
       "(10000, 65)"
      ]
     },
     "execution_count": 57,
     "metadata": {},
     "output_type": "execute_result"
    }
   ],
   "source": [
    "df_accs_dumm_sample.shape"
   ]
  },
  {
   "cell_type": "code",
   "execution_count": 58,
   "metadata": {},
   "outputs": [
    {
     "data": {
      "text/html": [
       "<div>\n",
       "<style scoped>\n",
       "    .dataframe tbody tr th:only-of-type {\n",
       "        vertical-align: middle;\n",
       "    }\n",
       "\n",
       "    .dataframe tbody tr th {\n",
       "        vertical-align: top;\n",
       "    }\n",
       "\n",
       "    .dataframe thead th {\n",
       "        text-align: right;\n",
       "    }\n",
       "</style>\n",
       "<table border=\"1\" class=\"dataframe\">\n",
       "  <thead>\n",
       "    <tr style=\"text-align: right;\">\n",
       "      <th></th>\n",
       "      <th>HORA_01:00</th>\n",
       "      <th>HORA_02:00</th>\n",
       "      <th>HORA_03:00</th>\n",
       "      <th>HORA_04:00</th>\n",
       "      <th>HORA_05:00</th>\n",
       "      <th>HORA_06:00</th>\n",
       "      <th>HORA_07:00</th>\n",
       "      <th>HORA_08:00</th>\n",
       "      <th>HORA_09:00</th>\n",
       "      <th>HORA_10:00</th>\n",
       "      <th>...</th>\n",
       "      <th>EDAD_APROX_30</th>\n",
       "      <th>EDAD_APROX_35</th>\n",
       "      <th>EDAD_APROX_40</th>\n",
       "      <th>EDAD_APROX_45</th>\n",
       "      <th>EDAD_APROX_50</th>\n",
       "      <th>EDAD_APROX_55</th>\n",
       "      <th>EDAD_APROX_65</th>\n",
       "      <th>EDAD_APROX_70</th>\n",
       "      <th>EDAD_APROX_75</th>\n",
       "      <th>EDAD_APROX_NO_ASIGNADO</th>\n",
       "    </tr>\n",
       "  </thead>\n",
       "  <tbody>\n",
       "    <tr>\n",
       "      <th>0</th>\n",
       "      <td>0</td>\n",
       "      <td>0</td>\n",
       "      <td>0</td>\n",
       "      <td>0</td>\n",
       "      <td>0</td>\n",
       "      <td>0</td>\n",
       "      <td>0</td>\n",
       "      <td>0</td>\n",
       "      <td>0</td>\n",
       "      <td>0</td>\n",
       "      <td>...</td>\n",
       "      <td>0</td>\n",
       "      <td>0</td>\n",
       "      <td>0</td>\n",
       "      <td>0</td>\n",
       "      <td>1</td>\n",
       "      <td>0</td>\n",
       "      <td>0</td>\n",
       "      <td>0</td>\n",
       "      <td>0</td>\n",
       "      <td>0</td>\n",
       "    </tr>\n",
       "  </tbody>\n",
       "</table>\n",
       "<p>1 rows × 65 columns</p>\n",
       "</div>"
      ],
      "text/plain": [
       "   HORA_01:00  HORA_02:00  HORA_03:00  HORA_04:00  HORA_05:00  HORA_06:00  \\\n",
       "0           0           0           0           0           0           0   \n",
       "\n",
       "   HORA_07:00  HORA_08:00  HORA_09:00  HORA_10:00  ...  EDAD_APROX_30  \\\n",
       "0           0           0           0           0  ...              0   \n",
       "\n",
       "   EDAD_APROX_35  EDAD_APROX_40  EDAD_APROX_45  EDAD_APROX_50  EDAD_APROX_55  \\\n",
       "0              0              0              0              1              0   \n",
       "\n",
       "   EDAD_APROX_65  EDAD_APROX_70  EDAD_APROX_75  EDAD_APROX_NO_ASIGNADO  \n",
       "0              0              0              0                       0  \n",
       "\n",
       "[1 rows x 65 columns]"
      ]
     },
     "execution_count": 58,
     "metadata": {},
     "output_type": "execute_result"
    }
   ],
   "source": [
    "df_accs_dumm_sample.head(1)"
   ]
  },
  {
   "cell_type": "code",
   "execution_count": 59,
   "metadata": {},
   "outputs": [
    {
     "data": {
      "text/plain": [
       "HORA          0\n",
       "DIA_SEMANA    0\n",
       "DISTRITO      0\n",
       "SEXO          0\n",
       "EDAD_APROX    0\n",
       "dtype: int64"
      ]
     },
     "execution_count": 59,
     "metadata": {},
     "output_type": "execute_result"
    }
   ],
   "source": [
    "# Comprobar valores nulos\n",
    "df_accs_lab_ohe_sample.isnull().sum()"
   ]
  },
  {
   "cell_type": "code",
   "execution_count": 60,
   "metadata": {},
   "outputs": [
    {
     "data": {
      "text/plain": [
       "HORA_01:00                0\n",
       "HORA_02:00                0\n",
       "HORA_03:00                0\n",
       "HORA_04:00                0\n",
       "HORA_05:00                0\n",
       "                         ..\n",
       "EDAD_APROX_55             0\n",
       "EDAD_APROX_65             0\n",
       "EDAD_APROX_70             0\n",
       "EDAD_APROX_75             0\n",
       "EDAD_APROX_NO_ASIGNADO    0\n",
       "Length: 65, dtype: int64"
      ]
     },
     "execution_count": 60,
     "metadata": {},
     "output_type": "execute_result"
    }
   ],
   "source": [
    "# Comprobar valores nulos\n",
    "df_accs_dumm_sample.isnull().sum()"
   ]
  },
  {
   "cell_type": "code",
   "execution_count": 61,
   "metadata": {},
   "outputs": [
    {
     "data": {
      "text/html": [
       "<div>\n",
       "<style scoped>\n",
       "    .dataframe tbody tr th:only-of-type {\n",
       "        vertical-align: middle;\n",
       "    }\n",
       "\n",
       "    .dataframe tbody tr th {\n",
       "        vertical-align: top;\n",
       "    }\n",
       "\n",
       "    .dataframe thead th {\n",
       "        text-align: right;\n",
       "    }\n",
       "</style>\n",
       "<table border=\"1\" class=\"dataframe\">\n",
       "  <thead>\n",
       "    <tr style=\"text-align: right;\">\n",
       "      <th></th>\n",
       "      <th>HORA_01:00</th>\n",
       "      <th>HORA_02:00</th>\n",
       "      <th>HORA_03:00</th>\n",
       "      <th>HORA_04:00</th>\n",
       "      <th>HORA_05:00</th>\n",
       "      <th>HORA_06:00</th>\n",
       "      <th>HORA_07:00</th>\n",
       "      <th>HORA_08:00</th>\n",
       "      <th>HORA_09:00</th>\n",
       "      <th>HORA_10:00</th>\n",
       "      <th>HORA_11:00</th>\n",
       "      <th>HORA_12:00</th>\n",
       "      <th>HORA_13:00</th>\n",
       "      <th>HORA_14:00</th>\n",
       "      <th>HORA_15:00</th>\n",
       "      <th>HORA_16:00</th>\n",
       "      <th>HORA_17:00</th>\n",
       "      <th>HORA_18:00</th>\n",
       "      <th>HORA_19:00</th>\n",
       "      <th>HORA_20:00</th>\n",
       "      <th>HORA_21:00</th>\n",
       "      <th>HORA_22:00</th>\n",
       "      <th>HORA_23:00</th>\n",
       "      <th>DIA_SEMANA_JUEVES</th>\n",
       "      <th>DIA_SEMANA_LUNES</th>\n",
       "      <th>DIA_SEMANA_MARTES</th>\n",
       "      <th>DIA_SEMANA_MIERCOLES</th>\n",
       "      <th>DIA_SEMANA_SABADO</th>\n",
       "      <th>DIA_SEMANA_VIERNES</th>\n",
       "      <th>DISTRITO_BARAJAS</th>\n",
       "      <th>DISTRITO_CARABANCHEL</th>\n",
       "      <th>DISTRITO_CENTRO</th>\n",
       "      <th>DISTRITO_CHAMARTIN</th>\n",
       "      <th>DISTRITO_CHAMBERI</th>\n",
       "      <th>DISTRITO_CIUDAD LINEAL</th>\n",
       "      <th>DISTRITO_FUENCARRAL-EL PARDO</th>\n",
       "      <th>DISTRITO_HORTALEZA</th>\n",
       "      <th>DISTRITO_LATINA</th>\n",
       "      <th>DISTRITO_MONCLOA-ARAVACA</th>\n",
       "      <th>DISTRITO_MORATALAZ</th>\n",
       "      <th>DISTRITO_PUENTE DE VALLECAS</th>\n",
       "      <th>DISTRITO_RETIRO</th>\n",
       "      <th>DISTRITO_SALAMANCA</th>\n",
       "      <th>DISTRITO_SAN BLAS</th>\n",
       "      <th>DISTRITO_TETUAN</th>\n",
       "      <th>DISTRITO_USERA</th>\n",
       "      <th>DISTRITO_VICALVARO</th>\n",
       "      <th>DISTRITO_VILLA DE VALLECAS</th>\n",
       "      <th>DISTRITO_VILLAVERDE</th>\n",
       "      <th>SEXO_MUJER</th>\n",
       "      <th>SEXO_NO_ASIGNADO</th>\n",
       "      <th>EDAD_APROX_10</th>\n",
       "      <th>EDAD_APROX_15</th>\n",
       "      <th>EDAD_APROX_20</th>\n",
       "      <th>EDAD_APROX_25</th>\n",
       "      <th>EDAD_APROX_30</th>\n",
       "      <th>EDAD_APROX_35</th>\n",
       "      <th>EDAD_APROX_40</th>\n",
       "      <th>EDAD_APROX_45</th>\n",
       "      <th>EDAD_APROX_50</th>\n",
       "      <th>EDAD_APROX_55</th>\n",
       "      <th>EDAD_APROX_65</th>\n",
       "      <th>EDAD_APROX_70</th>\n",
       "      <th>EDAD_APROX_75</th>\n",
       "      <th>EDAD_APROX_NO_ASIGNADO</th>\n",
       "    </tr>\n",
       "  </thead>\n",
       "  <tbody>\n",
       "    <tr>\n",
       "      <th>0</th>\n",
       "      <td>0</td>\n",
       "      <td>0</td>\n",
       "      <td>0</td>\n",
       "      <td>0</td>\n",
       "      <td>0</td>\n",
       "      <td>0</td>\n",
       "      <td>0</td>\n",
       "      <td>0</td>\n",
       "      <td>0</td>\n",
       "      <td>0</td>\n",
       "      <td>1</td>\n",
       "      <td>0</td>\n",
       "      <td>0</td>\n",
       "      <td>0</td>\n",
       "      <td>0</td>\n",
       "      <td>0</td>\n",
       "      <td>0</td>\n",
       "      <td>0</td>\n",
       "      <td>0</td>\n",
       "      <td>0</td>\n",
       "      <td>0</td>\n",
       "      <td>0</td>\n",
       "      <td>0</td>\n",
       "      <td>0</td>\n",
       "      <td>0</td>\n",
       "      <td>0</td>\n",
       "      <td>0</td>\n",
       "      <td>0</td>\n",
       "      <td>1</td>\n",
       "      <td>0</td>\n",
       "      <td>0</td>\n",
       "      <td>0</td>\n",
       "      <td>1</td>\n",
       "      <td>0</td>\n",
       "      <td>0</td>\n",
       "      <td>0</td>\n",
       "      <td>0</td>\n",
       "      <td>0</td>\n",
       "      <td>0</td>\n",
       "      <td>0</td>\n",
       "      <td>0</td>\n",
       "      <td>0</td>\n",
       "      <td>0</td>\n",
       "      <td>0</td>\n",
       "      <td>0</td>\n",
       "      <td>0</td>\n",
       "      <td>0</td>\n",
       "      <td>0</td>\n",
       "      <td>0</td>\n",
       "      <td>0</td>\n",
       "      <td>0</td>\n",
       "      <td>0</td>\n",
       "      <td>0</td>\n",
       "      <td>0</td>\n",
       "      <td>0</td>\n",
       "      <td>0</td>\n",
       "      <td>0</td>\n",
       "      <td>0</td>\n",
       "      <td>0</td>\n",
       "      <td>1</td>\n",
       "      <td>0</td>\n",
       "      <td>0</td>\n",
       "      <td>0</td>\n",
       "      <td>0</td>\n",
       "      <td>0</td>\n",
       "    </tr>\n",
       "  </tbody>\n",
       "</table>\n",
       "</div>"
      ],
      "text/plain": [
       "   HORA_01:00  HORA_02:00  HORA_03:00  HORA_04:00  HORA_05:00  HORA_06:00  \\\n",
       "0           0           0           0           0           0           0   \n",
       "\n",
       "   HORA_07:00  HORA_08:00  HORA_09:00  HORA_10:00  HORA_11:00  HORA_12:00  \\\n",
       "0           0           0           0           0           1           0   \n",
       "\n",
       "   HORA_13:00  HORA_14:00  HORA_15:00  HORA_16:00  HORA_17:00  HORA_18:00  \\\n",
       "0           0           0           0           0           0           0   \n",
       "\n",
       "   HORA_19:00  HORA_20:00  HORA_21:00  HORA_22:00  HORA_23:00  \\\n",
       "0           0           0           0           0           0   \n",
       "\n",
       "   DIA_SEMANA_JUEVES  DIA_SEMANA_LUNES  DIA_SEMANA_MARTES  \\\n",
       "0                  0                 0                  0   \n",
       "\n",
       "   DIA_SEMANA_MIERCOLES  DIA_SEMANA_SABADO  DIA_SEMANA_VIERNES  \\\n",
       "0                     0                  0                   1   \n",
       "\n",
       "   DISTRITO_BARAJAS  DISTRITO_CARABANCHEL  DISTRITO_CENTRO  \\\n",
       "0                 0                     0                0   \n",
       "\n",
       "   DISTRITO_CHAMARTIN  DISTRITO_CHAMBERI  DISTRITO_CIUDAD LINEAL  \\\n",
       "0                   1                  0                       0   \n",
       "\n",
       "   DISTRITO_FUENCARRAL-EL PARDO  DISTRITO_HORTALEZA  DISTRITO_LATINA  \\\n",
       "0                             0                   0                0   \n",
       "\n",
       "   DISTRITO_MONCLOA-ARAVACA  DISTRITO_MORATALAZ  DISTRITO_PUENTE DE VALLECAS  \\\n",
       "0                         0                   0                            0   \n",
       "\n",
       "   DISTRITO_RETIRO  DISTRITO_SALAMANCA  DISTRITO_SAN BLAS  DISTRITO_TETUAN  \\\n",
       "0                0                   0                  0                0   \n",
       "\n",
       "   DISTRITO_USERA  DISTRITO_VICALVARO  DISTRITO_VILLA DE VALLECAS  \\\n",
       "0               0                   0                           0   \n",
       "\n",
       "   DISTRITO_VILLAVERDE  SEXO_MUJER  SEXO_NO_ASIGNADO  EDAD_APROX_10  \\\n",
       "0                    0           0                 0              0   \n",
       "\n",
       "   EDAD_APROX_15  EDAD_APROX_20  EDAD_APROX_25  EDAD_APROX_30  EDAD_APROX_35  \\\n",
       "0              0              0              0              0              0   \n",
       "\n",
       "   EDAD_APROX_40  EDAD_APROX_45  EDAD_APROX_50  EDAD_APROX_55  EDAD_APROX_65  \\\n",
       "0              0              0              1              0              0   \n",
       "\n",
       "   EDAD_APROX_70  EDAD_APROX_75  EDAD_APROX_NO_ASIGNADO  \n",
       "0              0              0                       0  "
      ]
     },
     "metadata": {},
     "output_type": "display_data"
    }
   ],
   "source": [
    "# No limitar display de columnas\n",
    "import pandas as pd\n",
    "from IPython.display import display\n",
    "\n",
    "pd.options.display.max_columns = None\n",
    "display(df_accs_dumm_sample.head(1))"
   ]
  },
  {
   "cell_type": "code",
   "execution_count": 62,
   "metadata": {},
   "outputs": [
    {
     "data": {
      "text/plain": [
       "Index(['HORA_01:00', 'HORA_02:00', 'HORA_03:00', 'HORA_04:00', 'HORA_05:00',\n",
       "       'HORA_06:00', 'HORA_07:00', 'HORA_08:00', 'HORA_09:00', 'HORA_10:00',\n",
       "       'HORA_11:00', 'HORA_12:00', 'HORA_13:00', 'HORA_14:00', 'HORA_15:00',\n",
       "       'HORA_16:00', 'HORA_17:00', 'HORA_18:00', 'HORA_19:00', 'HORA_20:00',\n",
       "       'HORA_21:00', 'HORA_22:00', 'HORA_23:00', 'DIA_SEMANA_JUEVES',\n",
       "       'DIA_SEMANA_LUNES', 'DIA_SEMANA_MARTES', 'DIA_SEMANA_MIERCOLES',\n",
       "       'DIA_SEMANA_SABADO', 'DIA_SEMANA_VIERNES', 'DISTRITO_BARAJAS',\n",
       "       'DISTRITO_CARABANCHEL', 'DISTRITO_CENTRO', 'DISTRITO_CHAMARTIN',\n",
       "       'DISTRITO_CHAMBERI', 'DISTRITO_CIUDAD LINEAL',\n",
       "       'DISTRITO_FUENCARRAL-EL PARDO', 'DISTRITO_HORTALEZA', 'DISTRITO_LATINA',\n",
       "       'DISTRITO_MONCLOA-ARAVACA', 'DISTRITO_MORATALAZ',\n",
       "       'DISTRITO_PUENTE DE VALLECAS', 'DISTRITO_RETIRO', 'DISTRITO_SALAMANCA',\n",
       "       'DISTRITO_SAN BLAS', 'DISTRITO_TETUAN', 'DISTRITO_USERA',\n",
       "       'DISTRITO_VICALVARO', 'DISTRITO_VILLA DE VALLECAS',\n",
       "       'DISTRITO_VILLAVERDE', 'SEXO_MUJER', 'SEXO_NO_ASIGNADO',\n",
       "       'EDAD_APROX_10', 'EDAD_APROX_15', 'EDAD_APROX_20', 'EDAD_APROX_25',\n",
       "       'EDAD_APROX_30', 'EDAD_APROX_35', 'EDAD_APROX_40', 'EDAD_APROX_45',\n",
       "       'EDAD_APROX_50', 'EDAD_APROX_55', 'EDAD_APROX_65', 'EDAD_APROX_70',\n",
       "       'EDAD_APROX_75', 'EDAD_APROX_NO_ASIGNADO'],\n",
       "      dtype='object')"
      ]
     },
     "metadata": {},
     "output_type": "display_data"
    }
   ],
   "source": [
    "display(df_accs_dumm_sample.columns)"
   ]
  },
  {
   "cell_type": "code",
   "execution_count": 209,
   "metadata": {},
   "outputs": [
    {
     "name": "stdout",
     "output_type": "stream",
     "text": [
      "None\n"
     ]
    }
   ],
   "source": [
    "print(pd.options.display.max_columns)"
   ]
  },
  {
   "cell_type": "code",
   "execution_count": 64,
   "metadata": {},
   "outputs": [
    {
     "name": "stdout",
     "output_type": "stream",
     "text": [
      "60\n"
     ]
    }
   ],
   "source": [
    "print(pd.options.display.max_rows)"
   ]
  },
  {
   "cell_type": "code",
   "execution_count": 65,
   "metadata": {},
   "outputs": [
    {
     "data": {
      "text/plain": [
       "Index(['HORA', 'DIA_SEMANA', 'DISTRITO', 'SEXO', 'EDAD_APROX'], dtype='object')"
      ]
     },
     "execution_count": 65,
     "metadata": {},
     "output_type": "execute_result"
    }
   ],
   "source": [
    "df_accs_lab_ohe_sample.columns"
   ]
  },
  {
   "cell_type": "code",
   "execution_count": 66,
   "metadata": {},
   "outputs": [
    {
     "data": {
      "text/html": [
       "<div>\n",
       "<style scoped>\n",
       "    .dataframe tbody tr th:only-of-type {\n",
       "        vertical-align: middle;\n",
       "    }\n",
       "\n",
       "    .dataframe tbody tr th {\n",
       "        vertical-align: top;\n",
       "    }\n",
       "\n",
       "    .dataframe thead th {\n",
       "        text-align: right;\n",
       "    }\n",
       "</style>\n",
       "<table border=\"1\" class=\"dataframe\">\n",
       "  <thead>\n",
       "    <tr style=\"text-align: right;\">\n",
       "      <th></th>\n",
       "      <th>HORA</th>\n",
       "      <th>DIA_SEMANA</th>\n",
       "      <th>DISTRITO</th>\n",
       "      <th>SEXO</th>\n",
       "      <th>EDAD_APROX</th>\n",
       "    </tr>\n",
       "  </thead>\n",
       "  <tbody>\n",
       "    <tr>\n",
       "      <th>0</th>\n",
       "      <td>11:00</td>\n",
       "      <td>VIERNES</td>\n",
       "      <td>CHAMARTIN</td>\n",
       "      <td>HOMBRE</td>\n",
       "      <td>50</td>\n",
       "    </tr>\n",
       "  </tbody>\n",
       "</table>\n",
       "</div>"
      ],
      "text/plain": [
       "    HORA DIA_SEMANA   DISTRITO    SEXO EDAD_APROX\n",
       "0  11:00    VIERNES  CHAMARTIN  HOMBRE         50"
      ]
     },
     "execution_count": 66,
     "metadata": {},
     "output_type": "execute_result"
    }
   ],
   "source": [
    "df_accs_lab_ohe_sample[0:1]"
   ]
  },
  {
   "cell_type": "markdown",
   "metadata": {},
   "source": [
    "# Data Preparation"
   ]
  },
  {
   "cell_type": "code",
   "execution_count": 67,
   "metadata": {},
   "outputs": [
    {
     "data": {
      "text/plain": [
       "(10000, 4)"
      ]
     },
     "execution_count": 67,
     "metadata": {},
     "output_type": "execute_result"
    }
   ],
   "source": [
    "# Cargamos variables con datos de muestra\n",
    "X = np.array(df_accs_lab_ohe_sample.drop('DISTRITO', 1))\n",
    "y = np.array(df_accs_lab_ohe_sample[\"DISTRITO\"])\n",
    "X.shape"
   ]
  },
  {
   "cell_type": "code",
   "execution_count": 68,
   "metadata": {},
   "outputs": [
    {
     "data": {
      "text/plain": [
       "HORA          object\n",
       "DIA_SEMANA    object\n",
       "DISTRITO      object\n",
       "SEXO          object\n",
       "EDAD_APROX    object\n",
       "dtype: object"
      ]
     },
     "execution_count": 68,
     "metadata": {},
     "output_type": "execute_result"
    }
   ],
   "source": [
    "df_accs_lab_ohe_sample.dtypes"
   ]
  },
  {
   "cell_type": "code",
   "execution_count": 69,
   "metadata": {},
   "outputs": [],
   "source": [
    "# Train-test split\n",
    "# Load the library\n",
    "from sklearn.model_selection import train_test_split\n",
    "# Create 2 groups each with input and labels\n",
    "X_train, X_test, y_train, y_test = train_test_split(X, y, test_size=0.20)"
   ]
  },
  {
   "cell_type": "code",
   "execution_count": 70,
   "metadata": {},
   "outputs": [],
   "source": [
    "from sklearn.preprocessing import OneHotEncoder"
   ]
  },
  {
   "cell_type": "code",
   "execution_count": 71,
   "metadata": {},
   "outputs": [
    {
     "data": {
      "text/plain": [
       "OneHotEncoder(categorical_features=None, categories=None, drop=None,\n",
       "              dtype=<class 'numpy.float64'>, handle_unknown='ignore',\n",
       "              n_values=None, sparse=True)"
      ]
     },
     "execution_count": 71,
     "metadata": {},
     "output_type": "execute_result"
    }
   ],
   "source": [
    "# Create the encoder.\n",
    "encoder = OneHotEncoder(handle_unknown=\"ignore\")\n",
    "encoder.fit(X_train)    # Assume for simplicity all features are categorical."
   ]
  },
  {
   "cell_type": "code",
   "execution_count": 72,
   "metadata": {},
   "outputs": [],
   "source": [
    "# Apply the encoder.\n",
    "X_train = encoder.transform(X_train)\n",
    "X_test = encoder.transform(X_test)"
   ]
  },
  {
   "cell_type": "code",
   "execution_count": 73,
   "metadata": {},
   "outputs": [
    {
     "data": {
      "text/plain": [
       "(10000, 4)"
      ]
     },
     "execution_count": 73,
     "metadata": {},
     "output_type": "execute_result"
    }
   ],
   "source": [
    "X.shape"
   ]
  },
  {
   "cell_type": "code",
   "execution_count": 74,
   "metadata": {},
   "outputs": [
    {
     "data": {
      "text/plain": [
       "(8000, 49)"
      ]
     },
     "execution_count": 74,
     "metadata": {},
     "output_type": "execute_result"
    }
   ],
   "source": [
    "X_train.shape"
   ]
  },
  {
   "cell_type": "code",
   "execution_count": 75,
   "metadata": {},
   "outputs": [
    {
     "data": {
      "text/plain": [
       "(2000, 49)"
      ]
     },
     "execution_count": 75,
     "metadata": {},
     "output_type": "execute_result"
    }
   ],
   "source": [
    "X_test.shape"
   ]
  },
  {
   "cell_type": "code",
   "execution_count": 76,
   "metadata": {},
   "outputs": [
    {
     "data": {
      "text/plain": [
       "array(['11:00', 'VIERNES', 'HOMBRE', '50'], dtype=object)"
      ]
     },
     "execution_count": 76,
     "metadata": {},
     "output_type": "execute_result"
    }
   ],
   "source": [
    "X[0]"
   ]
  },
  {
   "cell_type": "code",
   "execution_count": 77,
   "metadata": {},
   "outputs": [
    {
     "data": {
      "text/plain": [
       "<1x49 sparse matrix of type '<class 'numpy.float64'>'\n",
       "\twith 4 stored elements in Compressed Sparse Row format>"
      ]
     },
     "execution_count": 77,
     "metadata": {},
     "output_type": "execute_result"
    }
   ],
   "source": [
    "X_train[0]"
   ]
  },
  {
   "cell_type": "code",
   "execution_count": 78,
   "metadata": {},
   "outputs": [
    {
     "data": {
      "text/plain": [
       "<1x49 sparse matrix of type '<class 'numpy.float64'>'\n",
       "\twith 4 stored elements in Compressed Sparse Row format>"
      ]
     },
     "execution_count": 78,
     "metadata": {},
     "output_type": "execute_result"
    }
   ],
   "source": [
    "X_test[0]"
   ]
  },
  {
   "cell_type": "code",
   "execution_count": 79,
   "metadata": {},
   "outputs": [
    {
     "data": {
      "text/html": [
       "<div>\n",
       "<style scoped>\n",
       "    .dataframe tbody tr th:only-of-type {\n",
       "        vertical-align: middle;\n",
       "    }\n",
       "\n",
       "    .dataframe tbody tr th {\n",
       "        vertical-align: top;\n",
       "    }\n",
       "\n",
       "    .dataframe thead th {\n",
       "        text-align: right;\n",
       "    }\n",
       "</style>\n",
       "<table border=\"1\" class=\"dataframe\">\n",
       "  <thead>\n",
       "    <tr style=\"text-align: right;\">\n",
       "      <th></th>\n",
       "      <th>HORA</th>\n",
       "      <th>DIA_SEMANA</th>\n",
       "      <th>DISTRITO</th>\n",
       "      <th>SEXO</th>\n",
       "      <th>EDAD_APROX</th>\n",
       "    </tr>\n",
       "  </thead>\n",
       "  <tbody>\n",
       "    <tr>\n",
       "      <th>0</th>\n",
       "      <td>11:00</td>\n",
       "      <td>VIERNES</td>\n",
       "      <td>CHAMARTIN</td>\n",
       "      <td>HOMBRE</td>\n",
       "      <td>50</td>\n",
       "    </tr>\n",
       "    <tr>\n",
       "      <th>1</th>\n",
       "      <td>03:00</td>\n",
       "      <td>MIERCOLES</td>\n",
       "      <td>USERA</td>\n",
       "      <td>HOMBRE</td>\n",
       "      <td>35</td>\n",
       "    </tr>\n",
       "    <tr>\n",
       "      <th>2</th>\n",
       "      <td>22:00</td>\n",
       "      <td>JUEVES</td>\n",
       "      <td>CENTRO</td>\n",
       "      <td>MUJER</td>\n",
       "      <td>NO_ASIGNADO</td>\n",
       "    </tr>\n",
       "  </tbody>\n",
       "</table>\n",
       "</div>"
      ],
      "text/plain": [
       "    HORA DIA_SEMANA   DISTRITO    SEXO   EDAD_APROX\n",
       "0  11:00    VIERNES  CHAMARTIN  HOMBRE           50\n",
       "1  03:00  MIERCOLES      USERA  HOMBRE           35\n",
       "2  22:00     JUEVES     CENTRO   MUJER  NO_ASIGNADO"
      ]
     },
     "execution_count": 79,
     "metadata": {},
     "output_type": "execute_result"
    }
   ],
   "source": [
    "df_accs_lab_ohe_sample.head(3)"
   ]
  },
  {
   "cell_type": "code",
   "execution_count": 80,
   "metadata": {},
   "outputs": [],
   "source": [
    "df_accs_lab_sample = df_accs_lab_ohe_sample.reset_index(drop=True)"
   ]
  },
  {
   "cell_type": "code",
   "execution_count": 81,
   "metadata": {},
   "outputs": [
    {
     "data": {
      "text/html": [
       "<div>\n",
       "<style scoped>\n",
       "    .dataframe tbody tr th:only-of-type {\n",
       "        vertical-align: middle;\n",
       "    }\n",
       "\n",
       "    .dataframe tbody tr th {\n",
       "        vertical-align: top;\n",
       "    }\n",
       "\n",
       "    .dataframe thead th {\n",
       "        text-align: right;\n",
       "    }\n",
       "</style>\n",
       "<table border=\"1\" class=\"dataframe\">\n",
       "  <thead>\n",
       "    <tr style=\"text-align: right;\">\n",
       "      <th></th>\n",
       "      <th>HORA</th>\n",
       "      <th>DIA_SEMANA</th>\n",
       "      <th>DISTRITO</th>\n",
       "      <th>SEXO</th>\n",
       "      <th>EDAD_APROX</th>\n",
       "    </tr>\n",
       "  </thead>\n",
       "  <tbody>\n",
       "    <tr>\n",
       "      <th>0</th>\n",
       "      <td>11:00</td>\n",
       "      <td>VIERNES</td>\n",
       "      <td>CHAMARTIN</td>\n",
       "      <td>HOMBRE</td>\n",
       "      <td>50</td>\n",
       "    </tr>\n",
       "    <tr>\n",
       "      <th>1</th>\n",
       "      <td>03:00</td>\n",
       "      <td>MIERCOLES</td>\n",
       "      <td>USERA</td>\n",
       "      <td>HOMBRE</td>\n",
       "      <td>35</td>\n",
       "    </tr>\n",
       "    <tr>\n",
       "      <th>2</th>\n",
       "      <td>22:00</td>\n",
       "      <td>JUEVES</td>\n",
       "      <td>CENTRO</td>\n",
       "      <td>MUJER</td>\n",
       "      <td>NO_ASIGNADO</td>\n",
       "    </tr>\n",
       "  </tbody>\n",
       "</table>\n",
       "</div>"
      ],
      "text/plain": [
       "    HORA DIA_SEMANA   DISTRITO    SEXO   EDAD_APROX\n",
       "0  11:00    VIERNES  CHAMARTIN  HOMBRE           50\n",
       "1  03:00  MIERCOLES      USERA  HOMBRE           35\n",
       "2  22:00     JUEVES     CENTRO   MUJER  NO_ASIGNADO"
      ]
     },
     "execution_count": 81,
     "metadata": {},
     "output_type": "execute_result"
    }
   ],
   "source": [
    "df_accs_lab_sample.head(3)"
   ]
  },
  {
   "cell_type": "code",
   "execution_count": 82,
   "metadata": {},
   "outputs": [],
   "source": [
    "# Etiquetamos mediante Label Encoding\n",
    "from sklearn.preprocessing import LabelEncoder\n",
    "lab = LabelEncoder() "
   ]
  },
  {
   "cell_type": "code",
   "execution_count": 83,
   "metadata": {},
   "outputs": [],
   "source": [
    "df_accs_lab_sample['HORA']= lab.fit_transform(df_accs_lab_sample['HORA'])\n",
    "df_accs_lab_sample['DIA_SEMANA']= lab.fit_transform(df_accs_lab_sample['DIA_SEMANA'])\n",
    "df_accs_lab_sample['DISTRITO']= lab.fit_transform(df_accs_lab_sample['DISTRITO'])\n",
    "df_accs_lab_sample['SEXO']= lab.fit_transform(df_accs_lab_sample['SEXO'])\n",
    "df_accs_lab_sample['EDAD_APROX']= lab.fit_transform(df_accs_lab_sample['EDAD_APROX'])"
   ]
  },
  {
   "cell_type": "code",
   "execution_count": 84,
   "metadata": {},
   "outputs": [
    {
     "data": {
      "text/html": [
       "<div>\n",
       "<style scoped>\n",
       "    .dataframe tbody tr th:only-of-type {\n",
       "        vertical-align: middle;\n",
       "    }\n",
       "\n",
       "    .dataframe tbody tr th {\n",
       "        vertical-align: top;\n",
       "    }\n",
       "\n",
       "    .dataframe thead th {\n",
       "        text-align: right;\n",
       "    }\n",
       "</style>\n",
       "<table border=\"1\" class=\"dataframe\">\n",
       "  <thead>\n",
       "    <tr style=\"text-align: right;\">\n",
       "      <th></th>\n",
       "      <th>HORA</th>\n",
       "      <th>DIA_SEMANA</th>\n",
       "      <th>DISTRITO</th>\n",
       "      <th>SEXO</th>\n",
       "      <th>EDAD_APROX</th>\n",
       "    </tr>\n",
       "  </thead>\n",
       "  <tbody>\n",
       "    <tr>\n",
       "      <th>0</th>\n",
       "      <td>11</td>\n",
       "      <td>6</td>\n",
       "      <td>4</td>\n",
       "      <td>0</td>\n",
       "      <td>9</td>\n",
       "    </tr>\n",
       "    <tr>\n",
       "      <th>1</th>\n",
       "      <td>3</td>\n",
       "      <td>4</td>\n",
       "      <td>17</td>\n",
       "      <td>0</td>\n",
       "      <td>6</td>\n",
       "    </tr>\n",
       "    <tr>\n",
       "      <th>2</th>\n",
       "      <td>22</td>\n",
       "      <td>1</td>\n",
       "      <td>3</td>\n",
       "      <td>1</td>\n",
       "      <td>14</td>\n",
       "    </tr>\n",
       "  </tbody>\n",
       "</table>\n",
       "</div>"
      ],
      "text/plain": [
       "   HORA  DIA_SEMANA  DISTRITO  SEXO  EDAD_APROX\n",
       "0    11           6         4     0           9\n",
       "1     3           4        17     0           6\n",
       "2    22           1         3     1          14"
      ]
     },
     "execution_count": 84,
     "metadata": {},
     "output_type": "execute_result"
    }
   ],
   "source": [
    "df_accs_lab_sample.head(3)"
   ]
  },
  {
   "cell_type": "code",
   "execution_count": 85,
   "metadata": {},
   "outputs": [],
   "source": [
    "# Nuestra clase target será DISTRITO"
   ]
  },
  {
   "cell_type": "code",
   "execution_count": 86,
   "metadata": {},
   "outputs": [
    {
     "data": {
      "text/plain": [
       "HORA          int64\n",
       "DIA_SEMANA    int64\n",
       "DISTRITO      int64\n",
       "SEXO          int64\n",
       "EDAD_APROX    int64\n",
       "dtype: object"
      ]
     },
     "execution_count": 86,
     "metadata": {},
     "output_type": "execute_result"
    }
   ],
   "source": [
    "df_accs_lab_sample.dtypes"
   ]
  },
  {
   "cell_type": "code",
   "execution_count": 87,
   "metadata": {},
   "outputs": [],
   "source": [
    "df_accs_lab_ohe_sample['DISTRITO']= lab.fit_transform(df_accs_lab_ohe_sample['DISTRITO'])"
   ]
  },
  {
   "cell_type": "code",
   "execution_count": 88,
   "metadata": {},
   "outputs": [
    {
     "data": {
      "text/html": [
       "<div>\n",
       "<style scoped>\n",
       "    .dataframe tbody tr th:only-of-type {\n",
       "        vertical-align: middle;\n",
       "    }\n",
       "\n",
       "    .dataframe tbody tr th {\n",
       "        vertical-align: top;\n",
       "    }\n",
       "\n",
       "    .dataframe thead th {\n",
       "        text-align: right;\n",
       "    }\n",
       "</style>\n",
       "<table border=\"1\" class=\"dataframe\">\n",
       "  <thead>\n",
       "    <tr style=\"text-align: right;\">\n",
       "      <th></th>\n",
       "      <th>HORA</th>\n",
       "      <th>DIA_SEMANA</th>\n",
       "      <th>DISTRITO</th>\n",
       "      <th>SEXO</th>\n",
       "      <th>EDAD_APROX</th>\n",
       "    </tr>\n",
       "  </thead>\n",
       "  <tbody>\n",
       "    <tr>\n",
       "      <th>0</th>\n",
       "      <td>00:00</td>\n",
       "      <td>VIERNES</td>\n",
       "      <td>CHAMARTIN</td>\n",
       "      <td>HOMBRE</td>\n",
       "      <td>20</td>\n",
       "    </tr>\n",
       "  </tbody>\n",
       "</table>\n",
       "</div>"
      ],
      "text/plain": [
       "    HORA DIA_SEMANA   DISTRITO    SEXO EDAD_APROX\n",
       "0  00:00    VIERNES  CHAMARTIN  HOMBRE         20"
      ]
     },
     "execution_count": 88,
     "metadata": {},
     "output_type": "execute_result"
    }
   ],
   "source": [
    "df_accs.head(1)"
   ]
  },
  {
   "cell_type": "code",
   "execution_count": 89,
   "metadata": {},
   "outputs": [
    {
     "data": {
      "text/html": [
       "<div>\n",
       "<style scoped>\n",
       "    .dataframe tbody tr th:only-of-type {\n",
       "        vertical-align: middle;\n",
       "    }\n",
       "\n",
       "    .dataframe tbody tr th {\n",
       "        vertical-align: top;\n",
       "    }\n",
       "\n",
       "    .dataframe thead th {\n",
       "        text-align: right;\n",
       "    }\n",
       "</style>\n",
       "<table border=\"1\" class=\"dataframe\">\n",
       "  <thead>\n",
       "    <tr style=\"text-align: right;\">\n",
       "      <th></th>\n",
       "      <th>HORA</th>\n",
       "      <th>DIA_SEMANA</th>\n",
       "      <th>DISTRITO</th>\n",
       "      <th>SEXO</th>\n",
       "      <th>EDAD_APROX</th>\n",
       "    </tr>\n",
       "  </thead>\n",
       "  <tbody>\n",
       "    <tr>\n",
       "      <th>0</th>\n",
       "      <td>00:00</td>\n",
       "      <td>VIERNES</td>\n",
       "      <td>CHAMARTIN</td>\n",
       "      <td>HOMBRE</td>\n",
       "      <td>20</td>\n",
       "    </tr>\n",
       "  </tbody>\n",
       "</table>\n",
       "</div>"
      ],
      "text/plain": [
       "    HORA DIA_SEMANA   DISTRITO    SEXO EDAD_APROX\n",
       "0  00:00    VIERNES  CHAMARTIN  HOMBRE         20"
      ]
     },
     "execution_count": 89,
     "metadata": {},
     "output_type": "execute_result"
    }
   ],
   "source": [
    "df_accs_lab_ohe.head(1)"
   ]
  },
  {
   "cell_type": "code",
   "execution_count": 90,
   "metadata": {},
   "outputs": [
    {
     "data": {
      "text/html": [
       "<div>\n",
       "<style scoped>\n",
       "    .dataframe tbody tr th:only-of-type {\n",
       "        vertical-align: middle;\n",
       "    }\n",
       "\n",
       "    .dataframe tbody tr th {\n",
       "        vertical-align: top;\n",
       "    }\n",
       "\n",
       "    .dataframe thead th {\n",
       "        text-align: right;\n",
       "    }\n",
       "</style>\n",
       "<table border=\"1\" class=\"dataframe\">\n",
       "  <thead>\n",
       "    <tr style=\"text-align: right;\">\n",
       "      <th></th>\n",
       "      <th>HORA_01:00</th>\n",
       "      <th>HORA_02:00</th>\n",
       "      <th>HORA_03:00</th>\n",
       "      <th>HORA_04:00</th>\n",
       "      <th>HORA_05:00</th>\n",
       "      <th>HORA_06:00</th>\n",
       "      <th>HORA_07:00</th>\n",
       "      <th>HORA_08:00</th>\n",
       "      <th>HORA_09:00</th>\n",
       "      <th>HORA_10:00</th>\n",
       "      <th>HORA_11:00</th>\n",
       "      <th>HORA_12:00</th>\n",
       "      <th>HORA_13:00</th>\n",
       "      <th>HORA_14:00</th>\n",
       "      <th>HORA_15:00</th>\n",
       "      <th>HORA_16:00</th>\n",
       "      <th>HORA_17:00</th>\n",
       "      <th>HORA_18:00</th>\n",
       "      <th>HORA_19:00</th>\n",
       "      <th>HORA_20:00</th>\n",
       "      <th>HORA_21:00</th>\n",
       "      <th>HORA_22:00</th>\n",
       "      <th>HORA_23:00</th>\n",
       "      <th>DIA_SEMANA_JUEVES</th>\n",
       "      <th>DIA_SEMANA_LUNES</th>\n",
       "      <th>DIA_SEMANA_MARTES</th>\n",
       "      <th>DIA_SEMANA_MIERCOLES</th>\n",
       "      <th>DIA_SEMANA_SABADO</th>\n",
       "      <th>DIA_SEMANA_VIERNES</th>\n",
       "      <th>DISTRITO_BARAJAS</th>\n",
       "      <th>DISTRITO_CARABANCHEL</th>\n",
       "      <th>DISTRITO_CENTRO</th>\n",
       "      <th>DISTRITO_CHAMARTIN</th>\n",
       "      <th>DISTRITO_CHAMBERI</th>\n",
       "      <th>DISTRITO_CIUDAD LINEAL</th>\n",
       "      <th>DISTRITO_FUENCARRAL-EL PARDO</th>\n",
       "      <th>DISTRITO_HORTALEZA</th>\n",
       "      <th>DISTRITO_LATINA</th>\n",
       "      <th>DISTRITO_MONCLOA-ARAVACA</th>\n",
       "      <th>DISTRITO_MORATALAZ</th>\n",
       "      <th>DISTRITO_PUENTE DE VALLECAS</th>\n",
       "      <th>DISTRITO_RETIRO</th>\n",
       "      <th>DISTRITO_SALAMANCA</th>\n",
       "      <th>DISTRITO_SAN BLAS</th>\n",
       "      <th>DISTRITO_TETUAN</th>\n",
       "      <th>DISTRITO_USERA</th>\n",
       "      <th>DISTRITO_VICALVARO</th>\n",
       "      <th>DISTRITO_VILLA DE VALLECAS</th>\n",
       "      <th>DISTRITO_VILLAVERDE</th>\n",
       "      <th>SEXO_MUJER</th>\n",
       "      <th>SEXO_NO_ASIGNADO</th>\n",
       "      <th>EDAD_APROX_10</th>\n",
       "      <th>EDAD_APROX_15</th>\n",
       "      <th>EDAD_APROX_20</th>\n",
       "      <th>EDAD_APROX_25</th>\n",
       "      <th>EDAD_APROX_30</th>\n",
       "      <th>EDAD_APROX_35</th>\n",
       "      <th>EDAD_APROX_40</th>\n",
       "      <th>EDAD_APROX_45</th>\n",
       "      <th>EDAD_APROX_50</th>\n",
       "      <th>EDAD_APROX_55</th>\n",
       "      <th>EDAD_APROX_65</th>\n",
       "      <th>EDAD_APROX_70</th>\n",
       "      <th>EDAD_APROX_75</th>\n",
       "      <th>EDAD_APROX_NO_ASIGNADO</th>\n",
       "    </tr>\n",
       "  </thead>\n",
       "  <tbody>\n",
       "    <tr>\n",
       "      <th>0</th>\n",
       "      <td>0</td>\n",
       "      <td>0</td>\n",
       "      <td>0</td>\n",
       "      <td>0</td>\n",
       "      <td>0</td>\n",
       "      <td>0</td>\n",
       "      <td>0</td>\n",
       "      <td>0</td>\n",
       "      <td>0</td>\n",
       "      <td>0</td>\n",
       "      <td>1</td>\n",
       "      <td>0</td>\n",
       "      <td>0</td>\n",
       "      <td>0</td>\n",
       "      <td>0</td>\n",
       "      <td>0</td>\n",
       "      <td>0</td>\n",
       "      <td>0</td>\n",
       "      <td>0</td>\n",
       "      <td>0</td>\n",
       "      <td>0</td>\n",
       "      <td>0</td>\n",
       "      <td>0</td>\n",
       "      <td>0</td>\n",
       "      <td>0</td>\n",
       "      <td>0</td>\n",
       "      <td>0</td>\n",
       "      <td>0</td>\n",
       "      <td>1</td>\n",
       "      <td>0</td>\n",
       "      <td>0</td>\n",
       "      <td>0</td>\n",
       "      <td>1</td>\n",
       "      <td>0</td>\n",
       "      <td>0</td>\n",
       "      <td>0</td>\n",
       "      <td>0</td>\n",
       "      <td>0</td>\n",
       "      <td>0</td>\n",
       "      <td>0</td>\n",
       "      <td>0</td>\n",
       "      <td>0</td>\n",
       "      <td>0</td>\n",
       "      <td>0</td>\n",
       "      <td>0</td>\n",
       "      <td>0</td>\n",
       "      <td>0</td>\n",
       "      <td>0</td>\n",
       "      <td>0</td>\n",
       "      <td>0</td>\n",
       "      <td>0</td>\n",
       "      <td>0</td>\n",
       "      <td>0</td>\n",
       "      <td>0</td>\n",
       "      <td>0</td>\n",
       "      <td>0</td>\n",
       "      <td>0</td>\n",
       "      <td>0</td>\n",
       "      <td>0</td>\n",
       "      <td>1</td>\n",
       "      <td>0</td>\n",
       "      <td>0</td>\n",
       "      <td>0</td>\n",
       "      <td>0</td>\n",
       "      <td>0</td>\n",
       "    </tr>\n",
       "  </tbody>\n",
       "</table>\n",
       "</div>"
      ],
      "text/plain": [
       "   HORA_01:00  HORA_02:00  HORA_03:00  HORA_04:00  HORA_05:00  HORA_06:00  \\\n",
       "0           0           0           0           0           0           0   \n",
       "\n",
       "   HORA_07:00  HORA_08:00  HORA_09:00  HORA_10:00  HORA_11:00  HORA_12:00  \\\n",
       "0           0           0           0           0           1           0   \n",
       "\n",
       "   HORA_13:00  HORA_14:00  HORA_15:00  HORA_16:00  HORA_17:00  HORA_18:00  \\\n",
       "0           0           0           0           0           0           0   \n",
       "\n",
       "   HORA_19:00  HORA_20:00  HORA_21:00  HORA_22:00  HORA_23:00  \\\n",
       "0           0           0           0           0           0   \n",
       "\n",
       "   DIA_SEMANA_JUEVES  DIA_SEMANA_LUNES  DIA_SEMANA_MARTES  \\\n",
       "0                  0                 0                  0   \n",
       "\n",
       "   DIA_SEMANA_MIERCOLES  DIA_SEMANA_SABADO  DIA_SEMANA_VIERNES  \\\n",
       "0                     0                  0                   1   \n",
       "\n",
       "   DISTRITO_BARAJAS  DISTRITO_CARABANCHEL  DISTRITO_CENTRO  \\\n",
       "0                 0                     0                0   \n",
       "\n",
       "   DISTRITO_CHAMARTIN  DISTRITO_CHAMBERI  DISTRITO_CIUDAD LINEAL  \\\n",
       "0                   1                  0                       0   \n",
       "\n",
       "   DISTRITO_FUENCARRAL-EL PARDO  DISTRITO_HORTALEZA  DISTRITO_LATINA  \\\n",
       "0                             0                   0                0   \n",
       "\n",
       "   DISTRITO_MONCLOA-ARAVACA  DISTRITO_MORATALAZ  DISTRITO_PUENTE DE VALLECAS  \\\n",
       "0                         0                   0                            0   \n",
       "\n",
       "   DISTRITO_RETIRO  DISTRITO_SALAMANCA  DISTRITO_SAN BLAS  DISTRITO_TETUAN  \\\n",
       "0                0                   0                  0                0   \n",
       "\n",
       "   DISTRITO_USERA  DISTRITO_VICALVARO  DISTRITO_VILLA DE VALLECAS  \\\n",
       "0               0                   0                           0   \n",
       "\n",
       "   DISTRITO_VILLAVERDE  SEXO_MUJER  SEXO_NO_ASIGNADO  EDAD_APROX_10  \\\n",
       "0                    0           0                 0              0   \n",
       "\n",
       "   EDAD_APROX_15  EDAD_APROX_20  EDAD_APROX_25  EDAD_APROX_30  EDAD_APROX_35  \\\n",
       "0              0              0              0              0              0   \n",
       "\n",
       "   EDAD_APROX_40  EDAD_APROX_45  EDAD_APROX_50  EDAD_APROX_55  EDAD_APROX_65  \\\n",
       "0              0              0              1              0              0   \n",
       "\n",
       "   EDAD_APROX_70  EDAD_APROX_75  EDAD_APROX_NO_ASIGNADO  \n",
       "0              0              0                       0  "
      ]
     },
     "execution_count": 90,
     "metadata": {},
     "output_type": "execute_result"
    }
   ],
   "source": [
    "df_accs_dumm_sample.head(1)"
   ]
  },
  {
   "cell_type": "code",
   "execution_count": 91,
   "metadata": {},
   "outputs": [
    {
     "data": {
      "text/html": [
       "<div>\n",
       "<style scoped>\n",
       "    .dataframe tbody tr th:only-of-type {\n",
       "        vertical-align: middle;\n",
       "    }\n",
       "\n",
       "    .dataframe tbody tr th {\n",
       "        vertical-align: top;\n",
       "    }\n",
       "\n",
       "    .dataframe thead th {\n",
       "        text-align: right;\n",
       "    }\n",
       "</style>\n",
       "<table border=\"1\" class=\"dataframe\">\n",
       "  <thead>\n",
       "    <tr style=\"text-align: right;\">\n",
       "      <th></th>\n",
       "      <th>HORA</th>\n",
       "      <th>DIA_SEMANA</th>\n",
       "      <th>DISTRITO</th>\n",
       "      <th>SEXO</th>\n",
       "      <th>EDAD_APROX</th>\n",
       "    </tr>\n",
       "  </thead>\n",
       "  <tbody>\n",
       "    <tr>\n",
       "      <th>0</th>\n",
       "      <td>11</td>\n",
       "      <td>6</td>\n",
       "      <td>4</td>\n",
       "      <td>0</td>\n",
       "      <td>9</td>\n",
       "    </tr>\n",
       "  </tbody>\n",
       "</table>\n",
       "</div>"
      ],
      "text/plain": [
       "   HORA  DIA_SEMANA  DISTRITO  SEXO  EDAD_APROX\n",
       "0    11           6         4     0           9"
      ]
     },
     "execution_count": 91,
     "metadata": {},
     "output_type": "execute_result"
    }
   ],
   "source": [
    "df_accs_lab_sample.head(1)"
   ]
  },
  {
   "cell_type": "code",
   "execution_count": 92,
   "metadata": {},
   "outputs": [
    {
     "data": {
      "text/html": [
       "<div>\n",
       "<style scoped>\n",
       "    .dataframe tbody tr th:only-of-type {\n",
       "        vertical-align: middle;\n",
       "    }\n",
       "\n",
       "    .dataframe tbody tr th {\n",
       "        vertical-align: top;\n",
       "    }\n",
       "\n",
       "    .dataframe thead th {\n",
       "        text-align: right;\n",
       "    }\n",
       "</style>\n",
       "<table border=\"1\" class=\"dataframe\">\n",
       "  <thead>\n",
       "    <tr style=\"text-align: right;\">\n",
       "      <th></th>\n",
       "      <th>HORA</th>\n",
       "      <th>DIA_SEMANA</th>\n",
       "      <th>DISTRITO</th>\n",
       "      <th>SEXO</th>\n",
       "      <th>EDAD_APROX</th>\n",
       "    </tr>\n",
       "  </thead>\n",
       "  <tbody>\n",
       "    <tr>\n",
       "      <th>0</th>\n",
       "      <td>11:00</td>\n",
       "      <td>VIERNES</td>\n",
       "      <td>4</td>\n",
       "      <td>HOMBRE</td>\n",
       "      <td>50</td>\n",
       "    </tr>\n",
       "  </tbody>\n",
       "</table>\n",
       "</div>"
      ],
      "text/plain": [
       "    HORA DIA_SEMANA  DISTRITO    SEXO EDAD_APROX\n",
       "0  11:00    VIERNES         4  HOMBRE         50"
      ]
     },
     "execution_count": 92,
     "metadata": {},
     "output_type": "execute_result"
    }
   ],
   "source": [
    "df_accs_lab_ohe_sample.head(1)"
   ]
  },
  {
   "cell_type": "code",
   "execution_count": 93,
   "metadata": {},
   "outputs": [
    {
     "data": {
      "image/png": "[encoded data removed]",
      "text/plain": [
       "<Figure size 432x288 with 4 Axes>"
      ]
     },
     "metadata": {
      "needs_background": "light"
     },
     "output_type": "display_data"
    }
   ],
   "source": [
    "df_accs_lab_sample.drop(['DISTRITO'],1).hist()\n",
    "\n",
    "plt.show()"
   ]
  },
  {
   "cell_type": "code",
   "execution_count": 94,
   "metadata": {},
   "outputs": [
    {
     "data": {
      "text/plain": [
       "Index(['HORA', 'DIA_SEMANA', 'DISTRITO', 'SEXO', 'EDAD_APROX'], dtype='object')"
      ]
     },
     "execution_count": 94,
     "metadata": {},
     "output_type": "execute_result"
    }
   ],
   "source": [
    "df_accs_lab_sample.columns"
   ]
  },
  {
   "cell_type": "code",
   "execution_count": 95,
   "metadata": {},
   "outputs": [
    {
     "name": "stderr",
     "output_type": "stream",
     "text": [
      "/home/dsc/anaconda3/lib/python3.7/site-packages/scipy/stats/stats.py:1713: FutureWarning: Using a non-tuple sequence for multidimensional indexing is deprecated; use `arr[tuple(seq)]` instead of `arr[seq]`. In the future this will be interpreted as an array index, `arr[np.array(seq)]`, which will result either in an error or a different result.\n",
      "  return np.add.reduce(sorted[indexer] * weights, axis=axis) / sumval\n"
     ]
    },
    {
     "data": {
      "text/plain": [
       "<seaborn.axisgrid.PairGrid at 0x7f06a8d5b128>"
      ]
     },
     "execution_count": 95,
     "metadata": {},
     "output_type": "execute_result"
    },
    {
     "data": {
      "image/png": "[encoded data removed]",
      "text/plain": [
       "<Figure size 1206.38x1152 with 20 Axes>"
      ]
     },
     "metadata": {
      "needs_background": "light"
     },
     "output_type": "display_data"
    }
   ],
   "source": [
    "# Y también podemos ver la interrelación mediante el gráfico de pares (matriz de diagrama de dispersión)\n",
    "# Nos permite ver tanto la distribución de variables individuales como las relaciones entre dos variables.\n",
    "sb.pairplot(df_accs_lab_sample.dropna(), hue='DISTRITO',height=4,vars=['HORA', 'DIA_SEMANA', \\\n",
    "       'SEXO', 'EDAD_APROX'],kind='reg')"
   ]
  },
  {
   "cell_type": "code",
   "execution_count": 96,
   "metadata": {},
   "outputs": [
    {
     "data": {
      "text/plain": [
       "Index(['HORA', 'DIA_SEMANA', 'DISTRITO', 'SEXO', 'EDAD_APROX'], dtype='object')"
      ]
     },
     "execution_count": 96,
     "metadata": {},
     "output_type": "execute_result"
    }
   ],
   "source": [
    "df_accs_lab_sample.columns"
   ]
  },
  {
   "cell_type": "code",
   "execution_count": 97,
   "metadata": {},
   "outputs": [
    {
     "data": {
      "text/plain": [
       "<seaborn.axisgrid.PairGrid at 0x7f06a3ec6e10>"
      ]
     },
     "execution_count": 97,
     "metadata": {},
     "output_type": "execute_result"
    },
    {
     "data": {
      "image/png": "[encoded data removed]",
      "text/plain": [
       "<Figure size 342.375x288 with 6 Axes>"
      ]
     },
     "metadata": {
      "needs_background": "light"
     },
     "output_type": "display_data"
    }
   ],
   "source": [
    "# Y también podemos ver la interrelación mediante el gráfico de pares (matriz de diagrama de dispersión)\n",
    "# Nos permite ver tanto la distribución de variables individuales como las relaciones entre dos variables.\n",
    "sb.pairplot(df_accs_lab_sample.dropna(), hue='DISTRITO',height=2,vars=['HORA', 'DIA_SEMANA'],kind='reg')"
   ]
  },
  {
   "cell_type": "code",
   "execution_count": 98,
   "metadata": {},
   "outputs": [],
   "source": [
    "# Tenemos cargado:\n",
    "# Cargamos variables con datos de muestra\n",
    "#X = np.array(df_accs_lab_ohe_sample.drop('DISTRITO', 1))\n",
    "#y = np.array(df_accs_lab_ohe_sample[\"DISTRITO\"])\n",
    "#X.shape"
   ]
  },
  {
   "cell_type": "code",
   "execution_count": 99,
   "metadata": {},
   "outputs": [],
   "source": [
    "# Mirar datos mapeados"
   ]
  },
  {
   "cell_type": "code",
   "execution_count": 100,
   "metadata": {},
   "outputs": [
    {
     "data": {
      "text/html": [
       "<div>\n",
       "<style scoped>\n",
       "    .dataframe tbody tr th:only-of-type {\n",
       "        vertical-align: middle;\n",
       "    }\n",
       "\n",
       "    .dataframe tbody tr th {\n",
       "        vertical-align: top;\n",
       "    }\n",
       "\n",
       "    .dataframe thead tr th {\n",
       "        text-align: left;\n",
       "    }\n",
       "\n",
       "    .dataframe thead tr:last-of-type th {\n",
       "        text-align: right;\n",
       "    }\n",
       "</style>\n",
       "<table border=\"1\" class=\"dataframe\">\n",
       "  <thead>\n",
       "    <tr>\n",
       "      <th></th>\n",
       "      <th>HORA</th>\n",
       "      <th>DIA_SEMANA</th>\n",
       "      <th>SEXO</th>\n",
       "      <th>EDAD_APROX</th>\n",
       "    </tr>\n",
       "    <tr>\n",
       "      <th></th>\n",
       "      <th>count</th>\n",
       "      <th>count</th>\n",
       "      <th>count</th>\n",
       "      <th>count</th>\n",
       "    </tr>\n",
       "    <tr>\n",
       "      <th>DISTRITO</th>\n",
       "      <th></th>\n",
       "      <th></th>\n",
       "      <th></th>\n",
       "      <th></th>\n",
       "    </tr>\n",
       "  </thead>\n",
       "  <tbody>\n",
       "    <tr>\n",
       "      <th>0</th>\n",
       "      <td>491</td>\n",
       "      <td>491</td>\n",
       "      <td>491</td>\n",
       "      <td>491</td>\n",
       "    </tr>\n",
       "    <tr>\n",
       "      <th>1</th>\n",
       "      <td>112</td>\n",
       "      <td>112</td>\n",
       "      <td>112</td>\n",
       "      <td>112</td>\n",
       "    </tr>\n",
       "    <tr>\n",
       "      <th>2</th>\n",
       "      <td>614</td>\n",
       "      <td>614</td>\n",
       "      <td>614</td>\n",
       "      <td>614</td>\n",
       "    </tr>\n",
       "    <tr>\n",
       "      <th>3</th>\n",
       "      <td>650</td>\n",
       "      <td>650</td>\n",
       "      <td>650</td>\n",
       "      <td>650</td>\n",
       "    </tr>\n",
       "    <tr>\n",
       "      <th>4</th>\n",
       "      <td>762</td>\n",
       "      <td>762</td>\n",
       "      <td>762</td>\n",
       "      <td>762</td>\n",
       "    </tr>\n",
       "    <tr>\n",
       "      <th>5</th>\n",
       "      <td>570</td>\n",
       "      <td>570</td>\n",
       "      <td>570</td>\n",
       "      <td>570</td>\n",
       "    </tr>\n",
       "    <tr>\n",
       "      <th>6</th>\n",
       "      <td>613</td>\n",
       "      <td>613</td>\n",
       "      <td>613</td>\n",
       "      <td>613</td>\n",
       "    </tr>\n",
       "    <tr>\n",
       "      <th>7</th>\n",
       "      <td>543</td>\n",
       "      <td>543</td>\n",
       "      <td>543</td>\n",
       "      <td>543</td>\n",
       "    </tr>\n",
       "    <tr>\n",
       "      <th>8</th>\n",
       "      <td>351</td>\n",
       "      <td>351</td>\n",
       "      <td>351</td>\n",
       "      <td>351</td>\n",
       "    </tr>\n",
       "    <tr>\n",
       "      <th>9</th>\n",
       "      <td>478</td>\n",
       "      <td>478</td>\n",
       "      <td>478</td>\n",
       "      <td>478</td>\n",
       "    </tr>\n",
       "    <tr>\n",
       "      <th>10</th>\n",
       "      <td>571</td>\n",
       "      <td>571</td>\n",
       "      <td>571</td>\n",
       "      <td>571</td>\n",
       "    </tr>\n",
       "    <tr>\n",
       "      <th>11</th>\n",
       "      <td>248</td>\n",
       "      <td>248</td>\n",
       "      <td>248</td>\n",
       "      <td>248</td>\n",
       "    </tr>\n",
       "    <tr>\n",
       "      <th>12</th>\n",
       "      <td>652</td>\n",
       "      <td>652</td>\n",
       "      <td>652</td>\n",
       "      <td>652</td>\n",
       "    </tr>\n",
       "    <tr>\n",
       "      <th>13</th>\n",
       "      <td>563</td>\n",
       "      <td>563</td>\n",
       "      <td>563</td>\n",
       "      <td>563</td>\n",
       "    </tr>\n",
       "    <tr>\n",
       "      <th>14</th>\n",
       "      <td>790</td>\n",
       "      <td>790</td>\n",
       "      <td>790</td>\n",
       "      <td>790</td>\n",
       "    </tr>\n",
       "    <tr>\n",
       "      <th>15</th>\n",
       "      <td>502</td>\n",
       "      <td>502</td>\n",
       "      <td>502</td>\n",
       "      <td>502</td>\n",
       "    </tr>\n",
       "    <tr>\n",
       "      <th>16</th>\n",
       "      <td>522</td>\n",
       "      <td>522</td>\n",
       "      <td>522</td>\n",
       "      <td>522</td>\n",
       "    </tr>\n",
       "    <tr>\n",
       "      <th>17</th>\n",
       "      <td>361</td>\n",
       "      <td>361</td>\n",
       "      <td>361</td>\n",
       "      <td>361</td>\n",
       "    </tr>\n",
       "    <tr>\n",
       "      <th>18</th>\n",
       "      <td>121</td>\n",
       "      <td>121</td>\n",
       "      <td>121</td>\n",
       "      <td>121</td>\n",
       "    </tr>\n",
       "    <tr>\n",
       "      <th>19</th>\n",
       "      <td>246</td>\n",
       "      <td>246</td>\n",
       "      <td>246</td>\n",
       "      <td>246</td>\n",
       "    </tr>\n",
       "    <tr>\n",
       "      <th>20</th>\n",
       "      <td>240</td>\n",
       "      <td>240</td>\n",
       "      <td>240</td>\n",
       "      <td>240</td>\n",
       "    </tr>\n",
       "  </tbody>\n",
       "</table>\n",
       "</div>"
      ],
      "text/plain": [
       "          HORA DIA_SEMANA  SEXO EDAD_APROX\n",
       "         count      count count      count\n",
       "DISTRITO                                  \n",
       "0          491        491   491        491\n",
       "1          112        112   112        112\n",
       "2          614        614   614        614\n",
       "3          650        650   650        650\n",
       "4          762        762   762        762\n",
       "5          570        570   570        570\n",
       "6          613        613   613        613\n",
       "7          543        543   543        543\n",
       "8          351        351   351        351\n",
       "9          478        478   478        478\n",
       "10         571        571   571        571\n",
       "11         248        248   248        248\n",
       "12         652        652   652        652\n",
       "13         563        563   563        563\n",
       "14         790        790   790        790\n",
       "15         502        502   502        502\n",
       "16         522        522   522        522\n",
       "17         361        361   361        361\n",
       "18         121        121   121        121\n",
       "19         246        246   246        246\n",
       "20         240        240   240        240"
      ]
     },
     "execution_count": 100,
     "metadata": {},
     "output_type": "execute_result"
    }
   ],
   "source": [
    "df_accs_lab_ohe_sample.groupby(['DISTRITO'], as_index=False).agg(['count'])"
   ]
  },
  {
   "cell_type": "code",
   "execution_count": 101,
   "metadata": {},
   "outputs": [
    {
     "data": {
      "text/html": [
       "<div>\n",
       "<style scoped>\n",
       "    .dataframe tbody tr th:only-of-type {\n",
       "        vertical-align: middle;\n",
       "    }\n",
       "\n",
       "    .dataframe tbody tr th {\n",
       "        vertical-align: top;\n",
       "    }\n",
       "\n",
       "    .dataframe thead th {\n",
       "        text-align: right;\n",
       "    }\n",
       "</style>\n",
       "<table border=\"1\" class=\"dataframe\">\n",
       "  <thead>\n",
       "    <tr style=\"text-align: right;\">\n",
       "      <th></th>\n",
       "      <th>HORA</th>\n",
       "      <th>DIA_SEMANA</th>\n",
       "      <th>DISTRITO</th>\n",
       "      <th>SEXO</th>\n",
       "      <th>EDAD_APROX</th>\n",
       "    </tr>\n",
       "  </thead>\n",
       "  <tbody>\n",
       "    <tr>\n",
       "      <th>0</th>\n",
       "      <td>11:00</td>\n",
       "      <td>VIERNES</td>\n",
       "      <td>4</td>\n",
       "      <td>HOMBRE</td>\n",
       "      <td>50</td>\n",
       "    </tr>\n",
       "  </tbody>\n",
       "</table>\n",
       "</div>"
      ],
      "text/plain": [
       "    HORA DIA_SEMANA  DISTRITO    SEXO EDAD_APROX\n",
       "0  11:00    VIERNES         4  HOMBRE         50"
      ]
     },
     "execution_count": 101,
     "metadata": {},
     "output_type": "execute_result"
    }
   ],
   "source": [
    "df_accs_lab_ohe_sample.head(1)"
   ]
  },
  {
   "cell_type": "code",
   "execution_count": 102,
   "metadata": {},
   "outputs": [
    {
     "data": {
      "text/html": [
       "<div>\n",
       "<style scoped>\n",
       "    .dataframe tbody tr th:only-of-type {\n",
       "        vertical-align: middle;\n",
       "    }\n",
       "\n",
       "    .dataframe tbody tr th {\n",
       "        vertical-align: top;\n",
       "    }\n",
       "\n",
       "    .dataframe thead th {\n",
       "        text-align: right;\n",
       "    }\n",
       "</style>\n",
       "<table border=\"1\" class=\"dataframe\">\n",
       "  <thead>\n",
       "    <tr style=\"text-align: right;\">\n",
       "      <th></th>\n",
       "      <th>HORA</th>\n",
       "      <th>DIA_SEMANA</th>\n",
       "      <th>DISTRITO</th>\n",
       "      <th>SEXO</th>\n",
       "      <th>EDAD_APROX</th>\n",
       "    </tr>\n",
       "  </thead>\n",
       "  <tbody>\n",
       "    <tr>\n",
       "      <th>0</th>\n",
       "      <td>00:00</td>\n",
       "      <td>VIERNES</td>\n",
       "      <td>CHAMARTIN</td>\n",
       "      <td>HOMBRE</td>\n",
       "      <td>20</td>\n",
       "    </tr>\n",
       "  </tbody>\n",
       "</table>\n",
       "</div>"
      ],
      "text/plain": [
       "    HORA DIA_SEMANA   DISTRITO    SEXO EDAD_APROX\n",
       "0  00:00    VIERNES  CHAMARTIN  HOMBRE         20"
      ]
     },
     "execution_count": 102,
     "metadata": {},
     "output_type": "execute_result"
    }
   ],
   "source": [
    "df_accs_lab_ohe.head(1)"
   ]
  },
  {
   "cell_type": "code",
   "execution_count": 103,
   "metadata": {},
   "outputs": [],
   "source": [
    "df_accs_lab_ohe['HORA']= lab.fit_transform(df_accs_lab_ohe['HORA'])\n",
    "df_accs_lab_ohe['DIA_SEMANA']= lab.fit_transform(df_accs_lab_ohe['DIA_SEMANA'])\n",
    "#df_accs_lab_ohe['DISTRITO']= lab.fit_transform(df_accs_lab_ohe['DISTRITO'])\n",
    "df_accs_lab_ohe['SEXO']= lab.fit_transform(df_accs_lab_ohe['SEXO'])\n",
    "df_accs_lab_ohe['EDAD_APROX']= lab.fit_transform(df_accs_lab_ohe['EDAD_APROX'])"
   ]
  },
  {
   "cell_type": "code",
   "execution_count": 104,
   "metadata": {},
   "outputs": [
    {
     "data": {
      "text/html": [
       "<div>\n",
       "<style scoped>\n",
       "    .dataframe tbody tr th:only-of-type {\n",
       "        vertical-align: middle;\n",
       "    }\n",
       "\n",
       "    .dataframe tbody tr th {\n",
       "        vertical-align: top;\n",
       "    }\n",
       "\n",
       "    .dataframe thead th {\n",
       "        text-align: right;\n",
       "    }\n",
       "</style>\n",
       "<table border=\"1\" class=\"dataframe\">\n",
       "  <thead>\n",
       "    <tr style=\"text-align: right;\">\n",
       "      <th></th>\n",
       "      <th>HORA</th>\n",
       "      <th>DIA_SEMANA</th>\n",
       "      <th>DISTRITO</th>\n",
       "      <th>SEXO</th>\n",
       "      <th>EDAD_APROX</th>\n",
       "    </tr>\n",
       "  </thead>\n",
       "  <tbody>\n",
       "    <tr>\n",
       "      <th>0</th>\n",
       "      <td>0</td>\n",
       "      <td>6</td>\n",
       "      <td>CHAMARTIN</td>\n",
       "      <td>0</td>\n",
       "      <td>3</td>\n",
       "    </tr>\n",
       "  </tbody>\n",
       "</table>\n",
       "</div>"
      ],
      "text/plain": [
       "   HORA  DIA_SEMANA   DISTRITO  SEXO  EDAD_APROX\n",
       "0     0           6  CHAMARTIN     0           3"
      ]
     },
     "execution_count": 104,
     "metadata": {},
     "output_type": "execute_result"
    }
   ],
   "source": [
    "df_accs_lab_ohe.head(1)"
   ]
  },
  {
   "cell_type": "code",
   "execution_count": 105,
   "metadata": {},
   "outputs": [
    {
     "data": {
      "text/plain": [
       "(252998, 4)"
      ]
     },
     "execution_count": 105,
     "metadata": {},
     "output_type": "execute_result"
    }
   ],
   "source": [
    "# Cargamos variables con datos de muestra\n",
    "X = np.array(df_accs_lab_ohe.drop('DISTRITO', 1))\n",
    "y = np.array(df_accs_lab_ohe[\"DISTRITO\"])\n",
    "X.shape"
   ]
  },
  {
   "cell_type": "code",
   "execution_count": 106,
   "metadata": {},
   "outputs": [],
   "source": [
    "# Train-test split\n",
    "# Load the library\n",
    "from sklearn.model_selection import train_test_split\n",
    "# Create 2 groups each with input and labels\n",
    "X_train, X_test, y_train, y_test = train_test_split(X, y, test_size=0.20)"
   ]
  },
  {
   "cell_type": "code",
   "execution_count": 107,
   "metadata": {},
   "outputs": [],
   "source": [
    "# Feature Scaling\n",
    "from sklearn.preprocessing import StandardScaler \n",
    "sc = StandardScaler() \n",
    "X_train = sc.fit_transform(X_train) \n",
    "X_test = sc.transform(X_test)"
   ]
  },
  {
   "cell_type": "code",
   "execution_count": 108,
   "metadata": {},
   "outputs": [],
   "source": [
    "from sklearn.preprocessing import OneHotEncoder\n",
    "from sklearn.preprocessing import LabelEncoder"
   ]
  },
  {
   "cell_type": "code",
   "execution_count": 109,
   "metadata": {},
   "outputs": [
    {
     "data": {
      "text/plain": [
       "Index(['HORA', 'DIA_SEMANA', 'DISTRITO', 'SEXO', 'EDAD_APROX'], dtype='object')"
      ]
     },
     "execution_count": 109,
     "metadata": {},
     "output_type": "execute_result"
    }
   ],
   "source": [
    "df_accs_lab_ohe.columns"
   ]
  },
  {
   "cell_type": "code",
   "execution_count": 110,
   "metadata": {},
   "outputs": [
    {
     "data": {
      "text/html": [
       "<div>\n",
       "<style scoped>\n",
       "    .dataframe tbody tr th:only-of-type {\n",
       "        vertical-align: middle;\n",
       "    }\n",
       "\n",
       "    .dataframe tbody tr th {\n",
       "        vertical-align: top;\n",
       "    }\n",
       "\n",
       "    .dataframe thead th {\n",
       "        text-align: right;\n",
       "    }\n",
       "</style>\n",
       "<table border=\"1\" class=\"dataframe\">\n",
       "  <thead>\n",
       "    <tr style=\"text-align: right;\">\n",
       "      <th></th>\n",
       "      <th>HORA</th>\n",
       "      <th>DIA_SEMANA</th>\n",
       "      <th>DISTRITO</th>\n",
       "      <th>SEXO</th>\n",
       "      <th>EDAD_APROX</th>\n",
       "    </tr>\n",
       "  </thead>\n",
       "  <tbody>\n",
       "    <tr>\n",
       "      <th>0</th>\n",
       "      <td>0</td>\n",
       "      <td>6</td>\n",
       "      <td>CHAMARTIN</td>\n",
       "      <td>0</td>\n",
       "      <td>3</td>\n",
       "    </tr>\n",
       "  </tbody>\n",
       "</table>\n",
       "</div>"
      ],
      "text/plain": [
       "   HORA  DIA_SEMANA   DISTRITO  SEXO  EDAD_APROX\n",
       "0     0           6  CHAMARTIN     0           3"
      ]
     },
     "execution_count": 110,
     "metadata": {},
     "output_type": "execute_result"
    }
   ],
   "source": [
    "df_accs_lab_ohe.head(1)"
   ]
  },
  {
   "cell_type": "code",
   "execution_count": 111,
   "metadata": {},
   "outputs": [
    {
     "data": {
      "text/plain": [
       "(252998, 5)"
      ]
     },
     "execution_count": 111,
     "metadata": {},
     "output_type": "execute_result"
    }
   ],
   "source": [
    "df_accs_lab_ohe.shape"
   ]
  },
  {
   "cell_type": "code",
   "execution_count": 112,
   "metadata": {},
   "outputs": [
    {
     "data": {
      "text/plain": [
       "HORA          0\n",
       "DIA_SEMANA    0\n",
       "DISTRITO      0\n",
       "SEXO          0\n",
       "EDAD_APROX    0\n",
       "dtype: int64"
      ]
     },
     "execution_count": 112,
     "metadata": {},
     "output_type": "execute_result"
    }
   ],
   "source": [
    "df_accs_lab_ohe.isnull().sum()"
   ]
  },
  {
   "cell_type": "code",
   "execution_count": 113,
   "metadata": {},
   "outputs": [
    {
     "data": {
      "text/plain": [
       "OneHotEncoder(categorical_features=None, categories=None, drop=None,\n",
       "              dtype=<class 'numpy.float64'>, handle_unknown='ignore',\n",
       "              n_values=None, sparse=True)"
      ]
     },
     "execution_count": 113,
     "metadata": {},
     "output_type": "execute_result"
    }
   ],
   "source": [
    "# Create the encoder.\n",
    "encoder = OneHotEncoder(handle_unknown='ignore')\n",
    "\n",
    "# Assume for simplicity all features are categorical.\n",
    "encoder.fit(X_train)"
   ]
  },
  {
   "cell_type": "code",
   "execution_count": 114,
   "metadata": {},
   "outputs": [],
   "source": [
    "# Apply the encoder.\n",
    "X_train = encoder.transform(X_train)\n",
    "X_test = encoder.transform(X_test)"
   ]
  },
  {
   "cell_type": "code",
   "execution_count": 115,
   "metadata": {},
   "outputs": [
    {
     "data": {
      "text/plain": [
       "(252998, 4)"
      ]
     },
     "execution_count": 115,
     "metadata": {},
     "output_type": "execute_result"
    }
   ],
   "source": [
    "X.shape"
   ]
  },
  {
   "cell_type": "code",
   "execution_count": 116,
   "metadata": {},
   "outputs": [
    {
     "data": {
      "text/plain": [
       "<202398x49 sparse matrix of type '<class 'numpy.float64'>'\n",
       "\twith 809592 stored elements in Compressed Sparse Row format>"
      ]
     },
     "execution_count": 116,
     "metadata": {},
     "output_type": "execute_result"
    }
   ],
   "source": [
    "X_train"
   ]
  },
  {
   "cell_type": "code",
   "execution_count": 117,
   "metadata": {},
   "outputs": [
    {
     "data": {
      "text/plain": [
       "<50600x49 sparse matrix of type '<class 'numpy.float64'>'\n",
       "\twith 202400 stored elements in Compressed Sparse Row format>"
      ]
     },
     "execution_count": 117,
     "metadata": {},
     "output_type": "execute_result"
    }
   ],
   "source": [
    "X_test"
   ]
  },
  {
   "cell_type": "markdown",
   "metadata": {},
   "source": [
    "### Regresión Logística con SKLearn"
   ]
  },
  {
   "cell_type": "code",
   "execution_count": 118,
   "metadata": {},
   "outputs": [
    {
     "name": "stderr",
     "output_type": "stream",
     "text": [
      "/home/dsc/anaconda3/lib/python3.7/site-packages/sklearn/linear_model/sag.py:337: ConvergenceWarning: The max_iter was reached which means the coef_ did not converge\n",
      "  \"the coef_ did not converge\", ConvergenceWarning)\n"
     ]
    },
    {
     "data": {
      "text/plain": [
       "LogisticRegression(C=1.0, class_weight=None, dual=False, fit_intercept=True,\n",
       "                   intercept_scaling=1, l1_ratio=None, max_iter=100,\n",
       "                   multi_class='auto', n_jobs=None, penalty='l2',\n",
       "                   random_state=None, solver='sag', tol=0.0001, verbose=0,\n",
       "                   warm_start=False)"
      ]
     },
     "execution_count": 118,
     "metadata": {},
     "output_type": "execute_result"
    }
   ],
   "source": [
    "# Creamos el Modelo de Regresión Logística y \n",
    "# hacemos que se ajuste (fit) a nuestro conjunto de entradas X y salidas ‘y’.\n",
    "from sklearn.linear_model.sag import sag_solver\n",
    "model_LOGREG = linear_model.LogisticRegression(multi_class='auto', solver='sag', verbose=0)\n",
    "model_LOGREG.fit(X_train,y_train)"
   ]
  },
  {
   "cell_type": "code",
   "execution_count": 119,
   "metadata": {},
   "outputs": [],
   "source": [
    "# Clasificamos todo nuestro conjunto de entradas X utilizando el método «predict(X)» para el modelo\n",
    "# y revisamos algunas de sus salidas para comprobar si coincide con las salidas reales de nuestro origen\n",
    "predictions_LOGREG = model_LOGREG.predict(X_test)"
   ]
  },
  {
   "cell_type": "code",
   "execution_count": 120,
   "metadata": {},
   "outputs": [
    {
     "name": "stdout",
     "output_type": "stream",
     "text": [
      "CENTRO\n"
     ]
    }
   ],
   "source": [
    "print(predictions_LOGREG[22])"
   ]
  },
  {
   "cell_type": "code",
   "execution_count": 121,
   "metadata": {},
   "outputs": [
    {
     "data": {
      "text/plain": [
       "numpy.ndarray"
      ]
     },
     "execution_count": 121,
     "metadata": {},
     "output_type": "execute_result"
    }
   ],
   "source": [
    "type(predictions_LOGREG)"
   ]
  },
  {
   "cell_type": "code",
   "execution_count": 122,
   "metadata": {},
   "outputs": [
    {
     "data": {
      "text/plain": [
       "dtype('O')"
      ]
     },
     "execution_count": 122,
     "metadata": {},
     "output_type": "execute_result"
    }
   ],
   "source": [
    "predictions_LOGREG.dtype"
   ]
  },
  {
   "cell_type": "code",
   "execution_count": 123,
   "metadata": {},
   "outputs": [
    {
     "data": {
      "text/plain": [
       "(50600,)"
      ]
     },
     "execution_count": 123,
     "metadata": {},
     "output_type": "execute_result"
    }
   ],
   "source": [
    "predictions_LOGREG.shape"
   ]
  },
  {
   "cell_type": "code",
   "execution_count": 124,
   "metadata": {},
   "outputs": [
    {
     "name": "stdout",
     "output_type": "stream",
     "text": [
      "0.08677865612648221\n"
     ]
    }
   ],
   "source": [
    "print(accuracy_score(y_test, predictions_LOGREG))"
   ]
  },
  {
   "cell_type": "code",
   "execution_count": 125,
   "metadata": {},
   "outputs": [
    {
     "data": {
      "text/plain": [
       "0.08677865612648221"
      ]
     },
     "execution_count": 125,
     "metadata": {},
     "output_type": "execute_result"
    }
   ],
   "source": [
    "# Calidad de nuestro modelo, nos devuelve la precisión media de las predicciones\n",
    "model_LOGREG.score(X_test,y_test)"
   ]
  },
  {
   "cell_type": "markdown",
   "metadata": {},
   "source": [
    "### AÑADIMOS NUEVAS VARIABLES PARA INTENTAR MEJORAR EL MODELO"
   ]
  },
  {
   "cell_type": "code",
   "execution_count": 126,
   "metadata": {},
   "outputs": [
    {
     "name": "stdout",
     "output_type": "stream",
     "text": [
      "-rw-rw-r-- 1 dsc dsc 1164 nov 22 17:41 /home/dsc/Repos/TFM_Accident_reduction_plan_in_the_city_of_Madrid/02_Desarrollo/distritos_municipio_madrid.csv\r\n"
     ]
    }
   ],
   "source": [
    "!ls -ltr {folder}/distri*"
   ]
  },
  {
   "cell_type": "code",
   "execution_count": 127,
   "metadata": {},
   "outputs": [
    {
     "data": {
      "text/plain": [
       "'/home/dsc/Repos/TFM_Accident_reduction_plan_in_the_city_of_Madrid/02_Desarrollo'"
      ]
     },
     "execution_count": 127,
     "metadata": {},
     "output_type": "execute_result"
    }
   ],
   "source": [
    "import os\n",
    "os.getcwd()"
   ]
  },
  {
   "cell_type": "code",
   "execution_count": 128,
   "metadata": {},
   "outputs": [
    {
     "name": "stdout",
     "output_type": "stream",
     "text": [
      "-rw-rw-r-- 1 dsc dsc 1164 nov 22 17:41 distritos_municipio_madrid.csv\r\n"
     ]
    }
   ],
   "source": [
    "!ls -ltr distritos_municipio_madrid.csv"
   ]
  },
  {
   "cell_type": "code",
   "execution_count": 129,
   "metadata": {},
   "outputs": [],
   "source": [
    "df_distritos = pd.read_csv(\"distritos_municipio_madrid.csv\", sep=';', encoding='latin-1')"
   ]
  },
  {
   "cell_type": "code",
   "execution_count": 130,
   "metadata": {},
   "outputs": [
    {
     "data": {
      "text/plain": [
       "Index(['distrito_codigo', 'distrito_nombre', 'municipio_codigo',\n",
       "       'municipio_nombre', 'superficie_km2', 'densidad_por_km2'],\n",
       "      dtype='object')"
      ]
     },
     "execution_count": 130,
     "metadata": {},
     "output_type": "execute_result"
    }
   ],
   "source": [
    "df_distritos.columns"
   ]
  },
  {
   "cell_type": "code",
   "execution_count": 131,
   "metadata": {},
   "outputs": [
    {
     "data": {
      "text/html": [
       "<div>\n",
       "<style scoped>\n",
       "    .dataframe tbody tr th:only-of-type {\n",
       "        vertical-align: middle;\n",
       "    }\n",
       "\n",
       "    .dataframe tbody tr th {\n",
       "        vertical-align: top;\n",
       "    }\n",
       "\n",
       "    .dataframe thead th {\n",
       "        text-align: right;\n",
       "    }\n",
       "</style>\n",
       "<table border=\"1\" class=\"dataframe\">\n",
       "  <thead>\n",
       "    <tr style=\"text-align: right;\">\n",
       "      <th></th>\n",
       "      <th>distrito_codigo</th>\n",
       "      <th>distrito_nombre</th>\n",
       "      <th>municipio_codigo</th>\n",
       "      <th>municipio_nombre</th>\n",
       "      <th>superficie_km2</th>\n",
       "      <th>densidad_por_km2</th>\n",
       "    </tr>\n",
       "  </thead>\n",
       "  <tbody>\n",
       "    <tr>\n",
       "      <th>0</th>\n",
       "      <td>79601</td>\n",
       "      <td>Centro</td>\n",
       "      <td>796</td>\n",
       "      <td>Madrid</td>\n",
       "      <td>5.21</td>\n",
       "      <td>25340.69</td>\n",
       "    </tr>\n",
       "    <tr>\n",
       "      <th>1</th>\n",
       "      <td>79602</td>\n",
       "      <td>Arganzuela</td>\n",
       "      <td>796</td>\n",
       "      <td>Madrid</td>\n",
       "      <td>6.52</td>\n",
       "      <td>23306.44</td>\n",
       "    </tr>\n",
       "    <tr>\n",
       "      <th>2</th>\n",
       "      <td>79603</td>\n",
       "      <td>Retiro</td>\n",
       "      <td>796</td>\n",
       "      <td>Madrid</td>\n",
       "      <td>5.42</td>\n",
       "      <td>21867.53</td>\n",
       "    </tr>\n",
       "  </tbody>\n",
       "</table>\n",
       "</div>"
      ],
      "text/plain": [
       "   distrito_codigo  distrito_nombre  municipio_codigo municipio_nombre  \\\n",
       "0            79601          Centro                796           Madrid   \n",
       "1            79602      Arganzuela                796           Madrid   \n",
       "2            79603          Retiro                796           Madrid   \n",
       "\n",
       "   superficie_km2  densidad_por_km2  \n",
       "0            5.21          25340.69  \n",
       "1            6.52          23306.44  \n",
       "2            5.42          21867.53  "
      ]
     },
     "execution_count": 131,
     "metadata": {},
     "output_type": "execute_result"
    }
   ],
   "source": [
    "df_distritos.head(3)"
   ]
  },
  {
   "cell_type": "code",
   "execution_count": 132,
   "metadata": {},
   "outputs": [],
   "source": [
    "drop_elements = ['municipio_codigo', 'municipio_nombre']\n",
    "df_distritos_lab = df_distritos.drop(drop_elements, axis = 1)"
   ]
  },
  {
   "cell_type": "code",
   "execution_count": 133,
   "metadata": {},
   "outputs": [
    {
     "data": {
      "text/plain": [
       "Index(['distrito_codigo', 'distrito_nombre', 'superficie_km2',\n",
       "       'densidad_por_km2'],\n",
       "      dtype='object')"
      ]
     },
     "execution_count": 133,
     "metadata": {},
     "output_type": "execute_result"
    }
   ],
   "source": [
    "df_distritos_lab.columns"
   ]
  },
  {
   "cell_type": "code",
   "execution_count": 134,
   "metadata": {},
   "outputs": [
    {
     "data": {
      "text/html": [
       "<div>\n",
       "<style scoped>\n",
       "    .dataframe tbody tr th:only-of-type {\n",
       "        vertical-align: middle;\n",
       "    }\n",
       "\n",
       "    .dataframe tbody tr th {\n",
       "        vertical-align: top;\n",
       "    }\n",
       "\n",
       "    .dataframe thead th {\n",
       "        text-align: right;\n",
       "    }\n",
       "</style>\n",
       "<table border=\"1\" class=\"dataframe\">\n",
       "  <thead>\n",
       "    <tr style=\"text-align: right;\">\n",
       "      <th></th>\n",
       "      <th>distrito_codigo</th>\n",
       "      <th>distrito_nombre</th>\n",
       "      <th>superficie_km2</th>\n",
       "      <th>densidad_por_km2</th>\n",
       "    </tr>\n",
       "  </thead>\n",
       "  <tbody>\n",
       "    <tr>\n",
       "      <th>0</th>\n",
       "      <td>79601</td>\n",
       "      <td>Centro</td>\n",
       "      <td>5.21</td>\n",
       "      <td>25340.69</td>\n",
       "    </tr>\n",
       "    <tr>\n",
       "      <th>1</th>\n",
       "      <td>79602</td>\n",
       "      <td>Arganzuela</td>\n",
       "      <td>6.52</td>\n",
       "      <td>23306.44</td>\n",
       "    </tr>\n",
       "    <tr>\n",
       "      <th>2</th>\n",
       "      <td>79603</td>\n",
       "      <td>Retiro</td>\n",
       "      <td>5.42</td>\n",
       "      <td>21867.53</td>\n",
       "    </tr>\n",
       "  </tbody>\n",
       "</table>\n",
       "</div>"
      ],
      "text/plain": [
       "   distrito_codigo  distrito_nombre  superficie_km2  densidad_por_km2\n",
       "0            79601          Centro             5.21          25340.69\n",
       "1            79602      Arganzuela             6.52          23306.44\n",
       "2            79603          Retiro             5.42          21867.53"
      ]
     },
     "execution_count": 134,
     "metadata": {},
     "output_type": "execute_result"
    }
   ],
   "source": [
    "df_distritos_lab.head(3)"
   ]
  },
  {
   "cell_type": "code",
   "execution_count": 135,
   "metadata": {},
   "outputs": [
    {
     "data": {
      "text/plain": [
       "distrito_codigo       int64\n",
       "distrito_nombre      object\n",
       "superficie_km2      float64\n",
       "densidad_por_km2    float64\n",
       "dtype: object"
      ]
     },
     "execution_count": 135,
     "metadata": {},
     "output_type": "execute_result"
    }
   ],
   "source": [
    "df_distritos_lab.dtypes"
   ]
  },
  {
   "cell_type": "code",
   "execution_count": 136,
   "metadata": {},
   "outputs": [
    {
     "data": {
      "text/plain": [
       "(21, 4)"
      ]
     },
     "execution_count": 136,
     "metadata": {},
     "output_type": "execute_result"
    }
   ],
   "source": [
    "df_distritos_lab.shape"
   ]
  },
  {
   "cell_type": "code",
   "execution_count": 137,
   "metadata": {},
   "outputs": [
    {
     "data": {
      "text/plain": [
       "Index(['HORA', 'DIA_SEMANA', 'DISTRITO', 'SEXO', 'EDAD_APROX'], dtype='object')"
      ]
     },
     "execution_count": 137,
     "metadata": {},
     "output_type": "execute_result"
    }
   ],
   "source": [
    "df_accs.columns"
   ]
  },
  {
   "cell_type": "code",
   "execution_count": 138,
   "metadata": {},
   "outputs": [],
   "source": [
    "df_distritos_lab = df_distritos_lab.rename(columns = {'distrito_nombre':'DISTRITO'})"
   ]
  },
  {
   "cell_type": "code",
   "execution_count": 139,
   "metadata": {},
   "outputs": [
    {
     "data": {
      "text/html": [
       "<div>\n",
       "<style scoped>\n",
       "    .dataframe tbody tr th:only-of-type {\n",
       "        vertical-align: middle;\n",
       "    }\n",
       "\n",
       "    .dataframe tbody tr th {\n",
       "        vertical-align: top;\n",
       "    }\n",
       "\n",
       "    .dataframe thead th {\n",
       "        text-align: right;\n",
       "    }\n",
       "</style>\n",
       "<table border=\"1\" class=\"dataframe\">\n",
       "  <thead>\n",
       "    <tr style=\"text-align: right;\">\n",
       "      <th></th>\n",
       "      <th>distrito_codigo</th>\n",
       "      <th>DISTRITO</th>\n",
       "      <th>superficie_km2</th>\n",
       "      <th>densidad_por_km2</th>\n",
       "    </tr>\n",
       "  </thead>\n",
       "  <tbody>\n",
       "    <tr>\n",
       "      <th>0</th>\n",
       "      <td>79601</td>\n",
       "      <td>Centro</td>\n",
       "      <td>5.21</td>\n",
       "      <td>25340.69</td>\n",
       "    </tr>\n",
       "    <tr>\n",
       "      <th>1</th>\n",
       "      <td>79602</td>\n",
       "      <td>Arganzuela</td>\n",
       "      <td>6.52</td>\n",
       "      <td>23306.44</td>\n",
       "    </tr>\n",
       "    <tr>\n",
       "      <th>2</th>\n",
       "      <td>79603</td>\n",
       "      <td>Retiro</td>\n",
       "      <td>5.42</td>\n",
       "      <td>21867.53</td>\n",
       "    </tr>\n",
       "    <tr>\n",
       "      <th>3</th>\n",
       "      <td>79604</td>\n",
       "      <td>Salamanca</td>\n",
       "      <td>5.36</td>\n",
       "      <td>26830.78</td>\n",
       "    </tr>\n",
       "    <tr>\n",
       "      <th>4</th>\n",
       "      <td>79605</td>\n",
       "      <td>Chamartín</td>\n",
       "      <td>9.12</td>\n",
       "      <td>15723.25</td>\n",
       "    </tr>\n",
       "  </tbody>\n",
       "</table>\n",
       "</div>"
      ],
      "text/plain": [
       "   distrito_codigo         DISTRITO  superficie_km2  densidad_por_km2\n",
       "0            79601          Centro             5.21          25340.69\n",
       "1            79602      Arganzuela             6.52          23306.44\n",
       "2            79603          Retiro             5.42          21867.53\n",
       "3            79604       Salamanca             5.36          26830.78\n",
       "4            79605       Chamartín             9.12          15723.25"
      ]
     },
     "execution_count": 139,
     "metadata": {},
     "output_type": "execute_result"
    }
   ],
   "source": [
    "df_distritos_lab.head()"
   ]
  },
  {
   "cell_type": "code",
   "execution_count": 140,
   "metadata": {},
   "outputs": [
    {
     "data": {
      "text/html": [
       "<div>\n",
       "<style scoped>\n",
       "    .dataframe tbody tr th:only-of-type {\n",
       "        vertical-align: middle;\n",
       "    }\n",
       "\n",
       "    .dataframe tbody tr th {\n",
       "        vertical-align: top;\n",
       "    }\n",
       "\n",
       "    .dataframe thead th {\n",
       "        text-align: right;\n",
       "    }\n",
       "</style>\n",
       "<table border=\"1\" class=\"dataframe\">\n",
       "  <thead>\n",
       "    <tr style=\"text-align: right;\">\n",
       "      <th></th>\n",
       "      <th>HORA</th>\n",
       "      <th>DIA_SEMANA</th>\n",
       "      <th>DISTRITO</th>\n",
       "      <th>SEXO</th>\n",
       "      <th>EDAD_APROX</th>\n",
       "    </tr>\n",
       "  </thead>\n",
       "  <tbody>\n",
       "    <tr>\n",
       "      <th>0</th>\n",
       "      <td>00:00</td>\n",
       "      <td>VIERNES</td>\n",
       "      <td>CHAMARTIN</td>\n",
       "      <td>HOMBRE</td>\n",
       "      <td>20</td>\n",
       "    </tr>\n",
       "    <tr>\n",
       "      <th>1</th>\n",
       "      <td>00:00</td>\n",
       "      <td>VIERNES</td>\n",
       "      <td>CHAMARTIN</td>\n",
       "      <td>HOMBRE</td>\n",
       "      <td>50</td>\n",
       "    </tr>\n",
       "    <tr>\n",
       "      <th>2</th>\n",
       "      <td>00:00</td>\n",
       "      <td>VIERNES</td>\n",
       "      <td>CHAMARTIN</td>\n",
       "      <td>MUJER</td>\n",
       "      <td>40</td>\n",
       "    </tr>\n",
       "  </tbody>\n",
       "</table>\n",
       "</div>"
      ],
      "text/plain": [
       "    HORA DIA_SEMANA   DISTRITO    SEXO EDAD_APROX\n",
       "0  00:00    VIERNES  CHAMARTIN  HOMBRE         20\n",
       "1  00:00    VIERNES  CHAMARTIN  HOMBRE         50\n",
       "2  00:00    VIERNES  CHAMARTIN   MUJER         40"
      ]
     },
     "execution_count": 140,
     "metadata": {},
     "output_type": "execute_result"
    }
   ],
   "source": [
    "df_accs.head(3)"
   ]
  },
  {
   "cell_type": "code",
   "execution_count": 141,
   "metadata": {},
   "outputs": [
    {
     "data": {
      "text/plain": [
       "array(['CHAMARTIN', 'PUENTE DE VALLECAS', 'CHAMBERI', 'RETIRO',\n",
       "       'SALAMANCA', 'CARABANCHEL', 'CIUDAD LINEAL', 'MONCLOA-ARAVACA',\n",
       "       'TETUAN', 'VILLA DE VALLECAS', 'MORATALAZ', 'ARGANZUELA',\n",
       "       'SAN BLAS', 'VILLAVERDE', 'HORTALEZA', 'FUENCARRAL-EL PARDO',\n",
       "       'VICALVARO', 'USERA', 'LATINA', 'BARAJAS', 'CENTRO'], dtype=object)"
      ]
     },
     "execution_count": 141,
     "metadata": {},
     "output_type": "execute_result"
    }
   ],
   "source": [
    "df_accs['DISTRITO'].unique()"
   ]
  },
  {
   "cell_type": "code",
   "execution_count": 142,
   "metadata": {},
   "outputs": [
    {
     "data": {
      "text/plain": [
       "array(['    Centro ', '    Arganzuela ', '    Retiro ', '    Salamanca ',\n",
       "       '    Chamartín ', '    Tetuan ', '    Chamberí ',\n",
       "       '    Fuencarral-El Pardo ', '    Moncloa-Aravaca ', '    Latina ',\n",
       "       '    Carabanchel ', '    Usera ', '    Puente de Vallecas ',\n",
       "       '    Moratalaz ', '    Ciudad Lineal ', '    Hortaleza ',\n",
       "       '    Villaverde ', '    Villa de Vallecas ', '    Vicálvaro ',\n",
       "       '    San Blas-Canillejas ', '    Barajas '], dtype=object)"
      ]
     },
     "execution_count": 142,
     "metadata": {},
     "output_type": "execute_result"
    }
   ],
   "source": [
    "df_distritos_lab['DISTRITO'].unique()"
   ]
  },
  {
   "cell_type": "code",
   "execution_count": 143,
   "metadata": {},
   "outputs": [],
   "source": [
    "# strip leading and trailing space only strings\n",
    "df_distritos_lab['DISTRITO'] = df_distritos_lab['DISTRITO'].str.strip()\n"
   ]
  },
  {
   "cell_type": "code",
   "execution_count": 144,
   "metadata": {},
   "outputs": [
    {
     "data": {
      "text/plain": [
       "array(['Centro', 'Arganzuela', 'Retiro', 'Salamanca', 'Chamartín',\n",
       "       'Tetuan', 'Chamberí', 'Fuencarral-El Pardo', 'Moncloa-Aravaca',\n",
       "       'Latina', 'Carabanchel', 'Usera', 'Puente de Vallecas',\n",
       "       'Moratalaz', 'Ciudad Lineal', 'Hortaleza', 'Villaverde',\n",
       "       'Villa de Vallecas', 'Vicálvaro', 'San Blas-Canillejas', 'Barajas'],\n",
       "      dtype=object)"
      ]
     },
     "execution_count": 144,
     "metadata": {},
     "output_type": "execute_result"
    }
   ],
   "source": [
    "df_distritos_lab['DISTRITO'].unique()"
   ]
  },
  {
   "cell_type": "code",
   "execution_count": 145,
   "metadata": {},
   "outputs": [
    {
     "data": {
      "text/plain": [
       "array(['CHAMARTIN', 'PUENTE DE VALLECAS', 'CHAMBERI', 'RETIRO',\n",
       "       'SALAMANCA', 'CARABANCHEL', 'CIUDAD LINEAL', 'MONCLOA-ARAVACA',\n",
       "       'TETUAN', 'VILLA DE VALLECAS', 'MORATALAZ', 'ARGANZUELA',\n",
       "       'SAN BLAS', 'VILLAVERDE', 'HORTALEZA', 'FUENCARRAL-EL PARDO',\n",
       "       'VICALVARO', 'USERA', 'LATINA', 'BARAJAS', 'CENTRO'], dtype=object)"
      ]
     },
     "execution_count": 145,
     "metadata": {},
     "output_type": "execute_result"
    }
   ],
   "source": [
    "df_accs['DISTRITO'].unique()"
   ]
  },
  {
   "cell_type": "code",
   "execution_count": 146,
   "metadata": {},
   "outputs": [],
   "source": [
    "df_distritos_lab['DISTRITO'] = df_distritos_lab['DISTRITO'].str.upper()"
   ]
  },
  {
   "cell_type": "code",
   "execution_count": 147,
   "metadata": {},
   "outputs": [
    {
     "data": {
      "text/plain": [
       "array(['CENTRO', 'ARGANZUELA', 'RETIRO', 'SALAMANCA', 'CHAMARTÍN',\n",
       "       'TETUAN', 'CHAMBERÍ', 'FUENCARRAL-EL PARDO', 'MONCLOA-ARAVACA',\n",
       "       'LATINA', 'CARABANCHEL', 'USERA', 'PUENTE DE VALLECAS',\n",
       "       'MORATALAZ', 'CIUDAD LINEAL', 'HORTALEZA', 'VILLAVERDE',\n",
       "       'VILLA DE VALLECAS', 'VICÁLVARO', 'SAN BLAS-CANILLEJAS', 'BARAJAS'],\n",
       "      dtype=object)"
      ]
     },
     "execution_count": 147,
     "metadata": {},
     "output_type": "execute_result"
    }
   ],
   "source": [
    "df_distritos_lab['DISTRITO'].unique()"
   ]
  },
  {
   "cell_type": "code",
   "execution_count": 148,
   "metadata": {},
   "outputs": [
    {
     "data": {
      "text/plain": [
       "array(['CHAMARTIN', 'PUENTE DE VALLECAS', 'CHAMBERI', 'RETIRO',\n",
       "       'SALAMANCA', 'CARABANCHEL', 'CIUDAD LINEAL', 'MONCLOA-ARAVACA',\n",
       "       'TETUAN', 'VILLA DE VALLECAS', 'MORATALAZ', 'ARGANZUELA',\n",
       "       'SAN BLAS', 'VILLAVERDE', 'HORTALEZA', 'FUENCARRAL-EL PARDO',\n",
       "       'VICALVARO', 'USERA', 'LATINA', 'BARAJAS', 'CENTRO'], dtype=object)"
      ]
     },
     "execution_count": 148,
     "metadata": {},
     "output_type": "execute_result"
    }
   ],
   "source": [
    "df_accs['DISTRITO'].unique()"
   ]
  },
  {
   "cell_type": "code",
   "execution_count": 149,
   "metadata": {},
   "outputs": [],
   "source": [
    "df_distritos_lab[\"DISTRITO\"] = df_distritos_lab[\"DISTRITO\"].replace({\"CHAMARTÍN\":\"CHAMARTIN\"}, regex=True)\n",
    "df_distritos_lab[\"DISTRITO\"] = df_distritos_lab[\"DISTRITO\"].replace({\"CHAMBERÍ\":\"CHAMBERI\"}, regex=True)\n",
    "df_distritos_lab[\"DISTRITO\"] = df_distritos_lab[\"DISTRITO\"].replace({\"VICÁLVARO\":\"VICALVARO\"}, regex=True)\n",
    "df_distritos_lab[\"DISTRITO\"] = df_distritos_lab[\"DISTRITO\"].replace({\"SAN BLAS-CANILLEJAS\":\"SAN BLAS\"}, regex=True)"
   ]
  },
  {
   "cell_type": "code",
   "execution_count": 150,
   "metadata": {},
   "outputs": [
    {
     "data": {
      "text/plain": [
       "array(['CENTRO', 'ARGANZUELA', 'RETIRO', 'SALAMANCA', 'CHAMARTIN',\n",
       "       'TETUAN', 'CHAMBERI', 'FUENCARRAL-EL PARDO', 'MONCLOA-ARAVACA',\n",
       "       'LATINA', 'CARABANCHEL', 'USERA', 'PUENTE DE VALLECAS',\n",
       "       'MORATALAZ', 'CIUDAD LINEAL', 'HORTALEZA', 'VILLAVERDE',\n",
       "       'VILLA DE VALLECAS', 'VICALVARO', 'SAN BLAS', 'BARAJAS'],\n",
       "      dtype=object)"
      ]
     },
     "execution_count": 150,
     "metadata": {},
     "output_type": "execute_result"
    }
   ],
   "source": [
    "df_distritos_lab['DISTRITO'].unique()"
   ]
  },
  {
   "cell_type": "code",
   "execution_count": 151,
   "metadata": {},
   "outputs": [
    {
     "data": {
      "text/plain": [
       "Index(['distrito_codigo', 'DISTRITO', 'superficie_km2', 'densidad_por_km2'], dtype='object')"
      ]
     },
     "execution_count": 151,
     "metadata": {},
     "output_type": "execute_result"
    }
   ],
   "source": [
    "df_distritos_lab.columns"
   ]
  },
  {
   "cell_type": "code",
   "execution_count": 152,
   "metadata": {},
   "outputs": [
    {
     "data": {
      "text/plain": [
       "array([79601, 79602, 79603, 79604, 79605, 79606, 79607, 79608, 79609,\n",
       "       79610, 79611, 79612, 79613, 79614, 79615, 79616, 79617, 79618,\n",
       "       79619, 79620, 79621])"
      ]
     },
     "execution_count": 152,
     "metadata": {},
     "output_type": "execute_result"
    }
   ],
   "source": [
    "df_distritos_lab['distrito_codigo'].unique()"
   ]
  },
  {
   "cell_type": "code",
   "execution_count": 153,
   "metadata": {},
   "outputs": [
    {
     "data": {
      "text/plain": [
       "array([  5.21,   6.52,   5.42,   5.36,   9.12,   5.37,   4.73, 238.  ,\n",
       "        46.47,  25.47,  14.1 ,   7.7 ,  14.84,   6.08,  11.52,  25.87,\n",
       "        20.21,  51.49,  35.36,  22.26,  43.56])"
      ]
     },
     "execution_count": 153,
     "metadata": {},
     "output_type": "execute_result"
    }
   ],
   "source": [
    "df_distritos_lab['superficie_km2'].unique()"
   ]
  },
  {
   "cell_type": "code",
   "execution_count": 154,
   "metadata": {},
   "outputs": [
    {
     "data": {
      "text/plain": [
       "array([25340.69, 23306.44, 21867.53, 26830.78, 15723.25, 28664.25,\n",
       "       29049.26,  1003.  ,  2515.26,  9183.75, 17316.88, 17535.32,\n",
       "       15345.01, 15493.59, 18455.56,  6973.33,  7059.13,  2026.82,\n",
       "        1981.11,  6934.37,  1076.06])"
      ]
     },
     "execution_count": 154,
     "metadata": {},
     "output_type": "execute_result"
    }
   ],
   "source": [
    "df_distritos_lab['densidad_por_km2'].unique()"
   ]
  },
  {
   "cell_type": "code",
   "execution_count": 155,
   "metadata": {},
   "outputs": [
    {
     "data": {
      "text/plain": [
       "distrito_codigo     0\n",
       "DISTRITO            0\n",
       "superficie_km2      0\n",
       "densidad_por_km2    0\n",
       "dtype: int64"
      ]
     },
     "execution_count": 155,
     "metadata": {},
     "output_type": "execute_result"
    }
   ],
   "source": [
    "# Comprobar valores nulos\n",
    "df_distritos_lab.isnull().sum()"
   ]
  },
  {
   "cell_type": "code",
   "execution_count": 156,
   "metadata": {},
   "outputs": [
    {
     "data": {
      "text/html": [
       "<div>\n",
       "<style scoped>\n",
       "    .dataframe tbody tr th:only-of-type {\n",
       "        vertical-align: middle;\n",
       "    }\n",
       "\n",
       "    .dataframe tbody tr th {\n",
       "        vertical-align: top;\n",
       "    }\n",
       "\n",
       "    .dataframe thead th {\n",
       "        text-align: right;\n",
       "    }\n",
       "</style>\n",
       "<table border=\"1\" class=\"dataframe\">\n",
       "  <thead>\n",
       "    <tr style=\"text-align: right;\">\n",
       "      <th></th>\n",
       "      <th>HORA</th>\n",
       "      <th>DIA_SEMANA</th>\n",
       "      <th>DISTRITO</th>\n",
       "      <th>SEXO</th>\n",
       "      <th>EDAD_APROX</th>\n",
       "      <th>distrito_codigo</th>\n",
       "      <th>superficie_km2</th>\n",
       "      <th>densidad_por_km2</th>\n",
       "    </tr>\n",
       "  </thead>\n",
       "  <tbody>\n",
       "    <tr>\n",
       "      <th>0</th>\n",
       "      <td>0</td>\n",
       "      <td>6</td>\n",
       "      <td>CHAMARTIN</td>\n",
       "      <td>0</td>\n",
       "      <td>3</td>\n",
       "      <td>79605</td>\n",
       "      <td>9.12</td>\n",
       "      <td>15723.25</td>\n",
       "    </tr>\n",
       "    <tr>\n",
       "      <th>1</th>\n",
       "      <td>0</td>\n",
       "      <td>6</td>\n",
       "      <td>CHAMARTIN</td>\n",
       "      <td>0</td>\n",
       "      <td>9</td>\n",
       "      <td>79605</td>\n",
       "      <td>9.12</td>\n",
       "      <td>15723.25</td>\n",
       "    </tr>\n",
       "    <tr>\n",
       "      <th>2</th>\n",
       "      <td>0</td>\n",
       "      <td>6</td>\n",
       "      <td>CHAMARTIN</td>\n",
       "      <td>1</td>\n",
       "      <td>7</td>\n",
       "      <td>79605</td>\n",
       "      <td>9.12</td>\n",
       "      <td>15723.25</td>\n",
       "    </tr>\n",
       "    <tr>\n",
       "      <th>3</th>\n",
       "      <td>20</td>\n",
       "      <td>0</td>\n",
       "      <td>CHAMARTIN</td>\n",
       "      <td>2</td>\n",
       "      <td>14</td>\n",
       "      <td>79605</td>\n",
       "      <td>9.12</td>\n",
       "      <td>15723.25</td>\n",
       "    </tr>\n",
       "    <tr>\n",
       "      <th>4</th>\n",
       "      <td>20</td>\n",
       "      <td>0</td>\n",
       "      <td>CHAMARTIN</td>\n",
       "      <td>0</td>\n",
       "      <td>8</td>\n",
       "      <td>79605</td>\n",
       "      <td>9.12</td>\n",
       "      <td>15723.25</td>\n",
       "    </tr>\n",
       "    <tr>\n",
       "      <th>...</th>\n",
       "      <td>...</td>\n",
       "      <td>...</td>\n",
       "      <td>...</td>\n",
       "      <td>...</td>\n",
       "      <td>...</td>\n",
       "      <td>...</td>\n",
       "      <td>...</td>\n",
       "      <td>...</td>\n",
       "    </tr>\n",
       "    <tr>\n",
       "      <th>252993</th>\n",
       "      <td>16</td>\n",
       "      <td>0</td>\n",
       "      <td>CENTRO</td>\n",
       "      <td>0</td>\n",
       "      <td>9</td>\n",
       "      <td>79601</td>\n",
       "      <td>5.21</td>\n",
       "      <td>25340.69</td>\n",
       "    </tr>\n",
       "    <tr>\n",
       "      <th>252994</th>\n",
       "      <td>21</td>\n",
       "      <td>2</td>\n",
       "      <td>CENTRO</td>\n",
       "      <td>0</td>\n",
       "      <td>9</td>\n",
       "      <td>79601</td>\n",
       "      <td>5.21</td>\n",
       "      <td>25340.69</td>\n",
       "    </tr>\n",
       "    <tr>\n",
       "      <th>252995</th>\n",
       "      <td>21</td>\n",
       "      <td>2</td>\n",
       "      <td>CENTRO</td>\n",
       "      <td>0</td>\n",
       "      <td>5</td>\n",
       "      <td>79601</td>\n",
       "      <td>5.21</td>\n",
       "      <td>25340.69</td>\n",
       "    </tr>\n",
       "    <tr>\n",
       "      <th>252996</th>\n",
       "      <td>21</td>\n",
       "      <td>2</td>\n",
       "      <td>CENTRO</td>\n",
       "      <td>1</td>\n",
       "      <td>4</td>\n",
       "      <td>79601</td>\n",
       "      <td>5.21</td>\n",
       "      <td>25340.69</td>\n",
       "    </tr>\n",
       "    <tr>\n",
       "      <th>252997</th>\n",
       "      <td>21</td>\n",
       "      <td>2</td>\n",
       "      <td>CENTRO</td>\n",
       "      <td>1</td>\n",
       "      <td>4</td>\n",
       "      <td>79601</td>\n",
       "      <td>5.21</td>\n",
       "      <td>25340.69</td>\n",
       "    </tr>\n",
       "  </tbody>\n",
       "</table>\n",
       "<p>252998 rows × 8 columns</p>\n",
       "</div>"
      ],
      "text/plain": [
       "        HORA  DIA_SEMANA   DISTRITO  SEXO  EDAD_APROX  distrito_codigo  \\\n",
       "0          0           6  CHAMARTIN     0           3            79605   \n",
       "1          0           6  CHAMARTIN     0           9            79605   \n",
       "2          0           6  CHAMARTIN     1           7            79605   \n",
       "3         20           0  CHAMARTIN     2          14            79605   \n",
       "4         20           0  CHAMARTIN     0           8            79605   \n",
       "...      ...         ...        ...   ...         ...              ...   \n",
       "252993    16           0     CENTRO     0           9            79601   \n",
       "252994    21           2     CENTRO     0           9            79601   \n",
       "252995    21           2     CENTRO     0           5            79601   \n",
       "252996    21           2     CENTRO     1           4            79601   \n",
       "252997    21           2     CENTRO     1           4            79601   \n",
       "\n",
       "        superficie_km2  densidad_por_km2  \n",
       "0                 9.12          15723.25  \n",
       "1                 9.12          15723.25  \n",
       "2                 9.12          15723.25  \n",
       "3                 9.12          15723.25  \n",
       "4                 9.12          15723.25  \n",
       "...                ...               ...  \n",
       "252993            5.21          25340.69  \n",
       "252994            5.21          25340.69  \n",
       "252995            5.21          25340.69  \n",
       "252996            5.21          25340.69  \n",
       "252997            5.21          25340.69  \n",
       "\n",
       "[252998 rows x 8 columns]"
      ]
     },
     "execution_count": 156,
     "metadata": {},
     "output_type": "execute_result"
    }
   ],
   "source": [
    "from functools import reduce\n",
    "df_accs_join_dist = [df_accs_lab_ohe, df_distritos_lab]\n",
    "df_accs_join_dist = reduce(lambda left,right: pd.merge(left,right, on=['DISTRITO']), df_accs_join_dist)\n",
    "df_accs_join_dist"
   ]
  },
  {
   "cell_type": "code",
   "execution_count": 157,
   "metadata": {},
   "outputs": [
    {
     "data": {
      "text/plain": [
       "(252998, 8)"
      ]
     },
     "execution_count": 157,
     "metadata": {},
     "output_type": "execute_result"
    }
   ],
   "source": [
    "df_accs_join_dist.shape"
   ]
  },
  {
   "cell_type": "code",
   "execution_count": 158,
   "metadata": {},
   "outputs": [
    {
     "data": {
      "text/plain": [
       "Index(['HORA', 'DIA_SEMANA', 'DISTRITO', 'SEXO', 'EDAD_APROX',\n",
       "       'distrito_codigo', 'superficie_km2', 'densidad_por_km2'],\n",
       "      dtype='object')"
      ]
     },
     "execution_count": 158,
     "metadata": {},
     "output_type": "execute_result"
    }
   ],
   "source": [
    "df_accs_join_dist.columns"
   ]
  },
  {
   "cell_type": "code",
   "execution_count": 159,
   "metadata": {},
   "outputs": [],
   "source": [
    "df_accs_join_dist = df_accs_join_dist.rename(columns = {'distrito_codigo':'COD_DISTRITO'})\n",
    "df_accs_join_dist = df_accs_join_dist.rename(columns = {'superficie_km2':'SUP_KM2'})\n",
    "df_accs_join_dist = df_accs_join_dist.rename(columns = {'densidad_por_km2':'DENSIDAD_KM2'})"
   ]
  },
  {
   "cell_type": "code",
   "execution_count": 160,
   "metadata": {},
   "outputs": [
    {
     "data": {
      "text/plain": [
       "Index(['HORA', 'DIA_SEMANA', 'DISTRITO', 'SEXO', 'EDAD_APROX', 'COD_DISTRITO',\n",
       "       'SUP_KM2', 'DENSIDAD_KM2'],\n",
       "      dtype='object')"
      ]
     },
     "execution_count": 160,
     "metadata": {},
     "output_type": "execute_result"
    }
   ],
   "source": [
    "df_accs_join_dist.columns"
   ]
  },
  {
   "cell_type": "code",
   "execution_count": 161,
   "metadata": {},
   "outputs": [
    {
     "data": {
      "text/plain": [
       "array([79605, 79613, 79607, 79603, 79604, 79611, 79615, 79609, 79606,\n",
       "       79618, 79614, 79602, 79620, 79617, 79616, 79608, 79619, 79612,\n",
       "       79610, 79621, 79601])"
      ]
     },
     "execution_count": 161,
     "metadata": {},
     "output_type": "execute_result"
    }
   ],
   "source": [
    "df_accs_join_dist[\"COD_DISTRITO\"].unique()"
   ]
  },
  {
   "cell_type": "code",
   "execution_count": 162,
   "metadata": {},
   "outputs": [
    {
     "data": {
      "text/plain": [
       "array([  9.12,  14.84,   4.73,   5.42,   5.36,  14.1 ,  11.52,  46.47,\n",
       "         5.37,  51.49,   6.08,   6.52,  22.26,  20.21,  25.87, 238.  ,\n",
       "        35.36,   7.7 ,  25.47,  43.56,   5.21])"
      ]
     },
     "execution_count": 162,
     "metadata": {},
     "output_type": "execute_result"
    }
   ],
   "source": [
    "df_accs_join_dist[\"SUP_KM2\"].unique()"
   ]
  },
  {
   "cell_type": "code",
   "execution_count": 163,
   "metadata": {},
   "outputs": [
    {
     "data": {
      "text/plain": [
       "array([15723.25, 15345.01, 29049.26, 21867.53, 26830.78, 17316.88,\n",
       "       18455.56,  2515.26, 28664.25,  2026.82, 15493.59, 23306.44,\n",
       "        6934.37,  7059.13,  6973.33,  1003.  ,  1981.11, 17535.32,\n",
       "        9183.75,  1076.06, 25340.69])"
      ]
     },
     "execution_count": 163,
     "metadata": {},
     "output_type": "execute_result"
    }
   ],
   "source": [
    "df_accs_join_dist[\"DENSIDAD_KM2\"].unique()"
   ]
  },
  {
   "cell_type": "code",
   "execution_count": 164,
   "metadata": {},
   "outputs": [
    {
     "data": {
      "text/plain": [
       "Index(['HORA', 'DIA_SEMANA', 'DISTRITO', 'SEXO', 'EDAD_APROX', 'COD_DISTRITO',\n",
       "       'SUP_KM2', 'DENSIDAD_KM2'],\n",
       "      dtype='object')"
      ]
     },
     "execution_count": 164,
     "metadata": {},
     "output_type": "execute_result"
    }
   ],
   "source": [
    "df_accs_join_dist.columns"
   ]
  },
  {
   "cell_type": "code",
   "execution_count": 165,
   "metadata": {},
   "outputs": [],
   "source": [
    "df_inf_xa_dis = df_accs_join_dist.reset_index(drop=True).copy()"
   ]
  },
  {
   "cell_type": "code",
   "execution_count": 166,
   "metadata": {},
   "outputs": [
    {
     "data": {
      "text/plain": [
       "HORA              int64\n",
       "DIA_SEMANA        int64\n",
       "DISTRITO         object\n",
       "SEXO              int64\n",
       "EDAD_APROX        int64\n",
       "COD_DISTRITO      int64\n",
       "SUP_KM2         float64\n",
       "DENSIDAD_KM2    float64\n",
       "dtype: object"
      ]
     },
     "execution_count": 166,
     "metadata": {},
     "output_type": "execute_result"
    }
   ],
   "source": [
    "df_inf_xa_dis.dtypes"
   ]
  },
  {
   "cell_type": "code",
   "execution_count": 167,
   "metadata": {},
   "outputs": [],
   "source": [
    "# Convertir a object las columnas numéricas\n",
    "df_inf_xa_dis[\"COD_DISTRITO\"]=df_inf_xa_dis['COD_DISTRITO'].astype(np.str)\n",
    "df_inf_xa_dis[\"SUP_KM2\"]=df_inf_xa_dis['SUP_KM2'].astype(np.str)\n",
    "df_inf_xa_dis[\"DENSIDAD_KM2\"]=df_inf_xa_dis['DENSIDAD_KM2'].astype(np.str)"
   ]
  },
  {
   "cell_type": "code",
   "execution_count": 168,
   "metadata": {},
   "outputs": [
    {
     "data": {
      "text/plain": [
       "HORA             int64\n",
       "DIA_SEMANA       int64\n",
       "DISTRITO        object\n",
       "SEXO             int64\n",
       "EDAD_APROX       int64\n",
       "COD_DISTRITO    object\n",
       "SUP_KM2         object\n",
       "DENSIDAD_KM2    object\n",
       "dtype: object"
      ]
     },
     "execution_count": 168,
     "metadata": {},
     "output_type": "execute_result"
    }
   ],
   "source": [
    "df_inf_xa_dis.dtypes"
   ]
  },
  {
   "cell_type": "code",
   "execution_count": 169,
   "metadata": {},
   "outputs": [
    {
     "data": {
      "text/plain": [
       "Index(['HORA', 'DIA_SEMANA', 'DISTRITO', 'SEXO', 'EDAD_APROX', 'COD_DISTRITO',\n",
       "       'SUP_KM2', 'DENSIDAD_KM2'],\n",
       "      dtype='object')"
      ]
     },
     "execution_count": 169,
     "metadata": {},
     "output_type": "execute_result"
    }
   ],
   "source": [
    "df_inf_xa_dis.columns"
   ]
  },
  {
   "cell_type": "code",
   "execution_count": 170,
   "metadata": {},
   "outputs": [],
   "source": [
    "# Cargamos variables.\n",
    "X = np.array(df_inf_xa_dis.drop(['DISTRITO'],1))\n",
    "y = np.array(df_inf_xa_dis['DISTRITO'])\n",
    "X.shape\n",
    "\n",
    "\n",
    "# Train-test split\n",
    "# Load the library\n",
    "from sklearn.model_selection import train_test_split\n",
    "# Create 2 groups each with input and labels\n",
    "X_train, X_test, y_train, y_test = train_test_split(X, y, test_size=0.20)"
   ]
  },
  {
   "cell_type": "code",
   "execution_count": 171,
   "metadata": {},
   "outputs": [],
   "source": [
    "from sklearn.preprocessing import OneHotEncoder\n",
    "\n",
    "# Create the encoder.\n",
    "encoder = OneHotEncoder(handle_unknown=\"ignore\")\n",
    "# Assume for simplicity all features are categorical.\n",
    "encoder.fit(X_train)    \n",
    "\n",
    "# Apply the encoder.\n",
    "X_train = encoder.transform(X_train)\n",
    "X_test = encoder.transform(X_test)\n",
    "\n"
   ]
  },
  {
   "cell_type": "code",
   "execution_count": 172,
   "metadata": {},
   "outputs": [
    {
     "data": {
      "text/plain": [
       "(252998, 7)"
      ]
     },
     "execution_count": 172,
     "metadata": {},
     "output_type": "execute_result"
    }
   ],
   "source": [
    "X.shape"
   ]
  },
  {
   "cell_type": "code",
   "execution_count": 173,
   "metadata": {},
   "outputs": [
    {
     "data": {
      "text/plain": [
       "array([0, 6, 0, 3, '79605', '9.12', '15723.25'], dtype=object)"
      ]
     },
     "execution_count": 173,
     "metadata": {},
     "output_type": "execute_result"
    }
   ],
   "source": [
    "X[0]"
   ]
  },
  {
   "cell_type": "code",
   "execution_count": 174,
   "metadata": {},
   "outputs": [
    {
     "data": {
      "text/plain": [
       "<202398x112 sparse matrix of type '<class 'numpy.float64'>'\n",
       "\twith 1416786 stored elements in Compressed Sparse Row format>"
      ]
     },
     "execution_count": 174,
     "metadata": {},
     "output_type": "execute_result"
    }
   ],
   "source": [
    "X_train"
   ]
  },
  {
   "cell_type": "code",
   "execution_count": 175,
   "metadata": {},
   "outputs": [
    {
     "data": {
      "text/plain": [
       "<50600x112 sparse matrix of type '<class 'numpy.float64'>'\n",
       "\twith 354200 stored elements in Compressed Sparse Row format>"
      ]
     },
     "execution_count": 175,
     "metadata": {},
     "output_type": "execute_result"
    }
   ],
   "source": [
    "X_test"
   ]
  },
  {
   "cell_type": "markdown",
   "metadata": {},
   "source": [
    "### Regresión Logística con SKLearn (2)"
   ]
  },
  {
   "cell_type": "code",
   "execution_count": 176,
   "metadata": {},
   "outputs": [
    {
     "data": {
      "text/plain": [
       "LogisticRegression(C=1.0, class_weight=None, dual=False, fit_intercept=True,\n",
       "                   intercept_scaling=1, l1_ratio=None, max_iter=100,\n",
       "                   multi_class='auto', n_jobs=None, penalty='l2',\n",
       "                   random_state=None, solver='sag', tol=0.0001, verbose=0,\n",
       "                   warm_start=False)"
      ]
     },
     "execution_count": 176,
     "metadata": {},
     "output_type": "execute_result"
    }
   ],
   "source": [
    "# Creamos el Modelo de Regresión Logística y \n",
    "# hacemos que se ajuste (fit) a nuestro conjunto de entradas X y salidas ‘y’.\n",
    "from sklearn.linear_model.sag import sag_solver\n",
    "model_LOGREG = linear_model.LogisticRegression(multi_class='auto', solver='sag')\n",
    "model_LOGREG.fit(X_train,y_train)"
   ]
  },
  {
   "cell_type": "code",
   "execution_count": 177,
   "metadata": {},
   "outputs": [],
   "source": [
    "# Clasificamos todo nuestro conjunto de entradas X utilizando el método «predict(X)» para el modelo\n",
    "# y revisamos algunas de sus salidas para comprobar si coincide con las salidas reales de nuestro origen\n",
    "predictions_LOGREG = model_LOGREG.predict(X_test)"
   ]
  },
  {
   "cell_type": "code",
   "execution_count": 178,
   "metadata": {},
   "outputs": [
    {
     "name": "stdout",
     "output_type": "stream",
     "text": [
      "CENTRO\n"
     ]
    }
   ],
   "source": [
    "print(predictions_LOGREG[22])"
   ]
  },
  {
   "cell_type": "code",
   "execution_count": 179,
   "metadata": {},
   "outputs": [
    {
     "data": {
      "text/plain": [
       "numpy.ndarray"
      ]
     },
     "execution_count": 179,
     "metadata": {},
     "output_type": "execute_result"
    }
   ],
   "source": [
    "type(predictions_LOGREG)"
   ]
  },
  {
   "cell_type": "code",
   "execution_count": 180,
   "metadata": {},
   "outputs": [
    {
     "data": {
      "text/plain": [
       "dtype('O')"
      ]
     },
     "execution_count": 180,
     "metadata": {},
     "output_type": "execute_result"
    }
   ],
   "source": [
    "predictions_LOGREG.dtype"
   ]
  },
  {
   "cell_type": "code",
   "execution_count": 181,
   "metadata": {},
   "outputs": [
    {
     "data": {
      "text/plain": [
       "(50600,)"
      ]
     },
     "execution_count": 181,
     "metadata": {},
     "output_type": "execute_result"
    }
   ],
   "source": [
    "predictions_LOGREG.shape"
   ]
  },
  {
   "cell_type": "code",
   "execution_count": 182,
   "metadata": {},
   "outputs": [
    {
     "name": "stdout",
     "output_type": "stream",
     "text": [
      "1.0\n"
     ]
    }
   ],
   "source": [
    "print(accuracy_score(y_test, predictions_LOGREG))"
   ]
  },
  {
   "cell_type": "code",
   "execution_count": 183,
   "metadata": {},
   "outputs": [
    {
     "data": {
      "text/plain": [
       "1.0"
      ]
     },
     "execution_count": 183,
     "metadata": {},
     "output_type": "execute_result"
    }
   ],
   "source": [
    "# Calidad de nuestro modelo, nos devuelve la precisión media de las predicciones\n",
    "model_LOGREG.score(X_test,y_test)"
   ]
  },
  {
   "cell_type": "code",
   "execution_count": 184,
   "metadata": {},
   "outputs": [
    {
     "data": {
      "text/plain": [
       "dtype('O')"
      ]
     },
     "execution_count": 184,
     "metadata": {},
     "output_type": "execute_result"
    }
   ],
   "source": [
    "y_test.dtype"
   ]
  },
  {
   "cell_type": "code",
   "execution_count": 185,
   "metadata": {},
   "outputs": [
    {
     "data": {
      "text/plain": [
       "50600"
      ]
     },
     "execution_count": 185,
     "metadata": {},
     "output_type": "execute_result"
    }
   ],
   "source": [
    "len(y_test)"
   ]
  },
  {
   "cell_type": "code",
   "execution_count": 186,
   "metadata": {},
   "outputs": [
    {
     "data": {
      "text/plain": [
       "(50600,)"
      ]
     },
     "execution_count": 186,
     "metadata": {},
     "output_type": "execute_result"
    }
   ],
   "source": [
    "y_test.shape"
   ]
  },
  {
   "cell_type": "code",
   "execution_count": 187,
   "metadata": {},
   "outputs": [
    {
     "data": {
      "text/plain": [
       "'CENTRO'"
      ]
     },
     "execution_count": 187,
     "metadata": {},
     "output_type": "execute_result"
    }
   ],
   "source": [
    "y_test[22,]"
   ]
  },
  {
   "cell_type": "markdown",
   "metadata": {},
   "source": [
    "########################################################"
   ]
  },
  {
   "cell_type": "markdown",
   "metadata": {},
   "source": [
    "##########################################"
   ]
  },
  {
   "cell_type": "markdown",
   "metadata": {},
   "source": [
    "############################"
   ]
  },
  {
   "cell_type": "markdown",
   "metadata": {},
   "source": [
    "## VALIDAR MODELO"
   ]
  },
  {
   "cell_type": "code",
   "execution_count": 188,
   "metadata": {},
   "outputs": [
    {
     "data": {
      "text/plain": [
       "Index(['HORA', 'DIA_SEMANA', 'DISTRITO', 'SEXO', 'EDAD_APROX', 'COD_DISTRITO',\n",
       "       'SUP_KM2', 'DENSIDAD_KM2'],\n",
       "      dtype='object')"
      ]
     },
     "execution_count": 188,
     "metadata": {},
     "output_type": "execute_result"
    }
   ],
   "source": [
    "df_inf_xa_dis.columns"
   ]
  },
  {
   "cell_type": "code",
   "execution_count": 189,
   "metadata": {},
   "outputs": [
    {
     "data": {
      "text/plain": [
       "HORA             int64\n",
       "DIA_SEMANA       int64\n",
       "DISTRITO        object\n",
       "SEXO             int64\n",
       "EDAD_APROX       int64\n",
       "COD_DISTRITO    object\n",
       "SUP_KM2         object\n",
       "DENSIDAD_KM2    object\n",
       "dtype: object"
      ]
     },
     "execution_count": 189,
     "metadata": {},
     "output_type": "execute_result"
    }
   ],
   "source": [
    "df_inf_xa_dis.dtypes"
   ]
  },
  {
   "cell_type": "code",
   "execution_count": 190,
   "metadata": {},
   "outputs": [
    {
     "data": {
      "text/html": [
       "<div>\n",
       "<style scoped>\n",
       "    .dataframe tbody tr th:only-of-type {\n",
       "        vertical-align: middle;\n",
       "    }\n",
       "\n",
       "    .dataframe tbody tr th {\n",
       "        vertical-align: top;\n",
       "    }\n",
       "\n",
       "    .dataframe thead th {\n",
       "        text-align: right;\n",
       "    }\n",
       "</style>\n",
       "<table border=\"1\" class=\"dataframe\">\n",
       "  <thead>\n",
       "    <tr style=\"text-align: right;\">\n",
       "      <th></th>\n",
       "      <th>HORA</th>\n",
       "      <th>DIA_SEMANA</th>\n",
       "      <th>DISTRITO</th>\n",
       "      <th>SEXO</th>\n",
       "      <th>EDAD_APROX</th>\n",
       "      <th>COD_DISTRITO</th>\n",
       "      <th>SUP_KM2</th>\n",
       "      <th>DENSIDAD_KM2</th>\n",
       "    </tr>\n",
       "  </thead>\n",
       "  <tbody>\n",
       "    <tr>\n",
       "      <th>0</th>\n",
       "      <td>0</td>\n",
       "      <td>6</td>\n",
       "      <td>CHAMARTIN</td>\n",
       "      <td>0</td>\n",
       "      <td>3</td>\n",
       "      <td>79605</td>\n",
       "      <td>9.12</td>\n",
       "      <td>15723.25</td>\n",
       "    </tr>\n",
       "  </tbody>\n",
       "</table>\n",
       "</div>"
      ],
      "text/plain": [
       "   HORA  DIA_SEMANA   DISTRITO  SEXO  EDAD_APROX COD_DISTRITO SUP_KM2  \\\n",
       "0     0           6  CHAMARTIN     0           3        79605    9.12   \n",
       "\n",
       "  DENSIDAD_KM2  \n",
       "0     15723.25  "
      ]
     },
     "execution_count": 190,
     "metadata": {},
     "output_type": "execute_result"
    }
   ],
   "source": [
    "df_inf_xa_dis.head(1)"
   ]
  },
  {
   "cell_type": "code",
   "execution_count": 191,
   "metadata": {},
   "outputs": [
    {
     "name": "stdout",
     "output_type": "stream",
     "text": [
      "Logistic Regression: 1.000000 (0.000000)\n"
     ]
    }
   ],
   "source": [
    "# Volvemos a compilar nuestro modelo de Regresión Logística pero esta vez sólo con 80% \n",
    "# de los datos de entrada y calculamos el nuevo scoring\n",
    "name='Logistic Regression'\n",
    "kfold = model_selection.KFold(n_splits=10)\n",
    "cv_results = model_selection.cross_val_score(model_LOGREG, X_train, y_train, cv=kfold, \\\n",
    "                                             scoring='accuracy', error_score=np.nan, verbose=0)\n",
    "msg = \"%s: %f (%f)\" % (name, cv_results.mean(), cv_results.std())\n",
    "print(msg)"
   ]
  },
  {
   "cell_type": "code",
   "execution_count": 192,
   "metadata": {},
   "outputs": [
    {
     "name": "stdout",
     "output_type": "stream",
     "text": [
      "1.0\n"
     ]
    }
   ],
   "source": [
    "# Y ahora hacemos las predicciones (en realidad clasificación) utilizando nuestro «cross validation set»\n",
    "# es decir del subconjunto que habíamos apartado. \n",
    "# Aciertos: xxx %\n",
    "predictions_LOGREG = model_LOGREG.predict(X_test)\n",
    "print(accuracy_score(y_test, predictions_LOGREG))"
   ]
  },
  {
   "cell_type": "markdown",
   "metadata": {},
   "source": [
    "# Resultados del modelo"
   ]
  },
  {
   "cell_type": "code",
   "execution_count": 193,
   "metadata": {},
   "outputs": [
    {
     "name": "stdout",
     "output_type": "stream",
     "text": [
      "[[2662    0    0    0    0    0    0    0    0    0    0    0    0    0\n",
      "     0    0    0    0    0    0    0]\n",
      " [   0  704    0    0    0    0    0    0    0    0    0    0    0    0\n",
      "     0    0    0    0    0    0    0]\n",
      " [   0    0 3081    0    0    0    0    0    0    0    0    0    0    0\n",
      "     0    0    0    0    0    0    0]\n",
      " [   0    0    0 3604    0    0    0    0    0    0    0    0    0    0\n",
      "     0    0    0    0    0    0    0]\n",
      " [   0    0    0    0 3840    0    0    0    0    0    0    0    0    0\n",
      "     0    0    0    0    0    0    0]\n",
      " [   0    0    0    0    0 2811    0    0    0    0    0    0    0    0\n",
      "     0    0    0    0    0    0    0]\n",
      " [   0    0    0    0    0    0 3248    0    0    0    0    0    0    0\n",
      "     0    0    0    0    0    0    0]\n",
      " [   0    0    0    0    0    0    0 2779    0    0    0    0    0    0\n",
      "     0    0    0    0    0    0    0]\n",
      " [   0    0    0    0    0    0    0    0 1704    0    0    0    0    0\n",
      "     0    0    0    0    0    0    0]\n",
      " [   0    0    0    0    0    0    0    0    0 2375    0    0    0    0\n",
      "     0    0    0    0    0    0    0]\n",
      " [   0    0    0    0    0    0    0    0    0    0 2771    0    0    0\n",
      "     0    0    0    0    0    0    0]\n",
      " [   0    0    0    0    0    0    0    0    0    0    0 1213    0    0\n",
      "     0    0    0    0    0    0    0]\n",
      " [   0    0    0    0    0    0    0    0    0    0    0    0 3223    0\n",
      "     0    0    0    0    0    0    0]\n",
      " [   0    0    0    0    0    0    0    0    0    0    0    0    0 2749\n",
      "     0    0    0    0    0    0    0]\n",
      " [   0    0    0    0    0    0    0    0    0    0    0    0    0    0\n",
      "  3882    0    0    0    0    0    0]\n",
      " [   0    0    0    0    0    0    0    0    0    0    0    0    0    0\n",
      "     0 2416    0    0    0    0    0]\n",
      " [   0    0    0    0    0    0    0    0    0    0    0    0    0    0\n",
      "     0    0 2777    0    0    0    0]\n",
      " [   0    0    0    0    0    0    0    0    0    0    0    0    0    0\n",
      "     0    0    0 1726    0    0    0]\n",
      " [   0    0    0    0    0    0    0    0    0    0    0    0    0    0\n",
      "     0    0    0    0  616    0    0]\n",
      " [   0    0    0    0    0    0    0    0    0    0    0    0    0    0\n",
      "     0    0    0    0    0 1114    0]\n",
      " [   0    0    0    0    0    0    0    0    0    0    0    0    0    0\n",
      "     0    0    0    0    0    0 1305]]\n"
     ]
    }
   ],
   "source": [
    "## Matrix de confusión para los errores\n",
    "print(confusion_matrix(y_test, predictions_LOGREG))"
   ]
  },
  {
   "cell_type": "code",
   "execution_count": 194,
   "metadata": {},
   "outputs": [
    {
     "name": "stdout",
     "output_type": "stream",
     "text": [
      "                     precision    recall  f1-score   support\n",
      "\n",
      "         ARGANZUELA       1.00      1.00      1.00      2662\n",
      "            BARAJAS       1.00      1.00      1.00       704\n",
      "        CARABANCHEL       1.00      1.00      1.00      3081\n",
      "             CENTRO       1.00      1.00      1.00      3604\n",
      "          CHAMARTIN       1.00      1.00      1.00      3840\n",
      "           CHAMBERI       1.00      1.00      1.00      2811\n",
      "      CIUDAD LINEAL       1.00      1.00      1.00      3248\n",
      "FUENCARRAL-EL PARDO       1.00      1.00      1.00      2779\n",
      "          HORTALEZA       1.00      1.00      1.00      1704\n",
      "             LATINA       1.00      1.00      1.00      2375\n",
      "    MONCLOA-ARAVACA       1.00      1.00      1.00      2771\n",
      "          MORATALAZ       1.00      1.00      1.00      1213\n",
      " PUENTE DE VALLECAS       1.00      1.00      1.00      3223\n",
      "             RETIRO       1.00      1.00      1.00      2749\n",
      "          SALAMANCA       1.00      1.00      1.00      3882\n",
      "           SAN BLAS       1.00      1.00      1.00      2416\n",
      "             TETUAN       1.00      1.00      1.00      2777\n",
      "              USERA       1.00      1.00      1.00      1726\n",
      "          VICALVARO       1.00      1.00      1.00       616\n",
      "  VILLA DE VALLECAS       1.00      1.00      1.00      1114\n",
      "         VILLAVERDE       1.00      1.00      1.00      1305\n",
      "\n",
      "           accuracy                           1.00     50600\n",
      "          macro avg       1.00      1.00      1.00     50600\n",
      "       weighted avg       1.00      1.00      1.00     50600\n",
      "\n"
     ]
    }
   ],
   "source": [
    "## Informe de clasificación con nuestro conjunto de TEST\n",
    "# Observamos el promedio de F1-score\n",
    "print(classification_report(y_test, predictions_LOGREG))"
   ]
  },
  {
   "cell_type": "markdown",
   "metadata": {},
   "source": [
    "# Clasificación (o predicción) de nuevos valores"
   ]
  },
  {
   "cell_type": "code",
   "execution_count": 195,
   "metadata": {},
   "outputs": [
    {
     "data": {
      "text/plain": [
       "Index(['HORA', 'DIA_SEMANA', 'DISTRITO', 'SEXO', 'EDAD_APROX', 'COD_DISTRITO',\n",
       "       'SUP_KM2', 'DENSIDAD_KM2'],\n",
       "      dtype='object')"
      ]
     },
     "execution_count": 195,
     "metadata": {},
     "output_type": "execute_result"
    }
   ],
   "source": [
    "df_inf_xa_dis.columns"
   ]
  },
  {
   "cell_type": "code",
   "execution_count": 196,
   "metadata": {},
   "outputs": [
    {
     "data": {
      "text/html": [
       "<div>\n",
       "<style scoped>\n",
       "    .dataframe tbody tr th:only-of-type {\n",
       "        vertical-align: middle;\n",
       "    }\n",
       "\n",
       "    .dataframe tbody tr th {\n",
       "        vertical-align: top;\n",
       "    }\n",
       "\n",
       "    .dataframe thead th {\n",
       "        text-align: right;\n",
       "    }\n",
       "</style>\n",
       "<table border=\"1\" class=\"dataframe\">\n",
       "  <thead>\n",
       "    <tr style=\"text-align: right;\">\n",
       "      <th></th>\n",
       "      <th>HORA</th>\n",
       "      <th>DIA_SEMANA</th>\n",
       "      <th>DISTRITO</th>\n",
       "      <th>SEXO</th>\n",
       "      <th>EDAD_APROX</th>\n",
       "      <th>COD_DISTRITO</th>\n",
       "      <th>SUP_KM2</th>\n",
       "      <th>DENSIDAD_KM2</th>\n",
       "    </tr>\n",
       "  </thead>\n",
       "  <tbody>\n",
       "    <tr>\n",
       "      <th>0</th>\n",
       "      <td>0</td>\n",
       "      <td>6</td>\n",
       "      <td>CHAMARTIN</td>\n",
       "      <td>0</td>\n",
       "      <td>3</td>\n",
       "      <td>79605</td>\n",
       "      <td>9.12</td>\n",
       "      <td>15723.25</td>\n",
       "    </tr>\n",
       "  </tbody>\n",
       "</table>\n",
       "</div>"
      ],
      "text/plain": [
       "   HORA  DIA_SEMANA   DISTRITO  SEXO  EDAD_APROX COD_DISTRITO SUP_KM2  \\\n",
       "0     0           6  CHAMARTIN     0           3        79605    9.12   \n",
       "\n",
       "  DENSIDAD_KM2  \n",
       "0     15723.25  "
      ]
     },
     "execution_count": 196,
     "metadata": {},
     "output_type": "execute_result"
    }
   ],
   "source": [
    "df_inf_xa_dis.head(1)"
   ]
  },
  {
   "cell_type": "code",
   "execution_count": 197,
   "metadata": {},
   "outputs": [
    {
     "data": {
      "text/html": [
       "<div>\n",
       "<style scoped>\n",
       "    .dataframe tbody tr th:only-of-type {\n",
       "        vertical-align: middle;\n",
       "    }\n",
       "\n",
       "    .dataframe tbody tr th {\n",
       "        vertical-align: top;\n",
       "    }\n",
       "\n",
       "    .dataframe thead th {\n",
       "        text-align: right;\n",
       "    }\n",
       "</style>\n",
       "<table border=\"1\" class=\"dataframe\">\n",
       "  <thead>\n",
       "    <tr style=\"text-align: right;\">\n",
       "      <th></th>\n",
       "      <th>HORA</th>\n",
       "      <th>DIA_SEMANA</th>\n",
       "      <th>DISTRITO</th>\n",
       "      <th>SEXO</th>\n",
       "      <th>EDAD_APROX</th>\n",
       "    </tr>\n",
       "  </thead>\n",
       "  <tbody>\n",
       "    <tr>\n",
       "      <th>0</th>\n",
       "      <td>00:00</td>\n",
       "      <td>VIERNES</td>\n",
       "      <td>CHAMARTIN</td>\n",
       "      <td>HOMBRE</td>\n",
       "      <td>20</td>\n",
       "    </tr>\n",
       "  </tbody>\n",
       "</table>\n",
       "</div>"
      ],
      "text/plain": [
       "    HORA DIA_SEMANA   DISTRITO    SEXO EDAD_APROX\n",
       "0  00:00    VIERNES  CHAMARTIN  HOMBRE         20"
      ]
     },
     "execution_count": 197,
     "metadata": {},
     "output_type": "execute_result"
    }
   ],
   "source": [
    "df_accs.head(1)"
   ]
  },
  {
   "cell_type": "code",
   "execution_count": 198,
   "metadata": {},
   "outputs": [
    {
     "data": {
      "text/plain": [
       "array([[-1.12931338e+01, -1.13715495e+01, -1.13071721e+01, ...,\n",
       "        -1.13705023e+01, -1.13959074e+01, -1.14120579e+01],\n",
       "       [-1.05869208e+01, -1.07217164e+01, -1.05911985e+01, ...,\n",
       "        -1.07312648e+01, -1.06233217e+01, -1.06937049e+01],\n",
       "       [-1.13186785e+01, -1.12977308e+01, -1.12889030e+01, ...,\n",
       "        -1.13044207e+01, -1.13111839e+01, -1.13020783e+01],\n",
       "       ...,\n",
       "       [-1.13394821e+01, -1.13976705e+01, -1.13708761e+01, ...,\n",
       "        -1.14434203e+01, -1.14095185e+01, -1.14234650e+01],\n",
       "       [-1.10795492e+01, -1.11463692e+01, -1.11044204e+01, ...,\n",
       "        -1.11067817e+01, -1.10950713e+01, -1.11117083e+01],\n",
       "       [-1.03999086e+01, -1.04942588e+01, -1.04064388e+01, ...,\n",
       "        -1.04831684e+01, -1.04592524e+01, -6.09060377e-04]])"
      ]
     },
     "execution_count": 198,
     "metadata": {},
     "output_type": "execute_result"
    }
   ],
   "source": [
    "model_LOGREG.predict_log_proba(X_test)"
   ]
  },
  {
   "cell_type": "code",
   "execution_count": 199,
   "metadata": {},
   "outputs": [
    {
     "data": {
      "text/plain": [
       "array([[-6.45860178e-04,  2.06549841e-03, -7.27986648e-04, ...,\n",
       "        -1.68470893e-01, -1.65724300e-01, -1.73936118e-01],\n",
       "       [-2.27769016e-02, -3.83157079e-02, -7.19306847e-03, ...,\n",
       "        -1.60091571e-01, -1.56945252e-01, -1.64928581e-01],\n",
       "       [ 2.11189877e-02,  2.36901636e-02,  9.21177805e-03, ...,\n",
       "        -1.70424524e-01, -1.68139835e-01, -1.76239264e-01],\n",
       "       ...,\n",
       "       [-3.04349286e-02, -1.65935515e-04, -3.60422272e-04, ...,\n",
       "        -1.58870985e-01, -1.56154315e-01, -1.64055853e-01],\n",
       "       [-3.87513199e-05, -1.15098697e-02, -1.11866498e-02, ...,\n",
       "        -1.64875137e-01, -1.62182167e-01, -1.70094074e-01],\n",
       "       [-5.12375656e-03, -3.40477106e-03, -1.25812392e-02, ...,\n",
       "        -1.61318841e-01,  3.31818432e+00, -1.66719381e-01]])"
      ]
     },
     "execution_count": 199,
     "metadata": {},
     "output_type": "execute_result"
    }
   ],
   "source": [
    "model_LOGREG.coef_"
   ]
  },
  {
   "cell_type": "code",
   "execution_count": 200,
   "metadata": {},
   "outputs": [
    {
     "data": {
      "text/plain": [
       "<bound method ClassifierMixin.score of LogisticRegression(C=1.0, class_weight=None, dual=False, fit_intercept=True,\n",
       "                   intercept_scaling=1, l1_ratio=None, max_iter=100,\n",
       "                   multi_class='auto', n_jobs=None, penalty='l2',\n",
       "                   random_state=None, solver='sag', tol=0.0001, verbose=0,\n",
       "                   warm_start=False)>"
      ]
     },
     "execution_count": 200,
     "metadata": {},
     "output_type": "execute_result"
    }
   ],
   "source": [
    "model_LOGREG.score"
   ]
  },
  {
   "cell_type": "code",
   "execution_count": 201,
   "metadata": {},
   "outputs": [
    {
     "data": {
      "text/plain": [
       "HORA             int64\n",
       "DIA_SEMANA       int64\n",
       "DISTRITO        object\n",
       "SEXO             int64\n",
       "EDAD_APROX       int64\n",
       "COD_DISTRITO    object\n",
       "SUP_KM2         object\n",
       "DENSIDAD_KM2    object\n",
       "dtype: object"
      ]
     },
     "execution_count": 201,
     "metadata": {},
     "output_type": "execute_result"
    }
   ],
   "source": [
    "df_inf_xa_dis.dtypes"
   ]
  },
  {
   "cell_type": "code",
   "execution_count": 202,
   "metadata": {},
   "outputs": [
    {
     "data": {
      "text/plain": [
       "'CENTRO'"
      ]
     },
     "execution_count": 202,
     "metadata": {},
     "output_type": "execute_result"
    }
   ],
   "source": [
    "predictions_LOGREG[22]"
   ]
  },
  {
   "cell_type": "code",
   "execution_count": 203,
   "metadata": {},
   "outputs": [
    {
     "data": {
      "text/plain": [
       "'CENTRO'"
      ]
     },
     "execution_count": 203,
     "metadata": {},
     "output_type": "execute_result"
    }
   ],
   "source": [
    "y_test[22]"
   ]
  },
  {
   "cell_type": "code",
   "execution_count": 206,
   "metadata": {},
   "outputs": [
    {
     "data": {
      "text/plain": [
       "array([[1.24581722e-05, 1.15185760e-05, 1.22845013e-05, ...,\n",
       "        1.15306453e-05, 1.12413973e-05, 1.10613017e-05],\n",
       "       [2.52440328e-05, 2.20606205e-05, 2.51362755e-05, ...,\n",
       "        2.18509802e-05, 2.43416505e-05, 2.26873073e-05],\n",
       "       [1.21439621e-05, 1.24010327e-05, 1.25109908e-05, ...,\n",
       "        1.23183478e-05, 1.22353181e-05, 1.23472358e-05],\n",
       "       ...,\n",
       "       [1.18939335e-05, 1.12215946e-05, 1.15263350e-05, ...,\n",
       "        1.07197765e-05, 1.10894260e-05, 1.09358404e-05],\n",
       "       [1.54245649e-05, 1.44275762e-05, 1.50456683e-05, ...,\n",
       "        1.50101833e-05, 1.51869911e-05, 1.49364160e-05],\n",
       "       [3.04352658e-05, 2.76949951e-05, 3.02371629e-05, ...,\n",
       "        2.80038541e-05, 2.86816666e-05, 9.99391125e-01]])"
      ]
     },
     "execution_count": 206,
     "metadata": {},
     "output_type": "execute_result"
    }
   ],
   "source": [
    "model_LOGREG.predict_proba(X_test)"
   ]
  },
  {
   "cell_type": "code",
   "execution_count": 208,
   "metadata": {},
   "outputs": [
    {
     "name": "stdout",
     "output_type": "stream",
     "text": [
      "[1.15185760e-05 2.20606205e-05 1.24010327e-05 ... 1.12215946e-05\n",
      " 1.44275762e-05 2.76949951e-05]\n"
     ]
    }
   ],
   "source": [
    "model_LOGREG.predict_proba(X_test)[:,1]"
   ]
  },
  {
   "cell_type": "code",
   "execution_count": 210,
   "metadata": {},
   "outputs": [
    {
     "data": {
      "text/plain": [
       "array([[-0.48645488, -0.56487065, -0.50049327, ..., -0.56382339,\n",
       "        -0.58922853, -0.605379  ],\n",
       "       [-0.45979332, -0.59458898, -0.46407108, ..., -0.60413735,\n",
       "        -0.49619423, -0.56657751],\n",
       "       [-0.59249312, -0.57154547, -0.5627177 , ..., -0.57823538,\n",
       "        -0.58499852, -0.575893  ],\n",
       "       ...,\n",
       "       [-0.51251299, -0.57070146, -0.54390705, ..., -0.61645117,\n",
       "        -0.58254942, -0.59649596],\n",
       "       [-0.52013357, -0.58695354, -0.5450048 , ..., -0.54736607,\n",
       "        -0.53565572, -0.55229267],\n",
       "       [-0.49470462, -0.5890549 , -0.50123489, ..., -0.57796447,\n",
       "        -0.55404849,  9.90459488]])"
      ]
     },
     "execution_count": 210,
     "metadata": {},
     "output_type": "execute_result"
    }
   ],
   "source": [
    "model_LOGREG.decision_function(X_test)"
   ]
  },
  {
   "cell_type": "code",
   "execution_count": 212,
   "metadata": {},
   "outputs": [
    {
     "data": {
      "text/plain": [
       "array(['ARGANZUELA', 'BARAJAS', 'CARABANCHEL', 'CENTRO', 'CHAMARTIN',\n",
       "       'CHAMBERI', 'CIUDAD LINEAL', 'FUENCARRAL-EL PARDO', 'HORTALEZA',\n",
       "       'LATINA', 'MONCLOA-ARAVACA', 'MORATALAZ', 'PUENTE DE VALLECAS',\n",
       "       'RETIRO', 'SALAMANCA', 'SAN BLAS', 'TETUAN', 'USERA', 'VICALVARO',\n",
       "       'VILLA DE VALLECAS', 'VILLAVERDE'], dtype=object)"
      ]
     },
     "execution_count": 212,
     "metadata": {},
     "output_type": "execute_result"
    }
   ],
   "source": [
    "model_LOGREG.classes_"
   ]
  },
  {
   "cell_type": "code",
   "execution_count": null,
   "metadata": {},
   "outputs": [
    {
     "name": "stdout",
     "output_type": "stream",
     "text": [
      "Automatically created module for IPython interactive environment\n"
     ]
    }
   ],
   "source": [
    "print(__doc__)\n",
    "\n",
    "import numpy as np\n",
    "import matplotlib.pyplot as plt\n",
    "from itertools import cycle\n",
    "\n",
    "from sklearn import svm, datasets\n",
    "from sklearn.metrics import roc_curve, auc\n",
    "from sklearn.model_selection import train_test_split\n",
    "from sklearn.preprocessing import label_binarize\n",
    "from sklearn.multiclass import OneVsRestClassifier\n",
    "from scipy import interp\n",
    "\n",
    "# Binarize the output\n",
    "y = label_binarize(y, classes=[0, 1, 2, 3, 4, 5, 6])\n",
    "n_classes = y.shape[1]\n",
    "\n",
    "# Add noisy features to make the problem harder\n",
    "random_state = np.random.RandomState(0)\n",
    "n_samples, n_features = X.shape\n",
    "X = np.c_[X, random_state.randn(n_samples, 200 * n_features)]\n",
    "\n",
    "# shuffle and split training and test sets\n",
    "X_train, X_test, y_train, y_test = train_test_split(X, y, test_size=.5,\n",
    "                                                    random_state=0)\n",
    "\n",
    "# Learn to predict each class against the other\n",
    "classifier = OneVsRestClassifier(svm.SVC(kernel='linear', probability=True,\n",
    "                                 random_state=random_state))\n",
    "y_score = classifier.fit(X_train, y_train).decision_function(X_test)\n",
    "\n",
    "# Compute ROC curve and ROC area for each class\n",
    "fpr = dict()\n",
    "tpr = dict()\n",
    "roc_auc = dict()\n",
    "for i in range(n_classes):\n",
    "    fpr[i], tpr[i], _ = roc_curve(y_test[:, i], y_score[:, i])\n",
    "    roc_auc[i] = auc(fpr[i], tpr[i])\n",
    "\n",
    "# Compute micro-average ROC curve and ROC area\n",
    "fpr[\"micro\"], tpr[\"micro\"], _ = roc_curve(y_test.ravel(), y_score.ravel())\n",
    "roc_auc[\"micro\"] = auc(fpr[\"micro\"], tpr[\"micro\"])"
   ]
  },
  {
   "cell_type": "code",
   "execution_count": null,
   "metadata": {},
   "outputs": [],
   "source": []
  },
  {
   "cell_type": "code",
   "execution_count": null,
   "metadata": {},
   "outputs": [],
   "source": []
  },
  {
   "cell_type": "code",
   "execution_count": null,
   "metadata": {},
   "outputs": [],
   "source": []
  }
 ],
 "metadata": {
  "kernelspec": {
   "display_name": "Python 3",
   "language": "python",
   "name": "python3"
  },
  "language_info": {
   "codemirror_mode": {
    "name": "ipython",
    "version": 3
   },
   "file_extension": ".py",
   "mimetype": "text/x-python",
   "name": "python",
   "nbconvert_exporter": "python",
   "pygments_lexer": "ipython3",
   "version": "3.7.3"
  }
 },
 "nbformat": 4,
 "nbformat_minor": 2
}
