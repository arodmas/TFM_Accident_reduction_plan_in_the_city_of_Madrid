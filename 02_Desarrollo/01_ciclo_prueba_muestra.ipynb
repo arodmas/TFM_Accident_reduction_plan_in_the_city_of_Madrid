{
 "cells": [
  {
   "cell_type": "code",
   "execution_count": 183,
   "metadata": {},
   "outputs": [
    {
     "name": "stdout",
     "output_type": "stream",
     "text": [
      "\n",
      "Automagic is ON, % prefix IS NOT needed for line magics.\n"
     ]
    }
   ],
   "source": [
    "%automagic"
   ]
  },
  {
   "cell_type": "code",
   "execution_count": 184,
   "metadata": {},
   "outputs": [],
   "source": [
    "import pandas as pd\n",
    "import numpy as np"
   ]
  },
  {
   "cell_type": "code",
   "execution_count": 185,
   "metadata": {},
   "outputs": [
    {
     "name": "stdout",
     "output_type": "stream",
     "text": [
      "01_Originals_data  02_Desarrollo  README.md\r\n"
     ]
    }
   ],
   "source": [
    "folder = '/home/dsc/Repos/TFM_Accident_reduction_plan_in_the_city_of_Madrid'\n",
    "!ls {folder}"
   ]
  },
  {
   "cell_type": "code",
   "execution_count": 186,
   "metadata": {},
   "outputs": [
    {
     "data": {
      "text/plain": [
       "'/home/dsc/Repos/TFM_Accident_reduction_plan_in_the_city_of_Madrid'"
      ]
     },
     "execution_count": 186,
     "metadata": {},
     "output_type": "execute_result"
    }
   ],
   "source": [
    "import os\n",
    "os.getcwd()"
   ]
  },
  {
   "cell_type": "code",
   "execution_count": 187,
   "metadata": {},
   "outputs": [
    {
     "data": {
      "text/plain": [
       "'/home/dsc/Repos/TFM_Accident_reduction_plan_in_the_city_of_Madrid'"
      ]
     },
     "execution_count": 187,
     "metadata": {},
     "output_type": "execute_result"
    }
   ],
   "source": [
    "os.chdir(folder)\n",
    "os.getcwd()"
   ]
  },
  {
   "cell_type": "code",
   "execution_count": 188,
   "metadata": {},
   "outputs": [],
   "source": [
    "# Read from excel file with column names stipulated:\n",
    "# FECHA\tRANGO HORARIO\tDIA SEMANA\tDISTRITO\tLUGAR ACCIDENTE\tNº\tNº PARTE\tCPFA Granizo\tCPFA Hielo\tCPFA Lluvia\tCPFA Niebla\tCPFA Seco\tCPFA Nieve\tCPSV Mojada\tCPSV Aceite\tCPSV Barro\tCPSV Grava Suelta\tCPSV Hielo\tCPSV Seca Y Limpia\tNº VICTIMAS *\tTIPO ACCIDENTE\tTipo Vehiculo\tTIPO PERSONA\tSEXO\tLESIVIDAD\tTramo Edad\n",
    "# x\n",
    "# FECHA   RANGO_HORARIO   DIA_SEMANA      DISTRITO        LUGAR_ACCIDENTE BORRAR  BORRAR          BORRAR          BORRAR          BORRAR          BORRAR          BORRAR          BORRAR          BORRAR          BORRAR          BORRAR          BORRAR                  BORRAR          BORRAR                  NUM_PERSONAS    TIPO_ACCIDENTE  TIPO_VEHICULO   TIPO_PERSONA    SEXO    LESIVIDAD       TRAMO_EDAD\n",
    "\n",
    "df_from_xls = pd.read_excel('./01_Originals_data/2010_Accidentalidad.xlsx',\n",
    "                     sheet_name='LISTADO DE ACCIDENTES MENSUALES',\n",
    "                     index_col=None,\n",
    "                     names=['FECHA', 'RANGO_HORARIO', 'DIA_SEMANA', 'DISTRITO', 'LUGAR_ACCIDENTE', 'BORRAR', 'BORRAR', 'BORRAR', 'BORRAR', 'BORRAR', 'BORRAR', 'BORRAR', 'BORRAR', 'BORRAR', 'BORRAR', 'BORRAR', 'BORRAR', 'BORRAR', 'BORRAR', 'NUM_PERSONAS', 'TIPO_ACCIDENTE', 'TIPO_VEHICULO', 'TIPO_PERSONA', 'SEXO', 'LESIVIDAD', 'TRAMO_EDAD'])\n"
   ]
  },
  {
   "cell_type": "code",
   "execution_count": 189,
   "metadata": {},
   "outputs": [
    {
     "data": {
      "text/html": [
       "<div>\n",
       "<style scoped>\n",
       "    .dataframe tbody tr th:only-of-type {\n",
       "        vertical-align: middle;\n",
       "    }\n",
       "\n",
       "    .dataframe tbody tr th {\n",
       "        vertical-align: top;\n",
       "    }\n",
       "\n",
       "    .dataframe thead th {\n",
       "        text-align: right;\n",
       "    }\n",
       "</style>\n",
       "<table border=\"1\" class=\"dataframe\">\n",
       "  <thead>\n",
       "    <tr style=\"text-align: right;\">\n",
       "      <th></th>\n",
       "      <th>FECHA</th>\n",
       "      <th>RANGO_HORARIO</th>\n",
       "      <th>DIA_SEMANA</th>\n",
       "      <th>DISTRITO</th>\n",
       "      <th>LUGAR_ACCIDENTE</th>\n",
       "      <th>BORRAR</th>\n",
       "      <th>BORRAR</th>\n",
       "      <th>BORRAR</th>\n",
       "      <th>BORRAR</th>\n",
       "      <th>BORRAR</th>\n",
       "      <th>...</th>\n",
       "      <th>BORRAR</th>\n",
       "      <th>BORRAR</th>\n",
       "      <th>BORRAR</th>\n",
       "      <th>NUM_PERSONAS</th>\n",
       "      <th>TIPO_ACCIDENTE</th>\n",
       "      <th>TIPO_VEHICULO</th>\n",
       "      <th>TIPO_PERSONA</th>\n",
       "      <th>SEXO</th>\n",
       "      <th>LESIVIDAD</th>\n",
       "      <th>TRAMO_EDAD</th>\n",
       "    </tr>\n",
       "  </thead>\n",
       "  <tbody>\n",
       "    <tr>\n",
       "      <th>0</th>\n",
       "      <td>2010-01-01</td>\n",
       "      <td>DE 00:00 A 00:59</td>\n",
       "      <td>VIERNES</td>\n",
       "      <td>CHAMARTIN</td>\n",
       "      <td>CALLE DE CARTAGENA NUM                        ...</td>\n",
       "      <td>104</td>\n",
       "      <td>2010/135</td>\n",
       "      <td>NO</td>\n",
       "      <td>NO</td>\n",
       "      <td>SI</td>\n",
       "      <td>...</td>\n",
       "      <td>NO</td>\n",
       "      <td>NO</td>\n",
       "      <td>NO</td>\n",
       "      <td>1</td>\n",
       "      <td>COLISIÓN DOBLE</td>\n",
       "      <td>TURISMO</td>\n",
       "      <td>CONDUCTOR</td>\n",
       "      <td>HOMBRE</td>\n",
       "      <td>IL</td>\n",
       "      <td>DE 18 A 20 AÑOS</td>\n",
       "    </tr>\n",
       "    <tr>\n",
       "      <th>1</th>\n",
       "      <td>2010-01-01</td>\n",
       "      <td>DE 00:00 A 00:59</td>\n",
       "      <td>VIERNES</td>\n",
       "      <td>CHAMARTIN</td>\n",
       "      <td>CALLE DE CARTAGENA NUM                        ...</td>\n",
       "      <td>104</td>\n",
       "      <td>2010/135</td>\n",
       "      <td>NO</td>\n",
       "      <td>NO</td>\n",
       "      <td>SI</td>\n",
       "      <td>...</td>\n",
       "      <td>NO</td>\n",
       "      <td>NO</td>\n",
       "      <td>NO</td>\n",
       "      <td>1</td>\n",
       "      <td>COLISIÓN DOBLE</td>\n",
       "      <td>TURISMO</td>\n",
       "      <td>CONDUCTOR</td>\n",
       "      <td>HOMBRE</td>\n",
       "      <td>IL</td>\n",
       "      <td>DE 50 A 54 AÑOS</td>\n",
       "    </tr>\n",
       "    <tr>\n",
       "      <th>2</th>\n",
       "      <td>2010-01-01</td>\n",
       "      <td>DE 00:00 A 00:59</td>\n",
       "      <td>VIERNES</td>\n",
       "      <td>CHAMARTIN</td>\n",
       "      <td>CALLE DE CARTAGENA NUM                        ...</td>\n",
       "      <td>104</td>\n",
       "      <td>2010/135</td>\n",
       "      <td>NO</td>\n",
       "      <td>NO</td>\n",
       "      <td>SI</td>\n",
       "      <td>...</td>\n",
       "      <td>NO</td>\n",
       "      <td>NO</td>\n",
       "      <td>NO</td>\n",
       "      <td>1</td>\n",
       "      <td>COLISIÓN DOBLE</td>\n",
       "      <td>TURISMO</td>\n",
       "      <td>VIAJERO</td>\n",
       "      <td>MUJER</td>\n",
       "      <td>HL</td>\n",
       "      <td>DE 40 A 44 AÑOS</td>\n",
       "    </tr>\n",
       "    <tr>\n",
       "      <th>3</th>\n",
       "      <td>2010-01-01</td>\n",
       "      <td>DE 1:00 A 1:59</td>\n",
       "      <td>VIERNES</td>\n",
       "      <td>PUENTE DE VALLECAS</td>\n",
       "      <td>AUTOVIA  M-30 CALZADA 2 KM.                   ...</td>\n",
       "      <td>10200</td>\n",
       "      <td>2010/94</td>\n",
       "      <td>NO</td>\n",
       "      <td>NO</td>\n",
       "      <td>NO</td>\n",
       "      <td>...</td>\n",
       "      <td>NO</td>\n",
       "      <td>NO</td>\n",
       "      <td>NO</td>\n",
       "      <td>7</td>\n",
       "      <td>COLISIÓN MÚLTIPLE</td>\n",
       "      <td>NO ASIGNADO</td>\n",
       "      <td>VIAJERO</td>\n",
       "      <td>MUJER</td>\n",
       "      <td>HL</td>\n",
       "      <td>DE 25 A 29 AÑOS</td>\n",
       "    </tr>\n",
       "    <tr>\n",
       "      <th>4</th>\n",
       "      <td>2010-01-01</td>\n",
       "      <td>DE 1:00 A 1:59</td>\n",
       "      <td>VIERNES</td>\n",
       "      <td>PUENTE DE VALLECAS</td>\n",
       "      <td>AUTOVIA  M-30 CALZADA 2 KM.                   ...</td>\n",
       "      <td>10200</td>\n",
       "      <td>2010/94</td>\n",
       "      <td>NO</td>\n",
       "      <td>NO</td>\n",
       "      <td>NO</td>\n",
       "      <td>...</td>\n",
       "      <td>NO</td>\n",
       "      <td>NO</td>\n",
       "      <td>NO</td>\n",
       "      <td>7</td>\n",
       "      <td>COLISIÓN MÚLTIPLE</td>\n",
       "      <td>NO ASIGNADO</td>\n",
       "      <td>VIAJERO</td>\n",
       "      <td>MUJER</td>\n",
       "      <td>HL</td>\n",
       "      <td>DE 30 A 34 ANOS</td>\n",
       "    </tr>\n",
       "  </tbody>\n",
       "</table>\n",
       "<p>5 rows × 26 columns</p>\n",
       "</div>"
      ],
      "text/plain": [
       "       FECHA     RANGO_HORARIO DIA_SEMANA                        DISTRITO  \\\n",
       "0 2010-01-01  DE 00:00 A 00:59    VIERNES  CHAMARTIN                        \n",
       "1 2010-01-01  DE 00:00 A 00:59    VIERNES  CHAMARTIN                        \n",
       "2 2010-01-01  DE 00:00 A 00:59    VIERNES  CHAMARTIN                        \n",
       "3 2010-01-01    DE 1:00 A 1:59    VIERNES  PUENTE DE VALLECAS               \n",
       "4 2010-01-01    DE 1:00 A 1:59    VIERNES  PUENTE DE VALLECAS               \n",
       "\n",
       "                                     LUGAR_ACCIDENTE BORRAR    BORRAR BORRAR  \\\n",
       "0  CALLE DE CARTAGENA NUM                        ...    104  2010/135     NO   \n",
       "1  CALLE DE CARTAGENA NUM                        ...    104  2010/135     NO   \n",
       "2  CALLE DE CARTAGENA NUM                        ...    104  2010/135     NO   \n",
       "3  AUTOVIA  M-30 CALZADA 2 KM.                   ...  10200   2010/94     NO   \n",
       "4  AUTOVIA  M-30 CALZADA 2 KM.                   ...  10200   2010/94     NO   \n",
       "\n",
       "  BORRAR BORRAR       ...        BORRAR BORRAR BORRAR NUM_PERSONAS  \\\n",
       "0     NO     SI       ...            NO     NO     NO            1   \n",
       "1     NO     SI       ...            NO     NO     NO            1   \n",
       "2     NO     SI       ...            NO     NO     NO            1   \n",
       "3     NO     NO       ...            NO     NO     NO            7   \n",
       "4     NO     NO       ...            NO     NO     NO            7   \n",
       "\n",
       "                             TIPO_ACCIDENTE  \\\n",
       "0  COLISIÓN DOBLE                             \n",
       "1  COLISIÓN DOBLE                             \n",
       "2  COLISIÓN DOBLE                             \n",
       "3  COLISIÓN MÚLTIPLE                          \n",
       "4  COLISIÓN MÚLTIPLE                          \n",
       "\n",
       "                              TIPO_VEHICULO  \\\n",
       "0  TURISMO                                    \n",
       "1  TURISMO                                    \n",
       "2  TURISMO                                    \n",
       "3                               NO ASIGNADO   \n",
       "4                               NO ASIGNADO   \n",
       "\n",
       "                               TIPO_PERSONA    SEXO  \\\n",
       "0                                 CONDUCTOR  HOMBRE   \n",
       "1                                 CONDUCTOR  HOMBRE   \n",
       "2  VIAJERO                                    MUJER   \n",
       "3  VIAJERO                                    MUJER   \n",
       "4  VIAJERO                                    MUJER   \n",
       "\n",
       "                                  LESIVIDAD       TRAMO_EDAD  \n",
       "0  IL                                        DE 18 A 20 AÑOS  \n",
       "1  IL                                        DE 50 A 54 AÑOS  \n",
       "2  HL                                        DE 40 A 44 AÑOS  \n",
       "3  HL                                        DE 25 A 29 AÑOS  \n",
       "4  HL                                        DE 30 A 34 ANOS  \n",
       "\n",
       "[5 rows x 26 columns]"
      ]
     },
     "execution_count": 189,
     "metadata": {},
     "output_type": "execute_result"
    }
   ],
   "source": [
    "df_from_xls.head()"
   ]
  },
  {
   "cell_type": "code",
   "execution_count": 65,
   "metadata": {},
   "outputs": [],
   "source": [
    "#print(df_from_xls[:5])\n",
    "#print(df_from_xls.loc[1])\n",
    "#df_from_xls"
   ]
  },
  {
   "cell_type": "code",
   "execution_count": 190,
   "metadata": {},
   "outputs": [
    {
     "data": {
      "text/plain": [
       "FECHA              0\n",
       "RANGO_HORARIO      0\n",
       "DIA_SEMANA         0\n",
       "DISTRITO           0\n",
       "LUGAR_ACCIDENTE    0\n",
       "BORRAR             0\n",
       "BORRAR             0\n",
       "BORRAR             0\n",
       "BORRAR             0\n",
       "BORRAR             0\n",
       "BORRAR             0\n",
       "BORRAR             0\n",
       "BORRAR             0\n",
       "BORRAR             0\n",
       "BORRAR             0\n",
       "BORRAR             0\n",
       "BORRAR             0\n",
       "BORRAR             0\n",
       "BORRAR             0\n",
       "NUM_PERSONAS       0\n",
       "TIPO_ACCIDENTE     0\n",
       "TIPO_VEHICULO      0\n",
       "TIPO_PERSONA       0\n",
       "SEXO               0\n",
       "LESIVIDAD          0\n",
       "TRAMO_EDAD         0\n",
       "dtype: int64"
      ]
     },
     "execution_count": 190,
     "metadata": {},
     "output_type": "execute_result"
    }
   ],
   "source": [
    "# Comprobar valores nulos\n",
    "df_from_xls.isnull().sum()"
   ]
  },
  {
   "cell_type": "code",
   "execution_count": 191,
   "metadata": {},
   "outputs": [],
   "source": [
    "# borrar columnas sobrantes:\n",
    "#data_xls_sin_columnas = \n",
    "del df_from_xls['BORRAR']\n",
    "# data_xls_sin_columnas = data_xls.drop(['BORRAR', 'BORRAR', 'BORRAR', 'BORRAR', 'BORRAR', 'BORRAR', 'BORRAR', 'BORRAR', 'BORRAR', 'BORRAR', 'BORRAR', 'BORRAR', 'BORRAR', 'BORRAR'], axis='columns', inplace=True)"
   ]
  },
  {
   "cell_type": "code",
   "execution_count": 192,
   "metadata": {},
   "outputs": [
    {
     "data": {
      "text/html": [
       "<div>\n",
       "<style scoped>\n",
       "    .dataframe tbody tr th:only-of-type {\n",
       "        vertical-align: middle;\n",
       "    }\n",
       "\n",
       "    .dataframe tbody tr th {\n",
       "        vertical-align: top;\n",
       "    }\n",
       "\n",
       "    .dataframe thead th {\n",
       "        text-align: right;\n",
       "    }\n",
       "</style>\n",
       "<table border=\"1\" class=\"dataframe\">\n",
       "  <thead>\n",
       "    <tr style=\"text-align: right;\">\n",
       "      <th></th>\n",
       "      <th>FECHA</th>\n",
       "      <th>RANGO_HORARIO</th>\n",
       "      <th>DIA_SEMANA</th>\n",
       "      <th>DISTRITO</th>\n",
       "      <th>LUGAR_ACCIDENTE</th>\n",
       "      <th>NUM_PERSONAS</th>\n",
       "      <th>TIPO_ACCIDENTE</th>\n",
       "      <th>TIPO_VEHICULO</th>\n",
       "      <th>TIPO_PERSONA</th>\n",
       "      <th>SEXO</th>\n",
       "      <th>LESIVIDAD</th>\n",
       "      <th>TRAMO_EDAD</th>\n",
       "    </tr>\n",
       "  </thead>\n",
       "  <tbody>\n",
       "    <tr>\n",
       "      <th>0</th>\n",
       "      <td>2010-01-01</td>\n",
       "      <td>DE 00:00 A 00:59</td>\n",
       "      <td>VIERNES</td>\n",
       "      <td>CHAMARTIN</td>\n",
       "      <td>CALLE DE CARTAGENA NUM                        ...</td>\n",
       "      <td>1</td>\n",
       "      <td>COLISIÓN DOBLE</td>\n",
       "      <td>TURISMO</td>\n",
       "      <td>CONDUCTOR</td>\n",
       "      <td>HOMBRE</td>\n",
       "      <td>IL</td>\n",
       "      <td>DE 18 A 20 AÑOS</td>\n",
       "    </tr>\n",
       "    <tr>\n",
       "      <th>1</th>\n",
       "      <td>2010-01-01</td>\n",
       "      <td>DE 00:00 A 00:59</td>\n",
       "      <td>VIERNES</td>\n",
       "      <td>CHAMARTIN</td>\n",
       "      <td>CALLE DE CARTAGENA NUM                        ...</td>\n",
       "      <td>1</td>\n",
       "      <td>COLISIÓN DOBLE</td>\n",
       "      <td>TURISMO</td>\n",
       "      <td>CONDUCTOR</td>\n",
       "      <td>HOMBRE</td>\n",
       "      <td>IL</td>\n",
       "      <td>DE 50 A 54 AÑOS</td>\n",
       "    </tr>\n",
       "    <tr>\n",
       "      <th>2</th>\n",
       "      <td>2010-01-01</td>\n",
       "      <td>DE 00:00 A 00:59</td>\n",
       "      <td>VIERNES</td>\n",
       "      <td>CHAMARTIN</td>\n",
       "      <td>CALLE DE CARTAGENA NUM                        ...</td>\n",
       "      <td>1</td>\n",
       "      <td>COLISIÓN DOBLE</td>\n",
       "      <td>TURISMO</td>\n",
       "      <td>VIAJERO</td>\n",
       "      <td>MUJER</td>\n",
       "      <td>HL</td>\n",
       "      <td>DE 40 A 44 AÑOS</td>\n",
       "    </tr>\n",
       "    <tr>\n",
       "      <th>3</th>\n",
       "      <td>2010-01-01</td>\n",
       "      <td>DE 1:00 A 1:59</td>\n",
       "      <td>VIERNES</td>\n",
       "      <td>PUENTE DE VALLECAS</td>\n",
       "      <td>AUTOVIA  M-30 CALZADA 2 KM.                   ...</td>\n",
       "      <td>7</td>\n",
       "      <td>COLISIÓN MÚLTIPLE</td>\n",
       "      <td>NO ASIGNADO</td>\n",
       "      <td>VIAJERO</td>\n",
       "      <td>MUJER</td>\n",
       "      <td>HL</td>\n",
       "      <td>DE 25 A 29 AÑOS</td>\n",
       "    </tr>\n",
       "    <tr>\n",
       "      <th>4</th>\n",
       "      <td>2010-01-01</td>\n",
       "      <td>DE 1:00 A 1:59</td>\n",
       "      <td>VIERNES</td>\n",
       "      <td>PUENTE DE VALLECAS</td>\n",
       "      <td>AUTOVIA  M-30 CALZADA 2 KM.                   ...</td>\n",
       "      <td>7</td>\n",
       "      <td>COLISIÓN MÚLTIPLE</td>\n",
       "      <td>NO ASIGNADO</td>\n",
       "      <td>VIAJERO</td>\n",
       "      <td>MUJER</td>\n",
       "      <td>HL</td>\n",
       "      <td>DE 30 A 34 ANOS</td>\n",
       "    </tr>\n",
       "  </tbody>\n",
       "</table>\n",
       "</div>"
      ],
      "text/plain": [
       "       FECHA     RANGO_HORARIO DIA_SEMANA                        DISTRITO  \\\n",
       "0 2010-01-01  DE 00:00 A 00:59    VIERNES  CHAMARTIN                        \n",
       "1 2010-01-01  DE 00:00 A 00:59    VIERNES  CHAMARTIN                        \n",
       "2 2010-01-01  DE 00:00 A 00:59    VIERNES  CHAMARTIN                        \n",
       "3 2010-01-01    DE 1:00 A 1:59    VIERNES  PUENTE DE VALLECAS               \n",
       "4 2010-01-01    DE 1:00 A 1:59    VIERNES  PUENTE DE VALLECAS               \n",
       "\n",
       "                                     LUGAR_ACCIDENTE  NUM_PERSONAS  \\\n",
       "0  CALLE DE CARTAGENA NUM                        ...             1   \n",
       "1  CALLE DE CARTAGENA NUM                        ...             1   \n",
       "2  CALLE DE CARTAGENA NUM                        ...             1   \n",
       "3  AUTOVIA  M-30 CALZADA 2 KM.                   ...             7   \n",
       "4  AUTOVIA  M-30 CALZADA 2 KM.                   ...             7   \n",
       "\n",
       "                             TIPO_ACCIDENTE  \\\n",
       "0  COLISIÓN DOBLE                             \n",
       "1  COLISIÓN DOBLE                             \n",
       "2  COLISIÓN DOBLE                             \n",
       "3  COLISIÓN MÚLTIPLE                          \n",
       "4  COLISIÓN MÚLTIPLE                          \n",
       "\n",
       "                              TIPO_VEHICULO  \\\n",
       "0  TURISMO                                    \n",
       "1  TURISMO                                    \n",
       "2  TURISMO                                    \n",
       "3                               NO ASIGNADO   \n",
       "4                               NO ASIGNADO   \n",
       "\n",
       "                               TIPO_PERSONA    SEXO  \\\n",
       "0                                 CONDUCTOR  HOMBRE   \n",
       "1                                 CONDUCTOR  HOMBRE   \n",
       "2  VIAJERO                                    MUJER   \n",
       "3  VIAJERO                                    MUJER   \n",
       "4  VIAJERO                                    MUJER   \n",
       "\n",
       "                                  LESIVIDAD       TRAMO_EDAD  \n",
       "0  IL                                        DE 18 A 20 AÑOS  \n",
       "1  IL                                        DE 50 A 54 AÑOS  \n",
       "2  HL                                        DE 40 A 44 AÑOS  \n",
       "3  HL                                        DE 25 A 29 AÑOS  \n",
       "4  HL                                        DE 30 A 34 ANOS  "
      ]
     },
     "execution_count": 192,
     "metadata": {},
     "output_type": "execute_result"
    }
   ],
   "source": [
    "df_from_xls.head()"
   ]
  },
  {
   "cell_type": "code",
   "execution_count": 69,
   "metadata": {},
   "outputs": [],
   "source": [
    "#print(df_from_xls[:5])\n",
    "#print(data_xls.loc[1])\n",
    "#data_xls"
   ]
  },
  {
   "cell_type": "code",
   "execution_count": 193,
   "metadata": {},
   "outputs": [
    {
     "data": {
      "text/plain": [
       "FECHA              datetime64[ns]\n",
       "RANGO_HORARIO              object\n",
       "DIA_SEMANA                 object\n",
       "DISTRITO                   object\n",
       "LUGAR_ACCIDENTE            object\n",
       "NUM_PERSONAS                int64\n",
       "TIPO_ACCIDENTE             object\n",
       "TIPO_VEHICULO              object\n",
       "TIPO_PERSONA               object\n",
       "SEXO                       object\n",
       "LESIVIDAD                  object\n",
       "TRAMO_EDAD                 object\n",
       "dtype: object"
      ]
     },
     "execution_count": 193,
     "metadata": {},
     "output_type": "execute_result"
    }
   ],
   "source": [
    "df_from_xls.dtypes"
   ]
  },
  {
   "cell_type": "code",
   "execution_count": 194,
   "metadata": {},
   "outputs": [
    {
     "data": {
      "text/plain": [
       "Index(['FECHA', 'RANGO_HORARIO', 'DIA_SEMANA', 'DISTRITO', 'LUGAR_ACCIDENTE',\n",
       "       'NUM_PERSONAS', 'TIPO_ACCIDENTE', 'TIPO_VEHICULO', 'TIPO_PERSONA',\n",
       "       'SEXO', 'LESIVIDAD', 'TRAMO_EDAD'],\n",
       "      dtype='object')"
      ]
     },
     "execution_count": 194,
     "metadata": {},
     "output_type": "execute_result"
    }
   ],
   "source": [
    "df_from_xls.columns"
   ]
  },
  {
   "cell_type": "code",
   "execution_count": 195,
   "metadata": {},
   "outputs": [],
   "source": [
    "# strip leading and trailing space\n",
    "# no string: df_from_xls['FECHA'] = df_from_xls['FECHA'].str.strip()\n",
    "df_from_xls['RANGO_HORARIO'] = df_from_xls['RANGO_HORARIO'].str.strip()\n",
    "df_from_xls['DIA_SEMANA'] = df_from_xls['DIA_SEMANA'].str.strip()\n",
    "df_from_xls['DISTRITO'] = df_from_xls['DISTRITO'].str.strip()\n",
    "df_from_xls['LUGAR_ACCIDENTE'] = df_from_xls['LUGAR_ACCIDENTE'].str.strip()\n",
    "# no string: df_from_xls['NUM_PERSONAS'] = df_from_xls['NUM_PERSONAS'].str.strip()\n",
    "df_from_xls['TIPO_ACCIDENTE'] = df_from_xls['TIPO_ACCIDENTE'].str.strip()\n",
    "df_from_xls['TIPO_VEHICULO'] = df_from_xls['TIPO_VEHICULO'].str.strip()\n",
    "df_from_xls['TIPO_PERSONA'] = df_from_xls['TIPO_PERSONA'].str.strip()\n",
    "df_from_xls['SEXO'] = df_from_xls['SEXO'].str.strip()\n",
    "df_from_xls['LESIVIDAD'] = df_from_xls['LESIVIDAD'].str.strip()\n",
    "df_from_xls['TRAMO_EDAD'] = df_from_xls['TRAMO_EDAD'].str.strip()"
   ]
  },
  {
   "cell_type": "code",
   "execution_count": 196,
   "metadata": {},
   "outputs": [
    {
     "data": {
      "text/plain": [
       "array(['2010-01-01T00:00:00.000000000', '2010-01-02T00:00:00.000000000',\n",
       "       '2010-01-03T00:00:00.000000000', '2010-01-04T00:00:00.000000000',\n",
       "       '2010-01-05T00:00:00.000000000', '2010-01-06T00:00:00.000000000',\n",
       "       '2010-01-07T00:00:00.000000000', '2010-01-08T00:00:00.000000000',\n",
       "       '2010-01-09T00:00:00.000000000', '2010-01-10T00:00:00.000000000',\n",
       "       '2010-01-11T00:00:00.000000000', '2010-01-12T00:00:00.000000000',\n",
       "       '2010-01-13T00:00:00.000000000', '2010-01-14T00:00:00.000000000',\n",
       "       '2010-01-15T00:00:00.000000000', '2010-01-16T00:00:00.000000000',\n",
       "       '2010-01-17T00:00:00.000000000', '2010-01-18T00:00:00.000000000',\n",
       "       '2010-01-19T00:00:00.000000000', '2010-01-20T00:00:00.000000000',\n",
       "       '2010-01-21T00:00:00.000000000', '2010-01-22T00:00:00.000000000',\n",
       "       '2010-01-23T00:00:00.000000000', '2010-01-24T00:00:00.000000000',\n",
       "       '2010-01-25T00:00:00.000000000', '2010-01-26T00:00:00.000000000',\n",
       "       '2010-01-27T00:00:00.000000000', '2010-01-28T00:00:00.000000000',\n",
       "       '2010-01-29T00:00:00.000000000', '2010-01-30T00:00:00.000000000',\n",
       "       '2010-01-31T00:00:00.000000000', '2010-02-01T00:00:00.000000000',\n",
       "       '2010-02-02T00:00:00.000000000', '2010-02-03T00:00:00.000000000',\n",
       "       '2010-02-04T00:00:00.000000000', '2010-02-05T00:00:00.000000000',\n",
       "       '2010-02-06T00:00:00.000000000', '2010-02-07T00:00:00.000000000',\n",
       "       '2010-02-08T00:00:00.000000000', '2010-02-09T00:00:00.000000000',\n",
       "       '2010-02-10T00:00:00.000000000', '2010-02-11T00:00:00.000000000',\n",
       "       '2010-02-12T00:00:00.000000000', '2010-02-13T00:00:00.000000000',\n",
       "       '2010-02-14T00:00:00.000000000', '2010-02-15T00:00:00.000000000',\n",
       "       '2010-02-16T00:00:00.000000000', '2010-02-17T00:00:00.000000000',\n",
       "       '2010-02-18T00:00:00.000000000', '2010-02-19T00:00:00.000000000',\n",
       "       '2010-02-20T00:00:00.000000000', '2010-02-21T00:00:00.000000000',\n",
       "       '2010-02-22T00:00:00.000000000', '2010-02-23T00:00:00.000000000',\n",
       "       '2010-02-24T00:00:00.000000000', '2010-02-25T00:00:00.000000000',\n",
       "       '2010-02-26T00:00:00.000000000', '2010-02-27T00:00:00.000000000',\n",
       "       '2010-02-28T00:00:00.000000000', '2010-03-01T00:00:00.000000000',\n",
       "       '2010-03-02T00:00:00.000000000', '2010-03-03T00:00:00.000000000',\n",
       "       '2010-03-04T00:00:00.000000000', '2010-03-05T00:00:00.000000000',\n",
       "       '2010-03-06T00:00:00.000000000', '2010-03-07T00:00:00.000000000',\n",
       "       '2010-03-08T00:00:00.000000000', '2010-03-09T00:00:00.000000000',\n",
       "       '2010-03-10T00:00:00.000000000', '2010-03-11T00:00:00.000000000',\n",
       "       '2010-03-12T00:00:00.000000000', '2010-03-13T00:00:00.000000000',\n",
       "       '2010-03-14T00:00:00.000000000', '2010-03-15T00:00:00.000000000',\n",
       "       '2010-03-16T00:00:00.000000000', '2010-03-17T00:00:00.000000000',\n",
       "       '2010-03-18T00:00:00.000000000', '2010-03-19T00:00:00.000000000',\n",
       "       '2010-03-20T00:00:00.000000000', '2010-03-21T00:00:00.000000000',\n",
       "       '2010-03-22T00:00:00.000000000', '2010-03-23T00:00:00.000000000',\n",
       "       '2010-03-24T00:00:00.000000000', '2010-03-25T00:00:00.000000000',\n",
       "       '2010-03-26T00:00:00.000000000', '2010-03-27T00:00:00.000000000',\n",
       "       '2010-03-28T00:00:00.000000000', '2010-03-29T00:00:00.000000000',\n",
       "       '2010-03-30T00:00:00.000000000', '2010-03-31T00:00:00.000000000',\n",
       "       '2010-04-01T00:00:00.000000000', '2010-04-02T00:00:00.000000000',\n",
       "       '2010-04-03T00:00:00.000000000', '2010-04-04T00:00:00.000000000',\n",
       "       '2010-04-05T00:00:00.000000000', '2010-04-06T00:00:00.000000000',\n",
       "       '2010-04-07T00:00:00.000000000', '2010-04-08T00:00:00.000000000',\n",
       "       '2010-04-09T00:00:00.000000000', '2010-04-10T00:00:00.000000000',\n",
       "       '2010-04-11T00:00:00.000000000', '2010-04-12T00:00:00.000000000',\n",
       "       '2010-04-13T00:00:00.000000000', '2010-04-14T00:00:00.000000000',\n",
       "       '2010-04-15T00:00:00.000000000', '2010-04-16T00:00:00.000000000',\n",
       "       '2010-04-17T00:00:00.000000000', '2010-04-18T00:00:00.000000000',\n",
       "       '2010-04-19T00:00:00.000000000', '2010-04-20T00:00:00.000000000',\n",
       "       '2010-04-21T00:00:00.000000000', '2010-04-22T00:00:00.000000000',\n",
       "       '2010-04-23T00:00:00.000000000', '2010-04-24T00:00:00.000000000',\n",
       "       '2010-04-25T00:00:00.000000000', '2010-04-26T00:00:00.000000000',\n",
       "       '2010-04-27T00:00:00.000000000', '2010-04-28T00:00:00.000000000',\n",
       "       '2010-04-29T00:00:00.000000000', '2010-04-30T00:00:00.000000000',\n",
       "       '2010-05-01T00:00:00.000000000', '2010-05-02T00:00:00.000000000',\n",
       "       '2010-05-03T00:00:00.000000000', '2010-05-04T00:00:00.000000000',\n",
       "       '2010-05-05T00:00:00.000000000', '2010-05-06T00:00:00.000000000',\n",
       "       '2010-05-07T00:00:00.000000000', '2010-05-08T00:00:00.000000000',\n",
       "       '2010-05-09T00:00:00.000000000', '2010-05-10T00:00:00.000000000',\n",
       "       '2010-05-11T00:00:00.000000000', '2010-05-12T00:00:00.000000000',\n",
       "       '2010-05-13T00:00:00.000000000', '2010-05-14T00:00:00.000000000',\n",
       "       '2010-05-15T00:00:00.000000000', '2010-05-16T00:00:00.000000000',\n",
       "       '2010-05-17T00:00:00.000000000', '2010-05-18T00:00:00.000000000',\n",
       "       '2010-05-19T00:00:00.000000000', '2010-05-20T00:00:00.000000000',\n",
       "       '2010-05-21T00:00:00.000000000', '2010-05-22T00:00:00.000000000',\n",
       "       '2010-05-23T00:00:00.000000000', '2010-05-24T00:00:00.000000000',\n",
       "       '2010-05-25T00:00:00.000000000', '2010-05-26T00:00:00.000000000',\n",
       "       '2010-05-27T00:00:00.000000000', '2010-05-28T00:00:00.000000000',\n",
       "       '2010-05-29T00:00:00.000000000', '2010-05-30T00:00:00.000000000',\n",
       "       '2010-05-31T00:00:00.000000000', '2010-06-01T00:00:00.000000000',\n",
       "       '2010-06-02T00:00:00.000000000', '2010-06-03T00:00:00.000000000',\n",
       "       '2010-06-04T00:00:00.000000000', '2010-06-05T00:00:00.000000000',\n",
       "       '2010-06-06T00:00:00.000000000', '2010-06-07T00:00:00.000000000',\n",
       "       '2010-06-08T00:00:00.000000000', '2010-06-09T00:00:00.000000000',\n",
       "       '2010-06-10T00:00:00.000000000', '2010-06-11T00:00:00.000000000',\n",
       "       '2010-06-12T00:00:00.000000000', '2010-06-13T00:00:00.000000000',\n",
       "       '2010-06-14T00:00:00.000000000', '2010-06-15T00:00:00.000000000',\n",
       "       '2010-06-16T00:00:00.000000000', '2010-06-17T00:00:00.000000000',\n",
       "       '2010-06-18T00:00:00.000000000', '2010-06-19T00:00:00.000000000',\n",
       "       '2010-06-20T00:00:00.000000000', '2010-06-21T00:00:00.000000000',\n",
       "       '2010-06-22T00:00:00.000000000', '2010-06-23T00:00:00.000000000',\n",
       "       '2010-06-24T00:00:00.000000000', '2010-06-25T00:00:00.000000000',\n",
       "       '2010-06-26T00:00:00.000000000', '2010-06-27T00:00:00.000000000',\n",
       "       '2010-06-28T00:00:00.000000000', '2010-06-29T00:00:00.000000000',\n",
       "       '2010-06-30T00:00:00.000000000', '2010-07-01T00:00:00.000000000',\n",
       "       '2010-07-02T00:00:00.000000000', '2010-07-03T00:00:00.000000000',\n",
       "       '2010-07-04T00:00:00.000000000', '2010-07-05T00:00:00.000000000',\n",
       "       '2010-07-06T00:00:00.000000000', '2010-07-07T00:00:00.000000000',\n",
       "       '2010-07-08T00:00:00.000000000', '2010-07-09T00:00:00.000000000',\n",
       "       '2010-07-10T00:00:00.000000000', '2010-07-11T00:00:00.000000000',\n",
       "       '2010-07-12T00:00:00.000000000', '2010-07-13T00:00:00.000000000',\n",
       "       '2010-07-14T00:00:00.000000000', '2010-07-15T00:00:00.000000000',\n",
       "       '2010-07-16T00:00:00.000000000', '2010-07-17T00:00:00.000000000',\n",
       "       '2010-07-18T00:00:00.000000000', '2010-07-19T00:00:00.000000000',\n",
       "       '2010-07-20T00:00:00.000000000', '2010-07-21T00:00:00.000000000',\n",
       "       '2010-07-22T00:00:00.000000000', '2010-07-23T00:00:00.000000000',\n",
       "       '2010-07-24T00:00:00.000000000', '2010-07-25T00:00:00.000000000',\n",
       "       '2010-07-26T00:00:00.000000000', '2010-07-27T00:00:00.000000000',\n",
       "       '2010-07-28T00:00:00.000000000', '2010-07-29T00:00:00.000000000',\n",
       "       '2010-07-30T00:00:00.000000000', '2010-07-31T00:00:00.000000000',\n",
       "       '2010-08-01T00:00:00.000000000', '2010-08-02T00:00:00.000000000',\n",
       "       '2010-08-03T00:00:00.000000000', '2010-08-04T00:00:00.000000000',\n",
       "       '2010-08-05T00:00:00.000000000', '2010-08-06T00:00:00.000000000',\n",
       "       '2010-08-07T00:00:00.000000000', '2010-08-08T00:00:00.000000000',\n",
       "       '2010-08-09T00:00:00.000000000', '2010-08-10T00:00:00.000000000',\n",
       "       '2010-08-11T00:00:00.000000000', '2010-08-12T00:00:00.000000000',\n",
       "       '2010-08-13T00:00:00.000000000', '2010-08-14T00:00:00.000000000',\n",
       "       '2010-08-15T00:00:00.000000000', '2010-08-16T00:00:00.000000000',\n",
       "       '2010-08-17T00:00:00.000000000', '2010-08-18T00:00:00.000000000',\n",
       "       '2010-08-19T00:00:00.000000000', '2010-08-20T00:00:00.000000000',\n",
       "       '2010-08-21T00:00:00.000000000', '2010-08-22T00:00:00.000000000',\n",
       "       '2010-08-23T00:00:00.000000000', '2010-08-24T00:00:00.000000000',\n",
       "       '2010-08-25T00:00:00.000000000', '2010-08-26T00:00:00.000000000',\n",
       "       '2010-08-27T00:00:00.000000000', '2010-08-28T00:00:00.000000000',\n",
       "       '2010-08-29T00:00:00.000000000', '2010-08-30T00:00:00.000000000',\n",
       "       '2010-08-31T00:00:00.000000000', '2010-09-01T00:00:00.000000000',\n",
       "       '2010-09-02T00:00:00.000000000', '2010-09-03T00:00:00.000000000',\n",
       "       '2010-09-04T00:00:00.000000000', '2010-09-05T00:00:00.000000000',\n",
       "       '2010-09-06T00:00:00.000000000', '2010-09-07T00:00:00.000000000',\n",
       "       '2010-09-08T00:00:00.000000000', '2010-09-09T00:00:00.000000000',\n",
       "       '2010-09-10T00:00:00.000000000', '2010-09-11T00:00:00.000000000',\n",
       "       '2010-09-12T00:00:00.000000000', '2010-09-13T00:00:00.000000000',\n",
       "       '2010-09-14T00:00:00.000000000', '2010-09-15T00:00:00.000000000',\n",
       "       '2010-09-16T00:00:00.000000000', '2010-09-17T00:00:00.000000000',\n",
       "       '2010-09-18T00:00:00.000000000', '2010-09-19T00:00:00.000000000',\n",
       "       '2010-09-20T00:00:00.000000000', '2010-09-21T00:00:00.000000000',\n",
       "       '2010-09-22T00:00:00.000000000', '2010-09-23T00:00:00.000000000',\n",
       "       '2010-09-24T00:00:00.000000000', '2010-09-25T00:00:00.000000000',\n",
       "       '2010-09-26T00:00:00.000000000', '2010-09-27T00:00:00.000000000',\n",
       "       '2010-09-28T00:00:00.000000000', '2010-09-29T00:00:00.000000000',\n",
       "       '2010-09-30T00:00:00.000000000', '2010-10-01T00:00:00.000000000',\n",
       "       '2010-10-02T00:00:00.000000000', '2010-10-03T00:00:00.000000000',\n",
       "       '2010-10-04T00:00:00.000000000', '2010-10-05T00:00:00.000000000',\n",
       "       '2010-10-06T00:00:00.000000000', '2010-10-07T00:00:00.000000000',\n",
       "       '2010-10-08T00:00:00.000000000', '2010-10-09T00:00:00.000000000',\n",
       "       '2010-10-10T00:00:00.000000000', '2010-10-11T00:00:00.000000000',\n",
       "       '2010-10-12T00:00:00.000000000', '2010-10-13T00:00:00.000000000',\n",
       "       '2010-10-14T00:00:00.000000000', '2010-10-15T00:00:00.000000000',\n",
       "       '2010-10-16T00:00:00.000000000', '2010-10-17T00:00:00.000000000',\n",
       "       '2010-10-18T00:00:00.000000000', '2010-10-19T00:00:00.000000000',\n",
       "       '2010-10-20T00:00:00.000000000', '2010-10-21T00:00:00.000000000',\n",
       "       '2010-10-22T00:00:00.000000000', '2010-10-23T00:00:00.000000000',\n",
       "       '2010-10-24T00:00:00.000000000', '2010-10-25T00:00:00.000000000',\n",
       "       '2010-10-26T00:00:00.000000000', '2010-10-27T00:00:00.000000000',\n",
       "       '2010-10-28T00:00:00.000000000', '2010-10-29T00:00:00.000000000',\n",
       "       '2010-10-30T00:00:00.000000000', '2010-10-31T00:00:00.000000000',\n",
       "       '2010-11-01T00:00:00.000000000', '2010-11-02T00:00:00.000000000',\n",
       "       '2010-11-03T00:00:00.000000000', '2010-11-04T00:00:00.000000000',\n",
       "       '2010-11-05T00:00:00.000000000', '2010-11-06T00:00:00.000000000',\n",
       "       '2010-11-07T00:00:00.000000000', '2010-11-08T00:00:00.000000000',\n",
       "       '2010-11-09T00:00:00.000000000', '2010-11-10T00:00:00.000000000',\n",
       "       '2010-11-11T00:00:00.000000000', '2010-11-12T00:00:00.000000000',\n",
       "       '2010-11-13T00:00:00.000000000', '2010-11-14T00:00:00.000000000',\n",
       "       '2010-11-15T00:00:00.000000000', '2010-11-16T00:00:00.000000000',\n",
       "       '2010-11-17T00:00:00.000000000', '2010-11-18T00:00:00.000000000',\n",
       "       '2010-11-19T00:00:00.000000000', '2010-11-20T00:00:00.000000000',\n",
       "       '2010-11-21T00:00:00.000000000', '2010-11-22T00:00:00.000000000',\n",
       "       '2010-11-23T00:00:00.000000000', '2010-11-24T00:00:00.000000000',\n",
       "       '2010-11-25T00:00:00.000000000', '2010-11-26T00:00:00.000000000',\n",
       "       '2010-11-27T00:00:00.000000000', '2010-11-28T00:00:00.000000000',\n",
       "       '2010-11-29T00:00:00.000000000', '2010-11-30T00:00:00.000000000',\n",
       "       '2010-12-01T00:00:00.000000000', '2010-12-02T00:00:00.000000000',\n",
       "       '2010-12-03T00:00:00.000000000', '2010-12-04T00:00:00.000000000',\n",
       "       '2010-12-05T00:00:00.000000000', '2010-12-06T00:00:00.000000000',\n",
       "       '2010-12-07T00:00:00.000000000', '2010-12-08T00:00:00.000000000',\n",
       "       '2010-12-09T00:00:00.000000000', '2010-12-10T00:00:00.000000000',\n",
       "       '2010-12-11T00:00:00.000000000', '2010-12-12T00:00:00.000000000',\n",
       "       '2010-12-13T00:00:00.000000000', '2010-12-14T00:00:00.000000000',\n",
       "       '2010-12-15T00:00:00.000000000', '2010-12-16T00:00:00.000000000',\n",
       "       '2010-12-17T00:00:00.000000000', '2010-12-18T00:00:00.000000000',\n",
       "       '2010-12-19T00:00:00.000000000', '2010-12-20T00:00:00.000000000',\n",
       "       '2010-12-21T00:00:00.000000000', '2010-12-22T00:00:00.000000000',\n",
       "       '2010-12-23T00:00:00.000000000', '2010-12-24T00:00:00.000000000',\n",
       "       '2010-12-25T00:00:00.000000000', '2010-12-26T00:00:00.000000000',\n",
       "       '2010-12-27T00:00:00.000000000', '2010-12-28T00:00:00.000000000',\n",
       "       '2010-12-29T00:00:00.000000000', '2010-12-30T00:00:00.000000000',\n",
       "       '2010-12-31T00:00:00.000000000'], dtype='datetime64[ns]')"
      ]
     },
     "execution_count": 196,
     "metadata": {},
     "output_type": "execute_result"
    }
   ],
   "source": [
    "df_from_xls[\"FECHA\"].unique()"
   ]
  },
  {
   "cell_type": "code",
   "execution_count": 197,
   "metadata": {},
   "outputs": [
    {
     "data": {
      "text/plain": [
       "array(['DE 00:00 A 00:59', 'DE 1:00 A 1:59', 'DE 2:00 A 2:59',\n",
       "       'DE 4:00 A 4:59', 'DE 5:00 A 5:59', 'DE 8:00 A 8:59',\n",
       "       'DE 9:00 A 9:59', 'DE 20:00 A 20:59', 'DE 21:00 A 21:59',\n",
       "       'DE 6:00 A 6:59', 'DE 11:00 A 11:59', 'DE 12:00 A 12:59',\n",
       "       'DE 13:00 A 13:59', 'DE 14:00 A 14:59', 'DE 15:00 A 15:59',\n",
       "       'DE 18:00 A 18:59', 'DE 19:00 A 19:59', 'DE 22:00 A 22:59',\n",
       "       'DE 16:00 A 16:59', 'DE 17:00 A 17:59', 'DE 23:00 A 23:59',\n",
       "       'DE 7:00 A 7:59', 'DE 10:00 A 10:59', 'DE 3:00 A 3:59'],\n",
       "      dtype=object)"
      ]
     },
     "execution_count": 197,
     "metadata": {},
     "output_type": "execute_result"
    }
   ],
   "source": [
    "df_from_xls[\"RANGO_HORARIO\"].unique()"
   ]
  },
  {
   "cell_type": "code",
   "execution_count": 198,
   "metadata": {},
   "outputs": [
    {
     "data": {
      "text/plain": [
       "array(['VIERNES', 'SABADO', 'DOMINGO', 'LUNES', 'MARTES', 'MIERCOLES',\n",
       "       'JUEVES'], dtype=object)"
      ]
     },
     "execution_count": 198,
     "metadata": {},
     "output_type": "execute_result"
    }
   ],
   "source": [
    "df_from_xls[\"DIA_SEMANA\"].unique()"
   ]
  },
  {
   "cell_type": "code",
   "execution_count": 199,
   "metadata": {},
   "outputs": [
    {
     "data": {
      "text/plain": [
       "array(['CHAMARTIN', 'PUENTE DE VALLECAS', 'CHAMBERI', 'RETIRO',\n",
       "       'SALAMANCA', 'CARABANCHEL', 'CIUDAD LINEAL', 'MONCLOA-ARAVACA',\n",
       "       'TETUAN', 'VILLA DE VALLECAS', 'MORATALAZ', 'ARGANZUELA',\n",
       "       'SAN BLAS', 'VILLAVERDE', 'HORTALEZA', 'FUENCARRAL-EL PARDO',\n",
       "       'VICALVARO', 'USERA', 'LATINA', 'BARAJAS', 'CENTRO'], dtype=object)"
      ]
     },
     "execution_count": 199,
     "metadata": {},
     "output_type": "execute_result"
    }
   ],
   "source": [
    "df_from_xls[\"DISTRITO\"].unique()"
   ]
  },
  {
   "cell_type": "code",
   "execution_count": 200,
   "metadata": {},
   "outputs": [
    {
     "data": {
      "text/plain": [
       "array([ 1,  7,  2,  3,  4,  5,  9,  6,  8, 18, 13])"
      ]
     },
     "execution_count": 200,
     "metadata": {},
     "output_type": "execute_result"
    }
   ],
   "source": [
    "df_from_xls[\"NUM_PERSONAS\"].unique()"
   ]
  },
  {
   "cell_type": "code",
   "execution_count": 201,
   "metadata": {},
   "outputs": [
    {
     "data": {
      "text/plain": [
       "array(['COLISIÓN DOBLE', 'COLISIÓN MÚLTIPLE', 'CHOQUE CON OBJETO FIJO',\n",
       "       'CAÍDA MOTOCICLETA', 'ATROPELLO', 'VUELCO', 'CAÍDA CICLOMOTOR',\n",
       "       'CAÍDA VIAJERO BUS', 'OTRAS CAUSAS', 'CAÍDA BICICLETA'],\n",
       "      dtype=object)"
      ]
     },
     "execution_count": 201,
     "metadata": {},
     "output_type": "execute_result"
    }
   ],
   "source": [
    "df_from_xls[\"TIPO_ACCIDENTE\"].unique()"
   ]
  },
  {
   "cell_type": "code",
   "execution_count": 202,
   "metadata": {},
   "outputs": [
    {
     "data": {
      "text/plain": [
       "array(['TURISMO', 'NO ASIGNADO', 'FURGONETA', 'MOTOCICLETA', 'AUTO-TAXI',\n",
       "       'VARIOS', 'CAMION', 'CICLOMOTOR', 'AUTOBUS-AUTOCAR', 'BICICLETA',\n",
       "       'AMBULANCIA'], dtype=object)"
      ]
     },
     "execution_count": 202,
     "metadata": {},
     "output_type": "execute_result"
    }
   ],
   "source": [
    "df_from_xls[\"TIPO_VEHICULO\"].unique()"
   ]
  },
  {
   "cell_type": "code",
   "execution_count": 203,
   "metadata": {},
   "outputs": [
    {
     "data": {
      "text/plain": [
       "array(['CONDUCTOR', 'VIAJERO', 'TESTIGO', 'PEATON'], dtype=object)"
      ]
     },
     "execution_count": 203,
     "metadata": {},
     "output_type": "execute_result"
    }
   ],
   "source": [
    "df_from_xls[\"TIPO_PERSONA\"].unique()"
   ]
  },
  {
   "cell_type": "code",
   "execution_count": 204,
   "metadata": {},
   "outputs": [
    {
     "data": {
      "text/plain": [
       "array(['HOMBRE', 'MUJER', 'NO ASIGNADO'], dtype=object)"
      ]
     },
     "execution_count": 204,
     "metadata": {},
     "output_type": "execute_result"
    }
   ],
   "source": [
    "df_from_xls[\"SEXO\"].unique()"
   ]
  },
  {
   "cell_type": "code",
   "execution_count": 205,
   "metadata": {},
   "outputs": [
    {
     "data": {
      "text/plain": [
       "array(['IL', 'HL', 'HG', 'NO ASIGNADA', 'MT'], dtype=object)"
      ]
     },
     "execution_count": 205,
     "metadata": {},
     "output_type": "execute_result"
    }
   ],
   "source": [
    "df_from_xls[\"LESIVIDAD\"].unique()"
   ]
  },
  {
   "cell_type": "code",
   "execution_count": 206,
   "metadata": {},
   "outputs": [
    {
     "data": {
      "text/plain": [
       "array(['DE 18 A 20 AÑOS', 'DE 50 A 54 AÑOS', 'DE 40 A 44 AÑOS',\n",
       "       'DE 25 A 29 AÑOS', 'DE 30 A 34 ANOS', 'DE 21 A 24 AÑOS',\n",
       "       'DE 35 A 39 AÑOS', 'DE 60 A 64 AÑOS', 'DE 45 A 49 AÑOS',\n",
       "       'DE 0 A 5 AÑOS', 'DESCONOCIDA', 'DE 70 A 74 AÑOS',\n",
       "       'DE MAS DE 74 AÑOS', 'DE 10 A 14 AÑOS', 'DE 6 A 9 AÑOS',\n",
       "       'DE 55 A 59 AÑOS', 'DE 65 A 69 AÑOS', 'DE 15 A 17 AÑOS'],\n",
       "      dtype=object)"
      ]
     },
     "execution_count": 206,
     "metadata": {},
     "output_type": "execute_result"
    }
   ],
   "source": [
    "df_from_xls[\"TRAMO_EDAD\"].unique()"
   ]
  },
  {
   "cell_type": "code",
   "execution_count": 207,
   "metadata": {},
   "outputs": [],
   "source": [
    "df_from_xls['BORRAR'], df_from_xls['RESTO_RANGO_HORARIO'] = df_from_xls['RANGO_HORARIO'].str.split(' ', 1).str "
   ]
  },
  {
   "cell_type": "code",
   "execution_count": 208,
   "metadata": {},
   "outputs": [
    {
     "data": {
      "text/plain": [
       "Index(['FECHA', 'RANGO_HORARIO', 'DIA_SEMANA', 'DISTRITO', 'LUGAR_ACCIDENTE',\n",
       "       'NUM_PERSONAS', 'TIPO_ACCIDENTE', 'TIPO_VEHICULO', 'TIPO_PERSONA',\n",
       "       'SEXO', 'LESIVIDAD', 'TRAMO_EDAD', 'BORRAR', 'RESTO_RANGO_HORARIO'],\n",
       "      dtype='object')"
      ]
     },
     "execution_count": 208,
     "metadata": {},
     "output_type": "execute_result"
    }
   ],
   "source": [
    "df_from_xls.columns"
   ]
  },
  {
   "cell_type": "code",
   "execution_count": 209,
   "metadata": {},
   "outputs": [
    {
     "data": {
      "text/html": [
       "<div>\n",
       "<style scoped>\n",
       "    .dataframe tbody tr th:only-of-type {\n",
       "        vertical-align: middle;\n",
       "    }\n",
       "\n",
       "    .dataframe tbody tr th {\n",
       "        vertical-align: top;\n",
       "    }\n",
       "\n",
       "    .dataframe thead th {\n",
       "        text-align: right;\n",
       "    }\n",
       "</style>\n",
       "<table border=\"1\" class=\"dataframe\">\n",
       "  <thead>\n",
       "    <tr style=\"text-align: right;\">\n",
       "      <th></th>\n",
       "      <th>FECHA</th>\n",
       "      <th>RANGO_HORARIO</th>\n",
       "      <th>DIA_SEMANA</th>\n",
       "      <th>DISTRITO</th>\n",
       "      <th>LUGAR_ACCIDENTE</th>\n",
       "      <th>NUM_PERSONAS</th>\n",
       "      <th>TIPO_ACCIDENTE</th>\n",
       "      <th>TIPO_VEHICULO</th>\n",
       "      <th>TIPO_PERSONA</th>\n",
       "      <th>SEXO</th>\n",
       "      <th>LESIVIDAD</th>\n",
       "      <th>TRAMO_EDAD</th>\n",
       "      <th>BORRAR</th>\n",
       "      <th>RESTO_RANGO_HORARIO</th>\n",
       "    </tr>\n",
       "  </thead>\n",
       "  <tbody>\n",
       "    <tr>\n",
       "      <th>0</th>\n",
       "      <td>2010-01-01</td>\n",
       "      <td>DE 00:00 A 00:59</td>\n",
       "      <td>VIERNES</td>\n",
       "      <td>CHAMARTIN</td>\n",
       "      <td>CALLE DE CARTAGENA NUM</td>\n",
       "      <td>1</td>\n",
       "      <td>COLISIÓN DOBLE</td>\n",
       "      <td>TURISMO</td>\n",
       "      <td>CONDUCTOR</td>\n",
       "      <td>HOMBRE</td>\n",
       "      <td>IL</td>\n",
       "      <td>DE 18 A 20 AÑOS</td>\n",
       "      <td>DE</td>\n",
       "      <td>00:00 A 00:59</td>\n",
       "    </tr>\n",
       "    <tr>\n",
       "      <th>1</th>\n",
       "      <td>2010-01-01</td>\n",
       "      <td>DE 00:00 A 00:59</td>\n",
       "      <td>VIERNES</td>\n",
       "      <td>CHAMARTIN</td>\n",
       "      <td>CALLE DE CARTAGENA NUM</td>\n",
       "      <td>1</td>\n",
       "      <td>COLISIÓN DOBLE</td>\n",
       "      <td>TURISMO</td>\n",
       "      <td>CONDUCTOR</td>\n",
       "      <td>HOMBRE</td>\n",
       "      <td>IL</td>\n",
       "      <td>DE 50 A 54 AÑOS</td>\n",
       "      <td>DE</td>\n",
       "      <td>00:00 A 00:59</td>\n",
       "    </tr>\n",
       "    <tr>\n",
       "      <th>2</th>\n",
       "      <td>2010-01-01</td>\n",
       "      <td>DE 00:00 A 00:59</td>\n",
       "      <td>VIERNES</td>\n",
       "      <td>CHAMARTIN</td>\n",
       "      <td>CALLE DE CARTAGENA NUM</td>\n",
       "      <td>1</td>\n",
       "      <td>COLISIÓN DOBLE</td>\n",
       "      <td>TURISMO</td>\n",
       "      <td>VIAJERO</td>\n",
       "      <td>MUJER</td>\n",
       "      <td>HL</td>\n",
       "      <td>DE 40 A 44 AÑOS</td>\n",
       "      <td>DE</td>\n",
       "      <td>00:00 A 00:59</td>\n",
       "    </tr>\n",
       "    <tr>\n",
       "      <th>3</th>\n",
       "      <td>2010-01-01</td>\n",
       "      <td>DE 1:00 A 1:59</td>\n",
       "      <td>VIERNES</td>\n",
       "      <td>PUENTE DE VALLECAS</td>\n",
       "      <td>AUTOVIA  M-30 CALZADA 2 KM.</td>\n",
       "      <td>7</td>\n",
       "      <td>COLISIÓN MÚLTIPLE</td>\n",
       "      <td>NO ASIGNADO</td>\n",
       "      <td>VIAJERO</td>\n",
       "      <td>MUJER</td>\n",
       "      <td>HL</td>\n",
       "      <td>DE 25 A 29 AÑOS</td>\n",
       "      <td>DE</td>\n",
       "      <td>1:00 A 1:59</td>\n",
       "    </tr>\n",
       "    <tr>\n",
       "      <th>4</th>\n",
       "      <td>2010-01-01</td>\n",
       "      <td>DE 1:00 A 1:59</td>\n",
       "      <td>VIERNES</td>\n",
       "      <td>PUENTE DE VALLECAS</td>\n",
       "      <td>AUTOVIA  M-30 CALZADA 2 KM.</td>\n",
       "      <td>7</td>\n",
       "      <td>COLISIÓN MÚLTIPLE</td>\n",
       "      <td>NO ASIGNADO</td>\n",
       "      <td>VIAJERO</td>\n",
       "      <td>MUJER</td>\n",
       "      <td>HL</td>\n",
       "      <td>DE 30 A 34 ANOS</td>\n",
       "      <td>DE</td>\n",
       "      <td>1:00 A 1:59</td>\n",
       "    </tr>\n",
       "  </tbody>\n",
       "</table>\n",
       "</div>"
      ],
      "text/plain": [
       "       FECHA     RANGO_HORARIO DIA_SEMANA            DISTRITO  \\\n",
       "0 2010-01-01  DE 00:00 A 00:59    VIERNES           CHAMARTIN   \n",
       "1 2010-01-01  DE 00:00 A 00:59    VIERNES           CHAMARTIN   \n",
       "2 2010-01-01  DE 00:00 A 00:59    VIERNES           CHAMARTIN   \n",
       "3 2010-01-01    DE 1:00 A 1:59    VIERNES  PUENTE DE VALLECAS   \n",
       "4 2010-01-01    DE 1:00 A 1:59    VIERNES  PUENTE DE VALLECAS   \n",
       "\n",
       "               LUGAR_ACCIDENTE  NUM_PERSONAS     TIPO_ACCIDENTE TIPO_VEHICULO  \\\n",
       "0       CALLE DE CARTAGENA NUM             1     COLISIÓN DOBLE       TURISMO   \n",
       "1       CALLE DE CARTAGENA NUM             1     COLISIÓN DOBLE       TURISMO   \n",
       "2       CALLE DE CARTAGENA NUM             1     COLISIÓN DOBLE       TURISMO   \n",
       "3  AUTOVIA  M-30 CALZADA 2 KM.             7  COLISIÓN MÚLTIPLE   NO ASIGNADO   \n",
       "4  AUTOVIA  M-30 CALZADA 2 KM.             7  COLISIÓN MÚLTIPLE   NO ASIGNADO   \n",
       "\n",
       "  TIPO_PERSONA    SEXO LESIVIDAD       TRAMO_EDAD BORRAR RESTO_RANGO_HORARIO  \n",
       "0    CONDUCTOR  HOMBRE        IL  DE 18 A 20 AÑOS     DE       00:00 A 00:59  \n",
       "1    CONDUCTOR  HOMBRE        IL  DE 50 A 54 AÑOS     DE       00:00 A 00:59  \n",
       "2      VIAJERO   MUJER        HL  DE 40 A 44 AÑOS     DE       00:00 A 00:59  \n",
       "3      VIAJERO   MUJER        HL  DE 25 A 29 AÑOS     DE         1:00 A 1:59  \n",
       "4      VIAJERO   MUJER        HL  DE 30 A 34 ANOS     DE         1:00 A 1:59  "
      ]
     },
     "execution_count": 209,
     "metadata": {},
     "output_type": "execute_result"
    }
   ],
   "source": [
    "df_from_xls.head()"
   ]
  },
  {
   "cell_type": "code",
   "execution_count": 210,
   "metadata": {},
   "outputs": [],
   "source": [
    "# borrar columnas sobrantes:\n",
    "del df_from_xls['BORRAR']"
   ]
  },
  {
   "cell_type": "code",
   "execution_count": 211,
   "metadata": {},
   "outputs": [
    {
     "data": {
      "text/html": [
       "<div>\n",
       "<style scoped>\n",
       "    .dataframe tbody tr th:only-of-type {\n",
       "        vertical-align: middle;\n",
       "    }\n",
       "\n",
       "    .dataframe tbody tr th {\n",
       "        vertical-align: top;\n",
       "    }\n",
       "\n",
       "    .dataframe thead th {\n",
       "        text-align: right;\n",
       "    }\n",
       "</style>\n",
       "<table border=\"1\" class=\"dataframe\">\n",
       "  <thead>\n",
       "    <tr style=\"text-align: right;\">\n",
       "      <th></th>\n",
       "      <th>FECHA</th>\n",
       "      <th>RANGO_HORARIO</th>\n",
       "      <th>DIA_SEMANA</th>\n",
       "      <th>DISTRITO</th>\n",
       "      <th>LUGAR_ACCIDENTE</th>\n",
       "      <th>NUM_PERSONAS</th>\n",
       "      <th>TIPO_ACCIDENTE</th>\n",
       "      <th>TIPO_VEHICULO</th>\n",
       "      <th>TIPO_PERSONA</th>\n",
       "      <th>SEXO</th>\n",
       "      <th>LESIVIDAD</th>\n",
       "      <th>TRAMO_EDAD</th>\n",
       "      <th>RESTO_RANGO_HORARIO</th>\n",
       "    </tr>\n",
       "  </thead>\n",
       "  <tbody>\n",
       "    <tr>\n",
       "      <th>0</th>\n",
       "      <td>2010-01-01</td>\n",
       "      <td>DE 00:00 A 00:59</td>\n",
       "      <td>VIERNES</td>\n",
       "      <td>CHAMARTIN</td>\n",
       "      <td>CALLE DE CARTAGENA NUM</td>\n",
       "      <td>1</td>\n",
       "      <td>COLISIÓN DOBLE</td>\n",
       "      <td>TURISMO</td>\n",
       "      <td>CONDUCTOR</td>\n",
       "      <td>HOMBRE</td>\n",
       "      <td>IL</td>\n",
       "      <td>DE 18 A 20 AÑOS</td>\n",
       "      <td>00:00 A 00:59</td>\n",
       "    </tr>\n",
       "    <tr>\n",
       "      <th>1</th>\n",
       "      <td>2010-01-01</td>\n",
       "      <td>DE 00:00 A 00:59</td>\n",
       "      <td>VIERNES</td>\n",
       "      <td>CHAMARTIN</td>\n",
       "      <td>CALLE DE CARTAGENA NUM</td>\n",
       "      <td>1</td>\n",
       "      <td>COLISIÓN DOBLE</td>\n",
       "      <td>TURISMO</td>\n",
       "      <td>CONDUCTOR</td>\n",
       "      <td>HOMBRE</td>\n",
       "      <td>IL</td>\n",
       "      <td>DE 50 A 54 AÑOS</td>\n",
       "      <td>00:00 A 00:59</td>\n",
       "    </tr>\n",
       "    <tr>\n",
       "      <th>2</th>\n",
       "      <td>2010-01-01</td>\n",
       "      <td>DE 00:00 A 00:59</td>\n",
       "      <td>VIERNES</td>\n",
       "      <td>CHAMARTIN</td>\n",
       "      <td>CALLE DE CARTAGENA NUM</td>\n",
       "      <td>1</td>\n",
       "      <td>COLISIÓN DOBLE</td>\n",
       "      <td>TURISMO</td>\n",
       "      <td>VIAJERO</td>\n",
       "      <td>MUJER</td>\n",
       "      <td>HL</td>\n",
       "      <td>DE 40 A 44 AÑOS</td>\n",
       "      <td>00:00 A 00:59</td>\n",
       "    </tr>\n",
       "    <tr>\n",
       "      <th>3</th>\n",
       "      <td>2010-01-01</td>\n",
       "      <td>DE 1:00 A 1:59</td>\n",
       "      <td>VIERNES</td>\n",
       "      <td>PUENTE DE VALLECAS</td>\n",
       "      <td>AUTOVIA  M-30 CALZADA 2 KM.</td>\n",
       "      <td>7</td>\n",
       "      <td>COLISIÓN MÚLTIPLE</td>\n",
       "      <td>NO ASIGNADO</td>\n",
       "      <td>VIAJERO</td>\n",
       "      <td>MUJER</td>\n",
       "      <td>HL</td>\n",
       "      <td>DE 25 A 29 AÑOS</td>\n",
       "      <td>1:00 A 1:59</td>\n",
       "    </tr>\n",
       "    <tr>\n",
       "      <th>4</th>\n",
       "      <td>2010-01-01</td>\n",
       "      <td>DE 1:00 A 1:59</td>\n",
       "      <td>VIERNES</td>\n",
       "      <td>PUENTE DE VALLECAS</td>\n",
       "      <td>AUTOVIA  M-30 CALZADA 2 KM.</td>\n",
       "      <td>7</td>\n",
       "      <td>COLISIÓN MÚLTIPLE</td>\n",
       "      <td>NO ASIGNADO</td>\n",
       "      <td>VIAJERO</td>\n",
       "      <td>MUJER</td>\n",
       "      <td>HL</td>\n",
       "      <td>DE 30 A 34 ANOS</td>\n",
       "      <td>1:00 A 1:59</td>\n",
       "    </tr>\n",
       "  </tbody>\n",
       "</table>\n",
       "</div>"
      ],
      "text/plain": [
       "       FECHA     RANGO_HORARIO DIA_SEMANA            DISTRITO  \\\n",
       "0 2010-01-01  DE 00:00 A 00:59    VIERNES           CHAMARTIN   \n",
       "1 2010-01-01  DE 00:00 A 00:59    VIERNES           CHAMARTIN   \n",
       "2 2010-01-01  DE 00:00 A 00:59    VIERNES           CHAMARTIN   \n",
       "3 2010-01-01    DE 1:00 A 1:59    VIERNES  PUENTE DE VALLECAS   \n",
       "4 2010-01-01    DE 1:00 A 1:59    VIERNES  PUENTE DE VALLECAS   \n",
       "\n",
       "               LUGAR_ACCIDENTE  NUM_PERSONAS     TIPO_ACCIDENTE TIPO_VEHICULO  \\\n",
       "0       CALLE DE CARTAGENA NUM             1     COLISIÓN DOBLE       TURISMO   \n",
       "1       CALLE DE CARTAGENA NUM             1     COLISIÓN DOBLE       TURISMO   \n",
       "2       CALLE DE CARTAGENA NUM             1     COLISIÓN DOBLE       TURISMO   \n",
       "3  AUTOVIA  M-30 CALZADA 2 KM.             7  COLISIÓN MÚLTIPLE   NO ASIGNADO   \n",
       "4  AUTOVIA  M-30 CALZADA 2 KM.             7  COLISIÓN MÚLTIPLE   NO ASIGNADO   \n",
       "\n",
       "  TIPO_PERSONA    SEXO LESIVIDAD       TRAMO_EDAD RESTO_RANGO_HORARIO  \n",
       "0    CONDUCTOR  HOMBRE        IL  DE 18 A 20 AÑOS       00:00 A 00:59  \n",
       "1    CONDUCTOR  HOMBRE        IL  DE 50 A 54 AÑOS       00:00 A 00:59  \n",
       "2      VIAJERO   MUJER        HL  DE 40 A 44 AÑOS       00:00 A 00:59  \n",
       "3      VIAJERO   MUJER        HL  DE 25 A 29 AÑOS         1:00 A 1:59  \n",
       "4      VIAJERO   MUJER        HL  DE 30 A 34 ANOS         1:00 A 1:59  "
      ]
     },
     "execution_count": 211,
     "metadata": {},
     "output_type": "execute_result"
    }
   ],
   "source": [
    "df_from_xls.head()"
   ]
  },
  {
   "cell_type": "code",
   "execution_count": 212,
   "metadata": {},
   "outputs": [],
   "source": [
    "df_from_xls['HORA'], df_from_xls['BORRAR'] = df_from_xls['RESTO_RANGO_HORARIO'].str.split(' ', 1).str "
   ]
  },
  {
   "cell_type": "code",
   "execution_count": 213,
   "metadata": {},
   "outputs": [
    {
     "data": {
      "text/plain": [
       "Index(['FECHA', 'RANGO_HORARIO', 'DIA_SEMANA', 'DISTRITO', 'LUGAR_ACCIDENTE',\n",
       "       'NUM_PERSONAS', 'TIPO_ACCIDENTE', 'TIPO_VEHICULO', 'TIPO_PERSONA',\n",
       "       'SEXO', 'LESIVIDAD', 'TRAMO_EDAD', 'RESTO_RANGO_HORARIO', 'HORA',\n",
       "       'BORRAR'],\n",
       "      dtype='object')"
      ]
     },
     "execution_count": 213,
     "metadata": {},
     "output_type": "execute_result"
    }
   ],
   "source": [
    "df_from_xls.columns"
   ]
  },
  {
   "cell_type": "code",
   "execution_count": 214,
   "metadata": {},
   "outputs": [
    {
     "data": {
      "text/html": [
       "<div>\n",
       "<style scoped>\n",
       "    .dataframe tbody tr th:only-of-type {\n",
       "        vertical-align: middle;\n",
       "    }\n",
       "\n",
       "    .dataframe tbody tr th {\n",
       "        vertical-align: top;\n",
       "    }\n",
       "\n",
       "    .dataframe thead th {\n",
       "        text-align: right;\n",
       "    }\n",
       "</style>\n",
       "<table border=\"1\" class=\"dataframe\">\n",
       "  <thead>\n",
       "    <tr style=\"text-align: right;\">\n",
       "      <th></th>\n",
       "      <th>FECHA</th>\n",
       "      <th>RANGO_HORARIO</th>\n",
       "      <th>DIA_SEMANA</th>\n",
       "      <th>DISTRITO</th>\n",
       "      <th>LUGAR_ACCIDENTE</th>\n",
       "      <th>NUM_PERSONAS</th>\n",
       "      <th>TIPO_ACCIDENTE</th>\n",
       "      <th>TIPO_VEHICULO</th>\n",
       "      <th>TIPO_PERSONA</th>\n",
       "      <th>SEXO</th>\n",
       "      <th>LESIVIDAD</th>\n",
       "      <th>TRAMO_EDAD</th>\n",
       "      <th>RESTO_RANGO_HORARIO</th>\n",
       "      <th>HORA</th>\n",
       "      <th>BORRAR</th>\n",
       "    </tr>\n",
       "  </thead>\n",
       "  <tbody>\n",
       "    <tr>\n",
       "      <th>0</th>\n",
       "      <td>2010-01-01</td>\n",
       "      <td>DE 00:00 A 00:59</td>\n",
       "      <td>VIERNES</td>\n",
       "      <td>CHAMARTIN</td>\n",
       "      <td>CALLE DE CARTAGENA NUM</td>\n",
       "      <td>1</td>\n",
       "      <td>COLISIÓN DOBLE</td>\n",
       "      <td>TURISMO</td>\n",
       "      <td>CONDUCTOR</td>\n",
       "      <td>HOMBRE</td>\n",
       "      <td>IL</td>\n",
       "      <td>DE 18 A 20 AÑOS</td>\n",
       "      <td>00:00 A 00:59</td>\n",
       "      <td>00:00</td>\n",
       "      <td>A 00:59</td>\n",
       "    </tr>\n",
       "    <tr>\n",
       "      <th>1</th>\n",
       "      <td>2010-01-01</td>\n",
       "      <td>DE 00:00 A 00:59</td>\n",
       "      <td>VIERNES</td>\n",
       "      <td>CHAMARTIN</td>\n",
       "      <td>CALLE DE CARTAGENA NUM</td>\n",
       "      <td>1</td>\n",
       "      <td>COLISIÓN DOBLE</td>\n",
       "      <td>TURISMO</td>\n",
       "      <td>CONDUCTOR</td>\n",
       "      <td>HOMBRE</td>\n",
       "      <td>IL</td>\n",
       "      <td>DE 50 A 54 AÑOS</td>\n",
       "      <td>00:00 A 00:59</td>\n",
       "      <td>00:00</td>\n",
       "      <td>A 00:59</td>\n",
       "    </tr>\n",
       "    <tr>\n",
       "      <th>2</th>\n",
       "      <td>2010-01-01</td>\n",
       "      <td>DE 00:00 A 00:59</td>\n",
       "      <td>VIERNES</td>\n",
       "      <td>CHAMARTIN</td>\n",
       "      <td>CALLE DE CARTAGENA NUM</td>\n",
       "      <td>1</td>\n",
       "      <td>COLISIÓN DOBLE</td>\n",
       "      <td>TURISMO</td>\n",
       "      <td>VIAJERO</td>\n",
       "      <td>MUJER</td>\n",
       "      <td>HL</td>\n",
       "      <td>DE 40 A 44 AÑOS</td>\n",
       "      <td>00:00 A 00:59</td>\n",
       "      <td>00:00</td>\n",
       "      <td>A 00:59</td>\n",
       "    </tr>\n",
       "    <tr>\n",
       "      <th>3</th>\n",
       "      <td>2010-01-01</td>\n",
       "      <td>DE 1:00 A 1:59</td>\n",
       "      <td>VIERNES</td>\n",
       "      <td>PUENTE DE VALLECAS</td>\n",
       "      <td>AUTOVIA  M-30 CALZADA 2 KM.</td>\n",
       "      <td>7</td>\n",
       "      <td>COLISIÓN MÚLTIPLE</td>\n",
       "      <td>NO ASIGNADO</td>\n",
       "      <td>VIAJERO</td>\n",
       "      <td>MUJER</td>\n",
       "      <td>HL</td>\n",
       "      <td>DE 25 A 29 AÑOS</td>\n",
       "      <td>1:00 A 1:59</td>\n",
       "      <td>1:00</td>\n",
       "      <td>A 1:59</td>\n",
       "    </tr>\n",
       "    <tr>\n",
       "      <th>4</th>\n",
       "      <td>2010-01-01</td>\n",
       "      <td>DE 1:00 A 1:59</td>\n",
       "      <td>VIERNES</td>\n",
       "      <td>PUENTE DE VALLECAS</td>\n",
       "      <td>AUTOVIA  M-30 CALZADA 2 KM.</td>\n",
       "      <td>7</td>\n",
       "      <td>COLISIÓN MÚLTIPLE</td>\n",
       "      <td>NO ASIGNADO</td>\n",
       "      <td>VIAJERO</td>\n",
       "      <td>MUJER</td>\n",
       "      <td>HL</td>\n",
       "      <td>DE 30 A 34 ANOS</td>\n",
       "      <td>1:00 A 1:59</td>\n",
       "      <td>1:00</td>\n",
       "      <td>A 1:59</td>\n",
       "    </tr>\n",
       "  </tbody>\n",
       "</table>\n",
       "</div>"
      ],
      "text/plain": [
       "       FECHA     RANGO_HORARIO DIA_SEMANA            DISTRITO  \\\n",
       "0 2010-01-01  DE 00:00 A 00:59    VIERNES           CHAMARTIN   \n",
       "1 2010-01-01  DE 00:00 A 00:59    VIERNES           CHAMARTIN   \n",
       "2 2010-01-01  DE 00:00 A 00:59    VIERNES           CHAMARTIN   \n",
       "3 2010-01-01    DE 1:00 A 1:59    VIERNES  PUENTE DE VALLECAS   \n",
       "4 2010-01-01    DE 1:00 A 1:59    VIERNES  PUENTE DE VALLECAS   \n",
       "\n",
       "               LUGAR_ACCIDENTE  NUM_PERSONAS     TIPO_ACCIDENTE TIPO_VEHICULO  \\\n",
       "0       CALLE DE CARTAGENA NUM             1     COLISIÓN DOBLE       TURISMO   \n",
       "1       CALLE DE CARTAGENA NUM             1     COLISIÓN DOBLE       TURISMO   \n",
       "2       CALLE DE CARTAGENA NUM             1     COLISIÓN DOBLE       TURISMO   \n",
       "3  AUTOVIA  M-30 CALZADA 2 KM.             7  COLISIÓN MÚLTIPLE   NO ASIGNADO   \n",
       "4  AUTOVIA  M-30 CALZADA 2 KM.             7  COLISIÓN MÚLTIPLE   NO ASIGNADO   \n",
       "\n",
       "  TIPO_PERSONA    SEXO LESIVIDAD       TRAMO_EDAD RESTO_RANGO_HORARIO   HORA  \\\n",
       "0    CONDUCTOR  HOMBRE        IL  DE 18 A 20 AÑOS       00:00 A 00:59  00:00   \n",
       "1    CONDUCTOR  HOMBRE        IL  DE 50 A 54 AÑOS       00:00 A 00:59  00:00   \n",
       "2      VIAJERO   MUJER        HL  DE 40 A 44 AÑOS       00:00 A 00:59  00:00   \n",
       "3      VIAJERO   MUJER        HL  DE 25 A 29 AÑOS         1:00 A 1:59   1:00   \n",
       "4      VIAJERO   MUJER        HL  DE 30 A 34 ANOS         1:00 A 1:59   1:00   \n",
       "\n",
       "    BORRAR  \n",
       "0  A 00:59  \n",
       "1  A 00:59  \n",
       "2  A 00:59  \n",
       "3   A 1:59  \n",
       "4   A 1:59  "
      ]
     },
     "execution_count": 214,
     "metadata": {},
     "output_type": "execute_result"
    }
   ],
   "source": [
    "df_from_xls.head()"
   ]
  },
  {
   "cell_type": "code",
   "execution_count": 215,
   "metadata": {},
   "outputs": [],
   "source": [
    "# borrar columnas sobrantes:\n",
    "del df_from_xls['RANGO_HORARIO']\n",
    "del df_from_xls['RESTO_RANGO_HORARIO']\n",
    "del df_from_xls['BORRAR']"
   ]
  },
  {
   "cell_type": "code",
   "execution_count": 216,
   "metadata": {},
   "outputs": [
    {
     "data": {
      "text/html": [
       "<div>\n",
       "<style scoped>\n",
       "    .dataframe tbody tr th:only-of-type {\n",
       "        vertical-align: middle;\n",
       "    }\n",
       "\n",
       "    .dataframe tbody tr th {\n",
       "        vertical-align: top;\n",
       "    }\n",
       "\n",
       "    .dataframe thead th {\n",
       "        text-align: right;\n",
       "    }\n",
       "</style>\n",
       "<table border=\"1\" class=\"dataframe\">\n",
       "  <thead>\n",
       "    <tr style=\"text-align: right;\">\n",
       "      <th></th>\n",
       "      <th>FECHA</th>\n",
       "      <th>DIA_SEMANA</th>\n",
       "      <th>DISTRITO</th>\n",
       "      <th>LUGAR_ACCIDENTE</th>\n",
       "      <th>NUM_PERSONAS</th>\n",
       "      <th>TIPO_ACCIDENTE</th>\n",
       "      <th>TIPO_VEHICULO</th>\n",
       "      <th>TIPO_PERSONA</th>\n",
       "      <th>SEXO</th>\n",
       "      <th>LESIVIDAD</th>\n",
       "      <th>TRAMO_EDAD</th>\n",
       "      <th>HORA</th>\n",
       "    </tr>\n",
       "  </thead>\n",
       "  <tbody>\n",
       "    <tr>\n",
       "      <th>0</th>\n",
       "      <td>2010-01-01</td>\n",
       "      <td>VIERNES</td>\n",
       "      <td>CHAMARTIN</td>\n",
       "      <td>CALLE DE CARTAGENA NUM</td>\n",
       "      <td>1</td>\n",
       "      <td>COLISIÓN DOBLE</td>\n",
       "      <td>TURISMO</td>\n",
       "      <td>CONDUCTOR</td>\n",
       "      <td>HOMBRE</td>\n",
       "      <td>IL</td>\n",
       "      <td>DE 18 A 20 AÑOS</td>\n",
       "      <td>00:00</td>\n",
       "    </tr>\n",
       "    <tr>\n",
       "      <th>1</th>\n",
       "      <td>2010-01-01</td>\n",
       "      <td>VIERNES</td>\n",
       "      <td>CHAMARTIN</td>\n",
       "      <td>CALLE DE CARTAGENA NUM</td>\n",
       "      <td>1</td>\n",
       "      <td>COLISIÓN DOBLE</td>\n",
       "      <td>TURISMO</td>\n",
       "      <td>CONDUCTOR</td>\n",
       "      <td>HOMBRE</td>\n",
       "      <td>IL</td>\n",
       "      <td>DE 50 A 54 AÑOS</td>\n",
       "      <td>00:00</td>\n",
       "    </tr>\n",
       "    <tr>\n",
       "      <th>2</th>\n",
       "      <td>2010-01-01</td>\n",
       "      <td>VIERNES</td>\n",
       "      <td>CHAMARTIN</td>\n",
       "      <td>CALLE DE CARTAGENA NUM</td>\n",
       "      <td>1</td>\n",
       "      <td>COLISIÓN DOBLE</td>\n",
       "      <td>TURISMO</td>\n",
       "      <td>VIAJERO</td>\n",
       "      <td>MUJER</td>\n",
       "      <td>HL</td>\n",
       "      <td>DE 40 A 44 AÑOS</td>\n",
       "      <td>00:00</td>\n",
       "    </tr>\n",
       "    <tr>\n",
       "      <th>3</th>\n",
       "      <td>2010-01-01</td>\n",
       "      <td>VIERNES</td>\n",
       "      <td>PUENTE DE VALLECAS</td>\n",
       "      <td>AUTOVIA  M-30 CALZADA 2 KM.</td>\n",
       "      <td>7</td>\n",
       "      <td>COLISIÓN MÚLTIPLE</td>\n",
       "      <td>NO ASIGNADO</td>\n",
       "      <td>VIAJERO</td>\n",
       "      <td>MUJER</td>\n",
       "      <td>HL</td>\n",
       "      <td>DE 25 A 29 AÑOS</td>\n",
       "      <td>1:00</td>\n",
       "    </tr>\n",
       "    <tr>\n",
       "      <th>4</th>\n",
       "      <td>2010-01-01</td>\n",
       "      <td>VIERNES</td>\n",
       "      <td>PUENTE DE VALLECAS</td>\n",
       "      <td>AUTOVIA  M-30 CALZADA 2 KM.</td>\n",
       "      <td>7</td>\n",
       "      <td>COLISIÓN MÚLTIPLE</td>\n",
       "      <td>NO ASIGNADO</td>\n",
       "      <td>VIAJERO</td>\n",
       "      <td>MUJER</td>\n",
       "      <td>HL</td>\n",
       "      <td>DE 30 A 34 ANOS</td>\n",
       "      <td>1:00</td>\n",
       "    </tr>\n",
       "  </tbody>\n",
       "</table>\n",
       "</div>"
      ],
      "text/plain": [
       "       FECHA DIA_SEMANA            DISTRITO              LUGAR_ACCIDENTE  \\\n",
       "0 2010-01-01    VIERNES           CHAMARTIN       CALLE DE CARTAGENA NUM   \n",
       "1 2010-01-01    VIERNES           CHAMARTIN       CALLE DE CARTAGENA NUM   \n",
       "2 2010-01-01    VIERNES           CHAMARTIN       CALLE DE CARTAGENA NUM   \n",
       "3 2010-01-01    VIERNES  PUENTE DE VALLECAS  AUTOVIA  M-30 CALZADA 2 KM.   \n",
       "4 2010-01-01    VIERNES  PUENTE DE VALLECAS  AUTOVIA  M-30 CALZADA 2 KM.   \n",
       "\n",
       "   NUM_PERSONAS     TIPO_ACCIDENTE TIPO_VEHICULO TIPO_PERSONA    SEXO  \\\n",
       "0             1     COLISIÓN DOBLE       TURISMO    CONDUCTOR  HOMBRE   \n",
       "1             1     COLISIÓN DOBLE       TURISMO    CONDUCTOR  HOMBRE   \n",
       "2             1     COLISIÓN DOBLE       TURISMO      VIAJERO   MUJER   \n",
       "3             7  COLISIÓN MÚLTIPLE   NO ASIGNADO      VIAJERO   MUJER   \n",
       "4             7  COLISIÓN MÚLTIPLE   NO ASIGNADO      VIAJERO   MUJER   \n",
       "\n",
       "  LESIVIDAD       TRAMO_EDAD   HORA  \n",
       "0        IL  DE 18 A 20 AÑOS  00:00  \n",
       "1        IL  DE 50 A 54 AÑOS  00:00  \n",
       "2        HL  DE 40 A 44 AÑOS  00:00  \n",
       "3        HL  DE 25 A 29 AÑOS   1:00  \n",
       "4        HL  DE 30 A 34 ANOS   1:00  "
      ]
     },
     "execution_count": 216,
     "metadata": {},
     "output_type": "execute_result"
    }
   ],
   "source": [
    "df_from_xls.head()"
   ]
  },
  {
   "cell_type": "code",
   "execution_count": 217,
   "metadata": {},
   "outputs": [
    {
     "data": {
      "text/plain": [
       "Index(['FECHA', 'DIA_SEMANA', 'DISTRITO', 'LUGAR_ACCIDENTE', 'NUM_PERSONAS',\n",
       "       'TIPO_ACCIDENTE', 'TIPO_VEHICULO', 'TIPO_PERSONA', 'SEXO', 'LESIVIDAD',\n",
       "       'TRAMO_EDAD', 'HORA'],\n",
       "      dtype='object')"
      ]
     },
     "execution_count": 217,
     "metadata": {},
     "output_type": "execute_result"
    }
   ],
   "source": [
    "df_from_xls.columns"
   ]
  },
  {
   "cell_type": "code",
   "execution_count": 218,
   "metadata": {},
   "outputs": [
    {
     "data": {
      "text/plain": [
       "FECHA              0\n",
       "DIA_SEMANA         0\n",
       "DISTRITO           0\n",
       "LUGAR_ACCIDENTE    0\n",
       "NUM_PERSONAS       0\n",
       "TIPO_ACCIDENTE     0\n",
       "TIPO_VEHICULO      0\n",
       "TIPO_PERSONA       0\n",
       "SEXO               0\n",
       "LESIVIDAD          0\n",
       "TRAMO_EDAD         0\n",
       "HORA               0\n",
       "dtype: int64"
      ]
     },
     "execution_count": 218,
     "metadata": {},
     "output_type": "execute_result"
    }
   ],
   "source": [
    "# Comprobar valores nulos\n",
    "df_from_xls.isnull().sum()"
   ]
  },
  {
   "cell_type": "code",
   "execution_count": 219,
   "metadata": {},
   "outputs": [
    {
     "data": {
      "text/plain": [
       "array(['DE 18 A 20 AÑOS', 'DE 50 A 54 AÑOS', 'DE 40 A 44 AÑOS',\n",
       "       'DE 25 A 29 AÑOS', 'DE 30 A 34 ANOS', 'DE 21 A 24 AÑOS',\n",
       "       'DE 35 A 39 AÑOS', 'DE 60 A 64 AÑOS', 'DE 45 A 49 AÑOS',\n",
       "       'DE 0 A 5 AÑOS', 'DESCONOCIDA', 'DE 70 A 74 AÑOS',\n",
       "       'DE MAS DE 74 AÑOS', 'DE 10 A 14 AÑOS', 'DE 6 A 9 AÑOS',\n",
       "       'DE 55 A 59 AÑOS', 'DE 65 A 69 AÑOS', 'DE 15 A 17 AÑOS'],\n",
       "      dtype=object)"
      ]
     },
     "execution_count": 219,
     "metadata": {},
     "output_type": "execute_result"
    }
   ],
   "source": [
    "df_from_xls[\"TRAMO_EDAD\"].unique()"
   ]
  },
  {
   "cell_type": "code",
   "execution_count": 220,
   "metadata": {},
   "outputs": [],
   "source": [
    "df_from_xls['BORRAR'], df_from_xls['EDAD'] = df_from_xls['TRAMO_EDAD'].str.split(' ', 1).str "
   ]
  },
  {
   "cell_type": "code",
   "execution_count": 221,
   "metadata": {},
   "outputs": [
    {
     "data": {
      "text/plain": [
       "array(['18 A 20 AÑOS', '50 A 54 AÑOS', '40 A 44 AÑOS', '25 A 29 AÑOS',\n",
       "       '30 A 34 ANOS', '21 A 24 AÑOS', '35 A 39 AÑOS', '60 A 64 AÑOS',\n",
       "       '45 A 49 AÑOS', '0 A 5 AÑOS', nan, '70 A 74 AÑOS',\n",
       "       'MAS DE 74 AÑOS', '10 A 14 AÑOS', '6 A 9 AÑOS', '55 A 59 AÑOS',\n",
       "       '65 A 69 AÑOS', '15 A 17 AÑOS'], dtype=object)"
      ]
     },
     "execution_count": 221,
     "metadata": {},
     "output_type": "execute_result"
    }
   ],
   "source": [
    "df_from_xls[\"EDAD\"].unique()"
   ]
  },
  {
   "cell_type": "code",
   "execution_count": 222,
   "metadata": {},
   "outputs": [
    {
     "data": {
      "text/plain": [
       "FECHA                 0\n",
       "DIA_SEMANA            0\n",
       "DISTRITO              0\n",
       "LUGAR_ACCIDENTE       0\n",
       "NUM_PERSONAS          0\n",
       "TIPO_ACCIDENTE        0\n",
       "TIPO_VEHICULO         0\n",
       "TIPO_PERSONA          0\n",
       "SEXO                  0\n",
       "LESIVIDAD             0\n",
       "TRAMO_EDAD            0\n",
       "HORA                  0\n",
       "BORRAR                0\n",
       "EDAD               2344\n",
       "dtype: int64"
      ]
     },
     "execution_count": 222,
     "metadata": {},
     "output_type": "execute_result"
    }
   ],
   "source": [
    "# Comprobar valores nulos\n",
    "df_from_xls.isnull().sum()"
   ]
  },
  {
   "cell_type": "code",
   "execution_count": 223,
   "metadata": {},
   "outputs": [],
   "source": [
    "# borrar columnas sobrantes:\n",
    "del df_from_xls['BORRAR']\n",
    "del df_from_xls['TRAMO_EDAD']"
   ]
  },
  {
   "cell_type": "code",
   "execution_count": 224,
   "metadata": {},
   "outputs": [],
   "source": [
    "df_from_xls['TRAMO_EDAD'], df_from_xls['BORRAR'] = df_from_xls['EDAD'].str.split(' ', 1).str "
   ]
  },
  {
   "cell_type": "code",
   "execution_count": 225,
   "metadata": {},
   "outputs": [
    {
     "data": {
      "text/plain": [
       "array(['18', '50', '40', '25', '30', '21', '35', '60', '45', '0', nan,\n",
       "       '70', 'MAS', '10', '6', '55', '65', '15'], dtype=object)"
      ]
     },
     "execution_count": 225,
     "metadata": {},
     "output_type": "execute_result"
    }
   ],
   "source": [
    "df_from_xls[\"TRAMO_EDAD\"].unique()"
   ]
  },
  {
   "cell_type": "code",
   "execution_count": 226,
   "metadata": {},
   "outputs": [
    {
     "data": {
      "text/plain": [
       "FECHA                 0\n",
       "DIA_SEMANA            0\n",
       "DISTRITO              0\n",
       "LUGAR_ACCIDENTE       0\n",
       "NUM_PERSONAS          0\n",
       "TIPO_ACCIDENTE        0\n",
       "TIPO_VEHICULO         0\n",
       "TIPO_PERSONA          0\n",
       "SEXO                  0\n",
       "LESIVIDAD             0\n",
       "HORA                  0\n",
       "EDAD               2344\n",
       "TRAMO_EDAD         2344\n",
       "BORRAR             2344\n",
       "dtype: int64"
      ]
     },
     "execution_count": 226,
     "metadata": {},
     "output_type": "execute_result"
    }
   ],
   "source": [
    "# Comprobar valores nulos\n",
    "df_from_xls.isnull().sum()"
   ]
  },
  {
   "cell_type": "code",
   "execution_count": 227,
   "metadata": {},
   "outputs": [],
   "source": [
    "# borrar columnas sobrantes:\n",
    "del df_from_xls['EDAD']\n",
    "del df_from_xls['BORRAR']"
   ]
  },
  {
   "cell_type": "code",
   "execution_count": 228,
   "metadata": {},
   "outputs": [
    {
     "data": {
      "text/plain": [
       "FECHA                 0\n",
       "DIA_SEMANA            0\n",
       "DISTRITO              0\n",
       "LUGAR_ACCIDENTE       0\n",
       "NUM_PERSONAS          0\n",
       "TIPO_ACCIDENTE        0\n",
       "TIPO_VEHICULO         0\n",
       "TIPO_PERSONA          0\n",
       "SEXO                  0\n",
       "LESIVIDAD             0\n",
       "HORA                  0\n",
       "TRAMO_EDAD         2344\n",
       "dtype: int64"
      ]
     },
     "execution_count": 228,
     "metadata": {},
     "output_type": "execute_result"
    }
   ],
   "source": [
    "# Comprobar valores nulos\n",
    "df_from_xls.isnull().sum()"
   ]
  },
  {
   "cell_type": "code",
   "execution_count": null,
   "metadata": {},
   "outputs": [],
   "source": [
    "# crear nueva columna por vectorizacion numpy concatenando los valores de la columna fecha y la columna hora\n",
    "# df['nueva']=np:concat(df['col1'] df['col2'])"
   ]
  },
  {
   "cell_type": "code",
   "execution_count": 74,
   "metadata": {},
   "outputs": [],
   "source": [
    "#df_from_xls.duplicated()\n",
    "#df_from_xls.duplicated().sum()\n",
    "#df_from_xls.drop_duplicates()"
   ]
  },
  {
   "cell_type": "code",
   "execution_count": 54,
   "metadata": {},
   "outputs": [],
   "source": [
    "# convertimos el excel a csv sin incluir columna de indice por defecto\n",
    "# df_from_xls.to_csv(\"./csv_files/2010.csv\", sep= \",\", encoding='utf-8', index=False)"
   ]
  },
  {
   "cell_type": "code",
   "execution_count": 44,
   "metadata": {},
   "outputs": [],
   "source": [
    "# !ls -ltr csv_files/"
   ]
  }
 ],
 "metadata": {
  "kernelspec": {
   "display_name": "Python 3",
   "language": "python",
   "name": "python3"
  },
  "language_info": {
   "codemirror_mode": {
    "name": "ipython",
    "version": 3
   },
   "file_extension": ".py",
   "mimetype": "text/x-python",
   "name": "python",
   "nbconvert_exporter": "python",
   "pygments_lexer": "ipython3",
   "version": "3.7.1"
  }
 },
 "nbformat": 4,
 "nbformat_minor": 2
}
