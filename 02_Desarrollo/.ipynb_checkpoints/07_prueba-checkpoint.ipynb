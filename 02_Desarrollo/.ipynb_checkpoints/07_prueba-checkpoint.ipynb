{
 "cells": [
  {
   "cell_type": "code",
   "execution_count": 535,
   "metadata": {},
   "outputs": [
    {
     "name": "stdout",
     "output_type": "stream",
     "text": [
      "\n",
      "Automagic is OFF, % prefix IS needed for line magics.\n"
     ]
    }
   ],
   "source": [
    "%automagic"
   ]
  },
  {
   "cell_type": "code",
   "execution_count": 536,
   "metadata": {},
   "outputs": [
    {
     "name": "stdout",
     "output_type": "stream",
     "text": [
      "total 37792\r\n",
      "-rw-rw-r-- 1 dsc dsc     1695 oct 19 16:58 00_work_line_notes.txt\r\n",
      "-rw-rw-r-- 1 dsc dsc   309961 oct 20 11:55 01_ciclo_prueba_muestra.ipynb\r\n",
      "-rw-rw-r-- 1 dsc dsc   337332 oct 23 16:39 02_ciclo_prueba_muestra_ordenado.ipynb\r\n",
      "drwxrwxr-x 2 dsc dsc     4096 oct 23 16:56 csv_files\r\n",
      "-rw-rw-r-- 1 dsc dsc   337332 oct 26 16:45 03_ciclo_prueba_muestra_final.ipynb\r\n",
      "-rw-rw-r-- 1 dsc dsc    26352 oct 29 18:05 residuo.png\r\n",
      "-rw-rw-r-- 1 dsc dsc    28090 oct 29 18:05 estacionalidad.png\r\n",
      "-rw-rw-r-- 1 dsc dsc    16061 oct 29 18:05 tendencia.png\r\n",
      "-rw-rw-r-- 1 dsc dsc    36481 oct 29 18:06 todo.png\r\n",
      "-rw-rw-r-- 1 dsc dsc    28121 oct 29 18:37 residuo_nube.png\r\n",
      "-rw-rw-r-- 1 dsc dsc    16512 oct 29 18:38 estacionalidad_nube.png\r\n",
      "-rw-rw-r-- 1 dsc dsc    28910 oct 29 18:38 tendencia_nube.png\r\n",
      "-rw-rw-r-- 1 dsc dsc    48129 oct 29 18:38 todo_nube.png\r\n",
      "-rw-rw-r-- 1 dsc dsc  2403149 nov  3 18:08 04_ciclo_prueba_muestra_serie_temporal_lio.ipynb\r\n",
      "-rw-rw-r-- 1 dsc dsc  1919420 nov  9 12:25 04_ciclo_prueba_muestra_serie_temporal.ipynb\r\n",
      "-rw-rw-r-- 1 dsc dsc  1741628 nov 16 17:12 serie_completa.csv\r\n",
      "-rw-rw-r-- 1 dsc dsc 24017454 nov 16 18:37 datos_accs_madrid.csv\r\n",
      "-rw-rw-r-- 1 dsc dsc  6301680 nov 16 18:38 05_ciclo_datos_completos_xa_serie_temporal.ipynb\r\n",
      "-rw-rw-r-- 1 dsc dsc   189272 nov 18 23:25 06_accs_completos_xa_clasificacion.ipynb\r\n",
      "-rw-rw-r-- 1 dsc dsc   262016 nov 19 19:16 06b_accs_completos_xa_clasif_viernes.ipynb\r\n",
      "-rw-rw-r-- 1 dsc dsc      555 nov 20 16:18 Untitled.ipynb\r\n",
      "-rw-rw-r-- 1 dsc dsc     2365 nov 22 16:43 tree1.dot\r\n",
      "-rw-rw-r-- 1 dsc dsc     2365 nov 22 16:45 tree1.png\r\n",
      "-rw-rw-r-- 1 dsc dsc     2365 nov 22 16:45 tree1.jpg\r\n",
      "-rw-rw-r-- 1 dsc dsc     1164 nov 22 17:41 distritos_municipio_madrid.csv\r\n",
      "-rw-rw-r-- 1 dsc dsc   588529 nov 22 17:50 07_prueba.ipynb\r\n"
     ]
    }
   ],
   "source": [
    "folder = '/home/dsc/Repos/TFM_Accident_reduction_plan_in_the_city_of_Madrid/02_Desarrollo'\n",
    "!ls -ltr {folder}"
   ]
  },
  {
   "cell_type": "code",
   "execution_count": 537,
   "metadata": {},
   "outputs": [
    {
     "data": {
      "text/plain": [
       "'/home/dsc/Repos/TFM_Accident_reduction_plan_in_the_city_of_Madrid/02_Desarrollo'"
      ]
     },
     "execution_count": 537,
     "metadata": {},
     "output_type": "execute_result"
    }
   ],
   "source": [
    "import os\n",
    "os.getcwd()"
   ]
  },
  {
   "cell_type": "code",
   "execution_count": 538,
   "metadata": {},
   "outputs": [
    {
     "data": {
      "text/plain": [
       "'/home/dsc/Repos/TFM_Accident_reduction_plan_in_the_city_of_Madrid/02_Desarrollo'"
      ]
     },
     "execution_count": 538,
     "metadata": {},
     "output_type": "execute_result"
    }
   ],
   "source": [
    "os.chdir(folder)\n",
    "os.getcwd()"
   ]
  },
  {
   "cell_type": "code",
   "execution_count": 539,
   "metadata": {},
   "outputs": [
    {
     "name": "stdout",
     "output_type": "stream",
     "text": [
      "-rw-rw-r-- 1 dsc dsc 24017454 nov 16 18:37 datos_accs_madrid.csv\r\n"
     ]
    }
   ],
   "source": [
    "!ls -ltr datos_accs_madrid.csv"
   ]
  },
  {
   "cell_type": "code",
   "execution_count": 540,
   "metadata": {},
   "outputs": [],
   "source": [
    "df_accs = pd.read_csv(\"datos_accs_madrid.csv\")"
   ]
  },
  {
   "cell_type": "code",
   "execution_count": 541,
   "metadata": {},
   "outputs": [],
   "source": [
    "# Imports needed for the script\n",
    "import numpy as np\n",
    "import pandas as pd\n",
    "import seaborn as sb\n",
    "import matplotlib.pyplot as plt\n",
    "%matplotlib inline\n",
    "#plt.rcParams['figure.figsize'] = (16, 9)\n",
    "plt.style.use('ggplot')\n",
    "from sklearn import tree\n",
    "from sklearn.metrics import accuracy_score\n",
    "from sklearn.model_selection import KFold\n",
    "from sklearn.model_selection import cross_val_score\n",
    "from IPython.display import Image as PImage\n",
    "from subprocess import check_call\n",
    "from PIL import Image, ImageDraw, ImageFont"
   ]
  },
  {
   "cell_type": "code",
   "execution_count": 542,
   "metadata": {},
   "outputs": [
    {
     "data": {
      "text/plain": [
       "(252998, 11)"
      ]
     },
     "execution_count": 542,
     "metadata": {},
     "output_type": "execute_result"
    }
   ],
   "source": [
    "# Análisis Exploratorio Inicial\n",
    "# Ahora veamos cuantas columnas y registros tenemos:\n",
    "df_accs.shape"
   ]
  },
  {
   "cell_type": "code",
   "execution_count": 543,
   "metadata": {},
   "outputs": [
    {
     "data": {
      "text/html": [
       "<div>\n",
       "<style scoped>\n",
       "    .dataframe tbody tr th:only-of-type {\n",
       "        vertical-align: middle;\n",
       "    }\n",
       "\n",
       "    .dataframe tbody tr th {\n",
       "        vertical-align: top;\n",
       "    }\n",
       "\n",
       "    .dataframe thead th {\n",
       "        text-align: right;\n",
       "    }\n",
       "</style>\n",
       "<table border=\"1\" class=\"dataframe\">\n",
       "  <thead>\n",
       "    <tr style=\"text-align: right;\">\n",
       "      <th></th>\n",
       "      <th>FECHA</th>\n",
       "      <th>HORA</th>\n",
       "      <th>DIA_SEMANA</th>\n",
       "      <th>DISTRITO</th>\n",
       "      <th>NUM_PERSONAS</th>\n",
       "      <th>TIPO_ACCIDENTE</th>\n",
       "      <th>TIPO_VEHICULO</th>\n",
       "      <th>TIPO_PERSONA</th>\n",
       "      <th>SEXO</th>\n",
       "      <th>LESIVIDAD</th>\n",
       "      <th>EDAD_APROX</th>\n",
       "    </tr>\n",
       "  </thead>\n",
       "  <tbody>\n",
       "    <tr>\n",
       "      <th>0</th>\n",
       "      <td>01/01/2010</td>\n",
       "      <td>00:00</td>\n",
       "      <td>VIERNES</td>\n",
       "      <td>CHAMARTIN</td>\n",
       "      <td>1</td>\n",
       "      <td>COLISION_DOBLE</td>\n",
       "      <td>TURISMO</td>\n",
       "      <td>CONDUCTOR</td>\n",
       "      <td>HOMBRE</td>\n",
       "      <td>INGRESO_LEVE</td>\n",
       "      <td>20</td>\n",
       "    </tr>\n",
       "    <tr>\n",
       "      <th>1</th>\n",
       "      <td>01/01/2010</td>\n",
       "      <td>00:00</td>\n",
       "      <td>VIERNES</td>\n",
       "      <td>CHAMARTIN</td>\n",
       "      <td>1</td>\n",
       "      <td>COLISION_DOBLE</td>\n",
       "      <td>TURISMO</td>\n",
       "      <td>CONDUCTOR</td>\n",
       "      <td>HOMBRE</td>\n",
       "      <td>INGRESO_LEVE</td>\n",
       "      <td>50</td>\n",
       "    </tr>\n",
       "    <tr>\n",
       "      <th>2</th>\n",
       "      <td>01/01/2010</td>\n",
       "      <td>00:00</td>\n",
       "      <td>VIERNES</td>\n",
       "      <td>CHAMARTIN</td>\n",
       "      <td>1</td>\n",
       "      <td>COLISION_DOBLE</td>\n",
       "      <td>TURISMO</td>\n",
       "      <td>VIAJERO</td>\n",
       "      <td>MUJER</td>\n",
       "      <td>HERIDO_LEVE</td>\n",
       "      <td>40</td>\n",
       "    </tr>\n",
       "  </tbody>\n",
       "</table>\n",
       "</div>"
      ],
      "text/plain": [
       "        FECHA   HORA DIA_SEMANA   DISTRITO  NUM_PERSONAS  TIPO_ACCIDENTE  \\\n",
       "0  01/01/2010  00:00    VIERNES  CHAMARTIN             1  COLISION_DOBLE   \n",
       "1  01/01/2010  00:00    VIERNES  CHAMARTIN             1  COLISION_DOBLE   \n",
       "2  01/01/2010  00:00    VIERNES  CHAMARTIN             1  COLISION_DOBLE   \n",
       "\n",
       "  TIPO_VEHICULO TIPO_PERSONA    SEXO     LESIVIDAD EDAD_APROX  \n",
       "0       TURISMO    CONDUCTOR  HOMBRE  INGRESO_LEVE         20  \n",
       "1       TURISMO    CONDUCTOR  HOMBRE  INGRESO_LEVE         50  \n",
       "2       TURISMO      VIAJERO   MUJER   HERIDO_LEVE         40  "
      ]
     },
     "execution_count": 543,
     "metadata": {},
     "output_type": "execute_result"
    }
   ],
   "source": [
    "df_accs.head(3)"
   ]
  },
  {
   "cell_type": "code",
   "execution_count": 544,
   "metadata": {},
   "outputs": [],
   "source": [
    "# algunas visualizaciones para comprender mejor nuestros datos.\n",
    "# Mirar balanceo de etiquetas"
   ]
  },
  {
   "cell_type": "code",
   "execution_count": 545,
   "metadata": {},
   "outputs": [
    {
     "data": {
      "text/plain": [
       "DIA_SEMANA\n",
       "DOMINGO      27249\n",
       "JUEVES       38794\n",
       "LUNES        36301\n",
       "MARTES       37707\n",
       "MIERCOLES    38697\n",
       "SABADO       30798\n",
       "VIERNES      43452\n",
       "dtype: int64"
      ]
     },
     "execution_count": 545,
     "metadata": {},
     "output_type": "execute_result"
    }
   ],
   "source": [
    "df_accs.groupby('DIA_SEMANA').size()"
   ]
  },
  {
   "cell_type": "code",
   "execution_count": 546,
   "metadata": {},
   "outputs": [
    {
     "data": {
      "text/plain": [
       "DISTRITO\n",
       "ARGANZUELA             13050\n",
       "BARAJAS                 3402\n",
       "CARABANCHEL            15593\n",
       "CENTRO                 17717\n",
       "CHAMARTIN              18857\n",
       "CHAMBERI               14466\n",
       "CIUDAD LINEAL          16580\n",
       "FUENCARRAL-EL PARDO    13750\n",
       "HORTALEZA               8546\n",
       "LATINA                 12218\n",
       "MONCLOA-ARAVACA        13587\n",
       "MORATALAZ               6246\n",
       "PUENTE DE VALLECAS     16180\n",
       "RETIRO                 13665\n",
       "SALAMANCA              19269\n",
       "SAN BLAS               11987\n",
       "TETUAN                 13626\n",
       "USERA                   8808\n",
       "VICALVARO               3142\n",
       "VILLA DE VALLECAS       5601\n",
       "VILLAVERDE              6708\n",
       "dtype: int64"
      ]
     },
     "execution_count": 546,
     "metadata": {},
     "output_type": "execute_result"
    }
   ],
   "source": [
    "df_accs.groupby('DISTRITO').size()"
   ]
  },
  {
   "cell_type": "code",
   "execution_count": 547,
   "metadata": {},
   "outputs": [
    {
     "data": {
      "text/plain": [
       "TIPO_ACCIDENTE\n",
       "ATROPELLO                     41398\n",
       "CAIDA_BICICLETA                2616\n",
       "CAIDA_CICLOMOTOR               2536\n",
       "CAIDA_MOTOCICLETA             14155\n",
       "CAIDA_VEHICULO_ 3_ RUEDAS        19\n",
       "CAIDA_VIAJERO_ BUS             2794\n",
       "CHOQUE_CON_OBJETO_FIJO        12595\n",
       "COLISION_DOBLE               145544\n",
       "COLISION_MULTIPLE             29195\n",
       "OTRAS_CAUSAS                   1011\n",
       "VUELCO                         1135\n",
       "dtype: int64"
      ]
     },
     "execution_count": 547,
     "metadata": {},
     "output_type": "execute_result"
    }
   ],
   "source": [
    "df_accs.groupby('TIPO_ACCIDENTE').size()"
   ]
  },
  {
   "cell_type": "code",
   "execution_count": 548,
   "metadata": {},
   "outputs": [
    {
     "data": {
      "text/plain": [
       "TIPO_VEHICULO\n",
       "AMBULANCIA            492\n",
       "AUTOBUS_AUTOCAR      7017\n",
       "AUTO_TAXI            8311\n",
       "BICICLETA            5524\n",
       "CAMION               2499\n",
       "CICLOMOTOR           6045\n",
       "FURGONETA            9873\n",
       "MOTOCICLETA         32742\n",
       "NO_ASIGNADO         46852\n",
       "TURISMO            131483\n",
       "VARIOS               2117\n",
       "VEH.3 RUEDAS           43\n",
       "dtype: int64"
      ]
     },
     "execution_count": 548,
     "metadata": {},
     "output_type": "execute_result"
    }
   ],
   "source": [
    "df_accs.groupby('TIPO_VEHICULO').size()"
   ]
  },
  {
   "cell_type": "code",
   "execution_count": 549,
   "metadata": {},
   "outputs": [
    {
     "data": {
      "text/plain": [
       "TIPO_PERSONA\n",
       "CONDUCTOR    158734\n",
       "PEATON        15118\n",
       "TESTIGO       31666\n",
       "VIAJERO       47480\n",
       "dtype: int64"
      ]
     },
     "execution_count": 549,
     "metadata": {},
     "output_type": "execute_result"
    }
   ],
   "source": [
    "df_accs.groupby('TIPO_PERSONA').size()"
   ]
  },
  {
   "cell_type": "code",
   "execution_count": 550,
   "metadata": {},
   "outputs": [
    {
     "data": {
      "text/plain": [
       "SEXO\n",
       "HOMBRE         160165\n",
       "MUJER           80717\n",
       "NO_ASIGNADO     12116\n",
       "dtype: int64"
      ]
     },
     "execution_count": 550,
     "metadata": {},
     "output_type": "execute_result"
    }
   ],
   "source": [
    "df_accs.groupby('SEXO').size()"
   ]
  },
  {
   "cell_type": "code",
   "execution_count": 551,
   "metadata": {},
   "outputs": [
    {
     "data": {
      "text/plain": [
       "LESIVIDAD\n",
       "HERIDO_GRAVE      8850\n",
       "HERIDO_LEVE     102716\n",
       "INGRESO_LEVE    130053\n",
       "MUERTO             275\n",
       "NO_ASIGNADO      11104\n",
       "dtype: int64"
      ]
     },
     "execution_count": 551,
     "metadata": {},
     "output_type": "execute_result"
    }
   ],
   "source": [
    "df_accs.groupby('LESIVIDAD').size()"
   ]
  },
  {
   "cell_type": "code",
   "execution_count": 552,
   "metadata": {},
   "outputs": [
    {
     "data": {
      "text/plain": [
       "EDAD_APROX\n",
       "0               3128\n",
       "10              5124\n",
       "15              2593\n",
       "20              9304\n",
       "25             49329\n",
       "30             31110\n",
       "35             30169\n",
       "40             26421\n",
       "45             22167\n",
       "50             17999\n",
       "55             12454\n",
       "65             13459\n",
       "70              3656\n",
       "75              6361\n",
       "NO_ASIGNADO    19724\n",
       "dtype: int64"
      ]
     },
     "execution_count": 552,
     "metadata": {},
     "output_type": "execute_result"
    }
   ],
   "source": [
    "df_accs.groupby('EDAD_APROX').size()"
   ]
  },
  {
   "cell_type": "code",
   "execution_count": 553,
   "metadata": {},
   "outputs": [],
   "source": [
    "# Veamos cuántos registros hay según tipo en los accidentes:"
   ]
  },
  {
   "cell_type": "code",
   "execution_count": 554,
   "metadata": {},
   "outputs": [
    {
     "data": {
      "text/plain": [
       "Index(['FECHA', 'HORA', 'DIA_SEMANA', 'DISTRITO', 'NUM_PERSONAS',\n",
       "       'TIPO_ACCIDENTE', 'TIPO_VEHICULO', 'TIPO_PERSONA', 'SEXO', 'LESIVIDAD',\n",
       "       'EDAD_APROX'],\n",
       "      dtype='object')"
      ]
     },
     "execution_count": 554,
     "metadata": {},
     "output_type": "execute_result"
    }
   ],
   "source": [
    "df_accs.columns"
   ]
  },
  {
   "cell_type": "code",
   "execution_count": 555,
   "metadata": {},
   "outputs": [
    {
     "data": {
      "text/plain": [
       "<seaborn.axisgrid.FacetGrid at 0x7f7c92f1abe0>"
      ]
     },
     "execution_count": 555,
     "metadata": {},
     "output_type": "execute_result"
    },
    {
     "data": {
      "image/png": "[encoded data removed]",
      "text/plain": [
       "<Figure size 360x360 with 1 Axes>"
      ]
     },
     "metadata": {},
     "output_type": "display_data"
    }
   ],
   "source": [
    "#figure(figsize=(5,5))\n",
    "sb.catplot('DIA_SEMANA',data=df_accs,kind=\"count\", \\\n",
    "           order=[\"LUNES\", \"MARTES\", \"MIERCOLES\", \"JUEVES\", \"VIERNES\", \"SABADO\", \"DOMINGO\"])"
   ]
  },
  {
   "cell_type": "code",
   "execution_count": 556,
   "metadata": {},
   "outputs": [
    {
     "data": {
      "text/plain": [
       "<seaborn.axisgrid.FacetGrid at 0x7f7c92e4d278>"
      ]
     },
     "execution_count": 556,
     "metadata": {},
     "output_type": "execute_result"
    },
    {
     "data": {
      "image/png": "[encoded data removed]",
      "text/plain": [
       "<Figure size 360x360 with 1 Axes>"
      ]
     },
     "metadata": {},
     "output_type": "display_data"
    }
   ],
   "source": [
    "sb.catplot('DISTRITO',data=df_accs,kind=\"count\")"
   ]
  },
  {
   "cell_type": "code",
   "execution_count": 557,
   "metadata": {},
   "outputs": [
    {
     "data": {
      "text/plain": [
       "<seaborn.axisgrid.FacetGrid at 0x7f7c931d4dd8>"
      ]
     },
     "execution_count": 557,
     "metadata": {},
     "output_type": "execute_result"
    },
    {
     "data": {
      "image/png": "[encoded data removed]",
      "text/plain": [
       "<Figure size 360x360 with 1 Axes>"
      ]
     },
     "metadata": {},
     "output_type": "display_data"
    }
   ],
   "source": [
    "sb.catplot('TIPO_ACCIDENTE',data=df_accs,kind=\"count\")"
   ]
  },
  {
   "cell_type": "code",
   "execution_count": 558,
   "metadata": {},
   "outputs": [
    {
     "data": {
      "text/plain": [
       "<seaborn.axisgrid.FacetGrid at 0x7f7c93254588>"
      ]
     },
     "execution_count": 558,
     "metadata": {},
     "output_type": "execute_result"
    },
    {
     "data": {
      "image/png": "[encoded data removed]",
      "text/plain": [
       "<Figure size 360x360 with 1 Axes>"
      ]
     },
     "metadata": {},
     "output_type": "display_data"
    }
   ],
   "source": [
    "sb.catplot('TIPO_VEHICULO',data=df_accs,kind=\"count\")"
   ]
  },
  {
   "cell_type": "code",
   "execution_count": 559,
   "metadata": {},
   "outputs": [
    {
     "data": {
      "text/plain": [
       "<seaborn.axisgrid.FacetGrid at 0x7f7c92e71e80>"
      ]
     },
     "execution_count": 559,
     "metadata": {},
     "output_type": "execute_result"
    },
    {
     "data": {
      "image/png": "[encoded data removed]",
      "text/plain": [
       "<Figure size 360x360 with 1 Axes>"
      ]
     },
     "metadata": {},
     "output_type": "display_data"
    }
   ],
   "source": [
    "sb.catplot('TIPO_PERSONA',data=df_accs,kind=\"count\")"
   ]
  },
  {
   "cell_type": "code",
   "execution_count": 560,
   "metadata": {},
   "outputs": [
    {
     "data": {
      "text/plain": [
       "<seaborn.axisgrid.FacetGrid at 0x7f7c9328abe0>"
      ]
     },
     "execution_count": 560,
     "metadata": {},
     "output_type": "execute_result"
    },
    {
     "data": {
      "image/png": "[encoded data removed]",
      "text/plain": [
       "<Figure size 360x360 with 1 Axes>"
      ]
     },
     "metadata": {},
     "output_type": "display_data"
    }
   ],
   "source": [
    "sb.catplot('SEXO',data=df_accs,kind=\"count\")"
   ]
  },
  {
   "cell_type": "code",
   "execution_count": 561,
   "metadata": {},
   "outputs": [
    {
     "data": {
      "text/plain": [
       "<seaborn.axisgrid.FacetGrid at 0x7f7c984a00f0>"
      ]
     },
     "execution_count": 561,
     "metadata": {},
     "output_type": "execute_result"
    },
    {
     "data": {
      "image/png": "[encoded data removed]",
      "text/plain": [
       "<Figure size 360x360 with 1 Axes>"
      ]
     },
     "metadata": {},
     "output_type": "display_data"
    }
   ],
   "source": [
    "sb.catplot('LESIVIDAD',data=df_accs,kind=\"count\")"
   ]
  },
  {
   "cell_type": "code",
   "execution_count": 562,
   "metadata": {},
   "outputs": [
    {
     "data": {
      "text/plain": [
       "<seaborn.axisgrid.FacetGrid at 0x7f7c9851fd30>"
      ]
     },
     "execution_count": 562,
     "metadata": {},
     "output_type": "execute_result"
    },
    {
     "data": {
      "image/png": "[encoded data removed]",
      "text/plain": [
       "<Figure size 360x360 with 1 Axes>"
      ]
     },
     "metadata": {},
     "output_type": "display_data"
    }
   ],
   "source": [
    "sb.catplot('EDAD_APROX',data=df_accs,kind=\"count\")"
   ]
  },
  {
   "cell_type": "code",
   "execution_count": 563,
   "metadata": {},
   "outputs": [
    {
     "data": {
      "text/plain": [
       "Index(['FECHA', 'HORA', 'DIA_SEMANA', 'DISTRITO', 'NUM_PERSONAS',\n",
       "       'TIPO_ACCIDENTE', 'TIPO_VEHICULO', 'TIPO_PERSONA', 'SEXO', 'LESIVIDAD',\n",
       "       'EDAD_APROX'],\n",
       "      dtype='object')"
      ]
     },
     "execution_count": 563,
     "metadata": {},
     "output_type": "execute_result"
    }
   ],
   "source": [
    "df_accs.columns"
   ]
  },
  {
   "cell_type": "code",
   "execution_count": 564,
   "metadata": {},
   "outputs": [
    {
     "data": {
      "text/plain": [
       "<seaborn.axisgrid.FacetGrid at 0x7f7c985730b8>"
      ]
     },
     "execution_count": 564,
     "metadata": {},
     "output_type": "execute_result"
    },
    {
     "data": {
      "image/png": "[encoded data removed]",
      "text/plain": [
       "<Figure size 453.25x360 with 1 Axes>"
      ]
     },
     "metadata": {},
     "output_type": "display_data"
    }
   ],
   "source": [
    "sb.catplot('DISTRITO',data=df_accs,hue='DIA_SEMANA',kind=\"count\")"
   ]
  },
  {
   "cell_type": "code",
   "execution_count": 565,
   "metadata": {},
   "outputs": [
    {
     "data": {
      "text/plain": [
       "<seaborn.axisgrid.FacetGrid at 0x7f7c98851dd8>"
      ]
     },
     "execution_count": 565,
     "metadata": {},
     "output_type": "execute_result"
    },
    {
     "data": {
      "image/png": "[encoded data removed]",
      "text/plain": [
       "<Figure size 453.25x360 with 1 Axes>"
      ]
     },
     "metadata": {},
     "output_type": "display_data"
    }
   ],
   "source": [
    "sb.catplot('TIPO_ACCIDENTE',data=df_accs,hue='DIA_SEMANA',kind=\"count\")"
   ]
  },
  {
   "cell_type": "code",
   "execution_count": 566,
   "metadata": {},
   "outputs": [
    {
     "data": {
      "text/plain": [
       "<seaborn.axisgrid.FacetGrid at 0x7f7c989255c0>"
      ]
     },
     "execution_count": 566,
     "metadata": {},
     "output_type": "execute_result"
    },
    {
     "data": {
      "image/png": "[encoded data removed]",
      "text/plain": [
       "<Figure size 453.25x360 with 1 Axes>"
      ]
     },
     "metadata": {},
     "output_type": "display_data"
    }
   ],
   "source": [
    "sb.catplot('TIPO_VEHICULO',data=df_accs,hue='DIA_SEMANA',kind=\"count\")"
   ]
  },
  {
   "cell_type": "code",
   "execution_count": 567,
   "metadata": {},
   "outputs": [
    {
     "data": {
      "text/plain": [
       "<seaborn.axisgrid.FacetGrid at 0x7f7c92d32710>"
      ]
     },
     "execution_count": 567,
     "metadata": {},
     "output_type": "execute_result"
    },
    {
     "data": {
      "image/png": "[encoded data removed]",
      "text/plain": [
       "<Figure size 453.25x360 with 1 Axes>"
      ]
     },
     "metadata": {},
     "output_type": "display_data"
    }
   ],
   "source": [
    "sb.catplot('TIPO_PERSONA',data=df_accs,hue='DIA_SEMANA',kind=\"count\")"
   ]
  },
  {
   "cell_type": "code",
   "execution_count": 568,
   "metadata": {},
   "outputs": [
    {
     "data": {
      "text/plain": [
       "<seaborn.axisgrid.FacetGrid at 0x7f7c9302abe0>"
      ]
     },
     "execution_count": 568,
     "metadata": {},
     "output_type": "execute_result"
    },
    {
     "data": {
      "image/png": "[encoded data removed]",
      "text/plain": [
       "<Figure size 453.25x360 with 1 Axes>"
      ]
     },
     "metadata": {},
     "output_type": "display_data"
    }
   ],
   "source": [
    "sb.catplot('SEXO',data=df_accs,hue='DIA_SEMANA',kind=\"count\")"
   ]
  },
  {
   "cell_type": "code",
   "execution_count": 569,
   "metadata": {},
   "outputs": [
    {
     "data": {
      "text/plain": [
       "<seaborn.axisgrid.FacetGrid at 0x7f7c92ba4d68>"
      ]
     },
     "execution_count": 569,
     "metadata": {},
     "output_type": "execute_result"
    },
    {
     "data": {
      "image/png": "[encoded data removed]",
      "text/plain": [
       "<Figure size 453.25x360 with 1 Axes>"
      ]
     },
     "metadata": {},
     "output_type": "display_data"
    }
   ],
   "source": [
    "sb.catplot('LESIVIDAD',data=df_accs,hue='DIA_SEMANA',kind=\"count\")"
   ]
  },
  {
   "cell_type": "code",
   "execution_count": 570,
   "metadata": {},
   "outputs": [
    {
     "data": {
      "text/plain": [
       "<seaborn.axisgrid.FacetGrid at 0x7f7c92ae0898>"
      ]
     },
     "execution_count": 570,
     "metadata": {},
     "output_type": "execute_result"
    },
    {
     "data": {
      "image/png": "[encoded data removed]",
      "text/plain": [
       "<Figure size 453.25x360 with 1 Axes>"
      ]
     },
     "metadata": {},
     "output_type": "display_data"
    }
   ],
   "source": [
    "sb.catplot('EDAD_APROX',data=df_accs,hue='DIA_SEMANA',kind=\"count\")"
   ]
  },
  {
   "cell_type": "code",
   "execution_count": 571,
   "metadata": {},
   "outputs": [
    {
     "data": {
      "image/png": "[encoded data removed]",
      "text/plain": [
       "<Figure size 432x288 with 1 Axes>"
      ]
     },
     "metadata": {},
     "output_type": "display_data"
    }
   ],
   "source": [
    "plt.scatter(df_accs['DIA_SEMANA'].values, df_accs['DISTRITO'].values)\n",
    "plt.show()"
   ]
  },
  {
   "cell_type": "code",
   "execution_count": 572,
   "metadata": {},
   "outputs": [
    {
     "data": {
      "image/png": "[encoded data removed]",
      "text/plain": [
       "<Figure size 432x288 with 1 Axes>"
      ]
     },
     "metadata": {},
     "output_type": "display_data"
    }
   ],
   "source": [
    "plt.scatter(df_accs['DIA_SEMANA'].values, df_accs['TIPO_ACCIDENTE'].values)\n",
    "plt.show()"
   ]
  },
  {
   "cell_type": "code",
   "execution_count": 573,
   "metadata": {},
   "outputs": [
    {
     "data": {
      "image/png": "[encoded data removed]",
      "text/plain": [
       "<Figure size 432x288 with 1 Axes>"
      ]
     },
     "metadata": {},
     "output_type": "display_data"
    }
   ],
   "source": [
    "plt.scatter(df_accs['DIA_SEMANA'].values, df_accs['TIPO_VEHICULO'].values)\n",
    "plt.show()"
   ]
  },
  {
   "cell_type": "code",
   "execution_count": 574,
   "metadata": {},
   "outputs": [
    {
     "data": {
      "image/png": "[encoded data removed]",
      "text/plain": [
       "<Figure size 432x288 with 1 Axes>"
      ]
     },
     "metadata": {},
     "output_type": "display_data"
    }
   ],
   "source": [
    "plt.scatter(df_accs['DIA_SEMANA'].values, df_accs['TIPO_PERSONA'].values)\n",
    "plt.show()"
   ]
  },
  {
   "cell_type": "code",
   "execution_count": 575,
   "metadata": {},
   "outputs": [
    {
     "data": {
      "image/png": "[encoded data removed]",
      "text/plain": [
       "<Figure size 432x288 with 1 Axes>"
      ]
     },
     "metadata": {},
     "output_type": "display_data"
    }
   ],
   "source": [
    "plt.scatter(df_accs['DIA_SEMANA'].values, df_accs['SEXO'].values)\n",
    "plt.show()"
   ]
  },
  {
   "cell_type": "code",
   "execution_count": 576,
   "metadata": {},
   "outputs": [
    {
     "data": {
      "image/png": "[encoded data removed]",
      "text/plain": [
       "<Figure size 432x288 with 1 Axes>"
      ]
     },
     "metadata": {},
     "output_type": "display_data"
    }
   ],
   "source": [
    "plt.scatter(df_accs['DIA_SEMANA'].values, df_accs['LESIVIDAD'].values)\n",
    "plt.show()"
   ]
  },
  {
   "cell_type": "code",
   "execution_count": 577,
   "metadata": {},
   "outputs": [
    {
     "data": {
      "image/png": "[encoded data removed]",
      "text/plain": [
       "<Figure size 432x288 with 1 Axes>"
      ]
     },
     "metadata": {},
     "output_type": "display_data"
    }
   ],
   "source": [
    "plt.scatter(df_accs['DIA_SEMANA'].values, df_accs['EDAD_APROX'].values)\n",
    "plt.show()"
   ]
  },
  {
   "cell_type": "code",
   "execution_count": 578,
   "metadata": {},
   "outputs": [],
   "source": [
    "# Mapeo de datos"
   ]
  },
  {
   "cell_type": "code",
   "execution_count": 579,
   "metadata": {},
   "outputs": [],
   "source": [
    "#Filtro: Columnas que empiezan por xxx\n",
    "filtro_borrar = [col for col in df_accs if col.startswith('NUM_PERS')]\n",
    "# borrar columnas sobrantes:\n",
    "df_accs = df_accs.drop(columns=filtro_borrar)"
   ]
  },
  {
   "cell_type": "code",
   "execution_count": 580,
   "metadata": {},
   "outputs": [],
   "source": [
    "df_accs_lab = df_accs.copy()"
   ]
  },
  {
   "cell_type": "code",
   "execution_count": 581,
   "metadata": {},
   "outputs": [
    {
     "data": {
      "text/html": [
       "<div>\n",
       "<style scoped>\n",
       "    .dataframe tbody tr th:only-of-type {\n",
       "        vertical-align: middle;\n",
       "    }\n",
       "\n",
       "    .dataframe tbody tr th {\n",
       "        vertical-align: top;\n",
       "    }\n",
       "\n",
       "    .dataframe thead th {\n",
       "        text-align: right;\n",
       "    }\n",
       "</style>\n",
       "<table border=\"1\" class=\"dataframe\">\n",
       "  <thead>\n",
       "    <tr style=\"text-align: right;\">\n",
       "      <th></th>\n",
       "      <th>FECHA</th>\n",
       "      <th>HORA</th>\n",
       "      <th>DIA_SEMANA</th>\n",
       "      <th>DISTRITO</th>\n",
       "      <th>TIPO_ACCIDENTE</th>\n",
       "      <th>TIPO_VEHICULO</th>\n",
       "      <th>TIPO_PERSONA</th>\n",
       "      <th>SEXO</th>\n",
       "      <th>LESIVIDAD</th>\n",
       "      <th>EDAD_APROX</th>\n",
       "    </tr>\n",
       "  </thead>\n",
       "  <tbody>\n",
       "    <tr>\n",
       "      <th>0</th>\n",
       "      <td>01/01/2010</td>\n",
       "      <td>00:00</td>\n",
       "      <td>VIERNES</td>\n",
       "      <td>CHAMARTIN</td>\n",
       "      <td>COLISION_DOBLE</td>\n",
       "      <td>TURISMO</td>\n",
       "      <td>CONDUCTOR</td>\n",
       "      <td>HOMBRE</td>\n",
       "      <td>INGRESO_LEVE</td>\n",
       "      <td>20</td>\n",
       "    </tr>\n",
       "  </tbody>\n",
       "</table>\n",
       "</div>"
      ],
      "text/plain": [
       "        FECHA   HORA DIA_SEMANA   DISTRITO  TIPO_ACCIDENTE TIPO_VEHICULO  \\\n",
       "0  01/01/2010  00:00    VIERNES  CHAMARTIN  COLISION_DOBLE       TURISMO   \n",
       "\n",
       "  TIPO_PERSONA    SEXO     LESIVIDAD EDAD_APROX  \n",
       "0    CONDUCTOR  HOMBRE  INGRESO_LEVE         20  "
      ]
     },
     "execution_count": 581,
     "metadata": {},
     "output_type": "execute_result"
    }
   ],
   "source": [
    "df_accs.head(1)"
   ]
  },
  {
   "cell_type": "code",
   "execution_count": 582,
   "metadata": {},
   "outputs": [
    {
     "data": {
      "text/html": [
       "<div>\n",
       "<style scoped>\n",
       "    .dataframe tbody tr th:only-of-type {\n",
       "        vertical-align: middle;\n",
       "    }\n",
       "\n",
       "    .dataframe tbody tr th {\n",
       "        vertical-align: top;\n",
       "    }\n",
       "\n",
       "    .dataframe thead th {\n",
       "        text-align: right;\n",
       "    }\n",
       "</style>\n",
       "<table border=\"1\" class=\"dataframe\">\n",
       "  <thead>\n",
       "    <tr style=\"text-align: right;\">\n",
       "      <th></th>\n",
       "      <th>FECHA</th>\n",
       "      <th>HORA</th>\n",
       "      <th>DIA_SEMANA</th>\n",
       "      <th>DISTRITO</th>\n",
       "      <th>TIPO_ACCIDENTE</th>\n",
       "      <th>TIPO_VEHICULO</th>\n",
       "      <th>TIPO_PERSONA</th>\n",
       "      <th>SEXO</th>\n",
       "      <th>LESIVIDAD</th>\n",
       "      <th>EDAD_APROX</th>\n",
       "    </tr>\n",
       "  </thead>\n",
       "  <tbody>\n",
       "    <tr>\n",
       "      <th>0</th>\n",
       "      <td>01/01/2010</td>\n",
       "      <td>00:00</td>\n",
       "      <td>VIERNES</td>\n",
       "      <td>CHAMARTIN</td>\n",
       "      <td>COLISION_DOBLE</td>\n",
       "      <td>TURISMO</td>\n",
       "      <td>CONDUCTOR</td>\n",
       "      <td>HOMBRE</td>\n",
       "      <td>INGRESO_LEVE</td>\n",
       "      <td>20</td>\n",
       "    </tr>\n",
       "  </tbody>\n",
       "</table>\n",
       "</div>"
      ],
      "text/plain": [
       "        FECHA   HORA DIA_SEMANA   DISTRITO  TIPO_ACCIDENTE TIPO_VEHICULO  \\\n",
       "0  01/01/2010  00:00    VIERNES  CHAMARTIN  COLISION_DOBLE       TURISMO   \n",
       "\n",
       "  TIPO_PERSONA    SEXO     LESIVIDAD EDAD_APROX  \n",
       "0    CONDUCTOR  HOMBRE  INGRESO_LEVE         20  "
      ]
     },
     "execution_count": 582,
     "metadata": {},
     "output_type": "execute_result"
    }
   ],
   "source": [
    "df_accs_lab.head(1)"
   ]
  },
  {
   "cell_type": "code",
   "execution_count": 583,
   "metadata": {},
   "outputs": [
    {
     "data": {
      "text/plain": [
       "Index(['FECHA', 'HORA', 'DIA_SEMANA', 'DISTRITO', 'TIPO_ACCIDENTE',\n",
       "       'TIPO_VEHICULO', 'TIPO_PERSONA', 'SEXO', 'LESIVIDAD', 'EDAD_APROX'],\n",
       "      dtype='object')"
      ]
     },
     "execution_count": 583,
     "metadata": {},
     "output_type": "execute_result"
    }
   ],
   "source": [
    "df_accs.columns"
   ]
  },
  {
   "cell_type": "code",
   "execution_count": 584,
   "metadata": {},
   "outputs": [
    {
     "data": {
      "text/plain": [
       "Index(['FECHA', 'HORA', 'DIA_SEMANA', 'DISTRITO', 'TIPO_ACCIDENTE',\n",
       "       'TIPO_VEHICULO', 'TIPO_PERSONA', 'SEXO', 'LESIVIDAD', 'EDAD_APROX'],\n",
       "      dtype='object')"
      ]
     },
     "execution_count": 584,
     "metadata": {},
     "output_type": "execute_result"
    }
   ],
   "source": [
    "df_accs_lab.columns"
   ]
  },
  {
   "cell_type": "code",
   "execution_count": 585,
   "metadata": {},
   "outputs": [
    {
     "data": {
      "text/plain": [
       "FECHA             object\n",
       "HORA              object\n",
       "DIA_SEMANA        object\n",
       "DISTRITO          object\n",
       "TIPO_ACCIDENTE    object\n",
       "TIPO_VEHICULO     object\n",
       "TIPO_PERSONA      object\n",
       "SEXO              object\n",
       "LESIVIDAD         object\n",
       "EDAD_APROX        object\n",
       "dtype: object"
      ]
     },
     "execution_count": 585,
     "metadata": {},
     "output_type": "execute_result"
    }
   ],
   "source": [
    "df_accs.dtypes"
   ]
  },
  {
   "cell_type": "code",
   "execution_count": 586,
   "metadata": {},
   "outputs": [
    {
     "data": {
      "text/plain": [
       "FECHA             object\n",
       "HORA              object\n",
       "DIA_SEMANA        object\n",
       "DISTRITO          object\n",
       "TIPO_ACCIDENTE    object\n",
       "TIPO_VEHICULO     object\n",
       "TIPO_PERSONA      object\n",
       "SEXO              object\n",
       "LESIVIDAD         object\n",
       "EDAD_APROX        object\n",
       "dtype: object"
      ]
     },
     "execution_count": 586,
     "metadata": {},
     "output_type": "execute_result"
    }
   ],
   "source": [
    "df_accs_lab.dtypes"
   ]
  },
  {
   "cell_type": "code",
   "execution_count": 587,
   "metadata": {},
   "outputs": [],
   "source": [
    "# No haría falta: df_accs_lab[\"EDAD_APROX\"]=df_accs_lab['EDAD_APROX'].astype(np.int64)"
   ]
  },
  {
   "cell_type": "code",
   "execution_count": 588,
   "metadata": {},
   "outputs": [
    {
     "data": {
      "text/plain": [
       "FECHA             object\n",
       "HORA              object\n",
       "DIA_SEMANA        object\n",
       "DISTRITO          object\n",
       "TIPO_ACCIDENTE    object\n",
       "TIPO_VEHICULO     object\n",
       "TIPO_PERSONA      object\n",
       "SEXO              object\n",
       "LESIVIDAD         object\n",
       "EDAD_APROX        object\n",
       "dtype: object"
      ]
     },
     "execution_count": 588,
     "metadata": {},
     "output_type": "execute_result"
    }
   ],
   "source": [
    "df_accs_lab.dtypes"
   ]
  },
  {
   "cell_type": "code",
   "execution_count": 589,
   "metadata": {},
   "outputs": [
    {
     "name": "stdout",
     "output_type": "stream",
     "text": [
      "ls: cannot access '/home/dsc/Repos/TFM_Accident_reduction_plan_in_the_city_of_Madrid/02_Desarrollo/ditri*': No such file or directory\r\n"
     ]
    }
   ],
   "source": [
    "!ls -ltr {folder}/ditri*"
   ]
  },
  {
   "cell_type": "code",
   "execution_count": 590,
   "metadata": {},
   "outputs": [
    {
     "data": {
      "text/plain": [
       "'/home/dsc/Repos/TFM_Accident_reduction_plan_in_the_city_of_Madrid/02_Desarrollo'"
      ]
     },
     "execution_count": 590,
     "metadata": {},
     "output_type": "execute_result"
    }
   ],
   "source": [
    "import os\n",
    "os.getcwd()"
   ]
  },
  {
   "cell_type": "code",
   "execution_count": 591,
   "metadata": {},
   "outputs": [
    {
     "name": "stdout",
     "output_type": "stream",
     "text": [
      "-rw-rw-r-- 1 dsc dsc 1164 nov 22 17:41 distritos_municipio_madrid.csv\r\n"
     ]
    }
   ],
   "source": [
    "!ls -ltr distritos_municipio_madrid.csv"
   ]
  },
  {
   "cell_type": "code",
   "execution_count": 595,
   "metadata": {},
   "outputs": [],
   "source": [
    "df_distritos = pd.read_csv(\"distritos_municipio_madrid.csv\", sep=';', encoding='latin-1')"
   ]
  },
  {
   "cell_type": "code",
   "execution_count": 596,
   "metadata": {},
   "outputs": [
    {
     "data": {
      "text/plain": [
       "Index(['distrito_codigo', 'distrito_nombre', 'municipio_codigo',\n",
       "       'municipio_nombre', 'superficie_km2', 'densidad_por_km2'],\n",
       "      dtype='object')"
      ]
     },
     "execution_count": 596,
     "metadata": {},
     "output_type": "execute_result"
    }
   ],
   "source": [
    "df_distritos.columns"
   ]
  },
  {
   "cell_type": "code",
   "execution_count": 597,
   "metadata": {},
   "outputs": [
    {
     "data": {
      "text/html": [
       "<div>\n",
       "<style scoped>\n",
       "    .dataframe tbody tr th:only-of-type {\n",
       "        vertical-align: middle;\n",
       "    }\n",
       "\n",
       "    .dataframe tbody tr th {\n",
       "        vertical-align: top;\n",
       "    }\n",
       "\n",
       "    .dataframe thead th {\n",
       "        text-align: right;\n",
       "    }\n",
       "</style>\n",
       "<table border=\"1\" class=\"dataframe\">\n",
       "  <thead>\n",
       "    <tr style=\"text-align: right;\">\n",
       "      <th></th>\n",
       "      <th>distrito_codigo</th>\n",
       "      <th>distrito_nombre</th>\n",
       "      <th>municipio_codigo</th>\n",
       "      <th>municipio_nombre</th>\n",
       "      <th>superficie_km2</th>\n",
       "      <th>densidad_por_km2</th>\n",
       "    </tr>\n",
       "  </thead>\n",
       "  <tbody>\n",
       "    <tr>\n",
       "      <th>0</th>\n",
       "      <td>79601</td>\n",
       "      <td>Centro</td>\n",
       "      <td>796</td>\n",
       "      <td>Madrid</td>\n",
       "      <td>5.21</td>\n",
       "      <td>25340.69</td>\n",
       "    </tr>\n",
       "    <tr>\n",
       "      <th>1</th>\n",
       "      <td>79602</td>\n",
       "      <td>Arganzuela</td>\n",
       "      <td>796</td>\n",
       "      <td>Madrid</td>\n",
       "      <td>6.52</td>\n",
       "      <td>23306.44</td>\n",
       "    </tr>\n",
       "    <tr>\n",
       "      <th>2</th>\n",
       "      <td>79603</td>\n",
       "      <td>Retiro</td>\n",
       "      <td>796</td>\n",
       "      <td>Madrid</td>\n",
       "      <td>5.42</td>\n",
       "      <td>21867.53</td>\n",
       "    </tr>\n",
       "  </tbody>\n",
       "</table>\n",
       "</div>"
      ],
      "text/plain": [
       "   distrito_codigo  distrito_nombre  municipio_codigo municipio_nombre  \\\n",
       "0            79601          Centro                796           Madrid   \n",
       "1            79602      Arganzuela                796           Madrid   \n",
       "2            79603          Retiro                796           Madrid   \n",
       "\n",
       "   superficie_km2  densidad_por_km2  \n",
       "0            5.21          25340.69  \n",
       "1            6.52          23306.44  \n",
       "2            5.42          21867.53  "
      ]
     },
     "execution_count": 597,
     "metadata": {},
     "output_type": "execute_result"
    }
   ],
   "source": [
    "df_distritos.head(3)"
   ]
  },
  {
   "cell_type": "code",
   "execution_count": 598,
   "metadata": {},
   "outputs": [],
   "source": [
    "drop_elements = ['distrito_codigo', 'municipio_codigo', 'municipio_nombre']\n",
    "df_distritos_lab = df_distritos.drop(drop_elements, axis = 1)"
   ]
  },
  {
   "cell_type": "code",
   "execution_count": 599,
   "metadata": {},
   "outputs": [
    {
     "data": {
      "text/plain": [
       "Index(['distrito_nombre', 'superficie_km2', 'densidad_por_km2'], dtype='object')"
      ]
     },
     "execution_count": 599,
     "metadata": {},
     "output_type": "execute_result"
    }
   ],
   "source": [
    "df_distritos_lab.columns"
   ]
  },
  {
   "cell_type": "code",
   "execution_count": 600,
   "metadata": {},
   "outputs": [
    {
     "data": {
      "text/html": [
       "<div>\n",
       "<style scoped>\n",
       "    .dataframe tbody tr th:only-of-type {\n",
       "        vertical-align: middle;\n",
       "    }\n",
       "\n",
       "    .dataframe tbody tr th {\n",
       "        vertical-align: top;\n",
       "    }\n",
       "\n",
       "    .dataframe thead th {\n",
       "        text-align: right;\n",
       "    }\n",
       "</style>\n",
       "<table border=\"1\" class=\"dataframe\">\n",
       "  <thead>\n",
       "    <tr style=\"text-align: right;\">\n",
       "      <th></th>\n",
       "      <th>distrito_nombre</th>\n",
       "      <th>superficie_km2</th>\n",
       "      <th>densidad_por_km2</th>\n",
       "    </tr>\n",
       "  </thead>\n",
       "  <tbody>\n",
       "    <tr>\n",
       "      <th>0</th>\n",
       "      <td>Centro</td>\n",
       "      <td>5.21</td>\n",
       "      <td>25340.69</td>\n",
       "    </tr>\n",
       "    <tr>\n",
       "      <th>1</th>\n",
       "      <td>Arganzuela</td>\n",
       "      <td>6.52</td>\n",
       "      <td>23306.44</td>\n",
       "    </tr>\n",
       "    <tr>\n",
       "      <th>2</th>\n",
       "      <td>Retiro</td>\n",
       "      <td>5.42</td>\n",
       "      <td>21867.53</td>\n",
       "    </tr>\n",
       "  </tbody>\n",
       "</table>\n",
       "</div>"
      ],
      "text/plain": [
       "   distrito_nombre  superficie_km2  densidad_por_km2\n",
       "0          Centro             5.21          25340.69\n",
       "1      Arganzuela             6.52          23306.44\n",
       "2          Retiro             5.42          21867.53"
      ]
     },
     "execution_count": 600,
     "metadata": {},
     "output_type": "execute_result"
    }
   ],
   "source": [
    "df_distritos_lab.head(3)"
   ]
  },
  {
   "cell_type": "code",
   "execution_count": 601,
   "metadata": {},
   "outputs": [
    {
     "data": {
      "text/plain": [
       "distrito_nombre      object\n",
       "superficie_km2      float64\n",
       "densidad_por_km2    float64\n",
       "dtype: object"
      ]
     },
     "execution_count": 601,
     "metadata": {},
     "output_type": "execute_result"
    }
   ],
   "source": [
    "df_distritos_lab.dtypes"
   ]
  },
  {
   "cell_type": "code",
   "execution_count": 610,
   "metadata": {},
   "outputs": [
    {
     "data": {
      "text/plain": [
       "(21, 3)"
      ]
     },
     "execution_count": 610,
     "metadata": {},
     "output_type": "execute_result"
    }
   ],
   "source": [
    "df_distritos_lab.shape"
   ]
  },
  {
   "cell_type": "code",
   "execution_count": 603,
   "metadata": {},
   "outputs": [
    {
     "data": {
      "text/plain": [
       "Index(['FECHA', 'HORA', 'DIA_SEMANA', 'DISTRITO', 'TIPO_ACCIDENTE',\n",
       "       'TIPO_VEHICULO', 'TIPO_PERSONA', 'SEXO', 'LESIVIDAD', 'EDAD_APROX'],\n",
       "      dtype='object')"
      ]
     },
     "execution_count": 603,
     "metadata": {},
     "output_type": "execute_result"
    }
   ],
   "source": [
    "df_accs.columns"
   ]
  },
  {
   "cell_type": "code",
   "execution_count": 608,
   "metadata": {},
   "outputs": [],
   "source": [
    "df_distritos_lab = df_distritos_lab.rename(columns = {'distrito_nombre':'DISTRITO'})"
   ]
  },
  {
   "cell_type": "code",
   "execution_count": 609,
   "metadata": {},
   "outputs": [
    {
     "data": {
      "text/html": [
       "<div>\n",
       "<style scoped>\n",
       "    .dataframe tbody tr th:only-of-type {\n",
       "        vertical-align: middle;\n",
       "    }\n",
       "\n",
       "    .dataframe tbody tr th {\n",
       "        vertical-align: top;\n",
       "    }\n",
       "\n",
       "    .dataframe thead th {\n",
       "        text-align: right;\n",
       "    }\n",
       "</style>\n",
       "<table border=\"1\" class=\"dataframe\">\n",
       "  <thead>\n",
       "    <tr style=\"text-align: right;\">\n",
       "      <th></th>\n",
       "      <th>DISTRITO</th>\n",
       "      <th>superficie_km2</th>\n",
       "      <th>densidad_por_km2</th>\n",
       "    </tr>\n",
       "  </thead>\n",
       "  <tbody>\n",
       "    <tr>\n",
       "      <th>0</th>\n",
       "      <td>Centro</td>\n",
       "      <td>5.21</td>\n",
       "      <td>25340.69</td>\n",
       "    </tr>\n",
       "    <tr>\n",
       "      <th>1</th>\n",
       "      <td>Arganzuela</td>\n",
       "      <td>6.52</td>\n",
       "      <td>23306.44</td>\n",
       "    </tr>\n",
       "    <tr>\n",
       "      <th>2</th>\n",
       "      <td>Retiro</td>\n",
       "      <td>5.42</td>\n",
       "      <td>21867.53</td>\n",
       "    </tr>\n",
       "    <tr>\n",
       "      <th>3</th>\n",
       "      <td>Salamanca</td>\n",
       "      <td>5.36</td>\n",
       "      <td>26830.78</td>\n",
       "    </tr>\n",
       "    <tr>\n",
       "      <th>4</th>\n",
       "      <td>Chamartín</td>\n",
       "      <td>9.12</td>\n",
       "      <td>15723.25</td>\n",
       "    </tr>\n",
       "  </tbody>\n",
       "</table>\n",
       "</div>"
      ],
      "text/plain": [
       "          DISTRITO  superficie_km2  densidad_por_km2\n",
       "0          Centro             5.21          25340.69\n",
       "1      Arganzuela             6.52          23306.44\n",
       "2          Retiro             5.42          21867.53\n",
       "3       Salamanca             5.36          26830.78\n",
       "4       Chamartín             9.12          15723.25"
      ]
     },
     "execution_count": 609,
     "metadata": {},
     "output_type": "execute_result"
    }
   ],
   "source": [
    "df_distritos_lab.head()"
   ]
  },
  {
   "cell_type": "code",
   "execution_count": 611,
   "metadata": {},
   "outputs": [
    {
     "data": {
      "text/html": [
       "<div>\n",
       "<style scoped>\n",
       "    .dataframe tbody tr th:only-of-type {\n",
       "        vertical-align: middle;\n",
       "    }\n",
       "\n",
       "    .dataframe tbody tr th {\n",
       "        vertical-align: top;\n",
       "    }\n",
       "\n",
       "    .dataframe thead th {\n",
       "        text-align: right;\n",
       "    }\n",
       "</style>\n",
       "<table border=\"1\" class=\"dataframe\">\n",
       "  <thead>\n",
       "    <tr style=\"text-align: right;\">\n",
       "      <th></th>\n",
       "      <th>FECHA</th>\n",
       "      <th>HORA</th>\n",
       "      <th>DIA_SEMANA</th>\n",
       "      <th>DISTRITO</th>\n",
       "      <th>TIPO_ACCIDENTE</th>\n",
       "      <th>TIPO_VEHICULO</th>\n",
       "      <th>TIPO_PERSONA</th>\n",
       "      <th>SEXO</th>\n",
       "      <th>LESIVIDAD</th>\n",
       "      <th>EDAD_APROX</th>\n",
       "    </tr>\n",
       "  </thead>\n",
       "  <tbody>\n",
       "    <tr>\n",
       "      <th>0</th>\n",
       "      <td>01/01/2010</td>\n",
       "      <td>00:00</td>\n",
       "      <td>VIERNES</td>\n",
       "      <td>CHAMARTIN</td>\n",
       "      <td>COLISION_DOBLE</td>\n",
       "      <td>TURISMO</td>\n",
       "      <td>CONDUCTOR</td>\n",
       "      <td>HOMBRE</td>\n",
       "      <td>INGRESO_LEVE</td>\n",
       "      <td>20</td>\n",
       "    </tr>\n",
       "    <tr>\n",
       "      <th>1</th>\n",
       "      <td>01/01/2010</td>\n",
       "      <td>00:00</td>\n",
       "      <td>VIERNES</td>\n",
       "      <td>CHAMARTIN</td>\n",
       "      <td>COLISION_DOBLE</td>\n",
       "      <td>TURISMO</td>\n",
       "      <td>CONDUCTOR</td>\n",
       "      <td>HOMBRE</td>\n",
       "      <td>INGRESO_LEVE</td>\n",
       "      <td>50</td>\n",
       "    </tr>\n",
       "    <tr>\n",
       "      <th>2</th>\n",
       "      <td>01/01/2010</td>\n",
       "      <td>00:00</td>\n",
       "      <td>VIERNES</td>\n",
       "      <td>CHAMARTIN</td>\n",
       "      <td>COLISION_DOBLE</td>\n",
       "      <td>TURISMO</td>\n",
       "      <td>VIAJERO</td>\n",
       "      <td>MUJER</td>\n",
       "      <td>HERIDO_LEVE</td>\n",
       "      <td>40</td>\n",
       "    </tr>\n",
       "  </tbody>\n",
       "</table>\n",
       "</div>"
      ],
      "text/plain": [
       "        FECHA   HORA DIA_SEMANA   DISTRITO  TIPO_ACCIDENTE TIPO_VEHICULO  \\\n",
       "0  01/01/2010  00:00    VIERNES  CHAMARTIN  COLISION_DOBLE       TURISMO   \n",
       "1  01/01/2010  00:00    VIERNES  CHAMARTIN  COLISION_DOBLE       TURISMO   \n",
       "2  01/01/2010  00:00    VIERNES  CHAMARTIN  COLISION_DOBLE       TURISMO   \n",
       "\n",
       "  TIPO_PERSONA    SEXO     LESIVIDAD EDAD_APROX  \n",
       "0    CONDUCTOR  HOMBRE  INGRESO_LEVE         20  \n",
       "1    CONDUCTOR  HOMBRE  INGRESO_LEVE         50  \n",
       "2      VIAJERO   MUJER   HERIDO_LEVE         40  "
      ]
     },
     "execution_count": 611,
     "metadata": {},
     "output_type": "execute_result"
    }
   ],
   "source": [
    "df_accs.head(3)"
   ]
  },
  {
   "cell_type": "code",
   "execution_count": 614,
   "metadata": {},
   "outputs": [
    {
     "data": {
      "text/plain": [
       "array(['CHAMARTIN', 'PUENTE DE VALLECAS', 'CHAMBERI', 'RETIRO',\n",
       "       'SALAMANCA', 'CARABANCHEL', 'CIUDAD LINEAL', 'MONCLOA-ARAVACA',\n",
       "       'TETUAN', 'VILLA DE VALLECAS', 'MORATALAZ', 'ARGANZUELA',\n",
       "       'SAN BLAS', 'VILLAVERDE', 'HORTALEZA', 'FUENCARRAL-EL PARDO',\n",
       "       'VICALVARO', 'USERA', 'LATINA', 'BARAJAS', 'CENTRO'], dtype=object)"
      ]
     },
     "execution_count": 614,
     "metadata": {},
     "output_type": "execute_result"
    }
   ],
   "source": [
    "df_accs['DISTRITO'].unique()"
   ]
  },
  {
   "cell_type": "code",
   "execution_count": 615,
   "metadata": {},
   "outputs": [
    {
     "data": {
      "text/plain": [
       "array(['    Centro ', '    Arganzuela ', '    Retiro ', '    Salamanca ',\n",
       "       '    Chamartín ', '    Tetuan ', '    Chamberí ',\n",
       "       '    Fuencarral-El Pardo ', '    Moncloa-Aravaca ', '    Latina ',\n",
       "       '    Carabanchel ', '    Usera ', '    Puente de Vallecas ',\n",
       "       '    Moratalaz ', '    Ciudad Lineal ', '    Hortaleza ',\n",
       "       '    Villaverde ', '    Villa de Vallecas ', '    Vicálvaro ',\n",
       "       '    San Blas-Canillejas ', '    Barajas '], dtype=object)"
      ]
     },
     "execution_count": 615,
     "metadata": {},
     "output_type": "execute_result"
    }
   ],
   "source": [
    "df_distritos_lab['DISTRITO'].unique()"
   ]
  },
  {
   "cell_type": "code",
   "execution_count": 616,
   "metadata": {},
   "outputs": [],
   "source": [
    "# strip leading and trailing space only strings\n",
    "df_distritos_lab['DISTRITO'] = df_distritos_lab['DISTRITO'].str.strip()\n"
   ]
  },
  {
   "cell_type": "code",
   "execution_count": 617,
   "metadata": {},
   "outputs": [
    {
     "data": {
      "text/plain": [
       "array(['Centro', 'Arganzuela', 'Retiro', 'Salamanca', 'Chamartín',\n",
       "       'Tetuan', 'Chamberí', 'Fuencarral-El Pardo', 'Moncloa-Aravaca',\n",
       "       'Latina', 'Carabanchel', 'Usera', 'Puente de Vallecas',\n",
       "       'Moratalaz', 'Ciudad Lineal', 'Hortaleza', 'Villaverde',\n",
       "       'Villa de Vallecas', 'Vicálvaro', 'San Blas-Canillejas', 'Barajas'],\n",
       "      dtype=object)"
      ]
     },
     "execution_count": 617,
     "metadata": {},
     "output_type": "execute_result"
    }
   ],
   "source": [
    "df_distritos_lab['DISTRITO'].unique()"
   ]
  },
  {
   "cell_type": "code",
   "execution_count": 618,
   "metadata": {},
   "outputs": [
    {
     "data": {
      "text/plain": [
       "array(['CHAMARTIN', 'PUENTE DE VALLECAS', 'CHAMBERI', 'RETIRO',\n",
       "       'SALAMANCA', 'CARABANCHEL', 'CIUDAD LINEAL', 'MONCLOA-ARAVACA',\n",
       "       'TETUAN', 'VILLA DE VALLECAS', 'MORATALAZ', 'ARGANZUELA',\n",
       "       'SAN BLAS', 'VILLAVERDE', 'HORTALEZA', 'FUENCARRAL-EL PARDO',\n",
       "       'VICALVARO', 'USERA', 'LATINA', 'BARAJAS', 'CENTRO'], dtype=object)"
      ]
     },
     "execution_count": 618,
     "metadata": {},
     "output_type": "execute_result"
    }
   ],
   "source": [
    "df_accs['DISTRITO'].unique()"
   ]
  },
  {
   "cell_type": "code",
   "execution_count": 619,
   "metadata": {},
   "outputs": [],
   "source": [
    "df_distritos_lab['DISTRITO'] = df_distritos_lab['DISTRITO'].str.upper()"
   ]
  },
  {
   "cell_type": "code",
   "execution_count": 628,
   "metadata": {},
   "outputs": [
    {
     "data": {
      "text/plain": [
       "array(['CENTRO', 'ARGANZUELA', 'RETIRO', 'SALAMANCA', 'CHAMARTÍN',\n",
       "       'TETUAN', 'CHAMBERÍ', 'FUENCARRAL-EL PARDO', 'MONCLOA-ARAVACA',\n",
       "       'LATINA', 'CARABANCHEL', 'USERA', 'PUENTE DE VALLECAS',\n",
       "       'MORATALAZ', 'CIUDAD LINEAL', 'HORTALEZA', 'VILLAVERDE',\n",
       "       'VILLA DE VALLECAS', 'VICÁLVARO', 'SAN BLAS-CANILLEJAS', 'BARAJAS'],\n",
       "      dtype=object)"
      ]
     },
     "execution_count": 628,
     "metadata": {},
     "output_type": "execute_result"
    }
   ],
   "source": [
    "df_distritos_lab['DISTRITO'].unique()"
   ]
  },
  {
   "cell_type": "code",
   "execution_count": 629,
   "metadata": {},
   "outputs": [
    {
     "data": {
      "text/plain": [
       "array(['CHAMARTIN', 'PUENTE DE VALLECAS', 'CHAMBERI', 'RETIRO',\n",
       "       'SALAMANCA', 'CARABANCHEL', 'CIUDAD LINEAL', 'MONCLOA-ARAVACA',\n",
       "       'TETUAN', 'VILLA DE VALLECAS', 'MORATALAZ', 'ARGANZUELA',\n",
       "       'SAN BLAS', 'VILLAVERDE', 'HORTALEZA', 'FUENCARRAL-EL PARDO',\n",
       "       'VICALVARO', 'USERA', 'LATINA', 'BARAJAS', 'CENTRO'], dtype=object)"
      ]
     },
     "execution_count": 629,
     "metadata": {},
     "output_type": "execute_result"
    }
   ],
   "source": [
    "df_accs['DISTRITO'].unique()"
   ]
  },
  {
   "cell_type": "code",
   "execution_count": 630,
   "metadata": {},
   "outputs": [],
   "source": [
    "df_distritos_lab[\"DISTRITO\"] = df_distritos_lab[\"DISTRITO\"].replace({\"CHAMARTÍN\":\"CHAMARTIN\"}, regex=True)\n",
    "df_distritos_lab[\"DISTRITO\"] = df_distritos_lab[\"DISTRITO\"].replace({\"CHAMBERÍ\":\"CHAMBERI\"}, regex=True)\n",
    "df_distritos_lab[\"DISTRITO\"] = df_distritos_lab[\"DISTRITO\"].replace({\"VICÁLVARO\":\"VICALVARO\"}, regex=True)\n",
    "df_distritos_lab[\"DISTRITO\"] = df_distritos_lab[\"DISTRITO\"].replace({\"SAN BLAS-CANILLEJAS\":\"SAN BLAS\"}, regex=True)"
   ]
  },
  {
   "cell_type": "code",
   "execution_count": 631,
   "metadata": {},
   "outputs": [
    {
     "data": {
      "text/plain": [
       "array(['CENTRO', 'ARGANZUELA', 'RETIRO', 'SALAMANCA', 'CHAMARTIN',\n",
       "       'TETUAN', 'CHAMBERI', 'FUENCARRAL-EL PARDO', 'MONCLOA-ARAVACA',\n",
       "       'LATINA', 'CARABANCHEL', 'USERA', 'PUENTE DE VALLECAS',\n",
       "       'MORATALAZ', 'CIUDAD LINEAL', 'HORTALEZA', 'VILLAVERDE',\n",
       "       'VILLA DE VALLECAS', 'VICALVARO', 'SAN BLAS', 'BARAJAS'],\n",
       "      dtype=object)"
      ]
     },
     "execution_count": 631,
     "metadata": {},
     "output_type": "execute_result"
    }
   ],
   "source": [
    "df_distritos_lab['DISTRITO'].unique()"
   ]
  },
  {
   "cell_type": "code",
   "execution_count": 632,
   "metadata": {},
   "outputs": [
    {
     "data": {
      "text/html": [
       "<div>\n",
       "<style scoped>\n",
       "    .dataframe tbody tr th:only-of-type {\n",
       "        vertical-align: middle;\n",
       "    }\n",
       "\n",
       "    .dataframe tbody tr th {\n",
       "        vertical-align: top;\n",
       "    }\n",
       "\n",
       "    .dataframe thead th {\n",
       "        text-align: right;\n",
       "    }\n",
       "</style>\n",
       "<table border=\"1\" class=\"dataframe\">\n",
       "  <thead>\n",
       "    <tr style=\"text-align: right;\">\n",
       "      <th></th>\n",
       "      <th>FECHA</th>\n",
       "      <th>HORA</th>\n",
       "      <th>DIA_SEMANA</th>\n",
       "      <th>DISTRITO</th>\n",
       "      <th>TIPO_ACCIDENTE</th>\n",
       "      <th>TIPO_VEHICULO</th>\n",
       "      <th>TIPO_PERSONA</th>\n",
       "      <th>SEXO</th>\n",
       "      <th>LESIVIDAD</th>\n",
       "      <th>EDAD_APROX</th>\n",
       "      <th>superficie_km2</th>\n",
       "      <th>densidad_por_km2</th>\n",
       "    </tr>\n",
       "  </thead>\n",
       "  <tbody>\n",
       "    <tr>\n",
       "      <th>0</th>\n",
       "      <td>01/01/2010</td>\n",
       "      <td>00:00</td>\n",
       "      <td>VIERNES</td>\n",
       "      <td>CHAMARTIN</td>\n",
       "      <td>COLISION_DOBLE</td>\n",
       "      <td>TURISMO</td>\n",
       "      <td>CONDUCTOR</td>\n",
       "      <td>HOMBRE</td>\n",
       "      <td>INGRESO_LEVE</td>\n",
       "      <td>20</td>\n",
       "      <td>9.12</td>\n",
       "      <td>15723.25</td>\n",
       "    </tr>\n",
       "    <tr>\n",
       "      <th>1</th>\n",
       "      <td>01/01/2010</td>\n",
       "      <td>00:00</td>\n",
       "      <td>VIERNES</td>\n",
       "      <td>CHAMARTIN</td>\n",
       "      <td>COLISION_DOBLE</td>\n",
       "      <td>TURISMO</td>\n",
       "      <td>CONDUCTOR</td>\n",
       "      <td>HOMBRE</td>\n",
       "      <td>INGRESO_LEVE</td>\n",
       "      <td>50</td>\n",
       "      <td>9.12</td>\n",
       "      <td>15723.25</td>\n",
       "    </tr>\n",
       "    <tr>\n",
       "      <th>2</th>\n",
       "      <td>01/01/2010</td>\n",
       "      <td>00:00</td>\n",
       "      <td>VIERNES</td>\n",
       "      <td>CHAMARTIN</td>\n",
       "      <td>COLISION_DOBLE</td>\n",
       "      <td>TURISMO</td>\n",
       "      <td>VIAJERO</td>\n",
       "      <td>MUJER</td>\n",
       "      <td>HERIDO_LEVE</td>\n",
       "      <td>40</td>\n",
       "      <td>9.12</td>\n",
       "      <td>15723.25</td>\n",
       "    </tr>\n",
       "    <tr>\n",
       "      <th>3</th>\n",
       "      <td>03/01/2010</td>\n",
       "      <td>20:00</td>\n",
       "      <td>DOMINGO</td>\n",
       "      <td>CHAMARTIN</td>\n",
       "      <td>COLISION_DOBLE</td>\n",
       "      <td>NO_ASIGNADO</td>\n",
       "      <td>TESTIGO</td>\n",
       "      <td>NO_ASIGNADO</td>\n",
       "      <td>INGRESO_LEVE</td>\n",
       "      <td>NO_ASIGNADO</td>\n",
       "      <td>9.12</td>\n",
       "      <td>15723.25</td>\n",
       "    </tr>\n",
       "    <tr>\n",
       "      <th>4</th>\n",
       "      <td>03/01/2010</td>\n",
       "      <td>20:00</td>\n",
       "      <td>DOMINGO</td>\n",
       "      <td>CHAMARTIN</td>\n",
       "      <td>COLISION_DOBLE</td>\n",
       "      <td>NO_ASIGNADO</td>\n",
       "      <td>TESTIGO</td>\n",
       "      <td>HOMBRE</td>\n",
       "      <td>INGRESO_LEVE</td>\n",
       "      <td>45</td>\n",
       "      <td>9.12</td>\n",
       "      <td>15723.25</td>\n",
       "    </tr>\n",
       "    <tr>\n",
       "      <th>...</th>\n",
       "      <td>...</td>\n",
       "      <td>...</td>\n",
       "      <td>...</td>\n",
       "      <td>...</td>\n",
       "      <td>...</td>\n",
       "      <td>...</td>\n",
       "      <td>...</td>\n",
       "      <td>...</td>\n",
       "      <td>...</td>\n",
       "      <td>...</td>\n",
       "      <td>...</td>\n",
       "      <td>...</td>\n",
       "    </tr>\n",
       "    <tr>\n",
       "      <th>252993</th>\n",
       "      <td>30/12/2018</td>\n",
       "      <td>16:00</td>\n",
       "      <td>DOMINGO</td>\n",
       "      <td>CENTRO</td>\n",
       "      <td>ATROPELLO</td>\n",
       "      <td>MOTOCICLETA</td>\n",
       "      <td>CONDUCTOR</td>\n",
       "      <td>HOMBRE</td>\n",
       "      <td>INGRESO_LEVE</td>\n",
       "      <td>50</td>\n",
       "      <td>5.21</td>\n",
       "      <td>25340.69</td>\n",
       "    </tr>\n",
       "    <tr>\n",
       "      <th>252994</th>\n",
       "      <td>31/12/2018</td>\n",
       "      <td>21:00</td>\n",
       "      <td>LUNES</td>\n",
       "      <td>CENTRO</td>\n",
       "      <td>COLISION_DOBLE</td>\n",
       "      <td>TURISMO</td>\n",
       "      <td>CONDUCTOR</td>\n",
       "      <td>HOMBRE</td>\n",
       "      <td>INGRESO_LEVE</td>\n",
       "      <td>50</td>\n",
       "      <td>5.21</td>\n",
       "      <td>25340.69</td>\n",
       "    </tr>\n",
       "    <tr>\n",
       "      <th>252995</th>\n",
       "      <td>31/12/2018</td>\n",
       "      <td>21:00</td>\n",
       "      <td>LUNES</td>\n",
       "      <td>CENTRO</td>\n",
       "      <td>COLISION_DOBLE</td>\n",
       "      <td>AUTO_TAXI</td>\n",
       "      <td>CONDUCTOR</td>\n",
       "      <td>HOMBRE</td>\n",
       "      <td>INGRESO_LEVE</td>\n",
       "      <td>30</td>\n",
       "      <td>5.21</td>\n",
       "      <td>25340.69</td>\n",
       "    </tr>\n",
       "    <tr>\n",
       "      <th>252996</th>\n",
       "      <td>31/12/2018</td>\n",
       "      <td>21:00</td>\n",
       "      <td>LUNES</td>\n",
       "      <td>CENTRO</td>\n",
       "      <td>COLISION_DOBLE</td>\n",
       "      <td>AUTO_TAXI</td>\n",
       "      <td>VIAJERO</td>\n",
       "      <td>MUJER</td>\n",
       "      <td>INGRESO_LEVE</td>\n",
       "      <td>25</td>\n",
       "      <td>5.21</td>\n",
       "      <td>25340.69</td>\n",
       "    </tr>\n",
       "    <tr>\n",
       "      <th>252997</th>\n",
       "      <td>31/12/2018</td>\n",
       "      <td>21:00</td>\n",
       "      <td>LUNES</td>\n",
       "      <td>CENTRO</td>\n",
       "      <td>COLISION_DOBLE</td>\n",
       "      <td>AUTO_TAXI</td>\n",
       "      <td>VIAJERO</td>\n",
       "      <td>MUJER</td>\n",
       "      <td>HERIDO_LEVE</td>\n",
       "      <td>25</td>\n",
       "      <td>5.21</td>\n",
       "      <td>25340.69</td>\n",
       "    </tr>\n",
       "  </tbody>\n",
       "</table>\n",
       "<p>252998 rows × 12 columns</p>\n",
       "</div>"
      ],
      "text/plain": [
       "             FECHA   HORA DIA_SEMANA   DISTRITO  TIPO_ACCIDENTE TIPO_VEHICULO  \\\n",
       "0       01/01/2010  00:00    VIERNES  CHAMARTIN  COLISION_DOBLE       TURISMO   \n",
       "1       01/01/2010  00:00    VIERNES  CHAMARTIN  COLISION_DOBLE       TURISMO   \n",
       "2       01/01/2010  00:00    VIERNES  CHAMARTIN  COLISION_DOBLE       TURISMO   \n",
       "3       03/01/2010  20:00    DOMINGO  CHAMARTIN  COLISION_DOBLE   NO_ASIGNADO   \n",
       "4       03/01/2010  20:00    DOMINGO  CHAMARTIN  COLISION_DOBLE   NO_ASIGNADO   \n",
       "...            ...    ...        ...        ...             ...           ...   \n",
       "252993  30/12/2018  16:00    DOMINGO     CENTRO       ATROPELLO   MOTOCICLETA   \n",
       "252994  31/12/2018  21:00      LUNES     CENTRO  COLISION_DOBLE       TURISMO   \n",
       "252995  31/12/2018  21:00      LUNES     CENTRO  COLISION_DOBLE     AUTO_TAXI   \n",
       "252996  31/12/2018  21:00      LUNES     CENTRO  COLISION_DOBLE     AUTO_TAXI   \n",
       "252997  31/12/2018  21:00      LUNES     CENTRO  COLISION_DOBLE     AUTO_TAXI   \n",
       "\n",
       "       TIPO_PERSONA         SEXO     LESIVIDAD   EDAD_APROX  superficie_km2  \\\n",
       "0         CONDUCTOR       HOMBRE  INGRESO_LEVE           20            9.12   \n",
       "1         CONDUCTOR       HOMBRE  INGRESO_LEVE           50            9.12   \n",
       "2           VIAJERO        MUJER   HERIDO_LEVE           40            9.12   \n",
       "3           TESTIGO  NO_ASIGNADO  INGRESO_LEVE  NO_ASIGNADO            9.12   \n",
       "4           TESTIGO       HOMBRE  INGRESO_LEVE           45            9.12   \n",
       "...             ...          ...           ...          ...             ...   \n",
       "252993    CONDUCTOR       HOMBRE  INGRESO_LEVE           50            5.21   \n",
       "252994    CONDUCTOR       HOMBRE  INGRESO_LEVE           50            5.21   \n",
       "252995    CONDUCTOR       HOMBRE  INGRESO_LEVE           30            5.21   \n",
       "252996      VIAJERO        MUJER  INGRESO_LEVE           25            5.21   \n",
       "252997      VIAJERO        MUJER   HERIDO_LEVE           25            5.21   \n",
       "\n",
       "        densidad_por_km2  \n",
       "0               15723.25  \n",
       "1               15723.25  \n",
       "2               15723.25  \n",
       "3               15723.25  \n",
       "4               15723.25  \n",
       "...                  ...  \n",
       "252993          25340.69  \n",
       "252994          25340.69  \n",
       "252995          25340.69  \n",
       "252996          25340.69  \n",
       "252997          25340.69  \n",
       "\n",
       "[252998 rows x 12 columns]"
      ]
     },
     "execution_count": 632,
     "metadata": {},
     "output_type": "execute_result"
    }
   ],
   "source": [
    "from functools import reduce\n",
    "df_accs_join_dist = [df_accs, df_distritos_lab]\n",
    "df_accs_join_dist = reduce(lambda left,right: pd.merge(left,right, on=['DISTRITO']), df_accs_join_dist)\n",
    "df_accs_join_dist"
   ]
  },
  {
   "cell_type": "code",
   "execution_count": 633,
   "metadata": {},
   "outputs": [
    {
     "data": {
      "text/plain": [
       "(252998, 12)"
      ]
     },
     "execution_count": 633,
     "metadata": {},
     "output_type": "execute_result"
    }
   ],
   "source": [
    "df_accs_join_dist.shape"
   ]
  },
  {
   "cell_type": "code",
   "execution_count": 634,
   "metadata": {},
   "outputs": [
    {
     "data": {
      "text/plain": [
       "Index(['FECHA', 'HORA', 'DIA_SEMANA', 'DISTRITO', 'TIPO_ACCIDENTE',\n",
       "       'TIPO_VEHICULO', 'TIPO_PERSONA', 'SEXO', 'LESIVIDAD', 'EDAD_APROX',\n",
       "       'superficie_km2', 'densidad_por_km2'],\n",
       "      dtype='object')"
      ]
     },
     "execution_count": 634,
     "metadata": {},
     "output_type": "execute_result"
    }
   ],
   "source": [
    "df_accs_join_dist.columns"
   ]
  },
  {
   "cell_type": "code",
   "execution_count": 637,
   "metadata": {},
   "outputs": [],
   "source": [
    "df_accs_join_dist = df_accs_join_dist.rename(columns = {'superficie_km2':'SUP_KM2'})\n",
    "df_accs_join_dist = df_accs_join_dist.rename(columns = {'densidad_por_km2':'DENSIDAD_KM2'})"
   ]
  },
  {
   "cell_type": "code",
   "execution_count": 638,
   "metadata": {},
   "outputs": [
    {
     "data": {
      "text/plain": [
       "Index(['FECHA', 'HORA', 'DIA_SEMANA', 'DISTRITO', 'TIPO_ACCIDENTE',\n",
       "       'TIPO_VEHICULO', 'TIPO_PERSONA', 'SEXO', 'LESIVIDAD', 'EDAD_APROX',\n",
       "       'SUP_KM2', 'DENSIDAD_KM2'],\n",
       "      dtype='object')"
      ]
     },
     "execution_count": 638,
     "metadata": {},
     "output_type": "execute_result"
    }
   ],
   "source": [
    "df_accs_join_dist.columns"
   ]
  },
  {
   "cell_type": "code",
   "execution_count": 639,
   "metadata": {},
   "outputs": [],
   "source": [
    "# Etiquetamos mediante One Hot Encoding\n",
    "from sklearn.preprocessing import LabelEncoder\n",
    "lab = LabelEncoder() "
   ]
  },
  {
   "cell_type": "code",
   "execution_count": 640,
   "metadata": {},
   "outputs": [],
   "source": [
    "df_accs_join_dist['FECHA']= lab.fit_transform(df_accs_join_dist['FECHA'])\n",
    "df_accs_join_dist['HORA']= lab.fit_transform(df_accs_join_dist['HORA'])\n",
    "df_accs_join_dist['DIA_SEMANA']= lab.fit_transform(df_accs_join_dist['DIA_SEMANA'])\n",
    "df_accs_join_dist['DISTRITO']= lab.fit_transform(df_accs_join_dist['DISTRITO'])\n",
    "df_accs_join_dist['TIPO_ACCIDENTE']= lab.fit_transform(df_accs_join_dist['TIPO_ACCIDENTE'])\n",
    "df_accs_join_dist['TIPO_VEHICULO']= lab.fit_transform(df_accs_join_dist['TIPO_VEHICULO'])\n",
    "df_accs_join_dist['TIPO_PERSONA']= lab.fit_transform(df_accs_join_dist['TIPO_PERSONA'])\n",
    "df_accs_join_dist['SEXO']= lab.fit_transform(df_accs_join_dist['SEXO'])\n",
    "df_accs_join_dist['LESIVIDAD']= lab.fit_transform(df_accs_join_dist['LESIVIDAD'])\n",
    "## Para escalabilizar los datos de la EDAD_APROX y poder incluirlos, los transformamos.\n",
    "df_accs_join_dist['EDAD_APROX']= lab.fit_transform(df_accs_join_dist['EDAD_APROX'])\n",
    "df_accs_join_dist['SUP_KM2']= lab.fit_transform(df_accs_join_dist['SUP_KM2'])\n",
    "df_accs_join_dist['DENSIDAD_KM2']= lab.fit_transform(df_accs_join_dist['DENSIDAD_KM2'])"
   ]
  },
  {
   "cell_type": "code",
   "execution_count": 641,
   "metadata": {},
   "outputs": [
    {
     "data": {
      "text/plain": [
       "FECHA             int64\n",
       "HORA              int64\n",
       "DIA_SEMANA        int64\n",
       "DISTRITO          int64\n",
       "TIPO_ACCIDENTE    int64\n",
       "TIPO_VEHICULO     int64\n",
       "TIPO_PERSONA      int64\n",
       "SEXO              int64\n",
       "LESIVIDAD         int64\n",
       "EDAD_APROX        int64\n",
       "SUP_KM2           int64\n",
       "DENSIDAD_KM2      int64\n",
       "dtype: object"
      ]
     },
     "execution_count": 641,
     "metadata": {},
     "output_type": "execute_result"
    }
   ],
   "source": [
    "df_accs_join_dist.dtypes"
   ]
  },
  {
   "cell_type": "code",
   "execution_count": 642,
   "metadata": {},
   "outputs": [
    {
     "data": {
      "text/html": [
       "<div>\n",
       "<style scoped>\n",
       "    .dataframe tbody tr th:only-of-type {\n",
       "        vertical-align: middle;\n",
       "    }\n",
       "\n",
       "    .dataframe tbody tr th {\n",
       "        vertical-align: top;\n",
       "    }\n",
       "\n",
       "    .dataframe thead th {\n",
       "        text-align: right;\n",
       "    }\n",
       "</style>\n",
       "<table border=\"1\" class=\"dataframe\">\n",
       "  <thead>\n",
       "    <tr style=\"text-align: right;\">\n",
       "      <th></th>\n",
       "      <th>FECHA</th>\n",
       "      <th>HORA</th>\n",
       "      <th>DIA_SEMANA</th>\n",
       "      <th>DISTRITO</th>\n",
       "      <th>TIPO_ACCIDENTE</th>\n",
       "      <th>TIPO_VEHICULO</th>\n",
       "      <th>TIPO_PERSONA</th>\n",
       "      <th>SEXO</th>\n",
       "      <th>LESIVIDAD</th>\n",
       "      <th>EDAD_APROX</th>\n",
       "      <th>SUP_KM2</th>\n",
       "      <th>DENSIDAD_KM2</th>\n",
       "    </tr>\n",
       "  </thead>\n",
       "  <tbody>\n",
       "    <tr>\n",
       "      <th>0</th>\n",
       "      <td>0</td>\n",
       "      <td>0</td>\n",
       "      <td>6</td>\n",
       "      <td>4</td>\n",
       "      <td>7</td>\n",
       "      <td>9</td>\n",
       "      <td>0</td>\n",
       "      <td>0</td>\n",
       "      <td>2</td>\n",
       "      <td>3</td>\n",
       "      <td>8</td>\n",
       "      <td>11</td>\n",
       "    </tr>\n",
       "  </tbody>\n",
       "</table>\n",
       "</div>"
      ],
      "text/plain": [
       "   FECHA  HORA  DIA_SEMANA  DISTRITO  TIPO_ACCIDENTE  TIPO_VEHICULO  \\\n",
       "0      0     0           6         4               7              9   \n",
       "\n",
       "   TIPO_PERSONA  SEXO  LESIVIDAD  EDAD_APROX  SUP_KM2  DENSIDAD_KM2  \n",
       "0             0     0          2           3        8            11  "
      ]
     },
     "execution_count": 642,
     "metadata": {},
     "output_type": "execute_result"
    }
   ],
   "source": [
    "df_accs_join_dist.head(1)"
   ]
  },
  {
   "cell_type": "code",
   "execution_count": 643,
   "metadata": {},
   "outputs": [
    {
     "data": {
      "text/plain": [
       "array([   0,  216,  324, ..., 1587, 3264, 2404])"
      ]
     },
     "execution_count": 643,
     "metadata": {},
     "output_type": "execute_result"
    }
   ],
   "source": [
    "df_accs_join_dist['FECHA'].unique()"
   ]
  },
  {
   "cell_type": "code",
   "execution_count": 644,
   "metadata": {},
   "outputs": [
    {
     "data": {
      "text/plain": [
       "array([ 0, 20, 22, 14, 17, 21,  9, 11, 18, 13, 15, 16, 19, 12,  5,  7,  2,\n",
       "       10,  1,  8,  4,  3,  6, 23])"
      ]
     },
     "execution_count": 644,
     "metadata": {},
     "output_type": "execute_result"
    }
   ],
   "source": [
    "df_accs_join_dist['HORA'].unique()"
   ]
  },
  {
   "cell_type": "code",
   "execution_count": 645,
   "metadata": {},
   "outputs": [
    {
     "data": {
      "text/plain": [
       "array([6, 0, 2, 4, 1, 5, 3])"
      ]
     },
     "execution_count": 645,
     "metadata": {},
     "output_type": "execute_result"
    }
   ],
   "source": [
    "df_accs_join_dist['DIA_SEMANA'].unique()"
   ]
  },
  {
   "cell_type": "code",
   "execution_count": 646,
   "metadata": {},
   "outputs": [
    {
     "data": {
      "text/plain": [
       "array([ 4, 12,  5, 13, 14,  2,  6, 10, 16, 19, 11,  0, 15, 20,  8,  7, 18,\n",
       "       17,  9,  1,  3])"
      ]
     },
     "execution_count": 646,
     "metadata": {},
     "output_type": "execute_result"
    }
   ],
   "source": [
    "df_accs_join_dist['DISTRITO'].unique()"
   ]
  },
  {
   "cell_type": "code",
   "execution_count": 647,
   "metadata": {},
   "outputs": [
    {
     "data": {
      "text/plain": [
       "array([ 7,  2,  8,  3,  6,  0, 10,  5,  9,  1,  4])"
      ]
     },
     "execution_count": 647,
     "metadata": {},
     "output_type": "execute_result"
    }
   ],
   "source": [
    "df_accs_join_dist['TIPO_ACCIDENTE'].unique()"
   ]
  },
  {
   "cell_type": "code",
   "execution_count": 649,
   "metadata": {},
   "outputs": [
    {
     "data": {
      "text/plain": [
       "array([ 9,  8,  5,  7,  6,  2,  4, 10,  1,  3,  0, 11])"
      ]
     },
     "execution_count": 649,
     "metadata": {},
     "output_type": "execute_result"
    }
   ],
   "source": [
    "df_accs_join_dist['TIPO_VEHICULO'].unique()"
   ]
  },
  {
   "cell_type": "code",
   "execution_count": 650,
   "metadata": {},
   "outputs": [
    {
     "data": {
      "text/plain": [
       "array([0, 3, 2, 1])"
      ]
     },
     "execution_count": 650,
     "metadata": {},
     "output_type": "execute_result"
    }
   ],
   "source": [
    "df_accs_join_dist['TIPO_PERSONA'].unique()"
   ]
  },
  {
   "cell_type": "code",
   "execution_count": 651,
   "metadata": {},
   "outputs": [
    {
     "data": {
      "text/plain": [
       "array([0, 1, 2])"
      ]
     },
     "execution_count": 651,
     "metadata": {},
     "output_type": "execute_result"
    }
   ],
   "source": [
    "df_accs_join_dist['SEXO'].unique()"
   ]
  },
  {
   "cell_type": "code",
   "execution_count": 652,
   "metadata": {},
   "outputs": [
    {
     "data": {
      "text/plain": [
       "array([2, 1, 0, 4, 3])"
      ]
     },
     "execution_count": 652,
     "metadata": {},
     "output_type": "execute_result"
    }
   ],
   "source": [
    "df_accs_join_dist['LESIVIDAD'].unique()"
   ]
  },
  {
   "cell_type": "code",
   "execution_count": 653,
   "metadata": {},
   "outputs": [
    {
     "data": {
      "text/plain": [
       "array([ 3,  9,  7, 14,  8,  6,  5, 10,  4, 13, 12,  2,  1, 11,  0])"
      ]
     },
     "execution_count": 653,
     "metadata": {},
     "output_type": "execute_result"
    }
   ],
   "source": [
    "df_accs_join_dist['EDAD_APROX'].unique()"
   ]
  },
  {
   "cell_type": "code",
   "execution_count": 654,
   "metadata": {},
   "outputs": [
    {
     "data": {
      "text/plain": [
       "array([ 8, 11,  0,  4,  2, 10,  9, 18,  3, 19,  5,  6, 13, 12, 15, 20, 16,\n",
       "        7, 14, 17,  1])"
      ]
     },
     "execution_count": 654,
     "metadata": {},
     "output_type": "execute_result"
    }
   ],
   "source": [
    "df_accs_join_dist['SUP_KM2'].unique()"
   ]
  },
  {
   "cell_type": "code",
   "execution_count": 655,
   "metadata": {},
   "outputs": [
    {
     "data": {
      "text/plain": [
       "array([11,  9, 20, 15, 18, 12, 14,  4, 19,  3, 10, 16,  5,  7,  6,  0,  2,\n",
       "       13,  8,  1, 17])"
      ]
     },
     "execution_count": 655,
     "metadata": {},
     "output_type": "execute_result"
    }
   ],
   "source": [
    "df_accs_join_dist['DENSIDAD_KM2'].unique()"
   ]
  },
  {
   "cell_type": "code",
   "execution_count": 657,
   "metadata": {},
   "outputs": [
    {
     "data": {
      "text/plain": [
       "Index(['FECHA', 'HORA', 'DIA_SEMANA', 'DISTRITO', 'TIPO_ACCIDENTE',\n",
       "       'TIPO_VEHICULO', 'TIPO_PERSONA', 'SEXO', 'LESIVIDAD', 'EDAD_APROX',\n",
       "       'SUP_KM2', 'DENSIDAD_KM2'],\n",
       "      dtype='object')"
      ]
     },
     "execution_count": 657,
     "metadata": {},
     "output_type": "execute_result"
    }
   ],
   "source": [
    "df_accs_join_dist.columns"
   ]
  },
  {
   "cell_type": "code",
   "execution_count": 658,
   "metadata": {},
   "outputs": [
    {
     "data": {
      "text/html": [
       "<div>\n",
       "<style scoped>\n",
       "    .dataframe tbody tr th:only-of-type {\n",
       "        vertical-align: middle;\n",
       "    }\n",
       "\n",
       "    .dataframe tbody tr th {\n",
       "        vertical-align: top;\n",
       "    }\n",
       "\n",
       "    .dataframe thead th {\n",
       "        text-align: right;\n",
       "    }\n",
       "</style>\n",
       "<table border=\"1\" class=\"dataframe\">\n",
       "  <thead>\n",
       "    <tr style=\"text-align: right;\">\n",
       "      <th></th>\n",
       "      <th>FECHA</th>\n",
       "      <th>HORA</th>\n",
       "      <th>DIA_SEMANA</th>\n",
       "      <th>DISTRITO</th>\n",
       "      <th>TIPO_ACCIDENTE</th>\n",
       "      <th>TIPO_VEHICULO</th>\n",
       "      <th>TIPO_PERSONA</th>\n",
       "      <th>SEXO</th>\n",
       "      <th>LESIVIDAD</th>\n",
       "      <th>EDAD_APROX</th>\n",
       "      <th>SUP_KM2</th>\n",
       "      <th>DENSIDAD_KM2</th>\n",
       "    </tr>\n",
       "  </thead>\n",
       "  <tbody>\n",
       "    <tr>\n",
       "      <th>0</th>\n",
       "      <td>0</td>\n",
       "      <td>0</td>\n",
       "      <td>6</td>\n",
       "      <td>4</td>\n",
       "      <td>7</td>\n",
       "      <td>9</td>\n",
       "      <td>0</td>\n",
       "      <td>0</td>\n",
       "      <td>2</td>\n",
       "      <td>3</td>\n",
       "      <td>8</td>\n",
       "      <td>11</td>\n",
       "    </tr>\n",
       "    <tr>\n",
       "      <th>1</th>\n",
       "      <td>0</td>\n",
       "      <td>0</td>\n",
       "      <td>6</td>\n",
       "      <td>4</td>\n",
       "      <td>7</td>\n",
       "      <td>9</td>\n",
       "      <td>0</td>\n",
       "      <td>0</td>\n",
       "      <td>2</td>\n",
       "      <td>9</td>\n",
       "      <td>8</td>\n",
       "      <td>11</td>\n",
       "    </tr>\n",
       "    <tr>\n",
       "      <th>2</th>\n",
       "      <td>0</td>\n",
       "      <td>0</td>\n",
       "      <td>6</td>\n",
       "      <td>4</td>\n",
       "      <td>7</td>\n",
       "      <td>9</td>\n",
       "      <td>3</td>\n",
       "      <td>1</td>\n",
       "      <td>1</td>\n",
       "      <td>7</td>\n",
       "      <td>8</td>\n",
       "      <td>11</td>\n",
       "    </tr>\n",
       "  </tbody>\n",
       "</table>\n",
       "</div>"
      ],
      "text/plain": [
       "   FECHA  HORA  DIA_SEMANA  DISTRITO  TIPO_ACCIDENTE  TIPO_VEHICULO  \\\n",
       "0      0     0           6         4               7              9   \n",
       "1      0     0           6         4               7              9   \n",
       "2      0     0           6         4               7              9   \n",
       "\n",
       "   TIPO_PERSONA  SEXO  LESIVIDAD  EDAD_APROX  SUP_KM2  DENSIDAD_KM2  \n",
       "0             0     0          2           3        8            11  \n",
       "1             0     0          2           9        8            11  \n",
       "2             3     1          1           7        8            11  "
      ]
     },
     "execution_count": 658,
     "metadata": {},
     "output_type": "execute_result"
    }
   ],
   "source": [
    "df_accs_join_dist.head(3)"
   ]
  },
  {
   "cell_type": "code",
   "execution_count": 659,
   "metadata": {},
   "outputs": [
    {
     "data": {
      "text/plain": [
       "FECHA             252998\n",
       "HORA              252998\n",
       "DIA_SEMANA        252998\n",
       "DISTRITO          252998\n",
       "TIPO_ACCIDENTE    252998\n",
       "TIPO_VEHICULO     252998\n",
       "TIPO_PERSONA      252998\n",
       "SEXO              252998\n",
       "LESIVIDAD         252998\n",
       "EDAD_APROX        252998\n",
       "SUP_KM2           252998\n",
       "DENSIDAD_KM2      252998\n",
       "dtype: int64"
      ]
     },
     "execution_count": 659,
     "metadata": {},
     "output_type": "execute_result"
    }
   ],
   "source": [
    "df_accs_join_dist.count()"
   ]
  },
  {
   "cell_type": "code",
   "execution_count": 396,
   "metadata": {},
   "outputs": [],
   "source": [
    "#drop_elements = ['FECHA','HORA']\n",
    "#df_accs_lab = df_accs_lab.drop(drop_elements, axis = 1)"
   ]
  },
  {
   "cell_type": "code",
   "execution_count": 397,
   "metadata": {},
   "outputs": [],
   "source": [
    "# Mirar datos mapeados"
   ]
  },
  {
   "cell_type": "code",
   "execution_count": 661,
   "metadata": {},
   "outputs": [
    {
     "data": {
      "text/html": [
       "<div>\n",
       "<style scoped>\n",
       "    .dataframe tbody tr th:only-of-type {\n",
       "        vertical-align: middle;\n",
       "    }\n",
       "\n",
       "    .dataframe tbody tr th {\n",
       "        vertical-align: top;\n",
       "    }\n",
       "\n",
       "    .dataframe thead tr th {\n",
       "        text-align: left;\n",
       "    }\n",
       "\n",
       "    .dataframe thead tr:last-of-type th {\n",
       "        text-align: right;\n",
       "    }\n",
       "</style>\n",
       "<table border=\"1\" class=\"dataframe\">\n",
       "  <thead>\n",
       "    <tr>\n",
       "      <th></th>\n",
       "      <th colspan=\"2\" halign=\"left\">FECHA</th>\n",
       "    </tr>\n",
       "    <tr>\n",
       "      <th></th>\n",
       "      <th>mean</th>\n",
       "      <th>count</th>\n",
       "    </tr>\n",
       "    <tr>\n",
       "      <th>DIA_SEMANA</th>\n",
       "      <th></th>\n",
       "      <th></th>\n",
       "    </tr>\n",
       "  </thead>\n",
       "  <tbody>\n",
       "    <tr>\n",
       "      <th>0</th>\n",
       "      <td>1635.829498</td>\n",
       "      <td>27249</td>\n",
       "    </tr>\n",
       "    <tr>\n",
       "      <th>1</th>\n",
       "      <td>1658.188534</td>\n",
       "      <td>38794</td>\n",
       "    </tr>\n",
       "    <tr>\n",
       "      <th>2</th>\n",
       "      <td>1649.947247</td>\n",
       "      <td>36301</td>\n",
       "    </tr>\n",
       "    <tr>\n",
       "      <th>3</th>\n",
       "      <td>1648.838147</td>\n",
       "      <td>37707</td>\n",
       "    </tr>\n",
       "    <tr>\n",
       "      <th>4</th>\n",
       "      <td>1659.009406</td>\n",
       "      <td>38697</td>\n",
       "    </tr>\n",
       "    <tr>\n",
       "      <th>5</th>\n",
       "      <td>1616.172868</td>\n",
       "      <td>30798</td>\n",
       "    </tr>\n",
       "    <tr>\n",
       "      <th>6</th>\n",
       "      <td>1643.705169</td>\n",
       "      <td>43452</td>\n",
       "    </tr>\n",
       "  </tbody>\n",
       "</table>\n",
       "</div>"
      ],
      "text/plain": [
       "                  FECHA       \n",
       "                   mean  count\n",
       "DIA_SEMANA                    \n",
       "0           1635.829498  27249\n",
       "1           1658.188534  38794\n",
       "2           1649.947247  36301\n",
       "3           1648.838147  37707\n",
       "4           1659.009406  38697\n",
       "5           1616.172868  30798\n",
       "6           1643.705169  43452"
      ]
     },
     "execution_count": 661,
     "metadata": {},
     "output_type": "execute_result"
    }
   ],
   "source": [
    "df_accs_join_dist[['DIA_SEMANA', 'FECHA']].groupby(['DIA_SEMANA'], as_index=False).agg(['mean', 'count'])"
   ]
  },
  {
   "cell_type": "code",
   "execution_count": 662,
   "metadata": {},
   "outputs": [
    {
     "data": {
      "text/html": [
       "<div>\n",
       "<style scoped>\n",
       "    .dataframe tbody tr th:only-of-type {\n",
       "        vertical-align: middle;\n",
       "    }\n",
       "\n",
       "    .dataframe tbody tr th {\n",
       "        vertical-align: top;\n",
       "    }\n",
       "\n",
       "    .dataframe thead tr th {\n",
       "        text-align: left;\n",
       "    }\n",
       "\n",
       "    .dataframe thead tr:last-of-type th {\n",
       "        text-align: right;\n",
       "    }\n",
       "</style>\n",
       "<table border=\"1\" class=\"dataframe\">\n",
       "  <thead>\n",
       "    <tr>\n",
       "      <th></th>\n",
       "      <th colspan=\"2\" halign=\"left\">HORA</th>\n",
       "    </tr>\n",
       "    <tr>\n",
       "      <th></th>\n",
       "      <th>mean</th>\n",
       "      <th>count</th>\n",
       "    </tr>\n",
       "    <tr>\n",
       "      <th>DIA_SEMANA</th>\n",
       "      <th></th>\n",
       "      <th></th>\n",
       "    </tr>\n",
       "  </thead>\n",
       "  <tbody>\n",
       "    <tr>\n",
       "      <th>0</th>\n",
       "      <td>13.267386</td>\n",
       "      <td>27249</td>\n",
       "    </tr>\n",
       "    <tr>\n",
       "      <th>1</th>\n",
       "      <td>14.372300</td>\n",
       "      <td>38794</td>\n",
       "    </tr>\n",
       "    <tr>\n",
       "      <th>2</th>\n",
       "      <td>14.171262</td>\n",
       "      <td>36301</td>\n",
       "    </tr>\n",
       "    <tr>\n",
       "      <th>3</th>\n",
       "      <td>14.459252</td>\n",
       "      <td>37707</td>\n",
       "    </tr>\n",
       "    <tr>\n",
       "      <th>4</th>\n",
       "      <td>14.383027</td>\n",
       "      <td>38697</td>\n",
       "    </tr>\n",
       "    <tr>\n",
       "      <th>5</th>\n",
       "      <td>13.570914</td>\n",
       "      <td>30798</td>\n",
       "    </tr>\n",
       "    <tr>\n",
       "      <th>6</th>\n",
       "      <td>14.244247</td>\n",
       "      <td>43452</td>\n",
       "    </tr>\n",
       "  </tbody>\n",
       "</table>\n",
       "</div>"
      ],
      "text/plain": [
       "                 HORA       \n",
       "                 mean  count\n",
       "DIA_SEMANA                  \n",
       "0           13.267386  27249\n",
       "1           14.372300  38794\n",
       "2           14.171262  36301\n",
       "3           14.459252  37707\n",
       "4           14.383027  38697\n",
       "5           13.570914  30798\n",
       "6           14.244247  43452"
      ]
     },
     "execution_count": 662,
     "metadata": {},
     "output_type": "execute_result"
    }
   ],
   "source": [
    "df_accs_join_dist[['DIA_SEMANA', 'HORA']].groupby(['DIA_SEMANA'], as_index=False).agg(['mean', 'count'])"
   ]
  },
  {
   "cell_type": "code",
   "execution_count": 663,
   "metadata": {},
   "outputs": [
    {
     "data": {
      "text/html": [
       "<div>\n",
       "<style scoped>\n",
       "    .dataframe tbody tr th:only-of-type {\n",
       "        vertical-align: middle;\n",
       "    }\n",
       "\n",
       "    .dataframe tbody tr th {\n",
       "        vertical-align: top;\n",
       "    }\n",
       "\n",
       "    .dataframe thead tr th {\n",
       "        text-align: left;\n",
       "    }\n",
       "\n",
       "    .dataframe thead tr:last-of-type th {\n",
       "        text-align: right;\n",
       "    }\n",
       "</style>\n",
       "<table border=\"1\" class=\"dataframe\">\n",
       "  <thead>\n",
       "    <tr>\n",
       "      <th></th>\n",
       "      <th colspan=\"2\" halign=\"left\">DISTRITO</th>\n",
       "    </tr>\n",
       "    <tr>\n",
       "      <th></th>\n",
       "      <th>mean</th>\n",
       "      <th>count</th>\n",
       "    </tr>\n",
       "    <tr>\n",
       "      <th>DIA_SEMANA</th>\n",
       "      <th></th>\n",
       "      <th></th>\n",
       "    </tr>\n",
       "  </thead>\n",
       "  <tbody>\n",
       "    <tr>\n",
       "      <th>0</th>\n",
       "      <td>8.916327</td>\n",
       "      <td>27249</td>\n",
       "    </tr>\n",
       "    <tr>\n",
       "      <th>1</th>\n",
       "      <td>9.065139</td>\n",
       "      <td>38794</td>\n",
       "    </tr>\n",
       "    <tr>\n",
       "      <th>2</th>\n",
       "      <td>9.130189</td>\n",
       "      <td>36301</td>\n",
       "    </tr>\n",
       "    <tr>\n",
       "      <th>3</th>\n",
       "      <td>9.144748</td>\n",
       "      <td>37707</td>\n",
       "    </tr>\n",
       "    <tr>\n",
       "      <th>4</th>\n",
       "      <td>9.159909</td>\n",
       "      <td>38697</td>\n",
       "    </tr>\n",
       "    <tr>\n",
       "      <th>5</th>\n",
       "      <td>8.989545</td>\n",
       "      <td>30798</td>\n",
       "    </tr>\n",
       "    <tr>\n",
       "      <th>6</th>\n",
       "      <td>9.163790</td>\n",
       "      <td>43452</td>\n",
       "    </tr>\n",
       "  </tbody>\n",
       "</table>\n",
       "</div>"
      ],
      "text/plain": [
       "            DISTRITO       \n",
       "                mean  count\n",
       "DIA_SEMANA                 \n",
       "0           8.916327  27249\n",
       "1           9.065139  38794\n",
       "2           9.130189  36301\n",
       "3           9.144748  37707\n",
       "4           9.159909  38697\n",
       "5           8.989545  30798\n",
       "6           9.163790  43452"
      ]
     },
     "execution_count": 663,
     "metadata": {},
     "output_type": "execute_result"
    }
   ],
   "source": [
    "df_accs_join_dist[['DIA_SEMANA', 'DISTRITO']].groupby(['DIA_SEMANA'], as_index=False).agg(['mean', 'count'])"
   ]
  },
  {
   "cell_type": "code",
   "execution_count": 667,
   "metadata": {},
   "outputs": [
    {
     "data": {
      "text/html": [
       "<div>\n",
       "<style scoped>\n",
       "    .dataframe tbody tr th:only-of-type {\n",
       "        vertical-align: middle;\n",
       "    }\n",
       "\n",
       "    .dataframe tbody tr th {\n",
       "        vertical-align: top;\n",
       "    }\n",
       "\n",
       "    .dataframe thead tr th {\n",
       "        text-align: left;\n",
       "    }\n",
       "\n",
       "    .dataframe thead tr:last-of-type th {\n",
       "        text-align: right;\n",
       "    }\n",
       "</style>\n",
       "<table border=\"1\" class=\"dataframe\">\n",
       "  <thead>\n",
       "    <tr>\n",
       "      <th></th>\n",
       "      <th colspan=\"2\" halign=\"left\">TIPO_VEHICULO</th>\n",
       "    </tr>\n",
       "    <tr>\n",
       "      <th></th>\n",
       "      <th>mean</th>\n",
       "      <th>count</th>\n",
       "    </tr>\n",
       "    <tr>\n",
       "      <th>DIA_SEMANA</th>\n",
       "      <th></th>\n",
       "      <th></th>\n",
       "    </tr>\n",
       "  </thead>\n",
       "  <tbody>\n",
       "    <tr>\n",
       "      <th>0</th>\n",
       "      <td>7.811333</td>\n",
       "      <td>27249</td>\n",
       "    </tr>\n",
       "    <tr>\n",
       "      <th>1</th>\n",
       "      <td>7.669305</td>\n",
       "      <td>38794</td>\n",
       "    </tr>\n",
       "    <tr>\n",
       "      <th>2</th>\n",
       "      <td>7.679458</td>\n",
       "      <td>36301</td>\n",
       "    </tr>\n",
       "    <tr>\n",
       "      <th>3</th>\n",
       "      <td>7.652081</td>\n",
       "      <td>37707</td>\n",
       "    </tr>\n",
       "    <tr>\n",
       "      <th>4</th>\n",
       "      <td>7.630953</td>\n",
       "      <td>38697</td>\n",
       "    </tr>\n",
       "    <tr>\n",
       "      <th>5</th>\n",
       "      <td>7.831775</td>\n",
       "      <td>30798</td>\n",
       "    </tr>\n",
       "    <tr>\n",
       "      <th>6</th>\n",
       "      <td>7.697897</td>\n",
       "      <td>43452</td>\n",
       "    </tr>\n",
       "  </tbody>\n",
       "</table>\n",
       "</div>"
      ],
      "text/plain": [
       "           TIPO_VEHICULO       \n",
       "                    mean  count\n",
       "DIA_SEMANA                     \n",
       "0               7.811333  27249\n",
       "1               7.669305  38794\n",
       "2               7.679458  36301\n",
       "3               7.652081  37707\n",
       "4               7.630953  38697\n",
       "5               7.831775  30798\n",
       "6               7.697897  43452"
      ]
     },
     "execution_count": 667,
     "metadata": {},
     "output_type": "execute_result"
    }
   ],
   "source": [
    "df_accs_join_dist[['DIA_SEMANA', 'TIPO_VEHICULO']].groupby(['DIA_SEMANA'], as_index=False).agg(['mean', 'count'])"
   ]
  },
  {
   "cell_type": "code",
   "execution_count": 668,
   "metadata": {},
   "outputs": [
    {
     "data": {
      "text/html": [
       "<div>\n",
       "<style scoped>\n",
       "    .dataframe tbody tr th:only-of-type {\n",
       "        vertical-align: middle;\n",
       "    }\n",
       "\n",
       "    .dataframe tbody tr th {\n",
       "        vertical-align: top;\n",
       "    }\n",
       "\n",
       "    .dataframe thead tr th {\n",
       "        text-align: left;\n",
       "    }\n",
       "\n",
       "    .dataframe thead tr:last-of-type th {\n",
       "        text-align: right;\n",
       "    }\n",
       "</style>\n",
       "<table border=\"1\" class=\"dataframe\">\n",
       "  <thead>\n",
       "    <tr>\n",
       "      <th></th>\n",
       "      <th colspan=\"2\" halign=\"left\">TIPO_PERSONA</th>\n",
       "    </tr>\n",
       "    <tr>\n",
       "      <th></th>\n",
       "      <th>mean</th>\n",
       "      <th>count</th>\n",
       "    </tr>\n",
       "    <tr>\n",
       "      <th>DIA_SEMANA</th>\n",
       "      <th></th>\n",
       "      <th></th>\n",
       "    </tr>\n",
       "  </thead>\n",
       "  <tbody>\n",
       "    <tr>\n",
       "      <th>0</th>\n",
       "      <td>1.097068</td>\n",
       "      <td>27249</td>\n",
       "    </tr>\n",
       "    <tr>\n",
       "      <th>1</th>\n",
       "      <td>0.811723</td>\n",
       "      <td>38794</td>\n",
       "    </tr>\n",
       "    <tr>\n",
       "      <th>2</th>\n",
       "      <td>0.813201</td>\n",
       "      <td>36301</td>\n",
       "    </tr>\n",
       "    <tr>\n",
       "      <th>3</th>\n",
       "      <td>0.797544</td>\n",
       "      <td>37707</td>\n",
       "    </tr>\n",
       "    <tr>\n",
       "      <th>4</th>\n",
       "      <td>0.796392</td>\n",
       "      <td>38697</td>\n",
       "    </tr>\n",
       "    <tr>\n",
       "      <th>5</th>\n",
       "      <td>1.049841</td>\n",
       "      <td>30798</td>\n",
       "    </tr>\n",
       "    <tr>\n",
       "      <th>6</th>\n",
       "      <td>0.846037</td>\n",
       "      <td>43452</td>\n",
       "    </tr>\n",
       "  </tbody>\n",
       "</table>\n",
       "</div>"
      ],
      "text/plain": [
       "           TIPO_PERSONA       \n",
       "                   mean  count\n",
       "DIA_SEMANA                    \n",
       "0              1.097068  27249\n",
       "1              0.811723  38794\n",
       "2              0.813201  36301\n",
       "3              0.797544  37707\n",
       "4              0.796392  38697\n",
       "5              1.049841  30798\n",
       "6              0.846037  43452"
      ]
     },
     "execution_count": 668,
     "metadata": {},
     "output_type": "execute_result"
    }
   ],
   "source": [
    "df_accs_join_dist[['DIA_SEMANA', 'TIPO_PERSONA']].groupby(['DIA_SEMANA'], as_index=False).agg(['mean', 'count'])"
   ]
  },
  {
   "cell_type": "code",
   "execution_count": 669,
   "metadata": {},
   "outputs": [
    {
     "data": {
      "text/html": [
       "<div>\n",
       "<style scoped>\n",
       "    .dataframe tbody tr th:only-of-type {\n",
       "        vertical-align: middle;\n",
       "    }\n",
       "\n",
       "    .dataframe tbody tr th {\n",
       "        vertical-align: top;\n",
       "    }\n",
       "\n",
       "    .dataframe thead tr th {\n",
       "        text-align: left;\n",
       "    }\n",
       "\n",
       "    .dataframe thead tr:last-of-type th {\n",
       "        text-align: right;\n",
       "    }\n",
       "</style>\n",
       "<table border=\"1\" class=\"dataframe\">\n",
       "  <thead>\n",
       "    <tr>\n",
       "      <th></th>\n",
       "      <th colspan=\"2\" halign=\"left\">SEXO</th>\n",
       "    </tr>\n",
       "    <tr>\n",
       "      <th></th>\n",
       "      <th>mean</th>\n",
       "      <th>count</th>\n",
       "    </tr>\n",
       "    <tr>\n",
       "      <th>DIA_SEMANA</th>\n",
       "      <th></th>\n",
       "      <th></th>\n",
       "    </tr>\n",
       "  </thead>\n",
       "  <tbody>\n",
       "    <tr>\n",
       "      <th>0</th>\n",
       "      <td>0.440640</td>\n",
       "      <td>27249</td>\n",
       "    </tr>\n",
       "    <tr>\n",
       "      <th>1</th>\n",
       "      <td>0.408053</td>\n",
       "      <td>38794</td>\n",
       "    </tr>\n",
       "    <tr>\n",
       "      <th>2</th>\n",
       "      <td>0.411283</td>\n",
       "      <td>36301</td>\n",
       "    </tr>\n",
       "    <tr>\n",
       "      <th>3</th>\n",
       "      <td>0.406105</td>\n",
       "      <td>37707</td>\n",
       "    </tr>\n",
       "    <tr>\n",
       "      <th>4</th>\n",
       "      <td>0.411169</td>\n",
       "      <td>38697</td>\n",
       "    </tr>\n",
       "    <tr>\n",
       "      <th>5</th>\n",
       "      <td>0.430288</td>\n",
       "      <td>30798</td>\n",
       "    </tr>\n",
       "    <tr>\n",
       "      <th>6</th>\n",
       "      <td>0.407484</td>\n",
       "      <td>43452</td>\n",
       "    </tr>\n",
       "  </tbody>\n",
       "</table>\n",
       "</div>"
      ],
      "text/plain": [
       "                SEXO       \n",
       "                mean  count\n",
       "DIA_SEMANA                 \n",
       "0           0.440640  27249\n",
       "1           0.408053  38794\n",
       "2           0.411283  36301\n",
       "3           0.406105  37707\n",
       "4           0.411169  38697\n",
       "5           0.430288  30798\n",
       "6           0.407484  43452"
      ]
     },
     "execution_count": 669,
     "metadata": {},
     "output_type": "execute_result"
    }
   ],
   "source": [
    "df_accs_join_dist[['DIA_SEMANA', 'SEXO']].groupby(['DIA_SEMANA'], as_index=False).agg(['mean', 'count'])"
   ]
  },
  {
   "cell_type": "code",
   "execution_count": 670,
   "metadata": {},
   "outputs": [
    {
     "data": {
      "text/html": [
       "<div>\n",
       "<style scoped>\n",
       "    .dataframe tbody tr th:only-of-type {\n",
       "        vertical-align: middle;\n",
       "    }\n",
       "\n",
       "    .dataframe tbody tr th {\n",
       "        vertical-align: top;\n",
       "    }\n",
       "\n",
       "    .dataframe thead tr th {\n",
       "        text-align: left;\n",
       "    }\n",
       "\n",
       "    .dataframe thead tr:last-of-type th {\n",
       "        text-align: right;\n",
       "    }\n",
       "</style>\n",
       "<table border=\"1\" class=\"dataframe\">\n",
       "  <thead>\n",
       "    <tr>\n",
       "      <th></th>\n",
       "      <th colspan=\"2\" halign=\"left\">LESIVIDAD</th>\n",
       "    </tr>\n",
       "    <tr>\n",
       "      <th></th>\n",
       "      <th>mean</th>\n",
       "      <th>count</th>\n",
       "    </tr>\n",
       "    <tr>\n",
       "      <th>DIA_SEMANA</th>\n",
       "      <th></th>\n",
       "      <th></th>\n",
       "    </tr>\n",
       "  </thead>\n",
       "  <tbody>\n",
       "    <tr>\n",
       "      <th>0</th>\n",
       "      <td>1.640757</td>\n",
       "      <td>27249</td>\n",
       "    </tr>\n",
       "    <tr>\n",
       "      <th>1</th>\n",
       "      <td>1.607491</td>\n",
       "      <td>38794</td>\n",
       "    </tr>\n",
       "    <tr>\n",
       "      <th>2</th>\n",
       "      <td>1.599543</td>\n",
       "      <td>36301</td>\n",
       "    </tr>\n",
       "    <tr>\n",
       "      <th>3</th>\n",
       "      <td>1.601056</td>\n",
       "      <td>37707</td>\n",
       "    </tr>\n",
       "    <tr>\n",
       "      <th>4</th>\n",
       "      <td>1.604362</td>\n",
       "      <td>38697</td>\n",
       "    </tr>\n",
       "    <tr>\n",
       "      <th>5</th>\n",
       "      <td>1.638028</td>\n",
       "      <td>30798</td>\n",
       "    </tr>\n",
       "    <tr>\n",
       "      <th>6</th>\n",
       "      <td>1.611548</td>\n",
       "      <td>43452</td>\n",
       "    </tr>\n",
       "  </tbody>\n",
       "</table>\n",
       "</div>"
      ],
      "text/plain": [
       "           LESIVIDAD       \n",
       "                mean  count\n",
       "DIA_SEMANA                 \n",
       "0           1.640757  27249\n",
       "1           1.607491  38794\n",
       "2           1.599543  36301\n",
       "3           1.601056  37707\n",
       "4           1.604362  38697\n",
       "5           1.638028  30798\n",
       "6           1.611548  43452"
      ]
     },
     "execution_count": 670,
     "metadata": {},
     "output_type": "execute_result"
    }
   ],
   "source": [
    "df_accs_join_dist[['DIA_SEMANA', 'LESIVIDAD']].groupby(['DIA_SEMANA'], as_index=False).agg(['mean', 'count'])"
   ]
  },
  {
   "cell_type": "code",
   "execution_count": 671,
   "metadata": {},
   "outputs": [
    {
     "data": {
      "text/html": [
       "<div>\n",
       "<style scoped>\n",
       "    .dataframe tbody tr th:only-of-type {\n",
       "        vertical-align: middle;\n",
       "    }\n",
       "\n",
       "    .dataframe tbody tr th {\n",
       "        vertical-align: top;\n",
       "    }\n",
       "\n",
       "    .dataframe thead tr th {\n",
       "        text-align: left;\n",
       "    }\n",
       "\n",
       "    .dataframe thead tr:last-of-type th {\n",
       "        text-align: right;\n",
       "    }\n",
       "</style>\n",
       "<table border=\"1\" class=\"dataframe\">\n",
       "  <thead>\n",
       "    <tr>\n",
       "      <th></th>\n",
       "      <th colspan=\"2\" halign=\"left\">EDAD_APROX</th>\n",
       "    </tr>\n",
       "    <tr>\n",
       "      <th></th>\n",
       "      <th>mean</th>\n",
       "      <th>count</th>\n",
       "    </tr>\n",
       "    <tr>\n",
       "      <th>DIA_SEMANA</th>\n",
       "      <th></th>\n",
       "      <th></th>\n",
       "    </tr>\n",
       "  </thead>\n",
       "  <tbody>\n",
       "    <tr>\n",
       "      <th>0</th>\n",
       "      <td>6.759184</td>\n",
       "      <td>27249</td>\n",
       "    </tr>\n",
       "    <tr>\n",
       "      <th>1</th>\n",
       "      <td>7.073671</td>\n",
       "      <td>38794</td>\n",
       "    </tr>\n",
       "    <tr>\n",
       "      <th>2</th>\n",
       "      <td>7.104129</td>\n",
       "      <td>36301</td>\n",
       "    </tr>\n",
       "    <tr>\n",
       "      <th>3</th>\n",
       "      <td>7.116000</td>\n",
       "      <td>37707</td>\n",
       "    </tr>\n",
       "    <tr>\n",
       "      <th>4</th>\n",
       "      <td>7.111352</td>\n",
       "      <td>38697</td>\n",
       "    </tr>\n",
       "    <tr>\n",
       "      <th>5</th>\n",
       "      <td>6.744919</td>\n",
       "      <td>30798</td>\n",
       "    </tr>\n",
       "    <tr>\n",
       "      <th>6</th>\n",
       "      <td>6.994868</td>\n",
       "      <td>43452</td>\n",
       "    </tr>\n",
       "  </tbody>\n",
       "</table>\n",
       "</div>"
      ],
      "text/plain": [
       "           EDAD_APROX       \n",
       "                 mean  count\n",
       "DIA_SEMANA                  \n",
       "0            6.759184  27249\n",
       "1            7.073671  38794\n",
       "2            7.104129  36301\n",
       "3            7.116000  37707\n",
       "4            7.111352  38697\n",
       "5            6.744919  30798\n",
       "6            6.994868  43452"
      ]
     },
     "execution_count": 671,
     "metadata": {},
     "output_type": "execute_result"
    }
   ],
   "source": [
    "df_accs_join_dist[['DIA_SEMANA', 'EDAD_APROX']].groupby(['DIA_SEMANA'], as_index=False).agg(['mean', 'count'])"
   ]
  },
  {
   "cell_type": "code",
   "execution_count": 672,
   "metadata": {},
   "outputs": [
    {
     "data": {
      "text/html": [
       "<div>\n",
       "<style scoped>\n",
       "    .dataframe tbody tr th:only-of-type {\n",
       "        vertical-align: middle;\n",
       "    }\n",
       "\n",
       "    .dataframe tbody tr th {\n",
       "        vertical-align: top;\n",
       "    }\n",
       "\n",
       "    .dataframe thead tr th {\n",
       "        text-align: left;\n",
       "    }\n",
       "\n",
       "    .dataframe thead tr:last-of-type th {\n",
       "        text-align: right;\n",
       "    }\n",
       "</style>\n",
       "<table border=\"1\" class=\"dataframe\">\n",
       "  <thead>\n",
       "    <tr>\n",
       "      <th></th>\n",
       "      <th colspan=\"2\" halign=\"left\">SUP_KM2</th>\n",
       "    </tr>\n",
       "    <tr>\n",
       "      <th></th>\n",
       "      <th>mean</th>\n",
       "      <th>count</th>\n",
       "    </tr>\n",
       "    <tr>\n",
       "      <th>DIA_SEMANA</th>\n",
       "      <th></th>\n",
       "      <th></th>\n",
       "    </tr>\n",
       "  </thead>\n",
       "  <tbody>\n",
       "    <tr>\n",
       "      <th>0</th>\n",
       "      <td>8.627583</td>\n",
       "      <td>27249</td>\n",
       "    </tr>\n",
       "    <tr>\n",
       "      <th>1</th>\n",
       "      <td>8.759602</td>\n",
       "      <td>38794</td>\n",
       "    </tr>\n",
       "    <tr>\n",
       "      <th>2</th>\n",
       "      <td>8.974656</td>\n",
       "      <td>36301</td>\n",
       "    </tr>\n",
       "    <tr>\n",
       "      <th>3</th>\n",
       "      <td>8.922428</td>\n",
       "      <td>37707</td>\n",
       "    </tr>\n",
       "    <tr>\n",
       "      <th>4</th>\n",
       "      <td>8.715094</td>\n",
       "      <td>38697</td>\n",
       "    </tr>\n",
       "    <tr>\n",
       "      <th>5</th>\n",
       "      <td>8.765147</td>\n",
       "      <td>30798</td>\n",
       "    </tr>\n",
       "    <tr>\n",
       "      <th>6</th>\n",
       "      <td>8.797938</td>\n",
       "      <td>43452</td>\n",
       "    </tr>\n",
       "  </tbody>\n",
       "</table>\n",
       "</div>"
      ],
      "text/plain": [
       "             SUP_KM2       \n",
       "                mean  count\n",
       "DIA_SEMANA                 \n",
       "0           8.627583  27249\n",
       "1           8.759602  38794\n",
       "2           8.974656  36301\n",
       "3           8.922428  37707\n",
       "4           8.715094  38697\n",
       "5           8.765147  30798\n",
       "6           8.797938  43452"
      ]
     },
     "execution_count": 672,
     "metadata": {},
     "output_type": "execute_result"
    }
   ],
   "source": [
    "df_accs_join_dist[['DIA_SEMANA', 'SUP_KM2']].groupby(['DIA_SEMANA'], as_index=False).agg(['mean', 'count'])"
   ]
  },
  {
   "cell_type": "code",
   "execution_count": 673,
   "metadata": {},
   "outputs": [
    {
     "data": {
      "text/html": [
       "<div>\n",
       "<style scoped>\n",
       "    .dataframe tbody tr th:only-of-type {\n",
       "        vertical-align: middle;\n",
       "    }\n",
       "\n",
       "    .dataframe tbody tr th {\n",
       "        vertical-align: top;\n",
       "    }\n",
       "\n",
       "    .dataframe thead tr th {\n",
       "        text-align: left;\n",
       "    }\n",
       "\n",
       "    .dataframe thead tr:last-of-type th {\n",
       "        text-align: right;\n",
       "    }\n",
       "</style>\n",
       "<table border=\"1\" class=\"dataframe\">\n",
       "  <thead>\n",
       "    <tr>\n",
       "      <th></th>\n",
       "      <th colspan=\"2\" halign=\"left\">DENSIDAD_KM2</th>\n",
       "    </tr>\n",
       "    <tr>\n",
       "      <th></th>\n",
       "      <th>mean</th>\n",
       "      <th>count</th>\n",
       "    </tr>\n",
       "    <tr>\n",
       "      <th>DIA_SEMANA</th>\n",
       "      <th></th>\n",
       "      <th></th>\n",
       "    </tr>\n",
       "  </thead>\n",
       "  <tbody>\n",
       "    <tr>\n",
       "      <th>0</th>\n",
       "      <td>11.631656</td>\n",
       "      <td>27249</td>\n",
       "    </tr>\n",
       "    <tr>\n",
       "      <th>1</th>\n",
       "      <td>11.479043</td>\n",
       "      <td>38794</td>\n",
       "    </tr>\n",
       "    <tr>\n",
       "      <th>2</th>\n",
       "      <td>11.253189</td>\n",
       "      <td>36301</td>\n",
       "    </tr>\n",
       "    <tr>\n",
       "      <th>3</th>\n",
       "      <td>11.325351</td>\n",
       "      <td>37707</td>\n",
       "    </tr>\n",
       "    <tr>\n",
       "      <th>4</th>\n",
       "      <td>11.527198</td>\n",
       "      <td>38697</td>\n",
       "    </tr>\n",
       "    <tr>\n",
       "      <th>5</th>\n",
       "      <td>11.522859</td>\n",
       "      <td>30798</td>\n",
       "    </tr>\n",
       "    <tr>\n",
       "      <th>6</th>\n",
       "      <td>11.443662</td>\n",
       "      <td>43452</td>\n",
       "    </tr>\n",
       "  </tbody>\n",
       "</table>\n",
       "</div>"
      ],
      "text/plain": [
       "           DENSIDAD_KM2       \n",
       "                   mean  count\n",
       "DIA_SEMANA                    \n",
       "0             11.631656  27249\n",
       "1             11.479043  38794\n",
       "2             11.253189  36301\n",
       "3             11.325351  37707\n",
       "4             11.527198  38697\n",
       "5             11.522859  30798\n",
       "6             11.443662  43452"
      ]
     },
     "execution_count": 673,
     "metadata": {},
     "output_type": "execute_result"
    }
   ],
   "source": [
    "df_accs_join_dist[['DIA_SEMANA', 'DENSIDAD_KM2']].groupby(['DIA_SEMANA'], as_index=False).agg(['mean', 'count'])"
   ]
  },
  {
   "cell_type": "code",
   "execution_count": 678,
   "metadata": {},
   "outputs": [],
   "source": [
    "# Data Preparation\n",
    "X = df_accs_join_dist[['DISTRITO']] # pandas DataFrame\n",
    "y = df_accs_join_dist[\"DIA_SEMANA\"] # pandas Series"
   ]
  },
  {
   "cell_type": "code",
   "execution_count": 679,
   "metadata": {
    "scrolled": true
   },
   "outputs": [
    {
     "data": {
      "text/plain": [
       "<matplotlib.collections.PathCollection at 0x7f7c8f7afb38>"
      ]
     },
     "execution_count": 679,
     "metadata": {},
     "output_type": "execute_result"
    },
    {
     "data": {
      "image/png": "[encoded data removed]",
      "text/plain": [
       "<Figure size 432x288 with 1 Axes>"
      ]
     },
     "metadata": {},
     "output_type": "display_data"
    }
   ],
   "source": [
    "plt.scatter(X,y)"
   ]
  },
  {
   "cell_type": "code",
   "execution_count": 680,
   "metadata": {},
   "outputs": [],
   "source": [
    "from sklearn.linear_model import LinearRegression"
   ]
  },
  {
   "cell_type": "code",
   "execution_count": 681,
   "metadata": {},
   "outputs": [],
   "source": [
    "reg = LinearRegression()"
   ]
  },
  {
   "cell_type": "code",
   "execution_count": 682,
   "metadata": {},
   "outputs": [
    {
     "data": {
      "text/plain": [
       "LinearRegression(copy_X=True, fit_intercept=True, n_jobs=None, normalize=False)"
      ]
     },
     "execution_count": 682,
     "metadata": {},
     "output_type": "execute_result"
    }
   ],
   "source": [
    "reg.fit(X,y)"
   ]
  },
  {
   "cell_type": "code",
   "execution_count": 683,
   "metadata": {},
   "outputs": [
    {
     "data": {
      "text/plain": [
       "array([0.00266809])"
      ]
     },
     "execution_count": 683,
     "metadata": {},
     "output_type": "execute_result"
    }
   ],
   "source": [
    "reg.coef_"
   ]
  },
  {
   "cell_type": "code",
   "execution_count": 684,
   "metadata": {},
   "outputs": [
    {
     "data": {
      "text/plain": [
       "Index(['FECHA', 'HORA', 'DIA_SEMANA', 'DISTRITO', 'TIPO_ACCIDENTE',\n",
       "       'TIPO_VEHICULO', 'TIPO_PERSONA', 'SEXO', 'LESIVIDAD', 'EDAD_APROX',\n",
       "       'SUP_KM2', 'DENSIDAD_KM2'],\n",
       "      dtype='object')"
      ]
     },
     "execution_count": 684,
     "metadata": {},
     "output_type": "execute_result"
    }
   ],
   "source": [
    "df_accs_join_dist.columns"
   ]
  },
  {
   "cell_type": "code",
   "execution_count": 685,
   "metadata": {},
   "outputs": [],
   "source": [
    "X=df_accs_join_dist[['FECHA', 'HORA', 'DIA_SEMANA', 'TIPO_ACCIDENTE', \\\n",
    "                     'TIPO_VEHICULO', 'TIPO_PERSONA', 'SEXO', 'LESIVIDAD', \\\n",
    "                     'EDAD_APROX', 'SUP_KM2', 'DENSIDAD_KM2']]\n",
    "y=df_accs_join_dist['DISTRITO']"
   ]
  },
  {
   "cell_type": "code",
   "execution_count": 686,
   "metadata": {},
   "outputs": [
    {
     "data": {
      "text/plain": [
       "252998"
      ]
     },
     "execution_count": 686,
     "metadata": {},
     "output_type": "execute_result"
    }
   ],
   "source": [
    "len(df_accs_join_dist)"
   ]
  },
  {
   "cell_type": "code",
   "execution_count": 688,
   "metadata": {},
   "outputs": [],
   "source": [
    "from sklearn.linear_model import LogisticRegression"
   ]
  },
  {
   "cell_type": "code",
   "execution_count": 689,
   "metadata": {},
   "outputs": [],
   "source": [
    "from sklearn.model_selection import cross_val_score"
   ]
  },
  {
   "cell_type": "code",
   "execution_count": 690,
   "metadata": {},
   "outputs": [
    {
     "name": "stderr",
     "output_type": "stream",
     "text": [
      "/home/dsc/anaconda3/lib/python3.7/site-packages/sklearn/linear_model/logistic.py:432: FutureWarning: Default solver will be changed to 'lbfgs' in 0.22. Specify a solver to silence this warning.\n",
      "  FutureWarning)\n",
      "/home/dsc/anaconda3/lib/python3.7/site-packages/sklearn/linear_model/logistic.py:469: FutureWarning: Default multi_class will be changed to 'auto' in 0.22. Specify the multi_class option to silence this warning.\n",
      "  \"this warning.\", FutureWarning)\n",
      "/home/dsc/anaconda3/lib/python3.7/site-packages/sklearn/linear_model/logistic.py:432: FutureWarning: Default solver will be changed to 'lbfgs' in 0.22. Specify a solver to silence this warning.\n",
      "  FutureWarning)\n",
      "/home/dsc/anaconda3/lib/python3.7/site-packages/sklearn/linear_model/logistic.py:469: FutureWarning: Default multi_class will be changed to 'auto' in 0.22. Specify the multi_class option to silence this warning.\n",
      "  \"this warning.\", FutureWarning)\n",
      "/home/dsc/anaconda3/lib/python3.7/site-packages/sklearn/linear_model/logistic.py:432: FutureWarning: Default solver will be changed to 'lbfgs' in 0.22. Specify a solver to silence this warning.\n",
      "  FutureWarning)\n",
      "/home/dsc/anaconda3/lib/python3.7/site-packages/sklearn/linear_model/logistic.py:469: FutureWarning: Default multi_class will be changed to 'auto' in 0.22. Specify the multi_class option to silence this warning.\n",
      "  \"this warning.\", FutureWarning)\n",
      "/home/dsc/anaconda3/lib/python3.7/site-packages/sklearn/linear_model/logistic.py:432: FutureWarning: Default solver will be changed to 'lbfgs' in 0.22. Specify a solver to silence this warning.\n",
      "  FutureWarning)\n",
      "/home/dsc/anaconda3/lib/python3.7/site-packages/sklearn/linear_model/logistic.py:469: FutureWarning: Default multi_class will be changed to 'auto' in 0.22. Specify the multi_class option to silence this warning.\n",
      "  \"this warning.\", FutureWarning)\n",
      "/home/dsc/anaconda3/lib/python3.7/site-packages/sklearn/linear_model/logistic.py:432: FutureWarning: Default solver will be changed to 'lbfgs' in 0.22. Specify a solver to silence this warning.\n",
      "  FutureWarning)\n",
      "/home/dsc/anaconda3/lib/python3.7/site-packages/sklearn/linear_model/logistic.py:469: FutureWarning: Default multi_class will be changed to 'auto' in 0.22. Specify the multi_class option to silence this warning.\n",
      "  \"this warning.\", FutureWarning)\n"
     ]
    },
    {
     "data": {
      "text/plain": [
       "0.7550646784364757"
      ]
     },
     "execution_count": 690,
     "metadata": {},
     "output_type": "execute_result"
    }
   ],
   "source": [
    "cross_val_score(LogisticRegression(),X,y,cv=5,scoring=\"accuracy\").mean()"
   ]
  },
  {
   "cell_type": "code",
   "execution_count": 691,
   "metadata": {},
   "outputs": [],
   "source": [
    "from sklearn.model_selection import GridSearchCV"
   ]
  },
  {
   "cell_type": "code",
   "execution_count": 692,
   "metadata": {},
   "outputs": [],
   "source": [
    "# Load the library\n",
    "from sklearn.neighbors import KNeighborsClassifier"
   ]
  },
  {
   "cell_type": "code",
   "execution_count": 693,
   "metadata": {},
   "outputs": [],
   "source": [
    "clfk = GridSearchCV(KNeighborsClassifier(),param_grid={\"n_neighbors\":np.arange(2,100)}\n",
    "                    ,cv=5,scoring=\"accuracy\",verbose=9)"
   ]
  },
  {
   "cell_type": "code",
   "execution_count": 694,
   "metadata": {},
   "outputs": [
    {
     "name": "stdout",
     "output_type": "stream",
     "text": [
      "Fitting 5 folds for each of 98 candidates, totalling 490 fits\n",
      "[CV] n_neighbors=2 ...................................................\n"
     ]
    },
    {
     "name": "stderr",
     "output_type": "stream",
     "text": [
      "[Parallel(n_jobs=1)]: Using backend SequentialBackend with 1 concurrent workers.\n"
     ]
    },
    {
     "name": "stdout",
     "output_type": "stream",
     "text": [
      "[CV] ....................... n_neighbors=2, score=0.419, total=   1.3s\n",
      "[CV] n_neighbors=2 ...................................................\n"
     ]
    },
    {
     "name": "stderr",
     "output_type": "stream",
     "text": [
      "[Parallel(n_jobs=1)]: Done   1 out of   1 | elapsed:    1.4s remaining:    0.0s\n"
     ]
    },
    {
     "name": "stdout",
     "output_type": "stream",
     "text": [
      "[CV] ....................... n_neighbors=2, score=0.425, total=   1.3s\n",
      "[CV] n_neighbors=2 ...................................................\n"
     ]
    },
    {
     "name": "stderr",
     "output_type": "stream",
     "text": [
      "[Parallel(n_jobs=1)]: Done   2 out of   2 | elapsed:    2.7s remaining:    0.0s\n"
     ]
    },
    {
     "name": "stdout",
     "output_type": "stream",
     "text": [
      "[CV] ....................... n_neighbors=2, score=0.421, total=   1.3s\n",
      "[CV] n_neighbors=2 ...................................................\n"
     ]
    },
    {
     "name": "stderr",
     "output_type": "stream",
     "text": [
      "[Parallel(n_jobs=1)]: Done   3 out of   3 | elapsed:    4.0s remaining:    0.0s\n"
     ]
    },
    {
     "name": "stdout",
     "output_type": "stream",
     "text": [
      "[CV] ....................... n_neighbors=2, score=0.423, total=   1.3s\n",
      "[CV] n_neighbors=2 ...................................................\n"
     ]
    },
    {
     "name": "stderr",
     "output_type": "stream",
     "text": [
      "[Parallel(n_jobs=1)]: Done   4 out of   4 | elapsed:    5.3s remaining:    0.0s\n"
     ]
    },
    {
     "name": "stdout",
     "output_type": "stream",
     "text": [
      "[CV] ....................... n_neighbors=2, score=0.420, total=   1.3s\n",
      "[CV] n_neighbors=3 ...................................................\n"
     ]
    },
    {
     "name": "stderr",
     "output_type": "stream",
     "text": [
      "[Parallel(n_jobs=1)]: Done   5 out of   5 | elapsed:    6.6s remaining:    0.0s\n"
     ]
    },
    {
     "name": "stdout",
     "output_type": "stream",
     "text": [
      "[CV] ....................... n_neighbors=3, score=0.415, total=   1.4s\n",
      "[CV] n_neighbors=3 ...................................................\n"
     ]
    },
    {
     "name": "stderr",
     "output_type": "stream",
     "text": [
      "[Parallel(n_jobs=1)]: Done   6 out of   6 | elapsed:    8.0s remaining:    0.0s\n"
     ]
    },
    {
     "name": "stdout",
     "output_type": "stream",
     "text": [
      "[CV] ....................... n_neighbors=3, score=0.422, total=   1.4s\n",
      "[CV] n_neighbors=3 ...................................................\n"
     ]
    },
    {
     "name": "stderr",
     "output_type": "stream",
     "text": [
      "[Parallel(n_jobs=1)]: Done   7 out of   7 | elapsed:    9.4s remaining:    0.0s\n"
     ]
    },
    {
     "name": "stdout",
     "output_type": "stream",
     "text": [
      "[CV] ....................... n_neighbors=3, score=0.419, total=   1.4s\n",
      "[CV] n_neighbors=3 ...................................................\n"
     ]
    },
    {
     "name": "stderr",
     "output_type": "stream",
     "text": [
      "[Parallel(n_jobs=1)]: Done   8 out of   8 | elapsed:   10.8s remaining:    0.0s\n"
     ]
    },
    {
     "name": "stdout",
     "output_type": "stream",
     "text": [
      "[CV] ....................... n_neighbors=3, score=0.424, total=   1.4s\n",
      "[CV] n_neighbors=3 ...................................................\n",
      "[CV] ....................... n_neighbors=3, score=0.416, total=   1.4s\n",
      "[CV] n_neighbors=4 ...................................................\n",
      "[CV] ....................... n_neighbors=4, score=0.413, total=   1.4s\n",
      "[CV] n_neighbors=4 ...................................................\n",
      "[CV] ....................... n_neighbors=4, score=0.421, total=   1.5s\n",
      "[CV] n_neighbors=4 ...................................................\n",
      "[CV] ....................... n_neighbors=4, score=0.418, total=   1.5s\n",
      "[CV] n_neighbors=4 ...................................................\n",
      "[CV] ....................... n_neighbors=4, score=0.426, total=   1.5s\n",
      "[CV] n_neighbors=4 ...................................................\n",
      "[CV] ....................... n_neighbors=4, score=0.416, total=   1.4s\n",
      "[CV] n_neighbors=5 ...................................................\n",
      "[CV] ....................... n_neighbors=5, score=0.411, total=   1.5s\n",
      "[CV] n_neighbors=5 ...................................................\n",
      "[CV] ....................... n_neighbors=5, score=0.420, total=   1.6s\n",
      "[CV] n_neighbors=5 ...................................................\n",
      "[CV] ....................... n_neighbors=5, score=0.418, total=   1.6s\n",
      "[CV] n_neighbors=5 ...................................................\n",
      "[CV] ....................... n_neighbors=5, score=0.425, total=   1.5s\n",
      "[CV] n_neighbors=5 ...................................................\n",
      "[CV] ....................... n_neighbors=5, score=0.415, total=   1.5s\n",
      "[CV] n_neighbors=6 ...................................................\n",
      "[CV] ....................... n_neighbors=6, score=0.407, total=   1.5s\n",
      "[CV] n_neighbors=6 ...................................................\n",
      "[CV] ....................... n_neighbors=6, score=0.417, total=   1.6s\n",
      "[CV] n_neighbors=6 ...................................................\n",
      "[CV] ....................... n_neighbors=6, score=0.412, total=   1.6s\n",
      "[CV] n_neighbors=6 ...................................................\n",
      "[CV] ....................... n_neighbors=6, score=0.421, total=   1.5s\n",
      "[CV] n_neighbors=6 ...................................................\n",
      "[CV] ....................... n_neighbors=6, score=0.412, total=   1.5s\n",
      "[CV] n_neighbors=7 ...................................................\n",
      "[CV] ....................... n_neighbors=7, score=0.403, total=   1.6s\n",
      "[CV] n_neighbors=7 ...................................................\n",
      "[CV] ....................... n_neighbors=7, score=0.414, total=   1.6s\n",
      "[CV] n_neighbors=7 ...................................................\n",
      "[CV] ....................... n_neighbors=7, score=0.410, total=   1.7s\n",
      "[CV] n_neighbors=7 ...................................................\n",
      "[CV] ....................... n_neighbors=7, score=0.420, total=   1.6s\n",
      "[CV] n_neighbors=7 ...................................................\n",
      "[CV] ....................... n_neighbors=7, score=0.411, total=   1.6s\n",
      "[CV] n_neighbors=8 ...................................................\n",
      "[CV] ....................... n_neighbors=8, score=0.407, total=   1.6s\n",
      "[CV] n_neighbors=8 ...................................................\n",
      "[CV] ....................... n_neighbors=8, score=0.413, total=   1.7s\n",
      "[CV] n_neighbors=8 ...................................................\n",
      "[CV] ....................... n_neighbors=8, score=0.411, total=   1.6s\n",
      "[CV] n_neighbors=8 ...................................................\n",
      "[CV] ....................... n_neighbors=8, score=0.419, total=   1.7s\n",
      "[CV] n_neighbors=8 ...................................................\n",
      "[CV] ....................... n_neighbors=8, score=0.409, total=   1.6s\n",
      "[CV] n_neighbors=9 ...................................................\n",
      "[CV] ....................... n_neighbors=9, score=0.404, total=   1.6s\n",
      "[CV] n_neighbors=9 ...................................................\n",
      "[CV] ....................... n_neighbors=9, score=0.412, total=   1.7s\n",
      "[CV] n_neighbors=9 ...................................................\n",
      "[CV] ....................... n_neighbors=9, score=0.410, total=   1.7s\n",
      "[CV] n_neighbors=9 ...................................................\n",
      "[CV] ....................... n_neighbors=9, score=0.418, total=   1.7s\n",
      "[CV] n_neighbors=9 ...................................................\n",
      "[CV] ....................... n_neighbors=9, score=0.410, total=   1.6s\n",
      "[CV] n_neighbors=10 ..................................................\n",
      "[CV] ...................... n_neighbors=10, score=0.406, total=   1.7s\n",
      "[CV] n_neighbors=10 ..................................................\n",
      "[CV] ...................... n_neighbors=10, score=0.410, total=   1.7s\n",
      "[CV] n_neighbors=10 ..................................................\n",
      "[CV] ...................... n_neighbors=10, score=0.409, total=   1.7s\n",
      "[CV] n_neighbors=10 ..................................................\n",
      "[CV] ...................... n_neighbors=10, score=0.417, total=   1.7s\n",
      "[CV] n_neighbors=10 ..................................................\n",
      "[CV] ...................... n_neighbors=10, score=0.409, total=   1.8s\n",
      "[CV] n_neighbors=11 ..................................................\n",
      "[CV] ...................... n_neighbors=11, score=0.406, total=   1.7s\n",
      "[CV] n_neighbors=11 ..................................................\n",
      "[CV] ...................... n_neighbors=11, score=0.408, total=   1.8s\n",
      "[CV] n_neighbors=11 ..................................................\n",
      "[CV] ...................... n_neighbors=11, score=0.408, total=   1.8s\n",
      "[CV] n_neighbors=11 ..................................................\n",
      "[CV] ...................... n_neighbors=11, score=0.419, total=   1.7s\n",
      "[CV] n_neighbors=11 ..................................................\n",
      "[CV] ...................... n_neighbors=11, score=0.410, total=   1.8s\n",
      "[CV] n_neighbors=12 ..................................................\n",
      "[CV] ...................... n_neighbors=12, score=0.404, total=   1.8s\n",
      "[CV] n_neighbors=12 ..................................................\n",
      "[CV] ...................... n_neighbors=12, score=0.407, total=   1.8s\n",
      "[CV] n_neighbors=12 ..................................................\n",
      "[CV] ...................... n_neighbors=12, score=0.405, total=   1.8s\n",
      "[CV] n_neighbors=12 ..................................................\n",
      "[CV] ...................... n_neighbors=12, score=0.416, total=   1.8s\n",
      "[CV] n_neighbors=12 ..................................................\n",
      "[CV] ...................... n_neighbors=12, score=0.408, total=   1.7s\n",
      "[CV] n_neighbors=13 ..................................................\n",
      "[CV] ...................... n_neighbors=13, score=0.403, total=   1.8s\n",
      "[CV] n_neighbors=13 ..................................................\n",
      "[CV] ...................... n_neighbors=13, score=0.407, total=   1.8s\n",
      "[CV] n_neighbors=13 ..................................................\n",
      "[CV] ...................... n_neighbors=13, score=0.404, total=   1.8s\n",
      "[CV] n_neighbors=13 ..................................................\n",
      "[CV] ...................... n_neighbors=13, score=0.415, total=   1.8s\n",
      "[CV] n_neighbors=13 ..................................................\n",
      "[CV] ...................... n_neighbors=13, score=0.407, total=   1.8s\n",
      "[CV] n_neighbors=14 ..................................................\n",
      "[CV] ...................... n_neighbors=14, score=0.402, total=   1.8s\n",
      "[CV] n_neighbors=14 ..................................................\n",
      "[CV] ...................... n_neighbors=14, score=0.406, total=   1.8s\n",
      "[CV] n_neighbors=14 ..................................................\n",
      "[CV] ...................... n_neighbors=14, score=0.405, total=   1.8s\n",
      "[CV] n_neighbors=14 ..................................................\n",
      "[CV] ...................... n_neighbors=14, score=0.414, total=   1.8s\n",
      "[CV] n_neighbors=14 ..................................................\n",
      "[CV] ...................... n_neighbors=14, score=0.406, total=   1.8s\n",
      "[CV] n_neighbors=15 ..................................................\n",
      "[CV] ...................... n_neighbors=15, score=0.402, total=   1.9s\n",
      "[CV] n_neighbors=15 ..................................................\n"
     ]
    },
    {
     "name": "stdout",
     "output_type": "stream",
     "text": [
      "[CV] ...................... n_neighbors=15, score=0.406, total=   1.9s\n",
      "[CV] n_neighbors=15 ..................................................\n",
      "[CV] ...................... n_neighbors=15, score=0.405, total=   1.9s\n",
      "[CV] n_neighbors=15 ..................................................\n",
      "[CV] ...................... n_neighbors=15, score=0.412, total=   1.9s\n",
      "[CV] n_neighbors=15 ..................................................\n",
      "[CV] ...................... n_neighbors=15, score=0.405, total=   1.9s\n",
      "[CV] n_neighbors=16 ..................................................\n",
      "[CV] ...................... n_neighbors=16, score=0.401, total=   1.8s\n",
      "[CV] n_neighbors=16 ..................................................\n",
      "[CV] ...................... n_neighbors=16, score=0.406, total=   1.9s\n",
      "[CV] n_neighbors=16 ..................................................\n",
      "[CV] ...................... n_neighbors=16, score=0.403, total=   1.9s\n",
      "[CV] n_neighbors=16 ..................................................\n",
      "[CV] ...................... n_neighbors=16, score=0.411, total=   1.9s\n",
      "[CV] n_neighbors=16 ..................................................\n",
      "[CV] ...................... n_neighbors=16, score=0.404, total=   1.8s\n",
      "[CV] n_neighbors=17 ..................................................\n",
      "[CV] ...................... n_neighbors=17, score=0.399, total=   1.9s\n",
      "[CV] n_neighbors=17 ..................................................\n",
      "[CV] ...................... n_neighbors=17, score=0.405, total=   1.9s\n",
      "[CV] n_neighbors=17 ..................................................\n",
      "[CV] ...................... n_neighbors=17, score=0.403, total=   1.9s\n",
      "[CV] n_neighbors=17 ..................................................\n",
      "[CV] ...................... n_neighbors=17, score=0.410, total=   1.9s\n",
      "[CV] n_neighbors=17 ..................................................\n",
      "[CV] ...................... n_neighbors=17, score=0.403, total=   1.9s\n",
      "[CV] n_neighbors=18 ..................................................\n",
      "[CV] ...................... n_neighbors=18, score=0.398, total=   1.9s\n",
      "[CV] n_neighbors=18 ..................................................\n",
      "[CV] ...................... n_neighbors=18, score=0.404, total=   1.9s\n",
      "[CV] n_neighbors=18 ..................................................\n",
      "[CV] ...................... n_neighbors=18, score=0.400, total=   2.0s\n",
      "[CV] n_neighbors=18 ..................................................\n",
      "[CV] ...................... n_neighbors=18, score=0.407, total=   1.9s\n",
      "[CV] n_neighbors=18 ..................................................\n",
      "[CV] ...................... n_neighbors=18, score=0.403, total=   1.9s\n",
      "[CV] n_neighbors=19 ..................................................\n",
      "[CV] ...................... n_neighbors=19, score=0.398, total=   2.0s\n",
      "[CV] n_neighbors=19 ..................................................\n",
      "[CV] ...................... n_neighbors=19, score=0.403, total=   2.0s\n",
      "[CV] n_neighbors=19 ..................................................\n",
      "[CV] ...................... n_neighbors=19, score=0.401, total=   2.0s\n",
      "[CV] n_neighbors=19 ..................................................\n",
      "[CV] ...................... n_neighbors=19, score=0.406, total=   2.0s\n",
      "[CV] n_neighbors=19 ..................................................\n",
      "[CV] ...................... n_neighbors=19, score=0.403, total=   1.9s\n",
      "[CV] n_neighbors=20 ..................................................\n",
      "[CV] ...................... n_neighbors=20, score=0.398, total=   2.1s\n",
      "[CV] n_neighbors=20 ..................................................\n",
      "[CV] ...................... n_neighbors=20, score=0.403, total=   2.0s\n",
      "[CV] n_neighbors=20 ..................................................\n",
      "[CV] ...................... n_neighbors=20, score=0.401, total=   2.0s\n",
      "[CV] n_neighbors=20 ..................................................\n",
      "[CV] ...................... n_neighbors=20, score=0.406, total=   2.1s\n",
      "[CV] n_neighbors=20 ..................................................\n",
      "[CV] ...................... n_neighbors=20, score=0.401, total=   2.1s\n",
      "[CV] n_neighbors=21 ..................................................\n",
      "[CV] ...................... n_neighbors=21, score=0.398, total=   2.0s\n",
      "[CV] n_neighbors=21 ..................................................\n",
      "[CV] ...................... n_neighbors=21, score=0.402, total=   2.0s\n",
      "[CV] n_neighbors=21 ..................................................\n",
      "[CV] ...................... n_neighbors=21, score=0.399, total=   2.0s\n",
      "[CV] n_neighbors=21 ..................................................\n",
      "[CV] ...................... n_neighbors=21, score=0.404, total=   2.0s\n",
      "[CV] n_neighbors=21 ..................................................\n",
      "[CV] ...................... n_neighbors=21, score=0.401, total=   2.0s\n",
      "[CV] n_neighbors=22 ..................................................\n",
      "[CV] ...................... n_neighbors=22, score=0.397, total=   2.0s\n",
      "[CV] n_neighbors=22 ..................................................\n",
      "[CV] ...................... n_neighbors=22, score=0.402, total=   2.1s\n",
      "[CV] n_neighbors=22 ..................................................\n",
      "[CV] ...................... n_neighbors=22, score=0.399, total=   2.0s\n",
      "[CV] n_neighbors=22 ..................................................\n",
      "[CV] ...................... n_neighbors=22, score=0.404, total=   2.0s\n",
      "[CV] n_neighbors=22 ..................................................\n",
      "[CV] ...................... n_neighbors=22, score=0.400, total=   2.1s\n",
      "[CV] n_neighbors=23 ..................................................\n",
      "[CV] ...................... n_neighbors=23, score=0.396, total=   2.1s\n",
      "[CV] n_neighbors=23 ..................................................\n",
      "[CV] ...................... n_neighbors=23, score=0.401, total=   2.1s\n",
      "[CV] n_neighbors=23 ..................................................\n",
      "[CV] ...................... n_neighbors=23, score=0.397, total=   2.1s\n",
      "[CV] n_neighbors=23 ..................................................\n",
      "[CV] ...................... n_neighbors=23, score=0.403, total=   2.1s\n",
      "[CV] n_neighbors=23 ..................................................\n",
      "[CV] ...................... n_neighbors=23, score=0.401, total=   2.0s\n",
      "[CV] n_neighbors=24 ..................................................\n",
      "[CV] ...................... n_neighbors=24, score=0.397, total=   2.1s\n",
      "[CV] n_neighbors=24 ..................................................\n",
      "[CV] ...................... n_neighbors=24, score=0.400, total=   2.1s\n",
      "[CV] n_neighbors=24 ..................................................\n",
      "[CV] ...................... n_neighbors=24, score=0.396, total=   2.1s\n",
      "[CV] n_neighbors=24 ..................................................\n",
      "[CV] ...................... n_neighbors=24, score=0.402, total=   2.1s\n",
      "[CV] n_neighbors=24 ..................................................\n",
      "[CV] ...................... n_neighbors=24, score=0.400, total=   2.1s\n",
      "[CV] n_neighbors=25 ..................................................\n",
      "[CV] ...................... n_neighbors=25, score=0.395, total=   2.1s\n",
      "[CV] n_neighbors=25 ..................................................\n",
      "[CV] ...................... n_neighbors=25, score=0.399, total=   2.1s\n",
      "[CV] n_neighbors=25 ..................................................\n",
      "[CV] ...................... n_neighbors=25, score=0.396, total=   2.1s\n",
      "[CV] n_neighbors=25 ..................................................\n",
      "[CV] ...................... n_neighbors=25, score=0.401, total=   2.1s\n",
      "[CV] n_neighbors=25 ..................................................\n",
      "[CV] ...................... n_neighbors=25, score=0.399, total=   2.1s\n",
      "[CV] n_neighbors=26 ..................................................\n",
      "[CV] ...................... n_neighbors=26, score=0.393, total=   2.1s\n",
      "[CV] n_neighbors=26 ..................................................\n",
      "[CV] ...................... n_neighbors=26, score=0.399, total=   2.1s\n",
      "[CV] n_neighbors=26 ..................................................\n",
      "[CV] ...................... n_neighbors=26, score=0.394, total=   2.1s\n",
      "[CV] n_neighbors=26 ..................................................\n",
      "[CV] ...................... n_neighbors=26, score=0.401, total=   2.1s\n",
      "[CV] n_neighbors=26 ..................................................\n"
     ]
    },
    {
     "name": "stdout",
     "output_type": "stream",
     "text": [
      "[CV] ...................... n_neighbors=26, score=0.399, total=   2.1s\n",
      "[CV] n_neighbors=27 ..................................................\n",
      "[CV] ...................... n_neighbors=27, score=0.393, total=   2.2s\n",
      "[CV] n_neighbors=27 ..................................................\n",
      "[CV] ...................... n_neighbors=27, score=0.400, total=   2.2s\n",
      "[CV] n_neighbors=27 ..................................................\n",
      "[CV] ...................... n_neighbors=27, score=0.394, total=   2.2s\n",
      "[CV] n_neighbors=27 ..................................................\n",
      "[CV] ...................... n_neighbors=27, score=0.400, total=   2.2s\n",
      "[CV] n_neighbors=27 ..................................................\n",
      "[CV] ...................... n_neighbors=27, score=0.398, total=   2.1s\n",
      "[CV] n_neighbors=28 ..................................................\n",
      "[CV] ...................... n_neighbors=28, score=0.391, total=   2.2s\n",
      "[CV] n_neighbors=28 ..................................................\n",
      "[CV] ...................... n_neighbors=28, score=0.397, total=   2.2s\n",
      "[CV] n_neighbors=28 ..................................................\n",
      "[CV] ...................... n_neighbors=28, score=0.392, total=   2.2s\n",
      "[CV] n_neighbors=28 ..................................................\n",
      "[CV] ...................... n_neighbors=28, score=0.399, total=   2.2s\n",
      "[CV] n_neighbors=28 ..................................................\n",
      "[CV] ...................... n_neighbors=28, score=0.396, total=   2.2s\n",
      "[CV] n_neighbors=29 ..................................................\n",
      "[CV] ...................... n_neighbors=29, score=0.392, total=   2.2s\n",
      "[CV] n_neighbors=29 ..................................................\n",
      "[CV] ...................... n_neighbors=29, score=0.397, total=   2.3s\n",
      "[CV] n_neighbors=29 ..................................................\n",
      "[CV] ...................... n_neighbors=29, score=0.391, total=   2.2s\n",
      "[CV] n_neighbors=29 ..................................................\n",
      "[CV] ...................... n_neighbors=29, score=0.400, total=   2.2s\n",
      "[CV] n_neighbors=29 ..................................................\n",
      "[CV] ...................... n_neighbors=29, score=0.397, total=   2.2s\n",
      "[CV] n_neighbors=30 ..................................................\n",
      "[CV] ...................... n_neighbors=30, score=0.390, total=   2.2s\n",
      "[CV] n_neighbors=30 ..................................................\n",
      "[CV] ...................... n_neighbors=30, score=0.397, total=   2.2s\n",
      "[CV] n_neighbors=30 ..................................................\n",
      "[CV] ...................... n_neighbors=30, score=0.392, total=   2.3s\n",
      "[CV] n_neighbors=30 ..................................................\n",
      "[CV] ...................... n_neighbors=30, score=0.398, total=   2.3s\n",
      "[CV] n_neighbors=30 ..................................................\n",
      "[CV] ...................... n_neighbors=30, score=0.394, total=   2.2s\n",
      "[CV] n_neighbors=31 ..................................................\n",
      "[CV] ...................... n_neighbors=31, score=0.389, total=   2.3s\n",
      "[CV] n_neighbors=31 ..................................................\n",
      "[CV] ...................... n_neighbors=31, score=0.396, total=   2.3s\n",
      "[CV] n_neighbors=31 ..................................................\n",
      "[CV] ...................... n_neighbors=31, score=0.392, total=   2.3s\n",
      "[CV] n_neighbors=31 ..................................................\n",
      "[CV] ...................... n_neighbors=31, score=0.397, total=   2.2s\n",
      "[CV] n_neighbors=31 ..................................................\n",
      "[CV] ...................... n_neighbors=31, score=0.394, total=   2.3s\n",
      "[CV] n_neighbors=32 ..................................................\n",
      "[CV] ...................... n_neighbors=32, score=0.389, total=   2.3s\n",
      "[CV] n_neighbors=32 ..................................................\n",
      "[CV] ...................... n_neighbors=32, score=0.394, total=   2.4s\n",
      "[CV] n_neighbors=32 ..................................................\n",
      "[CV] ...................... n_neighbors=32, score=0.389, total=   2.3s\n",
      "[CV] n_neighbors=32 ..................................................\n",
      "[CV] ...................... n_neighbors=32, score=0.396, total=   2.3s\n",
      "[CV] n_neighbors=32 ..................................................\n",
      "[CV] ...................... n_neighbors=32, score=0.392, total=   2.4s\n",
      "[CV] n_neighbors=33 ..................................................\n",
      "[CV] ...................... n_neighbors=33, score=0.388, total=   2.3s\n",
      "[CV] n_neighbors=33 ..................................................\n",
      "[CV] ...................... n_neighbors=33, score=0.393, total=   2.3s\n",
      "[CV] n_neighbors=33 ..................................................\n",
      "[CV] ...................... n_neighbors=33, score=0.389, total=   2.3s\n",
      "[CV] n_neighbors=33 ..................................................\n",
      "[CV] ...................... n_neighbors=33, score=0.395, total=   2.3s\n",
      "[CV] n_neighbors=33 ..................................................\n",
      "[CV] ...................... n_neighbors=33, score=0.392, total=   2.3s\n",
      "[CV] n_neighbors=34 ..................................................\n",
      "[CV] ...................... n_neighbors=34, score=0.387, total=   2.3s\n",
      "[CV] n_neighbors=34 ..................................................\n",
      "[CV] ...................... n_neighbors=34, score=0.392, total=   2.4s\n",
      "[CV] n_neighbors=34 ..................................................\n",
      "[CV] ...................... n_neighbors=34, score=0.387, total=   2.3s\n",
      "[CV] n_neighbors=34 ..................................................\n",
      "[CV] ...................... n_neighbors=34, score=0.395, total=   2.4s\n",
      "[CV] n_neighbors=34 ..................................................\n",
      "[CV] ...................... n_neighbors=34, score=0.390, total=   2.3s\n",
      "[CV] n_neighbors=35 ..................................................\n",
      "[CV] ...................... n_neighbors=35, score=0.386, total=   2.4s\n",
      "[CV] n_neighbors=35 ..................................................\n",
      "[CV] ...................... n_neighbors=35, score=0.392, total=   2.5s\n",
      "[CV] n_neighbors=35 ..................................................\n",
      "[CV] ...................... n_neighbors=35, score=0.387, total=   2.4s\n",
      "[CV] n_neighbors=35 ..................................................\n",
      "[CV] ...................... n_neighbors=35, score=0.394, total=   2.4s\n",
      "[CV] n_neighbors=35 ..................................................\n",
      "[CV] ...................... n_neighbors=35, score=0.388, total=   2.3s\n",
      "[CV] n_neighbors=36 ..................................................\n",
      "[CV] ...................... n_neighbors=36, score=0.384, total=   2.3s\n",
      "[CV] n_neighbors=36 ..................................................\n",
      "[CV] ...................... n_neighbors=36, score=0.391, total=   2.4s\n",
      "[CV] n_neighbors=36 ..................................................\n",
      "[CV] ...................... n_neighbors=36, score=0.386, total=   2.4s\n",
      "[CV] n_neighbors=36 ..................................................\n",
      "[CV] ...................... n_neighbors=36, score=0.394, total=   2.3s\n",
      "[CV] n_neighbors=36 ..................................................\n",
      "[CV] ...................... n_neighbors=36, score=0.388, total=   2.3s\n",
      "[CV] n_neighbors=37 ..................................................\n",
      "[CV] ...................... n_neighbors=37, score=0.384, total=   2.4s\n",
      "[CV] n_neighbors=37 ..................................................\n",
      "[CV] ...................... n_neighbors=37, score=0.391, total=   2.4s\n",
      "[CV] n_neighbors=37 ..................................................\n",
      "[CV] ...................... n_neighbors=37, score=0.387, total=   2.4s\n",
      "[CV] n_neighbors=37 ..................................................\n",
      "[CV] ...................... n_neighbors=37, score=0.393, total=   2.4s\n",
      "[CV] n_neighbors=37 ..................................................\n",
      "[CV] ...................... n_neighbors=37, score=0.388, total=   2.4s\n",
      "[CV] n_neighbors=38 ..................................................\n",
      "[CV] ...................... n_neighbors=38, score=0.383, total=   2.4s\n",
      "[CV] n_neighbors=38 ..................................................\n",
      "[CV] ...................... n_neighbors=38, score=0.391, total=   2.4s\n",
      "[CV] n_neighbors=38 ..................................................\n"
     ]
    },
    {
     "name": "stdout",
     "output_type": "stream",
     "text": [
      "[CV] ...................... n_neighbors=38, score=0.386, total=   2.4s\n",
      "[CV] n_neighbors=38 ..................................................\n",
      "[CV] ...................... n_neighbors=38, score=0.392, total=   2.4s\n",
      "[CV] n_neighbors=38 ..................................................\n",
      "[CV] ...................... n_neighbors=38, score=0.387, total=   2.4s\n",
      "[CV] n_neighbors=39 ..................................................\n",
      "[CV] ...................... n_neighbors=39, score=0.381, total=   2.4s\n",
      "[CV] n_neighbors=39 ..................................................\n",
      "[CV] ...................... n_neighbors=39, score=0.390, total=   2.4s\n",
      "[CV] n_neighbors=39 ..................................................\n",
      "[CV] ...................... n_neighbors=39, score=0.384, total=   2.4s\n",
      "[CV] n_neighbors=39 ..................................................\n",
      "[CV] ...................... n_neighbors=39, score=0.393, total=   2.4s\n",
      "[CV] n_neighbors=39 ..................................................\n",
      "[CV] ...................... n_neighbors=39, score=0.386, total=   2.4s\n",
      "[CV] n_neighbors=40 ..................................................\n",
      "[CV] ...................... n_neighbors=40, score=0.380, total=   2.4s\n",
      "[CV] n_neighbors=40 ..................................................\n",
      "[CV] ...................... n_neighbors=40, score=0.389, total=   2.5s\n",
      "[CV] n_neighbors=40 ..................................................\n",
      "[CV] ...................... n_neighbors=40, score=0.383, total=   2.6s\n",
      "[CV] n_neighbors=40 ..................................................\n",
      "[CV] ...................... n_neighbors=40, score=0.391, total=   2.6s\n",
      "[CV] n_neighbors=40 ..................................................\n",
      "[CV] ...................... n_neighbors=40, score=0.386, total=   2.5s\n",
      "[CV] n_neighbors=41 ..................................................\n",
      "[CV] ...................... n_neighbors=41, score=0.379, total=   2.5s\n",
      "[CV] n_neighbors=41 ..................................................\n",
      "[CV] ...................... n_neighbors=41, score=0.389, total=   2.5s\n",
      "[CV] n_neighbors=41 ..................................................\n",
      "[CV] ...................... n_neighbors=41, score=0.383, total=   2.5s\n",
      "[CV] n_neighbors=41 ..................................................\n",
      "[CV] ...................... n_neighbors=41, score=0.390, total=   2.5s\n",
      "[CV] n_neighbors=41 ..................................................\n",
      "[CV] ...................... n_neighbors=41, score=0.384, total=   2.6s\n",
      "[CV] n_neighbors=42 ..................................................\n",
      "[CV] ...................... n_neighbors=42, score=0.378, total=   2.7s\n",
      "[CV] n_neighbors=42 ..................................................\n",
      "[CV] ...................... n_neighbors=42, score=0.389, total=   2.6s\n",
      "[CV] n_neighbors=42 ..................................................\n",
      "[CV] ...................... n_neighbors=42, score=0.382, total=   2.6s\n",
      "[CV] n_neighbors=42 ..................................................\n",
      "[CV] ...................... n_neighbors=42, score=0.388, total=   2.6s\n",
      "[CV] n_neighbors=42 ..................................................\n",
      "[CV] ...................... n_neighbors=42, score=0.384, total=   2.7s\n",
      "[CV] n_neighbors=43 ..................................................\n",
      "[CV] ...................... n_neighbors=43, score=0.377, total=   2.7s\n",
      "[CV] n_neighbors=43 ..................................................\n",
      "[CV] ...................... n_neighbors=43, score=0.387, total=   2.7s\n",
      "[CV] n_neighbors=43 ..................................................\n",
      "[CV] ...................... n_neighbors=43, score=0.382, total=   2.6s\n",
      "[CV] n_neighbors=43 ..................................................\n",
      "[CV] ...................... n_neighbors=43, score=0.387, total=   2.8s\n",
      "[CV] n_neighbors=43 ..................................................\n",
      "[CV] ...................... n_neighbors=43, score=0.383, total=   2.7s\n",
      "[CV] n_neighbors=44 ..................................................\n",
      "[CV] ...................... n_neighbors=44, score=0.378, total=   2.6s\n",
      "[CV] n_neighbors=44 ..................................................\n",
      "[CV] ...................... n_neighbors=44, score=0.387, total=   2.7s\n",
      "[CV] n_neighbors=44 ..................................................\n",
      "[CV] ...................... n_neighbors=44, score=0.381, total=   2.7s\n",
      "[CV] n_neighbors=44 ..................................................\n",
      "[CV] ...................... n_neighbors=44, score=0.387, total=   2.6s\n",
      "[CV] n_neighbors=44 ..................................................\n",
      "[CV] ...................... n_neighbors=44, score=0.384, total=   2.6s\n",
      "[CV] n_neighbors=45 ..................................................\n",
      "[CV] ...................... n_neighbors=45, score=0.377, total=   3.0s\n",
      "[CV] n_neighbors=45 ..................................................\n",
      "[CV] ...................... n_neighbors=45, score=0.386, total=   2.6s\n",
      "[CV] n_neighbors=45 ..................................................\n",
      "[CV] ...................... n_neighbors=45, score=0.381, total=   2.6s\n",
      "[CV] n_neighbors=45 ..................................................\n",
      "[CV] ...................... n_neighbors=45, score=0.387, total=   2.6s\n",
      "[CV] n_neighbors=45 ..................................................\n",
      "[CV] ...................... n_neighbors=45, score=0.383, total=   2.6s\n",
      "[CV] n_neighbors=46 ..................................................\n",
      "[CV] ...................... n_neighbors=46, score=0.378, total=   2.6s\n",
      "[CV] n_neighbors=46 ..................................................\n",
      "[CV] ...................... n_neighbors=46, score=0.387, total=   2.6s\n",
      "[CV] n_neighbors=46 ..................................................\n",
      "[CV] ...................... n_neighbors=46, score=0.381, total=   2.6s\n",
      "[CV] n_neighbors=46 ..................................................\n",
      "[CV] ...................... n_neighbors=46, score=0.385, total=   2.6s\n",
      "[CV] n_neighbors=46 ..................................................\n",
      "[CV] ...................... n_neighbors=46, score=0.382, total=   2.6s\n",
      "[CV] n_neighbors=47 ..................................................\n",
      "[CV] ...................... n_neighbors=47, score=0.378, total=   2.6s\n",
      "[CV] n_neighbors=47 ..................................................\n",
      "[CV] ...................... n_neighbors=47, score=0.385, total=   2.6s\n",
      "[CV] n_neighbors=47 ..................................................\n",
      "[CV] ...................... n_neighbors=47, score=0.379, total=   2.6s\n",
      "[CV] n_neighbors=47 ..................................................\n",
      "[CV] ...................... n_neighbors=47, score=0.385, total=   2.6s\n",
      "[CV] n_neighbors=47 ..................................................\n",
      "[CV] ...................... n_neighbors=47, score=0.382, total=   2.6s\n",
      "[CV] n_neighbors=48 ..................................................\n",
      "[CV] ...................... n_neighbors=48, score=0.377, total=   2.6s\n",
      "[CV] n_neighbors=48 ..................................................\n",
      "[CV] ...................... n_neighbors=48, score=0.385, total=   2.6s\n",
      "[CV] n_neighbors=48 ..................................................\n",
      "[CV] ...................... n_neighbors=48, score=0.379, total=   2.7s\n",
      "[CV] n_neighbors=48 ..................................................\n",
      "[CV] ...................... n_neighbors=48, score=0.384, total=   2.6s\n",
      "[CV] n_neighbors=48 ..................................................\n",
      "[CV] ...................... n_neighbors=48, score=0.382, total=   2.7s\n",
      "[CV] n_neighbors=49 ..................................................\n",
      "[CV] ...................... n_neighbors=49, score=0.375, total=   2.6s\n",
      "[CV] n_neighbors=49 ..................................................\n",
      "[CV] ...................... n_neighbors=49, score=0.386, total=   2.7s\n",
      "[CV] n_neighbors=49 ..................................................\n",
      "[CV] ...................... n_neighbors=49, score=0.379, total=   2.7s\n",
      "[CV] n_neighbors=49 ..................................................\n",
      "[CV] ...................... n_neighbors=49, score=0.383, total=   2.7s\n",
      "[CV] n_neighbors=49 ..................................................\n",
      "[CV] ...................... n_neighbors=49, score=0.381, total=   2.7s\n",
      "[CV] n_neighbors=50 ..................................................\n"
     ]
    },
    {
     "name": "stdout",
     "output_type": "stream",
     "text": [
      "[CV] ...................... n_neighbors=50, score=0.373, total=   2.7s\n",
      "[CV] n_neighbors=50 ..................................................\n",
      "[CV] ...................... n_neighbors=50, score=0.385, total=   2.7s\n",
      "[CV] n_neighbors=50 ..................................................\n",
      "[CV] ...................... n_neighbors=50, score=0.378, total=   2.7s\n",
      "[CV] n_neighbors=50 ..................................................\n",
      "[CV] ...................... n_neighbors=50, score=0.381, total=   2.7s\n",
      "[CV] n_neighbors=50 ..................................................\n",
      "[CV] ...................... n_neighbors=50, score=0.380, total=   2.8s\n",
      "[CV] n_neighbors=51 ..................................................\n",
      "[CV] ...................... n_neighbors=51, score=0.373, total=   2.7s\n",
      "[CV] n_neighbors=51 ..................................................\n",
      "[CV] ...................... n_neighbors=51, score=0.384, total=   2.7s\n",
      "[CV] n_neighbors=51 ..................................................\n",
      "[CV] ...................... n_neighbors=51, score=0.377, total=   2.7s\n",
      "[CV] n_neighbors=51 ..................................................\n",
      "[CV] ...................... n_neighbors=51, score=0.381, total=   2.7s\n",
      "[CV] n_neighbors=51 ..................................................\n",
      "[CV] ...................... n_neighbors=51, score=0.379, total=   2.7s\n",
      "[CV] n_neighbors=52 ..................................................\n",
      "[CV] ...................... n_neighbors=52, score=0.372, total=   2.7s\n",
      "[CV] n_neighbors=52 ..................................................\n",
      "[CV] ...................... n_neighbors=52, score=0.383, total=   2.7s\n",
      "[CV] n_neighbors=52 ..................................................\n",
      "[CV] ...................... n_neighbors=52, score=0.376, total=   2.7s\n",
      "[CV] n_neighbors=52 ..................................................\n",
      "[CV] ...................... n_neighbors=52, score=0.380, total=   2.7s\n",
      "[CV] n_neighbors=52 ..................................................\n",
      "[CV] ...................... n_neighbors=52, score=0.378, total=   2.7s\n",
      "[CV] n_neighbors=53 ..................................................\n",
      "[CV] ...................... n_neighbors=53, score=0.372, total=   2.7s\n",
      "[CV] n_neighbors=53 ..................................................\n",
      "[CV] ...................... n_neighbors=53, score=0.382, total=   2.7s\n",
      "[CV] n_neighbors=53 ..................................................\n",
      "[CV] ...................... n_neighbors=53, score=0.374, total=   2.7s\n",
      "[CV] n_neighbors=53 ..................................................\n",
      "[CV] ...................... n_neighbors=53, score=0.379, total=   2.7s\n",
      "[CV] n_neighbors=53 ..................................................\n",
      "[CV] ...................... n_neighbors=53, score=0.379, total=   2.7s\n",
      "[CV] n_neighbors=54 ..................................................\n",
      "[CV] ...................... n_neighbors=54, score=0.371, total=   2.7s\n",
      "[CV] n_neighbors=54 ..................................................\n",
      "[CV] ...................... n_neighbors=54, score=0.382, total=   2.7s\n",
      "[CV] n_neighbors=54 ..................................................\n",
      "[CV] ...................... n_neighbors=54, score=0.374, total=   2.7s\n",
      "[CV] n_neighbors=54 ..................................................\n",
      "[CV] ...................... n_neighbors=54, score=0.378, total=   2.7s\n",
      "[CV] n_neighbors=54 ..................................................\n",
      "[CV] ...................... n_neighbors=54, score=0.378, total=   2.7s\n",
      "[CV] n_neighbors=55 ..................................................\n",
      "[CV] ...................... n_neighbors=55, score=0.370, total=   2.7s\n",
      "[CV] n_neighbors=55 ..................................................\n",
      "[CV] ...................... n_neighbors=55, score=0.382, total=   2.8s\n",
      "[CV] n_neighbors=55 ..................................................\n",
      "[CV] ...................... n_neighbors=55, score=0.374, total=   2.9s\n",
      "[CV] n_neighbors=55 ..................................................\n",
      "[CV] ...................... n_neighbors=55, score=0.377, total=   2.9s\n",
      "[CV] n_neighbors=55 ..................................................\n",
      "[CV] ...................... n_neighbors=55, score=0.376, total=   2.8s\n",
      "[CV] n_neighbors=56 ..................................................\n",
      "[CV] ...................... n_neighbors=56, score=0.369, total=   2.9s\n",
      "[CV] n_neighbors=56 ..................................................\n",
      "[CV] ...................... n_neighbors=56, score=0.382, total=   2.8s\n",
      "[CV] n_neighbors=56 ..................................................\n",
      "[CV] ...................... n_neighbors=56, score=0.373, total=   2.8s\n",
      "[CV] n_neighbors=56 ..................................................\n",
      "[CV] ...................... n_neighbors=56, score=0.376, total=   2.8s\n",
      "[CV] n_neighbors=56 ..................................................\n",
      "[CV] ...................... n_neighbors=56, score=0.376, total=   2.8s\n",
      "[CV] n_neighbors=57 ..................................................\n",
      "[CV] ...................... n_neighbors=57, score=0.368, total=   2.8s\n",
      "[CV] n_neighbors=57 ..................................................\n",
      "[CV] ...................... n_neighbors=57, score=0.381, total=   2.8s\n",
      "[CV] n_neighbors=57 ..................................................\n",
      "[CV] ...................... n_neighbors=57, score=0.372, total=   2.8s\n",
      "[CV] n_neighbors=57 ..................................................\n",
      "[CV] ...................... n_neighbors=57, score=0.376, total=   2.8s\n",
      "[CV] n_neighbors=57 ..................................................\n",
      "[CV] ...................... n_neighbors=57, score=0.375, total=   2.8s\n",
      "[CV] n_neighbors=58 ..................................................\n",
      "[CV] ...................... n_neighbors=58, score=0.367, total=   2.8s\n",
      "[CV] n_neighbors=58 ..................................................\n",
      "[CV] ...................... n_neighbors=58, score=0.379, total=   2.8s\n",
      "[CV] n_neighbors=58 ..................................................\n",
      "[CV] ...................... n_neighbors=58, score=0.372, total=   2.8s\n",
      "[CV] n_neighbors=58 ..................................................\n",
      "[CV] ...................... n_neighbors=58, score=0.374, total=   2.8s\n",
      "[CV] n_neighbors=58 ..................................................\n",
      "[CV] ...................... n_neighbors=58, score=0.375, total=   2.8s\n",
      "[CV] n_neighbors=59 ..................................................\n",
      "[CV] ...................... n_neighbors=59, score=0.368, total=   2.8s\n",
      "[CV] n_neighbors=59 ..................................................\n",
      "[CV] ...................... n_neighbors=59, score=0.379, total=   2.9s\n",
      "[CV] n_neighbors=59 ..................................................\n",
      "[CV] ...................... n_neighbors=59, score=0.371, total=   3.0s\n",
      "[CV] n_neighbors=59 ..................................................\n",
      "[CV] ...................... n_neighbors=59, score=0.375, total=   2.9s\n",
      "[CV] n_neighbors=59 ..................................................\n",
      "[CV] ...................... n_neighbors=59, score=0.375, total=   2.9s\n",
      "[CV] n_neighbors=60 ..................................................\n",
      "[CV] ...................... n_neighbors=60, score=0.367, total=   2.9s\n",
      "[CV] n_neighbors=60 ..................................................\n",
      "[CV] ...................... n_neighbors=60, score=0.378, total=   3.1s\n",
      "[CV] n_neighbors=60 ..................................................\n",
      "[CV] ...................... n_neighbors=60, score=0.370, total=   2.9s\n",
      "[CV] n_neighbors=60 ..................................................\n",
      "[CV] ...................... n_neighbors=60, score=0.373, total=   2.9s\n",
      "[CV] n_neighbors=60 ..................................................\n",
      "[CV] ...................... n_neighbors=60, score=0.375, total=   2.8s\n",
      "[CV] n_neighbors=61 ..................................................\n",
      "[CV] ...................... n_neighbors=61, score=0.366, total=   2.9s\n",
      "[CV] n_neighbors=61 ..................................................\n",
      "[CV] ...................... n_neighbors=61, score=0.378, total=   3.0s\n",
      "[CV] n_neighbors=61 ..................................................\n",
      "[CV] ...................... n_neighbors=61, score=0.370, total=   2.9s\n",
      "[CV] n_neighbors=61 ..................................................\n"
     ]
    },
    {
     "name": "stdout",
     "output_type": "stream",
     "text": [
      "[CV] ...................... n_neighbors=61, score=0.372, total=   2.9s\n",
      "[CV] n_neighbors=61 ..................................................\n",
      "[CV] ...................... n_neighbors=61, score=0.374, total=   2.8s\n",
      "[CV] n_neighbors=62 ..................................................\n",
      "[CV] ...................... n_neighbors=62, score=0.365, total=   2.9s\n",
      "[CV] n_neighbors=62 ..................................................\n",
      "[CV] ...................... n_neighbors=62, score=0.377, total=   2.9s\n",
      "[CV] n_neighbors=62 ..................................................\n",
      "[CV] ...................... n_neighbors=62, score=0.369, total=   2.9s\n",
      "[CV] n_neighbors=62 ..................................................\n",
      "[CV] ...................... n_neighbors=62, score=0.372, total=   2.9s\n",
      "[CV] n_neighbors=62 ..................................................\n",
      "[CV] ...................... n_neighbors=62, score=0.373, total=   2.9s\n",
      "[CV] n_neighbors=63 ..................................................\n",
      "[CV] ...................... n_neighbors=63, score=0.365, total=   3.0s\n",
      "[CV] n_neighbors=63 ..................................................\n",
      "[CV] ...................... n_neighbors=63, score=0.377, total=   3.0s\n",
      "[CV] n_neighbors=63 ..................................................\n",
      "[CV] ...................... n_neighbors=63, score=0.369, total=   2.9s\n",
      "[CV] n_neighbors=63 ..................................................\n",
      "[CV] ...................... n_neighbors=63, score=0.372, total=   2.9s\n",
      "[CV] n_neighbors=63 ..................................................\n",
      "[CV] ...................... n_neighbors=63, score=0.373, total=   2.9s\n",
      "[CV] n_neighbors=64 ..................................................\n",
      "[CV] ...................... n_neighbors=64, score=0.365, total=   3.0s\n",
      "[CV] n_neighbors=64 ..................................................\n",
      "[CV] ...................... n_neighbors=64, score=0.376, total=   2.9s\n",
      "[CV] n_neighbors=64 ..................................................\n",
      "[CV] ...................... n_neighbors=64, score=0.367, total=   2.9s\n",
      "[CV] n_neighbors=64 ..................................................\n",
      "[CV] ...................... n_neighbors=64, score=0.370, total=   2.9s\n",
      "[CV] n_neighbors=64 ..................................................\n",
      "[CV] ...................... n_neighbors=64, score=0.371, total=   3.0s\n",
      "[CV] n_neighbors=65 ..................................................\n",
      "[CV] ...................... n_neighbors=65, score=0.364, total=   3.0s\n",
      "[CV] n_neighbors=65 ..................................................\n",
      "[CV] ...................... n_neighbors=65, score=0.376, total=   3.0s\n",
      "[CV] n_neighbors=65 ..................................................\n",
      "[CV] ...................... n_neighbors=65, score=0.367, total=   3.0s\n",
      "[CV] n_neighbors=65 ..................................................\n",
      "[CV] ...................... n_neighbors=65, score=0.371, total=   3.0s\n",
      "[CV] n_neighbors=65 ..................................................\n",
      "[CV] ...................... n_neighbors=65, score=0.370, total=   2.9s\n",
      "[CV] n_neighbors=66 ..................................................\n",
      "[CV] ...................... n_neighbors=66, score=0.363, total=   3.0s\n",
      "[CV] n_neighbors=66 ..................................................\n",
      "[CV] ...................... n_neighbors=66, score=0.375, total=   3.0s\n",
      "[CV] n_neighbors=66 ..................................................\n",
      "[CV] ...................... n_neighbors=66, score=0.367, total=   3.0s\n",
      "[CV] n_neighbors=66 ..................................................\n",
      "[CV] ...................... n_neighbors=66, score=0.371, total=   3.0s\n",
      "[CV] n_neighbors=66 ..................................................\n",
      "[CV] ...................... n_neighbors=66, score=0.370, total=   3.0s\n",
      "[CV] n_neighbors=67 ..................................................\n",
      "[CV] ...................... n_neighbors=67, score=0.364, total=   3.0s\n",
      "[CV] n_neighbors=67 ..................................................\n",
      "[CV] ...................... n_neighbors=67, score=0.375, total=   3.1s\n",
      "[CV] n_neighbors=67 ..................................................\n",
      "[CV] ...................... n_neighbors=67, score=0.367, total=   3.0s\n",
      "[CV] n_neighbors=67 ..................................................\n",
      "[CV] ...................... n_neighbors=67, score=0.370, total=   3.1s\n",
      "[CV] n_neighbors=67 ..................................................\n",
      "[CV] ...................... n_neighbors=67, score=0.369, total=   3.0s\n",
      "[CV] n_neighbors=68 ..................................................\n",
      "[CV] ...................... n_neighbors=68, score=0.363, total=   3.0s\n",
      "[CV] n_neighbors=68 ..................................................\n",
      "[CV] ...................... n_neighbors=68, score=0.374, total=   3.1s\n",
      "[CV] n_neighbors=68 ..................................................\n",
      "[CV] ...................... n_neighbors=68, score=0.366, total=   3.0s\n",
      "[CV] n_neighbors=68 ..................................................\n",
      "[CV] ...................... n_neighbors=68, score=0.369, total=   3.0s\n",
      "[CV] n_neighbors=68 ..................................................\n",
      "[CV] ...................... n_neighbors=68, score=0.368, total=   3.0s\n",
      "[CV] n_neighbors=69 ..................................................\n",
      "[CV] ...................... n_neighbors=69, score=0.363, total=   3.1s\n",
      "[CV] n_neighbors=69 ..................................................\n",
      "[CV] ...................... n_neighbors=69, score=0.373, total=   3.1s\n",
      "[CV] n_neighbors=69 ..................................................\n",
      "[CV] ...................... n_neighbors=69, score=0.364, total=   3.0s\n",
      "[CV] n_neighbors=69 ..................................................\n",
      "[CV] ...................... n_neighbors=69, score=0.369, total=   3.0s\n",
      "[CV] n_neighbors=69 ..................................................\n",
      "[CV] ...................... n_neighbors=69, score=0.368, total=   3.0s\n",
      "[CV] n_neighbors=70 ..................................................\n",
      "[CV] ...................... n_neighbors=70, score=0.362, total=   3.0s\n",
      "[CV] n_neighbors=70 ..................................................\n",
      "[CV] ...................... n_neighbors=70, score=0.373, total=   3.1s\n",
      "[CV] n_neighbors=70 ..................................................\n",
      "[CV] ...................... n_neighbors=70, score=0.365, total=   3.1s\n",
      "[CV] n_neighbors=70 ..................................................\n",
      "[CV] ...................... n_neighbors=70, score=0.367, total=   3.1s\n",
      "[CV] n_neighbors=70 ..................................................\n",
      "[CV] ...................... n_neighbors=70, score=0.367, total=   3.1s\n",
      "[CV] n_neighbors=71 ..................................................\n",
      "[CV] ...................... n_neighbors=71, score=0.362, total=   3.1s\n",
      "[CV] n_neighbors=71 ..................................................\n",
      "[CV] ...................... n_neighbors=71, score=0.372, total=   3.1s\n",
      "[CV] n_neighbors=71 ..................................................\n",
      "[CV] ...................... n_neighbors=71, score=0.365, total=   3.0s\n",
      "[CV] n_neighbors=71 ..................................................\n",
      "[CV] ...................... n_neighbors=71, score=0.367, total=   3.1s\n",
      "[CV] n_neighbors=71 ..................................................\n",
      "[CV] ...................... n_neighbors=71, score=0.366, total=   3.0s\n",
      "[CV] n_neighbors=72 ..................................................\n",
      "[CV] ...................... n_neighbors=72, score=0.360, total=   3.1s\n",
      "[CV] n_neighbors=72 ..................................................\n",
      "[CV] ...................... n_neighbors=72, score=0.371, total=   3.1s\n",
      "[CV] n_neighbors=72 ..................................................\n",
      "[CV] ...................... n_neighbors=72, score=0.364, total=   3.1s\n",
      "[CV] n_neighbors=72 ..................................................\n",
      "[CV] ...................... n_neighbors=72, score=0.366, total=   3.1s\n",
      "[CV] n_neighbors=72 ..................................................\n",
      "[CV] ...................... n_neighbors=72, score=0.366, total=   3.0s\n",
      "[CV] n_neighbors=73 ..................................................\n",
      "[CV] ...................... n_neighbors=73, score=0.360, total=   3.1s\n",
      "[CV] n_neighbors=73 ..................................................\n"
     ]
    },
    {
     "name": "stdout",
     "output_type": "stream",
     "text": [
      "[CV] ...................... n_neighbors=73, score=0.370, total=   3.2s\n",
      "[CV] n_neighbors=73 ..................................................\n",
      "[CV] ...................... n_neighbors=73, score=0.363, total=   3.1s\n",
      "[CV] n_neighbors=73 ..................................................\n",
      "[CV] ...................... n_neighbors=73, score=0.366, total=   3.1s\n",
      "[CV] n_neighbors=73 ..................................................\n",
      "[CV] ...................... n_neighbors=73, score=0.365, total=   3.1s\n",
      "[CV] n_neighbors=74 ..................................................\n",
      "[CV] ...................... n_neighbors=74, score=0.357, total=   3.1s\n",
      "[CV] n_neighbors=74 ..................................................\n",
      "[CV] ...................... n_neighbors=74, score=0.370, total=   3.1s\n",
      "[CV] n_neighbors=74 ..................................................\n",
      "[CV] ...................... n_neighbors=74, score=0.362, total=   3.1s\n",
      "[CV] n_neighbors=74 ..................................................\n",
      "[CV] ...................... n_neighbors=74, score=0.366, total=   3.3s\n",
      "[CV] n_neighbors=74 ..................................................\n",
      "[CV] ...................... n_neighbors=74, score=0.364, total=   3.1s\n",
      "[CV] n_neighbors=75 ..................................................\n",
      "[CV] ...................... n_neighbors=75, score=0.356, total=   3.2s\n",
      "[CV] n_neighbors=75 ..................................................\n",
      "[CV] ...................... n_neighbors=75, score=0.369, total=   3.2s\n",
      "[CV] n_neighbors=75 ..................................................\n",
      "[CV] ...................... n_neighbors=75, score=0.361, total=   3.2s\n",
      "[CV] n_neighbors=75 ..................................................\n",
      "[CV] ...................... n_neighbors=75, score=0.364, total=   3.2s\n",
      "[CV] n_neighbors=75 ..................................................\n",
      "[CV] ...................... n_neighbors=75, score=0.363, total=   3.1s\n",
      "[CV] n_neighbors=76 ..................................................\n",
      "[CV] ...................... n_neighbors=76, score=0.355, total=   3.2s\n",
      "[CV] n_neighbors=76 ..................................................\n",
      "[CV] ...................... n_neighbors=76, score=0.368, total=   3.3s\n",
      "[CV] n_neighbors=76 ..................................................\n",
      "[CV] ...................... n_neighbors=76, score=0.362, total=   3.2s\n",
      "[CV] n_neighbors=76 ..................................................\n",
      "[CV] ...................... n_neighbors=76, score=0.364, total=   3.2s\n",
      "[CV] n_neighbors=76 ..................................................\n",
      "[CV] ...................... n_neighbors=76, score=0.363, total=   3.2s\n",
      "[CV] n_neighbors=77 ..................................................\n",
      "[CV] ...................... n_neighbors=77, score=0.355, total=   3.2s\n",
      "[CV] n_neighbors=77 ..................................................\n",
      "[CV] ...................... n_neighbors=77, score=0.366, total=   3.2s\n",
      "[CV] n_neighbors=77 ..................................................\n",
      "[CV] ...................... n_neighbors=77, score=0.362, total=   3.2s\n",
      "[CV] n_neighbors=77 ..................................................\n",
      "[CV] ...................... n_neighbors=77, score=0.364, total=   3.2s\n",
      "[CV] n_neighbors=77 ..................................................\n",
      "[CV] ...................... n_neighbors=77, score=0.362, total=   3.1s\n",
      "[CV] n_neighbors=78 ..................................................\n",
      "[CV] ...................... n_neighbors=78, score=0.354, total=   3.2s\n",
      "[CV] n_neighbors=78 ..................................................\n",
      "[CV] ...................... n_neighbors=78, score=0.366, total=   3.2s\n",
      "[CV] n_neighbors=78 ..................................................\n",
      "[CV] ...................... n_neighbors=78, score=0.362, total=   3.2s\n",
      "[CV] n_neighbors=78 ..................................................\n",
      "[CV] ...................... n_neighbors=78, score=0.364, total=   3.2s\n",
      "[CV] n_neighbors=78 ..................................................\n",
      "[CV] ...................... n_neighbors=78, score=0.363, total=   3.2s\n",
      "[CV] n_neighbors=79 ..................................................\n",
      "[CV] ...................... n_neighbors=79, score=0.354, total=   3.2s\n",
      "[CV] n_neighbors=79 ..................................................\n",
      "[CV] ...................... n_neighbors=79, score=0.365, total=   3.2s\n",
      "[CV] n_neighbors=79 ..................................................\n",
      "[CV] ...................... n_neighbors=79, score=0.361, total=   3.2s\n",
      "[CV] n_neighbors=79 ..................................................\n",
      "[CV] ...................... n_neighbors=79, score=0.363, total=   3.3s\n",
      "[CV] n_neighbors=79 ..................................................\n",
      "[CV] ...................... n_neighbors=79, score=0.362, total=   3.2s\n",
      "[CV] n_neighbors=80 ..................................................\n",
      "[CV] ...................... n_neighbors=80, score=0.353, total=   3.3s\n",
      "[CV] n_neighbors=80 ..................................................\n",
      "[CV] ...................... n_neighbors=80, score=0.365, total=   3.3s\n",
      "[CV] n_neighbors=80 ..................................................\n",
      "[CV] ...................... n_neighbors=80, score=0.359, total=   3.2s\n",
      "[CV] n_neighbors=80 ..................................................\n",
      "[CV] ...................... n_neighbors=80, score=0.363, total=   3.2s\n",
      "[CV] n_neighbors=80 ..................................................\n",
      "[CV] ...................... n_neighbors=80, score=0.361, total=   3.2s\n",
      "[CV] n_neighbors=81 ..................................................\n",
      "[CV] ...................... n_neighbors=81, score=0.351, total=   3.3s\n",
      "[CV] n_neighbors=81 ..................................................\n",
      "[CV] ...................... n_neighbors=81, score=0.364, total=   3.3s\n",
      "[CV] n_neighbors=81 ..................................................\n",
      "[CV] ...................... n_neighbors=81, score=0.359, total=   3.3s\n",
      "[CV] n_neighbors=81 ..................................................\n",
      "[CV] ...................... n_neighbors=81, score=0.361, total=   3.3s\n",
      "[CV] n_neighbors=81 ..................................................\n",
      "[CV] ...................... n_neighbors=81, score=0.361, total=   3.2s\n",
      "[CV] n_neighbors=82 ..................................................\n",
      "[CV] ...................... n_neighbors=82, score=0.351, total=   3.3s\n",
      "[CV] n_neighbors=82 ..................................................\n",
      "[CV] ...................... n_neighbors=82, score=0.364, total=   3.3s\n",
      "[CV] n_neighbors=82 ..................................................\n",
      "[CV] ...................... n_neighbors=82, score=0.358, total=   3.3s\n",
      "[CV] n_neighbors=82 ..................................................\n",
      "[CV] ...................... n_neighbors=82, score=0.360, total=   3.3s\n",
      "[CV] n_neighbors=82 ..................................................\n",
      "[CV] ...................... n_neighbors=82, score=0.361, total=   3.3s\n",
      "[CV] n_neighbors=83 ..................................................\n",
      "[CV] ...................... n_neighbors=83, score=0.351, total=   3.3s\n",
      "[CV] n_neighbors=83 ..................................................\n",
      "[CV] ...................... n_neighbors=83, score=0.363, total=   3.4s\n",
      "[CV] n_neighbors=83 ..................................................\n",
      "[CV] ...................... n_neighbors=83, score=0.358, total=   3.4s\n",
      "[CV] n_neighbors=83 ..................................................\n",
      "[CV] ...................... n_neighbors=83, score=0.359, total=   3.3s\n",
      "[CV] n_neighbors=83 ..................................................\n",
      "[CV] ...................... n_neighbors=83, score=0.360, total=   3.3s\n",
      "[CV] n_neighbors=84 ..................................................\n",
      "[CV] ...................... n_neighbors=84, score=0.350, total=   3.3s\n",
      "[CV] n_neighbors=84 ..................................................\n",
      "[CV] ...................... n_neighbors=84, score=0.362, total=   3.5s\n",
      "[CV] n_neighbors=84 ..................................................\n",
      "[CV] ...................... n_neighbors=84, score=0.357, total=   3.5s\n",
      "[CV] n_neighbors=84 ..................................................\n",
      "[CV] ...................... n_neighbors=84, score=0.359, total=   3.4s\n",
      "[CV] n_neighbors=84 ..................................................\n"
     ]
    },
    {
     "name": "stdout",
     "output_type": "stream",
     "text": [
      "[CV] ...................... n_neighbors=84, score=0.359, total=   3.3s\n",
      "[CV] n_neighbors=85 ..................................................\n",
      "[CV] ...................... n_neighbors=85, score=0.349, total=   3.4s\n",
      "[CV] n_neighbors=85 ..................................................\n",
      "[CV] ...................... n_neighbors=85, score=0.362, total=   3.5s\n",
      "[CV] n_neighbors=85 ..................................................\n",
      "[CV] ...................... n_neighbors=85, score=0.357, total=   3.4s\n",
      "[CV] n_neighbors=85 ..................................................\n",
      "[CV] ...................... n_neighbors=85, score=0.359, total=   3.4s\n",
      "[CV] n_neighbors=85 ..................................................\n",
      "[CV] ...................... n_neighbors=85, score=0.358, total=   3.4s\n",
      "[CV] n_neighbors=86 ..................................................\n",
      "[CV] ...................... n_neighbors=86, score=0.348, total=   3.4s\n",
      "[CV] n_neighbors=86 ..................................................\n",
      "[CV] ...................... n_neighbors=86, score=0.361, total=   3.4s\n",
      "[CV] n_neighbors=86 ..................................................\n",
      "[CV] ...................... n_neighbors=86, score=0.356, total=   3.4s\n",
      "[CV] n_neighbors=86 ..................................................\n",
      "[CV] ...................... n_neighbors=86, score=0.359, total=   3.4s\n",
      "[CV] n_neighbors=86 ..................................................\n",
      "[CV] ...................... n_neighbors=86, score=0.357, total=   3.4s\n",
      "[CV] n_neighbors=87 ..................................................\n",
      "[CV] ...................... n_neighbors=87, score=0.348, total=   3.4s\n",
      "[CV] n_neighbors=87 ..................................................\n",
      "[CV] ...................... n_neighbors=87, score=0.360, total=   3.4s\n",
      "[CV] n_neighbors=87 ..................................................\n",
      "[CV] ...................... n_neighbors=87, score=0.356, total=   3.4s\n",
      "[CV] n_neighbors=87 ..................................................\n",
      "[CV] ...................... n_neighbors=87, score=0.358, total=   3.5s\n",
      "[CV] n_neighbors=87 ..................................................\n",
      "[CV] ...................... n_neighbors=87, score=0.357, total=   3.4s\n",
      "[CV] n_neighbors=88 ..................................................\n",
      "[CV] ...................... n_neighbors=88, score=0.347, total=   3.4s\n",
      "[CV] n_neighbors=88 ..................................................\n",
      "[CV] ...................... n_neighbors=88, score=0.359, total=   3.4s\n",
      "[CV] n_neighbors=88 ..................................................\n",
      "[CV] ...................... n_neighbors=88, score=0.355, total=   3.4s\n",
      "[CV] n_neighbors=88 ..................................................\n",
      "[CV] ...................... n_neighbors=88, score=0.356, total=   3.5s\n",
      "[CV] n_neighbors=88 ..................................................\n",
      "[CV] ...................... n_neighbors=88, score=0.357, total=   3.5s\n",
      "[CV] n_neighbors=89 ..................................................\n",
      "[CV] ...................... n_neighbors=89, score=0.346, total=   3.4s\n",
      "[CV] n_neighbors=89 ..................................................\n",
      "[CV] ...................... n_neighbors=89, score=0.359, total=   3.5s\n",
      "[CV] n_neighbors=89 ..................................................\n",
      "[CV] ...................... n_neighbors=89, score=0.354, total=   3.5s\n",
      "[CV] n_neighbors=89 ..................................................\n",
      "[CV] ...................... n_neighbors=89, score=0.355, total=   3.5s\n",
      "[CV] n_neighbors=89 ..................................................\n",
      "[CV] ...................... n_neighbors=89, score=0.356, total=   3.5s\n",
      "[CV] n_neighbors=90 ..................................................\n",
      "[CV] ...................... n_neighbors=90, score=0.346, total=   3.5s\n",
      "[CV] n_neighbors=90 ..................................................\n",
      "[CV] ...................... n_neighbors=90, score=0.358, total=   3.5s\n",
      "[CV] n_neighbors=90 ..................................................\n",
      "[CV] ...................... n_neighbors=90, score=0.353, total=   3.5s\n",
      "[CV] n_neighbors=90 ..................................................\n",
      "[CV] ...................... n_neighbors=90, score=0.355, total=   3.5s\n",
      "[CV] n_neighbors=90 ..................................................\n",
      "[CV] ...................... n_neighbors=90, score=0.355, total=   3.4s\n",
      "[CV] n_neighbors=91 ..................................................\n",
      "[CV] ...................... n_neighbors=91, score=0.346, total=   3.5s\n",
      "[CV] n_neighbors=91 ..................................................\n",
      "[CV] ...................... n_neighbors=91, score=0.356, total=   3.5s\n",
      "[CV] n_neighbors=91 ..................................................\n",
      "[CV] ...................... n_neighbors=91, score=0.353, total=   3.5s\n",
      "[CV] n_neighbors=91 ..................................................\n",
      "[CV] ...................... n_neighbors=91, score=0.354, total=   3.5s\n",
      "[CV] n_neighbors=91 ..................................................\n",
      "[CV] ...................... n_neighbors=91, score=0.355, total=   3.5s\n",
      "[CV] n_neighbors=92 ..................................................\n",
      "[CV] ...................... n_neighbors=92, score=0.345, total=   3.5s\n",
      "[CV] n_neighbors=92 ..................................................\n",
      "[CV] ...................... n_neighbors=92, score=0.355, total=   3.8s\n",
      "[CV] n_neighbors=92 ..................................................\n",
      "[CV] ...................... n_neighbors=92, score=0.353, total=   3.5s\n",
      "[CV] n_neighbors=92 ..................................................\n",
      "[CV] ...................... n_neighbors=92, score=0.353, total=   3.5s\n",
      "[CV] n_neighbors=92 ..................................................\n",
      "[CV] ...................... n_neighbors=92, score=0.355, total=   3.5s\n",
      "[CV] n_neighbors=93 ..................................................\n",
      "[CV] ...................... n_neighbors=93, score=0.345, total=   3.5s\n",
      "[CV] n_neighbors=93 ..................................................\n",
      "[CV] ...................... n_neighbors=93, score=0.356, total=   3.5s\n",
      "[CV] n_neighbors=93 ..................................................\n",
      "[CV] ...................... n_neighbors=93, score=0.353, total=   3.5s\n",
      "[CV] n_neighbors=93 ..................................................\n",
      "[CV] ...................... n_neighbors=93, score=0.352, total=   3.6s\n",
      "[CV] n_neighbors=93 ..................................................\n",
      "[CV] ...................... n_neighbors=93, score=0.354, total=   3.5s\n",
      "[CV] n_neighbors=94 ..................................................\n",
      "[CV] ...................... n_neighbors=94, score=0.344, total=   3.6s\n",
      "[CV] n_neighbors=94 ..................................................\n",
      "[CV] ...................... n_neighbors=94, score=0.354, total=   3.6s\n",
      "[CV] n_neighbors=94 ..................................................\n",
      "[CV] ...................... n_neighbors=94, score=0.352, total=   3.5s\n",
      "[CV] n_neighbors=94 ..................................................\n",
      "[CV] ...................... n_neighbors=94, score=0.352, total=   3.5s\n",
      "[CV] n_neighbors=94 ..................................................\n",
      "[CV] ...................... n_neighbors=94, score=0.354, total=   3.5s\n",
      "[CV] n_neighbors=95 ..................................................\n",
      "[CV] ...................... n_neighbors=95, score=0.343, total=   3.5s\n",
      "[CV] n_neighbors=95 ..................................................\n",
      "[CV] ...................... n_neighbors=95, score=0.353, total=   3.6s\n",
      "[CV] n_neighbors=95 ..................................................\n",
      "[CV] ...................... n_neighbors=95, score=0.352, total=   3.6s\n",
      "[CV] n_neighbors=95 ..................................................\n",
      "[CV] ...................... n_neighbors=95, score=0.351, total=   3.6s\n",
      "[CV] n_neighbors=95 ..................................................\n",
      "[CV] ...................... n_neighbors=95, score=0.353, total=   3.5s\n",
      "[CV] n_neighbors=96 ..................................................\n",
      "[CV] ...................... n_neighbors=96, score=0.343, total=   3.6s\n",
      "[CV] n_neighbors=96 ..................................................\n",
      "[CV] ...................... n_neighbors=96, score=0.353, total=   3.6s\n",
      "[CV] n_neighbors=96 ..................................................\n"
     ]
    },
    {
     "name": "stdout",
     "output_type": "stream",
     "text": [
      "[CV] ...................... n_neighbors=96, score=0.350, total=   3.6s\n",
      "[CV] n_neighbors=96 ..................................................\n",
      "[CV] ...................... n_neighbors=96, score=0.351, total=   3.7s\n",
      "[CV] n_neighbors=96 ..................................................\n",
      "[CV] ...................... n_neighbors=96, score=0.352, total=   3.6s\n",
      "[CV] n_neighbors=97 ..................................................\n",
      "[CV] ...................... n_neighbors=97, score=0.342, total=   3.6s\n",
      "[CV] n_neighbors=97 ..................................................\n",
      "[CV] ...................... n_neighbors=97, score=0.352, total=   3.7s\n",
      "[CV] n_neighbors=97 ..................................................\n",
      "[CV] ...................... n_neighbors=97, score=0.349, total=   3.6s\n",
      "[CV] n_neighbors=97 ..................................................\n",
      "[CV] ...................... n_neighbors=97, score=0.351, total=   3.6s\n",
      "[CV] n_neighbors=97 ..................................................\n",
      "[CV] ...................... n_neighbors=97, score=0.351, total=   3.6s\n",
      "[CV] n_neighbors=98 ..................................................\n",
      "[CV] ...................... n_neighbors=98, score=0.342, total=   3.6s\n",
      "[CV] n_neighbors=98 ..................................................\n",
      "[CV] ...................... n_neighbors=98, score=0.351, total=   3.7s\n",
      "[CV] n_neighbors=98 ..................................................\n",
      "[CV] ...................... n_neighbors=98, score=0.348, total=   3.7s\n",
      "[CV] n_neighbors=98 ..................................................\n",
      "[CV] ...................... n_neighbors=98, score=0.350, total=   3.7s\n",
      "[CV] n_neighbors=98 ..................................................\n",
      "[CV] ...................... n_neighbors=98, score=0.350, total=   3.6s\n",
      "[CV] n_neighbors=99 ..................................................\n",
      "[CV] ...................... n_neighbors=99, score=0.341, total=   3.6s\n",
      "[CV] n_neighbors=99 ..................................................\n",
      "[CV] ...................... n_neighbors=99, score=0.351, total=   3.7s\n",
      "[CV] n_neighbors=99 ..................................................\n",
      "[CV] ...................... n_neighbors=99, score=0.348, total=   3.8s\n",
      "[CV] n_neighbors=99 ..................................................\n",
      "[CV] ...................... n_neighbors=99, score=0.349, total=   3.7s\n",
      "[CV] n_neighbors=99 ..................................................\n",
      "[CV] ...................... n_neighbors=99, score=0.350, total=   3.6s\n"
     ]
    },
    {
     "name": "stderr",
     "output_type": "stream",
     "text": [
      "[Parallel(n_jobs=1)]: Done 490 out of 490 | elapsed: 21.7min finished\n"
     ]
    },
    {
     "data": {
      "text/plain": [
       "GridSearchCV(cv=5, error_score='raise-deprecating',\n",
       "             estimator=KNeighborsClassifier(algorithm='auto', leaf_size=30,\n",
       "                                            metric='minkowski',\n",
       "                                            metric_params=None, n_jobs=None,\n",
       "                                            n_neighbors=5, p=2,\n",
       "                                            weights='uniform'),\n",
       "             iid='warn', n_jobs=None,\n",
       "             param_grid={'n_neighbors': array([ 2,  3,  4,  5,  6,  7,  8,  9, 10, 11, 12, 13, 14, 15, 16, 17, 18,\n",
       "       19, 20, 21, 22, 23, 24, 25, 26, 27, 28, 29, 30, 31, 32, 33, 34, 35,\n",
       "       36, 37, 38, 39, 40, 41, 42, 43, 44, 45, 46, 47, 48, 49, 50, 51, 52,\n",
       "       53, 54, 55, 56, 57, 58, 59, 60, 61, 62, 63, 64, 65, 66, 67, 68, 69,\n",
       "       70, 71, 72, 73, 74, 75, 76, 77, 78, 79, 80, 81, 82, 83, 84, 85, 86,\n",
       "       87, 88, 89, 90, 91, 92, 93, 94, 95, 96, 97, 98, 99])},\n",
       "             pre_dispatch='2*n_jobs', refit=True, return_train_score=False,\n",
       "             scoring='accuracy', verbose=9)"
      ]
     },
     "execution_count": 694,
     "metadata": {},
     "output_type": "execute_result"
    }
   ],
   "source": [
    "clfk.fit(X,y)"
   ]
  },
  {
   "cell_type": "code",
   "execution_count": 695,
   "metadata": {},
   "outputs": [
    {
     "data": {
      "text/plain": [
       "{'n_neighbors': 2}"
      ]
     },
     "execution_count": 695,
     "metadata": {},
     "output_type": "execute_result"
    }
   ],
   "source": [
    "clfk.best_params_"
   ]
  },
  {
   "cell_type": "code",
   "execution_count": 696,
   "metadata": {},
   "outputs": [
    {
     "data": {
      "text/plain": [
       "0.42162388635483283"
      ]
     },
     "execution_count": 696,
     "metadata": {},
     "output_type": "execute_result"
    }
   ],
   "source": [
    "clfk.best_score_"
   ]
  },
  {
   "cell_type": "code",
   "execution_count": 697,
   "metadata": {},
   "outputs": [],
   "source": [
    "# Load the library\n",
    "from sklearn.svm import SVC\n",
    "# Create an instance of the classifier\n",
    "clf = SVC(kernel=\"linear\",C=10)"
   ]
  },
  {
   "cell_type": "code",
   "execution_count": 698,
   "metadata": {},
   "outputs": [],
   "source": [
    "#cross_val_score(clf,X,y,cv=5,scoring=\"accuracy\").mean()"
   ]
  },
  {
   "cell_type": "code",
   "execution_count": 699,
   "metadata": {},
   "outputs": [],
   "source": [
    "# Dec Tree 75%"
   ]
  },
  {
   "cell_type": "code",
   "execution_count": 700,
   "metadata": {},
   "outputs": [
    {
     "name": "stderr",
     "output_type": "stream",
     "text": [
      "/home/dsc/anaconda3/lib/python3.7/site-packages/sklearn/model_selection/_split.py:1978: FutureWarning: The default value of cv will change from 3 to 5 in version 0.22. Specify it explicitly to silence this warning.\n",
      "  warnings.warn(CV_WARNING, FutureWarning)\n"
     ]
    },
    {
     "data": {
      "text/plain": [
       "GridSearchCV(cv='warn', error_score='raise-deprecating',\n",
       "             estimator=DecisionTreeClassifier(class_weight=None,\n",
       "                                              criterion='gini', max_depth=4,\n",
       "                                              max_features=None,\n",
       "                                              max_leaf_nodes=None,\n",
       "                                              min_impurity_decrease=0.0,\n",
       "                                              min_impurity_split=None,\n",
       "                                              min_samples_leaf=16,\n",
       "                                              min_samples_split=2,\n",
       "                                              min_weight_fraction_leaf=0.0,\n",
       "                                              presort=False, random_state=None,\n",
       "                                              splitter='best'),\n",
       "             iid='warn', n_jobs=None,\n",
       "             param_grid={'max_depth': [3, 4, 5, 9],\n",
       "                         'min_samples_leaf': [4, 8, 16, 32]},\n",
       "             pre_dispatch='2*n_jobs', refit=True, return_train_score=False,\n",
       "             scoring=None, verbose=0)"
      ]
     },
     "execution_count": 700,
     "metadata": {},
     "output_type": "execute_result"
    }
   ],
   "source": [
    "# Import Library\n",
    "from sklearn.tree import DecisionTreeClassifier\n",
    "# Create instance\n",
    "clf1 = DecisionTreeClassifier(min_samples_leaf=16,max_depth=4)\n",
    "clf = GridSearchCV(clf1,param_grid={\"min_samples_leaf\":[4,8,16,32],\n",
    "                                   \"max_depth\":[3,4,5,9]})\n",
    "# Fit\n",
    "clf.fit(X,y)"
   ]
  },
  {
   "cell_type": "code",
   "execution_count": 701,
   "metadata": {},
   "outputs": [
    {
     "data": {
      "text/plain": [
       "0.9875809294935138"
      ]
     },
     "execution_count": 701,
     "metadata": {},
     "output_type": "execute_result"
    }
   ],
   "source": [
    "clf.best_score_"
   ]
  },
  {
   "cell_type": "code",
   "execution_count": 702,
   "metadata": {},
   "outputs": [],
   "source": [
    "import pickle"
   ]
  },
  {
   "cell_type": "code",
   "execution_count": 703,
   "metadata": {},
   "outputs": [],
   "source": [
    "pickle.dump(clf,open(\"modelo.pkl\",\"wb\"))"
   ]
  },
  {
   "cell_type": "code",
   "execution_count": 704,
   "metadata": {},
   "outputs": [],
   "source": [
    "# REcuperado"
   ]
  },
  {
   "cell_type": "code",
   "execution_count": 705,
   "metadata": {},
   "outputs": [],
   "source": [
    "clf_loaded = pickle.load(open(\"modelo.pkl\",\"rb\"))"
   ]
  },
  {
   "cell_type": "code",
   "execution_count": 706,
   "metadata": {},
   "outputs": [
    {
     "data": {
      "text/plain": [
       "GridSearchCV(cv='warn', error_score='raise-deprecating',\n",
       "             estimator=DecisionTreeClassifier(class_weight=None,\n",
       "                                              criterion='gini', max_depth=4,\n",
       "                                              max_features=None,\n",
       "                                              max_leaf_nodes=None,\n",
       "                                              min_impurity_decrease=0.0,\n",
       "                                              min_impurity_split=None,\n",
       "                                              min_samples_leaf=16,\n",
       "                                              min_samples_split=2,\n",
       "                                              min_weight_fraction_leaf=0.0,\n",
       "                                              presort=False, random_state=None,\n",
       "                                              splitter='best'),\n",
       "             iid='warn', n_jobs=None,\n",
       "             param_grid={'max_depth': [3, 4, 5, 9],\n",
       "                         'min_samples_leaf': [4, 8, 16, 32]},\n",
       "             pre_dispatch='2*n_jobs', refit=True, return_train_score=False,\n",
       "             scoring=None, verbose=0)"
      ]
     },
     "execution_count": 706,
     "metadata": {},
     "output_type": "execute_result"
    }
   ],
   "source": [
    "clf_loaded"
   ]
  },
  {
   "cell_type": "code",
   "execution_count": 707,
   "metadata": {},
   "outputs": [],
   "source": [
    "from sklearn.ensemble import VotingClassifier"
   ]
  },
  {
   "cell_type": "code",
   "execution_count": 708,
   "metadata": {},
   "outputs": [],
   "source": [
    "clf = VotingClassifier(estimators=[(\"dectree\",clf_loaded),(\"log\",LogisticRegression())])"
   ]
  },
  {
   "cell_type": "code",
   "execution_count": 709,
   "metadata": {},
   "outputs": [
    {
     "name": "stderr",
     "output_type": "stream",
     "text": [
      "/home/dsc/anaconda3/lib/python3.7/site-packages/sklearn/model_selection/_split.py:1978: FutureWarning: The default value of cv will change from 3 to 5 in version 0.22. Specify it explicitly to silence this warning.\n",
      "  warnings.warn(CV_WARNING, FutureWarning)\n",
      "/home/dsc/anaconda3/lib/python3.7/site-packages/sklearn/model_selection/_split.py:1978: FutureWarning: The default value of cv will change from 3 to 5 in version 0.22. Specify it explicitly to silence this warning.\n",
      "  warnings.warn(CV_WARNING, FutureWarning)\n",
      "/home/dsc/anaconda3/lib/python3.7/site-packages/sklearn/linear_model/logistic.py:432: FutureWarning: Default solver will be changed to 'lbfgs' in 0.22. Specify a solver to silence this warning.\n",
      "  FutureWarning)\n",
      "/home/dsc/anaconda3/lib/python3.7/site-packages/sklearn/linear_model/logistic.py:469: FutureWarning: Default multi_class will be changed to 'auto' in 0.22. Specify the multi_class option to silence this warning.\n",
      "  \"this warning.\", FutureWarning)\n",
      "/home/dsc/anaconda3/lib/python3.7/site-packages/sklearn/model_selection/_split.py:1978: FutureWarning: The default value of cv will change from 3 to 5 in version 0.22. Specify it explicitly to silence this warning.\n",
      "  warnings.warn(CV_WARNING, FutureWarning)\n",
      "/home/dsc/anaconda3/lib/python3.7/site-packages/sklearn/linear_model/logistic.py:432: FutureWarning: Default solver will be changed to 'lbfgs' in 0.22. Specify a solver to silence this warning.\n",
      "  FutureWarning)\n",
      "/home/dsc/anaconda3/lib/python3.7/site-packages/sklearn/linear_model/logistic.py:469: FutureWarning: Default multi_class will be changed to 'auto' in 0.22. Specify the multi_class option to silence this warning.\n",
      "  \"this warning.\", FutureWarning)\n",
      "/home/dsc/anaconda3/lib/python3.7/site-packages/sklearn/model_selection/_split.py:1978: FutureWarning: The default value of cv will change from 3 to 5 in version 0.22. Specify it explicitly to silence this warning.\n",
      "  warnings.warn(CV_WARNING, FutureWarning)\n",
      "/home/dsc/anaconda3/lib/python3.7/site-packages/sklearn/linear_model/logistic.py:432: FutureWarning: Default solver will be changed to 'lbfgs' in 0.22. Specify a solver to silence this warning.\n",
      "  FutureWarning)\n",
      "/home/dsc/anaconda3/lib/python3.7/site-packages/sklearn/linear_model/logistic.py:469: FutureWarning: Default multi_class will be changed to 'auto' in 0.22. Specify the multi_class option to silence this warning.\n",
      "  \"this warning.\", FutureWarning)\n"
     ]
    },
    {
     "data": {
      "text/plain": [
       "0.8413783866909963"
      ]
     },
     "execution_count": 709,
     "metadata": {},
     "output_type": "execute_result"
    }
   ],
   "source": [
    "cross_val_score(clf,X,y,scoring=\"accuracy\").mean()"
   ]
  },
  {
   "cell_type": "code",
   "execution_count": 710,
   "metadata": {},
   "outputs": [],
   "source": [
    "from sklearn.ensemble import BaggingClassifier"
   ]
  },
  {
   "cell_type": "code",
   "execution_count": 711,
   "metadata": {},
   "outputs": [],
   "source": [
    "clf=BaggingClassifier(base_estimator=KNeighborsClassifier(n_neighbors=14),n_estimators=100,oob_score=True)"
   ]
  },
  {
   "cell_type": "code",
   "execution_count": 712,
   "metadata": {},
   "outputs": [
    {
     "data": {
      "text/plain": [
       "BaggingClassifier(base_estimator=KNeighborsClassifier(algorithm='auto',\n",
       "                                                      leaf_size=30,\n",
       "                                                      metric='minkowski',\n",
       "                                                      metric_params=None,\n",
       "                                                      n_jobs=None,\n",
       "                                                      n_neighbors=14, p=2,\n",
       "                                                      weights='uniform'),\n",
       "                  bootstrap=True, bootstrap_features=False, max_features=1.0,\n",
       "                  max_samples=1.0, n_estimators=100, n_jobs=None,\n",
       "                  oob_score=True, random_state=None, verbose=0,\n",
       "                  warm_start=False)"
      ]
     },
     "execution_count": 712,
     "metadata": {},
     "output_type": "execute_result"
    }
   ],
   "source": [
    "clf.fit(X,y)"
   ]
  },
  {
   "cell_type": "code",
   "execution_count": 1,
   "metadata": {},
   "outputs": [
    {
     "ename": "NameError",
     "evalue": "name 'cross_val_score' is not defined",
     "output_type": "error",
     "traceback": [
      "\u001b[0;31m---------------------------------------------------------------------------\u001b[0m",
      "\u001b[0;31mNameError\u001b[0m                                 Traceback (most recent call last)",
      "\u001b[0;32m<ipython-input-1-7f7c86e06726>\u001b[0m in \u001b[0;36m<module>\u001b[0;34m\u001b[0m\n\u001b[0;32m----> 1\u001b[0;31m \u001b[0mcross_val_score\u001b[0m\u001b[0;34m(\u001b[0m\u001b[0mclf\u001b[0m\u001b[0;34m,\u001b[0m\u001b[0mX\u001b[0m\u001b[0;34m,\u001b[0m\u001b[0my\u001b[0m\u001b[0;34m,\u001b[0m\u001b[0mscoring\u001b[0m\u001b[0;34m=\u001b[0m\u001b[0;34m\"accuracy\"\u001b[0m\u001b[0;34m)\u001b[0m\u001b[0;34m.\u001b[0m\u001b[0mmean\u001b[0m\u001b[0;34m(\u001b[0m\u001b[0;34m)\u001b[0m\u001b[0;34m\u001b[0m\u001b[0;34m\u001b[0m\u001b[0m\n\u001b[0m",
      "\u001b[0;31mNameError\u001b[0m: name 'cross_val_score' is not defined"
     ]
    }
   ],
   "source": [
    "cross_val_score(clf,X,y,scoring=\"accuracy\").mean()"
   ]
  },
  {
   "cell_type": "code",
   "execution_count": 36,
   "metadata": {},
   "outputs": [
    {
     "data": {
      "text/plain": [
       "0.7526041666666666"
      ]
     },
     "execution_count": 36,
     "metadata": {},
     "output_type": "execute_result"
    }
   ],
   "source": [
    "clf.oob_score_"
   ]
  },
  {
   "cell_type": "code",
   "execution_count": null,
   "metadata": {},
   "outputs": [],
   "source": []
  },
  {
   "cell_type": "code",
   "execution_count": null,
   "metadata": {},
   "outputs": [],
   "source": []
  },
  {
   "cell_type": "code",
   "execution_count": null,
   "metadata": {},
   "outputs": [],
   "source": []
  },
  {
   "cell_type": "code",
   "execution_count": null,
   "metadata": {},
   "outputs": [],
   "source": []
  }
 ],
 "metadata": {
  "kernelspec": {
   "display_name": "Python 3",
   "language": "python",
   "name": "python3"
  },
  "language_info": {
   "codemirror_mode": {
    "name": "ipython",
    "version": 3
   },
   "file_extension": ".py",
   "mimetype": "text/x-python",
   "name": "python",
   "nbconvert_exporter": "python",
   "pygments_lexer": "ipython3",
   "version": "3.7.3"
  }
 },
 "nbformat": 4,
 "nbformat_minor": 2
}
